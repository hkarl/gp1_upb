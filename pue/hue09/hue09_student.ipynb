{
 "cells": [
  {
   "cell_type": "markdown",
   "metadata": {
    "nbgrader": {
     "grade": true,
     "grade_id": "matrikel",
     "locked": false,
     "points": 0,
     "solution": true
    },
    "slideshow": {
     "slide_type": "skip"
    }
   },
   "source": [
    "Bitte hier eintragen (s.u)!"
   ]
  },
  {
   "cell_type": "markdown",
   "metadata": {
    "nbgrader": {
     "grade": false,
     "grade_id": "matrikel_info",
     "locked": true,
     "solution": false
    },
    "slideshow": {
     "slide_type": "skip"
    }
   },
   "source": [
    "# Abgabehinweise \n",
    "\n",
    "Beachten Sie unbedingt diese Hinweise, sonst erhalten Sie keine Punkte aus dieser Abgabe! Für Details siehe z.B. [Folien der nullten Zentralübung](http://groups.uni-paderborn.de/fg-karl/lehre/ws1617/gp1/hue/gp1-zue0.pdf)\n",
    "\n",
    "## Namen und Matrikelnummern \n",
    "\n",
    "Tragen Sie Ihre Matrikelnummern und E-Mail-Adressen *zeilenweise* in die Zelle **oberhalb** dieser Zelle ein.\n",
    "Achten Sie dabei streng auf die Formatierung, denn die Auswertung erfolgt automatisch. \n",
    "Benutzen Sie *keine* Leerzeilen.\n",
    "Zwischen Matrikelnummer und E-Mail-Adresse *muss genau ein* Leerzeichen stehen; sonst keine Leerzeichen, Tabs, Spiegelstriche, oder ähnliches in einer Zeile. Wir empfehlen *dringend* die Benutzung der Uni-Paderborn E-Mail-Adressen! \n",
    "\n",
    "<!--- Wenn Sie diese Ansicht verwenden (was Sie nicht tun sollten; klicken Sie am besten einmal auf \"Run cell\"), dann steht die Formatierung hier richtig:\n",
    "\n",
    "Format:\n",
    "\n",
    "MatrikelNummer E-Mail-Adresse\n",
    "MatrikelNummer2 E-Mail-Adresse2\n",
    "\n",
    "z.B.:\n",
    "\n",
    "123456 testStudent@mail.upb.de\n",
    "234567 testStudent2@mail.upb.de\n",
    "345678 vorname.nachname@mail.upb.de\n",
    "\n",
    "... und nicht hier: -->\n",
    "\n",
    "Format:\n",
    "\n",
    "MatrikelNummer E-Mail-Adresse\n",
    "<br \\>\n",
    "MatrikelNummer2 E-Mail-Adresse2\n",
    "\n",
    "z.B.:\n",
    "\n",
    "123456 testStudent@mail.upb.de\n",
    "<br \\>\n",
    "234567 testStudent2@mail.upb.de\n",
    "<br \\>\n",
    "345678 vorname.nachname@mail.upb.de\n",
    "\n",
    "Hinweis: Wenn Sie das so in die obere Zelle eingeben, wird in der ausgeführten Markdownzelle (Strg+Enter) alles in einer Zeile angezeigt. Das ist egal; wichtig ist Formatierung der Eingabe.\n",
    "\n",
    "\n",
    "## Abgabe mit Gruppenaccount \n",
    "\n",
    "Die Abgabe muss mit Ihrem *Gruppenaccount* erfolgen (gp1\\_16\\_...), den Sie in der Präsenzübung erhalten haben! Abgaben, die über Ihren Einzelaccount erfolgen, werden ignoriert. \n",
    "\n",
    "## Abgabe: Submit \n",
    "\n",
    "Es reicht nicht, nur das Übungsblatt zu verändern. Sie müssen unter *Assignments* auf *Submit* clicken (oder entsprechend über die Kommandozeile), für das entsprechende Übungsblatt! (Wenn Sie Blatt 9 abgeben wolllen hilft es nicht, bei Blatt 1 auf Submit zu drücken!) Für Details siehe Beschreibung Abgabeprozess. \n",
    "\n",
    "## Dateinamen\n",
    "\n",
    "Geben Sie Ihre Lösung in der vom Server erhaltenen Datei hue09.ipynb ab (nicht umbenennen, keine Kopie erstellen, keine anderen Dateien in das Verzeichnis legen, auch nicht Dateiname hue9.ipynb !). Sonst kann eine Bewertung nicht stattfinden.\n",
    "\n",
    "## Struktur des Notebooks \n",
    "\n",
    "Fügen Sie keine Zellen hinzu und löschen Sie keine Zellen.\n",
    "Ändern Sie nicht den Typ einer Zelle.\n",
    "Geben Sie Lösungen nur in den Lösungszellen ab. Änderungen in den anderen Zellen werden nach Abgabe automatisch rückgängig gemacht.\n",
    "\n",
    "## Code-Zellen \n",
    "\n",
    "Entfernen Sie die Zeilen mit Inhalt \"raise NotImplementedError()\" aus den Zellen, in die Sie Ihre Lösungen schreiben. *Ersetzen* Sie diese Zeilen durch Ihre eigene Lösungen. \n",
    "\n",
    "## Nie ```input```\n",
    "\n",
    "Benutzen Sie *niemals* die Funktion `input()`. Das verhindert die automatische Auswertung Ihrer Abgabe und führt zu 0 Punkten für das gesamte Blatt! \n",
    "\n",
    "## Kommentare \n",
    "\n",
    "Kommentieren Sie Code-Abgaben! Insbesondere *muss* jede Funktion (Klasse, Methode, ...) einen sinnvollen ```docstring``` haben! Bei fehlendem docstring werden automatisch Punkte abgezogen! \n",
    "\n",
    "\n",
    "# Abgabetermin: 15.1.2017 um 23:59 Uhr"
   ]
  },
  {
   "cell_type": "markdown",
   "metadata": {
    "nbgrader": {
     "grade": false,
     "grade_id": "exceptions_desc_1_1",
     "locked": true,
     "solution": false
    }
   },
   "source": [
    "# Aufgabe 1: Exceptions\n",
    "## a)\n",
    "Gegeben ist das (sinnfreie) Programm in der nachfolgenden Codezelle (die Kommentierung wurde aufgrund der Sinnfreiheit des Programms ausgelassen).\n",
    "Begründen Sie für jede `print`-Anweisung (`print('1')` bis `print('8')`), warum diese ausgeführt wird, oder warum nicht."
   ]
  },
  {
   "cell_type": "code",
   "execution_count": null,
   "metadata": {
    "collapsed": false,
    "nbgrader": {
     "grade": false,
     "grade_id": "exceptions_desc_1_2",
     "locked": true,
     "solution": false
    }
   },
   "outputs": [],
   "source": [
    "def func(x, y):\n",
    "    try:\n",
    "        r = x / y\n",
    "    except ZeroDivisionError:\n",
    "        print('1')\n",
    "    else:\n",
    "        try:\n",
    "            print('2', result)\n",
    "        except NameError:\n",
    "            print('3')\n",
    "    finally:\n",
    "        print('4')\n",
    "        raise NameError()\n",
    "\n",
    "\n",
    "try:\n",
    "    func(2, 1)\n",
    "except ZeroDivisionError:\n",
    "    print('5')\n",
    "except NameError:\n",
    "    print('6')\n",
    "else:\n",
    "    print('7', r)\n",
    "finally:\n",
    "    print('8')"
   ]
  },
  {
   "cell_type": "markdown",
   "metadata": {
    "nbgrader": {
     "grade": true,
     "grade_id": "exceptions_sol_1",
     "locked": false,
     "points": 2,
     "solution": true
    }
   },
   "source": [
    "YOUR ANSWER HERE"
   ]
  },
  {
   "cell_type": "markdown",
   "metadata": {
    "nbgrader": {
     "grade": false,
     "grade_id": "exception_desc_2",
     "locked": true,
     "solution": false
    }
   },
   "source": [
    "## b)\n",
    "Schreiben Sie Funktionen `f`, `g` und `h`, welche die jeweiligen Fehler werfen, die in den Tests gefangen werden sollen. Es ist ihnen nicht gestattet den Befehl `raise` zu verwenden.   \n",
    "*Tipp*: Informieren Sie sich über die einzelnen Fehler in der Python-Dokumentation."
   ]
  },
  {
   "cell_type": "code",
   "execution_count": null,
   "metadata": {
    "collapsed": false,
    "nbgrader": {
     "grade": false,
     "grade_id": "exception_sol_2",
     "locked": false,
     "solution": true
    }
   },
   "outputs": [],
   "source": [
    "# YOUR CODE HERE\n",
    "raise NotImplementedError()\n",
    "\n",
    "# YOUR CODE HERE\n",
    "raise NotImplementedError()\n",
    "\n",
    "# YOUR CODE HERE\n",
    "raise NotImplementedError()"
   ]
  },
  {
   "cell_type": "code",
   "execution_count": null,
   "metadata": {
    "collapsed": false,
    "nbgrader": {
     "grade": true,
     "grade_id": "exception_test_2_1",
     "locked": true,
     "points": 1,
     "solution": false
    }
   },
   "outputs": [],
   "source": [
    "# Diese Zelle bitte unverändert lassen!\n",
    "try:\n",
    "    f()\n",
    "    assert(False) # Darf nicht ausgeführt werden!\n",
    "except KeyError:\n",
    "    assert(True) # Muss ausgeführt werden!"
   ]
  },
  {
   "cell_type": "code",
   "execution_count": null,
   "metadata": {
    "collapsed": false,
    "nbgrader": {
     "grade": true,
     "grade_id": "exception_test_2_2",
     "locked": true,
     "points": 1,
     "solution": false
    }
   },
   "outputs": [],
   "source": [
    "# Diese Zelle bitte unverändert lassen!\n",
    "try:\n",
    "    g()\n",
    "    assert(False) # Darf nicht ausgeführt werden!\n",
    "except TypeError:\n",
    "    assert(True) # Muss ausgeführt werden!"
   ]
  },
  {
   "cell_type": "code",
   "execution_count": null,
   "metadata": {
    "collapsed": false,
    "nbgrader": {
     "grade": true,
     "grade_id": "exception_test_2_3",
     "locked": true,
     "points": 1,
     "solution": false
    }
   },
   "outputs": [],
   "source": [
    "# Diese Zelle bitte unverändert lassen!\n",
    "try:\n",
    "    h()\n",
    "    assert(False) # Darf nicht ausgeführt werden!\n",
    "except RecursionError:\n",
    "    assert(True) # Muss ausgeführt werden!"
   ]
  },
  {
   "cell_type": "markdown",
   "metadata": {
    "nbgrader": {
     "grade": false,
     "grade_id": "exception_desc_3_1",
     "locked": true,
     "solution": false
    }
   },
   "source": [
    "## c)\n",
    "Vereinfachen Sie das folgende Programm mit Hilfe von `try`/`except`.\n",
    "Schreiben Sie dazu Ihren Code in eine Funktion namens `print_object_einfach(o)`.\n",
    "Diese soll dieselbe Funktionalität wie `print_object(o)` haben."
   ]
  },
  {
   "cell_type": "code",
   "execution_count": null,
   "metadata": {
    "collapsed": true,
    "nbgrader": {
     "grade": false,
     "grade_id": "exception_desc_3_2",
     "locked": true,
     "solution": false
    }
   },
   "outputs": [],
   "source": [
    "def print_object(o):\n",
    "    \"\"\"Gibt das Objekt auf der Konsole aus, falls es mit print ausgegeben werden kann, ansonsten wird 'unprintable object'\n",
    "    auf der Konsole ausgegeben.\n",
    "    \n",
    "    Args:\n",
    "        o: Das auszugebende Objekt\n",
    "    \"\"\"\n",
    "    if isinstance(o, str):\n",
    "        print(o)\n",
    "    elif isinstance(o, dict):\n",
    "        print(o)\n",
    "    elif isinstance(o, list):\n",
    "        print(o)\n",
    "    # 97 elifs später...\n",
    "    else:\n",
    "        print(\"unprintable object\")"
   ]
  },
  {
   "cell_type": "code",
   "execution_count": null,
   "metadata": {
    "collapsed": true,
    "nbgrader": {
     "grade": true,
     "grade_id": "exception_sol_3",
     "locked": false,
     "points": 2,
     "solution": true
    }
   },
   "outputs": [],
   "source": [
    "def print_object_einfach(o):\n",
    "    # YOUR CODE HERE\n",
    "    raise NotImplementedError()"
   ]
  },
  {
   "cell_type": "markdown",
   "metadata": {
    "nbgrader": {
     "grade": false,
     "grade_id": "exception_desc_4",
     "locked": true,
     "solution": false
    }
   },
   "source": [
    "## d)\n",
    "Schreiben Sie eine Funktion `verarbeite_eingabe(zahl, von, bis)`, welche überprüft, ob die Zahl `zahl` sich im Interval `[von, bis]` befindet.\n",
    "Ist dies der Fall, dann soll die Zahl auf der Konsole ausgegeben werden.\n",
    "Sollte dies nicht der Fall sein, so soll ein `BereichsError` geworfen werden, welcher die Zahl `zahl`, sowie die Intervallgrenzen speichert.\n",
    "Erstellen Sie dazu eine eigene Exception `BereichsError`, welche Sie dann mit `raise` werfen können.    "
   ]
  },
  {
   "cell_type": "code",
   "execution_count": null,
   "metadata": {
    "collapsed": false,
    "nbgrader": {
     "grade": false,
     "grade_id": "exception_sol_4",
     "locked": false,
     "points": 3,
     "solution": true
    }
   },
   "outputs": [],
   "source": [
    "### BEGIN SOLUTION\n",
    "# YOUR CODE HERE\n",
    "raise NotImplementedError()\n",
    "### END SOLUTION"
   ]
  },
  {
   "cell_type": "code",
   "execution_count": null,
   "metadata": {
    "collapsed": false,
    "nbgrader": {
     "grade": true,
     "grade_id": "exception_test_4",
     "locked": true,
     "points": 2,
     "solution": false
    }
   },
   "outputs": [],
   "source": [
    "# Diese Zelle bitte unverändert lassen!\n",
    "try:\n",
    "    verarbeite_eingabe(101, 1, 100)\n",
    "    assert(False) # Darf nicht ausgeführt werden!\n",
    "except BereichsError:\n",
    "    assert(True) # Muss ausgeführt werden!"
   ]
  },
  {
   "cell_type": "markdown",
   "metadata": {
    "nbgrader": {
     "grade": false,
     "grade_id": "exception_desc_5",
     "locked": true,
     "solution": false
    }
   },
   "source": [
    "## e)\n",
    "Rufen Sie nun die Funktion `verarbeite_eingabe` testweise zweimal auf: Der erste Aufruf soll keinen `BereichsError` werfen, der zweite jedoch schon.\n",
    "Fangen Sie den `BereichsError` mithilfe eines `try`/`except`-Block ab.   "
   ]
  },
  {
   "cell_type": "code",
   "execution_count": null,
   "metadata": {
    "collapsed": false,
    "nbgrader": {
     "grade": true,
     "grade_id": "exception_sol_5",
     "locked": false,
     "points": 1,
     "solution": true
    }
   },
   "outputs": [],
   "source": [
    "# YOUR CODE HERE\n",
    "raise NotImplementedError()"
   ]
  },
  {
   "cell_type": "markdown",
   "metadata": {
    "nbgrader": {
     "grade": false,
     "grade_id": "properties_desc_1",
     "locked": true,
     "solution": false
    }
   },
   "source": [
    "# Aufgabe 2: Uhr mit Properties\n",
    "Schreiben Sie eine Klasse `Uhr`, welche über Properties `minuten` und `stunden` verfügen soll.\n",
    "Implementieren Sie dazu die jeweiligen getter/setter-Methoden und verwenden Sie diese als Properties für die Attribute `minuten` bzw. `stunden`.\n",
    "Bedenken Sie dazu, dass ein Setzen der Minuten (60 Minuten sind eine Stunde!) auch eventuell eine Erhöhung der Stunden implizieren kann.\n",
    "Insbesondere sollen in der Property `minuten` nur Zahlen zwischen `0` und `59` gespeichert werden.\n",
    "Sobald die Stunden `23` betragen und um eins erhöht werden, sollen sie wieder auf `0` zurückgesetzt werden.\n",
    "Implementieren Sie außerdem eine Methode `tic(self)`, welche den Minutenzähler der Uhr um `1` erhöht.\n",
    "Zu Beginn sollen sowohl Stunden- als auch Minutenzähler auf 0 gestellt werden."
   ]
  },
  {
   "cell_type": "code",
   "execution_count": null,
   "metadata": {
    "collapsed": true,
    "nbgrader": {
     "grade": false,
     "grade_id": "properties_sol_1",
     "locked": false,
     "solution": true
    }
   },
   "outputs": [],
   "source": [
    "class Uhr:\n",
    "    # YOUR CODE HERE\n",
    "    raise NotImplementedError()"
   ]
  },
  {
   "cell_type": "code",
   "execution_count": null,
   "metadata": {
    "collapsed": false,
    "nbgrader": {
     "grade": true,
     "grade_id": "properties_test_1",
     "locked": true,
     "points": 3,
     "solution": false
    }
   },
   "outputs": [],
   "source": [
    "# Diese Zelle bitte unverändert lassen!\n",
    "c = Uhr()\n",
    "\n",
    "assert(c.minuten == 0 and c.stunden == 0) # Zu Beginn: Stunden- und Minutenzähler auf 0\n",
    "\n",
    "for i in range(24):\n",
    "    assert(c.stunden == i)\n",
    "    for j in range(60):\n",
    "        assert(c.stunden == i and c.minuten == j)\n",
    "        c.tic()\n",
    "\n",
    "assert(c.minuten == 0 and c.stunden == 0)"
   ]
  },
  {
   "cell_type": "markdown",
   "metadata": {
    "nbgrader": {
     "grade": false,
     "grade_id": "schach_desc",
     "locked": true,
     "solution": false
    },
    "slideshow": {
     "slide_type": "slide"
    }
   },
   "source": [
    "# Aufgabe 3: Schach\n",
    "In dieser Aufgabe sollen Sie eine einfache Version eines Schachspiels implementieren.\n",
    "Die Klassen `Feld` und `Figur` sind Ihnen dazu bereits vorgegeben.   \n",
    "\n",
    "*Hinweis*: Die in dieses Notebook eingebundenen Bilder werden Ihnen nur angezeigt, wenn Sie mit dem Internet verbunden sind.\n",
    "\n",
    "## a)\n",
    "Schreiben Sie eine Klasse `Schachbrett`, welche die folgenden Anforderungen erfüllt:\n",
    " - Im Konstruktor soll ein Spielfeld aus 64 Feldern (8x8, 8 Zeilen und 8 Spalten, siehe Bild, siehe Tests) anlegt werden.\n",
    "![Imgur](http://groups.uni-paderborn.de/fg-ti/teaching/gp1/brett.png)\n",
    "\n",
    " - `get_feld(x,y)`: Liefert das Objekt der Klasse `Feld`, welches die übergebenen Koordinaten hat. Falls `x` oder `y` keine korrekten Koordinaten sind (d.h. `not x in range(1,9)` oder `not y in range(1,9)`), dann soll ein `ValueError` geworfen werden.\n",
    " - `setze_figur(figur, x, y)`: Setzt die übergebene Figur auf das Feld mit den übergebenen Koordinaten. Sie können davon ausgehen, dass das Feld nicht besetzt ist und die Figur vorher auf keinem Feld gestanden hat. Beachten Sie, dass die Beziehung zwischen `Feld` und `Figur` bidirektional sein soll, d.h. sobald das Attribut `feld` einer Figur verändert wird, muss auch das Attribut `figur` des entsprechenden Feldes geändert werden und umgekehrt (siehe Tests)."
   ]
  },
  {
   "cell_type": "code",
   "execution_count": null,
   "metadata": {
    "collapsed": false,
    "nbgrader": {
     "grade": false,
     "grade_id": "schach_code",
     "locked": true,
     "solution": false
    },
    "slideshow": {
     "slide_type": "fragment"
    }
   },
   "outputs": [],
   "source": [
    "class Feld:\n",
    "    \"\"\"Ein einzelnes Feld eines Schachbretts\"\"\"\n",
    "    \n",
    "    def __init__(self, koordinaten):\n",
    "        \"\"\"Konstruktor\"\"\"\n",
    "        self.koordinaten = koordinaten\n",
    "        self.figur = None\n",
    "    \n",
    "    def __eq__(self, feld):\n",
    "        \"\"\"Zum Vergleich mit anderem Feld\"\"\"\n",
    "        return feld.koordinaten[0] == self.koordinaten[0] and feld.koordinaten[1] == self.koordinaten[1]\n",
    "    \n",
    "class Figur:\n",
    "    \"\"\"Eine Figur, welche eine Farbe hat und auf einem Feld des Schachbrettes stehen kann.\"\"\"\n",
    "    \n",
    "    def __init__(self, color):\n",
    "        \"\"\"Konstruktor\"\"\"\n",
    "        self.feld = None\n",
    "        self.color = color\n",
    "        \n",
    "    def berechne_zuege(self, brett):\n",
    "        \"\"\"Liefert eine Liste mit Feldern, welche alle Felder enthält, auf die sich die Figur ausgehend von ihrer \n",
    "        aktuellen Position in einem Zug bewegen kann. Muss von erbenden Klassen überschrieben werden!\"\"\"\n",
    "        pass"
   ]
  },
  {
   "cell_type": "code",
   "execution_count": null,
   "metadata": {
    "collapsed": false,
    "nbgrader": {
     "grade": false,
     "grade_id": "schach_sol_1",
     "locked": false,
     "solution": true
    },
    "scrolled": true
   },
   "outputs": [],
   "source": [
    "class Schachbrett:\n",
    "    # YOUR CODE HERE\n",
    "    raise NotImplementedError()\n"
   ]
  },
  {
   "cell_type": "code",
   "execution_count": null,
   "metadata": {
    "collapsed": false,
    "nbgrader": {
     "grade": true,
     "grade_id": "schach_test_1",
     "locked": true,
     "points": 2,
     "solution": false
    }
   },
   "outputs": [],
   "source": [
    "# Diese Zelle bitte unverändert lassen!\n",
    "s = Schachbrett()\n",
    "for i in range(1,9):\n",
    "    for j in range(1,9):\n",
    "        feld = s.get_feld(i,j)\n",
    "        assert(feld.koordinaten[0] == i and feld.koordinaten[1] == j)\n",
    "\n",
    "# Tests falsche Koordinaten in get_feld:\n",
    "try:\n",
    "    s.get_feld(0,1)\n",
    "    assert(False)\n",
    "except ValueError:\n",
    "    assert(True)\n",
    "    \n",
    "k = Figur(\"white\")\n",
    "s.setze_figur(k, 4, 5)\n",
    "assert(s.get_feld(4, 5).figur == k and k.feld == s.get_feld(4, 5))"
   ]
  },
  {
   "cell_type": "markdown",
   "metadata": {
    "nbgrader": {
     "grade": false,
     "grade_id": "schach_desc_2",
     "locked": true,
     "solution": false
    }
   },
   "source": [
    "## b)\n",
    "Schreiben Sie eine Klasse `Koenig`, welche von der Klasse `Figur` erbt.\n",
    "Diese Klasse soll die Methode `berechne_zuege` der Klasse `Figur` überschreiben.\n",
    "Die Methode `berechne_zuege` soll eine Liste zurückgeben, welche alle Felder enthält, auf die sich der König ausgehend von seiner aktuellen Position in einem Zug bewegen kann.\n",
    "Gehen Sie davon aus, dass alle anderen 63 Felder nicht mit anderen Figuren belegt sind.\n",
    "\n",
    "\n",
    "Hinweis: Der König kann sich im Schach immer nur um ein Feld weiter bewegen, allerdings in jede beliebige Richtung: Nach oben, unten, links, rechts oder in die Diagonalen (wir ignorieren hier die Möglichkeit der Rochade!).   \n",
    "Beispiel: Das nachfolgende Bild gibt die möglichen Züge des Königs an, wenn dieser sich auf dem Feld mit den Koordinaten (5,4) befindet.\n",
    " ![Imgur](http://groups.uni-paderborn.de/fg-ti/teaching/gp1/koenig.png)\n",
    "Beachten Sie Randfälle."
   ]
  },
  {
   "cell_type": "code",
   "execution_count": null,
   "metadata": {
    "collapsed": true,
    "nbgrader": {
     "grade": false,
     "grade_id": "schach_sol_2",
     "locked": false,
     "solution": true
    }
   },
   "outputs": [],
   "source": [
    "# YOUR CODE HERE\n",
    "raise NotImplementedError()"
   ]
  },
  {
   "cell_type": "code",
   "execution_count": null,
   "metadata": {
    "collapsed": false,
    "nbgrader": {
     "grade": true,
     "grade_id": "schach_test_2",
     "locked": true,
     "points": 2,
     "solution": false
    }
   },
   "outputs": [],
   "source": [
    "# Diese Zelle bitte unverändert lassen!\n",
    "s = Schachbrett()\n",
    "k = Koenig(\"white\")\n",
    "s.setze_figur(k, 5, 4)\n",
    "felder = k.berechne_zuege(s)\n",
    "assert(s.get_feld(5, 3) in felder)\n",
    "assert(s.get_feld(5, 5) in felder)\n",
    "assert(s.get_feld(6, 3) in felder)\n",
    "assert(s.get_feld(6, 4) in felder)\n",
    "assert(s.get_feld(6, 5) in felder)\n",
    "assert(s.get_feld(4, 4) in felder)\n",
    "assert(s.get_feld(4, 5) in felder)\n",
    "assert(s.get_feld(4, 3) in felder)\n",
    "assert(len(felder) == 8)"
   ]
  },
  {
   "cell_type": "markdown",
   "metadata": {
    "nbgrader": {
     "grade": false,
     "grade_id": "schach_desc_3",
     "locked": true,
     "solution": false
    }
   },
   "source": [
    "## c)\n",
    "Schreiben Sie eine weitere Klasse `Koenig_Advanced`, welche von der Klasse `Koenig` erbt und in der Methode `berechne_zuege` nun alle Felder zurückgibt, auf die der König in einem Zug ziehen kann und welche zusätzlich NICHT von einer Figur mit derselben Farbe belegt sind."
   ]
  },
  {
   "cell_type": "code",
   "execution_count": null,
   "metadata": {
    "collapsed": true,
    "nbgrader": {
     "grade": false,
     "grade_id": "schach_sol_3",
     "locked": false,
     "solution": true
    }
   },
   "outputs": [],
   "source": [
    "# YOUR CODE HERE\n",
    "raise NotImplementedError()"
   ]
  },
  {
   "cell_type": "code",
   "execution_count": null,
   "metadata": {
    "collapsed": false,
    "nbgrader": {
     "grade": true,
     "grade_id": "schach_test_3",
     "locked": true,
     "points": 2,
     "solution": false
    }
   },
   "outputs": [],
   "source": [
    "# Diese Zelle bitte unverändert lassen!\n",
    "s = Schachbrett()\n",
    "k = Koenig_Advanced(\"white\")\n",
    "s.setze_figur(k, 5, 4)\n",
    "\n",
    "# Belege Felder:\n",
    "s.setze_figur(Figur(\"white\"), 5, 5)\n",
    "s.setze_figur(Figur(\"black\"), 6, 4)\n",
    "s.setze_figur(Figur(\"white\"), 4, 5)\n",
    "s.setze_figur(Figur(\"black\"), 4, 3)\n",
    "\n",
    "felder = k.berechne_zuege(s)\n",
    "assert(s.get_feld(5, 3) in felder)\n",
    "assert(not s.get_feld(5, 5) in felder)\n",
    "assert(s.get_feld(6, 3) in felder)\n",
    "assert(s.get_feld(6, 4) in felder)\n",
    "assert(s.get_feld(6, 5) in felder)\n",
    "assert(s.get_feld(4, 4) in felder)\n",
    "assert(not s.get_feld(4, 5) in felder)\n",
    "assert(s.get_feld(4, 3) in felder)\n",
    "assert(len(felder) == 6)"
   ]
  },
  {
   "cell_type": "code",
   "execution_count": null,
   "metadata": {
    "collapsed": false,
    "nbgrader": {
     "grade": true,
     "grade_id": "docu_test",
     "locked": true,
     "points": 1,
     "solution": false
    },
    "slideshow": {
     "slide_type": "skip"
    }
   },
   "outputs": [],
   "source": [
    "# Diese Zelle bitte unverändert lassen!\n",
    "# Alle Dokumentationen vorhanden? \n",
    "\n",
    "l = []\n",
    "        \n",
    "# Aufgabe 1:\n",
    "l.append((\"f\", None))\n",
    "l.append((\"g\", None))\n",
    "l.append((\"h\", None))\n",
    "\n",
    "l.append((\"verarbeite_eingabe\", None))\n",
    "l.append((\"BereichsError\", None))\n",
    "l.append((\"print_object_einfach\", None))\n",
    "\n",
    "# Aufgabe 2:\n",
    "l.append((\"Uhr\", None))\n",
    "l.append((\"Uhr\", \"__init__\"))\n",
    "l.append((\"Uhr\", \"get_minuten\"))\n",
    "l.append((\"Uhr\", \"get_stunden\"))\n",
    "l.append((\"Uhr\", \"set_minuten\"))\n",
    "l.append((\"Uhr\", \"set_stunden\"))\n",
    "l.append((\"Uhr\", \"tic\"))\n",
    "\n",
    "# Aufgabe 3\n",
    "l.append((\"Schachbrett\", None))\n",
    "l.append((\"Schachbrett\", \"__init__\"))\n",
    "l.append((\"Schachbrett\", \"get_feld\"))\n",
    "l.append((\"Schachbrett\", \"setze_figur\"))\n",
    "l.append((\"Koenig\", None))\n",
    "l.append((\"Koenig\", \"berechne_zuege\"))\n",
    "l.append((\"Koenig_Advanced\", None))\n",
    "l.append((\"Koenig_Advanced\", \"berechne_zuege\"))\n",
    "\n",
    "for a in l:\n",
    "    try:\n",
    "        attr = None\n",
    "        if a[1] == None:\n",
    "            attr = eval(a[0])\n",
    "            assert(attr.__doc__ != None)\n",
    "            print(attr.__doc__ != None, \"-->\", a[0])    \n",
    "        else:\n",
    "            attr = getattr(eval(a[0]), a[1])\n",
    "            assert(attr.__doc__ != None)\n",
    "            print(attr.__doc__ != None, \"-->\", a[0] + \".\" + a[1])    \n",
    "    except AttributeError:\n",
    "        print(\"Not Implemented\", \"-->\", a[0] + \".\" + a[1])\n",
    "    except AssertionError:\n",
    "        print(attr.__doc__ != None, \"-->\", a[0] + \".\" + a[1])"
   ]
  }
 ],
 "metadata": {
  "anaconda-cloud": {},
  "celltoolbar": "Create Assignment",
  "kernelspec": {
   "display_name": "Python [default]",
   "language": "python",
   "name": "python3"
  },
  "language_info": {
   "codemirror_mode": {
    "name": "ipython",
    "version": 3
   },
   "file_extension": ".py",
   "mimetype": "text/x-python",
   "name": "python",
   "nbconvert_exporter": "python",
   "pygments_lexer": "ipython3",
   "version": "3.5.2"
  }
 },
 "nbformat": 4,
 "nbformat_minor": 1
}
