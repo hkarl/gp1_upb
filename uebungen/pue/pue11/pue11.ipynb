{
 "cells": [
  {
   "cell_type": "markdown",
   "metadata": {},
   "source": [
    "# Aufgabe 1\n",
    "\n",
    "## a)\n",
    "Schreiben Sie die beiden Klassen `Möbelstück` und `Behälter`. Diese sollen Folgendes können:  \n",
    "\n",
    "`Möbelstück`:  \n",
    "+ Ein Möbelstück hat einen Preis, einen Modellnamen und einen Hersteller\n",
    "+ Das Möbelstück weiß, wo es im Zimmer steht (Zwei Koordinaten, die volle Meter darstellen, sind ausreichend)\n",
    "+ Man kann seine Position im Zimmer verändern, indem man es schiebt. Seine Koordinaten dürfen dabei um insgesamt bis zu 5 Meter verändert werden (Man schiebt nie diagonal im Zimmer)\n",
    "\n",
    "`Behälter`:\n",
    "+ Der Behälter hat eine maximale Menge an Gegenständen, die in ihm liegen können.\n",
    "+ Der Inhalt des Behälters wird durch eine Liste repräsentiert\n",
    "+ Man kann Dinge in den Behälter hineinlegen und auch wieder herausnehmen. (Zahlen, Strings, Listen, Bools...)\n",
    "+ Man kann den Behälter auskippen  und ihn somit komplett entleeren.\n",
    "\n",
    "## b)\n",
    "\n",
    "Ein Schrank ist gleichzeitig ein Möbelstück und ein Behälter. Schreiben Sie ebenfalls eine Klasse `Schrank`, welche die Eigenschaften beider anderer Klassen besitzt.  \n",
    "Allerdings ist ein Schrank äußerst sperrig, weshalb er umfällt, wenn er mehr als 2 Meter auf einmal geschoben wird. Wenn er umfällt, fallen alle Dinge aus ihm heraus."
   ]
  },
  {
   "cell_type": "markdown",
   "metadata": {},
   "source": [
    "# Aufgabe 2\n",
    "\n",
    "## a)\n",
    "\n",
    "Betrachten Sie das Beispiel Uhr und Kalender aus der Vorlesung.\n",
    "Welche Methoden in `CalendarClock` können aus den Oberklassen entnommen werden, welche müssen überschrieben werden?  \n",
    "Implementieren Sie die Klasse `CalendarClock` unter Berücksichtigung dieser Entscheidungen, nachdem Sie den fehlenden Code in den gegebenen Klassen ergänzt haben.  \n",
    "Sowohl Clock als auch Calendar sollen übrigens auch unabhängig voneinander funktionieren."
   ]
  },
  {
   "cell_type": "code",
   "execution_count": null,
   "metadata": {
    "collapsed": true
   },
   "outputs": [],
   "source": [
    "class Clock:\n",
    "    def __init__(self, hour, minute, second):\n",
    "        self.hour = hour\n",
    "        self.minute = minute\n",
    "        self.second = second\n",
    "        \n",
    "    def tick(self):\n",
    "        #Your Code here\n",
    "        \n",
    "class Calendar:\n",
    "    def __init__(self, day, month, year):\n",
    "        self.day = day\n",
    "        self.month = month\n",
    "        self.year = year\n",
    "        \n",
    "    def nextDay(self):\n",
    "        #Your Code here"
   ]
  },
  {
   "cell_type": "markdown",
   "metadata": {},
   "source": [
    "## b)\n",
    "\n",
    "Tun Sie das selbe noch einmal. Aber die Methode von `Calendar` heißt jetzt auch `tick`. Was müssen Sie jetzt beachten?"
   ]
  },
  {
   "cell_type": "code",
   "execution_count": null,
   "metadata": {
    "collapsed": true
   },
   "outputs": [],
   "source": [
    "class Clock:\n",
    "    def __init__(self, hour, minute, second):\n",
    "        self.hour = hour\n",
    "        self.minute = minute\n",
    "        self.second = second\n",
    "        \n",
    "    def tick(self):\n",
    "        #Your Code here\n",
    "        \n",
    "class Calendar:\n",
    "    def __init__(self, day, month, year):\n",
    "        self.day = day\n",
    "        self.month = month\n",
    "        self.year = year\n",
    "        \n",
    "    def tick(self):\n",
    "        #Your Code here"
   ]
  },
  {
   "cell_type": "markdown",
   "metadata": {},
   "source": [
    "# Aufgabe 3\n",
    "\n",
    "In dieser Aufgabe geht es um Linearisierungen von Vererbungsstrukturen und die Bestimmung einer Method Resolution Order (MRO).\n",
    "\n",
    "## a)\n",
    "Welche der folgenden UML-Diagramme sind linearisierbar? Wie sehen die entsprechenden MROs aus?\n",
    "![title](https://i.imgsafe.org/93ca9dfe1b.jpg)\n",
    "\n",
    "\n",
    "## b)\n",
    "Geben Sie eine einfache Implementierung des dritten Diagramms aus Teilaufgabe a) an. Die Klassen müssen bloß aus einem Konstruktor bestehen. In diesem Konstruktor soll der Konstruktor der nächsten Klasse in der MRO aufgerufen werden, sowie ein print-Befehl mit jeweils einem der folgenden Wörter: `Gp1 ist meine liebste Vorlesung`, sodass der Satz beim Erstellen eines Objekts von `Class16` korrekt ausgegeben wird.\n",
    "\n",
    "## c) (dependency injection)\n",
    "Im Folgenden sind 3 Klassen gegeben, die den Arbeitsablauf in einer Arztpraxis modellieren. Verändern Sie die Klassen `Arzt` und `Assistent` nicht. Wie können Sie dennoch erreichen, dass der Papierkram, den der Arzt gern weitergeben würde, von seinem Assistenten erledigt wird? Jedoch kann nur der Arzt eine Unterschrift ausstellen."
   ]
  },
  {
   "cell_type": "code",
   "execution_count": null,
   "metadata": {
    "collapsed": false
   },
   "outputs": [],
   "source": [
    "class Arzt: #Diese Klasse nicht verändern\n",
    "    def __init__(self):\n",
    "        super().__init__()\n",
    "        \n",
    "    def papierkram(self):\n",
    "        try:\n",
    "            super().papierkram()\n",
    "            print(\"Unterschrift\")\n",
    "        except AttributeError:\n",
    "            print(\"Erledige Papierkram (Arzt)\")\n",
    "            print(\"Unterschrift\")\n",
    "        \n",
    "class Assistent: #Diese Klasse nicht verändern\n",
    "    def __init__(self):\n",
    "        super().__init__()\n",
    "        \n",
    "    def papierkram(self):\n",
    "        print(\"Erledige Papierkram (Assistent)\")\n",
    "        \n",
    "class Praxis:\n",
    "    def __init__(self):\n",
    "        self.arzt = Arzt()\n",
    "        self.assistent = Assistent()\n",
    "    \n",
    "    def papierkram(self):\n",
    "        self.arzt.papierkram()\n",
    "        \n",
    "p = Praxis()\n",
    "p.papierkram()"
   ]
  },
  {
   "cell_type": "markdown",
   "metadata": {},
   "source": [
    "# Aufgabe 4 (Module)\n",
    "\n",
    "Haben Sie sich je gefragt, wo all die eigebauten Funktionen, Datentypen und Klassen eigentlich herkommen?\n",
    "Recherchieren Sie ein wenig zu Standardmodulen: https://docs.python.org/3/library/  \n",
    "\n",
    "## a)\n",
    "Sehr nützlich scheint beispielsweise das Modul `math` zu sein. Zumal es einige Funktionen beinhaltet, die Sie bereits auf früheren Übungsblättern implementiert haben. Außerdem haben Sie dort wichtige Werte direkt zur Hand, wie z.B. Pi oder die eulersche Zahl.  \n",
    "\n",
    "Schreiben Sie ein Programm, welches bestimmt, ob die Logarithmen zur Basis 5 zweier Zahlen maximal 15% des Wertes der größeren Zahl auseinanderliegen. Wenn der Unterschied der Logarithmen allerdings größer als Pi ist, soll immer False zurückgegeben werden.  \n",
    "Versuchen Sie, möglichst wenig Code selbst zu schreiben. \n",
    "\n",
    "## b)\n",
    "Auf einem früheren Präsenzblatt sollten Zufallszahlen generiert werden. Mit Ihrem damaligen Wissensstand konnten Sie vermutlich nicht ganz nachvollziehen, wie das funktionierte.  \n",
    "Dazu wird ebenfalls ein Modul verwendet, nämlich `random`.\n",
    "\n",
    "Sie haben schon einmal einen Sortieralgorithmus programmiert. Ein Sortieralgorithmus nimmt eine beliebige unsortierte Zahlenfolge entgegen und sortiert diese.\n",
    "\n",
    "Implementieren Sie den Sortieralgorithmus Bogo-Sort. Dieser ordnet die Elemente einer Liste solange zufällig um, bis sie irgendwann mal sortiert sind.\n",
    "\n",
    "## c)\n",
    "Bringen Sie den folgenden Codeabschnitt zum Funktionieren, ohne irgendetwas daran zu ändern.  \n",
    "Was er am Ende tut ist nicht so wichtig, sorgen Sie nur dafür, dass er fehlerlos terminiert.  \n",
    "Hinweis: Man kann selbstgeschriebene Module problemlos importieren, wenn sie im selben Ordner wie die importierende Datei (dieses Notebook) liegen."
   ]
  },
  {
   "cell_type": "code",
   "execution_count": null,
   "metadata": {
    "collapsed": false
   },
   "outputs": [],
   "source": [
    "# Diese Codezelle nicht ändern.\n",
    "import mein_modul\n",
    "\n",
    "a = mein_modul.Klasse(2)\n",
    "print(a.funktion(\"foo\"))"
   ]
  }
 ],
 "metadata": {
  "anaconda-cloud": {},
  "kernelspec": {
   "display_name": "Python [default]",
   "language": "python",
   "name": "python3"
  },
  "language_info": {
   "codemirror_mode": {
    "name": "ipython",
    "version": 3
   },
   "file_extension": ".py",
   "mimetype": "text/x-python",
   "name": "python",
   "nbconvert_exporter": "python",
   "pygments_lexer": "ipython3",
   "version": "3.5.2"
  }
 },
 "nbformat": 4,
 "nbformat_minor": 1
}
