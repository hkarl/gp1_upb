{
 "cells": [
  {
   "cell_type": "markdown",
   "metadata": {
    "collapsed": true
   },
   "source": [
    "Generell gilt: Bei Fragen wenden Sie sich bitte an Ihren Tutor"
   ]
  },
  {
   "cell_type": "markdown",
   "metadata": {},
   "source": [
    "# Aufgabe 1\n",
    "## a) Python im Notebook\n",
    "Die nächste Zelle ist nicht vom Typ \"Markdown\" sondern \"Code\", in ihr steht Quellcode der Programmiersprache Python. Das heißt einerseits, dass der Text anders angezeigt wird als in \"Markdown\" Zellen, und andererseits, dass der darin enthaltene Quellcode über dieses Webinterface ausgeführt werden kann.\n",
    "\n",
    "Führen sie den Quellcode in der nächsten Zelle aus. Klicken Sie dazu in die nächste Zelle und anschließend auf den Button mit dem \"Play\"-Symbol unter der Menü Zeile. Alternativ können Sie auch \"Strg-Enter\" drücken. Unter der Zelle sollte nun eine Ausgabe erscheinen."
   ]
  },
  {
   "cell_type": "code",
   "execution_count": 5,
   "metadata": {
    "collapsed": false
   },
   "outputs": [
    {
     "data": {
      "text/plain": [
       "5"
      ]
     },
     "execution_count": 5,
     "metadata": {},
     "output_type": "execute_result"
    }
   ],
   "source": [
    "5"
   ]
  },
  {
   "cell_type": "markdown",
   "metadata": {},
   "source": [
    "## b) Syntax Highlighting\n",
    "Der Python-Code in der nächsten Zelle besitzt unterschiedliche Farben und Schriftarten. \n",
    "\n",
    "Was fällt Ihnen auf?\n",
    "\n",
    "Wofür könnten die unterschiedlichen Farben stehen?"
   ]
  },
  {
   "cell_type": "code",
   "execution_count": 14,
   "metadata": {
    "collapsed": false
   },
   "outputs": [
    {
     "name": "stdout",
     "output_type": "stream",
     "text": [
      "Hallo Welt\n",
      "30\n",
      "30 ist noch jung\n",
      "Dies ist eine Funktion\n"
     ]
    }
   ],
   "source": [
    "#Hallo Welt\n",
    "for char in ['H', 'a', 'l', 'l', 'o', ' ', 'W', 'e', 'l', 't']:\n",
    "    print(char, end='')\n",
    "\n",
    "print()\n",
    "tmp = 14 + 8 * 2\n",
    "print(tmp)\n",
    "\n",
    "if tmp == 30:\n",
    "    print('30 ist noch jung')\n",
    "    \n",
    "def funktion(param):\n",
    "    return param\n",
    "\n",
    "print(funktion('Dies ist eine Funktion'))"
   ]
  },
  {
   "cell_type": "markdown",
   "metadata": {},
   "source": [
    "## c) Ein eigenes Notebook\n",
    "Erstellen Sie ein neues Notebook und darin eine neue Zelle vom Typ \"Code\". Geben Sie Python-Code in diese Zelle ein und führen es aus."
   ]
  },
  {
   "cell_type": "markdown",
   "metadata": {},
   "source": [
    "# Aufgabe 2\n",
    "## a) Heimübung öffnen\n",
    "Loggen Sie sich mit Ihrem **Gruppen-Account** in Jupyter ein und holen Sie sich eine Arbeitsversion des ersten Heimübungsblatts.\n",
    "\n",
    "Gehen Sie dazu auf der Startseite auf den Reiter \"Files\". Öffnen Sie dort eine Konsole, indem Sie im Menü \"New\" den Punkt \"Terminal\" auswählen.\n",
    "\n",
    "Lassen Sie sich nun mit dem Befehl \n",
    "```\n",
    "nbgrader list\n",
    "```\n",
    "alle veröffentlichten Aufgaben anzeigen.Die Ausgabe sieht beispielsweise so aus:\n",
    "```\n",
    "gp1_16_330@gp1:~$ nbgrader list\n",
    "[ListApp | INFO] Released assignments:\n",
    "[ListApp | INFO] gp1 hue01\n",
    "```\n",
    "\n",
    "Um eine Arbeitsversion der Heimübung 1 zu bekommen, verwenden Sie den Befehl\n",
    "```\n",
    "nbgrader fetch hue01 --course gp1\n",
    "```\n",
    "\n",
    "(Anmerkung: falls Sie keine Liste mit Aufgaben angezeigt bekommen, versuchen Sie trotzdem den fetch-Befehl auszuführen.) \n",
    "\n",
    "Gehen Sie wieder auf die Startseite und öffnen Sie das erste Heimübungsblatt. \n",
    "Es ist im Order \"hue01\" als \"hue01.ipynb\" zu finden.\n",
    "\n",
    "## b) Eintragen von Matrikelnr. und Mailadresse\n",
    "Tragen Sie in das erste Feld der geöffneten Heimübung alle Matrikelnummern und Mailadressen Ihrer Abgabegruppe ein. Achten Sie dabei streng auf das vorgegebene Format, da die Auswertung der Punkte und Matrikelnummern automatisch erfolgt und Sie ansonsten keine Punkte für das Heimübungsblatt bekommen können.\n",
    "\n",
    "Als Beispiel dient Ihnen die nächste Zelle. \n",
    "\n",
    "**ACHTUNG: durch Markdown sieht es so aus, als wären alle Matrikelnummern und Mailadressen in derselben Zeile, da Zeilenumbrüche ohne Leerzeile nicht als Zeilenumbrüche dargestellt werden. \n",
    "Gehen Sie mit Doppelklick in die Zelle hinein, um die korrekte Formatierung zu sehen.**"
   ]
  },
  {
   "cell_type": "markdown",
   "metadata": {},
   "source": [
    "1234567 name1@mail.upb.de\n",
    "2234567 name2@mail.upb.de\n",
    "3234567 name3@mail.upb.de\n",
    "4234567 name3@mail.upb.de"
   ]
  },
  {
   "cell_type": "markdown",
   "metadata": {},
   "source": [
    "## c) Abgabe der Heimübung\n",
    "Nachdem Sie Ihre Matrikelnr eingetragen haben, speichern Sie die Änderungen über das \"Save\"-Symbol unter der Menüleiste. Nach dem Speichern können Sie Ihre Heimübung abgeben, indem Sie wieder in die Konsole wechseln (bzw eine neue öffnen) und den Befehl \n",
    "```\n",
    "nbgrader submit hue01 --course gp1\n",
    "```\n",
    "verwenden. \n",
    "\n",
    "Sie können Ihre Heimübung beliebig häufig abgeben, bewertet wird lediglich die letzte Abgabe vor der Deadline. \n",
    "\n",
    "**ACHTUNG: Abgaben werden nur bewertet, wenn sie in einem Gruppen-Account (gp1_16_xxx) abgegeben werden.**\n",
    "\n",
    "## d) Erste Aufgabe der Heimübung\n",
    "Bearbeiten Sie in Ihrer Abgabe-Gruppe die erste Teilaufgabe der Heimübung. \n",
    "Achten Sie darauf, dass Sie nur in den Zellen arbeiten, die für Ihre Lösungen gekennzeichnet sind. \n",
    "Lösungen in anderen Zellen können nicht berücksichtigt werden, da das System sie entfernt.\n",
    "\n",
    "Speichern Sie und geben Sie anschließend die Heimübung erneut ab.\n",
    "\n",
    "## e) Alternative über die Weboberfläche\n",
    "Gehen Sie auf der Startseite auf den Reiter \"Assignments\". Dort finden Sie eine Liste der Assignments. Über die Button \"Fetch\" bzw \"Submit\" lässt sich das gleiche erreichen wie in Teilaufgabe a) bzw c) beschrieben.\n",
    "\n",
    "ACHTUNG: bei einigen Accounts stellt die Weboberfläche keine Funktionalitäten bereit. Wir arbeiten daran, dies zu beheben. Sie erkennen dies daran, dass keine Liste der veröffentlichten Aufgaben angezeigt wird.\n",
    "\n",
    "## f) Validierung der Abgabe\n",
    "Hinweis für Abgaben ab HÜ02:\n",
    "\n",
    "Um zu schauen, ob Ihre Abgabe den veröffentlichten Tests genügt, benutzen sie den Befehl\n",
    "```\n",
    "nbgrader validate hue02/hue02.ipynb\n",
    "```\n",
    "bzw. den Button \"Validate\", den Sie in der Weboberfläche finden (klappen Sie dazu über den Pfeil nach unten bei einem downloaded-Assignment das dazugehörige Notebook aus). \n",
    "\n",
    "Natürlich heißt das erfolgreiche Bestehen noch lange nicht, dass Sie die volle Punktzahl bekommen. Nicht alle Tests für die Bewertung werden mit veröffentlicht und es erfolgt zusätzlich noch eine manuelle Bewertung durch einen Tutor."
   ]
  },
  {
   "cell_type": "markdown",
   "metadata": {},
   "source": [
    "## Aufgabe 3\n",
    "\n",
    "a) Welche der folgenden Ausdrücke sind in Python gültig? Begründen Sie Ihre Antwort: \n",
    "```Python\n",
    "1+1\n",
    "+(-2**+2)\n",
    "+3//3\n",
    "-4**(-2+-3)\n",
    "5**6-(7+)\n",
    "7++7\n",
    "8%(9-2)**2\n",
    "```\n",
    "b) Stellen Sie die folgenden Zahlen als arithmetische Ausdrücke dar (mithilfe von Zahlen und den Operatoren `+, -, *, /, //, **` und `%`). Nutzen Sie pro Zahl mindestens zwei verschiedene Operatoren.\n",
    "```Python\n",
    "20\n",
    "113\n",
    "121\n",
    "0.25\n",
    "```"
   ]
  },
  {
   "cell_type": "markdown",
   "metadata": {},
   "source": [
    "## Aufgabe 4\n",
    "Mit der Funktion\n",
    "`input()`\n",
    "lassen sich Eingaben vom Benutzer einlesen.\n",
    "\n",
    "a) Führen Sie\n",
    "```Python\n",
    "a = input()\n",
    "```\n",
    "aus und geben Sie `a` anschließend mit `print` aus.\n",
    "\n",
    "b) Schreiben Sie ein Programm, das zunächst zwei Strings vom Benutzer einliest und anschließend beide ausgibt.\n",
    "\n",
    "c) Schreiben Sie nun ein Programm, das zwei Zahlen einliest, diese addiert und anschließend ausgibt. Was fällt Ihnen auf?\n",
    "\n",
    "d) Das Problem lässt sich lösen, indem Sie die Strings mit der Funktion `float()` in Zahlen umwandeln. Führen Sie dazu\n",
    "```Python\n",
    "b = float(\"14\")\n",
    "```\n",
    "aus und geben Sie `b` aus.\n",
    "\n",
    "e) Verändern Sie Ihr Programm aus c) nun so, dass es korrekt funktioniert.\n",
    "\n",
    "f) Angenommen, Diesel kostet 1,039€/l und SuperE10 kostet 1,199€/l.\n",
    "Schreiben Sie ein Programm, das zunächst nach dem getankten Volumen (in Liter) Kraftstoff fragt und dann den zu zahlenden Betrag für Diesel und SuperE10 ausgibt."
   ]
  },
  {
   "cell_type": "code",
   "execution_count": null,
   "metadata": {
    "collapsed": true
   },
   "outputs": [],
   "source": [
    "# Your Code Here"
   ]
  },
  {
   "cell_type": "markdown",
   "metadata": {},
   "source": [
    "## Aufgabe 5\n",
    "a) Sind die nachfolgenden Strings in Python gültig? \n",
    "Falls nein, geben Sie die Syntaxregel an, die verletzt wurde.\n",
    "```Python\n",
    " a = abc\n",
    " b = \"abc\"\n",
    " c = ''abc''\n",
    " d = \"\"abc\"\"\n",
    " e = \"'abc\"''\n",
    " f = 'ab'c'\n",
    " g = \"ab\\\"c\"\n",
    " h = \"\"\n",
    " i = ''\n",
    " j = '\\'\\'\\\\\\*'\n",
    "```\n",
    "b) Schreiben Sie je ein Programm, das die folgenden Worte ausgibt wenn es gestartet wird.\n",
    "*  Hello World!\n",
    "*  äöü\n",
    "*  ###\n",
    "*  \n",
    "*  \"\"Anführungszeichen in einem String?\"\"\n",
    "* Hallo\n",
    "    \n",
    "  Welt\n",
    "\n"
   ]
  },
  {
   "cell_type": "code",
   "execution_count": null,
   "metadata": {
    "collapsed": true
   },
   "outputs": [],
   "source": [
    "# Your Code Here"
   ]
  }
 ],
 "metadata": {
  "anaconda-cloud": {},
  "kernelspec": {
   "display_name": "Python 3",
   "language": "python",
   "name": "python3"
  },
  "language_info": {
   "codemirror_mode": {
    "name": "ipython",
    "version": 3
   },
   "file_extension": ".py",
   "mimetype": "text/x-python",
   "name": "python",
   "nbconvert_exporter": "python",
   "pygments_lexer": "ipython3",
   "version": "3.5.1"
  }
 },
 "nbformat": 4,
 "nbformat_minor": 1
}
