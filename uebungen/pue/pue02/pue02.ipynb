{
 "cells": [
  {
   "cell_type": "markdown",
   "metadata": {
    "collapsed": true
   },
   "source": [
    "Generell gilt: Bei Fragen wenden Sie sich bitte an Ihren Tutor"
   ]
  },
  {
   "cell_type": "markdown",
   "metadata": {},
   "source": [
    "# Aufgabe 1\n",
    "## a) Python im Notebook\n",
    "Die nächste Zelle ist nicht vom Typ \"Markdown\" sondern \"Code\", in ihr steht Quellcode der Programmiersprache Python. Das heißt einerseits, dass der Text anders angezeigt wird als in \"Markdown\" Zellen, und andererseits, dass der darin enthaltene Quellcode über dieses Webinterface ausgeführt werden kann.\n",
    "\n",
    "Führen sie den Quellcode in der nächsten Zelle aus. Klicken Sie dazu in die nächste Zelle und anschließend auf den Button mit dem \"Play\"-Symbol unter der Menü Zeile. Alternativ dafür könnt ihr auch \"Strg-Enter\" drücken. Unter der Zelle sollte nun eine Ausgabe erscheinen."
   ]
  },
  {
   "cell_type": "code",
   "execution_count": 5,
   "metadata": {
    "collapsed": false
   },
   "outputs": [
    {
     "data": {
      "text/plain": [
       "5"
      ]
     },
     "execution_count": 5,
     "metadata": {},
     "output_type": "execute_result"
    }
   ],
   "source": [
    "5"
   ]
  },
  {
   "cell_type": "markdown",
   "metadata": {},
   "source": [
    "## b) Syntax Highliting\n",
    "Der Python-Code in der nächsten Zelle besitzt unterschiedliche Farben und Schriftarten. \n",
    "\n",
    "Was fällt Ihnen auf?\n",
    "\n",
    "Wofür könnten die unterschiedlichen Farben stehen?"
   ]
  },
  {
   "cell_type": "code",
   "execution_count": 14,
   "metadata": {
    "collapsed": false
   },
   "outputs": [
    {
     "name": "stdout",
     "output_type": "stream",
     "text": [
      "Hallo Welt\n",
      "30\n",
      "30 ist noch jung\n",
      "Dies ist eine Funktion\n"
     ]
    }
   ],
   "source": [
    "#Hallo Welt\n",
    "for char in ['H', 'a', 'l', 'l', 'o', ' ', 'W', 'e', 'l', 't']:\n",
    "    print(char, end='')\n",
    "\n",
    "print()\n",
    "tmp = 14 + 8 * 2\n",
    "print(tmp)\n",
    "\n",
    "if tmp == 30:\n",
    "    print('30 ist noch jung')\n",
    "    \n",
    "def funktion(param):\n",
    "    return param\n",
    "\n",
    "print(funktion('Dies ist eine Funktion'))"
   ]
  },
  {
   "cell_type": "markdown",
   "metadata": {},
   "source": [
    "## c) Ein eigenes Notebook\n",
    "Erstellen Sie ein neues Notebook und darin eine neue Zelle vom Typ \"Code\". Geben Sie etwas in diese Zelle ein und führt sie aus."
   ]
  },
  {
   "cell_type": "markdown",
   "metadata": {},
   "source": [
    "# Aufgabe 2\n",
    "## a) Heimübung öffnen\n",
    "Loggen Sie sich mit Ihrem Gruppen-Account in Jupyter ein und holen Sie sich eine Arbeitsversion des ersten Heimübungsblatts.\n",
    "\n",
    "Gehen Sie dazu auf der Startseite auf den Reiter \"Assignment\". Dort sollten sie unter \"Released Assignments\" \"hue01\" zu finden sein. Klicken sie auf den Button \"Fetch\".\n",
    "\n",
    "Gehen sie wieder auf den Reiter \"Files\" und öffnen sie das erste Heimübungsblatt. Es ist im Order \"hue01\" als \"hue01.ipynb\" zu finden. Alternativ können Sie das Blatt öffnen, indem sie unter \"Downloaded Assignments\" auf \"hue01\" klicken und anschließend auf das ausgeklappte \"hue01.ipynb\" klicken.\n",
    "\n",
    "## b) Eintragen von Matrikelnr. und Mailadresse\n",
    "Tragen sie in das erste Feld der geöffneten Heimübung alle Matrikelnummern und Mailadressen Ihrer Abgabegruppe ein. Achten sie dabei streng auf das vorgegebene Format, da die Auswertung der Punkte und Matrikelnummern automatisch erfolgt und Sie ansonsten keine Punkte für das Heimübungsblatt bekommen können.\n",
    "\n",
    "Als Beispiel dient ihnen die nächste Zelle. \n",
    "\n",
    "ACHTUNG: durch Markdown sieht es so aus, als wären alle Matrikelnummern und Mailadressen in der selben Zeile, da Zeilenumbrüche ohne Leerzeile nicht als Zeilenumbrüche dargestellt werden. Gehen sie mit Doppelklick in die Zelle hinein, um die korrekte Foramtierung zu sehen."
   ]
  },
  {
   "cell_type": "markdown",
   "metadata": {},
   "source": [
    "1234567 name1@mail.upb.de\n",
    "2234567 name2@mail.upb.de\n",
    "3234567 name3@mail.upb.de\n",
    "4234567 name3@mail.upb.de"
   ]
  },
  {
   "cell_type": "markdown",
   "metadata": {},
   "source": [
    "## c) Abgabe der Heimübung\n",
    "Nachdem sie Ihre Matrikelnr eingetragen haben speichern Sie die Änderungen über das \"Save\" Symbol unter der Menüleiste. Nach dem Speichern können Sie Ihre Heimübung abgeben, indem sie wieder auf dem \"Assignments\" Reiter gehen und dort unter \"Downloaded Assignments\" bei \"hue01\" auf \"Submit\" klicken. Anschließen sehen sie unter \"Submitted Assignments\" Ihre Abgabe mit einem Zeitstempel. Sie können ihre Heimübung beliebig häufig abgeben, bewertet wird lediglich die letzte Abgabe vor der Deadline. \n",
    "\n",
    "## d) Erste Aufgabe der HÜ\n",
    "Bearbeiten Sie in Ihrer Abgabe-Gruppe die erste Teilaufgabe der Heimübung. Achten Sie darauf, dass Sie nur in den Zellen arbeiten, die für Ihre Lösungen gekennzeichnet sind. Lösungen in anderen Zellen können nicht berücksichtigt werden, da das System sie entfernt.\n",
    "\n",
    "Speichern Sie und geben Sie anschließend die Heimübung erneut ab."
   ]
  }
 ],
 "metadata": {
  "kernelspec": {
   "display_name": "Python 3",
   "language": "python",
   "name": "python3"
  },
  "language_info": {
   "codemirror_mode": {
    "name": "ipython",
    "version": 3
   },
   "file_extension": ".py",
   "mimetype": "text/x-python",
   "name": "python",
   "nbconvert_exporter": "python",
   "pygments_lexer": "ipython3",
   "version": "3.4.2"
  }
 },
 "nbformat": 4,
 "nbformat_minor": 1
}
