{
 "cells": [
  {
   "cell_type": "markdown",
   "metadata": {
    "collapsed": true
   },
   "source": [
    "Generell gilt: Bei Fragen wenden Sie sich bitte an Ihren Tutor"
   ]
  },
  {
   "cell_type": "markdown",
   "metadata": {},
   "source": [
    "# Aufgabe 1\n",
    "## a) Python im Notebook\n",
    "Die nächste Zelle ist nicht vom Typ \"Markdown\" sondern \"Code\", in ihr steht Quellcode der Programmiersprache Python. Das heißt einerseits, dass der Text anders angezeigt wird als in \"Markdown\" Zellen, und andererseits, dass der darin enthaltene Quellcode über dieses Webinterface ausgeführt werden kann.\n",
    "\n",
    "Führen sie den Quellcode in der nächsten Zelle aus. Klicken sie dazu in die nächste Zelle und anschließend auf den Button mit dem \"Play\"-Symbol unter der Menü Zeile. Unter der Zelle sollte nun eine Ausgabe erscheinen."
   ]
  },
  {
   "cell_type": "code",
   "execution_count": 5,
   "metadata": {
    "collapsed": false
   },
   "outputs": [
    {
     "data": {
      "text/plain": [
       "5"
      ]
     },
     "execution_count": 5,
     "metadata": {},
     "output_type": "execute_result"
    }
   ],
   "source": [
    "5"
   ]
  },
  {
   "cell_type": "markdown",
   "metadata": {},
   "source": [
    "## b) Syntax Highliting\n",
    "Der Python-Code in der nächsten Zelle besitzt unterschiedliche Farben und Schriftarten. \n",
    "\n",
    "Was fällt euch auf?\n",
    "\n",
    "Wofür könnten die Unterschiedlichen Farben stehen?"
   ]
  },
  {
   "cell_type": "code",
   "execution_count": 14,
   "metadata": {
    "collapsed": false
   },
   "outputs": [
    {
     "name": "stdout",
     "output_type": "stream",
     "text": [
      "Hallo Welt\n",
      "30\n",
      "30 ist noch jung\n",
      "Dies ist eine Funktion\n"
     ]
    }
   ],
   "source": [
    "#Hallo Welt\n",
    "for char in ['H', 'a', 'l', 'l', 'o', ' ', 'W', 'e', 'l', 't']:\n",
    "    print(char, end='')\n",
    "\n",
    "print()\n",
    "tmp = 14 + 8 * 2\n",
    "print(tmp)\n",
    "\n",
    "if tmp == 30:\n",
    "    print('30 ist noch jung')\n",
    "    \n",
    "def funktion(param):\n",
    "    return param\n",
    "\n",
    "print(funktion('Dies ist eine Funktion'))"
   ]
  }
 ],
 "metadata": {
  "kernelspec": {
   "display_name": "Python 3",
   "language": "python",
   "name": "python3"
  },
  "language_info": {
   "codemirror_mode": {
    "name": "ipython",
    "version": 3
   },
   "file_extension": ".py",
   "mimetype": "text/x-python",
   "name": "python",
   "nbconvert_exporter": "python",
   "pygments_lexer": "ipython3",
   "version": "3.4.2"
  }
 },
 "nbformat": 4,
 "nbformat_minor": 1
}
