{
 "cells": [
  {
   "cell_type": "markdown",
   "metadata": {},
   "source": [
    "## Aufgabe 1\n",
    "\n",
    "Betrachen Sie die nachfolgende Funktion.\n",
    "\n",
    "* Beschreiben Sie was in der Funktion passiert.  \n",
    "* Verändern sie `f()`, sodass der Wert von c innerhalb der Funktion ausgegeben wird.  \n",
    "* Verändern sie `f()` erneut, sodass die Funktion Werte `a` und `b` übergeben bekommt (die Zuweisung an `c` bleibt unverändert). Beachten Sie den Funktionsaufruf anzupassen.  "
   ]
  },
  {
   "cell_type": "code",
   "execution_count": 13,
   "metadata": {
    "collapsed": false
   },
   "outputs": [],
   "source": [
    "def f():\n",
    "    a = 4\n",
    "    b = 2\n",
    "    c = a**b\n",
    "\n",
    "f()"
   ]
  },
  {
   "cell_type": "markdown",
   "metadata": {},
   "source": [
    "## Aufgabe 2\n",
    "\n",
    "* Beschreiben Sie worin sich die beiden Funktionen (f1 und f2) unterscheiden und verkürzen Sie beide Programme - durch zusammenfassen von Befehlen - so weit es geht.\n",
    "* Welche der beiden Funktionen ist vielseitiger einsetzbar?"
   ]
  },
  {
   "cell_type": "code",
   "execution_count": null,
   "metadata": {
    "collapsed": false
   },
   "outputs": [],
   "source": [
    "def f1():\n",
    "    a = 42\n",
    "    b = 21\n",
    "    print(a,b)\n",
    "\n",
    "f1()"
   ]
  },
  {
   "cell_type": "code",
   "execution_count": null,
   "metadata": {
    "collapsed": false
   },
   "outputs": [],
   "source": [
    "def f2():\n",
    "    a = 42\n",
    "    b = 21\n",
    "    return a,b\n",
    "\n",
    "c,d = f2()\n",
    "print(c,d)"
   ]
  },
  {
   "cell_type": "markdown",
   "metadata": {},
   "source": [
    "## Aufgabe 3\n",
    "\n",
    "* Schreiben Sie **eine** Funktion `calc(a,b)` die zwei Parameter addiert, subtrahiert, multipliziert und dividiert, wie Sie mehrere Werte auf einmal zurückgeben sehen Sie in Aufgabe 2 `f2()`.\n",
    "* Schreiben Sie einen Funktionsaufruf und übergeben Sie die Ergebnisse an 4 Variablen. Was passiert, wenn Sie nur eine Variable aufführen und ausgeben?"
   ]
  },
  {
   "cell_type": "markdown",
   "metadata": {},
   "source": [
    "## Aufgabe 4\n",
    "\n",
    "Die gegebene Funktion `smaller2(a,b)` gibt die kleinere zweier Zahlen zurück, verändern Sie diese Funktion nicht.  \n",
    "* Schreiben sie eine Funktion `smaller3(a,b,c)` welche die kleinste der drei Zahlen zurück gibt. Verwenden Sie hierzu **ausschließlich** die Funktion `smaller2(a,b)`.\n",
    "* Schreiben sie eine Funktion `smaller6(a,b,c,d,e,f)` welche die kleinste der sechs Zahlen zurück gibt. Verwenden Sie hierzu wiederum die Funktionen `smaller2(a,b)` und `smaller3(a,b,c)`.  \n",
    "\n",
    "Testen Sie beide ihre Funktionen auf Korrektheit. "
   ]
  },
  {
   "cell_type": "code",
   "execution_count": null,
   "metadata": {
    "collapsed": false
   },
   "outputs": [],
   "source": [
    "def smaller2(a,b):\n",
    "    if a < b:\n",
    "        return a\n",
    "    else:\n",
    "        return b\n",
    "\n",
    "print(smaller2(7,-46))"
   ]
  },
  {
   "cell_type": "markdown",
   "metadata": {},
   "source": [
    "## Aufgabe 5\n",
    "\n",
    "In dieser Aufgabe geht es darum, Namensräume in Python zu verstehen, also in welchem Bereich welche Variable gilt.\n",
    "* Versuchen Sie zunächst eigenständig die Namensräume zu erfassen \n",
    "(falls Sie nicht weiter kommen kann es helfen sich die Zuweisungen zu skizzieren, print-Befehle im Code einzufügen oder die Visualisierung auf http://pythontutor.com zu nutzen).\n",
    "* Auf welchen Wegen wurde hier der Wert der Variable `d` (im Hauptprogramm), also `d = 3` in der Funktion `func2(a,b,d)` nutzbar gemacht, obwohl der Name vom Parameter `d` überdeckt wird?"
   ]
  },
  {
   "cell_type": "code",
   "execution_count": null,
   "metadata": {
    "collapsed": false
   },
   "outputs": [],
   "source": [
    "def func(c,d):\n",
    "    a = 4\n",
    "    e = 5\n",
    "    a,c,d = func2(a,c,e)\n",
    "    return c*b,a*d,e,func3()\n",
    "    \n",
    "def func2(a,b,d):\n",
    "    a = b\n",
    "    c = func3()\n",
    "    return a,d,c\n",
    "    \n",
    "def func3():\n",
    "    return d\n",
    "\n",
    "a = 1\n",
    "b = 2\n",
    "d = 3\n",
    "a,b,c,d = func(d,a)\n",
    "print(a,b,c,d)"
   ]
  },
  {
   "cell_type": "markdown",
   "metadata": {},
   "source": [
    "## Aufgabe 6\n",
    "\n",
    "Führen Sie den nachfolgenden Code-Block aus. Was bedeutet die Fehlermeldung und wie lässt sich das Programm korrigieren?"
   ]
  },
  {
   "cell_type": "code",
   "execution_count": null,
   "metadata": {
    "collapsed": false
   },
   "outputs": [],
   "source": [
    "def switch():\n",
    "    temp = a\n",
    "    a = b\n",
    "    b = temp\n",
    "\n",
    "a = 42\n",
    "b = 21\n",
    "print(a,b)\n",
    "switch()\n",
    "print(a,b)"
   ]
  },
  {
   "cell_type": "markdown",
   "metadata": {},
   "source": [
    "## (Aufgabe 7)\n",
    "\n",
    "Informieren Sie sich zu globalen Variablen und erarbeiten Sie eine Lösung des Problems aus Aufagbe 6 mittels dieser Methode."
   ]
  },
  {
   "cell_type": "markdown",
   "metadata": {},
   "source": [
    "## (Aufgabe 8)\n",
    "\n",
    "Informieren Sie sich über \"optionale Parameter\" in Python und schreiben Sie anschließend eine Funktion `power` die folgende Eigenschaften hat:\n",
    "\n",
    "* Falls der Funktionsaufruf nur einen Parameter `a` hat soll dieser Parameter als Exponent von 2 dienen, also 2^a.\n",
    "* Falls der Funktionsaufruf zwei Parameter a und b hat soll b als Basis und a als Exponent dienen, also b^a.\n",
    "* Die Funktion soll das jeweilige Ergebnis zurückgeben.\n",
    "* Testen Sie beide Fälle."
   ]
  },
  {
   "cell_type": "markdown",
   "metadata": {},
   "source": [
    "## (Aufgabe 9)\n",
    "\n",
    "Sehen Sie sich die nachfolgende Funktion an, was passiert hier? Was müsste man ändern, damit die Zahlen in genau umgekehrter Reihenfolge ausgegeben werden? Können Sie erklären warum? Testen Sie was passiert, wenn es die if-Bedingung nicht gibt."
   ]
  },
  {
   "cell_type": "code",
   "execution_count": null,
   "metadata": {
    "collapsed": false
   },
   "outputs": [],
   "source": [
    "def rec(n):\n",
    "    print(n)\n",
    "    if n > 0:\n",
    "        rec(n-1)\n",
    "\n",
    "rec(10)"
   ]
  }
 ],
 "metadata": {
  "kernelspec": {
   "display_name": "Python 3",
   "language": "python",
   "name": "python3"
  },
  "language_info": {
   "codemirror_mode": {
    "name": "ipython",
    "version": 3
   },
   "file_extension": ".py",
   "mimetype": "text/x-python",
   "name": "python",
   "nbconvert_exporter": "python",
   "pygments_lexer": "ipython3",
   "version": "3.5.2"
  }
 },
 "nbformat": 4,
 "nbformat_minor": 1
}
