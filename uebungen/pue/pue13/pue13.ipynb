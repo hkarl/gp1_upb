{
 "cells": [
  {
   "cell_type": "markdown",
   "metadata": {},
   "source": [
    "# Aufgabe 1 (Klammern und Anweisungsblöcke)\n",
    "Wie sie in der Vorlesung gelernt haben, werden Anweisungsblöcke in Java nicht durch Einrückung, sondern mithilfe von geschweiften Klammern (`{`,`}`) festgelegt. Dennoch sollte ein guter Programmierer eine sinnvolle Einrückung bei der Programmierung - egal in welcher Programmiersprache - beachten.\n",
    "## a)\n",
    "Betrachten Sie den folgenden (syntaktisch und semantisch korrekten) Java Quellcode und finden Sie ohne Ausprobieren heraus was die Ausgabe des Programms ist. \n",
    "```Python\n",
    "class Test{public static void main(String args[]){for(int i=0; i<10; ++i) {\n",
    "            if (i%2==0){System.out.println(args[0]+args[1]+\" \"+i);} else {System.out.println(\"Nichts\");}}}}\n",
    "String[] arr = new String[2];arr[0]=\"Hallo\"; arr[1]=\"Welt\";Test.main(arr);\n",
    "```\n",
    "## b)\n",
    "Verifizieren Sie ihre Antwort indem Sie den Quellcode in eine Codezelle kopieren und ausführen.\n",
    "## c)\n",
    "Offensichtlich ist dieser Code schwer lesbar. Formatieren Sie den Code durch Einfügen von Zeilenumbrüchen, Leerzeichen und Einrückungen so um, dass er problemlos lesbar ist.\n"
   ]
  },
  {
   "cell_type": "code",
   "execution_count": 1,
   "metadata": {
    "collapsed": false
   },
   "outputs": [
    {
     "name": "stdout",
     "output_type": "stream",
     "text": [
      "// Lösung:\r\n",
      "\r\n",
      "class Test {\r\n",
      "    public static void main(String args[]) {\r\n",
      "        for(int i=0; i<10; ++i) {\r\n",
      "            if (i%2==0) {\r\n",
      "                System.out.println(args[0]+args[1]+\" \"+i);\r\n",
      "            } else {\r\n",
      "                System.out.println(\"Nichts\");\r\n",
      "            }\r\n",
      "        }\r\n",
      "    }\r\n",
      "}\r\n",
      "|  created class Test\r\n",
      "\r\n",
      "\r\n",
      "\r\n",
      "String[] arr = new String[2];\r\n",
      "arr ==> [Ljava.lang.String;@53b32d7\r\n",
      "\r\n",
      "arr[0]=\"Hallo\"; arr[1]=\"Welt\";\r\n",
      "$3 ==> \"Hallo\"\r\n",
      "$4 ==> \"Welt\"\r\n",
      "\r\n",
      "Test.main(arr);\r\n",
      "HalloWelt 0\r\n",
      "Nichts\r\n",
      "HalloWelt 2\r\n",
      "Nichts\r\n",
      "HalloWelt 4\r\n",
      "Nichts\r\n",
      "HalloWelt 6\r\n",
      "Nichts\r\n",
      "HalloWelt 8\r\n",
      "Nichts\r\n",
      "\r\n"
     ]
    }
   ],
   "source": [
    "// Lösung:\n",
    "class Test {\n",
    "    public static void main(String args[]) {\n",
    "        for(int i=0; i<10; ++i) {\n",
    "            if (i%2==0) {\n",
    "                System.out.println(args[0]+args[1]+\" \"+i);\n",
    "            } else {\n",
    "                System.out.println(\"Nichts\");\n",
    "            }\n",
    "        }\n",
    "    }\n",
    "}\n",
    "\n",
    "String[] arr = new String[2];\n",
    "arr[0]=\"Hallo\"; arr[1]=\"Welt\";\n",
    "Test.main(arr);\n"
   ]
  },
  {
   "cell_type": "markdown",
   "metadata": {},
   "source": [
    "# Aufgabe 2 (Gültigkeitsbereiche)\n",
    "## a)\n",
    "In der Regel werden Gültigkeitsbereiche in Java durch geschweifte Klammern festgelegt. Überlegen Sie sich ein Beispiel in dem auf geschweifte Klammern verzichtet werden kann.\n",
    "## b)\n",
    "Welchen Wert hat die Variable `a` am Ende des folgenden Codeausschnitts?\n",
    "```Java\n",
    "int a = 1;\n",
    "int b = 2;\n",
    "while (a < b) {\n",
    "    {\n",
    "        int a = 4;\n",
    "        a += b;\n",
    "    }\n",
    "    a++;\n",
    "}\n",
    "\n",
    "a += 4;\n",
    "```"
   ]
  },
  {
   "cell_type": "markdown",
   "metadata": {},
   "source": [
    "# Aufgabe 3 (Portieren von Python nach Java)\n",
    "Gegeben sei das folgende Python Programm:\n",
    "```Python\n",
    "double some_function(x, y):\n",
    "    z = 5;\n",
    "    if (z > x):\n",
    "        print(x, y)\n",
    "        return x + y\n",
    "    else:\n",
    "        print(z)\n",
    "        return z\n",
    "    \n",
    "}\n",
    "\n",
    "a = 4\n",
    "b = 4.5\n",
    "c = a + b\n",
    "\n",
    "a += some_function(b, c)\n",
    "System.out.println(a)\n",
    "```\n",
    "\n",
    "## a)\n",
    "Was ist die Ausgabe des Programms?\n",
    "## b) \n",
    "Portieren Sie das obige Python Programm in ein syntaktisch korrektes Java-Programm. Tipp: Realisieren Sie die Ausgaben mithilfe der Methode `System.out.println`.\n",
    "## c)\n",
    "Warum kann der folgende Python Code nicht einfach durch das Hinzufügen von Typen in Java übersetzt werden?\n",
    "```Python\n",
    "a = 4\n",
    "a = 5.6\n",
    "```"
   ]
  },
  {
   "cell_type": "code",
   "execution_count": null,
   "metadata": {
    "collapsed": true
   },
   "outputs": [],
   "source": []
  },
  {
   "cell_type": "markdown",
   "metadata": {},
   "source": [
    "# Aufgabe 3 (Datentypen und Schleifen)\n",
    "Im Folgenden sollen Sie ein Java-Programm schreiben und erweitern, das zwei Zahlen miteinander multipliziert und dabei nur die Operatoren `+` oder `-` benutzen darf. as Ergebnis der Berechnung soll am Ende des Programms ausgegeben werden. \n",
    "## a)\n",
    "Schreiben Sie ein Java Programm, das nur mithilfe des +-Operators zwei natürliche Zahlen miteinander multipliziert und am Ende ausgibt.\n",
    "## b)\n",
    "Ändern Sie das Programm insofern ab, dass sowohl natürliche als auch Gleitkommazahlen miteinander multipliziert werden können.\n",
    "## c)\n",
    "Erweitern Sie ihr Programm aus Teilaufgabe b), sodass jedes Zwischenergebnis in einem Array gespeichert wird. Zusätzlich zum Ergebnis, soll der Inhalt des Arrays am Ende mithilfe einer `for`-Schleife ausgegeben werden."
   ]
  },
  {
   "cell_type": "code",
   "execution_count": null,
   "metadata": {
    "collapsed": true
   },
   "outputs": [],
   "source": []
  },
  {
   "cell_type": "markdown",
   "metadata": {},
   "source": [
    "# Aufgabe 4 (Referenzen)\n",
    "Ähnlich wie in Python, arbeitet Java mit (Objekt-)Referenzen. Die Klasse `String` wird von der Sprache Java bereitgestellt. Objekte dieser Klasse verhalten sich ähnlich zu den aus Python bekannten `str`-Variablen.\n",
    "Betrachten sie zunächst den folgenden Codeausschnitt:\n",
    "\n",
    "```Java\n",
    "class Mensch {\n",
    "    public String name;\n",
    "}\n",
    "\n",
    "void swap(Mensch a, Mensch b)\n",
    "{\n",
    "    Mensch tmp = a;\n",
    "    a = b;\n",
    "    b = tmp;\n",
    "}\n",
    "\n",
    "Mensch m1 = new Mensch();\n",
    "m1.name = \"Walter White\";\n",
    "\n",
    "Mensch m2 = new Mensch();\n",
    "m2.name = \"Jessie Pinkman\";\n",
    "\n",
    "swap(m1, m2);\n",
    "\n",
    "System.out.println(m1.name);\n",
    "System.out.println(m2.name);\n",
    "```\n",
    "\n",
    "## a)\n",
    "Die Funktion `swap` soll eigentlich zwei übergebene `Mensch`-Objekte austauschen, d.h. das Attribut `name` des Objekts `m1` soll nach Aufruf der Funktion den String \"Jessie Pinkman\" und, `m2.name` den String \"Walter White\" enthalten. Warum gelingt der Funktion dies nicht?\n",
    "## b)\n",
    "Verändern Sie den Körper der Funktion `swap` insofern, dass das in Teilaufgabe a) beschriebene Ergebnis erzielt wird. Sie dürfen die Signatur der Funktion dementsprechend nicht verändern."
   ]
  },
  {
   "cell_type": "code",
   "execution_count": null,
   "metadata": {
    "collapsed": true
   },
   "outputs": [],
   "source": []
  }
 ],
 "metadata": {
  "kernelspec": {
   "display_name": "Java 9",
   "language": "java",
   "name": "java"
  },
  "language_info": {
   "file_extension": ".class",
   "mimetype": "application/java-vm",
   "name": "java"
  }
 },
 "nbformat": 4,
 "nbformat_minor": 1
}
