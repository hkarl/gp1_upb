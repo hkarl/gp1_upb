{
 "cells": [
  {
   "cell_type": "markdown",
   "metadata": {},
   "source": [
    "# Aufgabe 1\n",
    "\n",
    "Betrachen Sie die Klasse `Exam` und die Ausprägungen `e1`, `e2`, `e3`, `e4` & `e5`.\n",
    "\n",
    "Welche der Objekte sind dieselben wie andere (\"`a is b`\"), welche von ihnen sind gleich (\"`a == b`\")? Ergänzen Sie Testausgaben, zu überprüfen, ob Sie richtig liegen.\n",
    "\n",
    "Sind die Ausgaben wie erwartet? Falls nicht, was könnte dazu geführt haben? Müssen Sie die Klasse ergänzen?"
   ]
  },
  {
   "cell_type": "code",
   "execution_count": null,
   "metadata": {
    "collapsed": false
   },
   "outputs": [],
   "source": [
    "class Exam:\n",
    "    def __init__(self, students, topic):\n",
    "        self.students = students\n",
    "        self.topic = topic\n",
    "    \n",
    "e1 = Exam(400, \"GP1\")\n",
    "e2 = Exam(400, \"GP1\")\n",
    "e3 = Exam(150, \"GP1\")\n",
    "e4 = Exam(150, \"MOD\")\n",
    "e5 = e3"
   ]
  },
  {
   "cell_type": "markdown",
   "metadata": {},
   "source": [
    "# Aufgabe 2\n",
    "\n",
    "Sehen Sie sich die Klasse `Rectangle` an. `x1` & `y1` sind die Koordinaten einer Ecke und `x2` & `y2` die Koordinaten einer zweiten Ecke, die gemeinsam ein Rechteck aufspannen. Ergänzen Sie die fehlenden Funktionen:\n",
    "\n",
    "* `moveCorner(???)` soll eine der beiden Ecken verschieben. Überlegen Sie sich außerdem, welche Parameter für die Funktion sinnvoll sind.\n",
    "* `moveRectangle(self, x1, y1, x2, y2)` soll das Rechteck an eine neue Position verschieben. Nutzen Sie hierzu ausschließlich Aufrufe der Funktion `moveCorner(???)`.\n",
    "* `getPerimeter(self)` berechnet den Umfang des Rechtecks und gibt diesen zurück.\n",
    "* `__eq__(self, otherRect)` überprüft, ob `otherRect` ein Rechteck mit denselben Eckpunkten aufspannt wie `self`. Reicht es hier, `x1` mit dem anderen `x1` zu vergleichen, `y1` mit dem anderen `y1` etc.? Oder müssen noch mehr Vergleiche angestellt werden?\n",
    "\n",
    "Denken Sie sich sinnvolle Beispiele aus und schreiben Sie mit Hilfe der `assert`-Funktion Tests, um alle Funktionen zu testen."
   ]
  },
  {
   "cell_type": "code",
   "execution_count": 8,
   "metadata": {
    "collapsed": false
   },
   "outputs": [],
   "source": [
    "class Rectangle:\n",
    "    def __init__(self, x1, y1, x2, y2):\n",
    "        self.x1 = x1\n",
    "        self.y1 = y1\n",
    "        self.x2 = x2\n",
    "        self.y2 = y2\n",
    "        \n",
    "    def moveCorner(???):\n",
    "        # YOUR CODE HERE\n",
    "        pass\n",
    "        \n",
    "    def moveRectangle(self, x1, y1, x2, y2):\n",
    "        # YOUR CODE HERE\n",
    "        pass\n",
    "        \n",
    "    def getPerimeter(self):\n",
    "        # YOUR CODE HERE\n",
    "        pass\n",
    "    \n",
    "    def __eq__(self, otherRect):\n",
    "        # YOUR CODE HERE\n",
    "        pass"
   ]
  },
  {
   "cell_type": "markdown",
   "metadata": {},
   "source": [
    "# Aufgabe 3\n",
    "\n",
    "Erstellen Sie eine Klasse `Student`. Lesen Sie zunächst die gesamte Aufgabenstellung, bevor Sie mit der Programmierung anfangen.\n",
    "\n",
    "* Für die Initialisierung des Studenten wird ein Vor- und ein Nachname benötigt. Bei der Initialisierung wird der Student automatisch immatrikuliert.\n",
    "* Bei der Immatrikulation erhält der Student eine Matrikelnummer.\n",
    "* Die Matrikelnummer hat 7 Stellen und ein Student kann keine Matrikelnummer erhalten, die bereits ein anderer Student hat.\n",
    "* Bei der Exmatrikulation wird die Matrikelnummer verfügbar für neue Studenten.\n",
    "* Der Student kann eine Klausur schreiben, falls er immatrikuliert ist. Wenn er dies tut, erhält er eine Note. Nehmen Sie der Einfachheit halber an, dass es nur glatte Noten von 1 bis 5 gibt.\n",
    "* Der aktuelle Notenschnitt (Durchschnitt durch alle Noten, die der Student erhalten hat) kann ausgegeben werden.\n",
    "* Der Immatrikulationsstatus (falls immatrikuliert, inkl. Matrikelnummer) kann ausgegeben werden.\n",
    "* Die Anzahl der aktuell immatrikulierten Studenten kann ausgegeben werden.\n",
    "\n",
    "Am Ende des Codeblocks finden Sie ein Beispiel, wie Zufallszahlen in Python erzeugt werden können."
   ]
  },
  {
   "cell_type": "code",
   "execution_count": 37,
   "metadata": {
    "collapsed": false
   },
   "outputs": [
    {
     "name": "stdout",
     "output_type": "stream",
     "text": [
      "2\n"
     ]
    }
   ],
   "source": [
    "import random\n",
    "\n",
    "class Student:\n",
    "    # YOUR CODE HERE\n",
    "    pass\n",
    "\n",
    "\n",
    "\n",
    "\n",
    "\n",
    "# Beispiel für Zufallszahlen\n",
    "print(random.randint(0,9)) # Erzeugt eine Zufallszahl zwischen 0 und 9 (inklusive 0 & 9)."
   ]
  },
  {
   "cell_type": "markdown",
   "metadata": {},
   "source": [
    "# (Aufgabe 4)\n",
    "\n",
    "## a)\n",
    "\n",
    "Sie sollen eine Liste mit Zahlen sortieren (kleinste Zahl am Anfang, größte Zahl am Ende). Verändern Sie den Code außerhalb der Funktionen nicht. Ergänzen Sie die drei Funktionen:\n",
    "\n",
    "* `check(L)` überprüft, ob die übergebene Liste fertig sortiert ist. Falls ja, gibt sie True zurück, andernfalls False.\n",
    "* `swap(L, index)` tauscht das Element der Liste an der Stelle `index` mit dem nachfolgenden Element (an der Stelle `index+1`). Sie benötigt keinen Rückgabewert.\n",
    "* `sorting(L)` sortiert die Liste. Sie überprüft, ob die Liste fertig sortiert ist mit Hilfe von `check(L)`. Falls nein, vergleicht Sie von Anfang bis Ende der Liste jeweils zwei benachbarte Werte. Sollte der erste Wert größer sein als sein Nachfolger, werden die Werte mit `swap(L, index)` getauscht."
   ]
  },
  {
   "cell_type": "code",
   "execution_count": 5,
   "metadata": {
    "collapsed": false
   },
   "outputs": [
    {
     "name": "stdout",
     "output_type": "stream",
     "text": [
      "[-45, 0, 1, 2, 5, 6, 7, 7, 19, 89]\n"
     ]
    }
   ],
   "source": [
    "def check(L):\n",
    "    # YOUR CODE HERE\n",
    "    pass\n",
    "\n",
    "def swap(L, index):\n",
    "    # YOUR CODE HERE\n",
    "    pass\n",
    "\n",
    "def sorting(L):\n",
    "    # YOUR CODE HERE\n",
    "    pass\n",
    "\n",
    "L = [7, 1, -45, 19, 89, 0, 5, 2, 7, 6]\n",
    "sorting(L)\n",
    "print(L)\n",
    "assert L == [-45, 0, 1, 2, 5, 6, 7, 7, 19, 89]"
   ]
  },
  {
   "cell_type": "markdown",
   "metadata": {},
   "source": [
    "## b)\n",
    "\n",
    "Erkundigen Sie sich im Internet zu \"Bubblesort\". Schreiben Sie anschließend mit Hilfe verschachtelten `for`- und/oder `while`-Schleifen eine kürzere Sortier-Funktion `bubbleSort(L)`. Vergleichen Sie sie mit dem Ansatz aus Aufgabenteil a)."
   ]
  },
  {
   "cell_type": "code",
   "execution_count": 2,
   "metadata": {
    "collapsed": false
   },
   "outputs": [
    {
     "name": "stdout",
     "output_type": "stream",
     "text": [
      "[7, 1, -45, 19, 89, 0, 5, 2, 7, 6]\n"
     ]
    },
    {
     "ename": "AssertionError",
     "evalue": "",
     "output_type": "error",
     "traceback": [
      "\u001b[0;31m---------------------------------------------------------------------------\u001b[0m",
      "\u001b[0;31mAssertionError\u001b[0m                            Traceback (most recent call last)",
      "\u001b[0;32m<ipython-input-2-e7e702622ae2>\u001b[0m in \u001b[0;36m<module>\u001b[0;34m()\u001b[0m\n\u001b[1;32m      7\u001b[0m \u001b[0msort\u001b[0m\u001b[0;34m(\u001b[0m\u001b[0mL\u001b[0m\u001b[0;34m)\u001b[0m\u001b[0;34m\u001b[0m\u001b[0m\n\u001b[1;32m      8\u001b[0m \u001b[0mprint\u001b[0m\u001b[0;34m(\u001b[0m\u001b[0mL\u001b[0m\u001b[0;34m)\u001b[0m\u001b[0;34m\u001b[0m\u001b[0m\n\u001b[0;32m----> 9\u001b[0;31m \u001b[0;32massert\u001b[0m \u001b[0mL\u001b[0m \u001b[0;34m==\u001b[0m \u001b[0;34m[\u001b[0m\u001b[0;34m-\u001b[0m\u001b[0;36m45\u001b[0m\u001b[0;34m,\u001b[0m \u001b[0;36m0\u001b[0m\u001b[0;34m,\u001b[0m \u001b[0;36m1\u001b[0m\u001b[0;34m,\u001b[0m \u001b[0;36m2\u001b[0m\u001b[0;34m,\u001b[0m \u001b[0;36m5\u001b[0m\u001b[0;34m,\u001b[0m \u001b[0;36m6\u001b[0m\u001b[0;34m,\u001b[0m \u001b[0;36m7\u001b[0m\u001b[0;34m,\u001b[0m \u001b[0;36m7\u001b[0m\u001b[0;34m,\u001b[0m \u001b[0;36m19\u001b[0m\u001b[0;34m,\u001b[0m \u001b[0;36m89\u001b[0m\u001b[0;34m]\u001b[0m\u001b[0;34m\u001b[0m\u001b[0m\n\u001b[0m",
      "\u001b[0;31mAssertionError\u001b[0m: "
     ]
    }
   ],
   "source": [
    "def bubbleSort(L):\n",
    "    # YOUR CODE HERE\n",
    "    pass\n",
    "\n",
    "\n",
    "L = [7, 1, -45, 19, 89, 0, 5, 2, 7, 6]\n",
    "bubbleSort(L)\n",
    "print(L)\n",
    "assert L == [-45, 0, 1, 2, 5, 6, 7, 7, 19, 89]"
   ]
  },
  {
   "cell_type": "markdown",
   "metadata": {},
   "source": [
    "## c)\n",
    "\n",
    "Erkundigen Sie sich im Internet, wie man in Python Listen einfach sortieren kann. Ergänzen Sie die entsprechende Codezeile.\n",
    "\n",
    "Ist es trotz solcher hilfreichen Funktionen dennoch nützlich, Sortieralgorithmen selbst schreiben zu können? Warum?"
   ]
  },
  {
   "cell_type": "code",
   "execution_count": null,
   "metadata": {
    "collapsed": true
   },
   "outputs": [],
   "source": [
    "L = [7, 1, -45, 19, 89, 0, 5, 2, 7, 6]\n",
    "# YOUR CODE HERE\n",
    "print(L)\n",
    "assert L == [-45, 0, 1, 2, 5, 6, 7, 7, 19, 89]"
   ]
  }
 ],
 "metadata": {
  "anaconda-cloud": {},
  "kernelspec": {
   "display_name": "Python 3",
   "language": "python",
   "name": "python3"
  },
  "language_info": {
   "codemirror_mode": {
    "name": "ipython",
    "version": 3
   },
   "file_extension": ".py",
   "mimetype": "text/x-python",
   "name": "python",
   "nbconvert_exporter": "python",
   "pygments_lexer": "ipython3",
   "version": "3.4.2"
  }
 },
 "nbformat": 4,
 "nbformat_minor": 1
}
