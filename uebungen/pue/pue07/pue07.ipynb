{
 "cells": [
  {
   "cell_type": "markdown",
   "metadata": {},
   "source": [
    "# Aufgabe 1\n",
    "\n",
    "## a)\n",
    "\n",
    "Erklären Sie, worin sich `def` und `class` unterscheiden. Überlegen Sie sich hierzu, welche Zahlenfolge im folgenden Beispiel ausgegeben wird und warum."
   ]
  },
  {
   "cell_type": "code",
   "execution_count": null,
   "metadata": {
    "collapsed": false
   },
   "outputs": [],
   "source": [
    "print(\"1\")\n",
    "\n",
    "def f():\n",
    "    print (\"2\")\n",
    "\n",
    "print(\"3\")\n",
    "\n",
    "class C:\n",
    "    print (\"4\")\n",
    "    def g(self):\n",
    "        print (\"5\")\n",
    "    def __init__(self):\n",
    "        print(\"6\")\n",
    "\n",
    "    print (\"7\")\n",
    "\n",
    "print(\"8\")\n",
    "c = C()\n",
    "print(\"9\")\n",
    "C()\n",
    "print(\"10\")"
   ]
  },
  {
   "cell_type": "markdown",
   "metadata": {},
   "source": [
    "## b)\n",
    "\n",
    "Betrachen Sie die Klasse `Exam` und die Instanzen `e1`, `e2`, `e3`, `e4` & `e5`.\n",
    "\n",
    "Welche der Objekte sind dieselben wie andere (\"`a is b`\"), welche von ihnen sind gleich (\"`a == b`\")? Ergänzen Sie Testausgaben um zu überprüfen, ob Sie richtig liegen.\n",
    "\n",
    "Sind die Ausgaben wie erwartet? Falls nicht, was könnte dazu geführt haben? Müssen Sie die Klasse ergänzen?\n",
    "\n",
    "Mit http://www.pythontutor.com/ können Sie sich die Gleichheit von Objekten sehr schön visualisieren lassen."
   ]
  },
  {
   "cell_type": "code",
   "execution_count": null,
   "metadata": {
    "collapsed": false
   },
   "outputs": [],
   "source": [
    "class Exam:\n",
    "    def __init__(self, num_students, subject):\n",
    "        self.num_students = num_students\n",
    "        self.subject = subject\n",
    "    \n",
    "e1 = Exam(400, \"GP1\")\n",
    "e2 = Exam(400, \"GP1\")\n",
    "e3 = Exam(150, \"GP1\")\n",
    "e4 = Exam(150, \"MOD\")\n",
    "e5 = e3"
   ]
  },
  {
   "cell_type": "markdown",
   "metadata": {},
   "source": [
    "# Aufgabe 2\n",
    "\n",
    "Sehen Sie sich die Klasse `Rectangle` an. `corner1` sind die Koordinaten einer Ecke (`corner1[0]` ist die x-Koordinate und `corner1[1]` die y-Koordinate) und `corner2` die Koordinaten einer zweiten Ecke, die gemeinsam ein Rechteck aufspannen. Ergänzen Sie die fehlenden Funktionen:\n",
    "\n",
    "* `moveCorner(???)` soll eine der beiden Ecken verschieben. Überlegen Sie sich außerdem, welche Parameter für die Funktion sinnvoll sind.\n",
    "* `moveRectangle(self, corner1, corner2)` soll das Rechteck an eine neue Position verschieben. Nutzen Sie hierzu ausschließlich Aufrufe der Funktion `moveCorner(???)`.\n",
    "* `getPerimeter(self)` berechnet den Umfang des Rechtecks und gibt diesen zurück.\n",
    "* `__eq__(self, otherRect)` überprüft, ob `otherRect` ein Rechteck mit denselben Eckpunkten aufspannt wie `self`. Reicht es hier, `corner1` mit der anderen `corner1` zu vergleichen und `corner2` mit der anderen `corner2`? Oder müssen noch mehr Vergleiche angestellt werden?\n",
    "* `__lt__(self, otherRect)` überprüft, ob `otherRect` das Rechteck `self` vollständig überdeckt. D.h., alle Eckpunkte für `self` liegen innerhalb der Fläche, die `otherRect` aufspannt. lt steht für \"Lower Than\", sodass der Vergleichsoperator `<` überschrieben wird und nutzbar wird für Vergleiche von Rechtecken.\n",
    "\n",
    "Vergessen Sie nicht, Ihren Code mit Hilfe von Doc Strings zu dokumentieren!\n",
    "\n",
    "Denken Sie sich sinnvolle Beispiele aus und schreiben Sie mit Hilfe der `assert`-Funktion Tests, um alle Funktionen zu testen. Bedenken Sie auch hier wie in Aufgabe 1 den Unterschied zwischen denselben (`is`) und gleichen (`==`) Objekten.\n",
    "\n",
    "Wenn Sie fertig sind, erstellen Sie ein UML-Diagramm zur Klasse `Rectangle`, das eine Übersicht über die implementierten Funktionen und verwendeten Variablen gibt. Welche Variablen müssen im UML-Diagramm abgebildet werden?"
   ]
  },
  {
   "cell_type": "code",
   "execution_count": null,
   "metadata": {
    "collapsed": false
   },
   "outputs": [],
   "source": [
    "class Rectangle:\n",
    "    def __init__(self, corner1, corner2):\n",
    "        self.corner1 = corner1\n",
    "        self.corner2 = corner2\n",
    "        \n",
    "    def moveCorner(???):\n",
    "        # YOUR CODE HERE\n",
    "        pass\n",
    "        \n",
    "    def moveRectangle(self, corner1, corner2):\n",
    "        # YOUR CODE HERE\n",
    "        pass\n",
    "        \n",
    "    def getPerimeter(self):\n",
    "        # YOUR CODE HERE\n",
    "        pass\n",
    "    \n",
    "    def __eq__(self, otherRect):\n",
    "        # YOUR CODE HERE\n",
    "        pass\n",
    "    \n",
    "    def __lt__(self, otherRect):\n",
    "        # YOUR CODE HERE\n",
    "        pass"
   ]
  },
  {
   "cell_type": "markdown",
   "metadata": {},
   "source": [
    "# Aufgabe 3\n",
    "\n",
    "## a)\n",
    "\n",
    "Erstellen Sie eine Klasse `Student`. Lesen Sie zunächst die gesamte Aufgabenstellung, bevor Sie mit der Programmierung anfangen.\n",
    "\n",
    "* Für die Initialisierung des Studenten wird ein Vor- und ein Nachname benötigt. Bei der Initialisierung wird der Student automatisch immatrikuliert.\n",
    "* Bei der Immatrikulation erhält der Student eine Matrikelnummer.\n",
    "* Die Matrikelnummer hat 7 Stellen und ein Student kann keine Matrikelnummer erhalten, die bereits ein anderer Student hat.\n",
    "* Der Student kann eine Klausur schreiben, falls er immatrikuliert ist. Wenn er dies tut, erhält er eine Note. Nehmen Sie der Einfachheit halber an, dass es nur glatte Noten von 1 bis 5 gibt.\n",
    "* Jede Note wird als `dict` gespeichert. Dabei ist der Key die jeweilige Vorlesung und der Value ein Tuple mit sämtlichen Noten, die in diesem Fach geschrieben wurden (falls eine Klausur wiederholt wurde).\n",
    "* Der aktuelle Notenschnitt (Durchschnitt durch alle Noten, die der Student erhalten hat) kann ausgegeben werden. Tipp: Mit List Comprehension geht das sehr einfach!\n",
    "* Der Immatrikulationsstatus (falls immatrikuliert, inkl. Matrikelnummer) kann ausgegeben werden.\n",
    "* Die Anzahl der aktuell immatrikulierten Studenten kann ausgegeben werden.\n",
    "\n",
    "Erstellen Sie **als Erstes** ein UML-Diagramm zur Klasse `Student`, um zu planen, welche Variablen und welche Funktionen Sie mit welchen Parametern benötigen. Dann beginnen Sie mit der Programmierung und verändern Sie Ihr UML-Diagramm nicht mehr.\n",
    "\n",
    "Am Ende des Codeblocks finden Sie ein Beispiel, wie Zufallszahlen in Python erzeugt werden können.\n",
    "\n",
    "Vergessen Sie nicht, Ihren Code mit Hilfe von Doc Strings zu dokumentieren!\n",
    "\n",
    "Wenn Sie fertig sind mit der Implementierung, vergleichen Sie Ihren fertigen Code mit Ihrem zuvor erstellten UML-Diagramm. Hat es Ihnen geholfen? Fehlt etwas? Ist mehr da als erwartet?\n",
    "\n",
    "## b)\n",
    "\n",
    "Wenn Sie Aufgabenteil a) fertig implementiert haben und noch eine Herausforderung suchen: Erweitern Sie die Klasse `Student` so, dass bei der Exmatrikulation die Matrikelnummer des exmatrikulierten Studenten wieder verfügbar wird und von neu immatrikulierten Studenten benutzt werden kann."
   ]
  },
  {
   "cell_type": "code",
   "execution_count": null,
   "metadata": {
    "collapsed": false
   },
   "outputs": [],
   "source": [
    "import random\n",
    "\n",
    "class Student:\n",
    "    # YOUR CODE HERE\n",
    "    pass\n",
    "\n",
    "\n",
    "\n",
    "\n",
    "\n",
    "# Beispiel für Zufallszahlen\n",
    "print(random.randint(0,9)) # Erzeugt eine Zufallszahl zwischen 0 und 9 (inklusive 0 & 9)."
   ]
  },
  {
   "cell_type": "markdown",
   "metadata": {},
   "source": [
    "# Aufgabe 4\n",
    "\n",
    "## a)\n",
    "\n",
    "Sie sollen eine Liste mit Zahlen sortieren (kleinste Zahl am Anfang, größte Zahl am Ende). Verändern Sie den Code außerhalb der Funktionen nicht. Ergänzen Sie die drei Funktionen:\n",
    "\n",
    "* `check(L)` überprüft, ob die übergebene Liste fertig sortiert ist. Falls ja, gibt sie True zurück, andernfalls False.\n",
    "* `swap(L, index)` tauscht das Element der Liste an der Stelle `index` mit dem nachfolgenden Element (an der Stelle `index+1`). Sie benötigt keinen Rückgabewert.\n",
    "* `sorting(L)` sortiert die Liste. Sie überprüft, ob die Liste fertig sortiert ist mit Hilfe von `check(L)`. Falls ja, wird `sorting(L)` mit `return` beendet. Falls nein, vergleicht Sie von Anfang bis Ende der Liste jeweils zwei benachbarte Werte. Sollte der erste Wert größer sein als sein Nachfolger, werden die Werte mit `swap(L, index)` getauscht. Nachdem die gesamte Liste durchgegangen wurde, beginnt die Funktion von Anfang an (mit `check(L)`) neu, bis die Liste sortiert ist. Tipp: Den \"Neustart\" von `sorting(L)` können Sie entweder mit einem Rekursionsaufruf oder einer `while`-Schleife umsetzen.\n",
    "\n",
    "Vergessen Sie nicht, Ihren Code mit Hilfe von Doc Strings zu dokumentieren!"
   ]
  },
  {
   "cell_type": "code",
   "execution_count": null,
   "metadata": {
    "collapsed": false
   },
   "outputs": [],
   "source": [
    "def check(L):\n",
    "    # YOUR CODE HERE\n",
    "    pass\n",
    "\n",
    "def swap(L, index):\n",
    "    # YOUR CODE HERE\n",
    "    pass\n",
    "\n",
    "def sorting(L):\n",
    "    # YOUR CODE HERE\n",
    "    pass\n",
    "\n",
    "L = [7, 1, -45, 19, 89, 0, 5, 2, 7, 6]\n",
    "sorting(L)\n",
    "print(L)\n",
    "assert L == [-45, 0, 1, 2, 5, 6, 7, 7, 19, 89]"
   ]
  },
  {
   "cell_type": "markdown",
   "metadata": {},
   "source": [
    "## b)\n",
    "\n",
    "Erkundigen Sie sich im Internet zu \"Bubblesort\". Schreiben Sie anschließend mit Hilfe verschachtelten `for`- und/oder `while`-Schleifen eine kürzere Sortier-Funktion `bubbleSort(L)`. Vergleichen Sie sie mit dem Ansatz aus Aufgabenteil a)."
   ]
  },
  {
   "cell_type": "code",
   "execution_count": null,
   "metadata": {
    "collapsed": false
   },
   "outputs": [],
   "source": [
    "def bubbleSort(L):\n",
    "    # YOUR CODE HERE\n",
    "    pass\n",
    "\n",
    "\n",
    "L = [7, 1, -45, 19, 89, 0, 5, 2, 7, 6]\n",
    "bubbleSort(L)\n",
    "print(L)\n",
    "assert L == [-45, 0, 1, 2, 5, 6, 7, 7, 19, 89]"
   ]
  },
  {
   "cell_type": "markdown",
   "metadata": {},
   "source": [
    "## c)\n",
    "\n",
    "Erkundigen Sie sich im Internet, wie man in Python Listen einfach sortieren kann. Ergänzen Sie die entsprechende Codezeile.\n",
    "\n",
    "Ist es trotz solcher hilfreichen Funktionen dennoch nützlich, Sortieralgorithmen selbst schreiben zu können? Warum?"
   ]
  },
  {
   "cell_type": "code",
   "execution_count": null,
   "metadata": {
    "collapsed": true
   },
   "outputs": [],
   "source": [
    "L = [7, 1, -45, 19, 89, 0, 5, 2, 7, 6]\n",
    "# YOUR CODE HERE\n",
    "print(L)\n",
    "assert L == [-45, 0, 1, 2, 5, 6, 7, 7, 19, 89]"
   ]
  },
  {
   "cell_type": "markdown",
   "metadata": {},
   "source": [
    "# Zusatzaufgabe\n",
    "\n",
    "Schreiben Sie eine Funktion, die einen String, eine ganze Zahl oder ein Tupel übergeben bekommt und **rekursiv** herausfindet, ob es sich dabei um ein Palindrom handelt. Ignorieren Sie dabei ggf. Leerzeichen. Die Funktion gibt `True` zurück, falls es sich um ein Palindrom handelt und `False` sonst.\n",
    "\n",
    "Ein Palindrom ist etwas, das von links nach rechts gelesen exakt gleich ist wie von rechts nach links gelesen, z.B.: \"reliefpfeiler\", 482284 oder \"eine horde bedrohe nie\".\n",
    "\n",
    "Wenn Sie möchten, können Sie die Funktion auch noch erweitern, sodass auch Groß- und Kleinbuchstaben gleich behandelt werden, und beispielsweise \"Otto\" ebenfalls akzeptiert wird."
   ]
  },
  {
   "cell_type": "code",
   "execution_count": null,
   "metadata": {
    "collapsed": true
   },
   "outputs": [],
   "source": [
    "def palindrom(pal):\n",
    "    # YOUR CODE HERE\n",
    "    pass\n",
    "\n",
    "assert palindrom(\"reliefpfeiler\") == True\n",
    "assert palindrom(482284) == True\n",
    "assert palindrom(\"eine horde bedrohe nie\") == True\n",
    "assert palindrom(123421) == False"
   ]
  }
 ],
 "metadata": {
  "anaconda-cloud": {},
  "kernelspec": {
   "display_name": "Python 3",
   "language": "python",
   "name": "python3"
  },
  "language_info": {
   "codemirror_mode": {
    "name": "ipython",
    "version": 3
   },
   "file_extension": ".py",
   "mimetype": "text/x-python",
   "name": "python",
   "nbconvert_exporter": "python",
   "pygments_lexer": "ipython3",
   "version": "3.4.2"
  }
 },
 "nbformat": 4,
 "nbformat_minor": 1
}
