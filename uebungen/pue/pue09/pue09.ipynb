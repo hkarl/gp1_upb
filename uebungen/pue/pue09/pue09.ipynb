{
 "cells": [
  {
   "cell_type": "markdown",
   "metadata": {},
   "source": [
    "# Aufgabe 1: Zeichenprogramm revisited\n",
    "\n",
    "Betrachten Sie die folgende Implementierung des Zeichenprogramms aus PÜ8 (Anmerkung: Kommentare und Docstrings wurden hier bewusst weggelassen, damit Sie versuchen allein durch Lesen des Codes das Programm zu verstehen).\n",
    "\n",
    "```Python\n",
    "class Shape:\n",
    "    shape_type = \"\"\n",
    "    \n",
    "    def __init__(self, c='*'):\n",
    "        self.color = c\n",
    "    \n",
    "    def scale(self, factor):\n",
    "        pass\n",
    "    \n",
    "    def draw(self):\n",
    "        pass\n",
    "    \n",
    "class Square(Shape):\n",
    "    shape_type = \"Quadrat\"\n",
    "    \n",
    "    def __init__(self, w, *args, **kwargs):\n",
    "        Shape.__init__(self, *args, **kwargs)\n",
    "        self.width = w\n",
    "    \n",
    "    def __str__(self):\n",
    "        return Square.shape_type + \" mit Breite \" + str(self.width)\n",
    "    \n",
    "    def draw(self):\n",
    "        for i in range(self.width):\n",
    "            for j in range(self.width):\n",
    "                print(self.color,end=\"\")\n",
    "            print()\n",
    "    \n",
    "    def scale(self, factor):\n",
    "        self.width *= factor\n",
    "    \n",
    "class Rectangle(Shape):\n",
    "    shape_type = \"Rechteck\"\n",
    "    \n",
    "    def __init__(self, w, h, *args, **kwargs):\n",
    "        Shape.__init__(self, *args, **kwargs)\n",
    "        self.width = w\n",
    "        self.height = h\n",
    "    \n",
    "    def __str__(self):\n",
    "        return Rectangle.shape_type + \" mit Breite \" + str(self.width) + \" und Höhe \" + str(self.height)\n",
    "    \n",
    "    def draw(self):\n",
    "        for i in range(self.height):\n",
    "            for j in range(self.width):\n",
    "                print(self.color,end=\"\")\n",
    "            print()\n",
    "    \n",
    "    def scale(self, factor):\n",
    "        self.width *= factor\n",
    "        self.height *= factor\n",
    "        \n",
    "        \n",
    "q1 = Square(4, c=\"#\")\n",
    "r1 = Rectangle(3, 4)\n",
    "\n",
    "print(q1)\n",
    "q1.draw()\n",
    "\n",
    "print(r1)\n",
    "r1.draw()\n",
    "```\n",
    "\n",
    "## a)\n",
    "Beantworten Sie die folgenden Fragen:\n",
    "1. Warum hat `q1` eine andere Farbe als `r1`? Welche Rolle spielen die Parameter `*args` und `**kwargs` hierbei?\n",
    "2. Warum wird der Konstruktor von `Shape` in den Konstruktoren der Klassen `Square` und `Rectangle` aufgerufen? Was würde passieren, wenn nicht?\n",
    "3. Warum ist es schlechter Stil, den Konstuktor von `Shape` explizit aufzurufen (Stichwort: DRY - Don't repeat yourself) und wie sollte man dies umgehen?\n",
    "4. Wie könnten Sie den Ausdruck `Square.shape_type` (in `Square.__str__`) umschreiben, sodass der Klassenname nicht explizit auftaucht, aber trotzdem das entsprechende Klassenattribut benutzt wird?\n",
    "\n",
    "\n",
    "## b)\n",
    "Zeichnen Sie das UML-Klassendiagramm der Implementierung."
   ]
  },
  {
   "cell_type": "markdown",
   "metadata": {},
   "source": [
    "# Aufgabe 2: Vererbung erweitert\n",
    "## a)\n",
    "Überdenken Sie die Vererbungshierarchie aus 1a). Inwieweit könnte man sie noch verfeinern? Berücksichtigen Sie nicht nur die Hierarchie, sondern auch, welche Klasse welche Methoden implementiert. Macht es Sinn, `Square` von `Rectangle` erben zu lassen oder andersherum (Stichwort: `is-a´-Beziehung)? Zeichnen Sie ein UML-Klassendiagramm.\n",
    "## b)\n",
    "Implementieren Sie Ihr Klassendiagramm aus Teilaufgabe a) indem Sie den Code in der Zelle unter Aufgabe 2e) verändern (Hinweis: Der Code ist nahezu identisch mit dem aus Aufgabe 1). Berücksichtigen Sie dabei Ihre Überlegungen aus Aufgabe 1a). \n",
    "## c)\n",
    "Erweitern Sie den Code:\n",
    "1. Die Methode `scale` der Klasse `Square` soll `scale` der Klasse `Rectangle` verwenden.\n",
    "2. Die Methode `__str__` der Klasse `Square` soll `__str__` der Klasse `Rectangle` verwenden, welches wiederum `__str__` der Klasse `Shape` nutzen soll.\n",
    "\n",
    "## d)\n",
    "In der vorliegenden Implementierung muss das nachträgliche Verändern von Objektattributen direkt über die Attribute passieren, z.B.:\n",
    "```Python\n",
    "q1 = Square(4)\n",
    "q1.width = 10\n",
    "```\n",
    "Überlegen Sie, welche Nachteile dies mit sich bringt. Wären die in der Vorlesung vorgestellten \"getter\" und \"setter\" eine geeignete Alternative? Implementieren Sie die Methoden `get_width(self)`, `get_height(self)`, `set_width(self, w)` und `set_height(self, h)`. Was sind die Vor- und Nachteile?\n",
    "## e)\n",
    "Angenommen, Sie haben keine getter und setter (wie in d)) implementiert. Stellen Sie sich vor, Ihr Code würde mittlerweile von sehr vielen Programmierern benutzt, von denen die meisten nicht darauf achten, dass Breite und Höhe von `Square`-Objekten immer gleich sind. In der Vorlesung haben Sie das Konzept der \"Properties\" kennengelernt. Implementieren Sie für die Attribute `width` und `height` je eine solche Property, sodass sichergestellt wird, dass die Werte der Attribute für `Square`-Ojekte immer gleich sind. Welche Konsequenzen hat dies für Code, der Ihre Klassen benutzt?"
   ]
  },
  {
   "cell_type": "code",
   "execution_count": 4,
   "metadata": {
    "collapsed": true
   },
   "outputs": [],
   "source": [
    "class Shape:\n",
    "    def __init__(self,c='*'):\n",
    "        self.color = c\n",
    "    \n",
    "class Square(Shape):\n",
    "    shape_type = \"Quadrat\"\n",
    "    \n",
    "    def __init__(self, w, *args, **kwargs):\n",
    "        super().__init__(*args, **kwargs)\n",
    "        self.width = w\n",
    "    \n",
    "    def __str__(self):\n",
    "        return Square.shape_type + \" mit Breite \" + str(self.width)\n",
    "    \n",
    "    def draw(self):\n",
    "        for i in range(self.width):\n",
    "            for j in range(self.width):\n",
    "                print(self.color,end=\"\")\n",
    "            print()\n",
    "    \n",
    "    def scale(self, factor):\n",
    "        self.width *= factor\n",
    "    \n",
    "class Rectangle(Shape):\n",
    "    shape_type = \"Rechteck\"\n",
    "    \n",
    "    def __init__(self, w, h, *args, **kwargs):\n",
    "        super().__init__(*args, **kwargs)\n",
    "        self.width = w\n",
    "        self.height = h\n",
    "    \n",
    "    def __str__(self):\n",
    "        return Rectangle.shape_type + \" mit Breite \" + str(self.width) + \" und Höhe \" + str(self.height)\n",
    "    \n",
    "    def draw(self):\n",
    "        for i in range(self.height):\n",
    "            for j in range(self.width):\n",
    "                print(self.color,end=\"\")\n",
    "            print()\n",
    "    \n",
    "    def scale(self, factor):\n",
    "        self.width *= factor\n",
    "        self.height *= factor"
   ]
  },
  {
   "cell_type": "markdown",
   "metadata": {},
   "source": [
    "# Aufgabe 3: Ausnahmebehandlung einfach\n",
    "In dieser Aufgabe sollen Sie ein Programm schreiben, das anhand von eingegebenen Daten eine Visitenkarte erstellt. Die Visitenkarte soll folgendermaßen aussehen:\n",
    "```\n",
    "-------------------------\n",
    "| <vorname> <nachname>  |\n",
    "| <telefonnummer>       |\n",
    "| <alter>               |\n",
    "-------------------------\n",
    "```\n",
    "## a)\n",
    "Erstellen Sie eine Klasse `Visitenkarte`, welche Methoden und Attribute (als Properties) bereitstellt, um die obige Visitenkarte zu erstellen. Die Visitenkarte soll mithilfe der bekannten Funktion `print` gedruckt werden können."
   ]
  },
  {
   "cell_type": "code",
   "execution_count": null,
   "metadata": {
    "collapsed": true
   },
   "outputs": [],
   "source": [
    "class Visitenkarte:\n",
    "    # Your code here"
   ]
  },
  {
   "cell_type": "markdown",
   "metadata": {},
   "source": [
    "## b) \n",
    "Schreiben Sie nun ein Programm, welches den Benutzer auffordert, seine Daten einzugeben und dann daraus die entsprechende Visitenkarte generiert. Nutzen Sie dazu die Klasse `Visitenkarte`.\n",
    "Implementieren Sie dazu u.a. die folgenden drei Funktionen:\n",
    "- `alter_eingeben()`: Fordert den Benutzer auf, sein Alter einzugeben und liefert die Eingabe als Integer Wert zurück.\n",
    "- `name_eingeben()`: Fordert den Benutzer auf, seinen Vor- und Nachnamen einzugeben.\n",
    "- `nummer_eingeben()`: Fordert den Benutzer auf, seine Telefonnummer einzugeben. Die Nummer darf ein \"/\" als Trennzeichen enthalten und mit \"+\" (+ Ländercode) starten.\n",
    "\n",
    "Hinweis: Sie dürfen hier **ausnahmsweise** `input()` benutzen. **In den Heimübungen verzichten Sie weiterhin auf diese Funktion!**\n",
    "\n",
    "## c)\n",
    "Alle Funktionen sollen nun eine Ausnahme auslösen, wenn die jeweilige Eingabe nicht bestimmten Vorgaben entspricht. Überlegen Sie sich dazu zunächst für jede Funktion sinnvolle Checks (z.B. min/max Alter).\n",
    "\n",
    "## d)\n",
    "Implementieren Sie Ihre Checks aus Aufgabenteil c), sodass die Funktionen eine Ausnahme auslösen, wenn ein Check fehlschlägt. Schauen Sie dazu zunächst online, ob es eine passende, bestehende Exception-Klasse gibt, die Sie nutzen können (z.B. hier: https://docs.python.org/3/library/exceptions.html#bltin-exceptions). Im Zweifel können Sie auch Ihre eigene Klasse erstellen, die von einer geeigneten `Exception`-Klasse ableitet, und diese auslösen. Ihre Exception sollte einen aussagekräftigen Grund enthalten.\n",
    "\n",
    "## e)\n",
    "Sie sollten die Ausnahmen natürlich auch im Hauptprogramm entsprechend behandeln. Klammern Sie die Aufrufe dazu in einem try-except-Block und geben Sie den jeweiligen Grund für die Exception aus. Wenn eine Eingabe eine Exception auslöst, sollte die entsprechende Eingabe vom Benutzer wiederholt werden."
   ]
  },
  {
   "cell_type": "markdown",
   "metadata": {},
   "source": [
    "# Aufgabe 4: Ausnahmebehandlung erweitert\n",
    "Das Öffnen und Lesen von Dateien ist ein fehleranfälliger Prozess. Zum Beispiel sind nicht immer die eigentlich erwarteten Dateinamen vorhanden (z.B. wenn Sie versuchen, im Code die Datei \"pue09.ipynb\" zu öffnen, diese aber nicht existiert).\n",
    "\n",
    "## a) \n",
    "Schreiben Sie eine Funktion `lesen(filepath)`, die einen Dateinamen übergeben bekommt und den Inhalt der Datei zeilenweise ausliest. Sie soll die Zeilen der Datei als Liste von Strings zurückgeben, sofern sich die Datei öffnen lässt.\n",
    "\n",
    "Nutzen Sie dazu die eingebaute (built-in) Funktion `open`. Diese erwartet zwei Parameter: Den Namen der zu öffnenden Datei und ob die Datei zum Lesen oder schreiben geöffnet werden soll. Zum Lesen wird der Buchstabe \"r\" als zweiter Parameter übergeben. Als Rückgabewert erhalten Sie einen sogenannten *file handle* - ein Objekt, dass die Datei in Ihrem Programm repräsentiert.\n",
    "\n",
    "**Wichtig**: Eine offene Datei muss in jedem Fall wieder geschlossen werden, selbst wenn das Öffnen scheiterte. Das geschieht mit `f.close()`, wenn `f` der file handle ist, den `open` erzeugt hat."
   ]
  },
  {
   "cell_type": "code",
   "execution_count": null,
   "metadata": {
    "collapsed": true
   },
   "outputs": [],
   "source": [
    "def lesen(filepath):\n",
    "    #Your code here"
   ]
  },
  {
   "cell_type": "markdown",
   "metadata": {},
   "source": [
    "## b)\n",
    "Wirklich robust ist Ihre Funktion leider nicht, da `open` eine Exception auslöst, wenn das Öffnen der Datei fehlschlägt. Recherchieren Sie dazu zunächst, welche Art von Exception Sie behandeln müssen (z.B. hier. https://docs.python.org/3.5/library/functions.html).\n",
    "\n",
    "Implementieren Sie nun eine Funktion `robust_lesen(filepath)`, die alle nötigen Exceptions behandelt, indem Sie den Code der Funktion `lesen` in einen try/except/else/finally Block integrieren. Überlegen Sie sich dazu, welcher Code in welchem Block sein muss (insbesondere das `return` und das Schließen der Datei, welches in **jedem** Fall passieren sollte)."
   ]
  },
  {
   "cell_type": "code",
   "execution_count": null,
   "metadata": {
    "collapsed": true
   },
   "outputs": [],
   "source": [
    "def robust_lesen(filepath):\n",
    "    #Your robust code here"
   ]
  },
  {
   "cell_type": "markdown",
   "metadata": {},
   "source": [
    "## c)\n",
    "Lesen Sie nun die Datei \"pue09.ipynb\" unter Benutzung der Funktion `robust_lesen` ein und geben Sie den Inhalt aus. Wenn dies funktioniert, testen Sie Ihre Fehlerbehandlung, indem Sie z.B. versuchen, die Datei \"pue9.ipynb\" zu öffnen."
   ]
  },
  {
   "cell_type": "code",
   "execution_count": null,
   "metadata": {
    "collapsed": true
   },
   "outputs": [],
   "source": [
    "# Your code here"
   ]
  },
  {
   "cell_type": "markdown",
   "metadata": {},
   "source": [
    "## d) \n",
    "Ein typischer Fehler ist, die Endung der Datei im übergebenen Dateipfad zu vergessen (z.B. \"pue09\").\n",
    "\n",
    "Implementieren Sie die Funktion `wirklich_robust_lesen`, die versucht mithilfe von `robust_lesen` eine Datei auszulesen. Wenn `robust_lesen` eine Datei nicht öffnen kann und folglich eine Exception auslöst, soll diese in `wirklich_robust_lesen` aufgefangen werden. Anschließend soll die Funktion versuchen eine gleichnamige Datei mit einer der folgenden Dateiendungen einzulesen: '.txt', '.json' oder '.ipynb'. Wenn sich keine solche Datei findet, soll `wirklich_robust_lesen` die von `robust_lesen` ausgelöste Exception weiterleiten."
   ]
  },
  {
   "cell_type": "code",
   "execution_count": null,
   "metadata": {
    "collapsed": true
   },
   "outputs": [],
   "source": [
    "def wirklich_robust_lesen(filepath):\n",
    "    # Your more robust code here"
   ]
  },
  {
   "cell_type": "markdown",
   "metadata": {},
   "source": [
    "## e)\n",
    "Sorgen Sie nun dafür, dass sämtliche Exceptions, die von `robust_lesen` und `wirklich_robust_lesen` ausgelöst werden, im Hauptprogramm behandelt werden und das Programm sauber und mit einer verständlichen Fehlermeldung terminiert."
   ]
  },
  {
   "cell_type": "code",
   "execution_count": null,
   "metadata": {
    "collapsed": true
   },
   "outputs": [],
   "source": [
    "# Your robust main program here"
   ]
  }
 ],
 "metadata": {
  "anaconda-cloud": {},
  "kernelspec": {
   "display_name": "Python 3",
   "language": "python",
   "name": "python3"
  },
  "language_info": {
   "codemirror_mode": {
    "name": "ipython",
    "version": 3
   },
   "file_extension": ".py",
   "mimetype": "text/x-python",
   "name": "python",
   "nbconvert_exporter": "python",
   "pygments_lexer": "ipython3",
   "version": "3.5.2"
  }
 },
 "nbformat": 4,
 "nbformat_minor": 1
}
