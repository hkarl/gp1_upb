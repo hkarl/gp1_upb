{
 "cells": [
  {
   "cell_type": "markdown",
   "metadata": {},
   "source": [
    "# Aufgabe 1: Zeichenprogramm revisited\n",
    "\n",
    "Betrachten Sie die folgende Implementierung des Zeichenprogramms aus PÜ8.\n",
    "\n",
    "```Python\n",
    "class Shape:\n",
    "    def __init__(self, c='*'):\n",
    "        self.color = c\n",
    "    \n",
    "    def scale(self, factor):\n",
    "        pass\n",
    "    \n",
    "class Square(Shape):\n",
    "    shape_type = \"Quadrat\"\n",
    "    \n",
    "    def __init__(self, w, *args, **kwargs):\n",
    "        Shape.__init__(self, *args, **kwargs)\n",
    "        self.width = w\n",
    "    \n",
    "    def __str__(self):\n",
    "        return Square.shape_type + \" mit Breite \" + str(self.width)\n",
    "    \n",
    "    def draw(self):\n",
    "        for i in range(self.width):\n",
    "            for j in range(self.width):\n",
    "                print(self.color,end=\"\")\n",
    "            print()\n",
    "    \n",
    "    def scale(self, factor):\n",
    "        self.width *= factor\n",
    "    \n",
    "class Rectangle(Shape):\n",
    "    shape_type = \"Rechteck\"\n",
    "    \n",
    "    def __init__(self, w, h, *args, **kwargs):\n",
    "        Shape.__init__(self, *args, **kwargs)\n",
    "        self.width = w\n",
    "        self.height = h\n",
    "    \n",
    "    def __str__(self):\n",
    "        return Rectangle.shape_type + \" mit Breite \" + str(self.width) + \" und Höhe \" + str(self.height)\n",
    "    \n",
    "    def draw(self):\n",
    "        for i in range(self.height):\n",
    "            for j in range(self.width):\n",
    "                print(self.color,end=\"\")\n",
    "            print()\n",
    "    \n",
    "    def scale(self, factor):\n",
    "        self.width *= factor\n",
    "        self.height *= factor\n",
    "        \n",
    "        \n",
    "q1 = Square(4, c=\"#\")\n",
    "r1 = Rectangle(3, 4)\n",
    "\n",
    "print(q1)\n",
    "q1.draw()\n",
    "\n",
    "print(r1)\n",
    "r1.draw()\n",
    "```\n",
    "\n",
    "## a)\n",
    "Beantworten Sie die folgenden Fragen:\n",
    "1. Warum hat `q1` eine andere Farbe als `r1`? Welche Rolle spielen die Parameter `*args` und `**kwargs` hierbei?\n",
    "2. Warum wird der Konstruktor von `Shape` in den Konstruktoren der Klassen `Square` und `Rectangle` aufgerufen? Was würde passieren, wenn nicht?\n",
    "3. Warum ist es schlechter Stil, den Konstuktor von `Shape` explizit aufzurufen (Stichwort: DRY - Don't repeat yourself) und wie sollte man dies umgehen?\n",
    "4. Wie könnten Sie den Ausdruck `Square.shape_type` (in `Square.__str__`) umschreiben, sodass der Klassenname nicht explizit auftaucht, aber trotzdem das entsprechende Klassenattribut benutzt wird?\n",
    "\n",
    "\n",
    "## b)\n",
    "Zeichnen Sie das UML-Klassendiagramm der Implementierung."
   ]
  },
  {
   "cell_type": "markdown",
   "metadata": {},
   "source": [
    "# Aufgabe 2: Vererbung erweitert\n",
    "## a)\n",
    "Überdenken Sie die Vererbungshierarchie aus 1a). Inwieweit könnte man sie noch verfeinern? Berücksichtigen Sie nicht nur die Hierarchie, sondern auch, welche Klasse welche Methoden implementiert. Macht es Sinn, `Square` von `Rectangle` erben zu lassen oder andersherum (Stichwort: `is-a´-Beziehung)? Zeichnen Sie ein UML-Klassendiagramm.\n",
    "## b)\n",
    "Implementieren Sie Ihr Klassendiagramm aus Teilaufgabe a). Berücksichtigen Sie dabei Ihre Überlegungen aus Aufgabe 1a). Verändern Sie dazu den Code in der unteren Zelle (Hinweis: Der Code ist identisch mit dem aus Aufgabe 1).\n",
    "## c)\n",
    "Erweitern Sie den Code:\n",
    "1. Die Methode `scale` der Klasse `Square` soll `scale` der Klasse `Rectangle` verwenden.\n",
    "2. Die Methode `__str__` der Klasse `Square` soll `__str__` der Klasse `Rectangle` verwenden, welches wiederum `__str__` der Klasse `Shape` nutzen soll.\n",
    "\n",
    "## d)\n",
    "In der vorliegenden Implementierung muss das nachträgliche Verändern von Objektattributen direkt über die Attribute passieren, z.B.:\n",
    "```Python\n",
    "q1 = Square(4)\n",
    "q1.width = 10\n",
    "```\n",
    "Überlegen Sie, welche Nachteile dies mit sich bringt. Wären die in der Vorlesung vorgestellten \"getter\" und \"setter\" eine geeignete Alternative? Implementieren Sie die Methoden `getWidth(self)`, `getHeight(self)`, `setWidth(self, w)` und `setHeight(self, h)`. Was sind die Vor- und Nachteile?\n",
    "## e)\n",
    "Angenommen, Sie haben keine getter und setter (wie in d)) implementiert. Stellen Sie sich vor, Ihr Code würde mittlerweile von sehr vielen Programmierern benutzt, von denen die meisten nicht darauf achten, dass Breite und Höhe von `Square`-Objekten immer gleich sind. In der Vorlesung haben Sie das Konzept der \"Properties\" kennengelernt. Implementieren Sie für die Attribute `width` und `height` je eine solche Property, sodass sichergestellt wird, dass die Werte der Attribute für `Square`-Ojekte immer gleich sind. Welche Konsequenzen hat dies für Code, der Ihre Klassen benutzt?"
   ]
  },
  {
   "cell_type": "code",
   "execution_count": 4,
   "metadata": {
    "collapsed": true
   },
   "outputs": [],
   "source": [
    "class Shape:\n",
    "    def __init__(self,c='*'):\n",
    "        self.color = c\n",
    "    \n",
    "class Square(Shape):\n",
    "    shape_type = \"Quadrat\"\n",
    "    \n",
    "    def __init__(self, w, *args, **kwargs):\n",
    "        Shape.__init__(self, *args, **kwargs)\n",
    "        self.width = w\n",
    "    \n",
    "    def __str__(self):\n",
    "        return Square.shape_type + \" mit Breite \" + str(self.width)\n",
    "    \n",
    "    def draw(self):\n",
    "        for i in range(self.width):\n",
    "            for j in range(self.width):\n",
    "                print(self.color,end=\"\")\n",
    "            print()\n",
    "    \n",
    "    def scale(self, factor):\n",
    "        self.width *= factor\n",
    "    \n",
    "class Rectangle(Shape):\n",
    "    shape_type = \"Rechteck\"\n",
    "    \n",
    "    def __init__(self, w, h, *args, **kwargs):\n",
    "        Shape.__init__(self, *args, **kwargs)\n",
    "        self.width = w\n",
    "        self.height = h\n",
    "    \n",
    "    def __str__(self):\n",
    "        return Rectangle.shape_type + \" mit Breite \" + str(self.width) + \" und Höhe \" + str(self.height)\n",
    "    \n",
    "    def draw(self):\n",
    "        for i in range(self.height):\n",
    "            for j in range(self.width):\n",
    "                print(self.color,end=\"\")\n",
    "            print()\n",
    "    \n",
    "    def scale(self, factor):\n",
    "        self.width *= factor\n",
    "        self.height *= factor"
   ]
  },
  {
   "cell_type": "markdown",
   "metadata": {},
   "source": [
    "# Aufgabe 3: Ausnahmebehandlung einfach\n",
    "In dieser Aufgabe sollen Sie ein Programm schreiben, das anhand von eingegebenen Daten eine Visitenkarte erstellt. Die Visitenkarte soll folgendermaßen aussehen:\n",
    "```\n",
    "-------------------------\n",
    "| <vorname> <nachname>  |\n",
    "| <telefonnummer>       |\n",
    "| <alter>               |\n",
    "-------------------------\n",
    "```\n",
    "## a)\n",
    "Erstellen Sie eine Klasse `Visitenkarte`, welche Methoden und Attribute (als Properties) bereitstellt, um die obige Visitenkarte zu erstellen. Die Visitenkarte soll mithilfe der bekannten Funktion `print` gedruckt werden können."
   ]
  },
  {
   "cell_type": "code",
   "execution_count": null,
   "metadata": {
    "collapsed": true
   },
   "outputs": [],
   "source": [
    "class Visitenkarte:\n",
    "    # Your code here"
   ]
  },
  {
   "cell_type": "markdown",
   "metadata": {},
   "source": [
    "## b) \n",
    "Schreiben Sie nun ein Programm, welches den Benutzer auffordert, seine Daten einzugeben und dann daraus die entsprechende Visitenkarte generiert. Nutzen Sie dazu die Klasse `Visitenkarte`.\n",
    "Implementieren Sie dazu u.a. die folgenden drei Funktionen:\n",
    "- `alter_eingeben()`: Fordert den Benutzer auf, sein Alter einzugeben und liefert die Eingabe als Integer Wert zurück.\n",
    "- `name_eingeben()`: Fordert den Benutzer auf, seinen Vor- und Nachnamen einzugeben.\n",
    "- `nummer_eingeben()`: Fordert den Benutzer auf, seine Telefonnummer einzugeben. Die Nummer darf ein \"/\" als Trennzeichen enthalten und mit \"+\" (+ Ländercode) starten.\n",
    "\n",
    "Hinweis: Sie dürfen hier **ausnahmsweise** `input()` benutzen. **In den Heimübungen verzichten Sie weiterhin auf diese Funktion!**\n",
    "\n",
    "## c)\n",
    "Alle Funktionen sollen nun eine Ausnahme auslösen, wenn die jeweilige Eingabe nicht bestimmten Vorgaben entspricht. Überlegen Sie sich dazu zunächst für jede Funktion sinnvolle Checks (z.B. min/max Alter).\n",
    "\n",
    "## d)\n",
    "Implementieren Sie Ihre Checks aus Aufgabenteil c), sodass die Funktionen eine Ausnahme auslösen, wenn ein Check fehlschlägt. Schauen Sie dazu zunächst online, ob es eine passende, bestehende Exception-Klasse gibt, die Sie nutzen können (z.B. hier: https://docs.python.org/3/library/exceptions.html#bltin-exceptions). Im Zweifel können Sie auch Ihre eigene Klasse erstellen, die von einer geeigneten `Exception`-Klasse ableitet, und diese auslösen. Ihre Exception sollte einen aussagekräftigen Grund enthalten.\n",
    "\n",
    "## e)\n",
    "Sie sollten die Ausnahmen natürlich auch im Hauptprogramm entsprechend behandeln. Klammern Sie die Aufrufe dazu in einem try-except-Block und geben Sie den jeweiligen Grund für die Exception aus. Wenn eine Eingabe eine Exception auslöst, sollte die entsprechende Eingabe vom Benutzer wiederholt werden."
   ]
  },
  {
   "cell_type": "markdown",
   "metadata": {},
   "source": [
    "# Aufgabe 4: Ausnahmebehandlung erweitert\n",
    "Das Öffnen und Lesen von Dateien ist ein fehleranfälliger Prozess. Zum Beispiel sind nicht immer die eigentlich erwarteten Dateinamen vorhanden (z.B. wenn Sie versuchen, im Code die Datei \"pue09.ipynb\" zu öffnen, diese aber nicht existiert).\n",
    "\n",
    "## a) \n",
    "Schreiben Sie eine Funktion `lesen(filepath)`, die einen Dateinamen übergeben bekommt und den Inhalt der Datei zeilenweise ausliest. Sie soll die Zeilen der Datei als Liste von Strings zurückgeben, sofern sich die Datei öffnen lässt.\n",
    "\n",
    "Nutzen Sie dazu die eingebaute (built-in) Funktion `open`. Diese erwartet zwei Parameter: Den Namen der zu öffnenden Datei und ob die Datei zum Lesen oder schreiben geöffnet werden soll. Zum Lesen wird der Buchstabe \"r\" als zweiter Parameter übergeben. Als Rückgabewert erhalten Sie einen sogenannten *file handle* - ein Objekt, dass die Datei in Ihrem Programm repräsentiert.\n",
    "\n",
    "**Wichtig**: Eine offene Datei muss in jedem Fall wieder geschlossen werden, selbst wenn das Öffnen scheiterte. Das geschieht mit `f.close()`, wenn `f` der file handle ist, den `open` erzeugt hat."
   ]
  },
  {
   "cell_type": "code",
   "execution_count": null,
   "metadata": {
    "collapsed": true
   },
   "outputs": [],
   "source": [
    "def lesen(filepath):\n",
    "    #Your code here"
   ]
  },
  {
   "cell_type": "markdown",
   "metadata": {},
   "source": [
    "## b)\n",
    "Wirklich robust ist Ihre Funktion leider nicht, da `open` eine Exception auslöst, wenn das Öffnen der Datei fehlschlägt. Recherchieren Sie dazu zunächst, welche Art von Exception Sie behandeln müssen (z.B. hier. https://docs.python.org/3.5/library/functions.html).\n",
    "\n",
    "Implementieren Sie nun eine Funktion `robust_lesen(filepath)`, die alle nötigen Exceptions behandelt, indem Sie den Code der Funktion `lesen` in einen try/except/else/finally Block integrieren. Überlegen Sie sich dazu, welcher Code in welchem Block sein muss (insbesondere das `return` und das Schließen der Datei, welches in **jedem** Fall passieren sollte)."
   ]
  },
  {
   "cell_type": "code",
   "execution_count": null,
   "metadata": {
    "collapsed": true
   },
   "outputs": [],
   "source": [
    "def robust_lesen(filepath):\n",
    "    #Your robust code here"
   ]
  },
  {
   "cell_type": "markdown",
   "metadata": {},
   "source": [
    "## c)\n",
    "Lesen Sie nun die Datei \"pue09.ipynb\" unter Benutzung der Funktion `robust_lesen` ein und geben Sie den Inhalt aus. Wenn dies funktioniert, testen Sie Ihre Fehlerbehandlung, indem Sie z.B. versuchen, die Datei \"pue9.ipynb\" zu öffnen."
   ]
  },
  {
   "cell_type": "code",
   "execution_count": null,
   "metadata": {
    "collapsed": true
   },
   "outputs": [],
   "source": [
    "# Your code here"
   ]
  },
  {
   "cell_type": "markdown",
   "metadata": {},
   "source": [
    "## d) \n",
    "Ein typischer Fehler ist, die Endung der Datei im übergebenen Dateipfad zu vergessen (z.B. \"pue09\").\n",
    "\n",
    "Erweitern Sie `robust_lesen` zu einer Funktion `wirklich_robust_lesen`, die im Falle einer nicht gefundenen Datei prüft, ob eine Datei mit einem der folgenden Dateiendungen existiert: '.txt', '.json' oder '.ipynb'. In allen anderen Fällen soll ein Fehler signalisiert werden. Achten Sie auf die Reihenfolge!"
   ]
  },
  {
   "cell_type": "code",
   "execution_count": null,
   "metadata": {
    "collapsed": true
   },
   "outputs": [],
   "source": [
    "def wirklich_robust_lesen(filepath):\n",
    "    # Your more robust code here"
   ]
  },
  {
   "cell_type": "markdown",
   "metadata": {},
   "source": [
    "## e)\n",
    "Sorgen Sie nun dafür, dass sämtliche Exceptions, die von `robust_lesen` und `wirklich_robust_lesen` ausgelöst werden, im Hauptprogramm behandelt werden und das Programm sauber und mit einer verständlichen Fehlermeldung terminiert."
   ]
  },
  {
   "cell_type": "code",
   "execution_count": null,
   "metadata": {
    "collapsed": true
   },
   "outputs": [],
   "source": [
    "# Your robust main program here"
   ]
  },
  {
   "cell_type": "code",
   "execution_count": 3,
   "metadata": {
    "collapsed": false
   },
   "outputs": [
    {
     "name": "stdout",
     "output_type": "stream",
     "text": [
      "Datei pue9 nicht gefunden\n"
     ]
    },
    {
     "ename": "FileNotFoundError",
     "evalue": "[Errno 2] No such file or directory: 'pue9'",
     "output_type": "error",
     "traceback": [
      "\u001b[0;31m---------------------------------------------------------------------------\u001b[0m",
      "\u001b[0;31mFileNotFoundError\u001b[0m                         Traceback (most recent call last)",
      "\u001b[0;32m<ipython-input-3-026522d13ad0>\u001b[0m in \u001b[0;36m<module>\u001b[0;34m()\u001b[0m\n\u001b[1;32m     38\u001b[0m \u001b[0;34m\u001b[0m\u001b[0m\n\u001b[1;32m     39\u001b[0m \u001b[0;31m# lines = robust_lesen('pue09')\u001b[0m\u001b[0;34m\u001b[0m\u001b[0;34m\u001b[0m\u001b[0m\n\u001b[0;32m---> 40\u001b[0;31m \u001b[0mlines\u001b[0m \u001b[0;34m=\u001b[0m \u001b[0mrobust_lesen\u001b[0m\u001b[0;34m(\u001b[0m\u001b[0;34m'pue9'\u001b[0m\u001b[0;34m)\u001b[0m\u001b[0;34m\u001b[0m\u001b[0m\n\u001b[0m",
      "\u001b[0;32m<ipython-input-3-026522d13ad0>\u001b[0m in \u001b[0;36mrobust_lesen\u001b[0;34m(dateiname)\u001b[0m\n\u001b[1;32m      2\u001b[0m \u001b[0;34m\u001b[0m\u001b[0m\n\u001b[1;32m      3\u001b[0m     \u001b[0;32mtry\u001b[0m\u001b[0;34m:\u001b[0m\u001b[0;34m\u001b[0m\u001b[0m\n\u001b[0;32m----> 4\u001b[0;31m         \u001b[0mf\u001b[0m \u001b[0;34m=\u001b[0m \u001b[0mopen\u001b[0m\u001b[0;34m(\u001b[0m\u001b[0mdateiname\u001b[0m\u001b[0;34m,\u001b[0m \u001b[0;34m'r'\u001b[0m\u001b[0;34m)\u001b[0m\u001b[0;34m\u001b[0m\u001b[0m\n\u001b[0m\u001b[1;32m      5\u001b[0m     \u001b[0;32mexcept\u001b[0m \u001b[0mFileNotFoundError\u001b[0m\u001b[0;34m:\u001b[0m\u001b[0;34m\u001b[0m\u001b[0m\n\u001b[1;32m      6\u001b[0m         \u001b[0mprint\u001b[0m\u001b[0;34m(\u001b[0m\u001b[0;34m\"Datei {} nicht gefunden\"\u001b[0m\u001b[0;34m.\u001b[0m\u001b[0mformat\u001b[0m\u001b[0;34m(\u001b[0m\u001b[0mdateiname\u001b[0m\u001b[0;34m)\u001b[0m\u001b[0;34m)\u001b[0m\u001b[0;34m\u001b[0m\u001b[0m\n",
      "\u001b[0;31mFileNotFoundError\u001b[0m: [Errno 2] No such file or directory: 'pue9'"
     ]
    }
   ],
   "source": [
    "# To be removed before publish\n",
    "\n",
    "def robust_lesen(dateiname):\n",
    "    \n",
    "    try:\n",
    "        f = open(dateiname, 'r')\n",
    "    except FileNotFoundError:\n",
    "        print(\"Datei {} nicht gefunden\".format(dateiname))\n",
    "        raise\n",
    "    else:\n",
    "        l = f.readlines()\n",
    "    finally: \n",
    "        # make sure the file is closed, \n",
    "        # but it might not have been opened \n",
    "        try:\n",
    "            f.close()\n",
    "        except Exception:\n",
    "            pass\n",
    "        \n",
    "    return(l)\n",
    "        \n",
    "        \n",
    "def wirklich_robust_lesen(dateiname,\n",
    "                         endungen=['.txt', '.json', '.ipynb']):\n",
    "    \n",
    "    try: \n",
    "        l = robust_lesen(dateiname)\n",
    "    except OSError:\n",
    "        # let's try with extensions: \n",
    "        for e in endungen:\n",
    "            try: \n",
    "                l = robust_lesen(dateiname+e)\n",
    "                print(\"gefunden: {}\".format(dateiname+e))\n",
    "                return(l)\n",
    "            except Exception: \n",
    "                pass\n",
    "        else:\n",
    "            # no file, even with Endungen\n",
    "            raise \n",
    "\n",
    "# lines = robust_lesen('pue09')\n",
    "lines = robust_lesen('pue9')"
   ]
  },
  {
   "cell_type": "code",
   "execution_count": null,
   "metadata": {
    "collapsed": true
   },
   "outputs": [],
   "source": []
  }
 ],
 "metadata": {
  "anaconda-cloud": {},
  "kernelspec": {
   "display_name": "Python 3",
   "language": "python",
   "name": "python3"
  },
  "language_info": {
   "codemirror_mode": {
    "name": "ipython",
    "version": 3
   },
   "file_extension": ".py",
   "mimetype": "text/x-python",
   "name": "python",
   "nbconvert_exporter": "python",
   "pygments_lexer": "ipython3",
   "version": "3.5.1"
  }
 },
 "nbformat": 4,
 "nbformat_minor": 1
}
