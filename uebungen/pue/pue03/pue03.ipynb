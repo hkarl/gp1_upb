{
 "cells": [
  {
   "cell_type": "markdown",
   "metadata": {},
   "source": [
    "## Aufgabe 1\n",
    "Erklären Sie den Unterschied zwischen dem Datentyp str und dem Datentyp byte. Nutzen Sie dazu gängige Internetsuchmaschinen oder die Sprachdefinition von Python. Begründen Sie, warum beide Typen benötigt werden."
   ]
  },
  {
   "cell_type": "markdown",
   "metadata": {},
   "source": [
    "## Aufgabe 2\n",
    "\n",
    "* Schreiben Sie ein Programm, das zunächst ein Wort einliest und dann eine beliebige natürliche Zahl n. Anschließend soll das Wort n-mal hintereinander ausgegeben werden (ohne Schleifen).\n",
    "* Verändern Sie das Programm, sodass nach jeder Wiederholung des Wortes eine neue Zeile angefangen wird.\n",
    "* Verändern Sie das Programm erneut. Diesmal soll die eingelesene Zahl zunächst gedrittelt und anschließend potenziert werden. Das Wort soll danach dementsprechend (n/3)² mal ausgegeben und dabei jeweils durch einen Tab von der nächsten Wiederholung abgetrennt sein.\n",
    "\n",
    "Testen Sie nach jedem Aufgabenteil, ob ihr Programm ordnungsgemäß funktioniert."
   ]
  },
  {
   "cell_type": "code",
   "execution_count": null,
   "metadata": {
    "collapsed": false
   },
   "outputs": [],
   "source": [
    "# Your Code Here"
   ]
  },
  {
   "cell_type": "code",
   "execution_count": 2,
   "metadata": {
    "collapsed": false,
    "scrolled": true
   },
   "outputs": [
    {
     "data": {
      "text/plain": [
       "5"
      ]
     },
     "execution_count": 2,
     "metadata": {},
     "output_type": "execute_result"
    }
   ],
   "source": [
    "A = \"Hallo\"\n",
    "b = \"Halloe\"\n",
    "len(A)"
   ]
  },
  {
   "cell_type": "markdown",
   "metadata": {},
   "source": [
    "## Aufgabe 3\n",
    "a) Weisen Sie der Variable a einen Wert zu und geben Sie diese anschließend aus.\n",
    "\n",
    "b) Weisen Sie der Variable b einen Wert zu und weisen Sie a anschließend den Wert von b zu.\n",
    "\n",
    "c) Weisen Sie b nun einen anderen Wert zu und geben Sie a aus.\n",
    "\n",
    "d) Tauschen Sie den Wert von a mit dem von b aus und umgekehrt. \n"
   ]
  },
  {
   "cell_type": "markdown",
   "metadata": {},
   "source": [
    "## Aufgabe 4 \n",
    "a) Schreiben Sie ein Programm, dass zunächst nach dem Zinssatz fragt und anschließend nach dem Startkapital. Danach soll das Programm, die erhaltenen Zinsen und das neue Kapital ausgeben.\n",
    "\n",
    "b) Ändern Sie das obige Programm, sodass es nur keine Variablen oder Zuweisungen verwendet.\n",
    "\n",
    "c) Beschreiben Sie wozu Variablen innerhalb von Programmiersprachen genutzt werden und warum diese essentiell sind."
   ]
  },
  {
   "cell_type": "code",
   "execution_count": 4,
   "metadata": {
    "collapsed": false
   },
   "outputs": [
    {
     "name": "stdout",
     "output_type": "stream",
     "text": [
      "Startkapital:100\n",
      "Zinssatz:0.1\n",
      "Startkapital:100\n",
      "Zinssatz:0.1\n",
      "Startkapital:100\n",
      "10.0 110.0\n"
     ]
    }
   ],
   "source": [
    "print(int(input(\"Startkapital:\"))*float(input(\"Zinssatz:\")),int(input(\"Startkapital:\"))*float(input(\"Zinssatz:\"))\n",
    "     + int(input(\"Startkapital:\")))"
   ]
  },
  {
   "cell_type": "markdown",
   "metadata": {},
   "source": [
    "## Aufgabe 5\n",
    "\n",
    "a) Definieren Sie zwei Variablen a und b und weisen Sie ihnen beliebige Werte zu. Tauschen Sie die Werte der beiden Variablen, ohne weitere Variablen zu verwenden.\n",
    "\n",
    "b) Definieren Sie vier Variablen a, b, c und d und weisen Sie ihnen beliebige Werte zu. Verwenden Sie Zuweisungen, sodass nach Ablauf ihres Programms der Wert aus a in b steht, der Wert aus b in c, der Wert aus c in d und der Wert aus d in a. \n",
    "\n",
    "c) Definieren Sie vier Variablen a1, a2, b1, b2 und weisen Sie ihnen beliebige Werte zu. Tauschen Sie nun mit maximal 5 Zuweisungen den Inhalt von a1 und a2, sowie den Inhalt von b1 und b2 aus. Hinweis: Hilfsvariablen sind hier wieder erlaubt."
   ]
  },
  {
   "cell_type": "markdown",
   "metadata": {},
   "source": [
    "## (Aufgabe 6)\n",
    "Nutzen sie für die folgenden Aufgaben die Python Dokumentation zu Strings https://docs.python.org/3.6/library/stdtypes.html#str\n",
    "\n",
    "a) Lesen Sie einen String ein und geben Sie das 3. und 4. Zeichen des Strings aus.\n",
    "\n",
    "b) Lesen Sie einen String ein und überprüfen Sie, ob es den Teilstring `\"Hallo\"` beinhaltet.\n",
    "\n",
    "c) Lesen Sie zwei Strings ein und fügen Sie sie zu einem zusammen.\n",
    "\n",
    "d) Lesen Sie zwei Namen und eine Zahl ein und geben Sie \"`Name1 schuldet Name2 n€`\" aus.\n",
    "\n",
    "e) Verändern Sie Ihr Programm aus d) so, dass Sie die `%` Operator verwenden.\n",
    "\n",
    "f) Lesen Sie einen vollständigen Satz ein und geben Sie die einzelnen Worte aus. Nutzen Sie dazu `str.split`."
   ]
  },
  {
   "cell_type": "markdown",
   "metadata": {},
   "source": [
    "## (Aufgabe 7)\n",
    "\n",
    "a) Lesen Sie einen String ein und geben Sie ihn umgekehrt wieder aus (z.B. `Hallo` zu `ollaH`)\n",
    "\n",
    "b) Lesen Sie fünf mindestens sechs Zeichen lange Strings ein. Erstellen Sie einen leeren String und fügen Sie an diesen jeweils das sechste Zeichen von jedem der zuvor eingelesenen Strings an. Geben Sie den neu entstandenen String anschließend aus.\n",
    "\n",
    "c) Lesen Sie 2 Strings ein. Überprüfen Sie diese auf Gleichheit und geben Sie das Resultat aus.\n",
    "\n",
    "d) Wenden Sie auf einen beliebigen, nicht leeren String den .encode(\"utf-16\") Befehl an und lassen Sie sich das Resultat ausgeben. Was fällt Ihnen auf? Recherchieren Sie, was utf-16 bedeutet.\n",
    "\n",
    "e) Beschreiben Sie, warum die Benutzung des % Operators innerhalb von Strings sinnvoll sein kann und geben Sie Beispiele an.\n"
   ]
  },
  {
   "cell_type": "markdown",
   "metadata": {},
   "source": [
    "## (Aufgabe 8)\n",
    "a) Schreiben Sie ein Programm, dass einen String einliest und anschließend das vorletzte Zeichen dieses Strings ausgibt.\n",
    "\n",
    "b) Ändern Sie das Programm, sodass zusätzlich zu dem String auch 2 Zahlen x und y eingelesen werden. Anschließend sollen alle Zeichen vom x-ten bis zum y-ten Zeichen ausgegeben werden. Beachten Sie welche Fehler bei unsinnigen Eingaben auftreten.\n",
    "\n",
    "c) Ändern Sie das Programm erneut, sodass zu Beginn drei Strings eingelesen werden. Diese sollen so verändert werden, dass ihr erster Buchstabe groß wird, und dann gefolgt von einer Angabe ihrer Länge, ausgegeben werden. "
   ]
  }
 ],
 "metadata": {
  "anaconda-cloud": {},
  "kernelspec": {
   "display_name": "Python 3",
   "language": "python",
   "name": "python3"
  },
  "language_info": {
   "codemirror_mode": {
    "name": "ipython",
    "version": 3
   },
   "file_extension": ".py",
   "mimetype": "text/x-python",
   "name": "python",
   "nbconvert_exporter": "python",
   "pygments_lexer": "ipython3",
   "version": "3.5.2"
  }
 },
 "nbformat": 4,
 "nbformat_minor": 1
}
