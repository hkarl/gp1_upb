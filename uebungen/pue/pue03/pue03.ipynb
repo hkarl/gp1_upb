{
 "cells": [
  {
   "cell_type": "markdown",
   "metadata": {},
   "source": [
    "## Aufgabe 1\n",
    "\n",
    "a) Schreiben Sie ein Programm, das \"###GP1###\" 10 mal hintereinander ausgibt (ohne Schleifen).\n",
    "\n",
    "b) Verändern Sie das Programm, sodass nach jeder Ausgabe von \"###GP1###\" eine neue Zeile angefangen wird.\n",
    "\n",
    "c) Verändern Sie das Programm erneut. \"###GP1###\" soll diesmal (20 mod 3)² mal ausgegeben werden. Zudem soll nach jeder Ausgabe ein Tab eingefügt werden. \n",
    "\n",
    "Testen Sie nach jedem Aufgabenteil, ob ihr Programm ordnungsgemäß funktioniert."
   ]
  },
  {
   "cell_type": "markdown",
   "metadata": {},
   "source": [
    "## Aufgabe 2\n",
    "Schreiben Sie ein Programm, das...\n",
    "\n",
    "a) ...den Wert der Variable a auf 10 setzt und diese anschließend ausgibt und...\n",
    "\n",
    "b) ...den Wert der Variable b auf 20 setzt und den Wert von a anschließend auf den von b setzt und...\n",
    "\n",
    "c) ...den Wert von b auf 30 setzt und a ausgibt und...\n",
    "\n",
    "d) ...die Werte von a und b austauscht. \n"
   ]
  },
  {
   "cell_type": "markdown",
   "metadata": {},
   "source": [
    "## Aufgabe 3 \n",
    "a) Schreiben Sie ein Programm, das zunächst bei einem Startkapital von 1000€ und einem Zinssatz von 0.23% die erhaltenen Zinsen  \n",
    "\n",
    "`(Kapital * Zinssatz)` \n",
    "  \n",
    "und das Gesamtkapital nach einer Zinsauszahlung  \n",
    "\n",
    "`(Kapital * Zinssatz + Kapital)`,\n",
    "\n",
    "sowie das Gesamtkapital nach einer zweiten Zinsauszahlung   \n",
    "\n",
    "`(((Kapital * Zinssatz) + Kapital) + (((Kapital * Zinssatz) + Kapital) * Zinssatz))`\n",
    "\n",
    "berechnet und ausgibt.\n",
    "\n",
    "b) Ändern Sie das obige Programm, sodass es keine Variablen oder Zuweisungen verwendet.\n",
    "\n",
    "c) Beschreiben Sie wozu Variablen innerhalb von Programmiersprachen genutzt werden und warum diese essentiell sind."
   ]
  },
  {
   "cell_type": "markdown",
   "metadata": {},
   "source": [
    "## Aufgabe 4\n",
    "Schreiben Sie je ein Programm, das...\n",
    "\n",
    "a) ...den vier Variablen a, b, c und d beliebige Werte zuweist und durch Zuweisungen die Werte in den Variablen austauscht, sodass nach Ablauf Ihres Programms der Wert aus a in b, der Wert aus b in c, der Wert aus c in d und der Wert aus d in a steht. \n",
    "\n",
    "b) ...den vier Variablen a1, a2, b1 und b2 beliebige Werte zuweist und mit maximal 5 Zuweisungen den Inhalt von a1 und a2, sowie den Inhalt von b1 und b2 miteinander vertauscht.\n",
    "\n",
    "c) ...den zwei Variablen a und b beliebige Werte zuweist und diese Werte anschließend miteinander vertauscht, ohne weitere Variablen zu verwenden.\n",
    "\n",
    "Weisen Sie pro Zuweisung nur einer Variable einen Wert zu.  \n",
    "Testen Sie mithilfe von print() für jedes Ihrer Programme, ob es wie gewünscht funktioniert.  \n"
   ]
  },
  {
   "cell_type": "markdown",
   "metadata": {},
   "source": [
    "## Aufgabe 5\n",
    "\n",
    "a) Schreiben Sie ein Programm, dass zwei Zahlen dividiert und das Ergebnis ausgibt. Benutzen Sie dazu einmal den `/` und einmal den `//` Operator. Wo liegt der Unterschied? Probieren Sie es auch mit Zahlen, bei denen die erste Zahl durch die zweite teilbar ist.\n",
    "\n",
    "b) Berechnen Sie $2^{10000}$ und geben Sie das Ergebnis aus. Welches Ergebnis hätten Sie Ihrer Erfahrung nach, beispielsweise mit einem Taschenrechner oder anderen Programmiersprachen erwartet?"
   ]
  },
  {
   "cell_type": "markdown",
   "metadata": {},
   "source": [
    "## Aufgabe 6\n",
    "\n",
    "a) Schreiben Sie eine Funktion, die eine Zahl als Parameter übergeben bekommt und sie quadriert zurück liefert. Probieren Sie anschließend Ihre Funktion mit mehreren verschiedenen Eingaben aus.\n",
    "\n",
    "b) Verwenden Sie Ihre Funktion, um $17^4$ auszurechnen. Nutzen Sie dazu keine anderen Funktionen oder Operatoren.\n",
    "\n",
    "c) Schreiben Sie eine weitere Funktion, die eine übergebene Zahl mit 3 potenziert. \n",
    "\n",
    "d) Verwenden Sie beide Funktionen um $17^6$ und $17^{18}$ auszurechnen. Nutzen Sie dazu keine anderen Funktionen oder Operatoren."
   ]
  },
  {
   "cell_type": "markdown",
   "metadata": {},
   "source": [
    "## Aufgabe 7\n",
    "\n",
    "a) Schreiben Sie ein Programm, in dem Sie eine Zahl und einen String mit dem `+` Operator verknüpfen (z.B. `\"hallo\" + 4`). Welcher Fehler tritt auf?\n",
    "\n",
    "b) Verändern Sie Ihr Programm aus a), indem sie als letzte Code-Zeilen den Befehle `print(\"Ende\")` schreiben. Wird das Wort \"Ende\" ausgegeben? Wenn nein, warum nicht?\n",
    "\n",
    "c) Definieren Sie zwei Variablen a, b und weisen Sie a eine Zahl und b einen String zu. Addieren Sie anschließend beide. Tritt der gleiche Fehler auf wie in Teilaufgabe a)?\n",
    "\n",
    "d) Betrachten Sie das nachfolgende Programm und überlegen Sie was ausgegeben wird. Probieren Sie es anschließend aus.\n",
    "```Python\n",
    "a = 14\n",
    "b = \"Hallo Welt\"\n",
    "b = 3\n",
    "print(a + b)\n",
    "```"
   ]
  }
 ],
 "metadata": {
  "anaconda-cloud": {},
  "kernelspec": {
   "display_name": "Python [default]",
   "language": "python",
   "name": "python3"
  },
  "language_info": {
   "codemirror_mode": {
    "name": "ipython",
    "version": 3
   },
   "file_extension": ".py",
   "mimetype": "text/x-python",
   "name": "python",
   "nbconvert_exporter": "python",
   "pygments_lexer": "ipython3",
   "version": "3.5.2"
  }
 },
 "nbformat": 4,
 "nbformat_minor": 1
}
