{
 "cells": [
  {
   "cell_type": "markdown",
   "metadata": {},
   "source": [
    "## Aufgabe 1\n",
    "\n",
    "a) Welche der folgenden Worte sind legale arithmetische Ausdrücke in Python? Begründen Sie Ihre Antwort: \n",
    "```Python\n",
    "1+1\n",
    "+(-2**+2)\n",
    "+3//3\n",
    "-4**(-2+-3)\n",
    "5**6-(7+)\n",
    "7++7\n",
    "8%(9-2)**2\n",
    "```\n",
    "b) Stellen Sie die folgenden Zahlen als arithmetische Ausdrücke dar, ohne eben diese zu verwenden, nur mithilfe von Potenzieren ( \\*\\* ) anderer Zahlen und ganzzahliger Division ( \\\\\\\\ ).\n",
    "```Python\n",
    "20\n",
    "23\n",
    "11\n",
    "17\n",
    "77\n",
    "113\n",
    "121\n",
    "0.25\n",
    "```"
   ]
  },
  {
   "cell_type": "markdown",
   "metadata": {},
   "source": [
    "## Aufgabe 2\n",
    "a) Schreiben Sie ein Programm, das zunächst zwei Zahlen einliest (input) und diese anschließend addiert und ausgibt."
   ]
  },
  {
   "cell_type": "code",
   "execution_count": 4,
   "metadata": {
    "collapsed": true
   },
   "outputs": [],
   "source": [
    "#Your Code Here"
   ]
  },
  {
   "cell_type": "markdown",
   "metadata": {},
   "source": [
    "b) Angenommen Diesel kostet 1,039€/l und SuperE10 kostet 1,199€/l.\n",
    "Schreiben Sie ein Programm, das zunächst nach dem getankten Volumen Kraftstoff fragt und dann den zu zahlenden Betrag für Diesel und SuperE10 ausgibt."
   ]
  },
  {
   "cell_type": "code",
   "execution_count": 5,
   "metadata": {
    "collapsed": true
   },
   "outputs": [],
   "source": [
    "#Your Code Here"
   ]
  },
  {
   "cell_type": "markdown",
   "metadata": {},
   "source": [
    "## Aufgabe 3\n",
    "a) Sind die nachfolgenden Worte als Literale des Typ str korrekt? Falls nein, geben Sie die Syntaxregel an, die verletzt wurde.\n",
    "```Python\n",
    " a = abc\n",
    " b = \"abc\"\n",
    " c = ''abc''\n",
    " d = \"\"abc\"\"\n",
    " e = \"'abc\"''\n",
    " f = 'ab'c'\n",
    " g = \"ab\\\"c\"\n",
    " h = \"\"\n",
    " i = ''\n",
    " j = '\\'\\'\\\\\\*'\n",
    "```\n",
    "b) Schreiben Sie je ein Programm, das die folgenden Worte ausgibt wenn es gestartet wird.\n",
    "*  Hello World!\n",
    "*  äöü\n",
    "*  ###\n",
    "*  \n",
    "*  \"\"Anführungszeichen in einem String?\"\"\n",
    "\n"
   ]
  },
  {
   "cell_type": "code",
   "execution_count": null,
   "metadata": {
    "collapsed": true
   },
   "outputs": [],
   "source": [
    "### Your Code Here"
   ]
  },
  {
   "cell_type": "markdown",
   "metadata": {},
   "source": [
    "## Aufgabe 4\n",
    "Erklären Sie den Unterschied zwischen dem Datentyp str und dem Datentyp byte. Nutzen Sie dazu gängige Internetsuchmaschinen oder die Sprachdefinition von Python. Begründen Sie, warum beide Typen benötigt werden."
   ]
  },
  {
   "cell_type": "markdown",
   "metadata": {},
   "source": [
    "## Aufgabe 5\n",
    "\n",
    "* Schreiben Sie ein Programm, das zunächst ein Wort einliest und dann eine beliebige natürliche Zahl n. Anschließend soll das Wort n-mal hintereinander ausgegeben werden.\n",
    "* Verändern Sie das Programm, sodass nach jeder Wiederholung des Wortes eine neue Zeile angefangen wird.\n",
    "* Verändern Sie das Programm erneut. Diesmal soll die eingelesene Zahl zunächst gedrittelt, danach potenziert und anschließend ausgegeben werden. Anstatt nach jeder Wortwiederholung in eine neue Zeile zu wechseln, soll nun nur ein Tab eingefügt werden. \n",
    "\n",
    "Testen Sie nach jedem Aufgabenteil, ob ihr Programm ordnungsgemäß funktioniert."
   ]
  },
  {
   "cell_type": "code",
   "execution_count": 22,
   "metadata": {
    "collapsed": true
   },
   "outputs": [],
   "source": [
    "###Your Code Here"
   ]
  }
 ],
 "metadata": {
  "kernelspec": {
   "display_name": "Python 3",
   "language": "python",
   "name": "python3"
  },
  "language_info": {
   "codemirror_mode": {
    "name": "ipython",
    "version": 3
   },
   "file_extension": ".py",
   "mimetype": "text/x-python",
   "name": "python",
   "nbconvert_exporter": "python",
   "pygments_lexer": "ipython3",
   "version": "3.5.1"
  }
 },
 "nbformat": 4,
 "nbformat_minor": 1
}
