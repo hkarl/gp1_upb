{
 "cells": [
  {
   "cell_type": "markdown",
   "metadata": {},
   "source": [
    "## Aufgabe 1\n",
    "\n",
    "* Schreiben Sie ein Programm, das \"###GP1###\" 10 mal hintereinander ausgibt (ohne Schleifen).\n",
    "* Verändern Sie das Programm, sodass nach jeder Wiederholung eine neue Zeile angefangen wird.\n",
    "* Verändern Sie das Programm erneut. Diesmal soll (20 mod 3)² mal ausgegeben und dabei jeweils durch einen Tab von der nächsten Wiederholung abgetrennt sein. \n",
    "\n",
    "Testen Sie nach jedem Aufgabenteil, ob ihr Programm ordnungsgemäß funktioniert."
   ]
  },
  {
   "cell_type": "code",
   "execution_count": null,
   "metadata": {
    "collapsed": false
   },
   "outputs": [],
   "source": [
    "# Your Code Here"
   ]
  },
  {
   "cell_type": "markdown",
   "metadata": {},
   "source": [
    "## Aufgabe 2\n",
    "a) Weisen Sie der Variable a einen Wert zu und geben Sie diese anschließend aus.\n",
    "\n",
    "b) Weisen Sie der Variable b einen Wert zu und weisen Sie a anschließend den Wert von b zu.\n",
    "\n",
    "c) Weisen Sie b nun einen anderen Wert zu und geben Sie a aus.\n",
    "\n",
    "d) Tauschen Sie den Wert von a mit dem von b aus und umgekehrt. \n"
   ]
  },
  {
   "cell_type": "markdown",
   "metadata": {},
   "source": [
    "## Aufgabe 3 \n",
    "a) Schreiben Sie ein Programm, das zunächst bei einem Startkapital von 1000€ und einem Zinssatz von 0.23% die erhaltenen Zinsen `(Kapital * Zinssatz)` und das Gesamtkapital nach einer Zinsauszahlung `(Kapital * Zinssatz + Kapital)`, sowie das Gesamtkapital nach einer zweiten Zinsauszahlung `(((Kapital * Zinssatz) + Kapital) + (((Kapital * Zinssatz) + Kapital) * Zinssatz))` berechnet und ausgibt.\n",
    "\n",
    "b) Ändern Sie das obige Programm, sodass es keine Variablen oder Zuweisungen verwendet.\n",
    "\n",
    "c) Beschreiben Sie wozu Variablen innerhalb von Programmiersprachen genutzt werden und warum diese essentiell sind."
   ]
  },
  {
   "cell_type": "code",
   "execution_count": 4,
   "metadata": {
    "collapsed": false
   },
   "outputs": [
    {
     "name": "stdout",
     "output_type": "stream",
     "text": [
      "2.3 1002.3 1004.60529\n"
     ]
    }
   ],
   "source": [
    "print(1000*0.0023,1000+1000*0.0023, (1000+1000*0.0023)+(1000+1000*0.0023)*0.0023)"
   ]
  },
  {
   "cell_type": "markdown",
   "metadata": {},
   "source": [
    "## Aufgabe 4\n",
    "\n",
    "a) Definieren Sie zwei Variablen a und b und weisen Sie ihnen beliebige Werte zu. Tauschen Sie die Werte der beiden Variablen, ohne weitere Variablen zu verwenden.\n",
    "\n",
    "b) Definieren Sie vier Variablen a, b, c und d und weisen Sie ihnen beliebige Werte zu. Verwenden Sie Zuweisungen, sodass nach Ablauf ihres Programms der Wert aus a in b steht, der Wert aus b in c, der Wert aus c in d und der Wert aus d in a. \n",
    "\n",
    "c) Definieren Sie vier Variablen a1, a2, b1, b2 und weisen Sie ihnen beliebige Werte zu. Tauschen Sie nun mit maximal 5 Zuweisungen den Inhalt von a1 und a2, sowie den Inhalt von b1 und b2 aus. Hinweis: Hilfsvariablen sind hier wieder erlaubt."
   ]
  }
 ],
 "metadata": {
  "anaconda-cloud": {},
  "kernelspec": {
   "display_name": "Python 3",
   "language": "python",
   "name": "python3"
  },
  "language_info": {
   "codemirror_mode": {
    "name": "ipython",
    "version": 3
   },
   "file_extension": ".py",
   "mimetype": "text/x-python",
   "name": "python",
   "nbconvert_exporter": "python",
   "pygments_lexer": "ipython3",
   "version": "3.5.2"
  }
 },
 "nbformat": 4,
 "nbformat_minor": 1
}
