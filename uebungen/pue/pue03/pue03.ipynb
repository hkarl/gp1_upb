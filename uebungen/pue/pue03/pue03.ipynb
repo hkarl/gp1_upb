{
 "cells": [
  {
   "cell_type": "markdown",
   "metadata": {},
   "source": [
    "## Aufgabe 1\n",
    "Erklären Sie den Unterschied zwischen dem Datentyp str und dem Datentyp byte. Nutzen Sie dazu gängige Internetsuchmaschinen oder die Sprachdefinition von Python. Begründen Sie, warum beide Typen benötigt werden."
   ]
  },
  {
   "cell_type": "markdown",
   "metadata": {},
   "source": [
    "## Aufgabe 2\n",
    "\n",
    "* Schreiben Sie ein Programm, das zunächst ein Wort einliest und dann eine beliebige natürliche Zahl n. Anschließend soll das Wort n-mal hintereinander ausgegeben werden (ohne Schleifen).\n",
    "* Verändern Sie das Programm, sodass nach jeder Wiederholung des Wortes eine neue Zeile angefangen wird.\n",
    "* Verändern Sie das Programm erneut. Diesmal soll die eingelesene Zahl zunächst gedrittelt und anschließend potenziert werden. Das Wort soll danach dementsprechend (n/3)² mal ausgegeben und dabei jeweils durch einen Tab von der nächsten Wiederholung abgetrennt sein.\n",
    "\n",
    "Testen Sie nach jedem Aufgabenteil, ob ihr Programm ordnungsgemäß funktioniert."
   ]
  },
  {
   "cell_type": "code",
   "execution_count": null,
   "metadata": {
    "collapsed": false
   },
   "outputs": [],
   "source": [
    "# Your Code Here"
   ]
  },
  {
   "cell_type": "code",
   "execution_count": 30,
   "metadata": {
    "collapsed": false,
    "scrolled": true
   },
   "outputs": [
    {
     "name": "stdout",
     "output_type": "stream",
     "text": [
      "Hlo\n"
     ]
    }
   ],
   "source": [
    "print(\"Hallo\"[::2])"
   ]
  },
  {
   "cell_type": "markdown",
   "metadata": {},
   "source": [
    "## Aufgabe 3\n",
    "Nutzen sie für die folgenden Aufgaben die Python Dokumentation zu Strings https://docs.python.org/3.6/library/stdtypes.html#str\n",
    "\n",
    "a) Lesen Sie einen String ein und geben Sie das 3. und 4. Zeichen des Strings aus.\n",
    "\n",
    "b) Lesen Sie einen String ein und überprüfen Sie, ob es den Teilstring `\"Hallo\"` beinhaltet.\n",
    "\n",
    "c) Lesen Sie zwei Strings ein und fügen Sie sie zu einem zusammen.\n",
    "\n",
    "d) Lesen Sie zwei Namen und eine Zahl ein und geben Sie `Name1 schuldet Name2 n€` aus.\n",
    "\n",
    "e) Verändern Sie Ihr Programm aus d) so, dass Sie die `%` Operator verwenden.\n",
    "\n",
    "f) Lesen Sie einen vollständigen Satz ein und geben Sie die einzelnen Worte aus. Nutzen Sie dazu `str.split`."
   ]
  },
  {
   "cell_type": "markdown",
   "metadata": {},
   "source": [
    "## Aufgabe 4\n",
    "\n",
    "a) Lesen Sie einen String ein und geben Sie ihn umgekehrt wieder aus (z.b. `Hallo` zu `ollaH`)"
   ]
  }
 ],
 "metadata": {
  "anaconda-cloud": {},
  "kernelspec": {
   "display_name": "Python [Root]",
   "language": "python",
   "name": "Python [Root]"
  },
  "language_info": {
   "codemirror_mode": {
    "name": "ipython",
    "version": 3
   },
   "file_extension": ".py",
   "mimetype": "text/x-python",
   "name": "python",
   "nbconvert_exporter": "python",
   "pygments_lexer": "ipython3",
   "version": "3.5.2"
  }
 },
 "nbformat": 4,
 "nbformat_minor": 1
}
