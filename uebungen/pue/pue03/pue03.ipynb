{
 "cells": [
  {
   "cell_type": "markdown",
   "metadata": {},
   "source": [
    "## Aufgabe 1\n",
    "\n",
    "* Schreiben Sie ein Programm, das \"###GP1###\" 10 mal hintereinander ausgibt (ohne Schleifen).\n",
    "* Verändern Sie das Programm, sodass nach jeder Wiederholung eine neue Zeile angefangen wird.\n",
    "* Verändern Sie das Programm erneut. Diesmal soll es (20 mod 3)² mal ausgegeben und dabei jeweils durch einen Tab von der nächsten Wiederholung abgetrennt sein. \n",
    "\n",
    "Testen Sie nach jedem Aufgabenteil, ob ihr Programm ordnungsgemäß funktioniert."
   ]
  },
  {
   "cell_type": "markdown",
   "metadata": {},
   "source": [
    "## Aufgabe 2\n",
    "a) Weisen Sie der Variable a einen Wert zu und geben Sie diese anschließend aus.\n",
    "\n",
    "b) Weisen Sie der Variable b einen Wert zu und weisen Sie a anschließend den Wert von b zu.\n",
    "\n",
    "c) Weisen Sie b nun einen anderen Wert zu und geben Sie a aus.\n",
    "\n",
    "d) Tauschen Sie den Wert von a mit dem von b aus und umgekehrt. \n"
   ]
  },
  {
   "cell_type": "markdown",
   "metadata": {},
   "source": [
    "## Aufgabe 3 \n",
    "a) Schreiben Sie ein Programm, das zunächst bei einem Startkapital von 1000€ und einem Zinssatz von 0.23% die erhaltenen Zinsen `(Kapital * Zinssatz)` und das Gesamtkapital nach einer Zinsauszahlung `(Kapital * Zinssatz + Kapital)`, sowie das Gesamtkapital nach einer zweiten Zinsauszahlung `(((Kapital * Zinssatz) + Kapital) + (((Kapital * Zinssatz) + Kapital) * Zinssatz))` berechnet und ausgibt.\n",
    "\n",
    "b) Ändern Sie das obige Programm, sodass es keine Variablen oder Zuweisungen verwendet.\n",
    "\n",
    "c) Beschreiben Sie wozu Variablen innerhalb von Programmiersprachen genutzt werden und warum diese essentiell sind."
   ]
  },
  {
   "cell_type": "markdown",
   "metadata": {},
   "source": [
    "## Aufgabe 4\n",
    "\n",
    "a) Definieren Sie zwei Variablen a und b und weisen Sie ihnen beliebige Werte zu. Tauschen Sie die Werte der beiden Variablen, ohne weitere Variablen zu verwenden.\n",
    "\n",
    "b) Definieren Sie vier Variablen a, b, c und d und weisen Sie ihnen beliebige Werte zu. Verwenden Sie Zuweisungen, sodass nach Ablauf Ihres Programms der Wert aus a in b steht, der Wert aus b in c, der Wert aus c in d und der Wert aus d in a. \n",
    "\n",
    "c) Definieren Sie vier Variablen a1, a2, b1, b2 und weisen Sie ihnen beliebige Werte zu. Tauschen Sie nun mit maximal 5 Zuweisungen den Inhalt von a1 und a2, sowie den Inhalt von b1 und b2 aus. Hinweis: Hilfsvariablen sind hier wieder erlaubt."
   ]
  },
  {
   "cell_type": "markdown",
   "metadata": {},
   "source": [
    "## Aufgabe 5\n",
    "\n",
    "a) Dividieren Sie zwei Zahlen und geben Sie das Ergebnis aus. Benutzen Sie dazu einmal den `/` und einmal den `//` Operator. Wo liegt der Unterschied? Probieren Sie es auch mit Zahlen, bei denen die erste Zahl durch die zweite teilbar ist.\n",
    "\n",
    "b) Rechnen Sie $2^{10000}$ und geben Sie das Ergebnis aus. Welches Ergebnis hätten Sie aus Ihren Erfahrungen beispielsweise mit einem Taschenrechner oder anderen Programmiersprachen erwartet?"
   ]
  },
  {
   "cell_type": "markdown",
   "metadata": {},
   "source": [
    "## Aufgabe 6\n",
    "\n",
    "Schreiben Sie eine Funktion, die eine Zahl als Parameter übergeben bekommt und sie quadriert zurück liefert. Probieren Sie anschließend Ihre Funktion mit mehreren verschiedenen Eingaben aus."
   ]
  },
  {
   "cell_type": "markdown",
   "metadata": {},
   "source": [
    "## Aufgabe 7\n",
    "\n",
    "a) Schreiben Sie ein Programm, in dem Sie eine Zahle und ein String mit dem `+` Operator verknüpfen. Was passiert?\n",
    "\n",
    "b) Verändern Sie Ihr Programm aus a) so, dass Sie nach der Addition das Wort \"Ende\" ausgeben. Wie verändert Sich die Ausgabe?\n",
    "\n",
    "c) Definieren Sie zwei Variablen a, b und weisen a eine Zahl und b ein String zu. Addieren Sie anschließend beide. Haben Sie das gleiche Ergebnis wie in Teilaufgabe a)?\n",
    "\n",
    "d) Schauen Sie sich das nachfolgende Programm an und überlegen Sie was passiert. Probieren Sie es anschließend aus.\n",
    "```Python\n",
    "a = 14\n",
    "b = \"Hallo Welt\"\n",
    "b = 3\n",
    "print(a + b)\n",
    "```"
   ]
  }
 ],
 "metadata": {
  "anaconda-cloud": {},
  "kernelspec": {
   "display_name": "Python [Root]",
   "language": "python",
   "name": "Python [Root]"
  },
  "language_info": {
   "codemirror_mode": {
    "name": "ipython",
    "version": 3
   },
   "file_extension": ".py",
   "mimetype": "text/x-python",
   "name": "python",
   "nbconvert_exporter": "python",
   "pygments_lexer": "ipython3",
   "version": "3.5.2"
  }
 },
 "nbformat": 4,
 "nbformat_minor": 1
}
