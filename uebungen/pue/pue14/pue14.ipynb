{
 "cells": [
  {
   "cell_type": "markdown",
   "metadata": {},
   "source": [
    "# Aufgabe 1 (Klassen in Java)\n",
    "\n",
    "## a)\n",
    "\n",
    "Implementieren Sie die Klassen `Clock` und `Calendar` (vgl. Vorlesung, Kapitel 12 oder Präsenzblatt 1) in Java. Tragen Sie den Code in die beiden folgenden Code-Zellen ein. "
   ]
  },
  {
   "cell_type": "code",
   "execution_count": 1,
   "metadata": {
    "collapsed": false
   },
   "outputs": [
    {
     "name": "stdout",
     "output_type": "stream",
     "text": [
      "Restarting java"
     ]
    }
   ],
   "source": [
    "/* Klasse Clock \n",
    " Methoden: Konstruktor, toString, tic \n",
    "*/"
   ]
  },
  {
   "cell_type": "code",
   "execution_count": 2,
   "metadata": {
    "collapsed": false
   },
   "outputs": [
    {
     "name": "stdout",
     "output_type": "stream",
     "text": [
      "/* Klasse Calendar */\r\n",
      "\r\n"
     ]
    }
   ],
   "source": [
    "/* Klasse Calendar \n",
    "   Methoden: Konstruktor, toString, nextDay\n",
    "*/"
   ]
  },
  {
   "cell_type": "markdown",
   "metadata": {},
   "source": [
    "## b) \n",
    "\n",
    "Testen Sie Ihre Klassen, in dem Sie Objekte davon instanziieren und geeignete Methoden-Aufrufe durchführen. "
   ]
  },
  {
   "cell_type": "markdown",
   "metadata": {},
   "source": [
    "# Aufgabe 2 (Vererbung in Java)\n",
    "\n",
    "## a) \n",
    "\n",
    "Realisieren Sie die Klasse `CalendarClock` in Java. Versuchen Sie, sinnvoll die beiden Klassen `Calendar` und `Clock` aus der vorherigen Aufgabe zu nutzen. Wie müssen Sie eine der beiden Klassen umstrukturieren, um sie als `interface` wie `default`-Methoden nutzen zu können? "
   ]
  },
  {
   "cell_type": "code",
   "execution_count": null,
   "metadata": {
    "collapsed": true
   },
   "outputs": [],
   "source": [
    "/* Klasse CalendarClock \n",
    "*/"
   ]
  },
  {
   "cell_type": "markdown",
   "metadata": {},
   "source": [
    "## b) \n",
    "\n",
    "Würde Ihr Vorgehen aus Teilaufgabe 2a ebenfalls funktionieren, wenn die Klasse `Calendar` eine Methode `tic` statt `nextDay` hätte? Begründung! "
   ]
  },
  {
   "cell_type": "markdown",
   "metadata": {},
   "source": [
    "# Aufgabe 3 (Sichtbarkeit) \n",
    "\n",
    "## a) \n",
    "Überlegen Sie sich Fälle, bei denen **Methoden** als `protected`, `private` oder `public` deklariert werden sollten. \n",
    "\n",
    "## b) \n",
    "\n",
    "Wie verhält sich das analog für Datenattribute? "
   ]
  },
  {
   "cell_type": "markdown",
   "metadata": {},
   "source": [
    "# Aufgabe 4 \n",
    "\n",
    "Suchen Sie sich aus den bisherigen Präsenz- und Hausblätter die drei Aufgaben heraus, mit denen Sie die größten Schwierigkeiten hatten. Informieren Sie Ihren Tutor vorab, welche das sind. \n",
    "\n",
    "(Die am häfut"
   ]
  }
 ],
 "metadata": {
  "kernelspec": {
   "display_name": "Java 9",
   "language": "java",
   "name": "java"
  },
  "language_info": {
   "file_extension": ".class",
   "mimetype": "application/java-vm",
   "name": "java"
  }
 },
 "nbformat": 4,
 "nbformat_minor": 1
}
