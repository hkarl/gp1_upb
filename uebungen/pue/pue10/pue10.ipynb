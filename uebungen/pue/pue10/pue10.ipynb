{
 "cells": [
  {
   "cell_type": "markdown",
   "metadata": {
    "collapsed": true
   },
   "source": [
    "# Aufgabe 1\n",
    "\n",
    "Betrachten Sie den unteren Codeabschnitt. Machen Sie sich Gedanken darüber, von welcher Stelle im Code man auf welche Art und Weise lesenden oder schreibenden Zugriff auf die Variablen `x` und `a` bekommen kann."
   ]
  },
  {
   "cell_type": "code",
   "execution_count": null,
   "metadata": {
    "collapsed": false
   },
   "outputs": [],
   "source": [
    "x = 13\n",
    "\n",
    "def function():\n",
    "    a = 8\n",
    "    def function_inner():\n",
    "        #Your Code here\n",
    "        pass\n",
    "    function_inner()\n",
    "    print(a)\n",
    "    #x = x+1\n",
    "    print(x)\n",
    "    \n",
    "function()"
   ]
  },
  {
   "cell_type": "markdown",
   "metadata": {},
   "source": [
    "## a)\n",
    "\n",
    "Zunächst gibt die Funktion `function()` die Werte 8 und 13 aus. Entfernen Sie das Kommentarzeichen in der vorletzten Funktionszeile. Was geschieht nun? Wie erklären Sie sich dieses Verhalten? Finden Sie eine Möglichkeit, den Wert von `x` innerhalb von `function()` zu verändern.\n",
    "\n",
    "## b)\n",
    "\n",
    "Implementieren Sie die Funktion `function_inner()`, sodass nach dem Aufruf die Variablen a und x aus den umgebenden Namensräume auf Werte referenzieren, die dem doppelten des jeweiligen Ursprungswerts entsprechen.\n",
    "\n",
    "## c) \n",
    "\n",
    "Verändern Sie das Programm, sodass es irgendwo eine Stelle im Code gibt, von der aus mindestens eine Variable nicht verwendet werden kann und auch nicht durch Schlüsselworte zugreifbar gemacht werden kann."
   ]
  },
  {
   "cell_type": "markdown",
   "metadata": {},
   "source": [
    "# Aufgabe 2 (Closures)\n",
    "\n",
    "Gegeben ist eine einfache Factory, wie sie in der Vorlesung besprochen wurde.\n",
    "\n"
   ]
  },
  {
   "cell_type": "code",
   "execution_count": null,
   "metadata": {
    "collapsed": false
   },
   "outputs": [],
   "source": [
    "def factory():\n",
    "    def converge(x):\n",
    "        return (x+42)/2\n",
    "    return converge\n",
    "\n",
    "a = 100\n",
    "#Hier converge verwenden\n",
    "print(a)"
   ]
  },
  {
   "cell_type": "markdown",
   "metadata": {},
   "source": [
    "## a)\n",
    "\n",
    "Sie möchten `converge()` im globalen Kontext verwenden. Wie können sie das bewerkstelligen. Ist ein einfaches Aufrufen möglich? Vielleicht hilft es Ihnen, sich einmal genau anzuschauen, was von `factory()` zurückgegeben wird.\n",
    "\n",
    "## b) \n",
    "\n",
    "Erweitern sie `factory()`, sodass `converge()` anstatt stets mit dem Wert 42 zu arbeiten, nun beliebige Werte verwendet. Beachten Sie dabei, dass der Funktion `converge()` keine weiteren Parameter neben `x` hinzugefügt werden sollen.\n",
    "\n",
    "## c)\n",
    "\n",
    "Warum funktioniert ihre Lösung aus Aufgabe b? Müsste der Namensraum der Funktion `factory()` nicht eigentlich vernichtet werden, nachdem `converge()` zurückgegeben wurde?  \n",
    "Versuchen Sie anhand dieses Beispiels das Konzept eines Closures näher zu erläutern."
   ]
  },
  {
   "cell_type": "markdown",
   "metadata": {},
   "source": [
    "# Aufgabe 3\n",
    "\n",
    "Betrachten sie die Klasse `Student`. Diese kann die Noten eines Studenten speichern und wieder ausgeben.\n",
    "Um sich selbst und Ihre Kommilitonen besser darstehen zu lassen, möchten Sie die Software der Universität manipulieren.\n",
    "Schreiben sie dazu eine Funktion die folgende Dinge leistet:\n",
    "\n",
    "+ Bei der Ausgabe der Noten soll jede Note um 1 verbessert werden.\n",
    "+ Die originale Notenliste soll nicht verändert werden (das würde der Universität auffallen).\n",
    "+ Die bestehenden Funktions- und Klassendefinitionen sollen nicht verändert werden (auch das würde auffallen).\n",
    "\n",
    "Tipp: Verwenden sie einen Decorator für die Methode `getNoten`()! Da Sie die Definition der Klasse nicht verändern sollen, können Sie nicht die syntaktische Abkürzung @ benutzen. Wie können Sie trotzdem die Methode einer *bestehenden* Klasse verändern?"
   ]
  },
  {
   "cell_type": "code",
   "execution_count": null,
   "metadata": {
    "collapsed": false
   },
   "outputs": [],
   "source": [
    "class Student:\n",
    "    \"\"\"Speichert Noten und gibt sie zurück\"\"\"\n",
    "    \n",
    "    def __init__(self, noten):\n",
    "        '''Die Übergebene Liste von Zahlen stellt die Noten des Studenten dar'''\n",
    "        self.noten = noten\n",
    "    \n",
    "    def get_noten(self):\n",
    "        '''Gibt die Noten des Studenten auf der Konsole aus.'''\n",
    "        for n in self.noten:\n",
    "            print(n, end='  ')"
   ]
  },
  {
   "cell_type": "markdown",
   "metadata": {},
   "source": [
    "# Aufgabe 4 (Lambda-Ausdrücke)\n",
    "\n",
    "## a)\n",
    "\n",
    "Hier geht es nun noch einmal um die Factory aus Aufgabe 2.\n",
    "```python\n",
    "def factory():\n",
    "    def converge(x):\n",
    "        return (x+42)/2\n",
    "    return converge\n",
    "```\n",
    "Da diese eine sehr simple Funktion definiert, ist es auch möglich, eine kürzere Schreibweise für die Funktionsdefinition zu verwenden, insbesoders weil der Name \"`converge`\" selbst ja nirgends zur Anwendung kommt.  \n",
    "\n",
    "Verkürzen Sie die Definition der `factory()`-Funktion in der Codezelle von Aufgabe 2 auf 2 Zeilen (inklusive Funktionskopf)"
   ]
  },
  {
   "cell_type": "markdown",
   "metadata": {},
   "source": [
    "## b)\n",
    "\n",
    "Entscheiden Sie jeweils, ob die folgenden Probleme mittels eines Lambda-Ausdrucks lösbar sind. Versuchen Sie auch, diese dann als solche umzusetzen.\n",
    "\n",
    "\n",
    "+ Einen gegebenen String mit '###' konkatenieren\n",
    "+ Zwei ganze Zahlen addieren\n",
    "+ Das Polynom 5x³ + 2x + 7 ausrechnen\n",
    "+ Alle Elemente einer Liste in Strings konvertieren\n",
    "+ Entscheiden, ob ein String ein Palindrom ist\n",
    "+ Die Reihenfolge einer Liste umkehren.\n",
    "\n",
    "Sie können eine neue Liste erstellen wenn das einfacher ist. Die originale Liste muss nicht verändert werden."
   ]
  },
  {
   "cell_type": "code",
   "execution_count": null,
   "metadata": {
    "collapsed": true
   },
   "outputs": [],
   "source": []
  },
  {
   "cell_type": "markdown",
   "metadata": {
    "collapsed": true
   },
   "source": [
    "## c)\n",
    "\n",
    "Verwenden Sie für diese Aufgabe die eingebauten Funktionen `map` und `filter`\n",
    "\n",
    "(1) Hängen Sie zunächst an jeden String in der Liste L das Zeichen '#' an.  \n",
    "(2) Entfernen Sie dann alle Einträge aus der Liste, in denen der Buchstabe 'd' nicht vorkommt"
   ]
  },
  {
   "cell_type": "code",
   "execution_count": null,
   "metadata": {
    "collapsed": true
   },
   "outputs": [],
   "source": [
    "L = ['Hund', 'Kadse', 'Baum', 'Haus', 'Dreiundzwanzig']\n"
   ]
  },
  {
   "cell_type": "markdown",
   "metadata": {},
   "source": [
    "## d)\n",
    "\n",
    "Schauen wir uns nun die Wechselwirkung zwischen Lambda-Ausdrücken und Closures an. Führen Sie den folgenden Code aus. Was können sie daraus schließen?"
   ]
  },
  {
   "cell_type": "code",
   "execution_count": null,
   "metadata": {
    "collapsed": false
   },
   "outputs": [],
   "source": [
    "li = []\n",
    "\n",
    "for i in range(5):\n",
    "        li.append(lambda : print(i))\n",
    "\n",
    "for k in li:\n",
    "        k()"
   ]
  },
  {
   "cell_type": "markdown",
   "metadata": {},
   "source": [
    "# Aufgabe 5 (Generatoren)\n",
    "\n",
    "## a)\n",
    "\n",
    "Die Beleuchtungseinrichtung einer Discothek soll mittels eines Python-Programms gesteuert werden. Der LightJockey möchte ein Objekt einer Klasse `Beleuchtung` erstellen können, der er im Konstruktor eine Liste mit als Strings repräsentierten Farben übergeben kann. Weiterhin möchte er diese Liste Element für Element mithilfe eines Generators `schalte()` zurückgeben können.\n",
    "Die Liste ist nicht unendlich lang, deshalb muss sie periodisch wiederholt werden.\n",
    "Bedenken Sie dass pro Aufruf des Generators genau eine Farbe zurückgegeben werden soll.\n",
    "\n",
    "Schreiben sie eine Klasse die diese Anforderungen erfüllt.\n",
    "\n",
    "## b)\n",
    "\n",
    "Wie kann der Mitarbeiter dieses Programm nun nutzen? Angenommen er verwendet auch iPython Notebooks, so wie wir. Wie kann er es schaffen, dass er ohne den Code verändern zu müssen, bei jeder Ausführung eine neue Farbe auf dem Bildschirm ausgegeben bekommt?  \n",
    "Tipp: Verwenden sie 2 separate Codezellen.\n",
    "\n",
    "## c)\n",
    "\n",
    "Lassen wir nun die Klassenstruktur einmal weg, die uns ja bisher dabei geholfen hat, die Liste der Farben zu speichern. Speichern sie nun die Liste in einem Closure, indem Sie eine Factory für derartige Generatoren schreiben, die die Liste als Parameter entgegennimmt, sie aber nicht als Parameter an den produzierten Generator weitergibt."
   ]
  },
  {
   "cell_type": "code",
   "execution_count": null,
   "metadata": {
    "collapsed": true
   },
   "outputs": [],
   "source": []
  }
 ],
 "metadata": {
  "anaconda-cloud": {},
  "kernelspec": {
   "display_name": "Python 3",
   "language": "python",
   "name": "python3"
  },
  "language_info": {
   "codemirror_mode": {
    "name": "ipython",
    "version": 3
   },
   "file_extension": ".py",
   "mimetype": "text/x-python",
   "name": "python",
   "nbconvert_exporter": "python",
   "pygments_lexer": "ipython3",
   "version": "3.5.1"
  }
 },
 "nbformat": 4,
 "nbformat_minor": 1
}
