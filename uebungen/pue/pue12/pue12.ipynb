{
 "cells": [
  {
   "cell_type": "markdown",
   "metadata": {},
   "source": [
    "# Aufgabe 1 (Terminal)\n",
    "Das echte Leben spielt sich leider nicht immer nur in Jupyter-Notebooks ab. Eine wichtige Kernkompetenz stellt das Bedienen einer **Shell** (auch Kommandozeile oder Konsole genannt) dar; eine Shell läuft in der Regel in einem sogenannten Terminal-Programm. In Jupyter können Sie ein Terminal samt Shell öffnen, indem Sie auf die Schaltfläche New klicken und dort dann Terminal auswählen.  \n",
    "\n",
    "Anmerkung: Selbsverständlich kann man all diese Dinge auch auf einem lokalen Terminal außerhalb von Jupyter tun. Oder Sie melden sich über das Programm `ssh` uf gp1.cs.upb.de oder einem der Poolrechner an. Eine Liste der Poolräume samt Belegung finden Sie hier: https://cs.uni-paderborn.de/rechnerbetrieb-irb/poolraeume/ ; eine Liste der Rechner ist hier: https://irb-service.cs.uni-paderborn.de/poolrechner.html. (Vorzugsweise melden Sie sich auf einem Poolrechner an und nicht auf gp1.cs.upb.de. Dort funktioniert allerdings nur Ihr regulärer Account, nicht die gp1\\_16\\_... Accounts). \n",
    "\n",
    "Vorsicht: Manche Befehle variieren aber je nach Betriebssystem.\n",
    "\n",
    "## a)\n",
    "\n",
    "Erstmal ein paar Aufwärmübungen mit dem Terminal. Wenden Sie jeden dieser Befehle einmal an.\n",
    "+ Wenn Sie `factor` eingeben, können Sie danach eine Zahl eingeben, die dann vom Terminal in Primfaktoren zerlegt wird.\n",
    "+ Der `date` Befehl gibt Ihnen das aktuelle Datum aus\n",
    "+ Mithilfe von `id` kommen Sie an Informationen über sich selbst\n",
    "+ Wenn Sie `time` vor einen Befehl schreiben, wird dessen Laufzeit gemessen. (Besonders interessant, wenn Sie selbst geschriebene Programme ausführen.)\n",
    "+ Vielleicht der wichtigste Befehl von alle: `man` - kurz für manual (Handbuch). `man` nimmt als ersten Parameter den Befehl entgegen, zu dem Sie Hilfe brauchen. Probieren Sie z.B.: \n",
    "++ `man man` - Das Handbuch zum Handbuch \n",
    "++ `man bash`- Das Handbuch zur üblichen Shell. Hier sollten \n",
    "\n",
    "Viele Kommandos verstehen auch optionale Parameter mit `-h`, `-?` oder `--help`. Probieren Sie das bei ein paar Beispielen aus. \n",
    "\n",
    "## b)\n",
    "Nun beschäftigen wir uns mit der Navigation im Dateisystem. Sie können sich jederzeit mithilfe des Befehls `ls` die Liste der im aktuellen Verzeichnis liegenden Verzeichnisse und Ordner anzeigen lassen. Das aktuelle Verzeichnis selbst wird mit `pwd` angezeigt (print working directory). `cd` (change directory) ist der Befehl, mit dem man das Verzeichnis wechseln kann. (Syntax: `cd Verzeichnis` oder `cd ..` um ins übergeordnete Verzeichnis zu gelangen)  \n",
    "\n",
    "Erstellen Sie (`touch Dateiname`) eine neue Textdatei (.txt) in einem beliebigen Ordner und bearbeiten Sie diese (`nano Dateiname`). Nano verlassen Sie wieder mit der Tastenkombination Ctrl+X.\n",
    "Nachdem Sie das getan haben, gehen Sie über die übliche Oberfläche von Jupyter in das entsprechende Verzeichnis und überprüfen Sie, ob in der Datei tatsächlich das steht, was Sie gerade hineingeschrieben haben.  \n",
    "Das funktioniert so auch im Prinzip mit Notebooks (.ipynb), aber tun Sie sich das nicht an (Notebooks sind sog. JSON-Dateien, die von Hand nicht komfortabel editiert werden können).\n",
    "\n",
    "Finden Sie nun mithilfe des Befehls `info` (eine Alternative zu `man`) heraus, wie Sie Dateien kopieren, umbenennen, löschen und verschieben können. Das info-Menü können sie mit der Taste Q wieder verlassen.\n",
    "\n",
    "Hinweis: Zum Umbenennen und Verschieben von Dateien können Sie denselben Befehl nutzen.\n",
    "\n",
    "Hinweis: Alternative Editoren sind etwa `vi` oder `emacs`. \n",
    "\n",
    "## c) \n",
    "In einem Terminal kann man auch Python-Programme schreiben. Dazu ruft man zunächst den Interpreter mit dem Befehl `python3` auf. Probieren Sie das einmal aus, indem Sie einige Zeilen Code eintippen. Zum Beispiel ein paar Zuweisungen, print-Befehle, oder was Ihnen sonst so in den Sinn kommt.  \n",
    "Auf diese Art können Sie beliebig große und komplexe Programme schreiben, es gibt hier keine Einschränkungen gegenüber Editoren oder Notebooks. Auch Funktions- und Klassendefinitionen sind möglich.  \n",
    "\n",
    "Implementieren Sie im Interpreter eine Klasse `System`, die einen Namen und eine Versionsnummer speichert. Die Versionsnummer soll mittels einer Mehode `update` um 1 erhöht werden können. Die String-Repräsentation der Klasse soll sowohl Namen als auch Versionsnummer beinhalten."
   ]
  },
  {
   "cell_type": "markdown",
   "metadata": {},
   "source": [
    "# Aufgabe 2 (Python-Skripte ausführen)\n",
    "\n",
    "## a)\n",
    "In dieser Aufgabe soll es darum gehen, dass Sie eine Python-Datei, welche im Dateisystem vorliegt, ausführen. Dazu erstellen Sie mithilfe eines Editors (der gewöhnliche Texteditor reicht dafür bereits aus) eine .py Datei, in welche Sie lauffähigen Code hineinschreiben. Dieser Code sollte einige print()-Anweisungen enthalten, da diese sich für die Veranschaulichung in diesem Fall gut eignen.  \n",
    "Sie könnten zum Beispiel ein kurzes Programm implementieren, das einfach das kleine Einmaleins auf der Konsole ausgibt.  \n",
    "\n",
    "Sie sollten die Datei manuell zu \\*.py umbenennen müssen, wenn Sie ein Textdokument bearbeiten (je nach Editor).  \n",
    "\n",
    "Nun muss die Datei noch irgendwie ausgeführt werden. Dazu öffnen Sie nun ein Terminal (Jupyter oder lokales System, je nachdem wo Sie Ihre Datei erstellt haben), navigieren mittels `cd` in das entsprechende Verzeichnis und verwenden dort den Befehl `python3 Dateiname.py`.  \n",
    "\n",
    "Wenn Sie alles richtig gemacht haben, sollte Ihr Code nun ausgeführt werden und Sie sollten die entsprechenden Ausgaben im Terminal sehen können.\n",
    "\n",
    "## b)\n",
    "Man kann über die Kommandozeile auch Parameter an ein Programm übergeben. Diese folgen einfach durch Leerzeichen getrennt auf den Dateinamen im Programmaufruf.  \n",
    "Im Code kann man dann mit diesen Parametern arbeiten. Alle Parameter sind in der Liste sys.argv gespeichert. Diese ist eine gewöhnliche Liste, wie Sie sie bereits kennen.  \n",
    "\n",
    "Veranschaulichen Sie sich dieses Prinzip, indem Sie ein Programm schreiben, das seine Kommandozeilenargumente der Reihe nach auf der Konsole ausgibt. Dann führen Sie es mit verschiedenen Parametern aus. Verwenden Sie auch verschiedene Typen.\n",
    "\n",
    "## c)\n",
    "Schreiben Sie ein Programm, das zwei übergebene Zahlen addiert, wenn der letzte übergebene Parameter False ist, oder diese multipliziert, falls er True ist. Das Ergebnis soll auf der Konsole ausgegeben werden."
   ]
  },
  {
   "cell_type": "markdown",
   "metadata": {},
   "source": [
    "# Aufgabe 3 (Tests/Fehlersuche)\n",
    "\n",
    "Schreiben Sie umfangreiche Tests für den folgenden Code, in denen Sie auch möglichst viele Sonderfälle prüfen. Finden Sie Fehler? Können Sie einige davon korrigieren?  \n",
    "\n",
    "Fällt Ihnen merkwürdiges Verhalten auf? Wenn ja, versuchen Sie die Ursache dafür zu finden."
   ]
  },
  {
   "cell_type": "code",
   "execution_count": null,
   "metadata": {
    "collapsed": true
   },
   "outputs": [],
   "source": [
    "class A:\n",
    "    \"\"\"Eine Art Warteschlange für Strings\"\"\"\n",
    "    def __init__(self, wait = [], now = \"\"):\n",
    "        self.wait = wait\n",
    "        self.now = now\n",
    "    \n",
    "    def new_string(self, x):\n",
    "        self.wait.append(str(x))\n",
    "        \n",
    "    def next_string(self):\n",
    "        self.now = self.wait[0]\n",
    "        self.wait.pop(0)\n",
    "        \n",
    "    def top(self):\n",
    "        return self.now"
   ]
  },
  {
   "cell_type": "markdown",
   "metadata": {
    "collapsed": true
   },
   "source": [
    "### Für die Reviewer: (Kommt nicht in die Endfassung) ### \n",
    "\n",
    "Der erste Fehler ist, dass next_string() bei leerer Warteschlange einen Fehler wirft.\n",
    "Der zweite Fehler ist das folgende merkwürdige Verhalten: Wenn man Klasse A mehrfach hintereinander initialisiert und Strings in die Schlange gibt, bleiben diese auch für die danach initialisierten Objekte erhalten."
   ]
  },
  {
   "cell_type": "markdown",
   "metadata": {},
   "source": [
    "# Aufgabe 4 (Umgang mit \"schwierigen\" Problemen)\n",
    "\n",
    "Diese Aufgabe können Sie vielleicht mit Ihrem bisherigen Kenntnisstand nicht lösen. Dennoch ist sie nicht als Expertenaufgabe gedacht. Versuchen Sie, die Ihnen fehlenden Kenntnisse zu recherchieren.\n",
    "\n",
    "## a)\n",
    "Implementieren Sie eine Methode, die True zurückgibt, wenn sie am Klausurtermin von Gp1 aufgerufen wird, und ansonsten immer False\n",
    "\n",
    "## b)\n",
    "Implementieren Sie eine Methode, die einen String übergeben bekommt und die Summe aller Unicode-Integer-Repräsentationen der einzelnen Zeichen in diesem String berechnet.\n",
    "\n",
    "## c) \n",
    "Erklären Sie, weshalb der Code in Aufgabe 3 ein solch merkwürdiges Verhalten an den Tag legt."
   ]
  }
 ],
 "metadata": {
  "anaconda-cloud": {},
  "kernelspec": {
   "display_name": "Python [default]",
   "language": "python",
   "name": "python3"
  },
  "language_info": {
   "codemirror_mode": {
    "name": "ipython",
    "version": 3
   },
   "file_extension": ".py",
   "mimetype": "text/x-python",
   "name": "python",
   "nbconvert_exporter": "python",
   "pygments_lexer": "ipython3",
   "version": "3.5.2"
  }
 },
 "nbformat": 4,
 "nbformat_minor": 1
}
