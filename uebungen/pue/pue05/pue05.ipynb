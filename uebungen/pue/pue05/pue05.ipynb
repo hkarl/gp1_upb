{
 "cells": [
  {
   "cell_type": "markdown",
   "metadata": {},
   "source": [
    "## Aufgabe 1\n",
    "\n",
    "Betrachen Sie den nachfolgenden Ausdruck.\n",
    "\n",
    "* Wie viele Tupel sind in dem Ausdruck verschachtelt?\n",
    "* Geben Sie mit Hilfe des print-Befehls nacheinander die Teil-Tupel aus."
   ]
  },
  {
   "cell_type": "code",
   "execution_count": 18,
   "metadata": {
    "collapsed": false
   },
   "outputs": [],
   "source": [
    "t = ((\"a\", \"b\"), (1, (\"2\", True)), (\"c\"))"
   ]
  },
  {
   "cell_type": "markdown",
   "metadata": {},
   "source": [
    "In der nachfolgenden Zelle finden sich ein Tupel und mehrere Slicing-Befehle.\n",
    "Überlegen Sie zunächst, ob der Slicing-Befehl syntaktisch korrekt und ausführbar ist.\n",
    "\n",
    "* Wenn ja, was ist wohl die Ausgabe?\n",
    "* Wenn nein, was ist das Problem?\n",
    "\n",
    "Wenn Sie sich Gedanken zu dem Befehl gemacht haben, entfernen das jeweilige Kommentarsymbol \"#\" und probieren Sie aus, ob Sie richtig lagen.\n",
    "War Ihre Intuition richtig oder sind Sie überrascht worden?"
   ]
  },
  {
   "cell_type": "code",
   "execution_count": 41,
   "metadata": {
    "collapsed": false
   },
   "outputs": [],
   "source": [
    "t = (\"a\", \"b\", \"c\", (0, (1, 2), 3), \"d\")\n",
    "\n",
    "#print(t[1:3])\n",
    "#print(t[:2])\n",
    "#print(t[2:4][1][1:])\n",
    "#print(t[4:])\n",
    "#print(t[\"a\":\"c\"])\n",
    "\n",
    "#print(t[997:1000])\n",
    "#print(t[3:1])\n",
    "#print(t[:])\n",
    "#print(t[0:-2])\n",
    "#print(t[-2:-1])"
   ]
  },
  {
   "cell_type": "markdown",
   "metadata": {},
   "source": [
    "## Aufgabe 2\n",
    "\n",
    "* Schreiben Sie die Funktion `combineTuple(t1, t2)` die ein Tupel t1 und ein Tupel t2 als Parameter erhält.\n",
    "* Erzeugen Sie ein neues Tupel, in welchem t1 und t2 zusammengefügt sind.\n",
    "* Geben Sie anschließend das neue Tupel zurück.\n",
    "* Testen Sie Ihre Funktion mit geeigneten Tupeln.\n",
    "\n",
    "Beispiel:\n",
    "`combineTuple((1, 2, 3), (3, 4, 5))` würde das Tupel `(1, 2, 3, 3, 4, 5)` zurückgeben."
   ]
  },
  {
   "cell_type": "code",
   "execution_count": null,
   "metadata": {
    "collapsed": true
   },
   "outputs": [],
   "source": [
    "def combineTuple(t1, t2):"
   ]
  },
  {
   "cell_type": "markdown",
   "metadata": {},
   "source": [
    "Nun wollen wir eine neue Funktion schreiben, die nicht nur Tupel hintereinanderschreibt, sondern ihre Elemente elementweise addiert.\n",
    "\n",
    "* Schreiben Sie die Funktion `add3Tuple(t1, t2)` die ein Tupel t1 und ein Tupel t2 als Parameter erhält. Wir nehmen an, dass die Tupel jeweils 3 Elemente enthalten.\n",
    "* Erzeugen Sie ein neues Tupel, in welchem t1 und t2 elementweise addiert wurden sind.\n",
    "* Geben Sie anschließend das neue Tupel zurück.\n",
    "* Testen Sie Ihre Funktion mit geeigneten Tupeln.\n",
    "* Was passiert, wenn ein oder beide Tupel zu lang sind? Was, wenn sie zu kurz sind?\n",
    "* Was wäre nötig, um die Funktion für beliebig lange Tupel nutzbar zu machen?\n",
    "\n",
    "Beispiel:\n",
    "`add3Tuple((1, 2, 3), (3, 4, 5))` würde das Tupel `(1, 3, 2, 4, 3, 5)` zurückgeben."
   ]
  },
  {
   "cell_type": "code",
   "execution_count": 1,
   "metadata": {
    "collapsed": false
   },
   "outputs": [
    {
     "ename": "SyntaxError",
     "evalue": "unexpected EOF while parsing (<ipython-input-1-5c28bb4fc461>, line 1)",
     "output_type": "error",
     "traceback": [
      "\u001b[0;36m  File \u001b[0;32m\"<ipython-input-1-5c28bb4fc461>\"\u001b[0;36m, line \u001b[0;32m1\u001b[0m\n\u001b[0;31m    def add3Tuple(t1, t2):\u001b[0m\n\u001b[0m                          ^\u001b[0m\n\u001b[0;31mSyntaxError\u001b[0m\u001b[0;31m:\u001b[0m unexpected EOF while parsing\n"
     ]
    }
   ],
   "source": [
    "def add3Tuple(t1, t2):"
   ]
  },
  {
   "cell_type": "markdown",
   "metadata": {},
   "source": [
    "Würden die beiden Funktionen auch für Listen und Sets funktionieren?"
   ]
  },
  {
   "cell_type": "markdown",
   "metadata": {},
   "source": [
    "## Aufgabe 3\n",
    "\n",
    "* Schreiben Sie die Funktion `sliceTuple(t, i)` die ein Tupel t und einen Index i als Parameter erhält.\n",
    "* Nutzen Sie Slicing, um eine Kopie von t, jedoch ohne den Wert an der Stelle i zu erzeugen.\n",
    "* Geben Sie anschließend den \"ausgeschnittenen\" Wert aus und das neue Tupel zurück.\n",
    "* Testen Sie Ihre Funktion mit geeigneten Tupeln und Werten.\n",
    "\n",
    "Beispiel:\n",
    "`sliceTuple((1, 2, 3), 1)` würde `2` ausgeben und das Tupel `(1, 3)` zurückgeben.\n",
    "\n",
    "Tipp:\n",
    "Sie können zwischenzeitlich auch zwei Tupel haben, die Sie am Ende mit der Funktion aus Aufgabe 3 wieder zusammenfügen.\n",
    "Wichtig ist lediglich, dass die Funktion **ein** Tupel zurückgibt."
   ]
  },
  {
   "cell_type": "code",
   "execution_count": null,
   "metadata": {
    "collapsed": false
   },
   "outputs": [],
   "source": [
    "def sliceTuple(t, i):"
   ]
  },
  {
   "cell_type": "markdown",
   "metadata": {},
   "source": [
    "Würde die Funktion auch für Listen und Sets funktionieren?"
   ]
  },
  {
   "cell_type": "markdown",
   "metadata": {},
   "source": [
    "## Aufgabe 4\n",
    "\n",
    "Gegeben ist die folgende Liste L: `L = [\"a\", \"b\", \"c\", \"d\", 0, 1, 2, 3]`\n",
    "\n",
    "Führen Sie Operationen durch, um:\n",
    "\n",
    "* das Element `\"c\"` in `\"z\"` zu ändern,\n",
    "* das Element `1` zu entfernen,\n",
    "* das letzte Element der Liste zu entfernen und auszugeben (mit Hilfe der `pop`-Funktion),\n",
    "* das letzte Element der Liste zu entfernen und auszugeben (mit Hilfe der `remove`-Funktion),\n",
    "* ein neues Element an die Liste anzuhängen,\n",
    "* ein Element an der 4. Stelle einzufügen (zwischen `\"d\"` und `0`),\n",
    "* die Länge der Liste auszugeben."
   ]
  },
  {
   "cell_type": "code",
   "execution_count": 4,
   "metadata": {
    "collapsed": false
   },
   "outputs": [],
   "source": [
    "L = [\"a\", \"b\", \"c\", \"d\", 0, 1, 2, 3]"
   ]
  },
  {
   "cell_type": "markdown",
   "metadata": {},
   "source": [
    "Beschreiben Sie, wie Ihr Programm geändert werden müsste, um all dies mit Tupeln durchzuführen.\n",
    "Geht das überhaupt?"
   ]
  },
  {
   "cell_type": "markdown",
   "metadata": {},
   "source": [
    "## Aufgabe 5\n",
    "\n",
    "Sehen Sie sich das nachfolgende Programm an.\n",
    "Welche Ausgabe erwarten Sie?"
   ]
  },
  {
   "cell_type": "code",
   "execution_count": 1,
   "metadata": {
    "collapsed": false
   },
   "outputs": [
    {
     "name": "stdout",
     "output_type": "stream",
     "text": [
      "[[1, 17, 3], [1, 17, 3], [1, 2, 3], [1, 17, 3]]\n"
     ]
    }
   ],
   "source": [
    "L = [1, 2, 3]\n",
    "M = L\n",
    "C = L.copy()\n",
    "L = [L, L, C, M]\n",
    "M[1] = 17\n",
    "print(L)"
   ]
  },
  {
   "cell_type": "markdown",
   "metadata": {},
   "source": [
    "## Aufgabe 6\n",
    "\n",
    "Erklären Sie die Unterschiede zwischen einem Tupel, einer Liste und einem Set.\n",
    "\n",
    "Wofür könnte man die drei Typen gebrauchen?\n",
    "Warum gibt es nicht nur einen Typ für alles?"
   ]
  }
 ],
 "metadata": {
  "anaconda-cloud": {},
  "kernelspec": {
   "display_name": "Python 3",
   "language": "python",
   "name": "python3"
  },
  "language_info": {
   "codemirror_mode": {
    "name": "ipython",
    "version": 3
   },
   "file_extension": ".py",
   "mimetype": "text/x-python",
   "name": "python",
   "nbconvert_exporter": "python",
   "pygments_lexer": "ipython3",
   "version": "3.4.2"
  }
 },
 "nbformat": 4,
 "nbformat_minor": 1
}
