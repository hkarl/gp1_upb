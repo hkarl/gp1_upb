{
 "cells": [
  {
   "cell_type": "markdown",
   "metadata": {},
   "source": [
    "# Aufgabe 1: Ein einfaches Zeichenprogramm\n",
    "\n",
    "## a) \n",
    "Erstellen Sie eine Klasse ```Square``` mit den folgenden Eigenschaften:\n",
    "\n",
    "**Objektvariablen:**\n",
    "- ```width```: Seitenlänge (default: 0)\n",
    "- ```color```: Füllfarbe (ein einzelnes Zeichen, default: '*')\n",
    "\n",
    "**Klassenvariablen:**\n",
    "- ```shape_type```: Name der repräsentierten Form (default: ```\"Square\"```)\n",
    "\n",
    "**Objektmethoden:**\n",
    "- ```__init__(self,w,c)```: Konstruktor mit der Seitenlänge und der Farbe als Parameter\n",
    "- ```draw(self)```: Zeichne das Quadrat, indem es auf der Konsole ausgegeben wird.\n",
    " - Beispiel für ein 3x3 Quadrat mit Farbe '*':\n",
    "    ```\n",
    "    ***\n",
    "    ***\n",
    "    ***\n",
    "    ```\n",
    "    (Anmerkung: Man denke sich, dass die obige Form quadratisch aussähe)\n",
    "- ```scale(self,factor)```: Skaliere Quadrat um ganzzahligen Faktor"
   ]
  },
  {
   "cell_type": "code",
   "execution_count": null,
   "metadata": {
    "collapsed": true
   },
   "outputs": [],
   "source": [
    "# Definition der Klasse \"Square\"\n"
   ]
  },
  {
   "cell_type": "markdown",
   "metadata": {},
   "source": [
    "## b) \n",
    "Testen Sie Ihre Klasse ```Square```\n",
    "1. Erstellen Sie zwei Quadrate ```q1``` (Seitenlänge 4) und ```q2``` (Seitenlänge 6).\n",
    "2. Geben Sie beide Quadrate mithilfe der Objektmethode ```draw``` aus.\n",
    "3. Setzen Sie die Seitenlänge von ```q1``` gleich mit der Seitenlänge von ```q2``` und geben Sie ```q1``` aus.\n",
    "4. Skalieren Sie ```q1``` um den Faktor 2 und geben Sie es aus.\n",
    "5. Geben Sie den Shape-Typ von ```q1``` aus."
   ]
  },
  {
   "cell_type": "code",
   "execution_count": null,
   "metadata": {
    "collapsed": true
   },
   "outputs": [],
   "source": [
    "# Test der Klasse \"Square\"\n"
   ]
  },
  {
   "cell_type": "markdown",
   "metadata": {},
   "source": [
    "## c) \n",
    "Erstellen Sie eine Klasse ```Rectangle``` mit den folgenden Eigenschaften:\n",
    "\n",
    "**Objektvariablen:**\n",
    "- ```width```: Breite des Rechtecks (default: 0)\n",
    "- ```height```: Höhe des Rechtecks (default: 0)\n",
    "- ```color```: Füllfarbe (ein einzelnes Zeichen, default: '*')\n",
    "\n",
    "**Klassenvariablen:**\n",
    "- ```shape_type```: Name der repräsentierten Form (Default: ```\"Rectangle\"```)\n",
    "\n",
    "**Objektmethoden:**\n",
    "- ```__init__(self,w,h,c)```: Konstruktor der beide Seitenlängen und die Farbe setzt.\n",
    "- ```draw(self)```: Zeichne das Rechteck, indem es auf der Konsole ausgegeben wird.\n",
    " - Beispiel für ein 5x3 Rechteck mit Farbe '#':\n",
    "    ```\n",
    "    #####\n",
    "    #####\n",
    "    #####\n",
    "    ```\n",
    "- ```scale(self,factor)```: Skaliere nur die Breite um einen ganzzahligen Faktor"
   ]
  },
  {
   "cell_type": "code",
   "execution_count": null,
   "metadata": {
    "collapsed": true
   },
   "outputs": [],
   "source": [
    "# Definition der Klasse \"Rectangle\"\n"
   ]
  },
  {
   "cell_type": "markdown",
   "metadata": {},
   "source": [
    "## d) \n",
    "Testen Sie Ihre Klasse ```Rectangle``` :\n",
    "1. Erstellen Sie zwei Rechtecke ```r1``` (Breite: 4, Höhe: 3) und ```r2``` (Breite: 6, Höhe: 3).\n",
    "2. Geben Sie beide Rechtecke mithilfe der Objektmethode ```draw``` aus.\n",
    "3. Setzen Sie Breite und Höhe von ```r1``` gleich denen von ```r2``` und geben Sie ```r1``` aus.\n",
    "4. Skalieren Sie ```r1``` um den Faktor 2 und geben Sie es aus.\n",
    "5. Geben Sie den Shape-Typ von ```r1``` aus."
   ]
  },
  {
   "cell_type": "code",
   "execution_count": null,
   "metadata": {
    "collapsed": true
   },
   "outputs": [],
   "source": [
    "# Testen der Klasse Rechteck\n"
   ]
  },
  {
   "cell_type": "markdown",
   "metadata": {},
   "source": [
    "# Aufgabe 2: Vererbung einfach\n",
    "\n",
    "## a) \n",
    "Betrachten Sie Ihre Implementierung aus Aufgabe 1:\n",
    "- An welchen Stellen haben Sie semantisch identischen Code stehen?\n",
    "- Ist ihre Implementierung einfach auf beliebig viele verschiedene Formen erweiterbar?\n",
    "\n",
    "\n",
    "## b)\n",
    "Zunächst stellen wir eine einfache Vererbungshierarchie her:\n",
    "1. Kopieren Sie ihre Definitionen der Klassen ```Square``` und ```Rectangle``` in die untere Zelle.\n",
    "2. Benennen Sie die Klassen in ```OOP_Square``` bzw. ```OOP_Rectangle``` um (den Wert des Attributs ```shape_type``` können Sie unverändert lassen).\n",
    "3. Definieren Sie eine Klasse ```OOP_Shape``` als Basisklasse für beliebige geometrische Formen.\n",
    "4. Lassen Sie die Klassen ```OOP_Square``` und ```OOP_Rectangle``` von ```OOP_Shape``` erben.\n",
    "5. Werden Sie redundante Code-Abschnitte los, indem Sie sie als Methoden der Basisklasse ```OOP_Shape``` implementieren (und anschließend aus den Unterklassen entfernen). **Wichtig**: Überlegen Sie sich gut, welche Klasse welche Methoden implementieren sollte. Hat z.B. _jede_ beliebige geometrische Form eine Breite und Höhe?"
   ]
  },
  {
   "cell_type": "code",
   "execution_count": null,
   "metadata": {
    "collapsed": true
   },
   "outputs": [],
   "source": [
    "# Definition der Klasse OOP_Shape\n",
    "\n",
    "\n",
    "# Definition der Klasse OOP_Square\n",
    "\n",
    "\n",
    "# Definition der Klasse OOP_Rectangle\n",
    "\n"
   ]
  },
  {
   "cell_type": "markdown",
   "metadata": {},
   "source": [
    "## c)\n",
    "Testen Sie ihre Implementierung, indem Sie die Schritte aus Aufgabe 1b und 1d ausführen. Hat sich etwas geändert im Vergleich zu Aufgabe 1?"
   ]
  },
  {
   "cell_type": "code",
   "execution_count": null,
   "metadata": {
    "collapsed": true
   },
   "outputs": [],
   "source": [
    "# Testen der Implementierung\n"
   ]
  },
  {
   "cell_type": "markdown",
   "metadata": {},
   "source": [
    "# Aufgabe 3: Einige Modifikationen\n",
    "## a)\n",
    "Kopieren Sie ihre Klassendefinitionen aus Aufgabe 2 in die Zelle unten.\n",
    "\n",
    "## b)\n",
    "Überschreiben Sie die Methode ```scale(self,factor)``` der Klasse ```OOP_Rectangle```, sodass sowohl Breite als auch Höhe des Rechtecks skaliert werden.\n",
    "\n",
    "## c)\n",
    "In der Vorlesung haben Sie gelernt, wie Sie eine formatierte Ausgabe von Objekten erreichen können indem Sie eine Objektmethode mit einem bestimmten Namen implementieren. Erweitern Sie ihre Klassen insofern, dass die Anweisung ```print(q1)``` die Ausgabe \"```Quadrat mit Breite 4```\" und die Anweisung ```print(r1)``` die Ausgabe \"```Rechteck mit Breite 4 und Höhe 3```\" erzeugt."
   ]
  },
  {
   "cell_type": "code",
   "execution_count": null,
   "metadata": {
    "collapsed": true
   },
   "outputs": [],
   "source": [
    "# Definition der Klasse OOP_Shape\n",
    "\n",
    "# Definition der Klasse OOP_Quadrat\n",
    "\n",
    "# Definition der Klasse OOP_Rectangle\n",
    "\n",
    "\n",
    "# Testen der Implementierung\n",
    "q1 = OOP_Square(4)\n",
    "r1 = OOP_Rectangle(2,3)\n",
    "\n",
    "print(q1)\n",
    "print(r1)\n"
   ]
  },
  {
   "cell_type": "markdown",
   "metadata": {},
   "source": [
    "# Aufgabe 4: Traversieren eines Binärbaums\n",
    "\n",
    "## a)\n",
    "Betrachten Sie die in der unteren Codezelle enthaltene Implementierung eines Binärbaums:\n",
    "- Wofür ist die die Klasse ```TreeNode``` da?\n",
    "- Warum reicht die kurze Definition der Klasse ```BinaryTree``` aus um einen beliebig großen Binärbaum zu erstellen? Welche Rolle spielt ```TreeNode``` hierbei?\n",
    "- Inwiefern unterscheiden sich die beiden Konstruktoren von den in der Vorlesung vorgestellten? Welches Paradigma wird hier verwendet?\n",
    "\n",
    "\n",
    "## b)\n",
    "Erstellen Sie in der unteren Zelle den folgenden Binärbaum und weisen Sie ihn einer Variable namens ```tree``` zu. Die Zahlen in den Knoten stellen die ```key``` Werte dar. Als ```values``` können Sie beliebige Werte speichern (Strings, Zahlen, Listen, etc.).\n",
    "![title](https://upload.wikimedia.org/wikipedia/commons/thumb/d/da/Binary_search_tree.svg/300px-Binary_search_tree.svg.png)\n",
    "Tipp: Der Teilbaum bestehend aus den Knoten 8, 3 und 10 könnte wie folgt konstruiert werden:\n",
    "```Python\n",
    "tree = BinaryTree(\n",
    "    TreeNode(8,\"abc\",\n",
    "             TreeNode(3,100),\n",
    "             TreeNode(10,30.0)))\n",
    "```\n",
    "\n",
    "## c)\n",
    "Implementieren Sie die rekursive Methode ```inOrderTraverse(self)```, welche den in Teilaufgabe b) erstellen Binärbaum \"in-order\" traversiert und die Werte der einzelnen Knoten ausgibt. Überlegen Sie sich dazu zunächst, welchen Zustand Sie sich in jeder Rekursionsstufe merken müssen. Die erwartete Ausgabe ist: \n",
    "```\n",
    "1\n",
    "3\n",
    "4\n",
    "6\n",
    "7\n",
    "8\n",
    "10\n",
    "13\n",
    "14\n",
    "```\n",
    "\n",
    "Informationen zu verschiedenen Traversierungsvarianten finden Sie z.B. hier: https://en.wikipedia.org/wiki/Tree_traversal.\n",
    "\n",
    "## d)\n",
    "Erweitern Sie Ihre Implementierung insofern, dass ```print(tree)``` die obige Ausgabe erzeugt.\n",
    "\n",
    "## e) (Zusatzaufgabe)\n",
    "Implementieren Sie nach demselben Schema wie in c) die Methoden ```preOrderTraverse(self)``` und ```postOrderTraverse(self)```.\n",
    "\n",
    "## f) (Zusatzaufgabe)\n",
    "Implementieren Sie die Methode ```traverse(self, traversal_type)```, die anhand des Parameters ```traversal_type``` zwischen den verschiedenen Varianten unterscheidet, welche angewandt werden soll."
   ]
  },
  {
   "cell_type": "code",
   "execution_count": 11,
   "metadata": {
    "collapsed": false
   },
   "outputs": [],
   "source": [
    "class TreeNode:\n",
    "    def __init__(self, key, val, lc = None, rc = None):\n",
    "        self.key = key\n",
    "        self.value = val\n",
    "        self.leftChild = lc\n",
    "        self.rightChild = rc\n",
    "        \n",
    "    def isLeaf(self):\n",
    "        return ((self.leftChild is None) and \n",
    "                (self.rightChild is None))\n",
    "    \n",
    "    def inOrderTraverse(self):\n",
    "        # Your code here (c)\n",
    "        pass\n",
    "    \n",
    "class BinaryTree:\n",
    "    def __init__(self, r=None):\n",
    "        self.root = r\n",
    "        \n",
    "    def inOrderTraverse(self):\n",
    "        # Your code here (c)\n",
    "        pass\n",
    "        \n",
    "# Binärbaum erstellen (b)\n",
    "\n",
    "# Baum traversieren und ausgeben (c)\n",
    "\n",
    "# Baum ausgeben mit print (d)\n",
    "#print(tree)"
   ]
  },
  {
   "cell_type": "markdown",
   "metadata": {},
   "source": [
    "# Aufgabe 5 (Zusatzaufgabe): Dreieck implementieren\n",
    "Nutzen Sie Ihren Code aus Aufgabe 2 bzw. 3 und implementieren Sie die Klasse ```OOP_Triangle```. Überlegen Sie sich dabei selbst, welche Methoden und Attribute diese haben sollte und inwieweit Sie ihre Implementierung aus Aufgabe 3 erweitern müssen. Testen Sie anschließend Ihre Implementierung wie in den vorangegangenen Aufgaben."
   ]
  },
  {
   "cell_type": "code",
   "execution_count": null,
   "metadata": {
    "collapsed": true
   },
   "outputs": [],
   "source": []
  }
 ],
 "metadata": {
  "anaconda-cloud": {},
  "kernelspec": {
   "display_name": "Python 3",
   "language": "python",
   "name": "python3"
  },
  "language_info": {
   "codemirror_mode": {
    "name": "ipython",
    "version": 3
   },
   "file_extension": ".py",
   "mimetype": "text/x-python",
   "name": "python",
   "nbconvert_exporter": "python",
   "pygments_lexer": "ipython3",
   "version": "3.5.2"
  }
 },
 "nbformat": 4,
 "nbformat_minor": 1
}
