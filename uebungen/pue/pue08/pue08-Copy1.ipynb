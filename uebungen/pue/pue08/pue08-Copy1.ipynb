{
 "cells": [
  {
   "cell_type": "markdown",
   "metadata": {},
   "source": [
    "# Aufgabe 1: Ein einfaches Zeichenprogramm\n",
    "\n",
    "## a) \n",
    "Erstellen Sie eine Klasse ```Quadrat``` mit den folgenden Eigenschaften:\n",
    "\n",
    "**Objektattribute:**\n",
    "- ```width```: Seitenlänge\n",
    "\n",
    "**Klassenattribute:**\n",
    "- ```shape_type```: Name der repräsentierten Form (Wert: \"Quadrat\")\n",
    "\n",
    "**Methoden:**\n",
    "- ```__init__(self,w)```: Konstruktor mit der Seitenlänge als Parameter\n",
    "- ```print(self)```: Drucke Quadrat mit Sternen\n",
    "- ```scale(self,factor)```: Skaliere Quadrat mit ganzzahligem Faktor\n",
    "- ```set_width(self,w)```: Setze die Seitenlänge des Quadrats\n",
    "- ```get_width(self)```: Gibt die Seitenlänge zurück\n",
    "\n",
    "## b) \n",
    "Testen Sie Ihre Klasse ```Quadrat```\n",
    "1. Erstellen Sie zwei Quadrate ```q1``` (Seitenlänge: 4) und ```q2``` (Seitenlänge 6).\n",
    "2. Geben Sie beide Quadrate mithilfe der Methode ```print``` aus.\n",
    "3. Setzen sie die Seitenlänge von ```q1``` gleich mit der Seitenlänge von ```q2``` und geben Sie es aus.\n",
    "4. Skalieren Sie ```q1``` um den Faktor 2 und geben Sie es aus.\n",
    "5. Geben Sie den Shape-Typ von ```q1``` aus.\n",
    "\n",
    "## c) \n",
    "Erstellen Sie eine Klasse ```Rechteck``` mit den folgenden Eigenschaften:\n",
    "\n",
    "**Objektattribute:**\n",
    "- Wie ```Quadrat```\n",
    "- ```height``` für die Höhe des Rechtecks\n",
    "\n",
    "**Klassenattribute:**\n",
    "- Wie ```Quadrat``` (Wert: \"Rechteck\")\n",
    "\n",
    "**Methoden:**\n",
    "- Wie ```Quadrat```\n",
    " - ```__init__(self,w)``` setzt beide Seiten auf dieselbe Länge\n",
    " - ```scale(self,factor)``` skaliert nur die Breite\n",
    "- ```__init__(self,w,h)```: Setzt Breite und Höhe\n",
    "- ```set_height(self,h)```: Setze die Seitenlänge des Quadrats\n",
    "- ```get_height(self)```: Gibt die Seitenlänge zurück\n",
    "\n",
    "## d) \n",
    "Testen Sie Ihre Klasse ```Rechteck``` :\n",
    "1. Erstellen Sie zwei Rechtecke ```r1``` (Breite: 4, Höhe: 3) und ```r2``` (Breite: 6, Höhe: 3).\n",
    "2. Geben Sie beide Rechtecke mithilfe der Methode ```print``` aus.\n",
    "3. Setzen Sie Breite und Höhe von ```r1``` gleich denen von ```r2``` und geben Sie es aus.\n",
    "4. Skalieren Sie ```r1``` um den Faktor 2 und geben Sie es aus.\n",
    "5. Geben Sie den Shape-Typ von ```r1``` aus."
   ]
  },
  {
   "cell_type": "markdown",
   "metadata": {},
   "source": [
    "# Aufgabe 2: Vererbung\n",
    "\n",
    "## a) \n",
    "Betrachten Sie Ihre Implementierung aus Aufgabe 1:\n",
    "- An welchen Stellen haben Sie semantisch identischen Code stehen?\n",
    "- Ist ihre Implementierung einfach auf beliebig viele verschiedene Formen erweiterbar?\n",
    "\n",
    "Im Folgenden werden wir Schritt für Schritt den redundanten Code los. Gehen Sie dazu wie folgt vor:\n",
    "\n",
    "## b)\n",
    "Zunächst stellen wir eine einfache Vererbungshierarchie her:\n",
    "1. Kopieren Sie ihre Definitionen der Klassen ```Quadrat``` und ```Rechteck``` in die untere Zelle.\n",
    "2. Benennen Sie die Klassen in ```OOP_Quadrat``` bzw. ```OOP_Rechteck``` um (den Wert des Attributs ```shape_type``` können Sie unverändert lassen).\n",
    "3. Definieren Sie eine Klasse ```OOP_Shape``` als Basisklasse für beliebige geometrische Formen.\n",
    "4. Lassen Sie die Klassen ```OOP_Quadrat``` und ```OOP_Rechteck``` von ```OOP_Shape``` erben.\n",
    "5. Werden Sie redundante Code-Abschnitte los, indem Sie sie als Methoden der Basisklasse ```OOP_Shape``` implementieren (und anschließend aus den Unterklassen entfernen). **Wichtig**: Überlegen Sie sich gut, welche Klasse welche Methoden implementieren sollte. Hat z.B. _jede_ beliebige geometrische Form eine Breite/Höhe?\n",
    "\n",
    "## c)\n",
    "Testen Sie ihre Implementierung, indem Sie sie Schritte aus Aufgabe 1b und 1d ausführen. Hat sich etwas geändert im Vergleich zu Aufgabe 1? "
   ]
  },
  {
   "cell_type": "markdown",
   "metadata": {},
   "source": [
    "# Aufgabe 3: Einige Modifikationen\n",
    "\n",
    "## a)\n",
    "Kopieren Sie ihre Klassendefinitionen aus Aufgabe 2 in die Zelle unten.\n",
    "\n",
    "## b)\n",
    "Überschreiben Sie die Methode ```scale(self,factor)``` der Klasse ```Rechteck```, sodass sowohl Breite als auch Höhe des Rechteckes skaliert werden.\n",
    "\n",
    "## c)\n",
    "In der Vorlesung haben Sie gelernt, sie man eine formatierte Ausgaben von Objekten erreicht. Erweitern Sie ihre Klassen insofern, dass der Aufruf ```print(q1)``` die Ausgabe ```Quadrat mit Breite 4``` und der Aufruf ```print(r1)``` die Ausgabe ```Rechteck mit Breite 4 und Höhe 3``` erzeugt.\n",
    "\n",
    "# Aufgabe 4 (Zusatzaufgabe): Dreieck implementieren\n",
    "Implementieren Sie die Klasse ```Dreieck```. Überlegen Sie sich dabei selbst, welche Methoden und Attribute diese haben sollte und inwieweit Sie ihre Implementierung aus Aufgabe 3 erweitern müssen. Testen Sie anschließend Ihre Implementierung wie in den Vorangegangenen Aufgaben."
   ]
  }
 ],
 "metadata": {
  "anaconda-cloud": {},
  "kernelspec": {
   "display_name": "Python 3",
   "language": "python",
   "name": "python3"
  },
  "language_info": {
   "codemirror_mode": {
    "name": "ipython",
    "version": 3
   },
   "file_extension": ".py",
   "mimetype": "text/x-python",
   "name": "python",
   "nbconvert_exporter": "python",
   "pygments_lexer": "ipython3",
   "version": "3.5.2"
  }
 },
 "nbformat": 4,
 "nbformat_minor": 1
}
