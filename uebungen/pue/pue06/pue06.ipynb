{
 "cells": [
  {
   "cell_type": "markdown",
   "metadata": {},
   "source": [
    "# Aufgabe 1\n",
    "\n",
    "Schreiben Sie je Funktionen, die die folgenden Anforderungen erreichen. Nutzen Sie dabei jeweils entweder eine ```for``` oder eine ```while``` Schleife und begründen Ihre Wahl.  \n",
    "Überlegen Sie sich auch jeweils eine kurze Begründung dafür, warum Ihre Schleife in jedem Fall terminiert (d.h. die Anzahl der Schleifendurchläufe bei Ausführung des Programms ist endlich). Können Sie die Anzahl der Schleifendurchläufe im voraus angeben? \n",
    "\n",
    "## a)\n",
    "Berechnung der Fakultät des übergebenen Parameters."
   ]
  },
  {
   "cell_type": "code",
   "execution_count": null,
   "metadata": {
    "collapsed": false
   },
   "outputs": [],
   "source": [
    "def fak(a):\n",
    "    pass\n",
    "\n",
    "assert fak(4) == 24"
   ]
  },
  {
   "cell_type": "markdown",
   "metadata": {},
   "source": [
    "## b)\n",
    "Berechnung Divisions-Rest (\"modulo\") nur mit Addition und Subtraktion."
   ]
  },
  {
   "cell_type": "code",
   "execution_count": null,
   "metadata": {
    "collapsed": false
   },
   "outputs": [],
   "source": [
    "def mod(a, b):\n",
    "    pass\n",
    "\n",
    "assert mod(32, 5) == 2"
   ]
  },
  {
   "cell_type": "markdown",
   "metadata": {},
   "source": [
    "## c)\n",
    "Berechnung der Summe der positiven Elemente einer Liste."
   ]
  },
  {
   "cell_type": "code",
   "execution_count": null,
   "metadata": {
    "collapsed": false
   },
   "outputs": [],
   "source": [
    "def sum_pos(l):\n",
    "    pass\n",
    "\n",
    "assert sum_pos([1, 5, -4, 2.2]) == 8.2"
   ]
  },
  {
   "cell_type": "markdown",
   "metadata": {},
   "source": [
    "## d) \n",
    "Berechnung der Summe aller durch 3 oder 5 teilbaren Zahlen der Zahlen von 1 bis (einschließlich) zum übergebenen Parameter."
   ]
  },
  {
   "cell_type": "code",
   "execution_count": null,
   "metadata": {
    "collapsed": false
   },
   "outputs": [],
   "source": [
    "def sum_divisor(a):\n",
    "    pass\n",
    "\n",
    "assert sum_divisor(15) == 60\n",
    "# Zahlen 1, 2, ..., 14, 15\n",
    "# davon durch 3 teilbar: 3, 6, 9, 12, 15\n",
    "#       durch 5 teilbar: 5, 10, 15\n",
    "# Summe von 3, 5, 6, 9, 10, 12, 15 = 60"
   ]
  },
  {
   "cell_type": "markdown",
   "metadata": {},
   "source": [
    "## e)\n",
    "Zurückliefern, ob die übergebene Liste eine durch 10 teilbare Zahl enthält. Verhindern Sie durch Benutzung von `break` unnötige Schleifendurchläufe."
   ]
  },
  {
   "cell_type": "code",
   "execution_count": null,
   "metadata": {
    "collapsed": false
   },
   "outputs": [],
   "source": [
    "def divisor10(l):\n",
    "    pass\n",
    "\n",
    "assert divisor10([65, 71, 90, 104, 110]) == True\n",
    "assert divisor10([21, 33, 54]) == False"
   ]
  },
  {
   "cell_type": "markdown",
   "metadata": {},
   "source": [
    "# Aufgabe 2\n",
    "## a)\n",
    "Schreiben Sie eine Funktion, die den Index des maximalen Wertes der übergebenen Liste ausgibt.   \n",
    "Verwenden Sie dabei eine ```for```-Schleife und die eingebaute Funktion ```enumerate()```."
   ]
  },
  {
   "cell_type": "code",
   "execution_count": null,
   "metadata": {
    "collapsed": false
   },
   "outputs": [],
   "source": [
    "def max_index(L):\n",
    "    pass\n",
    "\n",
    "assert max_index([2, 5, 3, 8, 1]) == 3"
   ]
  },
  {
   "cell_type": "markdown",
   "metadata": {},
   "source": [
    "## b)\n",
    "Schreiben Sie eine Funktion, die zwei Listen `l` und `m` übergeben bekommt und die Anzahl der Übereinstimmungen zurückgibt.  \n",
    "Verwenden Sie dabei eine ```for```-Schleife und die eingebaute Funktion ```zip()```.\n",
    "\n",
    "Eine Übereinstimmung heißt, dass in beiden Listen am selben Index zwei gleiche Elemente liegen."
   ]
  },
  {
   "cell_type": "code",
   "execution_count": null,
   "metadata": {
    "collapsed": false
   },
   "outputs": [],
   "source": [
    "def num_equals(L, M):\n",
    "    pass\n",
    "\n",
    "L1 = [1, 4, 5, 3, 6]\n",
    "L2 = [1, 2, 3, 4, 6]\n",
    "assert num_equals(L1, L2) == 2"
   ]
  },
  {
   "cell_type": "markdown",
   "metadata": {},
   "source": [
    "## c) \n",
    "Schreiben Sie eine Funktion, die eine Liste übergeben bekommt und alle Elemente, die keine Zahlen (`float`, `int`) sind, entfernt. **Die ursprüngliche Liste soll dabei verändert werden!**\n",
    "\n"
   ]
  },
  {
   "cell_type": "code",
   "execution_count": null,
   "metadata": {
    "collapsed": false
   },
   "outputs": [],
   "source": [
    "def mutate_list(L):\n",
    "    pass\n",
    "\n",
    "L = [1, 2, 3, \"hallo\", \"4\", 3.3]\n",
    "mutate_list(L)\n",
    "assert L == [1, 2, 3, 3.3]"
   ]
  },
  {
   "cell_type": "markdown",
   "metadata": {},
   "source": [
    "## d)\n",
    "Schreiben Sie eine weitere Funktion, die das gleiche tut wie in c). Die ursprüngliche Liste soll dabei nicht verändert werden, die veränderte Liste soll zurückgegeben werden."
   ]
  },
  {
   "cell_type": "code",
   "execution_count": null,
   "metadata": {
    "collapsed": false
   },
   "outputs": [],
   "source": [
    "def return_list(L):\n",
    "    pass\n",
    "\n",
    "L = [1, 2, 3, \"hallo\", \"4\", 3.3]\n",
    "assert return_list(L)== [1, 2, 3, 3.3]\n",
    "assert L == [1, 2, 3, \"hallo\", \"4\", 3.3]"
   ]
  },
  {
   "cell_type": "markdown",
   "metadata": {},
   "source": [
    "# Aufgabe 3\n",
    "## a)\n",
    "Schauen Sie sich das folgende Code-Fragment an. Von der Liste `L` sollen alle Werte in die Konsole ausgeben werden, *zwischen* den Werten sollen jeweils 3 Bindestriche (`-`) stehen.  \n",
    "Welcher Fehler wird gemacht? Korrigieren Sie den Fehler."
   ]
  },
  {
   "cell_type": "code",
   "execution_count": null,
   "metadata": {
    "collapsed": false
   },
   "outputs": [],
   "source": [
    "L = list(range(5))\n",
    "for e in L:\n",
    "    print(e, end='---')"
   ]
  },
  {
   "cell_type": "markdown",
   "metadata": {},
   "source": [
    "## b)\n",
    "Schauen Sie sich das folgende Code-Fragment an. An die Liste `M` sollen alle geraden Werte halbiert angehangen werden.\n",
    "Welcher Fehler wird gemacht? Korrigieren Sie den Fehler."
   ]
  },
  {
   "cell_type": "code",
   "execution_count": null,
   "metadata": {
    "collapsed": false
   },
   "outputs": [],
   "source": [
    "M = [1, 3, 4, 6, 2, 32]\n",
    "\n",
    "for e in M:\n",
    "    if e % 2 == 0:\n",
    "        M += [e // 2]\n",
    "         \n",
    "print(M)\n",
    "assert M == [1, 3, 4, 6, 2, 32, 2, 3, 1, 16]"
   ]
  },
  {
   "cell_type": "markdown",
   "metadata": {},
   "source": [
    "# Aufgabe 4\n",
    "Schreiben Sie eine Funktion, die für eine übergebene Liste die verschiedenen Elemente und deren Anzahl ausgibt.  Die Ausgabe soll ein ```dict``` mit Wert:Anzahl einträgen sein. \n",
    "\n",
    "## a) \n",
    "\n",
    "Verwenden Sie dabei ein ```dict``` als Datenstruktur und eine ```for```-Schleife über die Elemente ."
   ]
  },
  {
   "cell_type": "code",
   "execution_count": null,
   "metadata": {
    "collapsed": true
   },
   "outputs": [],
   "source": [
    "def countElements(L):\\n\n",
    "    # Ihre Lösung?\n",
    "    pass\n",
    "\n",
    "L = [1, 2, 3, 4, 1, 2, 3, 1, 2]\n",
    "r = countElements(L)\n",
    "assert r == {1: 3, 2: 3, 3: 2, 4: 1}"
   ]
  },
  {
   "cell_type": "markdown",
   "metadata": {},
   "source": [
    "# Aufgabe 5\n",
    "## a)\n",
    "Schreiben Sie einen Funktion, die testet, ob eine Zahl prim ist. "
   ]
  },
  {
   "cell_type": "code",
   "execution_count": null,
   "metadata": {
    "collapsed": true
   },
   "outputs": [],
   "source": []
  },
  {
   "cell_type": "markdown",
   "metadata": {},
   "source": [
    "## b) \n",
    "Verbessern Sie Ihre Funktion aus a) indem Sie initial mit dem Sieb des Erastosthenes alle Primzahlen bis 100000 bestimmen und als `set` speichern. "
   ]
  },
  {
   "cell_type": "code",
   "execution_count": null,
   "metadata": {
    "collapsed": true
   },
   "outputs": [],
   "source": []
  },
  {
   "cell_type": "markdown",
   "metadata": {},
   "source": [
    "## c)\n",
    "Schreiben Sie eine Funktion, die den größten Prim-Faktor einer übergebenen Zahl bestimmt."
   ]
  },
  {
   "cell_type": "code",
   "execution_count": null,
   "metadata": {
    "collapsed": true
   },
   "outputs": [],
   "source": []
  },
  {
   "cell_type": "markdown",
   "metadata": {},
   "source": [
    "# Zusatzaufgabe \n",
    "\n",
    "Zusatzaufgabe: falls die Aufgaben oben zu leicht für Sie waren. \n",
    "\n",
    "Machen Sie Ihre Funktionen aus Aufgabe 5 effizienter, sodass Sie den größten Primfaktor von 600851475143 berechnen können. (die Berechnung sollte nur wenige Sekunden dauern)  \n",
    "Auf https://projecteuler.net/problem=3 können Sie Ihr Ergebnis auf Richtigkeit testen, nachdem Sie sich registriert haben.\n",
    "\n",
    "Anmerkung des Autors von PÜ06:  \n",
    "Mit dem Lösen der Probleme von Projekt Euler habe ich mir Python beigebracht"
   ]
  },
  {
   "cell_type": "code",
   "execution_count": null,
   "metadata": {
    "collapsed": true
   },
   "outputs": [],
   "source": []
  }
 ],
 "metadata": {
  "anaconda-cloud": {},
  "kernelspec": {
   "display_name": "Python 3",
   "language": "python",
   "name": "python3"
  },
  "language_info": {
   "codemirror_mode": {
    "name": "ipython",
    "version": 3
   },
   "file_extension": ".py",
   "mimetype": "text/x-python",
   "name": "python",
   "nbconvert_exporter": "python",
   "pygments_lexer": "ipython3",
   "version": "3.5.1"
  }
 },
 "nbformat": 4,
 "nbformat_minor": 1
}
