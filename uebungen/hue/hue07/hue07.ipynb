{
 "cells": [
  {
   "cell_type": "markdown",
   "metadata": {
    "nbgrader": {
     "grade": true,
     "grade_id": "matrikel",
     "locked": false,
     "solution": true
    }
   },
   "source": [
    "Bitte hier eintragen (s.u)!"
   ]
  },
  {
   "cell_type": "markdown",
   "metadata": {
    "nbgrader": {
     "grade": false,
     "grade_id": "matrikel_info",
     "locked": true,
     "solution": false
    }
   },
   "source": [
    "# Abgabehinweise \n",
    "\n",
    "Beachten Sie unbedingt diese Hinweise, sonst erhalten Sie keine Punkte aus dieser Abgabe! Für Details siehe z.B. [Folien der nullten Zentralübung](http://groups.uni-paderborn.de/fg-karl/lehre/ws1617/gp1/hue/gp1-zue0.pdf)\n",
    "\n",
    "## Namen und Matrikelnummern \n",
    "\n",
    "Tragen Sie Ihre Matrikelnummern und E-Mail-Adressen *zeilenweise* in die Zelle *oberhalb* dieser Zelle ein.\n",
    "Achten Sie dabei streng auf die Formatierung, denn die Auswertung erfolgt automatisch. \n",
    "Benutzen Sie *keine* Leerzeilen.\n",
    "Zwischen Matrikelnummer und E-Mail-Adresse *muss genau ein* Leerzeichen stehen; sonst keine Leerzeichen, Tabs, Spiegelstriche, oder ähnliches in einer Zeile. Wir empfehlen *dringend* die Benutzung der Uni-Paderborn E-Mail-Adressen! \n",
    "\n",
    "Format:\n",
    "\n",
    "MatrikelNummer E-Mail-Adresse\n",
    "\n",
    "z.B.:\n",
    "\n",
    "123456 testStudent@mail.upb.de\n",
    "\n",
    "## Abgabe mit Gruppenaccount \n",
    "\n",
    "Die Abgabe muss mit Ihrem *Gruppenaccount* erfolgen (gp1\\_16\\_...), den Sie in der Präsenzübung erhalten haben! Abgaben, die über Ihren Einzelaccount erfolgen, werden ignoriert. \n",
    "\n",
    "## Abgabe: Submit \n",
    "\n",
    "Es reicht nicht, nur das Übungsblatt zu verändern. Sie müssen unter *Assignments* auf *Submit* clicken (oder entsprechend über die Kommandozeile). Für Details siehe Beschreibung Abgabeprozess. \n",
    "\n",
    "## Dateinamen\n",
    "\n",
    "Geben Sie Ihre Lösung in der vom Server erhaltenen Datei hue07.ipynb ab (nicht umbenennen, keine Kopie erstellen!). Sonst kann eine Bewertung nicht stattfinden.\n",
    "\n",
    "## Struktur des Notebooks \n",
    "\n",
    "Fügen Sie keine Zellen hinzu und löschen Sie keine Zellen.\n",
    "Ändern Sie nicht den Typ einer Zelle.\n",
    "Geben Sie Lösungen nur in den Lösungszellen ab. Änderungen in den anderen Zellen werden nach Abgabe automatisch rückgängig gemacht.\n",
    "\n",
    "## Code-Zellen \n",
    "\n",
    "Entfernen Sie  die Zeilen mit Inhalt \"raise NotImplementedError()\" aus den Zellen, in die Sie Ihre Lösungen schreiben. *Ersetzen* Sie diese Zeilen durch Ihre eigenen Lösungen. \n",
    "\n",
    "## Kommentare (1 Punkt!)\n",
    "\n",
    "Kommentieren Sie Code-Abgaben! Insbesondere muss jede Funktion (Klasse, Methode, ...) einen ```docstring``` haben! Das Vorhandensein von ```docstrings``` auf allen Code-Abgaben wird mit einem Punkt gewertet!\n",
    "\n",
    "\n",
    "# Abgabetermin: 18.12.2016 um 23:59 Uhr\n",
    "\n"
   ]
  },
  {
   "cell_type": "markdown",
   "metadata": {
    "nbgrader": {
     "grade": false,
     "grade_id": "string_desc_1",
     "locked": true,
     "solution": false
    }
   },
   "source": [
    "# Aufgabe 1: String-API (3 Punkte)\n",
    "Diese Aufgabe lässt sich eventuell einfacher mithilfe der Python-Dokumentation lösen:\n",
    "https://docs.python.org/3/library/stdtypes.html.\n",
    "\n",
    "### a) \n",
    "Schreiben Sie eine Funktion `s_verbinder(l,z)`, welches eine Liste mit Strings `l` zu einem einzigen String verbindet, wobei zwischen die einzelnen Listenelemente jeweils das Zeichen `z` eingefügt werden soll."
   ]
  },
  {
   "cell_type": "code",
   "execution_count": 26,
   "metadata": {
    "collapsed": false,
    "nbgrader": {
     "grade": false,
     "grade_id": "string_sol_1",
     "locked": false,
     "solution": true
    }
   },
   "outputs": [],
   "source": [
    "def s_verbinder(l,z):\n",
    "    # Your Code here\n",
    "    ### BEGIN SOLUTION\n",
    "    \"\"\"Methode, welche eine Liste mit Strings zu einem einzigen STring verbindet.\"\"\"\n",
    "    return z.join(l)\n",
    "    ### END SOLUTION"
   ]
  },
  {
   "cell_type": "code",
   "execution_count": 2,
   "metadata": {
    "collapsed": false,
    "nbgrader": {
     "grade": true,
     "grade_id": "string_test_1",
     "locked": true,
     "points": 1,
     "solution": false
    }
   },
   "outputs": [],
   "source": [
    "assert(s_verbinder(['1','2','3','4'], '-') == '1-2-3-4')\n",
    "### HIDESTART\n",
    "assert(s_verbinder(['a','b','c','d'], '-') == 'a-b-c-d')\n",
    "### HIDEEND"
   ]
  },
  {
   "cell_type": "markdown",
   "metadata": {
    "nbgrader": {
     "grade": false,
     "grade_id": "string_desc_2",
     "locked": true,
     "solution": false
    }
   },
   "source": [
    "### b) \n",
    "Schreiben Sie eine Funktion `s_suche(s1,s2)`, welche den niedrigsten Index ausgibt, an welcher der String `s2` in `s1` auftaucht."
   ]
  },
  {
   "cell_type": "code",
   "execution_count": 28,
   "metadata": {
    "collapsed": false,
    "nbgrader": {
     "grade": false,
     "grade_id": "string_sol_2",
     "locked": false,
     "solution": true
    }
   },
   "outputs": [],
   "source": [
    "def s_suche(s1,s2):\n",
    "    # Your Code here\n",
    "    ### BEGIN SOLUTION\n",
    "    \"\"\"Methode, welche den Niedrigsten Index ausgibt, an welchem der String s2 in s1 auftaucht.\"\"\"\n",
    "    return s1.find(s2)\n",
    "    ### END SOLUTION"
   ]
  },
  {
   "cell_type": "code",
   "execution_count": 29,
   "metadata": {
    "collapsed": false,
    "nbgrader": {
     "grade": true,
     "grade_id": "string_test_2",
     "locked": true,
     "points": 1,
     "solution": false
    }
   },
   "outputs": [],
   "source": [
    "assert(s_suche('Grundlagen der Programmierung', 'der') == 11)\n",
    "assert(s_suche('Grundlagen der Programmierung', 'P') == 15)\n",
    "### HIDESTART\n",
    "assert(s_suche('Test', 'T') == 0)\n",
    "assert(s_suche('Test', 'e') == 1)\n",
    "assert(s_suche('Test', 's') == 2)\n",
    "assert(s_suche('Test', 't') == 3)\n",
    "assert(s_suche('Test', 'es') == 1)\n",
    "assert(s_suche('TestT', 'T') == 0)\n",
    "### HIDEEND"
   ]
  },
  {
   "cell_type": "markdown",
   "metadata": {
    "nbgrader": {
     "grade": false,
     "grade_id": "string_desc_3",
     "locked": true,
     "solution": false
    }
   },
   "source": [
    "### c) \n",
    "Schreiben Sie eine Funktion `s_klein(s)`, welche alle Großbuchstaben im string `s` durch entsprechende Kleinbuchstaben ersetzt."
   ]
  },
  {
   "cell_type": "code",
   "execution_count": 30,
   "metadata": {
    "collapsed": false,
    "nbgrader": {
     "grade": false,
     "grade_id": "string_sol_3",
     "locked": false,
     "solution": true
    }
   },
   "outputs": [],
   "source": [
    "def s_klein(s):\n",
    "    # Your Code here\n",
    "    ### BEGIN SOLUTION\n",
    "    \"\"\"Methode, welche alle Großbuchstaben des übergebenen Strings durch entsprechende Kleinbuchstaben ersetzt.\"\"\"\n",
    "    return s.lower()\n",
    "    ### END SOLUTION"
   ]
  },
  {
   "cell_type": "code",
   "execution_count": 6,
   "metadata": {
    "collapsed": false,
    "nbgrader": {
     "grade": true,
     "grade_id": "string_test_3",
     "locked": true,
     "points": 1,
     "solution": false
    }
   },
   "outputs": [],
   "source": [
    "assert(s_klein('Hallo Welt!') == 'hallo welt!')\n",
    "### HIDESTART\n",
    "assert(s_klein('Dies ist ein geHEimer Satz.') == 'dies ist ein geheimer satz.')\n",
    "### HIDEEND"
   ]
  },
  {
   "cell_type": "markdown",
   "metadata": {
    "nbgrader": {
     "grade": false,
     "grade_id": "vector_desc",
     "locked": true,
     "solution": false
    }
   },
   "source": [
    "# Aufgabe 2: Vektorklasse (5 Punkte)\n",
    "In dieser Aufgabe sollen Sie eine Klasse ```Vektor``` implementieren.\n",
    "Ein Vektor $v$ besteht aus $n$ einzelnen Zahlen, also $v = (v_0,\\ldots,v_{n-1})$.\n",
    "Das $n$ kann hier eine beliebige Zahl aus den natürlichen Zahlen $\\mathbb N = \\{1,2,3,\\ldots\\}$ sein.\n",
    "Die Klasse ```Vektor``` soll für ein Objekt $v = (v_0,\\ldots,v_{n-1})$ die folgenden Methoden bereitstellen:\n",
    "- ```index(i)```: Liefert die Zahl an der $i$-ten Stelle des Vektors, d.h. für $v = (v_0,\\ldots,v_{n-1})$ wird $v_i$ zurückgegeben.\n",
    "- ```add(a)```: Addiert den Vektor $v = (v_0,\\ldots,v_{n-1})$ mit dem übergebenen Vektor $a = (a_0,\\ldots,a_{n-1})$ und liefert das Ergebnis als neuen Vektor $e = (v_0+a_0,\\ldots,v_{n-1}+a_{n-1})$ zurück.\n",
    "- ```substract(a)```: Subtrahiert den Vektor $a = (a_0,\\ldots,a_{n-1})$ von dem Vektor $v = (v_0,\\ldots,v_{n-1})$ und liefert das Ergebnis als neuen Vektor $s = (v_0-a_0,\\ldots,v_{n-1}-a_{n-1})$ zurück.\n",
    "- ```dot(w)```: Berechnet das Vektorprodukt für den Vektor $v = (v_0,\\ldots,v_{n-1})$ und dem übergebenen Vektor $w = (w_0,\\ldots,w_{n-1})$ und liefert das Ergebnis ($\\sum_{i=0}^{n-1} v_i\\cdot w_i$) zurück.\n",
    "- ```norm()```: Berechnet die Norm ($\\sqrt[]{\\sum_{i=0}^{n-1} v_i^2}$) des Vektors $v = (v_0,\\ldots,v_{n-1})$ und liefert diese zurück.\n",
    "\n",
    "Für die Methoden ```add```, ```substract``` und ```dot``` können Sie davon ausgehen, dass beide Vektoren immer dieselbe Länge haben."
   ]
  },
  {
   "cell_type": "code",
   "execution_count": 38,
   "metadata": {
    "collapsed": true,
    "nbgrader": {
     "grade": false,
     "grade_id": "vector_sol",
     "locked": false,
     "solution": true
    }
   },
   "outputs": [],
   "source": [
    "### BEGIN SOLUTION\n",
    "class Vector(object):\n",
    "    \"\"\"Die Klasse Vektor realisiert einen mathematischen Vektor, auf welchem Vektoroperationen ausgeführt werden können.\"\"\"\n",
    "    def __init__(self, vec):\n",
    "        self.vec = vec\n",
    "\n",
    "    def add(self, v):\n",
    "        erg = [0]*self.length()\n",
    "        for i in range(0, v.length()):\n",
    "            erg[i] = self.vec[i] + v.index(i)\n",
    "        return Vector(erg)\n",
    "    \n",
    "    def subtract(self, v):\n",
    "        erg = [0]*self.length()\n",
    "        for i in range(0, v.length()):\n",
    "            erg[i] = self.vec[i] - v.index(i)\n",
    "        return Vector(erg)\n",
    "    \n",
    "    def dot(self, v):\n",
    "        erg = 0\n",
    "        for i in range(0, v.length()):\n",
    "            erg = erg + self.vec[i] * v.index(i)\n",
    "        return erg\n",
    "    \n",
    "    def norm(self):\n",
    "        \"\"\"norm-Methode der Klasse Vektor\"\"\"\n",
    "        erg = 0\n",
    "        for i in range(0, len(self.vec)):\n",
    "            erg = erg + self.vec[i] ** 2\n",
    "        erg = erg ** 0.5\n",
    "        return erg\n",
    "\n",
    "    def length(self):\n",
    "        return len(self.vec)\n",
    "    \n",
    "    def index(self, i):\n",
    "        return self.vec[i]\n",
    "### END SOLUTION"
   ]
  },
  {
   "cell_type": "code",
   "execution_count": 8,
   "metadata": {
    "collapsed": false,
    "nbgrader": {
     "grade": true,
     "grade_id": "vector_test_0",
     "locked": true,
     "points": 1,
     "solution": false
    }
   },
   "outputs": [],
   "source": [
    "a = Vector([4, 3, 7])\n",
    "assert(a.index(0) == 4)\n",
    "assert(a.index(1) == 3)\n",
    "assert(a.index(2) == 7)\n",
    "\n",
    "### HIDESTART\n",
    "for n in range(2,10):\n",
    "    a = Vector(range(1,n+1))\n",
    "    for i in range(0,n):\n",
    "        assert(a.index(i) == i+1)\n",
    "### HIDEEND"
   ]
  },
  {
   "cell_type": "code",
   "execution_count": 9,
   "metadata": {
    "collapsed": true,
    "nbgrader": {
     "grade": true,
     "grade_id": "vector_test_1",
     "locked": true,
     "points": 1,
     "solution": false
    }
   },
   "outputs": [],
   "source": [
    "a = Vector([1, 2, 3])\n",
    "b = Vector([3, 4, 5])\n",
    "\n",
    "e = a.add(b)\n",
    "assert(e.index(0) == 4)\n",
    "assert(e.index(1) == 6)\n",
    "assert(e.index(2) == 8)\n",
    "\n",
    "### HIDESTART\n",
    "for n in range(2,10):\n",
    "    a = Vector(range(1,n+1))\n",
    "    b = Vector(range(0,n))\n",
    "\n",
    "    e = a.add(b)\n",
    "\n",
    "    for i in range(0,n):\n",
    "        assert(e.index(i) == (a.index(i) + b.index(i)))\n",
    "### HIDEEND"
   ]
  },
  {
   "cell_type": "code",
   "execution_count": 10,
   "metadata": {
    "collapsed": true,
    "nbgrader": {
     "grade": true,
     "grade_id": "vector_test_2",
     "locked": true,
     "points": 1,
     "solution": false
    }
   },
   "outputs": [],
   "source": [
    "a = Vector([1, 2, 3])\n",
    "b = Vector([3, 4, 5])\n",
    "s = a.subtract(b)\n",
    "assert(s.index(0) == -2)\n",
    "assert(s.index(1) == -2)\n",
    "assert(s.index(2) == -2)\n",
    "### HIDESTART\n",
    "for n in range(2,10):\n",
    "    a = Vector(range(1,n+1))\n",
    "    b = Vector(range(0,n))\n",
    "\n",
    "    s = a.subtract(b)\n",
    "\n",
    "    for i in range(0,n):\n",
    "        assert(s.index(i) == (a.index(i) - b.index(i)))\n",
    "### HIDEEND"
   ]
  },
  {
   "cell_type": "code",
   "execution_count": 11,
   "metadata": {
    "collapsed": true,
    "nbgrader": {
     "grade": true,
     "grade_id": "vector_test_3",
     "locked": true,
     "points": 1,
     "solution": false
    }
   },
   "outputs": [],
   "source": [
    "a = Vector([1, 2, 3])\n",
    "b = Vector([3, 4, 5])\n",
    "dot = a.dot(b)\n",
    "assert(dot == 26)\n",
    "### HIDESTART\n",
    "for n in range(2,10):\n",
    "    a = Vector(range(1,n+1))\n",
    "    b = Vector(range(0,n))\n",
    "    dot = 0\n",
    "    for i in range(0,n):\n",
    "        dot = dot + a.index(i) * b.index(i)\n",
    "    assert(a.dot(b) == dot)\n",
    "### HIDEEND"
   ]
  },
  {
   "cell_type": "code",
   "execution_count": 12,
   "metadata": {
    "collapsed": false,
    "nbgrader": {
     "grade": true,
     "grade_id": "vector_test_4",
     "locked": true,
     "points": 1,
     "solution": false
    }
   },
   "outputs": [],
   "source": [
    "a = Vector([1, 2, 3])\n",
    "norm = a.norm()\n",
    "assert(norm == (14**0.5))\n",
    "### HIDESTART\n",
    "for n in range(2,10):\n",
    "    a = Vector(range(1,n+1))\n",
    "    norm = 0\n",
    "    for i in range(0, n):\n",
    "        norm = norm + a.index(i) ** 2\n",
    "    norm = norm ** 0.5\n",
    "    assert(a.norm() == norm)    \n",
    "### HIDEEND"
   ]
  },
  {
   "cell_type": "markdown",
   "metadata": {
    "nbgrader": {
     "grade": false,
     "grade_id": "patient_desc_1",
     "locked": true,
     "solution": false
    }
   },
   "source": [
    "# Aufgabe 3: Objektorientierung (5 Punkte)\n",
    "\n",
    "Betrachten Sie für diese Aufgabe die gegebene Klasse `Patient`."
   ]
  },
  {
   "cell_type": "code",
   "execution_count": 13,
   "metadata": {
    "collapsed": false,
    "nbgrader": {
     "grade": false,
     "grade_id": "patient_desc_2",
     "locked": true,
     "solution": false
    }
   },
   "outputs": [],
   "source": [
    "class Patient():\n",
    "    anz_patienten = 0\n",
    "    \n",
    "    def __init__(self, name, alter, privat_patient):\n",
    "        self.name = name\n",
    "        self.alter = alter\n",
    "        self.privat_patient = privat_patient\n",
    "        \n",
    "    def get_name(self):\n",
    "        return self.name\n",
    "    \n",
    "    def get_alter(s):\n",
    "        return s.alter\n",
    "    \n",
    "    def is_privat_patient(self):\n",
    "        return self.privat_patient\n",
    "    \n",
    "    def __eq__(self, p):\n",
    "        return self.name == p.name and self.alter == p.alter"
   ]
  },
  {
   "cell_type": "markdown",
   "metadata": {
    "nbgrader": {
     "grade": false,
     "grade_id": "patient_desc_3",
     "locked": true,
     "solution": false
    }
   },
   "source": [
    "### a)\n",
    "Erläutern Sie zunächst den Unterschied der Operationen '==' und 'is'. \n",
    "Weisen Sie dann den beiden gegebenen Variablen `p1` und `p2` Objekte der Klasse `Patient` zu, sodass `p1 == p2` gilt, jedoch nicht `p1 is p2`."
   ]
  },
  {
   "cell_type": "markdown",
   "metadata": {
    "nbgrader": {
     "grade": true,
     "grade_id": "patient_sol_1_1",
     "locked": false,
     "points": 1,
     "solution": true
    }
   },
   "source": [
    "Der Operator `==` führt die Methode `__eq__` des Objektes aus, welches auf der linken Seite des Operators steht.\n",
    "Der Operator `is` hingegen überprüft, ob die referenzierten Objekte auf beiden Seiten dieselben sind."
   ]
  },
  {
   "cell_type": "code",
   "execution_count": 14,
   "metadata": {
    "collapsed": false,
    "nbgrader": {
     "grade": false,
     "grade_id": "patient_sol_1_2",
     "locked": false,
     "solution": true
    }
   },
   "outputs": [],
   "source": [
    "p1 = None # None durch entsprechende Belegung ersetzen!\n",
    "p2 = None # None durch entsprechende Belegung ersetzen!\n",
    "### BEGIN SOLUTION\n",
    "p1 = Patient(\"Max Meier\", 26, False)\n",
    "p2 = Patient (\"Max Meier\", 26, False)\n",
    "### END SOLUTION"
   ]
  },
  {
   "cell_type": "code",
   "execution_count": 15,
   "metadata": {
    "collapsed": false,
    "nbgrader": {
     "grade": true,
     "grade_id": "patient_test_1",
     "locked": true,
     "points": 1,
     "solution": false
    }
   },
   "outputs": [],
   "source": [
    "assert(isinstance(p1, Patient))\n",
    "assert(isinstance(p2, Patient))\n",
    "assert(p1 == p2)\n",
    "assert(not p2 is p1)"
   ]
  },
  {
   "cell_type": "markdown",
   "metadata": {
    "nbgrader": {
     "grade": false,
     "grade_id": "patient_desc_4",
     "locked": true,
     "solution": false
    }
   },
   "source": [
    "### b)\n",
    "Wie Sie sehen, verfügt die Klasse `Patient` auch über eine Klassenvariable `anz_patienten`.\n",
    "Der Wert dieser Variablen soll nun immer um 1 erhöht werden, wenn ein neuer Patient erstellt wurde, d.h. nach Ausführung des folgenden Programms sollte `anz_patienten` den Wert 2 haben:\n",
    "\n",
    "```Python\n",
    "p1 = Patient(\"Max Meier\", 26, False)\n",
    "p2 = Patient (\"Max Mustermann\", 12, False)\n",
    "```\n",
    "An welcher Stelle muss dies realisiert werden?\n",
    "Geben Sie auch den entsprechenden Befehl an, welcher dies realisiert?"
   ]
  },
  {
   "cell_type": "markdown",
   "metadata": {
    "nbgrader": {
     "grade": true,
     "grade_id": "patient_sol_2",
     "locked": false,
     "points": 1,
     "solution": true
    }
   },
   "source": [
    "Es muss im Konstruktor der Befehl \n",
    "``` Python\n",
    "Patient.anz_patienten += 1\n",
    "```\n",
    "ausgeführt werden."
   ]
  },
  {
   "cell_type": "markdown",
   "metadata": {
    "nbgrader": {
     "grade": false,
     "grade_id": "patient_desc_6",
     "locked": true,
     "solution": false
    }
   },
   "source": [
    "### c)\n",
    "Wie Sie sehen, heißt der erste Parameter der Methode `get_alter()` nicht `self`.\n",
    "Würde das folgende Programm einen Fehler erzeugen?\n",
    "Wenn ja, an welcher Stelle und warum, wenn nein, erklären Sie warum nicht?\n",
    "\n",
    "``` Python\n",
    "p1 = Patient(\"Max Meier\", 26, False)\n",
    "print(p1.get_alter())\n",
    "```"
   ]
  },
  {
   "cell_type": "markdown",
   "metadata": {
    "nbgrader": {
     "grade": true,
     "grade_id": "patient_sol_3",
     "locked": false,
     "points": 1,
     "solution": true
    }
   },
   "source": [
    "Das Programm funktioniert, da der Name für den ersten Parameter einer Objektmethode nur per Konvention `self` lautet."
   ]
  },
  {
   "cell_type": "markdown",
   "metadata": {
    "nbgrader": {
     "grade": false,
     "grade_id": "patient_desc_5",
     "locked": true,
     "solution": false
    }
   },
   "source": [
    "### d)\n",
    "Angenommen, die obige Klasse `Patient` würde über keinen Konstruktor verfügen.\n",
    "Würde das folgende Programm einen Fehler erzeugen?\n",
    "Wenn ja, an welcher Stelle und warum, wenn nein, erklären Sie warum nicht?\n",
    "``` Python\n",
    "p1 = Patient()\n",
    "print(p1.get_name())\n",
    "```"
   ]
  },
  {
   "cell_type": "markdown",
   "metadata": {
    "nbgrader": {
     "grade": true,
     "grade_id": "patient_sol_4",
     "locked": false,
     "points": 1,
     "solution": true
    }
   },
   "source": [
    "Zunächst einmal wird der fehlende Konstruktor von Python durch einen leere Standardkonstruktor ersetzt.\n",
    "Das Programm wirft einen Fehler wenn versucht wird die Methode p1.get_name() aufzurufen, da der Patient über keine Objektvariable `name` verfügt (diese wurde im Standardkonstruktor nicht definiert)."
   ]
  },
  {
   "cell_type": "markdown",
   "metadata": {
    "nbgrader": {
     "grade": false,
     "grade_id": "praxis_desc",
     "locked": true,
     "solution": false
    }
   },
   "source": [
    "# Aufgabe 3: Arztpraxis (6 Punkte)\n",
    "Sie können in dieser Aufgabe die Klasse `Patient` (siehe Beginn Aufgabe 3) verwenden!   \n",
    "Stellen Sie sich vor, Sie arbeiten in einer Arztpraxis und sollen ein System zur Verwaltung der Patienten im Wartezimmer implementieren.\n",
    "Das System soll Patienten, die in die Praxis kommen, entweder in das Büro des Arztes schicken (falls das Büro gerade frei ist) oder ins Wartezimmer bitten.\n",
    "Im Büro des Arztes darf sich maximal ein Patient gleichzeitig befinden (der Patient, der gerade vom Arzt behandelt wird).\n",
    "Sobald das Büro des Arztes wieder frei wird (d.h. die Behandlung abgeschlossen ist), kann nun ein Patient im Wartezimmer aufgerufen und in das Büro des Arztes gebeten werden.\n",
    "Für jeden Aufruf wird immer der Patient gewählt, der die längste Zeit im Wartezimmer verbracht hat."
   ]
  },
  {
   "cell_type": "markdown",
   "metadata": {
    "collapsed": true,
    "nbgrader": {
     "grade": false,
     "grade_id": "praxis_2_desc",
     "locked": true,
     "solution": false
    }
   },
   "source": [
    "### a)\n",
    "Implementieren Sie eine Klasse ```Arztpraxis```, welche die folgenden Methoden bereitstellt:\n",
    "- ```betretePraxis(p)```: Der gegebene Patient ```p``` betritt die Praxis: Falls sich momentan kein anderer Patient in Behandlung befindet, wird ```p``` direkt zum Arzt geschickt, ansonsten wird ```p``` in das Wartezimmer gebeten.\n",
    "- ```naechsterPatientZumArzt()```: Entfernt den Patienten aus dem Wartezimmer, welcher die längste Zeit dort verbracht hat, schickt diesen zum Arzt und gibt diesen zurück. Falls das Wartezimmer leer ist oder sich noch ein Patient in Behandlung befindet, werden keine Aktionen ausgeführt und lediglich ```None``` zurückgegeben.\n",
    "- ```beimArzt()```: Gibt den Patienten zurück, welcher sich gerade beim Arzt befindet. Falls sich kein Patient gerade beim Arzt befindet, wird ```None``` zurückgegeben.\n",
    "- ```behandlungAbgeschlossen()```: Der Patient, der sich aktuell in Behandlung befindet verlässt die Praxis, sodass das Zimmer des Arztes nun wieder leer ist."
   ]
  },
  {
   "cell_type": "code",
   "execution_count": 16,
   "metadata": {
    "collapsed": true,
    "nbgrader": {
     "grade": false,
     "grade_id": "praxis_2_sol",
     "locked": false,
     "solution": true
    }
   },
   "outputs": [],
   "source": [
    "### BEGIN SOLUTION\n",
    "class Arztpraxis:\n",
    "    \n",
    "    def __init__(self):\n",
    "        self.warteschlange = []\n",
    "        self.inBehandlung = None\n",
    "        \n",
    "    def betretePraxis(self, p):\n",
    "        # print(p.get_name(), 'hat die Praxis betreten.')\n",
    "        if self.inBehandlung is None and len(self.warteschlange) == 0: # Achtung: self.inBehandlung == None wäre hier falsch!\n",
    "            self.inBehandlung = p\n",
    "            # print(p.get_name(), 'ist nun in Behandlung.')\n",
    "        else:\n",
    "            self.warteschlange.append(p)\n",
    "    \n",
    "    def naechsterPatientZumArzt(self):\n",
    "        if not self.beimArzt() is None:\n",
    "            return None\n",
    "        if len(self.warteschlange) == 0:\n",
    "            return None\n",
    "        p = self.warteschlange.pop(0)\n",
    "        self.inBehandlung = p\n",
    "        # print(p.get_name(), 'ist nun in Behandlung.')\n",
    "        return p\n",
    "    \n",
    "    def beimArzt(self):\n",
    "        return self.inBehandlung\n",
    "    \n",
    "    def behandlungAbgeschlossen(self):\n",
    "        # print(self.inBehandlung.get_name(), 'hat die Praxis verlassen.')\n",
    "        self.inBehandlung = None\n",
    "    \n",
    "### END SOLUTION    "
   ]
  },
  {
   "cell_type": "code",
   "execution_count": 44,
   "metadata": {
    "collapsed": false,
    "nbgrader": {
     "grade": true,
     "grade_id": "praxis_2_test",
     "locked": true,
     "points": 1,
     "solution": false
    }
   },
   "outputs": [],
   "source": [
    "# Disclaimer: Die folgende Anwendung spiegelt nicht die gesamte Funktionalität der Arztpraxis wieder. \n",
    "# Beachten Sie daher genau die in der Aufgabenstellung beschriebenen Funktionsweisen der Methoden.\n",
    "\n",
    "praxis = Arztpraxis()\n",
    "p1 = Patient(\"Max Meier\", 26, False)\n",
    "p2 = Patient(\"Max Mustermann\", 13, False)\n",
    "p3 = Patient(\"Michaela Musterfrau\", 20, False)\n",
    "praxis.betretePraxis(p2)\n",
    "praxis.betretePraxis(p1)\n",
    "praxis.betretePraxis(p3)\n",
    "\n",
    "assert(praxis.beimArzt() == p2)\n",
    "\n",
    "praxis.behandlungAbgeschlossen()\n",
    "\n",
    "assert(praxis.beimArzt() == None)\n",
    "\n",
    "praxis.naechsterPatientZumArzt()\n",
    "\n",
    "assert(praxis.beimArzt() == p1)"
   ]
  },
  {
   "cell_type": "code",
   "execution_count": null,
   "metadata": {
    "collapsed": false,
    "nbgrader": {
     "grade": true,
     "grade_id": "praxis_2_test_hidden",
     "locked": true,
     "points": 2,
     "solution": false
    }
   },
   "outputs": [],
   "source": [
    "### HIDESTART\n",
    "praxis = Arztpraxis()\n",
    "p1 = Patient(\"Max Meier\", 26, False)\n",
    "p2 = Patient(\"Max Mustermann\", 13, False)\n",
    "p3 = Patient(\"Michaela Musterfrau\", 20, False)\n",
    "p4 = Patient(\"Michael F\", 87, False)\n",
    "praxis.betretePraxis(p2)\n",
    "praxis.betretePraxis(p1)\n",
    "praxis.betretePraxis(p3)\n",
    "\n",
    "assert(praxis.beimArzt() == p2)\n",
    "\n",
    "praxis.behandlungAbgeschlossen()\n",
    "praxis.betretePraxis(p4)\n",
    "\n",
    "assert(praxis.beimArzt() == None)\n",
    "\n",
    "praxis.naechsterPatientZumArzt()\n",
    "assert(praxis.beimArzt() == p1)\n",
    "\n",
    "praxis.behandlungAbgeschlossen()\n",
    "praxis.naechsterPatientZumArzt()\n",
    "assert(praxis.beimArzt() == p3)\n",
    "\n",
    "praxis.behandlungAbgeschlossen()\n",
    "praxis.naechsterPatientZumArzt()\n",
    "assert(praxis.beimArzt() == p4)\n",
    "\n",
    "praxis.behandlungAbgeschlossen()\n",
    "praxis.naechsterPatientZumArzt()\n",
    "assert(praxis.beimArzt() == None)\n",
    "### HIDEEND"
   ]
  },
  {
   "cell_type": "markdown",
   "metadata": {
    "nbgrader": {
     "grade": false,
     "grade_id": "praxis_3_desc_1",
     "locked": true,
     "solution": false
    }
   },
   "source": [
    "Unsere Arztpraxis soll nun zwischen Kassen- und Privatpatienten unterscheiden. Privatpatienten werden von der Praxis bevorzugt behandelt, d.h. für die Auswahl des als nächstes zu behandelden Patienten wird immer erst geprüft, ob sich ein Privatpatient im Wartezimmer befindet.\n",
    "Ist dies der Fall so wird dieser den Kassenpatienten vorgezogen, unabhängig von der Zeit, die er im Wartezimmer verbracht hat.\n",
    "Falls sich mehrere Privatpatienten im Wartezimmer befinden, so wird der sich am längsten im Wartezimmer befindliche Privatpatient als nächstes aufgerufen."
   ]
  },
  {
   "cell_type": "markdown",
   "metadata": {
    "nbgrader": {
     "grade": false,
     "grade_id": "praxis_4_desc",
     "locked": true,
     "solution": false
    }
   },
   "source": [
    "d) Erweitern Sie nun Ihre Klasse ```Arztpraxis``` aus Aufgabenteil b) zu einer Klasse ```ArztpraxisUnfair```, sodass diese nun Privatpatienten wie oben beschrieben bevorzugt behandelt."
   ]
  },
  {
   "cell_type": "code",
   "execution_count": null,
   "metadata": {
    "collapsed": false,
    "nbgrader": {
     "grade": false,
     "grade_id": "praxis_4_sol",
     "locked": false,
     "solution": true
    }
   },
   "outputs": [],
   "source": [
    "### BEGIN SOLUTION\n",
    "class Arztpraxis:\n",
    "\n",
    "    def __init__(self):\n",
    "        self.warteschlange = []\n",
    "        self.inBehandlung = None\n",
    "        self.privatSchlange = []\n",
    "        \n",
    "    def betretePraxis(self, p):\n",
    "        # print(p.getName(), 'hat die Praxis betreten.')\n",
    "        if self.inBehandlung is None and len(self.warteschlange) == 0 and len(self.privatSchlange) == 0:\n",
    "            # print(p.getName(), 'ist nun in Behandlung.')\n",
    "            self.inBehandlung = p\n",
    "        elif p.is_privat_patient():\n",
    "            self.privatSchlange.append(p)\n",
    "        else:\n",
    "            self.warteschlange.append(p)\n",
    "    \n",
    "    def naechsterPatientZumArzt(self):\n",
    "        if self.beimArzt() != None:\n",
    "            return None\n",
    "        if len(self.privatSchlange) == 0 and len(self.warteschlange) == 0:\n",
    "            return None\n",
    "        \n",
    "        if len(self.privatSchlange) > 0:\n",
    "            p = self.privatSchlange.pop(0)\n",
    "        else:\n",
    "            p = self.warteschlange.pop(0)\n",
    "        self.inBehandlung = p\n",
    "        # print(p.getName(), 'ist nun in Behandlung.')\n",
    "        return p\n",
    "    \n",
    "    def beimArzt(self):\n",
    "        return self.inBehandlung\n",
    "    \n",
    "    def behandlungAbgeschlossen(self):\n",
    "        # print(self.inBehandlung.get_name(), 'hat die Praxis verlassen.')\n",
    "        self.inBehandlung = None    \n",
    "### END SOLUTION"
   ]
  },
  {
   "cell_type": "code",
   "execution_count": null,
   "metadata": {
    "collapsed": false,
    "nbgrader": {
     "grade": true,
     "grade_id": "praxis_4_test",
     "locked": true,
     "points": 2,
     "solution": false
    }
   },
   "outputs": [],
   "source": [
    "praxis = Arztpraxis()\n",
    "p1 = Patient(\"Max Meier\", 26, False)\n",
    "p2 = Patient(\"Max Mustermann\", 13, False)\n",
    "p3 = Patient(\"Michaela Musterfrau\", 20, True)\n",
    "\n",
    "praxis.betretePraxis(p2)\n",
    "praxis.betretePraxis(p1)\n",
    "praxis.betretePraxis(p3)\n",
    "\n",
    "assert(praxis.beimArzt() == p2)\n",
    "praxis.behandlungAbgeschlossen()\n",
    "\n",
    "praxis.naechsterPatientZumArzt()\n",
    "assert(praxis.beimArzt() == p3)"
   ]
  },
  {
   "cell_type": "code",
   "execution_count": 21,
   "metadata": {
    "collapsed": false,
    "nbgrader": {
     "grade": true,
     "grade_id": "praxis_3_test_hidden",
     "locked": true,
     "points": 1,
     "solution": false
    }
   },
   "outputs": [],
   "source": [
    "### HIDESTART\n",
    "# Derselbe Test wie in Teil a, um zu sehen, ob die Arztpraxis noch ihre normalen Funktionen beibehalten hat.\n",
    "praxis = Arztpraxis()\n",
    "p1 = Patient(\"Max Meier\", 26, False)\n",
    "p2 = Patient(\"Max Mustermann\", 13, False)\n",
    "p3 = Patient(\"Michaela Musterfrau\", 20, False)\n",
    "p4 = Patient(\"Michael F\", 87, False)\n",
    "praxis.betretePraxis(p2)\n",
    "praxis.betretePraxis(p1)\n",
    "praxis.betretePraxis(p3)\n",
    "\n",
    "assert(praxis.beimArzt() == p2)\n",
    "\n",
    "praxis.behandlungAbgeschlossen()\n",
    "praxis.betretePraxis(p4)\n",
    "\n",
    "assert(praxis.beimArzt() == None)\n",
    "\n",
    "praxis.naechsterPatientZumArzt()\n",
    "assert(praxis.beimArzt() == p1)\n",
    "\n",
    "praxis.behandlungAbgeschlossen()\n",
    "praxis.naechsterPatientZumArzt()\n",
    "assert(praxis.beimArzt() == p3)\n",
    "\n",
    "praxis.behandlungAbgeschlossen()\n",
    "praxis.naechsterPatientZumArzt()\n",
    "assert(praxis.beimArzt() == p4)\n",
    "\n",
    "praxis.behandlungAbgeschlossen()\n",
    "praxis.naechsterPatientZumArzt()\n",
    "assert(praxis.beimArzt() == None)\n",
    "### HIDEEND"
   ]
  },
  {
   "cell_type": "code",
   "execution_count": 43,
   "metadata": {
    "collapsed": false,
    "nbgrader": {
     "grade": true,
     "grade_id": "docu_test",
     "locked": true,
     "points": 1,
     "solution": false
    }
   },
   "outputs": [],
   "source": [
    "### HIDESTART\n",
    "assert(s_verbinder.__doc__ != None)\n",
    "assert(s_suche.__doc__ != None)\n",
    "assert(s_klein.__doc__ != None)\n",
    "# TODO: Kann man testen, ob Klassen (z.B. die Klasse Vektor) bzw. Objektmethoden dokumentiert wurden?\n",
    "### HIDEEND"
   ]
  }
 ],
 "metadata": {
  "anaconda-cloud": {},
  "celltoolbar": "Create Assignment",
  "kernelspec": {
   "display_name": "Python [default]",
   "language": "python",
   "name": "python3"
  },
  "language_info": {
   "codemirror_mode": {
    "name": "ipython",
    "version": 3
   },
   "file_extension": ".py",
   "mimetype": "text/x-python",
   "name": "python",
   "nbconvert_exporter": "python",
   "pygments_lexer": "ipython3",
   "version": "3.5.2"
  }
 },
 "nbformat": 4,
 "nbformat_minor": 1
}
