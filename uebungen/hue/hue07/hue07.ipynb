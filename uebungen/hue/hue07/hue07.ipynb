{
 "cells": [
  {
   "cell_type": "markdown",
   "metadata": {
    "nbgrader": {
     "grade": true,
     "grade_id": "matrikel",
     "locked": false,
     "solution": true
    }
   },
   "source": [
    "Bitte hier eintragen (s.u)!"
   ]
  },
  {
   "cell_type": "markdown",
   "metadata": {
    "nbgrader": {
     "grade": false,
     "grade_id": "matrikel_info",
     "locked": true,
     "solution": false
    }
   },
   "source": [
    "# Abgabehinweise \n",
    "\n",
    "Beachten Sie unbedingt diese Hinweise, sonst erhalten Sie keine Punkte aus dieser Abgabe! Für Details siehe z.B. [Folien der nullten Zentralübung](http://groups.uni-paderborn.de/fg-karl/lehre/ws1617/gp1/hue/gp1-zue0.pdf)\n",
    "\n",
    "## Namen und Matrikelnummern \n",
    "\n",
    "Tragen Sie Ihre Matrikelnummern und E-Mail-Adressen *zeilenweise* in die Zelle **oberhalb** dieser Zelle ein.\n",
    "Achten Sie dabei streng auf die Formatierung, denn die Auswertung erfolgt automatisch. \n",
    "Benutzen Sie *keine* Leerzeilen.\n",
    "Zwischen Matrikelnummer und E-Mail-Adresse *muss genau ein* Leerzeichen stehen; sonst keine Leerzeichen, Tabs, Spiegelstriche, oder ähnliches in einer Zeile. Wir empfehlen *dringend* die Benutzung der Uni-Paderborn E-Mail-Adressen! \n",
    "\n",
    "Format:\n",
    "\n",
    "MatrikelNummer E-Mail-Adresse\n",
    "\n",
    "z.B.:\n",
    "\n",
    "123456 testStudent@mail.upb.de\n",
    "\n",
    "## Abgabe mit Gruppenaccount \n",
    "\n",
    "Die Abgabe muss mit Ihrem *Gruppenaccount* erfolgen (gp1\\_16\\_...), den Sie in der Präsenzübung erhalten haben! Abgaben, die über Ihren Einzelaccount erfolgen, werden ignoriert. \n",
    "\n",
    "## Abgabe: Submit \n",
    "\n",
    "Es reicht nicht, nur das Übungsblatt zu verändern. Sie müssen unter *Assignments* auf *Submit* clicken (oder entsprechend über die Kommandozeile). Für Details siehe Beschreibung Abgabeprozess. \n",
    "\n",
    "## Dateinamen\n",
    "\n",
    "Geben Sie Ihre Lösung in der vom Server erhaltenen Datei hue07.ipynb ab (nicht umbenennen, keine Kopie erstellen, keine anderen Dateien in das Verzeichnis legen!). Sonst kann eine Bewertung nicht stattfinden.\n",
    "\n",
    "## Struktur des Notebooks \n",
    "\n",
    "Fügen Sie keine Zellen hinzu und löschen Sie keine Zellen.\n",
    "Ändern Sie nicht den Typ einer Zelle.\n",
    "Geben Sie Lösungen nur in den Lösungszellen ab. Änderungen in den anderen Zellen werden nach Abgabe automatisch rückgängig gemacht.\n",
    "\n",
    "## Code-Zellen \n",
    "\n",
    "Entfernen Sie die Zeilen mit Inhalt \"raise NotImplementedError()\" aus den Zellen, in die Sie Ihre Lösungen schreiben. *Ersetzen* Sie diese Zeilen durch Ihre eigene Lösungen. \n",
    "\n",
    "## Nie ```input```\n",
    "\n",
    "Benutzen Sie *niemals* die Funktion `input()`. Das verhindert die automatische Auswertung Ihrer Abgabe und führt zu 0 Punkten für das gesamte Blatt! \n",
    "\n",
    "## Kommentare \n",
    "\n",
    "Kommentieren Sie Code-Abgaben! Insbesondere *muss* jede Funktion (Klasse, Methode, ...) einen ```docstring``` haben! Bei fehlendem docstring werden automatisch Punkte abgezogen! \n",
    "\n",
    "\n",
    "# Abgabetermin: 18.12.2016 um 23:59 Uhr"
   ]
  },
  {
   "cell_type": "markdown",
   "metadata": {
    "nbgrader": {
     "grade": false,
     "grade_id": "string_desc_1",
     "locked": true,
     "solution": false
    }
   },
   "source": [
    "# Aufgabe 1: String-API\n",
    "Diese Aufgabe lässt sich eventuell einfacher mithilfe der Python-Dokumentation lösen:\n",
    "https://docs.python.org/3/library/stdtypes.html.\n",
    "\n",
    "### a) \n",
    "Schreiben Sie eine Funktion `s_verbinder(l,z)`, welches eine Liste mit Strings `l` zu einem einzigen String verbindet, wobei zwischen die einzelnen Listenelemente jeweils das Zeichen `z` eingefügt werden soll."
   ]
  },
  {
   "cell_type": "code",
   "execution_count": null,
   "metadata": {
    "collapsed": false,
    "nbgrader": {
     "grade": false,
     "grade_id": "string_sol_1",
     "locked": false,
     "solution": true
    }
   },
   "outputs": [],
   "source": [
    "def s_verbinder(l,z):\n",
    "    # Your Code here\n",
    "    ### BEGIN SOLUTION\n",
    "    \"\"\"Methode, welche eine Liste mit Strings zu einem einzigen STring verbindet.\"\"\"\n",
    "    return z.join(l)\n",
    "    ### END SOLUTION"
   ]
  },
  {
   "cell_type": "code",
   "execution_count": null,
   "metadata": {
    "collapsed": false,
    "nbgrader": {
     "grade": true,
     "grade_id": "string_test_1",
     "locked": true,
     "points": 1,
     "solution": false
    }
   },
   "outputs": [],
   "source": [
    "assert(s_verbinder(['1','2','3','4'], '-') == '1-2-3-4')\n",
    "### HIDESTART\n",
    "assert(s_verbinder(['a','b','c','d'], '-') == 'a-b-c-d')\n",
    "### HIDEEND"
   ]
  },
  {
   "cell_type": "markdown",
   "metadata": {
    "nbgrader": {
     "grade": false,
     "grade_id": "string_desc_2",
     "locked": true,
     "solution": false
    }
   },
   "source": [
    "### b) \n",
    "Schreiben Sie eine Funktion `s_suche(s1,s2)`, welche den niedrigsten Index ausgibt, an welcher der String `s2` in `s1` auftaucht."
   ]
  },
  {
   "cell_type": "code",
   "execution_count": null,
   "metadata": {
    "collapsed": false,
    "nbgrader": {
     "grade": false,
     "grade_id": "string_sol_2",
     "locked": false,
     "solution": true
    }
   },
   "outputs": [],
   "source": [
    "def s_suche(s1,s2):\n",
    "    # Your Code here\n",
    "    ### BEGIN SOLUTION\n",
    "    \"\"\"Methode, welche den Niedrigsten Index ausgibt, an welchem der String s2 in s1 auftaucht.\"\"\"\n",
    "    return s1.find(s2)\n",
    "    ### END SOLUTION"
   ]
  },
  {
   "cell_type": "code",
   "execution_count": null,
   "metadata": {
    "collapsed": false,
    "nbgrader": {
     "grade": true,
     "grade_id": "string_test_2",
     "locked": true,
     "points": 1,
     "solution": false
    }
   },
   "outputs": [],
   "source": [
    "assert(s_suche('Grundlagen der Programmierung', 'der') == 11)\n",
    "assert(s_suche('Grundlagen der Programmierung', 'P') == 15)\n",
    "### HIDESTART\n",
    "assert(s_suche('Test', 'T') == 0)\n",
    "assert(s_suche('Test', 'e') == 1)\n",
    "assert(s_suche('Test', 's') == 2)\n",
    "assert(s_suche('Test', 't') == 3)\n",
    "assert(s_suche('Test', 'es') == 1)\n",
    "assert(s_suche('TestT', 'T') == 0)\n",
    "### HIDEEND"
   ]
  },
  {
   "cell_type": "markdown",
   "metadata": {
    "nbgrader": {
     "grade": false,
     "grade_id": "string_desc_3",
     "locked": true,
     "solution": false
    }
   },
   "source": [
    "### c) \n",
    "Schreiben Sie eine Funktion `s_klein(s)`, welche alle Großbuchstaben im string `s` durch entsprechende Kleinbuchstaben ersetzt."
   ]
  },
  {
   "cell_type": "code",
   "execution_count": null,
   "metadata": {
    "collapsed": false,
    "nbgrader": {
     "grade": false,
     "grade_id": "string_sol_3",
     "locked": false,
     "solution": true
    }
   },
   "outputs": [],
   "source": [
    "def s_klein(s):\n",
    "    # Your Code here\n",
    "    ### BEGIN SOLUTION\n",
    "    \"\"\"Methode, welche alle Großbuchstaben des übergebenen Strings durch entsprechende Kleinbuchstaben ersetzt.\"\"\"\n",
    "    return s.lower()\n",
    "    ### END SOLUTION"
   ]
  },
  {
   "cell_type": "code",
   "execution_count": null,
   "metadata": {
    "collapsed": false,
    "nbgrader": {
     "grade": true,
     "grade_id": "string_test_3",
     "locked": true,
     "points": 1,
     "solution": false
    }
   },
   "outputs": [],
   "source": [
    "assert(s_klein('Hallo Welt!') == 'hallo welt!')\n",
    "### HIDESTART\n",
    "assert(s_klein('Dies ist ein geHEimer Satz.') == 'dies ist ein geheimer satz.')\n",
    "### HIDEEND"
   ]
  },
  {
   "cell_type": "markdown",
   "metadata": {
    "nbgrader": {
     "grade": false,
     "grade_id": "vector_desc",
     "locked": true,
     "solution": false
    }
   },
   "source": [
    "# Aufgabe 2: Vektorklasse\n",
    "In dieser Aufgabe sollen Sie eine Klasse ```Vektor``` implementieren.\n",
    "Ein Vektor $v$ besteht aus $n$ einzelnen Zahlen, also $v = (v_0,\\ldots,v_{n-1})$.\n",
    "Das $n$ kann hier eine beliebige Zahl aus den natürlichen Zahlen $\\mathbb N = \\{1,2,3,\\ldots\\}$ sein.\n",
    "Die Klasse ```Vektor``` soll für ein Objekt $v = (v_0,\\ldots,v_{n-1})$ die folgenden Methoden bereitstellen:\n",
    "- ```index(i)```: Liefert die Zahl an der $i$-ten Stelle des Vektors, d.h. für $v = (v_0,\\ldots,v_{n-1})$ wird $v_i$ zurückgegeben.\n",
    "- ```add(a)```: Addiert den Vektor $v = (v_0,\\ldots,v_{n-1})$ mit dem übergebenen Vektor $a = (a_0,\\ldots,a_{n-1})$ und liefert das Ergebnis als neuen Vektor $e = (v_0+a_0,\\ldots,v_{n-1}+a_{n-1})$ zurück.\n",
    "- ```substract(a)```: Subtrahiert den Vektor $a = (a_0,\\ldots,a_{n-1})$ von dem Vektor $v = (v_0,\\ldots,v_{n-1})$ und liefert das Ergebnis als neuen Vektor $s = (v_0-a_0,\\ldots,v_{n-1}-a_{n-1})$ zurück.\n",
    "- ```dot(w)```: Berechnet das Vektorprodukt für den Vektor $v = (v_0,\\ldots,v_{n-1})$ und dem übergebenen Vektor $w = (w_0,\\ldots,w_{n-1})$ und liefert das Ergebnis ($\\sum_{i=0}^{n-1} v_i\\cdot w_i$) zurück.\n",
    "- ```norm()```: Berechnet die Norm ($\\sqrt[]{\\sum_{i=0}^{n-1} v_i^2}$) des Vektors $v = (v_0,\\ldots,v_{n-1})$ und liefert diese zurück.\n",
    "\n",
    "Für die Methoden ```add```, ```substract``` und ```dot``` können Sie davon ausgehen, dass beide Vektoren immer dieselbe Länge haben."
   ]
  },
  {
   "cell_type": "code",
   "execution_count": null,
   "metadata": {
    "collapsed": true,
    "nbgrader": {
     "grade": false,
     "grade_id": "vector_sol",
     "locked": false,
     "solution": true
    }
   },
   "outputs": [],
   "source": [
    "### BEGIN SOLUTION\n",
    "class Vector(object):\n",
    "    \"\"\"Die Klasse Vektor realisiert einen mathematischen Vektor, auf welchem Vektoroperationen ausgeführt werden können.\"\"\"\n",
    "    def __init__(self, vec):\n",
    "        self.vec = vec\n",
    "\n",
    "    def add(self, v):\n",
    "        erg = [0]*self.length()\n",
    "        for i in range(0, v.length()):\n",
    "            erg[i] = self.vec[i] + v.index(i)\n",
    "        return Vector(erg)\n",
    "    \n",
    "    def subtract(self, v):\n",
    "        erg = [0]*self.length()\n",
    "        for i in range(0, v.length()):\n",
    "            erg[i] = self.vec[i] - v.index(i)\n",
    "        return Vector(erg)\n",
    "    \n",
    "    def dot(self, v):\n",
    "        erg = 0\n",
    "        for i in range(0, v.length()):\n",
    "            erg = erg + self.vec[i] * v.index(i)\n",
    "        return erg\n",
    "    \n",
    "    def norm(self):\n",
    "        \"\"\"norm-Methode der Klasse Vektor\"\"\"\n",
    "        erg = 0\n",
    "        for i in range(0, len(self.vec)):\n",
    "            erg = erg + self.vec[i] ** 2\n",
    "        erg = erg ** 0.5\n",
    "        return erg\n",
    "\n",
    "    def length(self):\n",
    "        return len(self.vec)\n",
    "    \n",
    "    def index(self, i):\n",
    "        return self.vec[i]\n",
    "### END SOLUTION"
   ]
  },
  {
   "cell_type": "code",
   "execution_count": null,
   "metadata": {
    "collapsed": false,
    "nbgrader": {
     "grade": true,
     "grade_id": "vector_test_0",
     "locked": true,
     "points": 1,
     "solution": false
    }
   },
   "outputs": [],
   "source": [
    "a = Vector([4, 3, 7])\n",
    "assert(a.index(0) == 4)\n",
    "assert(a.index(1) == 3)\n",
    "assert(a.index(2) == 7)\n",
    "\n",
    "### HIDESTART\n",
    "for n in range(2,10):\n",
    "    a = Vector(range(1,n+1))\n",
    "    for i in range(0,n):\n",
    "        assert(a.index(i) == i+1)\n",
    "### HIDEEND"
   ]
  },
  {
   "cell_type": "code",
   "execution_count": null,
   "metadata": {
    "collapsed": true,
    "nbgrader": {
     "grade": true,
     "grade_id": "vector_test_1",
     "locked": true,
     "points": 1,
     "solution": false
    }
   },
   "outputs": [],
   "source": [
    "a = Vector([1, 2, 3])\n",
    "b = Vector([3, 4, 5])\n",
    "\n",
    "e = a.add(b)\n",
    "assert(e.index(0) == 4)\n",
    "assert(e.index(1) == 6)\n",
    "assert(e.index(2) == 8)\n",
    "\n",
    "### HIDESTART\n",
    "for n in range(2,10):\n",
    "    a = Vector(range(1,n+1))\n",
    "    b = Vector(range(0,n))\n",
    "\n",
    "    e = a.add(b)\n",
    "\n",
    "    for i in range(0,n):\n",
    "        assert(e.index(i) == (a.index(i) + b.index(i)))\n",
    "### HIDEEND"
   ]
  },
  {
   "cell_type": "code",
   "execution_count": null,
   "metadata": {
    "collapsed": true,
    "nbgrader": {
     "grade": true,
     "grade_id": "vector_test_2",
     "locked": true,
     "points": 1,
     "solution": false
    }
   },
   "outputs": [],
   "source": [
    "a = Vector([1, 2, 3])\n",
    "b = Vector([3, 4, 5])\n",
    "s = a.subtract(b)\n",
    "assert(s.index(0) == -2)\n",
    "assert(s.index(1) == -2)\n",
    "assert(s.index(2) == -2)\n",
    "### HIDESTART\n",
    "for n in range(2,10):\n",
    "    a = Vector(range(1,n+1))\n",
    "    b = Vector(range(0,n))\n",
    "\n",
    "    s = a.subtract(b)\n",
    "\n",
    "    for i in range(0,n):\n",
    "        assert(s.index(i) == (a.index(i) - b.index(i)))\n",
    "### HIDEEND"
   ]
  },
  {
   "cell_type": "code",
   "execution_count": null,
   "metadata": {
    "collapsed": true,
    "nbgrader": {
     "grade": true,
     "grade_id": "vector_test_3",
     "locked": true,
     "points": 1,
     "solution": false
    }
   },
   "outputs": [],
   "source": [
    "a = Vector([1, 2, 3])\n",
    "b = Vector([3, 4, 5])\n",
    "dot = a.dot(b)\n",
    "assert(dot == 26)\n",
    "### HIDESTART\n",
    "for n in range(2,10):\n",
    "    a = Vector(range(1,n+1))\n",
    "    b = Vector(range(0,n))\n",
    "    dot = 0\n",
    "    for i in range(0,n):\n",
    "        dot = dot + a.index(i) * b.index(i)\n",
    "    assert(a.dot(b) == dot)\n",
    "### HIDEEND"
   ]
  },
  {
   "cell_type": "code",
   "execution_count": null,
   "metadata": {
    "collapsed": false,
    "nbgrader": {
     "grade": true,
     "grade_id": "vector_test_4",
     "locked": true,
     "points": 1,
     "solution": false
    }
   },
   "outputs": [],
   "source": [
    "a = Vector([1, 2, 3])\n",
    "norm = a.norm()\n",
    "assert(norm == (14**0.5))\n",
    "### HIDESTART\n",
    "for n in range(2,10):\n",
    "    a = Vector(range(1,n+1))\n",
    "    norm = 0\n",
    "    for i in range(0, n):\n",
    "        norm = norm + a.index(i) ** 2\n",
    "    norm = norm ** 0.5\n",
    "    assert(a.norm() == norm)    \n",
    "### HIDEEND"
   ]
  },
  {
   "cell_type": "markdown",
   "metadata": {
    "nbgrader": {
     "grade": false,
     "grade_id": "patient_desc_1",
     "locked": true,
     "solution": false
    }
   },
   "source": [
    "# Aufgabe 3: Objektorientierung\n",
    "\n",
    "Betrachten Sie für diese Aufgabe die gegebene Klasse `Patient`."
   ]
  },
  {
   "cell_type": "code",
   "execution_count": null,
   "metadata": {
    "collapsed": false,
    "nbgrader": {
     "grade": false,
     "grade_id": "patient_desc_2",
     "locked": true,
     "solution": false
    }
   },
   "outputs": [],
   "source": [
    "class Patient():\n",
    "    anz_patienten = 0\n",
    "    \n",
    "    def __init__(self, name, alter, privat_patient):\n",
    "        self.name = name\n",
    "        self.alter = alter\n",
    "        self.privat_patient = privat_patient\n",
    "        \n",
    "    def get_name(self):\n",
    "        return self.name\n",
    "    \n",
    "    def get_alter(s):\n",
    "        return s.alter\n",
    "    \n",
    "    def is_privat_patient(self):\n",
    "        return self.privat_patient\n",
    "    \n",
    "    def __eq__(self, p):\n",
    "        return self.name == p.name and self.alter == p.alter"
   ]
  },
  {
   "cell_type": "markdown",
   "metadata": {
    "nbgrader": {
     "grade": false,
     "grade_id": "patient_desc_3",
     "locked": true,
     "solution": false
    }
   },
   "source": [
    "### a)\n",
    "Erläutern Sie zunächst den Unterschied der Operationen '==' und 'is'. \n",
    "Weisen Sie dann den beiden gegebenen Variablen `p1` und `p2` Objekte der Klasse `Patient` zu, sodass `p1 == p2` gilt, jedoch nicht `p1 is p2`."
   ]
  },
  {
   "cell_type": "markdown",
   "metadata": {
    "nbgrader": {
     "grade": true,
     "grade_id": "patient_sol_1_1",
     "locked": false,
     "points": 1,
     "solution": true
    }
   },
   "source": [
    "Der Operator `==` führt die Methode `__eq__` des Objektes aus, welches auf der linken Seite des Operators steht.\n",
    "Der Operator `is` hingegen überprüft, ob die referenzierten Objekte auf beiden Seiten dieselben sind."
   ]
  },
  {
   "cell_type": "code",
   "execution_count": null,
   "metadata": {
    "collapsed": false,
    "nbgrader": {
     "grade": false,
     "grade_id": "patient_sol_1_2",
     "locked": false,
     "solution": true
    }
   },
   "outputs": [],
   "source": [
    "p1 = None # None durch entsprechende Belegung ersetzen!\n",
    "p2 = None # None durch entsprechende Belegung ersetzen!\n",
    "### BEGIN SOLUTION\n",
    "p1 = Patient(\"Max Meier\", 26, False)\n",
    "p2 = Patient (\"Max Meier\", 26, False)\n",
    "### END SOLUTION"
   ]
  },
  {
   "cell_type": "code",
   "execution_count": null,
   "metadata": {
    "collapsed": false,
    "nbgrader": {
     "grade": true,
     "grade_id": "patient_test_1",
     "locked": true,
     "points": 1,
     "solution": false
    }
   },
   "outputs": [],
   "source": [
    "assert(isinstance(p1, Patient))\n",
    "assert(isinstance(p2, Patient))\n",
    "assert(p1 == p2)\n",
    "assert(not p2 is p1)"
   ]
  },
  {
   "cell_type": "markdown",
   "metadata": {
    "nbgrader": {
     "grade": false,
     "grade_id": "patient_desc_4",
     "locked": true,
     "solution": false
    }
   },
   "source": [
    "### b)\n",
    "Wie Sie sehen, verfügt die Klasse `Patient` auch über eine Klassenvariable `anz_patienten`.\n",
    "Der Wert dieser Variablen soll nun immer um 1 erhöht werden, wenn ein neuer Patient erstellt wurde, d.h. nach Ausführung des folgenden Programms sollte `anz_patienten` den Wert 2 haben:\n",
    "\n",
    "```Python\n",
    "p1 = Patient(\"Max Meier\", 26, False)\n",
    "p2 = Patient (\"Max Mustermann\", 12, False)\n",
    "```\n",
    "An welcher Stelle muss dies realisiert werden?\n",
    "Geben Sie auch den entsprechenden Befehl an, welcher dies realisiert?"
   ]
  },
  {
   "cell_type": "markdown",
   "metadata": {
    "nbgrader": {
     "grade": true,
     "grade_id": "patient_sol_2",
     "locked": false,
     "points": 1,
     "solution": true
    }
   },
   "source": [
    "Es muss im Konstruktor der Befehl \n",
    "``` Python\n",
    "Patient.anz_patienten += 1\n",
    "```\n",
    "ausgeführt werden."
   ]
  },
  {
   "cell_type": "markdown",
   "metadata": {
    "nbgrader": {
     "grade": false,
     "grade_id": "patient_desc_6",
     "locked": true,
     "solution": false
    }
   },
   "source": [
    "### c)\n",
    "Wie Sie sehen, heißt der erste Parameter der Methode `get_alter()` nicht `self`.\n",
    "Würde das folgende Programm einen Fehler erzeugen?\n",
    "Wenn ja, an welcher Stelle und warum, wenn nein, erklären Sie warum nicht?\n",
    "\n",
    "``` Python\n",
    "p1 = Patient(\"Max Meier\", 26, False)\n",
    "print(p1.get_alter())\n",
    "```"
   ]
  },
  {
   "cell_type": "markdown",
   "metadata": {
    "nbgrader": {
     "grade": true,
     "grade_id": "patient_sol_3",
     "locked": false,
     "points": 1,
     "solution": true
    }
   },
   "source": [
    "Das Programm funktioniert, da der Name für den ersten Parameter einer Objektmethode nur per Konvention `self` lautet."
   ]
  },
  {
   "cell_type": "markdown",
   "metadata": {
    "nbgrader": {
     "grade": false,
     "grade_id": "patient_desc_5",
     "locked": true,
     "solution": false
    }
   },
   "source": [
    "### d)\n",
    "Angenommen, die obige Klasse `Patient` würde über keinen Konstruktor verfügen.\n",
    "Würde das folgende Programm einen Fehler erzeugen?\n",
    "Wenn ja, an welcher Stelle und warum, wenn nein, erklären Sie warum nicht?\n",
    "``` Python\n",
    "p1 = Patient()\n",
    "print(p1.get_name())\n",
    "```"
   ]
  },
  {
   "cell_type": "markdown",
   "metadata": {
    "nbgrader": {
     "grade": true,
     "grade_id": "patient_sol_4",
     "locked": false,
     "points": 1,
     "solution": true
    }
   },
   "source": [
    "Zunächst einmal wird der fehlende Konstruktor von Python durch einen leere Standardkonstruktor ersetzt.\n",
    "Das Programm wirft einen Fehler wenn versucht wird die Methode p1.get_name() aufzurufen, da der Patient über keine Objektvariable `name` verfügt (diese wurde im Standardkonstruktor nicht definiert)."
   ]
  },
  {
   "cell_type": "markdown",
   "metadata": {
    "nbgrader": {
     "grade": false,
     "grade_id": "paul_desc_1",
     "locked": true,
     "solution": false
    }
   },
   "source": [
    "# Aufgabe 4: PAUL\n",
    "In dieser Aufgabe sollen Sie eine einfache Version von PAUL implementieren.\n",
    "Das System soll aus 3 Klassen bestehen: `Student`, `Vorlesung` und `Paul`.\n",
    "Die Klasse `Student` ist Ihnen bereits gegeben (siehe untere Codezelle).\n",
    "Ihre Aufgabe ist nun die Klassen `Vorlesung` und `Paul` zu vervollständigen, sodass die gegebenen Tests funktionieren."
   ]
  },
  {
   "cell_type": "markdown",
   "metadata": {
    "nbgrader": {
     "grade": false,
     "grade_id": "paul_desc_2",
     "locked": true,
     "solution": false
    }
   },
   "source": [
    "## a)\n",
    "Erstellen Sie eine Klasse `Vorlesung`, welche über die folgenden Methoden verfügt:\n",
    "\n",
    "- Einen Kontruktor, welcher die ID der Vorlesung (int), sowie den Namen der Vorlesung (str) übergeben bekommt.\n",
    "- `get_id`: Gibt die ID der Vorlesung zurück\n",
    "- `get_name`: Gibt den Namen der Vorlesung zurück\n",
    "- `add_student`: Registriert den Studenten mit der übergebenen Matrikelnummer in der Vorlesung\n",
    "- `has_student`: Liefert `True`, falls sich ein Student mit der übergebenen Matrikelnummer in der Vorlesung registriert hat, ansonsten `False`.\n",
    "- `add_grade`: Setzt die Note des Studenten mit der übergebenen Matrikelnummer auf die übergebene Note. Sollte der Student bereits eine Note haben, so wird diese überschrieben. Wenn der Student nicht in der Vorlesung registriert ist, soll keine Aktion ausgeführt werden.\n",
    "- `get_grade`: Liefert die Note für diese Vorlesung, welche der Student mit der übergebenen Matrikelnummer erhalten hat. Falls die Matrikelnummer nicht in der Vorlesung registriert ist, soll `-1` zurückgegeben werden. Ist der Student zwar registriert, hat aber noch keine Note erhalten, wird `None` zurückgegeben.\n"
   ]
  },
  {
   "cell_type": "code",
   "execution_count": 1,
   "metadata": {
    "collapsed": true,
    "nbgrader": {
     "grade": false,
     "grade_id": "paul_sol_1",
     "locked": false,
     "solution": true
    }
   },
   "outputs": [],
   "source": [
    "class Student:\n",
    "    def __init__(self, mat_nr, name):\n",
    "        self.mat_nr = mat_nr\n",
    "        self.name = name\n",
    "    \n",
    "    def get_mat_nr(self):\n",
    "        return self.mat_nr\n",
    "    \n",
    "    def get_name(self):\n",
    "        return self.name\n",
    "    \n",
    "    def __str__(self):\n",
    "        return str(self.mat_nr) + \" \" + self.name\n",
    "        \n",
    "class Vorlesung:\n",
    "    def __init__(self, v_id, name):\n",
    "        self.v_id = v_id\n",
    "        self.name = name\n",
    "        self.studenten = {}\n",
    "        \n",
    "    def get_id(self):\n",
    "        return self.v_id\n",
    "    \n",
    "    def get_name(self):\n",
    "        return self.name\n",
    "    \n",
    "    def add_student(self, mat_nr):\n",
    "        self.studenten[mat_nr] = None\n",
    "        \n",
    "    def has_student(self, mat_nr):\n",
    "        if mat_nr in self.studenten:\n",
    "            return True\n",
    "        return False\n",
    "    \n",
    "    def add_grade(self, mat_nr, grade):\n",
    "        if mat_nr in self.studenten:\n",
    "            self.studenten[mat_nr] = grade\n",
    "    \n",
    "    def get_grade(self, mat_nr):\n",
    "        if mat_nr in self.studenten:\n",
    "            return self.studenten[mat_nr]\n",
    "        return -1"
   ]
  },
  {
   "cell_type": "code",
   "execution_count": 2,
   "metadata": {
    "collapsed": true,
    "nbgrader": {
     "grade": true,
     "grade_id": "paul_test_1_1",
     "locked": true,
     "points": 1,
     "solution": false
    }
   },
   "outputs": [],
   "source": [
    "# Erstelle Studenten:\n",
    "s1 = Student(9863451, \"Ralf B\")\n",
    "s2 = Student(9863452, \"Jessica W\")\n",
    "s3 = Student(9863453, \"Philipp K\")\n",
    "s4 = Student(9863454, \"Andrea B\")\n",
    "s5 = Student(9863455, \"Sebastian A\")\n",
    "s6 = Student(9863456, \"Luca B\")\n",
    "studenten = [s1,s2,s3,s4,s5,s6]\n",
    "\n",
    "# Kurs-Test\n",
    "gp1 = Vorlesung(1, \"Grundlagen der Programmierung 1\")\n",
    "\n",
    "assert(gp1.get_id() == 1)\n",
    "assert(gp1.get_name() == \"Grundlagen der Programmierung 1\")\n",
    "\n",
    "for s in studenten:\n",
    "    gp1.add_student(s.get_mat_nr())\n",
    "\n",
    "for s in studenten:\n",
    "    assert(gp1.has_student(s.get_mat_nr()))\n",
    "\n",
    "### HIDESTART\n",
    "mod = Vorlesung(2, \"Modellierung\")\n",
    "\n",
    "assert(mod.get_id() == 2)\n",
    "assert(mod.get_name() == \"Modellierung\")\n",
    "\n",
    "mod.add_student(s1.get_mat_nr())\n",
    "mod.add_student(s2.get_mat_nr())\n",
    "mod.add_student(s3.get_mat_nr())\n",
    "\n",
    "assert(mod.has_student(s1.get_mat_nr()))\n",
    "assert(mod.has_student(s2.get_mat_nr()))\n",
    "assert(mod.has_student(s3.get_mat_nr()))\n",
    "assert(not mod.has_student(s4.get_mat_nr()))\n",
    "assert(not mod.has_student(s5.get_mat_nr()))\n",
    "assert(not mod.has_student(s6.get_mat_nr()))\n",
    "### HIDEEND"
   ]
  },
  {
   "cell_type": "code",
   "execution_count": 3,
   "metadata": {
    "collapsed": true,
    "nbgrader": {
     "grade": true,
     "grade_id": "paul_test_1_2",
     "locked": true,
     "points": 2,
     "solution": false
    }
   },
   "outputs": [],
   "source": [
    "gp1.add_grade(s1.get_mat_nr(), 1.0)\n",
    "gp1.add_grade(s2.get_mat_nr(), 1.3)\n",
    "gp1.add_grade(s3.get_mat_nr(), 3.0)\n",
    "gp1.add_grade(s4.get_mat_nr(), 2.7)\n",
    "gp1.add_grade(s5.get_mat_nr(), 1.3)\n",
    "gp1.add_grade(s6.get_mat_nr(), 5.0)\n",
    "\n",
    "assert(gp1.get_grade(s1.get_mat_nr()) == 1.0)\n",
    "assert(gp1.get_grade(s2.get_mat_nr()) == 1.3)\n",
    "assert(gp1.get_grade(s3.get_mat_nr()) == 3.0)\n",
    "assert(gp1.get_grade(s4.get_mat_nr()) == 2.7)\n",
    "assert(gp1.get_grade(s5.get_mat_nr()) == 1.3)\n",
    "assert(gp1.get_grade(s6.get_mat_nr()) == 5.0)\n",
    "\n",
    "gp1.add_grade(1234567, 1.0) # Nicht in der Vorlesung registrierter Student will eine Note haben\n",
    "assert(gp1.get_grade(1234567) == -1) # Matrikelnummer nicht im Kurs vorhanden\n",
    "\n",
    "### HIDESTART\n",
    "assert(mod.get_grade(s4.get_mat_nr()) == -1)\n",
    "assert(mod.get_grade(s5.get_mat_nr()) == -1)\n",
    "assert(mod.get_grade(s6.get_mat_nr()) == -1)\n",
    "### HIDEEND"
   ]
  },
  {
   "cell_type": "markdown",
   "metadata": {
    "nbgrader": {
     "grade": false,
     "grade_id": "paul_desc_3",
     "locked": true,
     "solution": false
    }
   },
   "source": [
    "## b)\n",
    "Ergänzen Sie nun die Klasse `PAUL`, welche über die folgenden Methoden verfügt:\n",
    "- `add_vorlesung`: Erstellt eine neue Vorlesung mit übergebener ID und Namen im System. Sie können davon ausgehen, dass `add_vorlesung` niemals mehrfach für dieselbe Vorlesungs-ID aufgerufen wird.\n",
    "- `add_student`: Erstellt einen neuen Studenten mit übergebener Matrikelnummer und Namen im System. Sie können davon ausgehen, dass `add_student` niemals mehrfach für dieselbe Matrikelnummer aufgerufen wird.\n",
    "- `registriere_student_in_vorlesung`: Fügt den Studenten mit der übergebenen Matrikelnummer der Vorlesung mit der übergebenen ID hinzu. Sie können davon ausgehen, dass `registriere_student_in_vorlesung` niemals mehrfach für ein Paar (`matr_nr`, `v_id`) aufgerufen wird.\n",
    "- `get_studenten_in_vorlesung`: Liefert eine Liste, welche alle Matrikelnummern enthält, die in der Vorlesung mit der übergebenen ID registriert sind. Falls das System keine Vorlesung mit der übergebenen ID enthält, soll `None` zurückgegeben werden.\n",
    "- `add_grade`: Fügt dem Studenten mit der übergebenen Matrikelnummer eine Note für die Vorlesung mit ID `v_id` hinzu.\n",
    "- `get_grades_for_student`: Liefert ein Dictionary mit allen Vorlesungen, in welcher der übergebene Student registriert ist und die entsprechenden Noten, die der Student für die Vorlesung erhalten hat.\n",
    "\n",
    "Eine beispielhafte Anwendung können Sie an den gegebenen Tests ablesen."
   ]
  },
  {
   "cell_type": "code",
   "execution_count": 4,
   "metadata": {
    "collapsed": true,
    "nbgrader": {
     "grade": false,
     "grade_id": "paul_sol_2",
     "locked": false,
     "solution": true
    }
   },
   "outputs": [],
   "source": [
    "class Paul:\n",
    "    def __init__(self):\n",
    "        self.studenten = []\n",
    "        self.vorlesungen = {}\n",
    "    \n",
    "    def add_vorlesung(self, v_id, name):\n",
    "        v = Vorlesung(v_id, name)\n",
    "        self.vorlesungen[v_id] = v\n",
    "        \n",
    "    def add_student(self, mat_nr, name):\n",
    "        s = Student(mat_nr, name)\n",
    "        self.studenten.append(s)\n",
    "        \n",
    "    def registriere_in_vorlesung(self, mat_nr, v_id):\n",
    "        self.vorlesungen[v_id].add_student(mat_nr)\n",
    "        \n",
    "    def get_studenten_in_vorlesung(self, v_id):\n",
    "        if v_id in self.vorlesungen:\n",
    "            L = []\n",
    "            for i in self.vorlesungen[v_id].studenten.keys():\n",
    "                L.append(i)\n",
    "            return L\n",
    "        return None\n",
    "    \n",
    "    def add_grade(self, mat_nr, grade, v_id):\n",
    "        self.vorlesungen[v_id].add_grade(mat_nr, grade)\n",
    "        \n",
    "    def get_grades_for_student(self, mat_nr):\n",
    "        d = {}\n",
    "        for v_id in self.vorlesungen:\n",
    "            v = self.vorlesungen[v_id]\n",
    "            if v.has_student(mat_nr):\n",
    "                d[v.get_name()] = v.get_grade(mat_nr)\n",
    "        return d"
   ]
  },
  {
   "cell_type": "code",
   "execution_count": 5,
   "metadata": {
    "collapsed": true,
    "nbgrader": {
     "grade": true,
     "grade_id": "paul_test_2_1",
     "locked": true,
     "points": 1,
     "solution": false
    }
   },
   "outputs": [],
   "source": [
    "paul = Paul()\n",
    "\n",
    "paul.add_vorlesung(1, \"Grundlagen der Programmierung 1\")\n",
    "paul.add_vorlesung(2, \"Modellierung\")\n",
    "paul.add_student(9863451, \"Ralf B\")\n",
    "paul.add_student(9863452, \"Jessica W\")\n",
    "paul.add_student(9863453, \"Philipp K\")\n",
    "\n",
    "paul.registriere_in_vorlesung(9863451, 1)\n",
    "paul.registriere_in_vorlesung(9863452, 1)\n",
    "paul.registriere_in_vorlesung(9863453, 1)\n",
    "\n",
    "paul.registriere_in_vorlesung(9863451, 2)\n",
    "paul.registriere_in_vorlesung(9863452, 2)\n",
    "paul.registriere_in_vorlesung(9863453, 2)"
   ]
  },
  {
   "cell_type": "code",
   "execution_count": 6,
   "metadata": {
    "collapsed": true,
    "nbgrader": {
     "grade": true,
     "grade_id": "paul_test_2_2",
     "locked": true,
     "points": 2,
     "solution": false
    }
   },
   "outputs": [],
   "source": [
    "paul.add_grade(9863451, 3.0, 1)\n",
    "paul.add_grade(9863452, 1.3, 1)\n",
    "paul.add_grade(9863453, 2.0, 1)\n",
    "\n",
    "paul.add_grade(9863451, 5.0, 2)\n",
    "paul.add_grade(9863452, 2.3, 2)\n",
    "paul.add_grade(9863453, 1.7, 2)\n",
    "\n",
    "assert(paul.get_studenten_in_vorlesung(1) == [9863451, 9863452, 9863453])\n",
    "assert(paul.get_studenten_in_vorlesung(2) == [9863451, 9863452, 9863453])\n",
    "assert(paul.get_grades_for_student(9863451) == {'Grundlagen der Programmierung 1': 3.0, 'Modellierung': 5.0})\n",
    "assert(paul.get_grades_for_student(9863452) == {'Grundlagen der Programmierung 1': 1.3, 'Modellierung': 2.3})\n",
    "assert(paul.get_grades_for_student(9863453) == {'Grundlagen der Programmierung 1': 2.0, 'Modellierung': 1.7})"
   ]
  },
  {
   "cell_type": "code",
   "execution_count": null,
   "metadata": {
    "collapsed": false,
    "nbgrader": {
     "grade": true,
     "grade_id": "doc_test",
     "locked": true,
     "points": 1,
     "solution": false
    }
   },
   "outputs": [],
   "source": [
    "### HIDESTART\n",
    "assert(s_verbinder.__doc__ != None)\n",
    "assert(s_suche.__doc__ != None)\n",
    "assert(s_klein.__doc__ != None)\n",
    "# TODO: Kann man testen, ob Klassen (z.B. die Klasse Vektor) bzw. Objektmethoden dokumentiert wurden?\n",
    "### HIDEEND"
   ]
  }
 ],
 "metadata": {
  "anaconda-cloud": {},
  "celltoolbar": "Create Assignment",
  "kernelspec": {
   "display_name": "Python [default]",
   "language": "python",
   "name": "python3"
  },
  "language_info": {
   "codemirror_mode": {
    "name": "ipython",
    "version": 3
   },
   "file_extension": ".py",
   "mimetype": "text/x-python",
   "name": "python",
   "nbconvert_exporter": "python",
   "pygments_lexer": "ipython3",
   "version": "3.5.2"
  }
 },
 "nbformat": 4,
 "nbformat_minor": 1
}
