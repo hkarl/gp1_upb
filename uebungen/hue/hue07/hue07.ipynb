{
 "cells": [
  {
   "cell_type": "markdown",
   "metadata": {
    "nbgrader": {
     "grade": true,
     "grade_id": "matrikel",
     "locked": false,
     "points": 0,
     "solution": true
    },
    "slideshow": {
     "slide_type": "skip"
    }
   },
   "source": [
    "Bitte hier eintragen (s.u)!"
   ]
  },
  {
   "cell_type": "markdown",
   "metadata": {
    "nbgrader": {
     "grade": false,
     "grade_id": "matrikel_info",
     "locked": true,
     "solution": false
    },
    "slideshow": {
     "slide_type": "skip"
    }
   },
   "source": [
    "# Abgabehinweise \n",
    "\n",
    "Beachten Sie unbedingt diese Hinweise, sonst erhalten Sie keine Punkte aus dieser Abgabe! Für Details siehe z.B. [Folien der nullten Zentralübung](http://groups.uni-paderborn.de/fg-karl/lehre/ws1617/gp1/hue/gp1-zue0.pdf)\n",
    "\n",
    "## Namen und Matrikelnummern \n",
    "\n",
    "Tragen Sie Ihre Matrikelnummern und E-Mail-Adressen *zeilenweise* in die Zelle **oberhalb** dieser Zelle ein.\n",
    "Achten Sie dabei streng auf die Formatierung, denn die Auswertung erfolgt automatisch. \n",
    "Benutzen Sie *keine* Leerzeilen.\n",
    "Zwischen Matrikelnummer und E-Mail-Adresse *muss genau ein* Leerzeichen stehen; sonst keine Leerzeichen, Tabs, Spiegelstriche, oder ähnliches in einer Zeile. Wir empfehlen *dringend* die Benutzung der Uni-Paderborn E-Mail-Adressen! \n",
    "\n",
    "Format:\n",
    "\n",
    "MatrikelNummer E-Mail-Adresse\n",
    "MatrikelNummer2 E-Mail-Adresse2\n",
    "\n",
    "z.B.:\n",
    "\n",
    "123456 testStudent@mail.upb.de\n",
    "234567 testStudent2@mail.upb.de\n",
    "345678 vorname.nachname@mail.upb.de\n",
    "\n",
    "Hinweis: Das sieht nicht nach separaten Zeilen aus, wenn Sie die Markdownzelle anzeigen lassen. Das ist egal; wichtig ist Formatierung der Eingabe.\n",
    "\n",
    "\n",
    "## Abgabe mit Gruppenaccount \n",
    "\n",
    "Die Abgabe muss mit Ihrem *Gruppenaccount* erfolgen (gp1\\_16\\_...), den Sie in der Präsenzübung erhalten haben! Abgaben, die über Ihren Einzelaccount erfolgen, werden ignoriert. \n",
    "\n",
    "## Abgabe: Submit \n",
    "\n",
    "Es reicht nicht, nur das Übungsblatt zu verändern. Sie müssen unter *Assignments* auf *Submit* clicken (oder entsprechend über die Kommandozeile), für das entsprechende Übungsblatt! (Wenn Sie Blatt 7 abgeben wolllen hilft es nicht, bei Blatt 1 auf Submit zu drücken!) Für Details siehe Beschreibung Abgabeprozess. \n",
    "\n",
    "## Dateinamen\n",
    "\n",
    "Geben Sie Ihre Lösung in der vom Server erhaltenen Datei hue07.ipynb ab (nicht umbenennen, keine Kopie erstellen, keine anderen Dateien in das Verzeichnis legen, auch nicht Dateiname hue7.ipynb !). Sonst kann eine Bewertung nicht stattfinden.\n",
    "\n",
    "## Struktur des Notebooks \n",
    "\n",
    "Fügen Sie keine Zellen hinzu und löschen Sie keine Zellen.\n",
    "Ändern Sie nicht den Typ einer Zelle.\n",
    "Geben Sie Lösungen nur in den Lösungszellen ab. Änderungen in den anderen Zellen werden nach Abgabe automatisch rückgängig gemacht.\n",
    "\n",
    "## Code-Zellen \n",
    "\n",
    "Entfernen Sie die Zeilen mit Inhalt \"raise NotImplementedError()\" aus den Zellen, in die Sie Ihre Lösungen schreiben. *Ersetzen* Sie diese Zeilen durch Ihre eigene Lösungen. \n",
    "\n",
    "## Nie ```input```\n",
    "\n",
    "Benutzen Sie *niemals* die Funktion `input()`. Das verhindert die automatische Auswertung Ihrer Abgabe und führt zu 0 Punkten für das gesamte Blatt! \n",
    "\n",
    "## Kommentare \n",
    "\n",
    "Kommentieren Sie Code-Abgaben! Insbesondere *muss* jede Funktion (Klasse, Methode, ...) einen ```docstring``` haben! Bei fehlendem docstring werden automatisch Punkte abgezogen! \n",
    "\n",
    "\n",
    "# Abgabetermin: 18.12.2016 um 23:59 Uhr"
   ]
  },
  {
   "cell_type": "markdown",
   "metadata": {
    "nbgrader": {
     "grade": false,
     "grade_id": "string_desc_1",
     "locked": true,
     "solution": false
    },
    "slideshow": {
     "slide_type": "slide"
    }
   },
   "source": [
    "# Aufgabe 1: String-API\n",
    "Diese Aufgabe lässt sich eventuell einfacher mithilfe der Python-Dokumentation lösen:\n",
    "https://docs.python.org/3/library/stdtypes.html.\n",
    "\n",
    "## a) \n",
    "Schreiben Sie eine Funktion `s_verbinder(l,z)`, welche eine Liste mit Strings `l` zu einem einzigen String verbindet und diesen zurückgibt, wobei zwischen die einzelnen Listenelemente jeweils das der Funktion übergebene Zeichen `z` eingefügt werden soll. Behandeln Sie Randfälle (leere Liste, leeres Zeichen) sinnvoll (siehe Tests)! "
   ]
  },
  {
   "cell_type": "code",
   "execution_count": null,
   "metadata": {
    "collapsed": false,
    "nbgrader": {
     "grade": false,
     "grade_id": "string_sol_1",
     "locked": false,
     "solution": true
    },
    "slideshow": {
     "slide_type": "fragment"
    }
   },
   "outputs": [],
   "source": [
    "def s_verbinder(l,z):\n",
    "    ### BEGIN SOLUTION\n",
    "    \"\"\"Funktion, welche eine Liste mit Strings zu einem einzigen String verbindet.\"\"\"\n",
    "    return z.join(l)\n",
    "    ### END SOLUTION"
   ]
  },
  {
   "cell_type": "code",
   "execution_count": null,
   "metadata": {
    "collapsed": false,
    "nbgrader": {
     "grade": true,
     "grade_id": "string_test_1",
     "locked": true,
     "points": 1,
     "solution": false
    },
    "slideshow": {
     "slide_type": "skip"
    }
   },
   "outputs": [],
   "source": [
    "# Diese Zelle bitte unverändert lassen!\n",
    "assert(s_verbinder(['1','2','3','4'], '-') == '1-2-3-4')\n",
    "assert(s_verbinder(['a','b','c','d'], '') == 'abcd')\n",
    "assert(s_verbinder([], '') == '')\n",
    "assert(s_verbinder([], 'x') == '')\n",
    "### HIDESTART\n",
    "assert(s_verbinder(['a','b','c','d'], '-') == 'a-b-c-d')\n",
    "### HIDEEND"
   ]
  },
  {
   "cell_type": "markdown",
   "metadata": {
    "nbgrader": {
     "grade": false,
     "grade_id": "string_desc_2",
     "locked": true,
     "solution": false
    },
    "slideshow": {
     "slide_type": "slide"
    }
   },
   "source": [
    "## b) \n",
    "Schreiben Sie eine Funktion `s_suche(s1,s2)`, welche den niedrigsten Index zurückgibt, bei dem der String `s2` in `s1` auftaucht.\n",
    "Ist s2 nicht in s1 enthalten, soll die Funktion `-1` zurückgeben.\n",
    "Behandeln Sie Randfälle (siehe Tests, insbesondere Suche nach leerem String) sinnvoll!"
   ]
  },
  {
   "cell_type": "code",
   "execution_count": null,
   "metadata": {
    "collapsed": false,
    "nbgrader": {
     "grade": false,
     "grade_id": "string_sol_2",
     "locked": false,
     "solution": true
    },
    "slideshow": {
     "slide_type": "fragment"
    }
   },
   "outputs": [],
   "source": [
    "def s_suche(s1,s2):\n",
    "    ### BEGIN SOLUTION\n",
    "    \"\"\"Funktion, welche den niedrigsten Index ausgibt, \n",
    "    bei dem der String s2 in s1 auftaucht.\"\"\"\n",
    "    return s1.find(s2)\n",
    "    ### END SOLUTION"
   ]
  },
  {
   "cell_type": "code",
   "execution_count": null,
   "metadata": {
    "collapsed": false,
    "nbgrader": {
     "grade": true,
     "grade_id": "string_test_2",
     "locked": true,
     "points": 1,
     "solution": false
    },
    "slideshow": {
     "slide_type": "skip"
    }
   },
   "outputs": [],
   "source": [
    "# Diese Zelle bitte unverändert lassen!\n",
    "assert(s_suche('Grundlagen der Programmierung', 'der') == 11)\n",
    "assert(s_suche('Grundlagen der Programmierung', 'r') == 1)\n",
    "assert(s_suche('', 'P') == -1)\n",
    "assert(s_suche('Grundlagen der Programmierung', 'X') == -1)\n",
    "assert(s_suche('Grundlagen der Programmierung', '') == 0)\n",
    "### HIDESTART\n",
    "assert(s_suche('Test', 'T') == 0)\n",
    "assert(s_suche('Test', 'e') == 1)\n",
    "assert(s_suche('Test', 's') == 2)\n",
    "assert(s_suche('Test', 't') == 3)\n",
    "assert(s_suche('Test', 'es') == 1)\n",
    "assert(s_suche('TestT', 'T') == 0)\n",
    "### HIDEEND"
   ]
  },
  {
   "cell_type": "markdown",
   "metadata": {
    "nbgrader": {
     "grade": false,
     "grade_id": "string_desc_3",
     "locked": true,
     "solution": false
    },
    "slideshow": {
     "slide_type": "slide"
    }
   },
   "source": [
    "## c) \n",
    "Schreiben Sie eine Funktion `split_3(s)`, welche einen string `s` an dem ersten Index `i` aufteilt, an welcher ein Punkt ('.') vorkommt. Es soll ein Triple `(s_links, i, s_rechts)` zurückgegeben werden, wobei `s_links` der Teilstring von `s` ist, welcher alle Zeichen links von `s[i]` enthält und `s_rechts` der Teilstring von `s` ist, welcher alle Zeichen rechts von `s[i]` enthält.\n",
    "Falls der übergebene String keinen Punkt enthält, soll ein leeres Tupel zurückgegeben werden."
   ]
  },
  {
   "cell_type": "code",
   "execution_count": null,
   "metadata": {
    "collapsed": false,
    "nbgrader": {
     "grade": false,
     "grade_id": "string_sol_3",
     "locked": false,
     "solution": true
    },
    "slideshow": {
     "slide_type": "fragment"
    }
   },
   "outputs": [],
   "source": [
    "def split_3(s):\n",
    "    ### BEGIN SOLUTION\n",
    "    \"\"\" Methode welche welche einen string s an dem ersten Index i aufteilt, an welcher ein Punkt ('.') vorkommt.\"\"\"\n",
    "    if not '.' in s:\n",
    "        return ()\n",
    "    l = s.partition('.')\n",
    "    sol = (l[0], s.index('.'), l[2])\n",
    "    return sol\n",
    "    ### END SOLUTION"
   ]
  },
  {
   "cell_type": "code",
   "execution_count": null,
   "metadata": {
    "collapsed": false,
    "nbgrader": {
     "grade": true,
     "grade_id": "string_test_3",
     "locked": true,
     "points": 1,
     "solution": false
    },
    "slideshow": {
     "slide_type": "skip"
    }
   },
   "outputs": [],
   "source": [
    "# Diese Zelle bitte unverändert lassen!\n",
    "assert(split_3('Dies ist ein Satz. Dies ist noch ein Satz.') == ('Dies ist ein Satz', 17, ' Dies ist noch ein Satz.'))\n",
    "assert(split_3('Ein Satz ohne Punkt') == ())\n",
    "### HIDESTART\n",
    "assert(split_3('Dies ist ein geheimer Satz. Dies ist noch ein geheimer Satz.') == ('Dies ist ein geheimer Satz', 26, ' Dies ist noch ein geheimer Satz.'))\n",
    "### HIDEEND"
   ]
  },
  {
   "cell_type": "markdown",
   "metadata": {
    "nbgrader": {
     "grade": false,
     "grade_id": "patient_desc_1",
     "locked": true,
     "solution": false
    },
    "slideshow": {
     "slide_type": "slide"
    }
   },
   "source": [
    "# Aufgabe 2: Objektorientierung\n",
    "\n",
    "Betrachten Sie für diese Aufgabe die gegebene Klasse `Patient`."
   ]
  },
  {
   "cell_type": "code",
   "execution_count": null,
   "metadata": {
    "collapsed": false,
    "nbgrader": {
     "grade": false,
     "grade_id": "patient_desc_2",
     "locked": true,
     "solution": false
    },
    "slideshow": {
     "slide_type": "slide"
    }
   },
   "outputs": [],
   "source": [
    "class Patient:\n",
    "    \"\"\"Realisiert einen Patienten\"\"\"\n",
    "    \n",
    "    \"\"\"Klassenvariable, die die Anzahl der erstellten Patienten zählen soll\"\"\"\n",
    "    anz_patienten = 0\n",
    "    \n",
    "    def __init__(self, name, alter, privat_patient):\n",
    "        \"\"\"Konstruktor\n",
    "        \n",
    "        Args:\n",
    "            name: Name des Patienten (str)\n",
    "            alter: Alter des Patienten (int)\n",
    "            privat_patient: True, falls der Patient ein Privatpatient ist, ansonsten False (bool)\n",
    "        \"\"\"\n",
    "        self.name = name\n",
    "        self.alter = alter\n",
    "        self.privat_patient = privat_patient\n",
    "        \n",
    "    def get_name(self):\n",
    "        \"\"\"Liefert den Namen des Patienten\n",
    "        \n",
    "        Returns:\n",
    "            str Name des Patienten\n",
    "        \"\"\"\n",
    "        return self.name\n",
    "    \n",
    "    def get_alter(s):\n",
    "        \"\"\"Liefert das Alter des Patienten\n",
    "        \n",
    "        Returns:\n",
    "            int Alter des Patienten\n",
    "        \"\"\"\n",
    "        return s.alter\n",
    "    \n",
    "    def is_privat_patient(self):\n",
    "        \"\"\"Liefert True, falls der Patient ein Privatpatient ist, ansonsten False\n",
    "        \n",
    "        Returns:\n",
    "            bool True, falls der Patient ein Privatpatient ist, ansonsten False\n",
    "        \"\"\"\n",
    "        return self.privat_patient\n",
    "    \n",
    "    def __eq__(self, p):\n",
    "        \"\"\"Vergleicht den Patient self mit dem Patient p auf Basis ihrer Attribute.\"\"\"\n",
    "        return self.name == p.name and self.alter == p.alter"
   ]
  },
  {
   "cell_type": "markdown",
   "metadata": {
    "nbgrader": {
     "grade": false,
     "grade_id": "patient_desc_3_1",
     "locked": true,
     "solution": false
    },
    "slideshow": {
     "slide_type": "slide"
    }
   },
   "source": [
    "## a)\n",
    "Erläutern Sie zunächst den Unterschied der Operationen `==` und `is` anhand der Klasse `Patient`. \n",
    "Was passiert, wenn zwei Objekte der Klasse `Patient` miteinander verglichen werden?"
   ]
  },
  {
   "cell_type": "markdown",
   "metadata": {
    "nbgrader": {
     "grade": true,
     "grade_id": "patient_sol_1_1",
     "locked": false,
     "points": 1,
     "solution": true
    },
    "slideshow": {
     "slide_type": "fragment"
    }
   },
   "source": [
    "Der Operator `==` führt die Methode `__eq__` des Objektes aus, welches auf der linken Seite des Operators steht.\n",
    "Der Operator `is` hingegen überprüft, ob die referenzierten Objekte auf beiden Seiten dieselben sind."
   ]
  },
  {
   "cell_type": "markdown",
   "metadata": {
    "nbgrader": {
     "grade": false,
     "grade_id": "patient_desc_3_2",
     "locked": true,
     "solution": false
    },
    "slideshow": {
     "slide_type": "fragment"
    }
   },
   "source": [
    "Weisen Sie dann den beiden gegebenen Variablen `p1` und `p2` Objekte der Klasse `Patient` zu, sodass `p1 == p2` gilt, jedoch nicht `p1 is p2`."
   ]
  },
  {
   "cell_type": "code",
   "execution_count": null,
   "metadata": {
    "collapsed": false,
    "nbgrader": {
     "grade": false,
     "grade_id": "patient_sol_1_2",
     "locked": false,
     "solution": true
    },
    "slideshow": {
     "slide_type": "fragment"
    }
   },
   "outputs": [],
   "source": [
    "p1 = None # None durch entsprechende Belegung ersetzen!\n",
    "p2 = None # None durch entsprechende Belegung ersetzen!\n",
    "### BEGIN SOLUTION\n",
    "p1 = Patient(\"Max M\", 26, False)\n",
    "p2 = Patient (\"Max M\", 26, False)\n",
    "### END SOLUTION"
   ]
  },
  {
   "cell_type": "code",
   "execution_count": null,
   "metadata": {
    "collapsed": false,
    "nbgrader": {
     "grade": true,
     "grade_id": "patient_test_1",
     "locked": true,
     "points": 1,
     "solution": false
    },
    "slideshow": {
     "slide_type": "skip"
    }
   },
   "outputs": [],
   "source": [
    "# Diese Zelle bitte unverändert lassen!\n",
    "assert(isinstance(p1, Patient))\n",
    "assert(isinstance(p2, Patient))\n",
    "assert(p1 == p2)\n",
    "assert(not p2 is p1)"
   ]
  },
  {
   "cell_type": "markdown",
   "metadata": {
    "nbgrader": {
     "grade": false,
     "grade_id": "patient_desc_6",
     "locked": true,
     "solution": false
    },
    "slideshow": {
     "slide_type": "slide"
    }
   },
   "source": [
    "## b)\n",
    "Wie Sie sehen, heißt der erste Parameter der Methode `get_alter()` nicht `self`.\n",
    "Würde das folgende Programm einen Fehler erzeugen?\n",
    "Wenn ja, an welcher Stelle und warum; wenn nein, erklären Sie warum nicht?\n",
    "\n",
    "```Python\n",
    "p1 = Patient(\"Max Meier\", 26, False)\n",
    "print(p1.get_alter())\n",
    "```\n",
    "\n",
    "*Hinweis*: Ein simples Copy-Paste einer Fehlermeldung reicht für eine Beschreibung des Fehlers nicht aus."
   ]
  },
  {
   "cell_type": "markdown",
   "metadata": {
    "nbgrader": {
     "grade": true,
     "grade_id": "patient_sol_3",
     "locked": false,
     "points": 1,
     "solution": true
    },
    "slideshow": {
     "slide_type": "fragment"
    }
   },
   "source": [
    "Das Programm funktioniert, da der Name für den ersten Parameter einer Objektmethode nur per Konvention `self` lautet. Es geht nur um die Anzahl der Parameter; die Namen sind egal."
   ]
  },
  {
   "cell_type": "markdown",
   "metadata": {
    "nbgrader": {
     "grade": false,
     "grade_id": "patient_desc_5",
     "locked": true,
     "solution": false
    },
    "slideshow": {
     "slide_type": "slide"
    }
   },
   "source": [
    "## c)\n",
    "Angenommen, die obige Klasse `Patient` würde nicht die oben definierte Methode `__init__` enthalten.\n",
    "Würde das folgende Programm einen Fehler erzeugen?\n",
    "Wenn ja, an welcher Stelle und warum; wenn nein, erklären Sie warum nicht?   \n",
    "```Python\n",
    "p1 = Patient()\n",
    "print(p1.get_name())\n",
    "```\n",
    "*Hinweis*: Ein simples Copy-Paste einer Fehlermeldung reicht für eine Beschreibung des Fehlers nicht aus."
   ]
  },
  {
   "cell_type": "markdown",
   "metadata": {
    "nbgrader": {
     "grade": true,
     "grade_id": "patient_sol_4",
     "locked": false,
     "points": 1,
     "solution": true
    },
    "slideshow": {
     "slide_type": "fragment"
    }
   },
   "source": [
    "Zunächst einmal wird der fehlende Konstruktor von Python durch einen leeren Standardkonstruktor ersetzt.\n",
    "Das Programm wirft einen Fehler, wenn versucht wird, die Methode p1.get_name() aufzurufen, da der Patient über keine Objektvariable `name` verfügt (diese wurde im Standardkonstruktor nicht definiert)."
   ]
  },
  {
   "cell_type": "markdown",
   "metadata": {
    "nbgrader": {
     "grade": false,
     "grade_id": "vector_desc",
     "locked": true,
     "solution": false
    },
    "slideshow": {
     "slide_type": "slide"
    }
   },
   "source": [
    "# Aufgabe 3: Vektoren\n",
    "In dieser Aufgabe sollen Sie eine Klasse `Vector` implementieren.\n",
    "Diese soll Objekte in Anlehnung an mathematische Vektoren repräsentieren.\n",
    "Ein Vektor $v$ besteht (in dieser Aufgabe) aus $n$ einzelnen Zahlen, also $v = (v_0,\\ldots,v_{n-1})$.\n",
    "Die Dimension $n$ kann hier eine beliebige Zahl aus den natürlichen Zahlen $\\mathbb N = \\{1,2,3,\\ldots\\}$ sein.\n",
    "Die Klasse `Vector` soll für ein Objekt $v = (v_0,\\ldots,v_{n-1})$ die folgenden (Objekt-)Methoden bereitstellen:\n",
    "- Einen Konstruktor, welcher über optionale Parameter verfügt: die Dimension `n` und eine Liste von Integers `vec`. \n",
    "Falls beide Parameter angegeben sind, können Sie davon ausgehen, dass `n == len(vec)` gilt.\n",
    "- `__setitem__(v, i, val)`: Ersetzt das Element $v_i$ des Vektors $v$ mit dem Wert `val`. Sie können davon ausgehen, dass `i` immer kleiner als die Dimension des Vektors ist.\n",
    "- `__getitem__(v, i)`: Gibt das Element $v_i$ des Vektors $v$ zurück. Falls `i` größer oder gleich der Dimension `n` des Vektors ist, so soll `None` zurückgegeben werden.\n",
    "\n",
    "Sobald Sie die Methoden `__setitem__(v, i, val)` und `__getitem__(v, i)` implementiert haben, sollten Sie auf die einzelnen Vektorelemente mittels Indizierung zugreifen können (siehe Tests). Sie können dies für die Implementierung der folgenden Methoden benutzen: \n",
    "\n",
    "- `add(v, a)`: Verändert den Vektor $v = (v_0,\\ldots,v_{n-1})$ indem der übergebene Vektor $a = (a_0,\\ldots,a_{n-1})$ zu $v$ addiert wird.\n",
    "- `difference(v, a)`: Subtrahiert den Vektor $a = (a_0,\\ldots,a_{n-1})$ von dem Vektor $v = (v_0,\\ldots,v_{n-1})$ und liefert das Ergebnis als neuen Vektor $s = (v_0-a_0,\\ldots,v_{n-1}-a_{n-1})$ zurück. Die beiden Vektoren `v` und `a` sollen dabei *nicht* verändert werden.\n",
    "- `dot(v, w)`: Berechnet das Vektorprodukt von Vektor $v = (v_0,\\ldots,v_{n-1})$ und dem übergebenen Vektor $w = (w_0,\\ldots,w_{n-1})$ und liefert das Ergebnis ($\\sum_{i=0}^{n-1} v_i\\cdot w_i$) zurück.\n",
    "- `norm(v)`: Berechnet die Norm ($\\sqrt[]{\\sum_{i=0}^{n-1} v_i^2}$) des Vektors $v = (v_0,\\ldots,v_{n-1})$ und liefert diese zurück.\n",
    "\n",
    "\n",
    "Für die Methoden `add`, `difference` und `dot` können Sie davon ausgehen, dass beide Vektoren immer dieselbe Länge haben.\n",
    "\n",
    "Es ist Ihnen selbstverständlich erlaubt, zusätzliche Hilfsmethoden (wie z.B. `__str__`) zu implementieren, um Ihren Code besser auf Fehler überprüfen zu können."
   ]
  },
  {
   "cell_type": "code",
   "execution_count": null,
   "metadata": {
    "collapsed": true,
    "nbgrader": {
     "grade": false,
     "grade_id": "vector_sol",
     "locked": false,
     "solution": true
    },
    "slideshow": {
     "slide_type": "slide"
    }
   },
   "outputs": [],
   "source": [
    "class Vector:\n",
    "    ### BEGIN SOLUTION\n",
    "    \"\"\"Die Klasse Vektor realisiert einen mathematischen Vektor, auf welchem Vektoroperationen ausgeführt werden können.\"\"\"\n",
    "    \n",
    "    def __init__(self, n=None, vec=None):\n",
    "        \"\"\"Erstelle leeren Vektor der Länge n. Falls Initiatiliserungsvektor oder -liste\n",
    "        gegeben, kopiere dessen Inhalt.\"\"\"\n",
    "\n",
    "        self.vec = []\n",
    "        if n:\n",
    "            self.vec = [0] * n\n",
    "        if vec:\n",
    "            self.vec = [0] * len(vec)\n",
    "            for i in range(len(vec)):\n",
    "                self.vec[i] = vec[i]\n",
    "\n",
    "    def add(self, a):\n",
    "        \"\"\"Addiere zu self, self verändern\"\"\"\n",
    "        n = len(self)\n",
    "        for i in range(n):\n",
    "            self[i] = self[i] + a[i]\n",
    "    \n",
    "    def difference(self, a):\n",
    "        \"\"\"Subtrahiere von self, aber self nicht verändern\"\"\"\n",
    "        erg = [0]*len(self)\n",
    "        for i in range(0, len(a)):\n",
    "            erg[i] = self.vec[i] - a[i]\n",
    "        return Vector(vec = erg)\n",
    "    \n",
    "    def dot(self, w):\n",
    "        \"\"\"Berechnet das Vektorprodukt mit dem übergebenen Vektor\"\"\"\n",
    "        return sum([x*o for x, o  in zip(self.vec, w.vec)])\n",
    "    \n",
    "    def norm(self):\n",
    "        \"\"\"Berechnet die Norm für den Vektor\"\"\"\n",
    "        return sum([x**2 for x in self.vec])**0.5\n",
    "    \n",
    "    def __len__(self):\n",
    "        return len(self.vec)\n",
    "    \n",
    "    def __setitem__(self, i, val):\n",
    "        \"\"\"Ersetzt das i-te Element des Vektors\"\"\"\n",
    "        self.vec[i] = val\n",
    "        \n",
    "    def __getitem__(self, i):\n",
    "        \"\"\"Liefert das i-te Element des Vektors\"\"\"\n",
    "        if i >= len(self.vec):\n",
    "            return None\n",
    "        else:\n",
    "            return self.vec[i]\n",
    "    \n",
    "    def __str__(self):\n",
    "        return str(self.vec)\n",
    "    ### END SOLUTION"
   ]
  },
  {
   "cell_type": "code",
   "execution_count": null,
   "metadata": {
    "collapsed": false,
    "nbgrader": {
     "grade": true,
     "grade_id": "vector_test_0",
     "locked": true,
     "points": 2,
     "solution": false
    },
    "slideshow": {
     "slide_type": "skip"
    }
   },
   "outputs": [],
   "source": [
    "# Diese Zelle bitte unverändert lassen!\n",
    "# Konstruktor-Test:\n",
    "v0 = Vector(n=2)\n",
    "assert(v0[0] == 0) # Zugriff hier mittels Indizierung!\n",
    "assert(v0[1] == 0)\n",
    "\n",
    "v1 = Vector(n=2, vec=[1,2])\n",
    "assert(v1[0] == 1)\n",
    "assert(v1[1] == 2)\n",
    "assert(v1[2] == None)\n",
    "\n",
    "v2 = Vector(vec=[1,2])\n",
    "assert(v2[0] == 1)\n",
    "assert(v2[1] == 2)\n",
    "\n",
    "# Ersetze ein Element von v2:\n",
    "v2[0] = 2\n",
    "assert(v2[0] == 2)\n",
    "\n",
    "### HIDESTART\n",
    "for n in range(2,10):\n",
    "    a = Vector(vec = range(1,n+1))\n",
    "    for i in range(0,n):\n",
    "        assert(a[i] == i+1)\n",
    "    a[0] = 3\n",
    "    assert(a[0] == 3)\n",
    "### HIDEEND"
   ]
  },
  {
   "cell_type": "code",
   "execution_count": null,
   "metadata": {
    "collapsed": false,
    "nbgrader": {
     "grade": true,
     "grade_id": "vector_test_1",
     "locked": true,
     "points": 1,
     "solution": false
    },
    "slideshow": {
     "slide_type": "skip"
    }
   },
   "outputs": [],
   "source": [
    "# Diese Zelle bitte unverändert lassen!\n",
    "a = Vector(vec = [1, 2, 3])\n",
    "b = Vector(vec = [3, 4, 5])\n",
    "\n",
    "a.add(b) # Addiere b zu a\n",
    "assert(a[0] == 4)\n",
    "assert(a[1] == 6)\n",
    "assert(a[2] == 8)\n",
    "\n",
    "# b unverändert:\n",
    "assert(b[0] == 3)\n",
    "assert(b[1] == 4)\n",
    "assert(b[2] == 5)\n",
    "\n",
    "### HIDESTART\n",
    "for n in range(2,10):\n",
    "    a = Vector(vec = range(1,n+1))\n",
    "    b = Vector(vec = range(0,n))\n",
    "\n",
    "    a.add(b)\n",
    "    for i in range(1,n+1):\n",
    "        assert(a[i-1] == (i + b[i-1]))\n",
    "    for i in range(0,n):\n",
    "        assert(b[i] == i)\n",
    "### HIDEEND"
   ]
  },
  {
   "cell_type": "code",
   "execution_count": null,
   "metadata": {
    "collapsed": false,
    "nbgrader": {
     "grade": true,
     "grade_id": "vector_test_2",
     "locked": true,
     "points": 1,
     "solution": false
    },
    "slideshow": {
     "slide_type": "skip"
    }
   },
   "outputs": [],
   "source": [
    "# Diese Zelle bitte unverändert lassen!\n",
    "a = Vector(vec = [1, 2, 3])\n",
    "b = Vector(vec = [3, 4, 5])\n",
    "\n",
    "s = a.difference(b) # Berechne die Differenz a-b und speichere den neuen Vektor in s\n",
    "assert(s[0] == -2)\n",
    "assert(s[1] == -2)\n",
    "assert(s[2] == -2)\n",
    "\n",
    "# a, b unverändert:\n",
    "assert(a[0] == 1)\n",
    "assert(a[1] == 2)\n",
    "assert(a[2] == 3)\n",
    "assert(b[0] == 3)\n",
    "assert(b[1] == 4)\n",
    "assert(b[2] == 5)\n",
    "\n",
    "### HIDESTART\n",
    "for n in range(2,10):\n",
    "    a = Vector(vec = range(1,n+1))\n",
    "    b = Vector(vec = range(0,n))\n",
    "\n",
    "    s = a.difference(b)\n",
    "\n",
    "    for i in range(0,n):\n",
    "        assert(s[i] == (a[i] - b[i]))\n",
    "    for i in range(1,n):\n",
    "        assert(a[i] == i+1)\n",
    "    for i in range(0,n):\n",
    "        assert(b[i] == i)\n",
    "### HIDEEND"
   ]
  },
  {
   "cell_type": "code",
   "execution_count": null,
   "metadata": {
    "collapsed": false,
    "nbgrader": {
     "grade": true,
     "grade_id": "vector_test_3",
     "locked": true,
     "points": 1,
     "solution": false
    },
    "slideshow": {
     "slide_type": "skip"
    }
   },
   "outputs": [],
   "source": [
    "# Diese Zelle bitte unverändert lassen!\n",
    "a = Vector(vec = [1, 2, 3])\n",
    "b = Vector(vec = [3, 4, 5])\n",
    "dot = a.dot(b) # Berechne das Vektorprodukt und speichere dies in dot\n",
    "assert(dot == 26)\n",
    "\n",
    "# a, b unverändert:\n",
    "assert(a[0] == 1)\n",
    "assert(a[1] == 2)\n",
    "assert(a[2] == 3)\n",
    "assert(b[0] == 3)\n",
    "assert(b[1] == 4)\n",
    "assert(b[2] == 5)\n",
    "\n",
    "### HIDESTART\n",
    "for n in range(2,10):\n",
    "    a = Vector(vec = range(1,n+1))\n",
    "    b = Vector(vec = range(0,n))\n",
    "    dot = 0\n",
    "    for i in range(0,n):\n",
    "        dot = dot + a[i] * b[i]\n",
    "    assert(a.dot(b) == dot)\n",
    "    for i in range(1,n):\n",
    "        assert(a[i] == i+1)\n",
    "    for i in range(0,n):\n",
    "        assert(b[i] == i)\n",
    "### HIDEEND"
   ]
  },
  {
   "cell_type": "code",
   "execution_count": null,
   "metadata": {
    "collapsed": false,
    "nbgrader": {
     "grade": true,
     "grade_id": "vector_test_4",
     "locked": true,
     "points": 1,
     "solution": false
    },
    "slideshow": {
     "slide_type": "skip"
    }
   },
   "outputs": [],
   "source": [
    "# Diese Zelle bitte unverändert lassen!\n",
    "a = Vector(vec  = [1, 2, 3])\n",
    "norm = a.norm() # Berechne die Norm und speichere diese in norm\n",
    "assert(norm == (14**0.5))\n",
    "\n",
    "# a unverändert:\n",
    "assert(a[0] == 1)\n",
    "assert(a[1] == 2)\n",
    "assert(a[2] == 3)\n",
    "\n",
    "### HIDESTART\n",
    "for n in range(2,10):\n",
    "    a = Vector(vec = range(1,n+1))\n",
    "    norm = 0\n",
    "    for i in range(0, n):\n",
    "        norm = norm + a[i] ** 2\n",
    "    norm = norm ** 0.5\n",
    "    assert(a.norm() == norm)    \n",
    "    for i in range(1,n):\n",
    "        assert(a[i] == i+1)\n",
    "### HIDEEND"
   ]
  },
  {
   "cell_type": "markdown",
   "metadata": {
    "nbgrader": {
     "grade": false,
     "grade_id": "paul_desc_1",
     "locked": true,
     "solution": false
    },
    "slideshow": {
     "slide_type": "slide"
    }
   },
   "source": [
    "# Aufgabe 4: PAUL\n",
    "In dieser Aufgabe sollen Sie eine einfache Version von PAUL implementieren.\n",
    "Das System soll aus 3 Klassen bestehen: `Student`, `Vorlesung` und `Paul`.\n",
    "Die Klasse `Student` ist Ihnen bereits gegeben (siehe untere Codezelle).\n",
    "Ihre Aufgabe ist nun, die Klassen `Vorlesung` und `Paul` zu vervollständigen.\n",
    "Die Anforderungen an die Klassen sowie Tests sind in den jeweiligen Teilaufgaben gegeben."
   ]
  },
  {
   "cell_type": "code",
   "execution_count": null,
   "metadata": {
    "collapsed": true,
    "nbgrader": {
     "grade": false,
     "grade_id": "paul_desc_student",
     "locked": true,
     "solution": false
    },
    "slideshow": {
     "slide_type": "subslide"
    }
   },
   "outputs": [],
   "source": [
    "class Student:\n",
    "    \"\"\"Diese Klasse modelliert einen Studenten mit Attributen mat_nr und name.\"\"\"\n",
    "    \n",
    "    def __init__(self, mat_nr, name):\n",
    "        \"\"\"Konstruktor\n",
    "\n",
    "        Args:\n",
    "            mat_nr: Matrikelnummer des Studenten (int)\n",
    "            name: Name des Studenten (str)\n",
    "        \"\"\"\n",
    "        self.mat_nr = mat_nr\n",
    "        self.name = name\n",
    "    \n",
    "    def get_mat_nr(self):\n",
    "        \"\"\"Get-Methode für das Matrikelnummer-Attribut\n",
    "\n",
    "        Returns:\n",
    "            int Matrikelnummer des Studenten\n",
    "        \"\"\"\n",
    "        return self.mat_nr\n",
    "    \n",
    "    def get_name(self):\n",
    "        \"\"\"Get-Methode für das Name-Attribut\n",
    "\n",
    "        Returns:\n",
    "            str Namen des Studenten\n",
    "        \"\"\"\n",
    "        return self.name\n",
    "    \n",
    "    def __str__(self):\n",
    "        \"\"\"String-Repräsentation eines Studenten\n",
    "\n",
    "        Returns:\n",
    "            str Matrikelnummer und name des Studenten\n",
    "        \"\"\"\n",
    "        return str(self.mat_nr) + \" \" + self.name"
   ]
  },
  {
   "cell_type": "markdown",
   "metadata": {
    "nbgrader": {
     "grade": false,
     "grade_id": "paul_desc_2",
     "locked": true,
     "solution": false
    },
    "slideshow": {
     "slide_type": "slide"
    }
   },
   "source": [
    "## a)\n",
    "Erstellen Sie eine Klasse `Vorlesung`, welche über die folgenden Methoden verfügt:\n",
    "\n",
    "- Einen Kontruktor, welcher die ID der Vorlesung (int), sowie den Namen der Vorlesung (str) übergeben bekommt.\n",
    "- `get_id`: Gibt die ID der Vorlesung zurück.\n",
    "- `get_name`: Gibt den Namen der Vorlesung zurück.\n",
    "- `add_student`: Registriert den übergebenen Studenten in der Vorlesung.\n",
    "- `has_student`: Gibt `True` zurück, falls sich ein Student mit der übergebenen Matrikelnummer in der Vorlesung registriert hat, ansonsten `False`. Sie dürfen davon ausgehen, dass sich jeder Student nur einmal für ein und dieselbe Vorlesung registriert.\n",
    "- `add_grade`: Setzt die Note des Studenten mit der übergebenen Matrikelnummer auf die übergebene Note. Sollte der Student bereits eine Note haben, so wird diese überschrieben. Wenn der Student nicht in der Vorlesung registriert ist, soll keine Aktion ausgeführt werden.\n",
    "- `get_grade`: Liefert die Note für diese Vorlesung, welche der Student mit der übergebenen Matrikelnummer erhalten hat. Falls die Matrikelnummer nicht in der Vorlesung registriert ist, soll `-1` zurückgegeben werden. Ist der Student zwar registriert, hat aber noch keine Note erhalten, wird `None` zurückgegeben.\n"
   ]
  },
  {
   "cell_type": "code",
   "execution_count": null,
   "metadata": {
    "collapsed": true,
    "nbgrader": {
     "grade": false,
     "grade_id": "paul_sol_1",
     "locked": false,
     "solution": true
    },
    "slideshow": {
     "slide_type": "subslide"
    }
   },
   "outputs": [],
   "source": [
    "class Vorlesung:\n",
    "    ### BEGIN SOLUTION\n",
    "    \"\"\"Eine Klasse mit Daten für eine Vorlesung\"\"\"\n",
    "    \n",
    "    def __init__(self, v_id, name):\n",
    "        \"\"\"Konstruktor\n",
    "\n",
    "        Args:\n",
    "            v_id: ID der Vorlesung (int)\n",
    "            name: Name der Vorlesung (str)\n",
    "        \"\"\"\n",
    "        self.v_id = v_id\n",
    "        self.name = name\n",
    "        self.studenten = {}\n",
    "        \n",
    "    def get_id(self):\n",
    "        \"\"\"Get-Methode für das v_id-Attribut\n",
    "\n",
    "        Returns:\n",
    "            int ID der Vorlesung\n",
    "        \"\"\"\n",
    "        return self.v_id\n",
    "    \n",
    "    def get_name(self):\n",
    "        \"\"\"Get-Methode für das name-Attribut\n",
    "\n",
    "        Returns:\n",
    "            str Name der Vorlesung\n",
    "        \"\"\"\n",
    "        return self.name\n",
    "    \n",
    "    def add_student(self, mat_nr):\n",
    "        \"\"\"Registriert Studenten mit der übergebenen Matrikelnummer in der Vorlesung\n",
    "        \n",
    "        Args:\n",
    "            mat_nr: Die Matrikelnummer des Studenten (int)\n",
    "        \"\"\"\n",
    "        self.studenten[mat_nr] = None\n",
    "        \n",
    "    def has_student(self, mat_nr):\n",
    "        \"\"\"Liefert True, falls sich ein Student mit der übergebenen Matrikelnummer in der Vorlesung registriert hat, \n",
    "        ansonsten False.\n",
    "        \n",
    "        Args:\n",
    "            mat_nr: Matrikelnummer des zu suchenden Studenten (int)\n",
    "            \n",
    "        Returns:\n",
    "            bool Suchergebnis als Wahrheitswert\n",
    "        \"\"\"\n",
    "        return mat_nr in self.studenten\n",
    "    \n",
    "    def add_grade(self, mat_nr, grade):\n",
    "        \"\"\"Setzt die Note des Studenten mit der übergebenen Matrikelnummer auf die übergebene Note. \n",
    "        Sollte der Student bereits eine Note haben, so wird diese überschrieben. Wenn der Student nicht in der Vorlesung \n",
    "        registriert ist, soll keine Aktion ausgeführt werden.\n",
    "        \n",
    "        Args:\n",
    "            mat_nr: Matrikelnummer des zu registrierenden Studenten (int)\n",
    "            grade: Note, welche für den Studenten eingetragen werden soll (float)\n",
    "        \"\"\"\n",
    "        if mat_nr in self.studenten:\n",
    "            self.studenten[mat_nr] = grade\n",
    "\n",
    "    def get_grade(self, mat_nr):\n",
    "        \"\"\"Liefert die Note für diese Vorlesung, welche der Student mit der übergebenen Matrikelnummer erhalten hat. \n",
    "        Falls die Matrikelnummer nicht in der Vorlesung registriert ist, soll -1 zurückgegeben werden. Ist der Student \n",
    "        zwar registriert, hat aber noch keine Note erhalten, wird None zurückgegeben.\n",
    "        \n",
    "        Returns:\n",
    "            float Note des Studenten, None oder -1\n",
    "        \"\"\"\n",
    "        if mat_nr in self.studenten:\n",
    "            return self.studenten[mat_nr]\n",
    "        return -1\n",
    "    ### END SOLUTION"
   ]
  },
  {
   "cell_type": "code",
   "execution_count": null,
   "metadata": {
    "collapsed": false,
    "nbgrader": {
     "grade": true,
     "grade_id": "paul_test_1_1",
     "locked": true,
     "points": 1,
     "solution": false
    },
    "slideshow": {
     "slide_type": "skip"
    }
   },
   "outputs": [],
   "source": [
    "# Diese Zelle bitte unverändert lassen!\n",
    "# Erstelle Studenten:\n",
    "studenten = [Student(9863451, \"Ralf B\"), Student(9863452, \"Jessica W\"), Student(9863453, \"Philipp K\"),\n",
    "             Student(9863454, \"Andrea B\"), Student(9863455, \"Sebastian A\"), Student(9863456, \"Luca B\")]\n",
    "\n",
    "# Erstelle Vorlesung:\n",
    "gp1 = Vorlesung(1, \"Grundlagen der Programmierung 1\")\n",
    "assert(gp1.get_id() == 1)\n",
    "assert(gp1.get_name() == \"Grundlagen der Programmierung 1\")\n",
    "\n",
    "# Füge Studenten zur Vorlesung hinzu:\n",
    "for s in studenten:\n",
    "    gp1.add_student(s.get_mat_nr())\n",
    "for s in studenten:\n",
    "    assert(gp1.has_student(s.get_mat_nr()))\n",
    "\n",
    "### HIDESTART\n",
    "# Erstelle Vorlesung:\n",
    "mod = Vorlesung(2, \"Modellierung\")\n",
    "assert(mod.get_id() == 2)\n",
    "assert(mod.get_name() == \"Modellierung\")\n",
    "\n",
    "# Füge Studenten zur Vorlesung hinzu:\n",
    "mod.add_student(studenten[0].get_mat_nr())\n",
    "mod.add_student(studenten[1].get_mat_nr())\n",
    "mod.add_student(studenten[2].get_mat_nr())\n",
    "\n",
    "assert(mod.has_student(studenten[0].get_mat_nr()))\n",
    "assert(mod.has_student(studenten[1].get_mat_nr()))\n",
    "assert(mod.has_student(studenten[2].get_mat_nr()))\n",
    "assert(not mod.has_student(studenten[3].get_mat_nr()))\n",
    "assert(not mod.has_student(studenten[4].get_mat_nr()))\n",
    "assert(not mod.has_student(studenten[5].get_mat_nr()))\n",
    "### HIDEEND"
   ]
  },
  {
   "cell_type": "code",
   "execution_count": null,
   "metadata": {
    "collapsed": false,
    "nbgrader": {
     "grade": true,
     "grade_id": "paul_test_1_2",
     "locked": true,
     "points": 2,
     "solution": false
    },
    "slideshow": {
     "slide_type": "skip"
    }
   },
   "outputs": [],
   "source": [
    "# Diese Zelle bitte unverändert lassen!\n",
    "# Verteile Noten:\n",
    "gp1.add_grade(studenten[0].get_mat_nr(), 1.0)\n",
    "gp1.add_grade(studenten[1].get_mat_nr(), 1.3)\n",
    "gp1.add_grade(studenten[2].get_mat_nr(), 3.0)\n",
    "gp1.add_grade(studenten[3].get_mat_nr(), 2.7)\n",
    "gp1.add_grade(studenten[4].get_mat_nr(), 1.3)\n",
    "\n",
    "assert(gp1.get_grade(studenten[0].get_mat_nr()) == 1.0)\n",
    "assert(gp1.get_grade(studenten[1].get_mat_nr()) == 1.3)\n",
    "assert(gp1.get_grade(studenten[2].get_mat_nr()) == 3.0)\n",
    "assert(gp1.get_grade(studenten[3].get_mat_nr()) == 2.7)\n",
    "assert(gp1.get_grade(studenten[4].get_mat_nr()) == 1.3)\n",
    "assert(gp1.get_grade(studenten[5].get_mat_nr()) == None) # hat noch keine Note erhalten\n",
    "\n",
    "# Ein nicht in der Vorlesung registrierter Student will eine Note haben:\n",
    "gp1.add_grade(1234567, 1.0) \n",
    "assert(gp1.get_grade(1234567) == -1) # Matrikelnummer nicht im Kurs vorhanden\n",
    "\n",
    "### HIDESTART\n",
    "assert(mod.get_grade(studenten[3].get_mat_nr()) == -1)\n",
    "assert(mod.get_grade(studenten[4].get_mat_nr()) == -1)\n",
    "assert(mod.get_grade(studenten[5].get_mat_nr()) == -1)\n",
    "### HIDEEND"
   ]
  },
  {
   "cell_type": "markdown",
   "metadata": {
    "nbgrader": {
     "grade": false,
     "grade_id": "paul_desc_3",
     "locked": true,
     "solution": false
    },
    "slideshow": {
     "slide_type": "slide"
    }
   },
   "source": [
    "## b)\n",
    "Ergänzen Sie nun die Klasse `PAUL`, welche über die folgenden Methoden verfügt:\n",
    "- `add_vorlesung`: Erstellt eine neue Vorlesung mit dem übergebenen Namen im System und liefert die ID der Vorlesung zurück. Die ID der Vorlesung ist gleich der Anzahl der bisherigen Aufrufe von `add_vorlesung` + 1, d.h. beim ersten Aufruf wird die ID `1` zurückgegeben (siehe Tests).\n",
    "- `add_student`: Erstellt einen neuen Studenten mit dem übergebenen Namen im System und liefert dessen Matrikelnummer zurück. Die Matrikelnummer des Studenten ist gleich der Anzahl der bisherigen Aufrufe von `add_student` + 1, d.h. beim ersten Aufruf wird die Matrikelnummer `1` zurückgegeben (siehe Tests).\n",
    "- `registriere_in_vorlesung`: Fügt den Studenten mit der übergebenen Matrikelnummer der Vorlesung mit der übergebenen ID hinzu. Sie können davon ausgehen, dass `registriere_student_in_vorlesung` niemals mehrfach für ein Paar (`matr_nr`, `v_id`) aufgerufen wird.\n",
    "- `get_studenten_in_vorlesung`: Liefert eine Liste, welche alle Matrikelnummern enthält, die in der Vorlesung mit der übergebenen ID registriert sind. Falls das System keine Vorlesung mit der übergebenen ID enthält, soll `None` zurückgegeben werden.\n",
    "- `get_vorlesung`: Liefert die Vorlesung mit der übergebenen ID als Objekt der Klasse `Vorlesung`. Ist keine solche Vorlesung im System gespeichert, soll `None` zurückgegeben werden.\n",
    "- `get_student`: Liefert den Studenten mit der übergebenen Matrikelnummer als Objekt der Klasse `Student`. Ist kein solcher Student im System gespeichert, soll `None` zurückgegeben werden.\n",
    "- `get_grades_for_student`: Liefert ein Dictionary mit allen Vorlesungen, in welcher der übergebene Student registriert ist und die entsprechenden Noten, die der Student für die Vorlesung erhalten hat.\n",
    "\n",
    "Eine beispielhafte Anwendung können Sie an den gegebenen Tests ablesen."
   ]
  },
  {
   "cell_type": "code",
   "execution_count": null,
   "metadata": {
    "collapsed": true,
    "nbgrader": {
     "grade": false,
     "grade_id": "paul_sol_2",
     "locked": false,
     "solution": true
    },
    "slideshow": {
     "slide_type": "subslide"
    }
   },
   "outputs": [],
   "source": [
    "class Paul:\n",
    "    ### BEGIN SOLUTION\n",
    "    \"\"\" Modelliert eine Art Benutzerschnittstelle zur Erstellung bzw. Verwaltung von Studenten und Vorlesungen \"\"\"\n",
    "            \n",
    "    def __init__(self):\n",
    "        \"\"\" Konstruktor \"\"\"\n",
    "        self.studenten = []\n",
    "        self.vorlesungen = []\n",
    "        \n",
    "    def add_vorlesung(self, name):\n",
    "        \"\"\"Erstellt eine neue Vorlesung mit dem übergebenen Namen im System und liefert die ID der Vorlesung zurück.\n",
    "\n",
    "        Args:\n",
    "            name: Name der Vorlesung (str)\n",
    "            \n",
    "        Returns:\n",
    "            (int) ID der Vorlesung\n",
    "        \"\"\"\n",
    "        v = Vorlesung(len(self.vorlesungen) + 1, name)\n",
    "        self.vorlesungen.append(v)\n",
    "        return len(self.vorlesungen)\n",
    "        \n",
    "    def add_student(self, name):\n",
    "        \"\"\"Erstellt einen neuen Studenten mit dem übergebenen Namen im System und liefert dessen Matrikelnummer zurück.\n",
    "\n",
    "        Args:\n",
    "            name: Name des Studenten (str)\n",
    "            \n",
    "        Returns:\n",
    "            (int) Matrikelnummer des Studenten\n",
    "        \"\"\"\n",
    "        s = Student(len(self.studenten) + 1, name)\n",
    "        self.studenten.append(s)\n",
    "        return len(self.studenten)\n",
    "    \n",
    "    def registriere_in_vorlesung(self, mat_nr, v_id):\n",
    "        \"\"\"Fügt den Studenten mit der übergebenen Matrikelnummer der Vorlesung mit der übergebenen ID hinzu. \n",
    "        Sie können davon ausgehen, dass registriere_student_in_vorlesung niemals mehrfach für ein Paar (matr_nr, v_id) \n",
    "        aufgerufen wird.\n",
    "\n",
    "        Args:\n",
    "            mat_nr: Matrikelnummer des zu registrierenden Studenten (int)\n",
    "            name: ID der Vorlesung, in welcher der Student registriert werden soll (str)\n",
    "        \"\"\"\n",
    "        if mat_nr <= len(self.studenten):\n",
    "            self.vorlesungen[v_id - 1].add_student(mat_nr)\n",
    "        \n",
    "    def get_studenten_in_vorlesung(self, v_id):\n",
    "        \"\"\"Liefert eine Liste, welche alle Matrikelnummern enthält, die in der Vorlesung mit der übergebenen ID \n",
    "        registriert sind. Falls das System keine Vorlesung mit der übergebenen ID enthält, soll None zurückgegeben werden.\n",
    "\n",
    "        Args:\n",
    "            v_id: ID der Vorlesung (int)\n",
    "        \n",
    "        Returns:\n",
    "            list Matrikelnummern aller Studenten, die in der Vorlesung registriert sind\n",
    "        \"\"\"\n",
    "        if v_id <= len(self.vorlesungen):\n",
    "            return list(self.vorlesungen[v_id - 1].studenten.keys())\n",
    "        return None\n",
    "    \n",
    "    def get_vorlesung(self, v_id):\n",
    "        \"\"\" Liefert die Vorlesung mit der übergebenen ID als Objekt der Klasse Vorlesung.\n",
    "        \n",
    "        Args:\n",
    "            v_id: ID der Vorlesung, welche gesucht ist\n",
    "        \"\"\"\n",
    "        if v_id <= len(self.vorlesungen):\n",
    "            return self.vorlesungen[v_id - 1]\n",
    "        return None\n",
    "    \n",
    "    def get_student(self, mat_nr):\n",
    "        \"\"\" Liefert den Studenten mit der übergebenen Matrikelnummer als Objekt der Klasse Student.\n",
    "        \n",
    "        Args:\n",
    "            mat_nr: Matrikelnummer des gesuchten Studenten\n",
    "        \"\"\"\n",
    "        if mat_nr <= len(self.studenten):\n",
    "            return self.studenten[mat_nr - 1]\n",
    "        return None\n",
    "\n",
    "    def get_grades_for_student(self, mat_nr):\n",
    "        \"\"\"Liefert ein Dictionary mit allen Vorlesungen, in welcher der übergebene Student registriert ist und \n",
    "        die entsprechenden Noten, die der Student für diese Vorlesungen erhalten hat.\n",
    "        \n",
    "        Args:\n",
    "            mat_nr: Matrikelnummer des Studenten (int)\n",
    "        \n",
    "        Returns:\n",
    "            dict Dictionary mit allen Noten für den gegebenen Studenten\n",
    "        \"\"\"\n",
    "        d = {}\n",
    "        for v in self.vorlesungen:\n",
    "            if v.has_student(mat_nr):\n",
    "                d[v.get_name()] = v.get_grade(mat_nr)\n",
    "        return d\n",
    "    ### END SOLUTION"
   ]
  },
  {
   "cell_type": "code",
   "execution_count": null,
   "metadata": {
    "collapsed": false,
    "nbgrader": {
     "grade": true,
     "grade_id": "paul_test_2_1",
     "locked": true,
     "points": 1,
     "solution": false
    },
    "slideshow": {
     "slide_type": "skip"
    }
   },
   "outputs": [],
   "source": [
    "# Diese Zelle bitte unverändert lassen!\n",
    "# Erstelle System:\n",
    "paul = Paul()\n",
    "\n",
    "# Füge Vorlesungen und Studenten hinzu:\n",
    "gp1_id = paul.add_vorlesung(\"Grundlagen der Programmierung 1\")\n",
    "mod_id = paul.add_vorlesung(\"Modellierung\")\n",
    "assert(gp1_id == 1)\n",
    "assert(mod_id == 2)\n",
    "matrikelnummern = [paul.add_student(\"Ralf B\") ,paul.add_student(\"Jessica W\") ,paul.add_student(\"Philipp K\")]\n",
    "assert(matrikelnummern[0] == 1 and matrikelnummern[1] == 2 and matrikelnummern[2] == 3)\n",
    "\n",
    "assert(paul.get_student(matrikelnummern[0]).get_name() == 'Ralf B')\n",
    "assert(paul.get_student(matrikelnummern[1]).get_name() == 'Jessica W')\n",
    "assert(paul.get_student(matrikelnummern[2]).get_name() == 'Philipp K')\n",
    "\n",
    "# Registriere Studenten in Vorlesung:\n",
    "paul.registriere_in_vorlesung(matrikelnummern[0], 1)\n",
    "paul.registriere_in_vorlesung(matrikelnummern[1], 1)\n",
    "paul.registriere_in_vorlesung(matrikelnummern[2], 1)\n",
    "\n",
    "paul.registriere_in_vorlesung(matrikelnummern[0], 2)\n",
    "paul.registriere_in_vorlesung(matrikelnummern[1], 2)\n",
    "paul.registriere_in_vorlesung(matrikelnummern[2], 2)\n",
    "\n",
    "assert(1 in paul.get_studenten_in_vorlesung(1))\n",
    "assert(2 in paul.get_studenten_in_vorlesung(1))\n",
    "assert(3 in paul.get_studenten_in_vorlesung(1))\n",
    "\n",
    "assert(1 in paul.get_studenten_in_vorlesung(2))\n",
    "assert(2 in paul.get_studenten_in_vorlesung(2))\n",
    "assert(3 in paul.get_studenten_in_vorlesung(2))\n",
    "\n",
    "### HIDESTART\n",
    "dua_id = paul.add_vorlesung(\"Datenstrukturen und Algorithmen\")\n",
    "assert(dua_id == 3)\n",
    "andrea_id = paul.add_student(\"Andrea B\")\n",
    "assert(paul.get_student(andrea_id).get_name() == 'Andrea B')\n",
    "assert(andrea_id == 4)\n",
    "paul.registriere_in_vorlesung(andrea_id, 3)\n",
    "assert(paul.get_studenten_in_vorlesung(3) == [andrea_id])\n",
    "### HIDEEND"
   ]
  },
  {
   "cell_type": "code",
   "execution_count": null,
   "metadata": {
    "collapsed": false,
    "nbgrader": {
     "grade": true,
     "grade_id": "paul_test_2_2",
     "locked": true,
     "points": 2,
     "solution": false
    },
    "slideshow": {
     "slide_type": "skip"
    }
   },
   "outputs": [],
   "source": [
    "# Diese Zelle bitte unverändert lassen!\n",
    "# Füge Noten hinzu:\n",
    "paul.get_vorlesung(1).add_grade(matrikelnummern[0], 3.0)\n",
    "paul.get_vorlesung(1).add_grade(matrikelnummern[1], 1.3)\n",
    "paul.get_vorlesung(1).add_grade(matrikelnummern[2], 2.0)\n",
    "\n",
    "paul.get_vorlesung(2).add_grade(matrikelnummern[0], 5.0)\n",
    "paul.get_vorlesung(2).add_grade(matrikelnummern[1], 2.3)\n",
    "assert(paul.get_grades_for_student(matrikelnummern[0]) == {'Grundlagen der Programmierung 1': 3.0, 'Modellierung': 5.0})\n",
    "assert(paul.get_grades_for_student(matrikelnummern[1]) == {'Grundlagen der Programmierung 1': 1.3, 'Modellierung': 2.3})\n",
    "assert(paul.get_grades_for_student(matrikelnummern[2]) == {'Grundlagen der Programmierung 1': 2.0, 'Modellierung': None})\n",
    "\n",
    "### HIDESTART\n",
    "paul.get_vorlesung(3).add_grade(andrea_id, 2.0)\n",
    "assert(paul.get_grades_for_student(andrea_id) == {'Datenstrukturen und Algorithmen': 2.0})\n",
    "### HIDEEND"
   ]
  },
  {
   "cell_type": "code",
   "execution_count": null,
   "metadata": {
    "collapsed": false,
    "nbgrader": {
     "grade": true,
     "grade_id": "doc_test",
     "locked": true,
     "points": 1,
     "solution": false
    },
    "slideshow": {
     "slide_type": "skip"
    }
   },
   "outputs": [],
   "source": [
    "# Diese Zelle bitte unverändert lassen!\n",
    "# Alle Dokumentationen vorhanden? \n",
    "\n",
    "# Aufgabe 1\n",
    "assert(s_verbinder.__doc__ != None)\n",
    "assert(s_suche.__doc__ != None)\n",
    "assert(split_3.__doc__ != None)\n",
    "\n",
    "# Aufgabe 3\n",
    "assert(Vector.__doc__ != None)\n",
    "assert(Vector.__init__.__doc__ != None)\n",
    "assert(Vector.__setitem__.__doc__ != None)\n",
    "assert(Vector.__getitem__.__doc__ != None)\n",
    "assert(Vector.add.__doc__ != None)\n",
    "assert(Vector.difference.__doc__ != None)\n",
    "assert(Vector.dot.__doc__ != None)\n",
    "assert(Vector.norm.__doc__ != None)\n",
    "\n",
    "# Aufgabe 4\n",
    "assert(Vorlesung.__doc__ != None)\n",
    "assert(Vorlesung.__init__.__doc__ != None)\n",
    "assert(Vorlesung.get_id.__doc__ != None)\n",
    "assert(Vorlesung.get_name.__doc__ != None)\n",
    "assert(Vorlesung.add_student.__doc__ != None)\n",
    "assert(Vorlesung.has_student.__doc__ != None)\n",
    "assert(Vorlesung.add_grade.__doc__ != None)\n",
    "assert(Vorlesung.get_grade.__doc__ != None)\n",
    "assert(Paul.__doc__ != None)\n",
    "assert(Paul.add_vorlesung.__doc__ != None)\n",
    "assert(Paul.add_student.__doc__ != None)\n",
    "assert(Paul.registriere_in_vorlesung.__doc__ != None)\n",
    "assert(Paul.get_studenten_in_vorlesung.__doc__ != None)\n",
    "assert(Paul.get_vorlesung.__doc__ != None)\n",
    "assert(Paul.get_grades_for_student.__doc__ != None)"
   ]
  }
 ],
 "metadata": {
  "anaconda-cloud": {},
  "celltoolbar": "Create Assignment",
  "kernelspec": {
   "display_name": "Python [default]",
   "language": "python",
   "name": "python3"
  },
  "language_info": {
   "codemirror_mode": {
    "name": "ipython",
    "version": 3
   },
   "file_extension": ".py",
   "mimetype": "text/x-python",
   "name": "python",
   "nbconvert_exporter": "python",
   "pygments_lexer": "ipython3",
   "version": "3.5.2"
  }
 },
 "nbformat": 4,
 "nbformat_minor": 1
}
