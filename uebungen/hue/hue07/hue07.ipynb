{
 "cells": [
  {
   "cell_type": "markdown",
   "metadata": {
    "nbgrader": {
     "grade": true,
     "grade_id": "matrikel",
     "locked": false,
     "solution": true
    }
   },
   "source": [
    "Bitte hier eintragen (s.u)!"
   ]
  },
  {
   "cell_type": "markdown",
   "metadata": {
    "nbgrader": {
     "grade": false,
     "grade_id": "matrikel_info",
     "locked": true,
     "solution": false
    }
   },
   "source": [
    "## Bitte tragen Sie Ihre Matrikelnummern und E-Mail-Adressen *zeilenweise* in die Zelle *oberhalb* dieser Zelle ein.\n",
    "Beachten Sie: Die Abgabe muss mit Ihrem *Gruppenaccount* erfolgen, den Sie in der Präsenzübung erhalten haben! Abgaben, die über Ihren Einzelaccount erfolgen, werden ignoriert. \n",
    "Achten Sie dabei streng auf die Formatierung, denn die Auswertung erfolgt automatisch. \n",
    "Benutzen Sie *keine* Leerzeilen.\n",
    "Nur zwischen Matrikelnummer und E-Mail-Adresse darf ein Leerzeichen stehen.\n",
    "\n",
    "Format:\n",
    "\n",
    "MatrikelNummer E-Mail-Adresse\n",
    "\n",
    "z.B.:\n",
    "\n",
    "123456 testStudent@mail.upb.de\n",
    "\n",
    "### Abgabetermin: 11.12.2016 um 23:59 Uhr\n",
    "### Wichtig: Geben Sie Ihre Lösung in der vom Server erhaltenen Datei hue06.ipynb ab (nicht umbenennen, keine Kopie erstellen!). Sonst kann eine Bewertung nicht stattfinden."
   ]
  },
  {
   "cell_type": "markdown",
   "metadata": {
    "nbgrader": {
     "grade": false,
     "grade_id": "string_desc_1",
     "locked": true,
     "solution": false
    }
   },
   "source": [
    "# Aufgabe 1: String-API (6 Punkte)\n",
    "Diese Aufgabe lässt sich eventuell einfacher mithilfe der Python-Dokumentation lösen:\n",
    "https://docs.python.org/3/library/stdtypes.html.\n",
    "\n",
    "a) Schreiben Sie eine Funktion `s_verbinder(l,z)`, welches eine Liste mit Strings `l` zu einem einzigen String verbindet, wobei zwischen die einzelnen Listenelemente jeweils das Zeichen `z` eingefügt werden soll."
   ]
  },
  {
   "cell_type": "code",
   "execution_count": null,
   "metadata": {
    "collapsed": false,
    "nbgrader": {
     "grade": false,
     "grade_id": "string_sol_1",
     "locked": false,
     "solution": true
    }
   },
   "outputs": [],
   "source": [
    "def s_verbinder(l,z):\n",
    "    # Your Code here\n",
    "    ### BEGIN SOLUTION\n",
    "    return z.join(l)\n",
    "    ### END SOLUTION"
   ]
  },
  {
   "cell_type": "code",
   "execution_count": null,
   "metadata": {
    "collapsed": false,
    "nbgrader": {
     "grade": true,
     "grade_id": "string_test_1",
     "locked": true,
     "points": 1,
     "solution": false
    }
   },
   "outputs": [],
   "source": [
    "assert(s_verbinder(['1','2','3','4'], '-') == '1-2-3-4')\n",
    "### HIDESTART\n",
    "assert(s_verbinder(['a','b','c','d'], '-') == 'a-b-c-d')\n",
    "### HIDEEND"
   ]
  },
  {
   "cell_type": "markdown",
   "metadata": {
    "nbgrader": {
     "grade": false,
     "grade_id": "string_desc_2",
     "locked": true,
     "solution": false
    }
   },
   "source": [
    "b) Schreiben Sie eine Funktion `s_suche(s1,s2)`, welche den niedrigsten Index ausgibt, an welcher der String `s2` in `s1` auftaucht."
   ]
  },
  {
   "cell_type": "code",
   "execution_count": null,
   "metadata": {
    "collapsed": false,
    "nbgrader": {
     "grade": false,
     "grade_id": "string_sol_2",
     "locked": false,
     "solution": true
    }
   },
   "outputs": [],
   "source": [
    "def s_suche(s1,s2):\n",
    "    # Your Code here\n",
    "    ### BEGIN SOLUTION\n",
    "    return s1.find(s2)\n",
    "    ### END SOLUTION"
   ]
  },
  {
   "cell_type": "code",
   "execution_count": null,
   "metadata": {
    "collapsed": false,
    "nbgrader": {
     "grade": true,
     "grade_id": "string_test_2",
     "locked": true,
     "points": 1,
     "solution": false
    }
   },
   "outputs": [],
   "source": [
    "assert(s_suche('Test', 'T') == 0)\n",
    "assert(s_suche('Test', 'e') == 1)\n",
    "assert(s_suche('Test', 's') == 2)\n",
    "assert(s_suche('Test', 't') == 3)\n",
    "assert(s_suche('Test', 'es') == 1)\n",
    "### HIDESTART\n",
    "assert(s_suche('Grundlagen der Programmierung', 'der') == 11)\n",
    "assert(s_suche('Grundlagen der Programmierung', 'P') == 15)\n",
    "### HIDEEND"
   ]
  },
  {
   "cell_type": "markdown",
   "metadata": {
    "nbgrader": {
     "grade": false,
     "grade_id": "string_desc_3",
     "locked": true,
     "solution": false
    }
   },
   "source": [
    "c) Schreiben Sie eine Funktion `s_klein(s)`, welche alle Großbuchstaben im string `s` durch entsprechende Kleinbuchstaben ersetzt."
   ]
  },
  {
   "cell_type": "code",
   "execution_count": null,
   "metadata": {
    "collapsed": false,
    "nbgrader": {
     "grade": false,
     "grade_id": "string_sol_3",
     "locked": false,
     "solution": true
    }
   },
   "outputs": [],
   "source": [
    "def s_klein(s):\n",
    "    # Your Code here\n",
    "    ### BEGIN SOLUTION\n",
    "    return s.lower()\n",
    "    ### END SOLUTION"
   ]
  },
  {
   "cell_type": "code",
   "execution_count": null,
   "metadata": {
    "collapsed": false,
    "nbgrader": {
     "grade": true,
     "grade_id": "string_test_3",
     "locked": true,
     "points": 1,
     "solution": false
    }
   },
   "outputs": [],
   "source": [
    "assert(s_klein('Hallo Welt!') == 'hallo welt!')\n",
    "### HIDESTART\n",
    "assert(s_klein('Dies ist ein geHEimer Satz.') == 'dies ist ein geheimer satz.')\n",
    "### HIDEEND"
   ]
  },
  {
   "cell_type": "markdown",
   "metadata": {
    "nbgrader": {
     "grade": false,
     "grade_id": "string_desc_4",
     "locked": true,
     "solution": false
    }
   },
   "source": [
    "d) Schreiben Sie eine Funktion `s_special_substitution(s)`, welche für einen string `s` sowohl den ersten Buchstaben, als auch alle Buchstaben, welche auf ein Leerzeichen folgen, groß schreibt."
   ]
  },
  {
   "cell_type": "code",
   "execution_count": null,
   "metadata": {
    "collapsed": false,
    "nbgrader": {
     "grade": false,
     "grade_id": "string_sol_4",
     "locked": false,
     "solution": true
    }
   },
   "outputs": [],
   "source": [
    "def s_special_substitution(s):\n",
    "    # Your Code here\n",
    "    ### BEGIN SOLUTION\n",
    "    return s.title()\n",
    "    ### END SOLUTION"
   ]
  },
  {
   "cell_type": "code",
   "execution_count": null,
   "metadata": {
    "collapsed": false,
    "nbgrader": {
     "grade": true,
     "grade_id": "string_test_4",
     "locked": true,
     "points": 0,
     "solution": false
    }
   },
   "outputs": [],
   "source": [
    "assert(s_special_substitution('Der Typ string für Zeichenketten ist als eine Klasse definiert.') == \n",
    "       'Der Typ String Für Zeichenketten Ist Als Eine Klasse Definiert.')\n",
    "### HIDESTART\n",
    "assert(s_special_substitution('Dies ist ein geheimer Satz.') == \n",
    "       'Dies Ist Ein Geheimer Satz.')\n",
    "### HIDEEND"
   ]
  },
  {
   "cell_type": "markdown",
   "metadata": {
    "nbgrader": {
     "grade": false,
     "grade_id": "string_desc_5",
     "locked": true,
     "solution": false
    }
   },
   "source": [
    "e) Schreiben Sie eine Funktion `get_words(s)`, welche für einen string `s` eine Liste mit den einzelnen Wörtern von `s` zurückgibt."
   ]
  },
  {
   "cell_type": "code",
   "execution_count": null,
   "metadata": {
    "collapsed": true,
    "nbgrader": {
     "grade": false,
     "grade_id": "string_sol_5",
     "locked": false,
     "solution": true
    }
   },
   "outputs": [],
   "source": [
    "def get_words(s):\n",
    "    # Your Code here\n",
    "    ### BEGIN SOLUTION\n",
    "    return s.split(\" \")\n",
    "    ### END SOLUTION"
   ]
  },
  {
   "cell_type": "code",
   "execution_count": null,
   "metadata": {
    "collapsed": false,
    "nbgrader": {
     "grade": true,
     "grade_id": "string_test_5",
     "locked": true,
     "points": 0,
     "solution": false
    }
   },
   "outputs": [],
   "source": [
    "assert(get_words('Grundlagen der Programmierung') == ['Grundlagen', 'der', 'Programmierung'])\n",
    "assert(get_words('Der Typ string für Zeichenketten ist als eine Klasse definiert.') ==\n",
    "       ['Der', 'Typ', 'string', 'für', 'Zeichenketten', 'ist', 'als', 'eine', 'Klasse', 'definiert.'])\n",
    "### HIDESTART\n",
    "assert(get_words('Dies ist ein geheimer Satz.') == ['Dies', 'ist', 'ein', 'geheimer', 'Satz.'])\n",
    "### HIDEEND"
   ]
  },
  {
   "cell_type": "markdown",
   "metadata": {
    "nbgrader": {
     "grade": false,
     "grade_id": "string_desc_6",
     "locked": true,
     "solution": false
    }
   },
   "source": [
    "f) Schreiben Sie eine Funktion `split_3(s)`, welche einen string `s` an dem ersten Index `i` aufteilt, an welcher ein Punkt ('.') vorkommt. Es soll ein Triple `(s_links, i, s_rechts)` zurückgegeben werden, wobei `s_links` der Teilstring von `s` ist, welcher alle Zeichen links von `s[i]` enthält und `s_rechts`der Teilstring von `s` ist, welcher alle Zeichen rechts von `s[i]` enthält."
   ]
  },
  {
   "cell_type": "code",
   "execution_count": null,
   "metadata": {
    "collapsed": true,
    "nbgrader": {
     "grade": false,
     "grade_id": "string_sol_6",
     "locked": false,
     "solution": true
    }
   },
   "outputs": [],
   "source": [
    "def split_3(s):\n",
    "    # Your Code here\n",
    "    ### BEGIN SOLUTION\n",
    "    l = s.partition('.')\n",
    "    sol = (l[0], s.index('.'), l[2])\n",
    "    return sol\n",
    "    ### END SOLUTION"
   ]
  },
  {
   "cell_type": "code",
   "execution_count": null,
   "metadata": {
    "collapsed": false,
    "nbgrader": {
     "grade": true,
     "grade_id": "string_test_6",
     "locked": true,
     "points": 0,
     "solution": false
    }
   },
   "outputs": [],
   "source": [
    "assert(split_3('Dies ist ein Satz. Dies ist noch ein Satz.') == ('Dies ist ein Satz', 17, ' Dies ist noch ein Satz.'))\n",
    "### HIDESTART\n",
    "assert(split_3('Dies ist ein geheimer Satz. Dies ist noch ein geheimer Satz.') == ('Dies ist ein geheimer Satz', 26, ' Dies ist noch ein geheimer Satz.'))\n",
    "### HIDEEND"
   ]
  },
  {
   "cell_type": "code",
   "execution_count": 17,
   "metadata": {
    "collapsed": false,
    "nbgrader": {
     "grade": false,
     "grade_id": "tests",
     "locked": false,
     "solution": true
    }
   },
   "outputs": [
    {
     "name": "stdout",
     "output_type": "stream",
     "text": [
      "==:\n",
      "True\n",
      "True\n",
      "True\n",
      "is:\n",
      "True\n",
      "False\n",
      "False\n"
     ]
    }
   ],
   "source": [
    "class Ellipse:\n",
    "    def __init__(s, x, y, a1, a2):\n",
    "        s.x = x\n",
    "        s.y = y\n",
    "        s.achse1 = a1\n",
    "        s.achse2 = a2\n",
    "        \n",
    "    def __eq__(s, otherEllipse):\n",
    "        return (s.x == otherEllipse.x and s.y == otherEllipse.y and s.achse1 == otherEllipse.achse1 and \n",
    "                s.achse2 == otherEllipse.achse2)\n",
    "\n",
    "e1 = Ellipse(0, 1, 2, 3)\n",
    "e2 = e1\n",
    "e3 = Ellipse(0, 1, 2, 3)\n",
    "\n",
    "print(\"==:\")\n",
    "print(e1 == e2)\n",
    "print(e1 == e3)\n",
    "print(e2 == e3)\n",
    "\n",
    "print(\"is:\")\n",
    "print(e1 is e2)\n",
    "print(e1 is e3)\n",
    "print(e2 is e3)"
   ]
  },
  {
   "cell_type": "code",
   "execution_count": 20,
   "metadata": {
    "collapsed": false,
    "nbgrader": {
     "grade": false,
     "grade_id": "ascsac",
     "locked": false,
     "solution": true
    }
   },
   "outputs": [
    {
     "name": "stdout",
     "output_type": "stream",
     "text": [
      "26\n"
     ]
    }
   ],
   "source": [
    "class Patient(object):\n",
    "    def __init__(self, name, alter):\n",
    "        self.name = name\n",
    "        self.alter = alter\n",
    "    \n",
    "    def getName(self):\n",
    "        return self.name\n",
    "    \n",
    "    def getAlter(s):\n",
    "        return s.alter\n",
    "\n",
    "patient = Patient(\"Michael\", 26)\n",
    "print(patient.getAlter())"
   ]
  }
 ],
 "metadata": {
  "anaconda-cloud": {},
  "celltoolbar": "Create Assignment",
  "kernelspec": {
   "display_name": "Python [default]",
   "language": "python",
   "name": "python3"
  },
  "language_info": {
   "codemirror_mode": {
    "name": "ipython",
    "version": 3
   },
   "file_extension": ".py",
   "mimetype": "text/x-python",
   "name": "python",
   "nbconvert_exporter": "python",
   "pygments_lexer": "ipython3",
   "version": "3.5.2"
  }
 },
 "nbformat": 4,
 "nbformat_minor": 1
}
