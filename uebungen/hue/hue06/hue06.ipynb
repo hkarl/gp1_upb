{
 "cells": [
  {
   "cell_type": "markdown",
   "metadata": {
    "nbgrader": {
     "grade": true,
     "grade_id": "matrikel",
     "locked": false,
     "solution": true
    }
   },
   "source": [
    "Bitte hier eintragen (s.u)!"
   ]
  },
  {
   "cell_type": "markdown",
   "metadata": {
    "nbgrader": {
     "grade": false,
     "grade_id": "matrikel_info",
     "locked": true,
     "solution": false
    }
   },
   "source": [
    "# Abgabehinweise \n",
    "\n",
    "Beachten Sie unbedingt diese Hinweise, sonst erhalten Sie keine Punkte aus dieser Abgabe! Für Details siehe z.B. [Folien der nullten Zentralübung](http://groups.uni-paderborn.de/fg-karl/lehre/ws1617/gp1/hue/gp1-zue0.pdf)\n",
    "\n",
    "## Namen und Matrikelnummern \n",
    "\n",
    "Tragen Sie Ihre Matrikelnummern und E-Mail-Adressen *zeilenweise* in die Zelle *oberhalb* dieser Zelle ein.\n",
    "Achten Sie dabei streng auf die Formatierung, denn die Auswertung erfolgt automatisch. \n",
    "Benutzen Sie *keine* Leerzeilen.\n",
    "Zwischen Matrikelnummer und E-Mail-Adresse *muss genau ein* Leerzeichen stehen; sonst keine Leerzeichen, Tabs, Spiegelstriche, oder ähnliches in einer Zeile. Wir empfehlen *dringend* die Benutzung der Uni-Paderborn E-Mail-Adressen! \n",
    "\n",
    "Format:\n",
    "\n",
    "MatrikelNummer E-Mail-Adresse\n",
    "\n",
    "z.B.:\n",
    "\n",
    "123456 testStudent@mail.upb.de\n",
    "\n",
    "## Abgabe mit Gruppenaccount \n",
    "\n",
    "Die Abgabe muss mit Ihrem *Gruppenaccount* erfolgen (gp1\\_16\\_...), den Sie in der Präsenzübung erhalten haben! Abgaben, die über Ihren Einzelaccount erfolgen, werden ignoriert. \n",
    "\n",
    "## Abgabe: Submit \n",
    "\n",
    "Es reicht nicht, nur das Übungsblatt zu verändern. Sie müssen unter *Assignments* auf *Submit* clicken (oder entsprechend über die Kommandozeile). Für Details siehe Beschreibung Abgabeprozess. \n",
    "\n",
    "## Dateinamen\n",
    "\n",
    "Geben Sie Ihre Lösung in der vom Server erhaltenen Datei hue06.ipynb ab (nicht umbenennen, keine Kopie erstellen!). Sonst kann eine Bewertung nicht stattfinden.\n",
    "\n",
    "## Struktur des Notebooks \n",
    "\n",
    "Fügen Sie keine Zellen hinzu und löschen Sie keine Zellen.\n",
    "Ändern Sie nicht den Typ einer Zelle.\n",
    "Geben Sie Lösungen nur in den Lösungszellen ab. Änderungen in den anderen Zellen werden nach Abgabe automatisch rückgängig gemacht.\n",
    "\n",
    "## Code-Zellen \n",
    "\n",
    "Entfernen Sie  die Zeilen mit Inhalt \"raise NotImplementedError()\" aus den Zellen, in die Sie Ihre Lösungen schreiben. *Ersetzen* Sie diese Zeilen durch Ihre eigene Lösungen. \n",
    "\n",
    "## Kommentare (1 Punkt!)\n",
    "\n",
    "Kommentieren Sie Code-Abgaben! Insbesondere muss jede Funktion (Klasse, Methode, ...) einen ```docstring``` haben! Das Vorhandensein von ```docstrings``` auf allen Code-Abgaben wird mit einem Punkt gewertet!\n",
    "\n",
    "\n",
    "# Abgabetermin: 11.12.2016 um 23:59 Uhr\n",
    "\n"
   ]
  },
  {
   "cell_type": "markdown",
   "metadata": {
    "nbgrader": {
     "grade": false,
     "grade_id": "transformation_desc_1",
     "locked": true,
     "solution": false
    }
   },
   "source": [
    "# Aufgabe 1: Rekursive Funktion umwandeln (3 Punkte)\n",
    "Gegeben ist die folgende (rekursive) Funktion `berechne_rekursiv`, welche eine natürliche Zahl `zahl` als Funktionsparameter übergeben bekommt."
   ]
  },
  {
   "cell_type": "code",
   "execution_count": 12,
   "metadata": {
    "collapsed": true,
    "nbgrader": {
     "grade": false,
     "grade_id": "transformation_desc_2",
     "locked": true,
     "solution": false
    }
   },
   "outputs": [],
   "source": [
    "def berechne_rekursiv(zahl):\n",
    "    \"\"\"Eine rekursive Funktion, welche entweder True oder False ausgibt.\n",
    "   \n",
    "    Args: \n",
    "        zahl (int): eine natürliche Zahl\n",
    "    Returns: \n",
    "        bool: siehe Teilaufgabe b)\n",
    "    \"\"\"\n",
    "\n",
    "    if zahl == 3 or zahl == 6 or zahl == 9:\n",
    "        return True\n",
    "    if zahl < 10:\n",
    "        return False\n",
    "    sZahl = str(zahl)\n",
    "    qSum = 0\n",
    "    for s in sZahl:\n",
    "        qSum = qSum + int(s)\n",
    "    return berechne_rekursiv(qSum)"
   ]
  },
  {
   "cell_type": "markdown",
   "metadata": {
    "nbgrader": {
     "grade": false,
     "grade_id": "transformation_desc_3",
     "locked": true,
     "solution": false
    }
   },
   "source": [
    "### a) (2 Punkte)\n",
    "Wandeln Sie diese rekursive Funktion in eine iterative um, indem Sie eine Funktion `berechne_iterativ` implementieren. Beide Funktionen sollen äquivalent in ihrer Ausgabe sein, d.h. für eine natürliche Zahl `z` soll `berechne_rekursiv(z) == berechne_iterativ(z)` gelten (siehe Tests). "
   ]
  },
  {
   "cell_type": "code",
   "execution_count": 19,
   "metadata": {
    "collapsed": false,
    "nbgrader": {
     "grade": false,
     "grade_id": "transformation_sol_1",
     "locked": false,
     "solution": true
    }
   },
   "outputs": [],
   "source": [
    "def berechne_iterativ(zahl):\n",
    "    # YOUR CODE HERE\n",
    "    ### BEGIN SOLUTION\n",
    "    \"\"\"Eine iterative Funktion, welche entweder True oder False ausgibt.\n",
    "   \n",
    "    Args: \n",
    "        zahl (int): eine natürliche Zahl\n",
    "    Returns: \n",
    "        bool: siehe Teilaufgabe b)\n",
    "    \"\"\"\n",
    "    while zahl >= 10:\n",
    "        qSum = 0\n",
    "        sZahl = str(zahl)\n",
    "        for s in sZahl:\n",
    "            qSum = qSum + int(s)\n",
    "        zahl = qSum\n",
    "        \n",
    "    if zahl == 3 or zahl == 6 or zahl == 9:\n",
    "        return True\n",
    "    return False\n",
    "    ### END SOLUTION"
   ]
  },
  {
   "cell_type": "code",
   "execution_count": 20,
   "metadata": {
    "collapsed": false,
    "nbgrader": {
     "grade": true,
     "grade_id": "transformation_test_1",
     "locked": true,
     "points": 2,
     "solution": false
    }
   },
   "outputs": [],
   "source": [
    "z = 102064321020643210206432\n",
    "assert(berechne_rekursiv(z) == berechne_iterativ(z))\n",
    "z = z - 1\n",
    "assert(berechne_rekursiv(z) == berechne_iterativ(z))\n",
    "z = z - 1\n",
    "assert(berechne_rekursiv(z) == berechne_iterativ(z))\n",
    "z = z - 1\n",
    "assert(berechne_rekursiv(z) == berechne_iterativ(z))"
   ]
  },
  {
   "cell_type": "markdown",
   "metadata": {
    "nbgrader": {
     "grade": false,
     "grade_id": "transformation_desc_4",
     "locked": true,
     "solution": false
    }
   },
   "source": [
    "### b) (1 Punkt)\n",
    "Welche Eigenschaft müssen die an die Funktionen `berechne_rekursiv` bzw. `berechne_iterativ` übergebenen Zahlen haben, damit `True` zurückgegeben wird?"
   ]
  },
  {
   "cell_type": "markdown",
   "metadata": {
    "nbgrader": {
     "grade": true,
     "grade_id": "transformation_sol_2",
     "locked": false,
     "points": 1,
     "solution": true
    }
   },
   "source": [
    "### BEGIN SOLUTION\n",
    "Die Zahl muss durch 3 teilbar sein!\n",
    "### END SOLUTION"
   ]
  },
  {
   "cell_type": "markdown",
   "metadata": {
    "nbgrader": {
     "grade": false,
     "grade_id": "rekursion_desc_0",
     "locked": true,
     "solution": false
    }
   },
   "source": [
    "# Aufgabe 2: Rekursion (8 Punkte)\n",
    "### a) (1 Punkt)\n",
    "Gegeben sind die folgenden Funktionen `f` und `g` in Python:\n",
    "```Python\n",
    "def f(a):\n",
    "    if a == 0:\n",
    "        print('f')\n",
    "    else:\n",
    "        g(a)\n",
    "        \n",
    "def g(a):\n",
    "    if a < 0:\n",
    "        f(a+1)\n",
    "    elif a > 0:\n",
    "        print('g')\n",
    "        f(a-1)\n",
    "```\n",
    "\n",
    "Geben Sie für den Aufruf `f(3)` die Folge der Funktionsaufrufe von `f` und `g` an sowie die Ausgabe des Programms.   "
   ]
  },
  {
   "cell_type": "markdown",
   "metadata": {
    "nbgrader": {
     "grade": true,
     "grade_id": "rekursion_sol_1",
     "locked": false,
     "points": 1,
     "solution": true
    }
   },
   "source": [
    "Funktionsaufrufe: $f(3) \\rightarrow g(3) \\rightarrow f(2) \\rightarrow g(2) \\rightarrow f(1) \\rightarrow g(1) \\rightarrow f(0)$   \n",
    "Ausgabe:   \n",
    "`g`   \n",
    "`g`   \n",
    "`g`   \n",
    "`f`"
   ]
  },
  {
   "cell_type": "markdown",
   "metadata": {
    "nbgrader": {
     "grade": false,
     "grade_id": "rekursion_desc_2",
     "locked": true,
     "solution": false
    }
   },
   "source": [
    "### b) (1 Punkt)\n",
    "Schreiben Sie eine *rekursive* Funktion `anz_ziffern(x)`, welche für eine übergebene natürliche Zahl `x` die Anzahl der Ziffern von `x` zurückgibt. Sehen Sie sich die gegebenen Tests an für Beispiele.   "
   ]
  },
  {
   "cell_type": "code",
   "execution_count": 21,
   "metadata": {
    "collapsed": true,
    "nbgrader": {
     "grade": false,
     "grade_id": "rekursion_sol_2",
     "locked": false,
     "solution": true
    }
   },
   "outputs": [],
   "source": [
    "def anz_ziffern(x):\n",
    "    # YOUR CODE HERE\n",
    "    ### BEGIN SOLUTION\n",
    "    \"\"\"Gibt für die übergebene natürliche Zahl die Anzahl ihrer Ziffern zurück.\n",
    "   \n",
    "    Args: \n",
    "        x (int): eine natürliche Zahl\n",
    "    Returns: \n",
    "        int: die Anzahl der Ziffern von x\n",
    "    \"\"\"\n",
    "    \n",
    "    if x // 10 == 0:\n",
    "        return 1\n",
    "    return anz_ziffern(x//10) + 1\n",
    "    ### END SOLUTION"
   ]
  },
  {
   "cell_type": "code",
   "execution_count": 5,
   "metadata": {
    "collapsed": false,
    "nbgrader": {
     "grade": true,
     "grade_id": "rekursion_test_2",
     "locked": true,
     "points": 1,
     "solution": false
    }
   },
   "outputs": [],
   "source": [
    "assert(anz_ziffern(2) == 1)\n",
    "assert(anz_ziffern(42) == 2)\n",
    "assert(anz_ziffern(873246187456216) == 15)\n",
    "### HIDESTART\n",
    "l = [10**x for x in range(10)]\n",
    "for i in l:\n",
    "    assert(anz_ziffern(i) == l.index(i)+1)\n",
    "### HIDEEND"
   ]
  },
  {
   "cell_type": "markdown",
   "metadata": {
    "nbgrader": {
     "grade": false,
     "grade_id": "rekursion_desc_3",
     "locked": true,
     "solution": false
    }
   },
   "source": [
    "### c) (2 Punkte)\n",
    "Gegeben sei die folgende Funktion `f`:\n",
    "\\begin{equation}\n",
    "   f(a,b) =\n",
    "   \\begin{cases}\n",
    "     a & \\text{falls } b = 1 \\\\\n",
    "     a \\cdot f(a, (b-1)/2) \\cdot f(a, (b-1)/2)& \\text{falls } b > 1 \\text{ und } b \\text{ ungerade} \\\\\n",
    "     f(a, b/2) \\cdot f(a, b/2)& \\text{sonst} \\\\\n",
    "   \\end{cases}\n",
    "\\end{equation}\n",
    "\n",
    "Implementieren Sie diese Funktion in Python, indem Sie die vorgegebene Funktion `f(a,b)` vervollständigen. Sie können davon ausgehen, dass `b` immer eine natürliche Zahl ist."
   ]
  },
  {
   "cell_type": "code",
   "execution_count": 23,
   "metadata": {
    "collapsed": false,
    "nbgrader": {
     "grade": false,
     "grade_id": "rekursion_sol_3",
     "locked": false,
     "solution": true
    }
   },
   "outputs": [],
   "source": [
    "def f(a,b):\n",
    "    # YOUR CODE HERE\n",
    "    ### BEGIN SOLUTION\n",
    "    \"\"\"Berechnet rekursiv für die beiden Parameter a und b den Wert a**b.\n",
    "   \n",
    "    Args: \n",
    "        a (int): eine Zahl >= 0\n",
    "        b (int): eine natürliche Zahl\n",
    "    Returns: \n",
    "        int: a**b\n",
    "    \"\"\"\n",
    "\n",
    "    if b == 1:\n",
    "        return a\n",
    "    if b % 2 == 1:\n",
    "        return a*f(a,(b-1)//2)*f(a,(b-1)//2) \n",
    "    return f(a, b//2)*f(a, b//2)\n",
    "    ### END SOLUTION"
   ]
  },
  {
   "cell_type": "code",
   "execution_count": 7,
   "metadata": {
    "collapsed": false,
    "nbgrader": {
     "grade": true,
     "grade_id": "rekursion_test_3_1",
     "locked": true,
     "points": 1,
     "solution": false
    }
   },
   "outputs": [],
   "source": [
    "assert(f(13,12) == 23298085122481)\n",
    "assert(f(17,7) == 410338673)\n",
    "assert(f(9,21) == 109418989131512359209)\n",
    "### HIDESTART\n",
    "# Teste den ersten Fall:\n",
    "for a in range(1,10):\n",
    "    assert(f(a,1) == a)\n",
    "    \n",
    "# Teste den zweiten Fall:\n",
    "for a in range(1,10):\n",
    "    for b in [3,5,7,9,11,13,15,17,19]:\n",
    "        assert(f(a,b) == a**b)\n",
    "### HIDEEND"
   ]
  },
  {
   "cell_type": "code",
   "execution_count": 8,
   "metadata": {
    "collapsed": false,
    "nbgrader": {
     "grade": true,
     "grade_id": "rekursion_test_3_2",
     "locked": true,
     "points": 1,
     "solution": false
    }
   },
   "outputs": [],
   "source": [
    "### HIDESTART\n",
    "# Teste den dritten Fall:\n",
    "for a in range(1,10):\n",
    "    for b in [2,4,6,8,10,12,14,16,18,20]:\n",
    "        assert(f(a,b) == a**b)\n",
    "### HIDEEND"
   ]
  },
  {
   "cell_type": "markdown",
   "metadata": {
    "nbgrader": {
     "grade": false,
     "grade_id": "rekursion_desc_4",
     "locked": true,
     "solution": false
    }
   },
   "source": [
    "### d) (1 Punkt)\n",
    "Wie kann die durch `f` berechnete Funktion einfach ausgedrückt werden?\n",
    "Welche Vorteile hat dies im Vergleich zu einer (naiven) iterativen Berechnung?"
   ]
  },
  {
   "cell_type": "markdown",
   "metadata": {
    "nbgrader": {
     "grade": true,
     "grade_id": "rekursion_sol_4",
     "locked": false,
     "points": 1,
     "solution": true
    }
   },
   "source": [
    "### BEGIN SOLUTION\n",
    "Die Funktion berechnet $a^b$ für ein $a \\geq 0$ und eine natürliche Zahl $b$.\n",
    "Die Berechnung wird schneller, da man nun anstelle von $b$ Multiplikationen lediglich *ungefähr* $\\log b$ Multiplikationen (mathematisch präzise: $\\mathcal O(\\log b)$ Multiplikationen) benötigt. Für hohe Werte von $b$ kann dies durchaus einen Unterschied in der Praxis machen.\n",
    "### END SOLUTION"
   ]
  },
  {
   "cell_type": "markdown",
   "metadata": {
    "nbgrader": {
     "grade": false,
     "grade_id": "hanoi_desc_5",
     "locked": true,
     "solution": false
    }
   },
   "source": [
    "### e) (3 Punkte)\n",
    "Modifizieren Sie die aus der Vorlesung bekannte Methode `hanoi` (siehe Vorlesung Sektion 7.5.17) so, dass diese zurückgibt, wie oft eine Scheibe bewegt wurde.   \n",
    "**Wichtig**: Nicht-rekursive Lösungen werden mit 0 Punkten bewertet, d.h. die folgende Lösung ist nicht legal: \n",
    "\n",
    "```Python\n",
    "def hanoi(hoehe, von, nach, ablage):\n",
    "    return 2**hoehe-1\n",
    "```\n",
    "Beachten Sie weiterhin, dass Sie den Methodenkopf der Funktion `hanoi` nicht verändern dürfen (siehe Tests).   "
   ]
  },
  {
   "cell_type": "code",
   "execution_count": 26,
   "metadata": {
    "collapsed": false,
    "nbgrader": {
     "grade": false,
     "grade_id": "hanoi_sol_5",
     "locked": false,
     "solution": true
    }
   },
   "outputs": [],
   "source": [
    "def hanoi(hoehe, von, nach, ablage):\n",
    "    # YOUR CODE HERE\n",
    "    ### BEGIN SOLUTION\n",
    "    \"\"\"Modifikation der Methode hanoi aus der Vorlesung, welche die Anzahl der Scheibenbewegungen zurückgibt.\n",
    "   \n",
    "    Args: \n",
    "        hoehe (int): die initiale hoehe des Startstapels\n",
    "        von (str): name des Startstapels\n",
    "        nach (str): name des Zielstapels\n",
    "        ablage (str): name des Hilfsstapels\n",
    "    Returns: \n",
    "        int: Anzahl der Scheibenbewegungen um alle Scheiben vom Startstapel zum Zielstapel zu bewegen\n",
    "    \"\"\"\n",
    "    if hoehe==1:\n",
    "        #print(\"Lege Scheibe von\", von, \"nach\", nach)\n",
    "        return 1\n",
    "    else:\n",
    "        m = hanoi(hoehe-1, von, ablage, nach)\n",
    "        #print(\"Lege Scheibe von\", von, \"nach\", nach)\n",
    "        n = hanoi(hoehe-1, ablage, nach, von)\n",
    "        return m + n + 1\n",
    "    ### END SOLUTION"
   ]
  },
  {
   "cell_type": "code",
   "execution_count": 27,
   "metadata": {
    "collapsed": false,
    "nbgrader": {
     "grade": true,
     "grade_id": "hanoi_test_5",
     "locked": true,
     "points": 3,
     "solution": false
    }
   },
   "outputs": [],
   "source": [
    "assert(hanoi(5, 'Start', 'Ziel', 'Ablage') == 31)\n",
    "assert(hanoi(8, 'Start', 'Ziel', 'Ablage') == 255)\n",
    "### HIDESTART\n",
    "for i in range(1,10):\n",
    "    assert(hanoi(i, 'Start', 'Ziel', 'Ablage') == 2**i - 1)\n",
    "### HIDEEND"
   ]
  },
  {
   "cell_type": "markdown",
   "metadata": {
    "nbgrader": {
     "grade": false,
     "grade_id": "scope_desc_1",
     "locked": true,
     "solution": false
    }
   },
   "source": [
    "# Aufgabe 3: Sichtbarkeit von Variablen (5 Punkte)\n",
    "### a) (2 Punkte)\n",
    "Gegeben ist das folgende Programm:\n",
    "```Python\n",
    "a_var = 'global value a'\n",
    "b_var = 'global value b'\n",
    "\n",
    "def func():\n",
    "    a_var = 'local value a'\n",
    "    print(a_var, '[ a_var inside func() ]')\n",
    "    print(b_var, '[ b_var inside func() ]')\n",
    "\n",
    "print(a_var, '[ a_var outside func() ]')\n",
    "a_func()\n",
    "print(a_var, '[ a_var outside func() ]')\n",
    "```\n",
    "\n",
    "Erläutern Sie anhand dieses Programms und dessen Ausgabe die Begriffe *global scope* und *local scope*.   "
   ]
  },
  {
   "cell_type": "markdown",
   "metadata": {
    "nbgrader": {
     "grade": true,
     "grade_id": "scope_sol_1",
     "locked": false,
     "points": 2,
     "solution": true
    }
   },
   "source": [
    "### BEGIN SOLUTION\n",
    "- Global Scope: Variablen, an die außerhalb aller Funktionen zugewiesen wurde, sind im global scope. Dies betrifft hier die Variablen `a_var` und `b_var` aus Zeile 1 und 2.\n",
    "- Local Scope: Variablen, an die innerhalb eines def zugewiesen wurde, sind im local scope dieser Funktion. Dies betrifft hier die Variable a_var an welche direkt nach Zeile `def func():` der Wert 'local value a' zugewiesen wird. Befindet sich eine zu lesende Variabe nicht im local scope einer Funktion, so wird im global scope nachgeschaut, ob sich dort solch eine Variable befindet. Daher kann die Funktion `func` im obigen Beispiel auch auf die Variable `b_var` lesend zugreifen.\n",
    "\n",
    "### END SOLUTION"
   ]
  },
  {
   "cell_type": "markdown",
   "metadata": {
    "nbgrader": {
     "grade": false,
     "grade_id": "scope_desc_2",
     "locked": true,
     "solution": false
    }
   },
   "source": [
    "### b) (2 Punkte)\n",
    "Gegeben sei das folgende Programm:\n",
    "```Python\n",
    "lst = [1,2,3,4]\n",
    "\n",
    "def f1():\n",
    "    lst.append(5)\n",
    "    \n",
    "f1()\n",
    "print(lst)\n",
    "\n",
    "def f2():\n",
    "    lst += [6]\n",
    "\n",
    "f2()\n",
    "print(lst)\n",
    "```\n",
    "Erläutern Sie, warum der Aufruf der Funktion `f1` fehlerfrei gelingt, jedoch nicht der Aufruf der Funktion `f2`.   "
   ]
  },
  {
   "cell_type": "markdown",
   "metadata": {
    "nbgrader": {
     "grade": true,
     "grade_id": "scope_sol_2",
     "locked": false,
     "points": 2,
     "solution": true
    }
   },
   "source": [
    "### BEGIN SOLUTION\n",
    "Da sich die Variable `lst` im global Scope befindet, ist diese von Funktionen aus lediglich lesbar, d.h. Zuweisungen an `lst` innerhalb von Funktionen sind verboten.\n",
    "Der Befehl `lst.append(5)` ist keine Zuweisung an die Variable `lst`, der Befehl `lst += [6]` jedoch schon, weswegen letzterer einen Fehler wirft.\n",
    "### END SOLUTION"
   ]
  },
  {
   "cell_type": "markdown",
   "metadata": {
    "nbgrader": {
     "grade": false,
     "grade_id": "scope_desc_3",
     "locked": true,
     "solution": false
    }
   },
   "source": [
    "### c) (1 Punkt)\n",
    "Gegeben sei das folgende Programm:\n",
    "\n",
    "```Python\n",
    "a_var = 'global value'\n",
    "\n",
    "def outer():\n",
    "    a_var = 'enclosed value'\n",
    "\n",
    "    def inner():\n",
    "        print(a_var)\n",
    "    \n",
    "    inner()\n",
    "\n",
    "outer()\n",
    "```\n",
    "\n",
    "Geben Sie die Ausgabe des Programms an und begründen Sie, wie diese zustande gekommen ist.   "
   ]
  },
  {
   "cell_type": "markdown",
   "metadata": {
    "nbgrader": {
     "grade": true,
     "grade_id": "scope_sol_3",
     "locked": false,
     "points": 1,
     "solution": true
    }
   },
   "source": [
    "### BEGIN SOLUTION\n",
    "Der `print`-Befehl befindet sich in der Funktion `inner` und greift auf die Variable `a_var` zu, welche sich im local scope der Funktion `outer` befindet. Dies ist möglich, da `inner` nicht neben, sondern in `outer` definiert wurde.\n",
    "### END SOLUTION"
   ]
  },
  {
   "cell_type": "markdown",
   "metadata": {
    "nbgrader": {
     "grade": false,
     "grade_id": "funktionsparameter_desc",
     "locked": true,
     "solution": false
    }
   },
   "source": [
    "# Aufgabe 4: Flexible Funktionsparameter (3 Punkte)\n",
    "Gegeben sei das folgende Programm:\n",
    "\n",
    "```Python\n",
    "def f(a, b, c):\n",
    "    print(\"a:\", a, end=\", \")\n",
    "    print(\"b:\", b, end=\", \")\n",
    "    print(\"c:\", c)\n",
    "\n",
    "f(**{'a': 1, 'b': 2, 'c': 3})\n",
    "f(*[1,2,3])\n",
    "```\n",
    "\n",
    "Offensichtlich bewirken beide Aufrufe `f(**{'a': 1, 'b': 2, 'c': 3})` und `f(*[1,2,3])` für dieses Programm dasselbe.\n",
    "Dies heißt jedoch nicht, dass beide Aufrufe in ihrer Semantik äquivalent sind.\n",
    "Erläutern Sie die semantischen Gemeinsamkeiten und Unterschiede der Aufrufe im Allgemeinen."
   ]
  },
  {
   "cell_type": "markdown",
   "metadata": {
    "nbgrader": {
     "grade": true,
     "grade_id": "funktionsparameter_sol",
     "locked": false,
     "points": 3,
     "solution": true
    }
   },
   "source": [
    "### BEGIN SOLUTION\n",
    "Der Befehl `f(**{'a': 1, 'b': 2, 'c': 3})` ordnet jedem Parameter der Funktion `f` einen Schlüssel aus dem Dictionary zu. Dabei müssen die Variablennamen exakt den Schlüsseln im Dictionary entsprechen, ansonsten wird ein Fehler geworfen.\n",
    "Bei dem Befehl `f(*[1,2,3])` werden die Funktionsparameter ihrer Reihenfolge nach auf die Listenelemente zugewiesen.\n",
    "Beide Befehle haben gemeinsam, dass die Anzahl der Elemente im Dictionary bzw. in der Liste exakt der Anzahl an Funktionsparametern entsprechen muss (sofern keine optionalen Parameter in der Funktion definiert sind). Ist dies nicht der Fall wird ein Fehler geworfen.\n",
    "### END SOLUTION"
   ]
  },
  {
   "cell_type": "code",
   "execution_count": 28,
   "metadata": {
    "collapsed": false,
    "nbgrader": {
     "grade": true,
     "grade_id": "docstring_tests",
     "locked": true,
     "points": 1,
     "solution": false
    }
   },
   "outputs": [],
   "source": [
    "assert(berechne_iterativ.__doc__ != None)\n",
    "assert(anz_ziffern.__doc__ != None)\n",
    "assert(f.__doc__ != None)\n",
    "assert(hanoi.__doc__ != None)"
   ]
  }
 ],
 "metadata": {
  "anaconda-cloud": {},
  "celltoolbar": "Create Assignment",
  "kernelspec": {
   "display_name": "Python [default]",
   "language": "python",
   "name": "python3"
  },
  "language_info": {
   "codemirror_mode": {
    "name": "ipython",
    "version": 3
   },
   "file_extension": ".py",
   "mimetype": "text/x-python",
   "name": "python",
   "nbconvert_exporter": "python",
   "pygments_lexer": "ipython3",
   "version": "3.5.2"
  }
 },
 "nbformat": 4,
 "nbformat_minor": 1
}
