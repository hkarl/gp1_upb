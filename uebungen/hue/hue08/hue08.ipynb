{
 "cells": [
  {
   "cell_type": "markdown",
   "metadata": {
    "nbgrader": {
     "grade": true,
     "grade_id": "matrikel",
     "locked": false,
     "points": 0,
     "solution": true
    },
    "slideshow": {
     "slide_type": "skip"
    }
   },
   "source": [
    "Bitte hier eintragen (s.u)!"
   ]
  },
  {
   "cell_type": "markdown",
   "metadata": {
    "nbgrader": {
     "grade": false,
     "grade_id": "matrikel_info",
     "locked": true,
     "solution": false
    },
    "slideshow": {
     "slide_type": "skip"
    }
   },
   "source": [
    "# Abgabehinweise \n",
    "\n",
    "Beachten Sie unbedingt diese Hinweise, sonst erhalten Sie keine Punkte aus dieser Abgabe! Für Details siehe z.B. [Folien der nullten Zentralübung](http://groups.uni-paderborn.de/fg-karl/lehre/ws1617/gp1/hue/gp1-zue0.pdf)\n",
    "\n",
    "## Namen und Matrikelnummern \n",
    "\n",
    "Tragen Sie Ihre Matrikelnummern und E-Mail-Adressen *zeilenweise* in die Zelle **oberhalb** dieser Zelle ein.\n",
    "Achten Sie dabei streng auf die Formatierung, denn die Auswertung erfolgt automatisch. \n",
    "Benutzen Sie *keine* Leerzeilen.\n",
    "Zwischen Matrikelnummer und E-Mail-Adresse *muss genau ein* Leerzeichen stehen; sonst keine Leerzeichen, Tabs, Spiegelstriche, oder ähnliches in einer Zeile. Wir empfehlen *dringend* die Benutzung der Uni-Paderborn E-Mail-Adressen! \n",
    "\n",
    "<!--- Wenn Sie diese Ansicht verwenden (was Sie nicht tun sollten; klicken Sie am besten einmal auf \"Run cell\"), dann steht die Formatierung hier richtig:\n",
    "\n",
    "Format:\n",
    "\n",
    "MatrikelNummer E-Mail-Adresse\n",
    "MatrikelNummer2 E-Mail-Adresse2\n",
    "\n",
    "z.B.:\n",
    "\n",
    "123456 testStudent@mail.upb.de\n",
    "234567 testStudent2@mail.upb.de\n",
    "345678 vorname.nachname@mail.upb.de\n",
    "\n",
    "... und nicht hier: -->\n",
    "\n",
    "Format:\n",
    "\n",
    "MatrikelNummer E-Mail-Adresse\n",
    "<br \\>\n",
    "MatrikelNummer2 E-Mail-Adresse2\n",
    "\n",
    "z.B.:\n",
    "\n",
    "123456 testStudent@mail.upb.de\n",
    "<br \\>\n",
    "234567 testStudent2@mail.upb.de\n",
    "<br \\>\n",
    "345678 vorname.nachname@mail.upb.de\n",
    "\n",
    "Hinweis: Wenn Sie das so in die obere Zelle eingeben, wird in der ausgeführten Markdownzelle (Strg+Enter) alles in einer Zeile angezeigt. Das ist egal; wichtig ist Formatierung der Eingabe.\n",
    "\n",
    "\n",
    "## Abgabe mit Gruppenaccount \n",
    "\n",
    "Die Abgabe muss mit Ihrem *Gruppenaccount* erfolgen (gp1\\_16\\_...), den Sie in der Präsenzübung erhalten haben! Abgaben, die über Ihren Einzelaccount erfolgen, werden ignoriert. \n",
    "\n",
    "## Abgabe: Submit \n",
    "\n",
    "Es reicht nicht, nur das Übungsblatt zu verändern. Sie müssen unter *Assignments* auf *Submit* clicken (oder entsprechend über die Kommandozeile), für das entsprechende Übungsblatt! (Wenn Sie Blatt 8 abgeben wolllen hilft es nicht, bei Blatt 1 auf Submit zu drücken!) Für Details siehe Beschreibung Abgabeprozess. \n",
    "\n",
    "## Dateinamen\n",
    "\n",
    "Geben Sie Ihre Lösung in der vom Server erhaltenen Datei hue08.ipynb ab (nicht umbenennen, keine Kopie erstellen, keine anderen Dateien in das Verzeichnis legen, auch nicht Dateiname hue8.ipynb !). Sonst kann eine Bewertung nicht stattfinden.\n",
    "\n",
    "## Struktur des Notebooks \n",
    "\n",
    "Fügen Sie keine Zellen hinzu und löschen Sie keine Zellen.\n",
    "Ändern Sie nicht den Typ einer Zelle.\n",
    "Geben Sie Lösungen nur in den Lösungszellen ab. Änderungen in den anderen Zellen werden nach Abgabe automatisch rückgängig gemacht.\n",
    "\n",
    "## Code-Zellen \n",
    "\n",
    "Entfernen Sie die Zeilen mit Inhalt \"raise NotImplementedError()\" aus den Zellen, in die Sie Ihre Lösungen schreiben. *Ersetzen* Sie diese Zeilen durch Ihre eigene Lösungen. \n",
    "\n",
    "## Nie ```input```\n",
    "\n",
    "Benutzen Sie *niemals* die Funktion `input()`. Das verhindert die automatische Auswertung Ihrer Abgabe und führt zu 0 Punkten für das gesamte Blatt! \n",
    "\n",
    "## Kommentare \n",
    "\n",
    "Kommentieren Sie Code-Abgaben! Insbesondere *muss* jede Funktion (Klasse, Methode, ...) einen sinnvollen ```docstring``` haben! Bei fehlendem docstring werden automatisch Punkte abgezogen! \n",
    "\n",
    "\n",
    "# Abgabetermin: 8.1.2017 um 23:59 Uhr"
   ]
  },
  {
   "cell_type": "markdown",
   "metadata": {
    "nbgrader": {
     "grade": false,
     "grade_id": "vererbung_desc",
     "locked": true,
     "solution": false
    },
    "slideshow": {
     "slide_type": "slide"
    }
   },
   "source": [
    "# Aufgabe 1: Vererbung\n",
    "Für diese Aufgabe betrachten Sie den Code in der nachfolgenden Code-Zelle."
   ]
  },
  {
   "cell_type": "code",
   "execution_count": null,
   "metadata": {
    "collapsed": true,
    "nbgrader": {
     "grade": false,
     "grade_id": "vererbung_code",
     "locked": true,
     "solution": false
    },
    "slideshow": {
     "slide_type": "fragment"
    }
   },
   "outputs": [],
   "source": [
    "class A:\n",
    "    def __init__(self, x, y):\n",
    "        self.x = x\n",
    "        self.y = y\n",
    "        \n",
    "    def to_string(self):\n",
    "        return \"x, y = (\" + str(self.x) + \", \" + str(self.y) + \")\"\n",
    "    \n",
    "    def __str__(self):\n",
    "        return self.to_string()\n",
    "    \n",
    "class B(A):\n",
    "    def __init__(self, z, *args):\n",
    "        A.__init__(self, *args)\n",
    "        self.z = z\n",
    "        \n",
    "    def __str__(self):\n",
    "        return super().__str__()\n",
    "    \n",
    "class C(A):\n",
    "    def __init__(self, *args):\n",
    "        super().__init__(*args)\n",
    "        \n",
    "    def to_string(self):\n",
    "        return \"Klasse C, \" + super().to_string()"
   ]
  },
  {
   "cell_type": "markdown",
   "metadata": {
    "nbgrader": {
     "grade": false,
     "grade_id": "vererbung_1_desc",
     "locked": true,
     "solution": false
    },
    "slideshow": {
     "slide_type": "slide"
    }
   },
   "source": [
    "## a)\n",
    "Nennen Sie die beiden Möglichkeiten, den Konstruktor einer Oberklasse aufzurufen und argumentieren Sie anhand von *DRY*, welche der beiden Möglichkeiten sinnvoller erscheint."
   ]
  },
  {
   "cell_type": "markdown",
   "metadata": {
    "nbgrader": {
     "grade": true,
     "grade_id": "vererbung_1_sol",
     "locked": false,
     "points": 1,
     "solution": true
    },
    "slideshow": {
     "slide_type": "fragment"
    }
   },
   "source": [
    "Der Konstruktor einer Oberklasse (hier die Klasse A) lässt sich entweder via \n",
    "```Python\n",
    "A.__init__()\n",
    "```\n",
    "oder via \n",
    "```Python\n",
    "super().__init__()\n",
    "```\n",
    "aufrufen.\n",
    "Bei der ersten Variante ist allerdings unschön, dass der Klassenname `A` dadurch mehrfach aufgeschrieben wird und somit DRY (Don't repeat yourself) verletzt wird.\n",
    "Weiterhin ist der erste Aufruf fehleranfällig, falls man die Klasse `A` umbenennt oder die Oberklasse in der Unterklasse ändern möchte.   \n",
    "Die Methode via `super()` verwendet ist da allgemeiner und eignet sich nicht nur für Aufrufe von Konstruktoren der Oberklasse."
   ]
  },
  {
   "cell_type": "markdown",
   "metadata": {
    "nbgrader": {
     "grade": false,
     "grade_id": "vererbung_2_desc",
     "locked": true,
     "solution": false
    },
    "slideshow": {
     "slide_type": "slide"
    }
   },
   "source": [
    "## b)\n",
    "Warum kann man im Konstruktor der Klasse `B` den Aufruf\n",
    "```Python\n",
    "    A.__init__(self, *args)\n",
    "```\n",
    "nicht zu \n",
    "```Python\n",
    "    A.__init__(*args)\n",
    "```\n",
    "vereinfachen? In der Klasse `C` kann man schließlich auch den Konstruktor von `A` ohne die Angabe des Parameters `self` fehlerfrei durchführen."
   ]
  },
  {
   "cell_type": "markdown",
   "metadata": {
    "nbgrader": {
     "grade": true,
     "grade_id": "vererbung_2_sol",
     "locked": false,
     "points": 1,
     "solution": true
    },
    "slideshow": {
     "slide_type": "fragment"
    }
   },
   "source": [
    "Ein Aufruf des Oberklassenkonstruktors via `Oberklasse.__init__()` benötigt den Parameter `self`, da sonst nicht klar ist für welches Objekt der Konstruktor aufgerufen werden soll.\n",
    "Durch solch einen Aufruf wird die Methode `__init__` nämlich als eine Klassenmethode gesehen und nicht als eine Objektspezifische Methode."
   ]
  },
  {
   "cell_type": "markdown",
   "metadata": {
    "nbgrader": {
     "grade": false,
     "grade_id": "vererbung_3_desc",
     "locked": true,
     "solution": false
    },
    "slideshow": {
     "slide_type": "slide"
    }
   },
   "source": [
    "## c)\n",
    "Verwenden Sie in der nachfolgenden Code-Zelle die eingebaute Funktion `isinstance`, um zu überprüfen, ob die Objekte, welche von den Variablen `a`, `b` und `c` referenziert werden, Instanzen der obigen Klassen `A`, `B` und `C` sind.\n",
    "Geben Sie das Ergebnis (`True` oder `False`) jedes einzelnen Aufrufs mittles `print` aus (Sie erhalten 9 Ausgaben, für jede mögliche Kombination von Objekt und Klasse eine)."
   ]
  },
  {
   "cell_type": "code",
   "execution_count": null,
   "metadata": {
    "collapsed": false,
    "nbgrader": {
     "grade": true,
     "grade_id": "vererbung_3_sol",
     "locked": false,
     "points": 1,
     "solution": true
    },
    "slideshow": {
     "slide_type": "fragment"
    }
   },
   "outputs": [],
   "source": [
    "a = A(1,2)\n",
    "b = B(1,2,3)\n",
    "c = C(4,5)\n",
    "\n",
    "### BEGIN SOLUTION\n",
    "print(isinstance(a,A))\n",
    "print(isinstance(a,B))\n",
    "print(isinstance(a,C))\n",
    "print(isinstance(b,A))\n",
    "print(isinstance(b,B))\n",
    "print(isinstance(b,C))\n",
    "print(isinstance(c,A))\n",
    "print(isinstance(c,B))\n",
    "print(isinstance(c,C))\n",
    "### END SOLUTION"
   ]
  },
  {
   "cell_type": "markdown",
   "metadata": {
    "nbgrader": {
     "grade": false,
     "grade_id": "vererbung_desc_4",
     "locked": true,
     "solution": false
    },
    "slideshow": {
     "slide_type": "slide"
    }
   },
   "source": [
    "## d)\n",
    "Betrachten Sie nochmals die Objekte aus der vorherigen Code-Zelle.\n",
    "Geben Sie für die beiden folgenden Befehle an, welche Methoden der Klassen `A`, `B` oder `C` in welcher Reihenfolge aufgerufen werden.\n",
    "\n",
    "1. `print(b)`\n",
    "2. `print(c)`\n",
    "\n",
    "Beispielsweise soll dies für die Anweisung `b = B(1,2,3)` in dem folgenden Format geschehen:\n",
    "\n",
    "`b = B(1,2,3)` $\\rightarrow$ `B.__init__` $\\rightarrow$ `A.__init__`\n"
   ]
  },
  {
   "cell_type": "markdown",
   "metadata": {
    "nbgrader": {
     "grade": true,
     "grade_id": "vererbung_sol_4",
     "locked": false,
     "points": 2,
     "solution": true
    },
    "slideshow": {
     "slide_type": "fragment"
    }
   },
   "source": [
    "1. `print(b)` $\\rightarrow$ `B.__str__` $\\rightarrow$ `A.__str__` $\\rightarrow$ `A.to_string`   \n",
    "2. `print(c)` $\\rightarrow$ `A.__str__` $\\rightarrow$ `C.to_string` $\\rightarrow$ `A.to_string`"
   ]
  },
  {
   "cell_type": "markdown",
   "metadata": {
    "nbgrader": {
     "grade": false,
     "grade_id": "bintree_desc_1",
     "locked": true,
     "solution": false
    },
    "slideshow": {
     "slide_type": "slide"
    }
   },
   "source": [
    "# Aufgabe 2: Löschen in einem binären Suchbaum\n",
    "In dieser Aufgabe sollen Sie die Operation `remove()` der Klasse `BinaryTree` aus der Vorlesung implementieren.\n",
    "\n",
    "## a)\n",
    "Beantworten Sie zunächst die folgenden Fragen:\n",
    "1. Bevor Sie den Knoten mit dem zu löschenden Schlüssel aus dem Baum entfernen können, müssen Sie diesen zunächst einmal (mittels eines rekursiven Algorithmus) suchen. Welche Zustandsinformationen müssen Sie sich in den rekursiven Aufrufen des Suchalgorithmus merken?\n",
    "2. Nehmen Sie an, Sie kennen bereits den Knoten, welcher den zu löschenden Schlüssel enthält. Zwischen welchen drei Fällen müssen Sie beim Entfernen dieses Knotens aus dem Baum unterscheiden? \n",
    "3. Es gibt einen Knoten, dessen Löschung eine Sonderbehandlung erfordert (unabhängig, welcher der drei obigen Fälle vorliegt). Welcher Knoten ist das? Begründung! "
   ]
  },
  {
   "cell_type": "markdown",
   "metadata": {
    "nbgrader": {
     "grade": true,
     "grade_id": "bintree_sol_1",
     "locked": false,
     "points": 3,
     "solution": true
    },
    "slideshow": {
     "slide_type": "subslide"
    }
   },
   "source": [
    "1. Das kann je nach Art der Implementierung variieren: Was benötigt wird sind Referenzen zu dem zu löschenden Knoten und dessen Vaterknoten. Der Vaterknoten kann aber auch in der Klasse TreeNode eingerichtet werden. Dadurch würden die Methoden `add` und `delete` aber etwas komplizierter. In der folgenden Lösung wird der Vaterknoten daher immer in jedem rekursiven Aufruf übergeben.\n",
    "\n",
    "2. - Der zu löschende Knoten ist ein Blattknoten\n",
    "   - Der zu löschende Knoten hat genau einen Kindknoten\n",
    "   - Der zu löschende Knoten hat zwei Kindknoten\n",
    "   \n",
    "3. Spezialfall: Der zu löschende Knoten ist der Wurzelknoten. In diesem Fall muss die Objektvariable `self.root` des Baums angepasst werden."
   ]
  },
  {
   "cell_type": "markdown",
   "metadata": {
    "nbgrader": {
     "grade": false,
     "grade_id": "bintree_desc_2",
     "locked": true,
     "solution": false
    },
    "slideshow": {
     "slide_type": "slide"
    }
   },
   "source": [
    "## b)\n",
    "Implementieren Sie nun die Methode `remove(self, key)` in der unten angegebenen Klasse `BinaryTree`, sodass sich nach Ablauf der Methode der übergebene Schlüssel nicht mehr im Baum befindet.\n",
    "Beachten Sie dabei, dass der Baum auch noch sortiert sein muss, nachdem der Schlüssel aus dem Baum entfernt wurde.\n",
    "Sie dürfen dabei annehmen, dass der zu löschende Schlüssel im Baum vorhanden ist, unter der Bedingung, dass der Baum nicht leer ist.   \n",
    "\n",
    "*Tipp*: Zunächst einmal müssen Sie Knoten mit dem zu löschenden Schlüssel im Baum finden. Überlegen Sie sich dann eine geschickte Variante, um Schlüssel, deren Knoten zwei Kindknoten haben, ohne unnötiges Verschieben von Knotenreferenzen zu löschen.\n",
    "\n",
    "*Hinweis*: Es ist Ihnen nicht erlaubt, die Methoden der Klassen `TreeNode` und `BinaryTree` zu ändern! Beachten Sie außerdem, dass die Lösung dieser Aufgabe im Vergleich zu bisherigen Lösungen auf anderen Übungsblättern um einiges länger ausfällt.\n",
    "Sie dürfen selbstverständlich Hilfsmethoden (z.B. `_search`) schreiben, um Ihre Lösung etwas strukturierter zu machen."
   ]
  },
  {
   "cell_type": "code",
   "execution_count": null,
   "metadata": {
    "collapsed": false,
    "nbgrader": {
     "grade": false,
     "grade_id": "bintree_sol_2",
     "locked": false,
     "solution": true
    },
    "slideshow": {
     "slide_type": "subslide"
    }
   },
   "outputs": [],
   "source": [
    "class TreeNode:\n",
    "    \"\"\"Knoten eines Binärbaums\"\"\"\n",
    "    \n",
    "    def __init__(self, key, val):\n",
    "        \"\"\"Konstruktor\n",
    "        \n",
    "        Args:\n",
    "            key: Schlüssel des Knotens (int)\n",
    "            val: Datenelement des Knotens (object)\n",
    "        \"\"\"\n",
    "        self.key = key\n",
    "        self.value = val\n",
    "        self.left_child = None\n",
    "        self.right_child = None\n",
    "\n",
    "    def is_leaf(self):\n",
    "        \"\"\"Liefert True, falls dieser Knoten ein Blattknoten ist.\n",
    "        \n",
    "        Returns:\n",
    "            bool Wenn dieser Knoten keine Kindknoten hat\n",
    "        \"\"\"\n",
    "        return ((self.left_child is None) and (self.right_child is None))\n",
    "\n",
    "class BinaryTree:\n",
    "    \"\"\"Der Binäre Suchbaum aus der Vorlesung\"\"\"\n",
    "    \n",
    "    def __init__(self):\n",
    "        \"\"\"Konstruktor\"\"\"\n",
    "        self.root = None\n",
    "        self.size = 0\n",
    "    \n",
    "    def add(self, key, value):\n",
    "        \"\"\"Füge einen Eintrag unter key an die richtige Stelle ein\n",
    "        \n",
    "        Args:\n",
    "            key: Der einzufügende Schlüssel (int)\n",
    "            value: Der zum Schlüssel zugehörige Wert (object)\n",
    "        \"\"\"\n",
    "        if self.root is None:\n",
    "            # Baum ist leer, wir erzeugen den ersten Eintrag\n",
    "            self.root = TreeNode(key, value)\n",
    "        else:\n",
    "            # Versuche, den Eintrag unter dem Knoten self.root einzufuegen das wird laenger; also eigene Methode\n",
    "            self._add(key, value, self.root)\n",
    "\n",
    "        self.size += 1\n",
    "\n",
    "    def _add(self, key, value, current_node):\n",
    "        \"\"\"Hilfsmethode für add\"\"\"\n",
    "        if key < current_node.key:\n",
    "            # fuege im linken Teil ein\n",
    "            if current_node.left_child is None:\n",
    "                # hier muss der neue Knoten hin!\n",
    "                current_node.left_child = TreeNode(key, value)\n",
    "            else:\n",
    "                # es gibt schon Kinder, suche dort weiter:\n",
    "                self._add(key, value, current_node.left_child)\n",
    "        elif key > current_node.key:\n",
    "            # der Fall ist ganz symmetrisch\n",
    "            if current_node.right_child is None:\n",
    "                current_node.right_child = TreeNode(key, value)\n",
    "            else:\n",
    "                self._add(key, value, current_node.right_child)\n",
    "        else:\n",
    "            # wenn key schon existiert: aktualisiere Wert\n",
    "            current_node.value = value\n",
    "    \n",
    "    def iterate(self):\n",
    "        \"\"\"Traversiere den Baum 'preorder'.\n",
    "        \n",
    "        Returns:\n",
    "            list Eine Liste, welche die besuchten Schlüssel in preorder Reihenfolge enthält\n",
    "        \"\"\"\n",
    "        if self.root == None:\n",
    "            return []\n",
    "        return self._iterate(self.root, [])\n",
    "    \n",
    "    def _iterate(self, node, visited):\n",
    "        \"\"\"Hilfsmethode für iterate\"\"\"\n",
    "        visited.append(node.key)\n",
    "        if node.left_child != None:\n",
    "            self._iterate(node.left_child, visited)\n",
    "        if node.right_child != None:\n",
    "            self._iterate(node.right_child, visited)\n",
    "        return visited\n",
    "        \n",
    "    ### BEGIN SOLUTION\n",
    "    def remove(self, key):\n",
    "        \"\"\"Entferne Eintrag unter key falls vorhanden; erhalte Baumstruktur!\n",
    "        \n",
    "        Args:\n",
    "            key: Der zu entfernende Schlüssel (int)\n",
    "        \"\"\"\n",
    "        \n",
    "        if self.root == None:\n",
    "            # Der Baum ist leer - es ist nichts zu tun\n",
    "            return\n",
    "        \n",
    "        # Suche nach zu löschenden Knoten:\n",
    "        current_node, parent = self._search(key, self.root, None)\n",
    "\n",
    "        # Lösche Knoten:\n",
    "        self._remove(key, current_node, parent)\n",
    "        self.size -= 1\n",
    "\n",
    "    def _search(self, key, current_node, parent):\n",
    "        \"\"\"Sucht nach dem Knoten für den übergebenen key und liefert diesen mit dessen Vorgänger als Tupel zurück\"\"\"\n",
    "        if key == current_node.key:\n",
    "            return (current_node, parent)\n",
    "        elif key < current_node.key:\n",
    "            # Suche nach zu löschenden Knoten im linken Teilbaum\n",
    "            return self._search(key, current_node.left_child, current_node)\n",
    "        else:\n",
    "            # Suche nach zu löschenden Knoten im rechten Teilbaum\n",
    "            return self._search(key, current_node.right_child, current_node)\n",
    "            \n",
    "    def _remove(self, key, current_node, parent):  \n",
    "        \"\"\"Hilfsmethode für remove - Überprüft 3 Fälle und den Spezialfall aus Teil a)\"\"\"\n",
    "        if current_node == self.root:\n",
    "            self._remove_root()\n",
    "        elif current_node.is_leaf():\n",
    "            self._remove_leaf(key, current_node, parent)\n",
    "        elif len([c for c in [current_node.left_child, current_node.right_child] if c != None]) == 1:\n",
    "            self._remove_one_child(key, current_node, parent)\n",
    "        else:\n",
    "            self._remove_two_childs(key, current_node, parent)\n",
    "        \n",
    "    def _remove_root(self):\n",
    "        \"\"\"Spezialfall: Entfernt den Wurzelknoten\"\"\"\n",
    "        if self.size == 1:\n",
    "            self.root = None # Der Baum enthält nur die Wurzel als einzigsten Knoten\n",
    "        elif self.root.left_child == None and self.root.right_child != None:\n",
    "            self.root = self.root.right_child # Die Wurzel hat kein linkes Kind\n",
    "        elif self.root.left_child != None and self.root.right_child == None:\n",
    "            self.root = self.root.left_child # Die Wurzel hat kein rechtes Kind\n",
    "        else:\n",
    "            # Die Wurzel zwei Kinder: Kann ganz normal behandelt werden, da in _remove_two_child das key-value-paar der Wurzel \n",
    "            # mit dem des in-order-vorgängers vertauscht wird und somit der Wurzelknoten danach korrekt ist.\n",
    "            self._remove_two_childs(self.root.key, self.root, None)\n",
    "            \n",
    "    def _remove_leaf(self, key, current_node, parent):\n",
    "        \"\"\"Zu löschender Knoten hat keine Kinder - Lösche Knotenreferenz vom Parent-Node:\"\"\"\n",
    "        if parent.left_child != None and parent.left_child.key == key:\n",
    "            parent.left_child = None # Blattknoten ist linkes Kind des Parent-Node\n",
    "        else:\n",
    "            parent.right_child = None # Blattknoten ist rechtes Kind des Parent-Node\n",
    "            \n",
    "    def _remove_one_child(self, key, current_node, parent):\n",
    "        \"\"\"Zu löschender Knoten hat einen Kindknoten\"\"\"\n",
    "        \n",
    "        # Speichere Kindknoten in child:\n",
    "        child = current_node.left_child\n",
    "        if child == None:\n",
    "            child = current_node.right_child\n",
    "            \n",
    "        # Setze Referenz des Parent-Node auf Kindknoten des zu löschenden Knotens:\n",
    "        if parent.left_child != None and parent.left_child.key == key:\n",
    "            parent.left_child = child\n",
    "        else:\n",
    "            parent.right_child = child\n",
    "\n",
    "    def _remove_two_childs(self, key, current_node, parent):\n",
    "        \"\"\"Zu löschender Knoten hat zwei Kindknoten - Suche nach in-order-vorgänger und dessen parent:\"\"\"\n",
    "        vorgaenger = current_node.left_child\n",
    "        vorgaengerparent = current_node\n",
    "        while vorgaenger.right_child != None:\n",
    "            vorgaengerparent = vorgaenger\n",
    "            vorgaenger = vorgaenger.right_child\n",
    "                    \n",
    "        # Tausche key-value Paare des zu löschenden Knotens mit dem in-order-vorgänger:\n",
    "        k,v = current_node.key, current_node.value\n",
    "        current_node.key, current_node.value = vorgaenger.key, vorgaenger.value\n",
    "        vorgaenger.key, vorgaenger.value = k,v\n",
    "                \n",
    "        # Nun braucht nurnoch der vorgängerknoten gelöscht werden. Dieser hat weniger als 2 Kindknoten!\n",
    "        self._remove(key, vorgaenger, vorgaengerparent)\n",
    "    ### END SOLUTION"
   ]
  },
  {
   "cell_type": "code",
   "execution_count": null,
   "metadata": {
    "collapsed": false,
    "nbgrader": {
     "grade": true,
     "grade_id": "bintree_test_2_1",
     "locked": true,
     "points": 1,
     "solution": false
    },
    "slideshow": {
     "slide_type": "skip"
    }
   },
   "outputs": [],
   "source": [
    "# Diese Zelle bitte unverändert lassen!\n",
    "# Erzeuge Baum:\n",
    "t = BinaryTree()\n",
    "# Teste Löschversuch für leeren Baum:\n",
    "t.remove(1)\n",
    "assert(t.size == 0)\n",
    "\n",
    "t.add(2, \"value\")\n",
    "t.add(7, \"value\")\n",
    "t.add(5, \"value\")\n",
    "t.add(1, \"value\")\n",
    "t.add(6, \"value\")\n",
    "t.add(9, \"value\")\n",
    "t.add(3, \"value\")\n",
    "t.add(11,\"value\")\n",
    "t.add(4, \"value\")\n",
    "\n",
    "assert(t.iterate() == [2, 1, 7, 5, 3, 4, 6, 9, 11])\n",
    "# Lösche Elemente:\n",
    "t.remove(11)\n",
    "assert(t.iterate() == [2, 1, 7, 5, 3, 4, 6, 9])\n",
    "t.remove(2)\n",
    "assert(t.iterate() == [1, 7, 5, 3, 4, 6, 9])\n",
    "\n",
    "### HIDESTART\n",
    "# Fall, dass ein Blattknoten gelöscht wird\n",
    "t = BinaryTree()\n",
    "t.add(3, \"value\")\n",
    "t.add(8, \"value\")\n",
    "t.add(6, \"value\")\n",
    "t.add(2, \"value\")\n",
    "t.add(7, \"value\")\n",
    "t.add(10,\"value\")\n",
    "t.add(4, \"value\")\n",
    "t.add(12,\"value\")\n",
    "t.add(5, \"value\")\n",
    "\n",
    "assert(t.iterate() == [3, 2, 8, 6, 4, 5, 7, 10, 12])\n",
    "# Lösche Elemente:\n",
    "t.remove(12)\n",
    "assert(t.iterate() == [3, 2, 8, 6, 4, 5, 7, 10])\n",
    "t.remove(3)\n",
    "assert(t.iterate() == [2, 8, 6, 4, 5, 7, 10])\n",
    "\n",
    "# Spezialfall: Lösche Wurzel als einzigsten Knoten:\n",
    "t = BinaryTree()\n",
    "t.add(3, \"value\")\n",
    "assert(t.iterate() == [3])\n",
    "t.remove(3)\n",
    "assert(t.iterate() == [])\n",
    "### HIDEEND"
   ]
  },
  {
   "cell_type": "code",
   "execution_count": null,
   "metadata": {
    "collapsed": false,
    "nbgrader": {
     "grade": true,
     "grade_id": "bintree_test_2_2",
     "locked": true,
     "points": 2,
     "solution": false
    },
    "slideshow": {
     "slide_type": "skip"
    }
   },
   "outputs": [],
   "source": [
    "# Diese Zelle bitte unverändert lassen!\n",
    "# Erzeuge Baum:\n",
    "t = BinaryTree()\n",
    "t.add(2, \"value\")\n",
    "t.add(7, \"value\")\n",
    "t.add(5, \"value\")\n",
    "t.add(1, \"value\")\n",
    "t.add(0, \"value\")\n",
    "t.add(6, \"value\")\n",
    "t.add(9, \"value\")\n",
    "t.add(3, \"value\")\n",
    "t.add(11,\"value\")\n",
    "t.add(4, \"value\")\n",
    "\n",
    "assert(t.iterate() == [2, 1, 0, 7, 5, 3, 4, 6, 9, 11])\n",
    "# Lösche Elemente:\n",
    "t.remove(9)\n",
    "assert(t.iterate() == [2, 1, 0, 7, 5, 3, 4, 6, 11])\n",
    "t.remove(0)\n",
    "assert(t.iterate() == [2, 1, 7, 5, 3, 4, 6, 11])\n",
    "\n",
    "### HIDESTART\n",
    "# Fall, dass ein Knoten mit einem Kind gelöscht wird\n",
    "t = BinaryTree()\n",
    "t.add(3, \"value\")\n",
    "t.add(8, \"value\")\n",
    "t.add(6, \"value\")\n",
    "t.add(2, \"value\")\n",
    "t.add(1, \"value\")\n",
    "t.add(7, \"value\")\n",
    "t.add(10,\"value\")\n",
    "t.add(4, \"value\")\n",
    "t.add(12,\"value\")\n",
    "t.add(5, \"value\")\n",
    "\n",
    "assert(t.iterate() == [3, 2, 1, 8, 6, 4, 5, 7, 10, 12])\n",
    "# Lösche Elemente:\n",
    "t.remove(10)\n",
    "assert(t.iterate() == [3, 2, 1, 8, 6, 4, 5, 7, 12])\n",
    "t.remove(1)\n",
    "assert(t.iterate() == [3, 2, 8, 6, 4, 5, 7, 12])\n",
    "\n",
    "# Spezialfall: Lösche Wurzel mit linkem Kindknoten\n",
    "t = BinaryTree()\n",
    "t.add(3, \"value\")\n",
    "t.add(2, \"value\")\n",
    "assert(t.iterate() == [3,2])\n",
    "t.remove(3)\n",
    "assert(t.iterate() == [2])\n",
    "\n",
    "# Spezialfall: Lösche Wurzel mit rechtem Kindknoten\n",
    "t = BinaryTree()\n",
    "t.add(3, \"value\")\n",
    "t.add(4, \"value\")\n",
    "assert(t.iterate() == [3,4])\n",
    "t.remove(3)\n",
    "assert(t.iterate() == [4])\n",
    "### HIDEEND"
   ]
  },
  {
   "cell_type": "code",
   "execution_count": null,
   "metadata": {
    "collapsed": false,
    "nbgrader": {
     "grade": true,
     "grade_id": "bintree_test_2_3",
     "locked": true,
     "points": 2,
     "solution": false
    },
    "slideshow": {
     "slide_type": "skip"
    }
   },
   "outputs": [],
   "source": [
    "# Diese Zelle bitte unverändert lassen!\n",
    "# Erzeuge Baum:\n",
    "t = BinaryTree()\n",
    "t.add(2, \"value\")\n",
    "t.add(1, \"value\")\n",
    "t.add(7, \"value\")\n",
    "t.add(4, \"value\")\n",
    "t.add(6, \"value\")\n",
    "t.add(5, \"value\")\n",
    "t.add(3, \"value\")\n",
    "t.add(9, \"value\")\n",
    "t.add(11,\"value\")\n",
    "\n",
    "assert(t.iterate() == [2, 1, 7, 4, 3, 6, 5, 9, 11])\n",
    "# Lösche Elemente:\n",
    "t.remove(7)\n",
    "assert(t.iterate() == [2, 1, 6, 4, 3, 5, 9, 11])\n",
    "t.remove(2)\n",
    "assert(t.iterate() == [1, 6, 4, 3, 5, 9, 11])\n",
    "\n",
    "### HIDESTART\n",
    "# Fall, dass ein Knoten mit zwei Kindern gelöscht wird\n",
    "t = BinaryTree()\n",
    "t.add(3, \"value\")\n",
    "t.add(2, \"value\")\n",
    "t.add(8, \"value\")\n",
    "t.add(6, \"value\")\n",
    "t.add(5, \"value\")\n",
    "t.add(7, \"value\")\n",
    "t.add(10, \"value\")\n",
    "t.add(12,\"value\")\n",
    "\n",
    "assert(t.iterate() == [3, 2, 8, 6, 5, 7, 10, 12])\n",
    "# Lösche Elemente:\n",
    "t.remove(8)\n",
    "assert(t.iterate() == [3, 2, 7, 6, 5, 10, 12])\n",
    "t.remove(3)\n",
    "assert(t.iterate() == [2, 7, 6, 5, 10, 12])\n",
    "### HIDEEND"
   ]
  },
  {
   "cell_type": "markdown",
   "metadata": {
    "nbgrader": {
     "grade": false,
     "grade_id": "praxis_desc",
     "locked": true,
     "solution": false
    },
    "slideshow": {
     "slide_type": "slide"
    }
   },
   "source": [
    "# Aufgabe 3: Arztpraxis\n",
    "Gegeben ist die Klasse `Patient` (in komplexerer Form bereits bekannt aus Hausübungsblatt 7).   \n",
    "Stellen Sie sich vor, Sie arbeiten in einer Arztpraxis und sollen ein System zur Verwaltung der Patienten im Wartezimmer implementieren.\n",
    "Das System soll Patienten, die in die Praxis kommen, ins Wartezimmer verweisen.\n",
    "Im Büro des Arztes darf sich maximal ein Patient gleichzeitig befinden (der Patient, der gerade vom Arzt behandelt wird).\n",
    "Sobald das Büro des Arztes wieder frei wird (d.h. die Behandlung abgeschlossen ist), kann nun ein Patient im Wartezimmer aufgerufen und in das Büro des Arztes gebeten werden.\n",
    "Für jeden Aufruf wird immer der Patient gewählt, der die längste Zeit im Wartezimmer verbracht hat."
   ]
  },
  {
   "cell_type": "code",
   "execution_count": null,
   "metadata": {
    "collapsed": true,
    "nbgrader": {
     "grade": false,
     "grade_id": "praxis_1_desc",
     "locked": true,
     "solution": false
    },
    "slideshow": {
     "slide_type": "subslide"
    }
   },
   "outputs": [],
   "source": [
    "class Patient:\n",
    "    \"\"\"Modelliert einen Patienten in einfacher Form\"\"\"\n",
    "    \n",
    "    def __init__(self, name, alter):\n",
    "        \"\"\"Konstruktor\n",
    "        \n",
    "        Args:\n",
    "            name: Name des Patienten (str)\n",
    "            alter: Alter des patienten (int)\n",
    "        \"\"\"\n",
    "        self.name = name\n",
    "        self.alter = alter\n",
    "        \n",
    "    def get_name(self):\n",
    "        \"\"\"Gibt den Namen des Patienten zurück\n",
    "        \n",
    "        Returns:\n",
    "            str Name des Patienten\n",
    "        \"\"\"\n",
    "        return self.name\n",
    "    \n",
    "    def get_alter(s):\n",
    "        \"\"\"Gibt das Alter des Patienten zurück\n",
    "        \n",
    "        Returns:\n",
    "            str Alter des Patienten\n",
    "        \"\"\"\n",
    "        return s.alter\n",
    "    \n",
    "    def __str__(self):\n",
    "        \"\"\"Packt die Informationen zu diesem Patient in einen String\n",
    "        \n",
    "        \n",
    "        Returns:\n",
    "            str Patienteninfos\n",
    "        \"\"\"\n",
    "        return \"Name: \" + self.name + \", Alter: \" + str(self.alter)"
   ]
  },
  {
   "cell_type": "markdown",
   "metadata": {
    "collapsed": true,
    "nbgrader": {
     "grade": false,
     "grade_id": "praxis_1_1_desc",
     "locked": true,
     "solution": false
    },
    "slideshow": {
     "slide_type": "slide"
    }
   },
   "source": [
    "### a)\n",
    "Implementieren Sie eine Klasse `Arztpraxis`, welche die folgenden Methoden bereitstellt:\n",
    "- Einen Konstruktor, welcher die Arztpraxis initialisiert. Zu Beginn ist das Wartezimmer leer und im Büro des Arztes befindet sich kein Patient.\n",
    "- `betrete_praxis(self, p)`: Der gegebene Patient `p` betritt die Praxis und wird in das Wartezimmer gebeten.\n",
    "- `naechster_patient_zum_arzt(self)`: Entfernt den Patienten aus dem Wartezimmer, welcher die längste Zeit dort verbracht hat, schickt diesen zum Arzt und gibt diesen zurück. Falls das Wartezimmer leer ist oder sich noch ein Patient in Behandlung befindet, werden keine Aktionen ausgeführt und lediglich `None` zurückgegeben.\n",
    "- `beim_arzt(self)`: Gibt den Patienten zurück, welcher sich gerade beim Arzt befindet. Falls sich gerade kein Patient  beim Arzt befindet, wird `None` zurückgegeben.\n",
    "- `behandlung_abgeschlossen(self)`: Der Patient, der sich aktuell in Behandlung befindet, verlässt die Praxis, sodass das Zimmer des Arztes nun wieder leer ist."
   ]
  },
  {
   "cell_type": "code",
   "execution_count": null,
   "metadata": {
    "collapsed": false,
    "nbgrader": {
     "grade": false,
     "grade_id": "praxis_1_sol",
     "locked": false,
     "solution": true
    },
    "scrolled": true,
    "slideshow": {
     "slide_type": "subslide"
    }
   },
   "outputs": [],
   "source": [
    "### BEGIN SOLUTION\n",
    "class Arztpraxis:\n",
    "    \"\"\"Klasse für die Verwaltung von Patienten in einer Arztpraxis\"\"\"\n",
    "    \n",
    "    def __init__(self):\n",
    "        \"\"\"Konstruktor\"\"\"\n",
    "        self.warteschlange = []\n",
    "        self.in_behandlung = None\n",
    "        \n",
    "    def betrete_praxis(self, p):\n",
    "        \"\"\"Der gegebene Patient p betritt die Praxis und wird in das Wartezimmer gebeten.\n",
    "        \n",
    "        Args:\n",
    "            p: Der hinzugekommene Patient (Patient)\n",
    "        \"\"\"\n",
    "        self.warteschlange.append(p)\n",
    "    \n",
    "    def naechster_patient_zum_arzt(self):\n",
    "        \"\"\"Entfernt den Patienten aus dem Wartezimmer, welcher die längste Zeit dort verbracht hat und \n",
    "        schickt diesen zum Arzt. Falls das Wartezimmer leer ist oder sich noch ein Patient in Behandlung befindet, \n",
    "        werden keine Aktionen ausgeführt.\n",
    "        \n",
    "        Returns:\n",
    "            Patient Den Patienten der zum Arzt geschickt wurde, oder None, falls keine Aktionen ausgeführt wurden.\n",
    "        \"\"\"\n",
    "        # Büro des Arztes noch besetzt:\n",
    "        if not self.beim_arzt() == None:\n",
    "            return None\n",
    "        \n",
    "        # Kein Patient mehr im Wartezimmer:\n",
    "        if len(self.warteschlange) == 0:\n",
    "            return None\n",
    "        \n",
    "        p = self.warteschlange.pop(0)\n",
    "        self.in_behandlung = p\n",
    "        return p\n",
    "    \n",
    "    def beim_arzt(self):\n",
    "        \"\"\"Gibt den Patienten zurück, welcher sich gerade beim Arzt befindet.\n",
    "        \n",
    "        Returns:\n",
    "            Patient Den Patienten, welcher aktuell in Behandlung ist oder None, sich kein Patient gerade beim Arzt befindet.\n",
    "        \"\"\"\n",
    "        return self.in_behandlung\n",
    "    \n",
    "    def behandlung_abgeschlossen(self):\n",
    "        \"\"\"Der Patient, der sich aktuell in Behandlung befindet verlässt die Praxis. \n",
    "        Nach Aufruf dieser Methode gilt beim_arzt() == None.\n",
    "        \"\"\"\n",
    "        self.in_behandlung = None\n",
    "### END SOLUTION    "
   ]
  },
  {
   "cell_type": "code",
   "execution_count": null,
   "metadata": {
    "collapsed": false,
    "nbgrader": {
     "grade": true,
     "grade_id": "praxis_1_test",
     "locked": true,
     "points": 3,
     "solution": false
    },
    "slideshow": {
     "slide_type": "skip"
    }
   },
   "outputs": [],
   "source": [
    "# Diese Zelle bitte unverändert lassen!\n",
    "praxis = Arztpraxis()\n",
    "patienten = [Patient(\"Max M\", 26), Patient(\"Ulrike Eustermann\", 13), Patient(\"Michaela M\", 20)]\n",
    "\n",
    "# Patienten betreten die Praxis:\n",
    "praxis.betrete_praxis(patienten[0])\n",
    "praxis.betrete_praxis(patienten[1])\n",
    "praxis.betrete_praxis(patienten[2])\n",
    "assert(praxis.beim_arzt() == None)\n",
    "\n",
    "# Rufe Patienten auf:\n",
    "praxis.naechster_patient_zum_arzt()\n",
    "assert(praxis.beim_arzt() == patienten[0])\n",
    "\n",
    "praxis.behandlung_abgeschlossen()\n",
    "assert(praxis.beim_arzt() == None)\n",
    "\n",
    "# Rufe nächsten Patienten auf:\n",
    "praxis.naechster_patient_zum_arzt()\n",
    "assert(praxis.beim_arzt() == patienten[1])\n",
    "\n",
    "### HIDESTART\n",
    "praxis = Arztpraxis()\n",
    "patienten = [Patient(\"Ralf B\", 26), Patient(\"Jessica W\", 13), Patient(\"Philipp K\", 20)]\n",
    "\n",
    "# Teste Randfall(1):\n",
    "assert(praxis.naechster_patient_zum_arzt() == None)\n",
    "\n",
    "# Patienten betreten die Praxis:\n",
    "praxis.betrete_praxis(patienten[0])\n",
    "praxis.betrete_praxis(patienten[1])\n",
    "praxis.betrete_praxis(patienten[2])\n",
    "assert(praxis.beim_arzt() == None)\n",
    "\n",
    "# Rufe Patienten auf:\n",
    "praxis.naechster_patient_zum_arzt()\n",
    "assert(praxis.beim_arzt() == patienten[0])\n",
    "\n",
    "# Teste Randfall(2):\n",
    "assert(praxis.naechster_patient_zum_arzt() == None)\n",
    "\n",
    "praxis.behandlung_abgeschlossen()\n",
    "assert(praxis.beim_arzt() == None)\n",
    "\n",
    "# Rufe nächsten Patienten auf:\n",
    "praxis.naechster_patient_zum_arzt()\n",
    "assert(praxis.beim_arzt() == patienten[1])\n",
    "### HIDEEND"
   ]
  },
  {
   "cell_type": "markdown",
   "metadata": {
    "nbgrader": {
     "grade": false,
     "grade_id": "praxis_2_desc",
     "locked": true,
     "solution": false
    },
    "slideshow": {
     "slide_type": "slide"
    }
   },
   "source": [
    "Unsere Arztpraxis soll nun zwischen Kassen- und Privatpatienten unterscheiden:\n",
    "- Für Privatpatienten soll zusätzlich zu deren Namen und Alter auch noch die Anschrift (als String) gespeichert werden.\n",
    "- Privatpatienten werden von der Praxis bevorzugt behandelt, d.h. für die Auswahl des als nächstes zu behandelden Patienten wird immer erst geprüft, ob sich ein Privatpatient im Wartezimmer befindet. Ist dies der Fall, so wird dieser den Kassenpatienten vorgezogen, unabhängig von der Zeit, die er im Wartezimmer verbracht hat.\n",
    "- Falls sich mehrere Privatpatienten im Wartezimmer befinden, so wird der sich am längsten im Wartezimmer befindliche Privatpatient als nächstes aufgerufen.   "
   ]
  },
  {
   "cell_type": "markdown",
   "metadata": {
    "nbgrader": {
     "grade": false,
     "grade_id": "praxis_2_1_desc",
     "locked": true,
     "solution": false
    },
    "slideshow": {
     "slide_type": "fragment"
    }
   },
   "source": [
    "## b) \n",
    "Erweitern Sie zunächst mittels Vererbung die Klasse Patient zu einer Klasse `Privatpatient`, welche über ein Attribut `anschrift` sowie eine Methode `get_anschrift(self)` verfügt.\n",
    "Überschreiben Sie auch die Methode `__str__(self)`, sodass die Tests korrekt laufen."
   ]
  },
  {
   "cell_type": "code",
   "execution_count": null,
   "metadata": {
    "collapsed": false,
    "nbgrader": {
     "grade": false,
     "grade_id": "praxis_2_sol",
     "locked": false,
     "solution": true
    },
    "slideshow": {
     "slide_type": "subslide"
    }
   },
   "outputs": [],
   "source": [
    "### BEGIN SOLUTION\n",
    "class Privatpatient(Patient):\n",
    "    \"\"\"Realisiert einen von der Arztpraxis bevorzugten Patienten\"\"\"\n",
    "    \n",
    "    def __init__(self, anschrift, *args):\n",
    "        \"\"\" Konstruktor\n",
    "        \n",
    "        Args:\n",
    "            anschrift: Anschrift des Privatpatienten (str)\n",
    "        \"\"\"\n",
    "        super().__init__(*args)\n",
    "        self.anschrift = anschrift\n",
    "        \n",
    "    def get_anschrift(self):\n",
    "        \"\"\"Gibt die Anschrift des Privatpatienten zurück\n",
    "        \n",
    "        Returns:\n",
    "            str Anschrift des Privatpatienten\n",
    "        \"\"\"\n",
    "        return self.anschrift\n",
    "    \n",
    "    def __str__(self):\n",
    "        \"\"\"Überschreibt die Standardausgabe\n",
    "        \n",
    "        Returns:\n",
    "            Informationen über den Privatpatienten (str)\n",
    "        \"\"\"\n",
    "        return \"<Privatpatient> \" + super().__str__() + \" Anschrift: \" + self.anschrift\n",
    "### END SOLUTION"
   ]
  },
  {
   "cell_type": "code",
   "execution_count": null,
   "metadata": {
    "collapsed": false,
    "nbgrader": {
     "grade": true,
     "grade_id": "praxis_2_test",
     "locked": true,
     "points": 1,
     "solution": false
    },
    "slideshow": {
     "slide_type": "skip"
    }
   },
   "outputs": [],
   "source": [
    "# Diese Zelle bitte unverändert lassen!\n",
    "p = Privatpatient(\"Flotowstr. 52\", \"Daniela L\", 28)\n",
    "assert(isinstance(p, Patient))\n",
    "assert(isinstance(p, Privatpatient))\n",
    "assert(p.__str__() == \"<Privatpatient> Name: Daniela L, Alter: 28 Anschrift: Flotowstr. 52\")\n",
    "### HIDESTART\n",
    "p2 = Privatpatient(\"Konstanzer Strasse 73\", \"Uwe P\", 25)\n",
    "assert(isinstance(p2, Patient))\n",
    "assert(isinstance(p2, Privatpatient))\n",
    "assert(p2.__str__() == \"<Privatpatient> Name: Uwe P, Alter: 25 Anschrift: Konstanzer Strasse 73\")\n",
    "### HIDEEND"
   ]
  },
  {
   "cell_type": "markdown",
   "metadata": {
    "nbgrader": {
     "grade": false,
     "grade_id": "praxis_3_desc",
     "locked": true,
     "solution": false
    },
    "slideshow": {
     "slide_type": "slide"
    }
   },
   "source": [
    "## c)\n",
    "Erweitern Sie nun mittels Vererbung Ihre Klasse `Arztpraxis` aus Aufgabenteil a) zu einer Klasse `Arztpraxisunfair`, sodass diese nun Privatpatienten wie oben beschrieben bevorzugt behandelt."
   ]
  },
  {
   "cell_type": "code",
   "execution_count": null,
   "metadata": {
    "collapsed": false,
    "nbgrader": {
     "grade": false,
     "grade_id": "praxis_3_sol",
     "locked": false,
     "solution": true
    },
    "slideshow": {
     "slide_type": "subslide"
    }
   },
   "outputs": [],
   "source": [
    "### BEGIN SOLUTION\n",
    "class Arztpraxisunfair(Arztpraxis):\n",
    "    \"\"\"Erweiterung der Klasse Arztpraxis, sodass Privatpatienten bevorzugt werden.\"\"\"\n",
    "    \n",
    "    def __init__(self):\n",
    "        \"\"\"Konstruktor\"\"\"\n",
    "        super().__init__()\n",
    "        self.privat_schlange = []\n",
    "        \n",
    "    def betrete_praxis(self, p):\n",
    "        \"\"\"Der gegebene Patient p betritt die Praxis und wird in das Wartezimmer gebeten. \n",
    "        Privatpatienten werden separat gespeichert.\n",
    "        \n",
    "        Args:\n",
    "            p: Der hinzugekommene Patient (Patient)\n",
    "        \"\"\"\n",
    "        if isinstance(p, Privatpatient):\n",
    "            self.privat_schlange.append(p)\n",
    "        else:\n",
    "            super().betrete_praxis(p)\n",
    "    \n",
    "    def naechster_patient_zum_arzt(self):\n",
    "        \"\"\"Entfernt den Patienten aus dem Wartezimmer, welcher die längste Zeit dort verbracht hat und \n",
    "        schickt diesen zum Arzt. Falls das Wartezimmer leer ist oder sich noch ein Patient in Behandlung befindet, \n",
    "        werden keine Aktionen ausgeführt. Privatpatienten werden bei der Auswahl den normalen Patienten vorgezogen.\n",
    "        \n",
    "        Returns:\n",
    "            Patient Den Patienten der zum Arzt geschickt wurde, oder None, falls keine Aktionen ausgeführt wurden.\n",
    "        \"\"\"        \n",
    "        # Büro des Arztes noch besetzt:\n",
    "        if not self.beim_arzt() == None:\n",
    "            return None\n",
    "        \n",
    "        # Kein Patient mehr im Wartezimmer:\n",
    "        if len(self.privat_schlange) and len(self.warteschlange) == 0:\n",
    "            return None\n",
    "        \n",
    "        p = None\n",
    "        if len(self.privat_schlange) > 0:\n",
    "            # Ziehe Privatpatienten vor:\n",
    "            p = self.privat_schlange.pop(0)\n",
    "            self.in_behandlung = p\n",
    "            return p\n",
    "        else:\n",
    "            # Normaler Patient kann zum Arzt:\n",
    "            super().naechster_patient_zum_arzt()\n",
    "### END SOLUTION"
   ]
  },
  {
   "cell_type": "code",
   "execution_count": null,
   "metadata": {
    "collapsed": false,
    "nbgrader": {
     "grade": true,
     "grade_id": "praxis_4_test",
     "locked": true,
     "points": 2,
     "solution": false
    },
    "slideshow": {
     "slide_type": "skip"
    }
   },
   "outputs": [],
   "source": [
    "# Diese Zelle bitte unverändert lassen!\n",
    "praxis = Arztpraxisunfair()\n",
    "patienten = [Patient(\"Max M\", 26), Patient(\"Ulrike E\", 13), Patient(\"Michaela M\", 20), \n",
    "             Privatpatient(\"Flotowstr. 52\", \"Daniela L\", 28), Privatpatient(\"Brandenburgische Str. 51\", \"Markus S\", 56)]\n",
    "\n",
    "# Patienten betreten die Praxis:\n",
    "praxis.betrete_praxis(patienten[0])\n",
    "praxis.betrete_praxis(patienten[1])\n",
    "praxis.betrete_praxis(patienten[2])\n",
    "praxis.betrete_praxis(patienten[3])\n",
    "praxis.betrete_praxis(patienten[4])\n",
    "assert(praxis.beim_arzt() == None)\n",
    "\n",
    "# Rufe Patienten auf:\n",
    "praxis.naechster_patient_zum_arzt()\n",
    "assert(praxis.beim_arzt() == patienten[3])\n",
    "\n",
    "praxis.behandlung_abgeschlossen()\n",
    "assert(praxis.beim_arzt() == None)\n",
    "\n",
    "# Rufe nächsten Patienten auf:\n",
    "praxis.naechster_patient_zum_arzt()\n",
    "assert(praxis.beim_arzt() == patienten[4])\n",
    "\n",
    "praxis.behandlung_abgeschlossen()\n",
    "assert(praxis.beim_arzt() == None)\n",
    "\n",
    "# Rufe nächsten Patienten auf:\n",
    "praxis.naechster_patient_zum_arzt()\n",
    "assert(praxis.beim_arzt() == patienten[0])\n",
    "\n",
    "### HIDESTART\n",
    "praxis = Arztpraxisunfair()\n",
    "patienten = [Patient(\"Ralf B\", 26), Privatpatient(\"Brandenburgische Str. 51\", \"Markus S\", 56)]\n",
    "\n",
    "# Teste Randfall(1):\n",
    "assert(praxis.naechster_patient_zum_arzt() == None)\n",
    "\n",
    "# Patienten betreten die Praxis:\n",
    "praxis.betrete_praxis(patienten[0])\n",
    "praxis.betrete_praxis(patienten[1])\n",
    "assert(praxis.beim_arzt() == None)\n",
    "\n",
    "# Rufe Patienten auf:\n",
    "praxis.naechster_patient_zum_arzt()\n",
    "assert(praxis.beim_arzt() == patienten[1])\n",
    "\n",
    "# Teste Randfall(2):\n",
    "assert(praxis.naechster_patient_zum_arzt() == None)\n",
    "\n",
    "praxis.behandlung_abgeschlossen()\n",
    "assert(praxis.beim_arzt() == None)\n",
    "\n",
    "# Rufe nächsten Patienten auf:\n",
    "praxis.naechster_patient_zum_arzt()\n",
    "assert(praxis.beim_arzt() == patienten[0])\n",
    "### HIDEEND"
   ]
  },
  {
   "cell_type": "code",
   "execution_count": null,
   "metadata": {
    "collapsed": false,
    "nbgrader": {
     "grade": true,
     "grade_id": "docu_test",
     "locked": true,
     "points": 1,
     "solution": false
    },
    "slideshow": {
     "slide_type": "skip"
    }
   },
   "outputs": [],
   "source": [
    "# Diese Zelle bitte unverändert lassen!\n",
    "# Alle Dokumentationen vorhanden? \n",
    "\n",
    "l = []\n",
    "\n",
    "# Aufgabe 2:\n",
    "l.append((\"BinaryTree\", \"remove\"))\n",
    "\n",
    "# Aufgabe 3\n",
    "l.append((\"Arztpraxis\", \"betrete_praxis\"))\n",
    "l.append((\"Arztpraxis\", \"naechster_patient_zum_arzt\"))\n",
    "l.append((\"Arztpraxis\", \"beim_arzt\"))\n",
    "l.append((\"Arztpraxis\", \"behandlung_abgeschlossen\"))\n",
    "\n",
    "l.append((\"Privatpatient\", \"__init__\"))\n",
    "l.append((\"Privatpatient\", \"get_anschrift\"))\n",
    "l.append((\"Privatpatient\", \"__str__\"))\n",
    "\n",
    "l.append((\"Arztpraxisunfair\", \"betrete_praxis\"))\n",
    "l.append((\"Arztpraxisunfair\", \"naechster_patient_zum_arzt\"))\n",
    "l.append((\"Arztpraxisunfair\", \"beim_arzt\"))\n",
    "l.append((\"Arztpraxisunfair\", \"behandlung_abgeschlossen\"))\n",
    "\n",
    "for a in l:\n",
    "    try:\n",
    "        attr = getattr(eval(a[0]), a[1])\n",
    "        assert(attr.__doc__ != None)\n",
    "        print(attr.__doc__ != None, \"-->\", a[0] + \".\" + a[1])    \n",
    "    except AttributeError:\n",
    "        print(\"Not Implemented\", \"-->\", a[0] + \".\" + a[1])\n",
    "    except AssertionError:\n",
    "        print(attr.__doc__ != None, \"-->\", a[0] + \".\" + a[1])"
   ]
  }
 ],
 "metadata": {
  "anaconda-cloud": {},
  "celltoolbar": "Create Assignment",
  "kernelspec": {
   "display_name": "Python [default]",
   "language": "python",
   "name": "python3"
  },
  "language_info": {
   "codemirror_mode": {
    "name": "ipython",
    "version": 3
   },
   "file_extension": ".py",
   "mimetype": "text/x-python",
   "name": "python",
   "nbconvert_exporter": "python",
   "pygments_lexer": "ipython3",
   "version": "3.5.2"
  }
 },
 "nbformat": 4,
 "nbformat_minor": 1
}
