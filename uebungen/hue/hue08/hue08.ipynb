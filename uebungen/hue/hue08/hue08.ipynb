{
 "cells": [
  {
   "cell_type": "markdown",
   "metadata": {
    "nbgrader": {
     "grade": true,
     "grade_id": "matrikel",
     "locked": false,
     "solution": true
    }
   },
   "source": [
    "Bitte hier eintragen (s.u)!"
   ]
  },
  {
   "cell_type": "markdown",
   "metadata": {
    "nbgrader": {
     "grade": false,
     "grade_id": "matrikel_info",
     "locked": true,
     "solution": false
    }
   },
   "source": [
    "# Abgabehinweise \n",
    "\n",
    "Beachten Sie unbedingt diese Hinweise, sonst erhalten Sie keine Punkte aus dieser Abgabe! Für Details siehe z.B. [Folien der nullten Zentralübung](http://groups.uni-paderborn.de/fg-karl/lehre/ws1617/gp1/hue/gp1-zue0.pdf)\n",
    "\n",
    "## Namen und Matrikelnummern \n",
    "\n",
    "Tragen Sie Ihre Matrikelnummern und E-Mail-Adressen *zeilenweise* in die Zelle **oberhalb** dieser Zelle ein.\n",
    "Achten Sie dabei streng auf die Formatierung, denn die Auswertung erfolgt automatisch. \n",
    "Benutzen Sie *keine* Leerzeilen.\n",
    "Zwischen Matrikelnummer und E-Mail-Adresse *muss genau ein* Leerzeichen stehen; sonst keine Leerzeichen, Tabs, Spiegelstriche, oder ähnliches in einer Zeile. Wir empfehlen *dringend* die Benutzung der Uni-Paderborn E-Mail-Adressen! \n",
    "\n",
    "Format:\n",
    "\n",
    "MatrikelNummer E-Mail-Adresse\n",
    "MatrikelNummer2 E-Mail-Adresse2\n",
    "\n",
    "z.B.:\n",
    "\n",
    "123456 testStudent@mail.upb.de\n",
    "234567 testStudent2@mail.upb.de\n",
    "345678 vorname.nachname@mail.upb.de\n",
    "\n",
    "Hinweis: Das sieht nicht nach separaten Zeilen aus, wenn Sie die Markdownzelle anzeigen lassen. Das ist egal; wichtig ist Formatierung der Eingabe.\n",
    "\n",
    "\n",
    "## Abgabe mit Gruppenaccount \n",
    "\n",
    "Die Abgabe muss mit Ihrem *Gruppenaccount* erfolgen (gp1\\_16\\_...), den Sie in der Präsenzübung erhalten haben! Abgaben, die über Ihren Einzelaccount erfolgen, werden ignoriert. \n",
    "\n",
    "## Abgabe: Submit \n",
    "\n",
    "Es reicht nicht, nur das Übungsblatt zu verändern. Sie müssen unter *Assignments* auf *Submit* clicken (oder entsprechend über die Kommandozeile), für das entsprechende Übungsblatt! (Wenn Sie Blatt 8 abgeben wolllen hilft es nicht, bei Blatt 1 auf Submit zu drücken!) Für Details siehe Beschreibung Abgabeprozess. \n",
    "\n",
    "## Dateinamen\n",
    "\n",
    "Geben Sie Ihre Lösung in der vom Server erhaltenen Datei hue08.ipynb ab (nicht umbenennen, keine Kopie erstellen, keine anderen Dateien in das Verzeichnis legen, auch nicht Dateiname hue8.ipynb !). Sonst kann eine Bewertung nicht stattfinden.\n",
    "\n",
    "## Struktur des Notebooks \n",
    "\n",
    "Fügen Sie keine Zellen hinzu und löschen Sie keine Zellen.\n",
    "Ändern Sie nicht den Typ einer Zelle.\n",
    "Geben Sie Lösungen nur in den Lösungszellen ab. Änderungen in den anderen Zellen werden nach Abgabe automatisch rückgängig gemacht.\n",
    "\n",
    "## Code-Zellen \n",
    "\n",
    "Entfernen Sie die Zeilen mit Inhalt \"raise NotImplementedError()\" aus den Zellen, in die Sie Ihre Lösungen schreiben. *Ersetzen* Sie diese Zeilen durch Ihre eigene Lösungen. \n",
    "\n",
    "## Nie ```input```\n",
    "\n",
    "Benutzen Sie *niemals* die Funktion `input()`. Das verhindert die automatische Auswertung Ihrer Abgabe und führt zu 0 Punkten für das gesamte Blatt! \n",
    "\n",
    "## Kommentare \n",
    "\n",
    "Kommentieren Sie Code-Abgaben! Insbesondere *muss* jede Funktion (Klasse, Methode, ...) einen ```docstring``` haben! Bei fehlendem docstring werden automatisch Punkte abgezogen! \n",
    "\n",
    "\n",
    "# Abgabetermin: 25.12.2016 um 23:59 Uhr"
   ]
  },
  {
   "cell_type": "markdown",
   "metadata": {
    "nbgrader": {
     "grade": false,
     "grade_id": "praxis_desc",
     "locked": true,
     "solution": false
    }
   },
   "source": [
    "# Aufgabe 3: Arztpraxis\n",
    "Gegeben ist die Klasse `Patient` (in komplexerer Form bereits bekannt aus Hausübungsblatt 7).   \n",
    "Stellen Sie sich vor, Sie arbeiten in einer Arztpraxis und sollen ein System zur Verwaltung der Patienten im Wartezimmer implementieren.\n",
    "Das System soll Patienten, die in die Praxis kommen, ins Wartezimmer verweisen.\n",
    "Im Büro des Arztes darf sich maximal ein Patient gleichzeitig befinden (der Patient, der gerade vom Arzt behandelt wird).\n",
    "Sobald das Büro des Arztes wieder frei wird (d.h. die Behandlung abgeschlossen ist), kann nun ein Patient im Wartezimmer aufgerufen und in das Büro des Arztes gebeten werden.\n",
    "Für jeden Aufruf wird immer der Patient gewählt, der die längste Zeit im Wartezimmer verbracht hat."
   ]
  },
  {
   "cell_type": "code",
   "execution_count": 61,
   "metadata": {
    "collapsed": true,
    "nbgrader": {
     "grade": false,
     "grade_id": "praxis_1_desc",
     "locked": true,
     "solution": false
    }
   },
   "outputs": [],
   "source": [
    "class Patient:\n",
    "    \"\"\"Modelliert einen Patienten in einfacher Form\"\"\"\n",
    "    \n",
    "    def __init__(self, name, alter):\n",
    "        \"\"\"Konstruktor\n",
    "        \n",
    "        Args:\n",
    "            name: Name des Patienten (str)\n",
    "            alter: Alter des patienten (int)\n",
    "        \"\"\"\n",
    "        self.name = name\n",
    "        self.alter = alter\n",
    "        \n",
    "    def get_name(self):\n",
    "        \"\"\"Gibt den Namen des Patienten zurück\n",
    "        \n",
    "        Returns:\n",
    "            str Name des Patienten\n",
    "        \"\"\"\n",
    "        return self.name\n",
    "    \n",
    "    def get_alter(s):\n",
    "        \"\"\"Gibt das Alter des Patienten zurück\n",
    "        \n",
    "        Returns:\n",
    "            str Alter des Patienten\n",
    "        \"\"\"\n",
    "        return s.alter\n",
    "    \n",
    "    def __str__(self):\n",
    "        \"\"\"Packt die Informationen zu diesem Patient in einen String\n",
    "        \n",
    "        \n",
    "        Returns:\n",
    "            str Patienteninfos\n",
    "        \"\"\"\n",
    "        return \"Name: \" + self.name + \", Alter: \" + str(self.alter)"
   ]
  },
  {
   "cell_type": "markdown",
   "metadata": {
    "collapsed": true,
    "nbgrader": {
     "grade": false,
     "grade_id": "praxis_1_1_desc",
     "locked": true,
     "solution": false
    }
   },
   "source": [
    "### a)\n",
    "Implementieren Sie eine Klasse `Arztpraxis`, welche die folgenden Methoden bereitstellt:\n",
    "- `betretePraxis(p)`: Der gegebene Patient `p` betritt die Praxis und wird ins Wartezimmer gebeten.\n",
    "- `naechsterPatientZumArzt()`: Entfernt den Patienten aus dem Wartezimmer, welcher die längste Zeit dort verbracht hat, schickt diesen zum Arzt und gibt diesen zurück. Falls das Wartezimmer leer ist oder sich noch ein Patient in Behandlung befindet, werden keine Aktionen ausgeführt und lediglich `None` zurückgegeben.\n",
    "- `beimArzt()`: Gibt den Patienten zurück, welcher sich gerade beim Arzt befindet. Falls sich kein Patient gerade beim Arzt befindet, wird `None` zurückgegeben.\n",
    "- `behandlungAbgeschlossen()`: Der Patient, der sich aktuell in Behandlung befindet verlässt die Praxis, sodass das Zimmer des Arztes nun wieder leer ist."
   ]
  },
  {
   "cell_type": "code",
   "execution_count": 71,
   "metadata": {
    "collapsed": true,
    "nbgrader": {
     "grade": false,
     "grade_id": "praxis_1_sol",
     "locked": false,
     "solution": true
    }
   },
   "outputs": [],
   "source": [
    "class Arztpraxis:\n",
    "    ### BEGIN SOLUTION\n",
    "    def __init__(self):\n",
    "        self.warteschlange = []\n",
    "        self.inBehandlung = None\n",
    "        \n",
    "    def betretePraxis(self, p):\n",
    "        self.warteschlange.append(p)\n",
    "    \n",
    "    def naechsterPatientZumArzt(self):\n",
    "        # Büro des Arztes noch besetzt:\n",
    "        if not self.beimArzt() == None:\n",
    "            return None\n",
    "        \n",
    "        # Kein Patient mehr im Wartezimmer:\n",
    "        if len(self.warteschlange) == 0:\n",
    "            return None\n",
    "        \n",
    "        p = self.warteschlange.pop(0)\n",
    "        self.inBehandlung = p\n",
    "        return p\n",
    "    \n",
    "    def beimArzt(self):\n",
    "        return self.inBehandlung\n",
    "    \n",
    "    def behandlungAbgeschlossen(self):\n",
    "        self.inBehandlung = None\n",
    "    ### END SOLUTION    "
   ]
  },
  {
   "cell_type": "code",
   "execution_count": 78,
   "metadata": {
    "collapsed": false,
    "nbgrader": {
     "grade": true,
     "grade_id": "praxis_1_test",
     "locked": true,
     "points": 3,
     "solution": false
    }
   },
   "outputs": [],
   "source": [
    "praxis = Arztpraxis()\n",
    "patienten = [Patient(\"Max M\", 26), Patient(\"Ulrike Eustermann\", 13), Patient(\"Michaela M\", 20)]\n",
    "\n",
    "# Patienten betreten die Praxis:\n",
    "praxis.betretePraxis(patienten[0])\n",
    "praxis.betretePraxis(patienten[1])\n",
    "praxis.betretePraxis(patienten[2])\n",
    "assert(praxis.beimArzt() == None)\n",
    "\n",
    "# Rufe Patienten auf:\n",
    "praxis.naechsterPatientZumArzt()\n",
    "assert(praxis.beimArzt() == patienten[0])\n",
    "\n",
    "praxis.behandlungAbgeschlossen()\n",
    "assert(praxis.beimArzt() == None)\n",
    "\n",
    "# Rufe nächsten Patienten auf:\n",
    "praxis.naechsterPatientZumArzt()\n",
    "assert(praxis.beimArzt() == patienten[1])\n",
    "\n",
    "### HIDESTART\n",
    "praxis = Arztpraxis()\n",
    "patienten = [Patient(\"Ralf B\", 26), Patient(\"Jessica W\", 13), Patient(\"Philipp K\", 20)]\n",
    "\n",
    "# Teste Randfall(1):\n",
    "assert(praxis.naechsterPatientZumArzt() == None)\n",
    "\n",
    "# Patienten betreten die Praxis:\n",
    "praxis.betretePraxis(patienten[0])\n",
    "praxis.betretePraxis(patienten[1])\n",
    "praxis.betretePraxis(patienten[2])\n",
    "assert(praxis.beimArzt() == None)\n",
    "\n",
    "# Rufe Patienten auf:\n",
    "praxis.naechsterPatientZumArzt()\n",
    "assert(praxis.beimArzt() == patienten[0])\n",
    "\n",
    "# Teste Randfall(2):\n",
    "assert(praxis.naechsterPatientZumArzt() == None)\n",
    "\n",
    "praxis.behandlungAbgeschlossen()\n",
    "assert(praxis.beimArzt() == None)\n",
    "\n",
    "# Rufe nächsten Patienten auf:\n",
    "praxis.naechsterPatientZumArzt()\n",
    "assert(praxis.beimArzt() == patienten[1])\n",
    "### HIDEEND"
   ]
  },
  {
   "cell_type": "markdown",
   "metadata": {
    "nbgrader": {
     "grade": false,
     "grade_id": "praxis_2_desc",
     "locked": true,
     "solution": false
    }
   },
   "source": [
    "Unsere Arztpraxis soll nun zwischen Kassen- und Privatpatienten unterscheiden.\n",
    "Für Privatpatienten soll zusätzlich zu deren Namen und Alter auch noch die Anschrift (als String) gepspeichert werden.\n",
    "Privatpatienten werden von der Praxis bevorzugt behandelt, d.h. für die Auswahl des als nächstes zu behandelden Patienten wird immer erst geprüft, ob sich ein Privatpatient im Wartezimmer befindet.\n",
    "Ist dies der Fall so wird dieser den Kassenpatienten vorgezogen, unabhängig von der Zeit, die er im Wartezimmer verbracht hat.\n",
    "Falls sich mehrere Privatpatienten im Wartezimmer befinden, so wird der sich am längsten im Wartezimmer befindliche Privatpatient als nächstes aufgerufen.   "
   ]
  },
  {
   "cell_type": "markdown",
   "metadata": {
    "nbgrader": {
     "grade": false,
     "grade_id": "praxis_2_1_desc",
     "locked": true,
     "solution": false
    }
   },
   "source": [
    "## b) \n",
    "Erweitern Sie zunächst die Klasse Patient zu einer Klasse `Privatpatient`, welche über ein Attribut `anschrift` sowie eine Methode `get_anschrift()` verfügt.\n",
    "Überschreiben Sie auch die Methode `__str__()`, sodass die Tests korrekt laufen."
   ]
  },
  {
   "cell_type": "code",
   "execution_count": 64,
   "metadata": {
    "collapsed": true,
    "nbgrader": {
     "grade": false,
     "grade_id": "praxis_2_sol",
     "locked": false,
     "solution": true
    }
   },
   "outputs": [],
   "source": [
    "### BEGIN SOLUTION\n",
    "class Privatpatient(Patient):\n",
    "    \n",
    "    def __init__(self, anschrift, *args):\n",
    "        super().__init__(*args)\n",
    "        self.anschrift = anschrift\n",
    "        \n",
    "    def get_anschrift(self):\n",
    "        return self.anschrift\n",
    "    \n",
    "    def __str__(self):\n",
    "        return \"<Privatpatient> \" + super().__str__() + \" Anschrift: \" + self.anschrift\n",
    "### END SOLUTION"
   ]
  },
  {
   "cell_type": "code",
   "execution_count": 69,
   "metadata": {
    "collapsed": false,
    "nbgrader": {
     "grade": true,
     "grade_id": "praxis_2_test",
     "locked": true,
     "points": 1,
     "solution": false
    }
   },
   "outputs": [],
   "source": [
    "p = Privatpatient(\"Flotowstr. 52\", \"Daniela L\", 28)\n",
    "assert(isinstance(p, Patient))\n",
    "assert(isinstance(p, Privatpatient))\n",
    "assert(p.__str__() == \"<Privatpatient> Name: Daniela L, Alter: 28 Anschrift: Flotowstr. 52\")\n",
    "### HIDESTART\n",
    "p2 = Privatpatient(\"Konstanzer Strasse 73\", \"Uwe  P\", 25)\n",
    "assert(isinstance(p2, Patient))\n",
    "assert(isinstance(p2, Privatpatient))\n",
    "assert(p2.__str__() == \"<Privatpatient> Name: Uwe  P, Alter: 25 Anschrift: Konstanzer Strasse 73\")\n",
    "### HIDEEND"
   ]
  },
  {
   "cell_type": "markdown",
   "metadata": {
    "nbgrader": {
     "grade": false,
     "grade_id": "praxis_3_desc",
     "locked": true,
     "solution": false
    }
   },
   "source": [
    "## c)\n",
    "Erweitern Sie nun Ihre Klasse `Arztpraxis` aus Aufgabenteil a) zu einer Klasse `Arztpraxisunfair`, sodass diese nun Privatpatienten wie oben beschrieben bevorzugt behandelt."
   ]
  },
  {
   "cell_type": "code",
   "execution_count": 80,
   "metadata": {
    "collapsed": false,
    "nbgrader": {
     "grade": false,
     "grade_id": "praxis_3_sol",
     "locked": false,
     "solution": true
    }
   },
   "outputs": [],
   "source": [
    "### BEGIN SOLUTION\n",
    "class Arztpraxisunfair(Arztpraxis):\n",
    "\n",
    "    def __init__(self):\n",
    "        super().__init__()\n",
    "        self.privat_schlange = []\n",
    "        \n",
    "    def betretePraxis(self, p):\n",
    "        if isinstance(p, Privatpatient):\n",
    "            self.privat_schlange.append(p)\n",
    "        else:\n",
    "            super().betretePraxis(p)\n",
    "    \n",
    "    def naechsterPatientZumArzt(self):\n",
    "        # Büro des Arztes noch besetzt:\n",
    "        if not self.beimArzt() == None:\n",
    "            return None\n",
    "        \n",
    "        # Kein Patient mehr im Wartezimmer:\n",
    "        if len(self.privat_schlange) and len(self.warteschlange) == 0:\n",
    "            return None\n",
    "        \n",
    "        # Ziehe Privatpatienten vor:\n",
    "        if len(self.privat_schlange) > 0:\n",
    "            p = self.privat_schlange.pop(0)\n",
    "            self.inBehandlung = p\n",
    "            return p\n",
    "        else:\n",
    "            super().naechsterPatientZumArzt()\n",
    "### END SOLUTION"
   ]
  },
  {
   "cell_type": "code",
   "execution_count": 85,
   "metadata": {
    "collapsed": false,
    "nbgrader": {
     "grade": true,
     "grade_id": "praxis_4_test",
     "locked": true,
     "points": 2,
     "solution": false
    }
   },
   "outputs": [],
   "source": [
    "praxis = Arztpraxisunfair()\n",
    "patienten = [Patient(\"Max M\", 26), Patient(\"Ulrike Eustermann\", 13), Patient(\"Michaela M\", 20), \n",
    "             Privatpatient(\"Flotowstr. 52\", \"Daniela L\", 28), Privatpatient(\"Brandenburgische Str. 51\", \"Markus S\", 56)]\n",
    "\n",
    "# Patienten betreten die Praxis:\n",
    "praxis.betretePraxis(patienten[0])\n",
    "praxis.betretePraxis(patienten[1])\n",
    "praxis.betretePraxis(patienten[2])\n",
    "praxis.betretePraxis(patienten[3])\n",
    "praxis.betretePraxis(patienten[4])\n",
    "assert(praxis.beimArzt() == None)\n",
    "\n",
    "# Rufe Patienten auf:\n",
    "praxis.naechsterPatientZumArzt()\n",
    "assert(praxis.beimArzt() == patienten[3])\n",
    "\n",
    "praxis.behandlungAbgeschlossen()\n",
    "assert(praxis.beimArzt() == None)\n",
    "\n",
    "# Rufe nächsten Patienten auf:\n",
    "praxis.naechsterPatientZumArzt()\n",
    "assert(praxis.beimArzt() == patienten[4])\n",
    "\n",
    "praxis.behandlungAbgeschlossen()\n",
    "assert(praxis.beimArzt() == None)\n",
    "\n",
    "# Rufe nächsten Patienten auf:\n",
    "praxis.naechsterPatientZumArzt()\n",
    "assert(praxis.beimArzt() == patienten[0])\n",
    "\n",
    "### HIDESTART\n",
    "praxis = Arztpraxisunfair()\n",
    "patienten = [Patient(\"Ralf B\", 26), Privatpatient(\"Brandenburgische Str. 51\", \"Markus S\", 56)]\n",
    "\n",
    "# Teste Randfall(1):\n",
    "assert(praxis.naechsterPatientZumArzt() == None)\n",
    "\n",
    "# Patienten betreten die Praxis:\n",
    "praxis.betretePraxis(patienten[0])\n",
    "praxis.betretePraxis(patienten[1])\n",
    "assert(praxis.beimArzt() == None)\n",
    "\n",
    "# Rufe Patienten auf:\n",
    "praxis.naechsterPatientZumArzt()\n",
    "assert(praxis.beimArzt() == patienten[1])\n",
    "\n",
    "# Teste Randfall(2):\n",
    "assert(praxis.naechsterPatientZumArzt() == None)\n",
    "\n",
    "praxis.behandlungAbgeschlossen()\n",
    "assert(praxis.beimArzt() == None)\n",
    "\n",
    "# Rufe nächsten Patienten auf:\n",
    "praxis.naechsterPatientZumArzt()\n",
    "assert(praxis.beimArzt() == patienten[0])\n",
    "### HIDEEND"
   ]
  },
  {
   "cell_type": "code",
   "execution_count": 86,
   "metadata": {
    "collapsed": false,
    "nbgrader": {
     "grade": true,
     "grade_id": "docu_test",
     "locked": true,
     "points": 1,
     "solution": false
    }
   },
   "outputs": [],
   "source": [
    "### HIDESTART\n",
    "# TODO!!\n",
    "### HIDEEND"
   ]
  }
 ],
 "metadata": {
  "anaconda-cloud": {},
  "celltoolbar": "Create Assignment",
  "kernelspec": {
   "display_name": "Python [default]",
   "language": "python",
   "name": "python3"
  },
  "language_info": {
   "codemirror_mode": {
    "name": "ipython",
    "version": 3
   },
   "file_extension": ".py",
   "mimetype": "text/x-python",
   "name": "python",
   "nbconvert_exporter": "python",
   "pygments_lexer": "ipython3",
   "version": "3.5.2"
  }
 },
 "nbformat": 4,
 "nbformat_minor": 1
}
