{
 "cells": [
  {
   "cell_type": "markdown",
   "metadata": {
    "nbgrader": {
     "grade": true,
     "grade_id": "matrikel",
     "locked": false,
     "points": 0,
     "solution": true
    }
   },
   "source": [
    "Bitte hier eintragen (s.u)!"
   ]
  },
  {
   "cell_type": "markdown",
   "metadata": {
    "nbgrader": {
     "grade": false,
     "grade_id": "matrikel_info",
     "locked": true,
     "solution": false
    }
   },
   "source": [
    "# Abgabehinweise \n",
    "\n",
    "Beachten Sie unbedingt diese Hinweise, sonst erhalten Sie keine Punkte aus dieser Abgabe! Für Details siehe z.B. [Folien der nullten Zentralübung](http://groups.uni-paderborn.de/fg-karl/lehre/ws1617/gp1/hue/gp1-zue0.pdf)\n",
    "\n",
    "## Namen und Matrikelnummern \n",
    "\n",
    "Tragen Sie Ihre Matrikelnummern und E-Mail-Adressen *zeilenweise* in die Zelle **oberhalb** dieser Zelle ein.\n",
    "Achten Sie dabei streng auf die Formatierung, denn die Auswertung erfolgt automatisch. \n",
    "Benutzen Sie *keine* Leerzeilen.\n",
    "Zwischen Matrikelnummer und E-Mail-Adresse *muss genau ein* Leerzeichen stehen; sonst keine Leerzeichen, Tabs, Spiegelstriche, oder ähnliches in einer Zeile. Wir empfehlen *dringend* die Benutzung der Uni-Paderborn E-Mail-Adressen! \n",
    "\n",
    "Format:\n",
    "\n",
    "MatrikelNummer E-Mail-Adresse\n",
    "MatrikelNummer2 E-Mail-Adresse2\n",
    "\n",
    "z.B.:\n",
    "\n",
    "123456 testStudent@mail.upb.de\n",
    "234567 testStudent2@mail.upb.de\n",
    "345678 vorname.nachname@mail.upb.de\n",
    "\n",
    "Hinweis: Das sieht nicht nach separaten Zeilen aus, wenn Sie die Markdownzelle anzeigen lassen. Das ist egal; wichtig ist Formatierung der Eingabe.\n",
    "\n",
    "\n",
    "## Abgabe mit Gruppenaccount \n",
    "\n",
    "Die Abgabe muss mit Ihrem *Gruppenaccount* erfolgen (gp1\\_16\\_...), den Sie in der Präsenzübung erhalten haben! Abgaben, die über Ihren Einzelaccount erfolgen, werden ignoriert. \n",
    "\n",
    "## Abgabe: Submit \n",
    "\n",
    "Es reicht nicht, nur das Übungsblatt zu verändern. Sie müssen unter *Assignments* auf *Submit* clicken (oder entsprechend über die Kommandozeile), für das entsprechende Übungsblatt! (Wenn Sie Blatt 8 abgeben wolllen hilft es nicht, bei Blatt 1 auf Submit zu drücken!) Für Details siehe Beschreibung Abgabeprozess. \n",
    "\n",
    "## Dateinamen\n",
    "\n",
    "Geben Sie Ihre Lösung in der vom Server erhaltenen Datei hue08.ipynb ab (nicht umbenennen, keine Kopie erstellen, keine anderen Dateien in das Verzeichnis legen, auch nicht Dateiname hue8.ipynb !). Sonst kann eine Bewertung nicht stattfinden.\n",
    "\n",
    "## Struktur des Notebooks \n",
    "\n",
    "Fügen Sie keine Zellen hinzu und löschen Sie keine Zellen.\n",
    "Ändern Sie nicht den Typ einer Zelle.\n",
    "Geben Sie Lösungen nur in den Lösungszellen ab. Änderungen in den anderen Zellen werden nach Abgabe automatisch rückgängig gemacht.\n",
    "\n",
    "## Code-Zellen \n",
    "\n",
    "Entfernen Sie die Zeilen mit Inhalt \"raise NotImplementedError()\" aus den Zellen, in die Sie Ihre Lösungen schreiben. *Ersetzen* Sie diese Zeilen durch Ihre eigene Lösungen. \n",
    "\n",
    "## Nie ```input```\n",
    "\n",
    "Benutzen Sie *niemals* die Funktion `input()`. Das verhindert die automatische Auswertung Ihrer Abgabe und führt zu 0 Punkten für das gesamte Blatt! \n",
    "\n",
    "## Kommentare \n",
    "\n",
    "Kommentieren Sie Code-Abgaben! Insbesondere *muss* jede Funktion (Klasse, Methode, ...) einen ```docstring``` haben! Bei fehlendem docstring werden automatisch Punkte abgezogen! \n",
    "\n",
    "\n",
    "# Abgabetermin: 25.12.2016 um 23:59 Uhr"
   ]
  },
  {
   "cell_type": "markdown",
   "metadata": {
    "nbgrader": {
     "grade": false,
     "grade_id": "vererbung_desc",
     "locked": true,
     "solution": false
    }
   },
   "source": [
    "# Aufgabe 1: Vererbung\n",
    "Für diese Aufgabe betrachten Sie den Code in der nachfolgenden Code-Zelle."
   ]
  },
  {
   "cell_type": "code",
   "execution_count": null,
   "metadata": {
    "collapsed": true,
    "nbgrader": {
     "grade": false,
     "grade_id": "vererbung_code",
     "locked": true,
     "solution": false
    }
   },
   "outputs": [],
   "source": [
    "class A:\n",
    "    \n",
    "    def __init__(self, x, y):\n",
    "        self.x = x\n",
    "        self.y = y\n",
    "        \n",
    "    def to_string(self):\n",
    "        return \"x, y = ({},{})\".format(self.x, self.y)\n",
    "    \n",
    "    def __str__(self):\n",
    "        return self.to_string()\n",
    "    \n",
    "class B(A):\n",
    "    \n",
    "    def __init__(self, z, *args):\n",
    "        A.__init__(self, *args)\n",
    "        self.z = z\n",
    "        \n",
    "    def __str__(self):\n",
    "        return super().__str__()\n",
    "    \n",
    "class C(A):\n",
    "    \n",
    "    def __init__(self, *args):\n",
    "        super().__init__(*args)\n",
    "        \n",
    "    def to_string(self):\n",
    "        return \"Klasse C, {}\".format(super().to_string())"
   ]
  },
  {
   "cell_type": "markdown",
   "metadata": {
    "nbgrader": {
     "grade": false,
     "grade_id": "vererbung_1_desc",
     "locked": true,
     "solution": false
    }
   },
   "source": [
    "## a)\n",
    "Nennen Sie die beiden Möglichkeiten, den Konstruktor einer Oberklasse aufzurufen und argumentieren Sie anhand von *DRY*, welche der beiden Möglichkeiten sinnvoller erscheint."
   ]
  },
  {
   "cell_type": "markdown",
   "metadata": {
    "nbgrader": {
     "grade": true,
     "grade_id": "vererbung_1_sol",
     "locked": false,
     "points": 2,
     "solution": true
    }
   },
   "source": [
    "Der Konstruktor einer Oberklasse (hier die Klasse A) lässt sich entweder via \n",
    "```Python\n",
    "A.__init__()\n",
    "```\n",
    "oder via \n",
    "```Python\n",
    "super().__init__()\n",
    "```\n",
    "aufrufen.\n",
    "Bei der ersten Variante ist allerdings unschön, dass der Klassenname `A` dadurch mehrfach aufgeschrieben wird und somit DRY (Don't repeat yourself) verletzt wird.\n",
    "Weiterhin ist der erste Aufruf fehleranfällig, falls man die Klasse `A` umbenennt oder die Oberklasse in der Unterklasse ändern möchte.   \n",
    "Die Methode via `super()` verwendet ist da allgemeiner und eignet sich nicht nur für Aufrufe von Konstruktoren der Oberklasse."
   ]
  },
  {
   "cell_type": "markdown",
   "metadata": {
    "nbgrader": {
     "grade": false,
     "grade_id": "vererbung_2_desc",
     "locked": true,
     "solution": false
    }
   },
   "source": [
    "## b)\n",
    "Warum kann man im Konstruktor der Klasse `B` den Aufruf\n",
    "```Python\n",
    "    A.__init__(self, *args)\n",
    "```\n",
    "nicht zu \n",
    "```Python\n",
    "    A.__init__(*args)\n",
    "```\n",
    "vereinfachen? In der Klasse `C` kann man schließlich auch den Konstruktor von `A` ohne die Angabe des Parameters `self` fehlerfrei durchführen."
   ]
  },
  {
   "cell_type": "markdown",
   "metadata": {
    "nbgrader": {
     "grade": true,
     "grade_id": "vererbung_2_sol",
     "locked": false,
     "points": 1,
     "solution": true
    }
   },
   "source": [
    "Ein Aufruf des Oberklassenkonstruktors via `Oberklasse.__init__()` benötigt den Parameter `self`, da sonst nicht klar ist für welches Objekt der Konstruktor aufgerufen werden soll.\n",
    "Durch solch einen Aufruf wird die Methode `__init__` nämlich als eine Klassenmethode gesehen und nicht als eine Objektspezifische Methode."
   ]
  },
  {
   "cell_type": "markdown",
   "metadata": {
    "nbgrader": {
     "grade": false,
     "grade_id": "vererbung_3_desc",
     "locked": true,
     "solution": false
    }
   },
   "source": [
    "## c)\n",
    "Verwenden Sie in der nachfolgenden Code-Zelle die Build-In Funktion `isinstance`, um zu überprüfen, ob die Objekte, welche von den Variablen `a`, `b` und `c` referenziert werden Instanzen von den obigen Klassen `A`, `B` und `C` sind.\n",
    "Geben Sie das Ergebnis (`True` oder `False`) jedes einzelnen Aufrufs mittles `print` aus."
   ]
  },
  {
   "cell_type": "code",
   "execution_count": null,
   "metadata": {
    "collapsed": false,
    "nbgrader": {
     "grade": true,
     "grade_id": "vererbung_3_sol",
     "locked": false,
     "points": 1,
     "solution": true
    }
   },
   "outputs": [],
   "source": [
    "a = A(1,2)\n",
    "b = B(1,2,3)\n",
    "c = C(4,5)\n",
    "\n",
    "### BEGIN SOLUTION\n",
    "print(isinstance(a,A))\n",
    "print(isinstance(a,B))\n",
    "print(isinstance(a,C))\n",
    "print(isinstance(b,A))\n",
    "print(isinstance(b,B))\n",
    "print(isinstance(b,C))\n",
    "print(isinstance(c,A))\n",
    "print(isinstance(c,B))\n",
    "print(isinstance(c,C))\n",
    "### END SOLUTION"
   ]
  },
  {
   "cell_type": "markdown",
   "metadata": {
    "nbgrader": {
     "grade": false,
     "grade_id": "vererbung_desc_4",
     "locked": true,
     "solution": false
    }
   },
   "source": [
    "## d)\n",
    "Geben Sie für die beiden folgenden Befehle an, welche Methoden in welcher Reihenfolge aufgerufen werden.\n",
    "\n",
    "1. `print(b)`\n",
    "2. `print(c)`\n",
    "\n",
    "Beispielsweise soll dies für die Anweisung `b = B(1,2,3)` in dem folgenden Format geschehen:\n",
    "\n",
    "`b = B(1,2,3)` $\\rightarrow$ `B.__init__()` $\\rightarrow$ `A.__init__()`\n"
   ]
  },
  {
   "cell_type": "markdown",
   "metadata": {
    "nbgrader": {
     "grade": true,
     "grade_id": "vererbung_sol_4",
     "locked": false,
     "points": 2,
     "solution": true
    }
   },
   "source": [
    "1. `print(b)` $\\rightarrow$ `B.__str__()` $\\rightarrow$ `A.__str__()` $\\rightarrow$ `A.to_string()`   \n",
    "2. `print(c)` $\\rightarrow$ `A.__str__()` $\\rightarrow$ `C.to_string()` $\\rightarrow$ `A.to_string()`"
   ]
  },
  {
   "cell_type": "markdown",
   "metadata": {
    "nbgrader": {
     "grade": false,
     "grade_id": "bintree_desc_1",
     "locked": true,
     "solution": false
    }
   },
   "source": [
    "# Aufgabe 2: Löschen im Binärbaum\n",
    "In dieser Aufgabe sollen Sie die Operation `delete()` der Klasse `BinTree` aus der Vorlesung implementieren.\n",
    "\n",
    "## a)\n",
    "Beantworten Sie zunächst die folgenden Fragen:\n",
    "1. Nehmen Sie an, Sie kennen den Knoten, welcher den zu löschenden Schlüssel enthält bereits. Zwischen welchen drei Fällen müssen Sie beim Löschen unterscheiden?\n",
    "2. Welche Zustandsinformationen müssen Sie sich in den rekursiven Aufrufen merken?"
   ]
  },
  {
   "cell_type": "markdown",
   "metadata": {
    "nbgrader": {
     "grade": true,
     "grade_id": "bintree_sol_1",
     "locked": false,
     "points": 2,
     "solution": true
    }
   },
   "source": [
    "1. - Der zu löschende Knoten ist ein Blattknoten\n",
    "   - Der zu löschende Knoten hat genau einen Kindknoten\n",
    "   - Der zu löschende Knoten hat zwei Kindknoten\n",
    "2. Das kann je nach Art der Implementierung variieren: Was benötigt wird sind Referenzen zu dem zu löschenden Knoten und dessen Vaterknoten. Der Vaterknoten kann aber auch in der Klasse TreeNode eingerichtet werden. Dadurch würden die Methoden `add` und `delete` aber etwas komplizierter. In der folgenden Lösung wird der Vaterknoten daher immer in jedem rekursiven Aufruf übergeben."
   ]
  },
  {
   "cell_type": "markdown",
   "metadata": {
    "nbgrader": {
     "grade": false,
     "grade_id": "bintree_desc_2",
     "locked": true,
     "solution": false
    }
   },
   "source": [
    "## b)\n",
    "Vervollständigen Sie nun die Methode `delete()` in der unten angegebenen Klasse `BinTree`, sodass die angegebenen Tests funktionieren.\n",
    "Sie dürfen dabei annehmen, dass der zu löschende Schlüssel im Baum vorhanden ist.   \n",
    "\n",
    "*Tipp*: Überlegen Sie sich eine geschickte Variante um Schlüssel, deren Knoten zwei Kindknoten haben, ohne unnötiges verschieben von Referenzen zu löschen."
   ]
  },
  {
   "cell_type": "code",
   "execution_count": null,
   "metadata": {
    "collapsed": false,
    "nbgrader": {
     "grade": false,
     "grade_id": "bintree_sol_2",
     "locked": false,
     "solution": true
    }
   },
   "outputs": [],
   "source": [
    "class TreeNode:\n",
    "    def __init__(self, key, val):\n",
    "        self.key = key\n",
    "        self.value = val\n",
    "        self.leftChild = None\n",
    "        self.rightChild = None\n",
    "\n",
    "    def isLeaf(self):\n",
    "        return ((self.leftChild is None) and (self.rightChild is None))\n",
    "\n",
    "class BinaryTree:\n",
    "    \n",
    "    def __init__(self):\n",
    "        self.root = None\n",
    "        self.size = 0\n",
    "    \n",
    "    def add(self, key, value):\n",
    "        \"\"\"Füge einen Eintrag unter key an die richtige Stelle ein\"\"\"\n",
    "        if self.root is None:\n",
    "            # Baum ist leer, wir erzeugen den ersten Eintrag\n",
    "            self.root = TreeNode(key, value)\n",
    "        else:\n",
    "            # Versuche, den Eintrag unter dem Knoten self.root einzufuegen das wird laenger; also eigene Methode\n",
    "            self._add(key, value, self.root)\n",
    "\n",
    "        self.size += 1\n",
    "\n",
    "    def _add(self, key, value, currentNode):\n",
    "        if key < currentNode.key:\n",
    "            # fuege im linken Teil ein\n",
    "            if currentNode.leftChild is None:\n",
    "                # hier muss der neue Knoten hin!\n",
    "                currentNode.leftChild = TreeNode(key, value)\n",
    "            else:\n",
    "                # es gibt schon Kinder, suche dort weiter:\n",
    "                self._add(key, value, currentNode.leftChild)\n",
    "        elif key > currentNode.key:\n",
    "            # der Fall is ganz symmetrisch\n",
    "            if currentNode.rightChild is None:\n",
    "                currentNode.rightChild = TreeNode(key, value)\n",
    "            else:\n",
    "                self._add(key, value, currentNode.rightChild)\n",
    "        else:\n",
    "            # wenn key schon existiert: aktualisiere Wert\n",
    "            currentNode.value = value\n",
    "    \n",
    "    def iterate(self):\n",
    "        \"\"\"Traversiere den Baum 'preorder'.\"\"\"\n",
    "        return self._iterate(self.root, [])\n",
    "    \n",
    "    def _iterate(self, t, s):\n",
    "        s.append(t.key)\n",
    "        if t.leftChild != None:\n",
    "            self._iterate(t.leftChild, s)\n",
    "        if t.rightChild != None:\n",
    "            self._iterate(t.rightChild, s)\n",
    "        return s\n",
    "        \n",
    "    ### BEGIN SOLUTION\n",
    "    def remove(self, key):\n",
    "        \"\"\"Entferne Eintrag unter key falls vorhanden; erhalte Baumstruktur!\"\"\"\n",
    "        if self.root.key == key and self.size == 1:\n",
    "            # wir entfernen den letzten Knoten:\n",
    "            self.root = None\n",
    "        else:\n",
    "            self._remove(key, self.root, None)\n",
    "\n",
    "        self.size -= 1\n",
    "\n",
    "    def _remove(self, key, currentNode, parent):            \n",
    "        if key == currentNode.key:\n",
    "            # Zu löschender Knoten gefunden -- hat er Kinder?\n",
    "            if currentNode.isLeaf():\n",
    "                # Zu löschender Knoten hat keine Kinder - Lösche Knotenreferenz vom Parent-Node:\n",
    "                if parent.leftChild != None and parent.leftChild.key == key:\n",
    "                    parent.leftChild = None\n",
    "                else:\n",
    "                    parent.rightChild = None\n",
    "            elif currentNode.leftChild == None and currentNode.rightChild != None:\n",
    "                # Zu löschender Knoten hat einen Kindknoten (rechts):\n",
    "                if currentNode == self.root:\n",
    "                    self.root = currentNode.rightChild\n",
    "                else:\n",
    "                    if parent.leftChild != None and parent.leftChild.key == key:\n",
    "                        parent.leftChild = currentNode.rightChild\n",
    "                    else:\n",
    "                        parent.rightChild = currentNode.rightChild\n",
    "            elif currentNode.leftChild != None and currentNode.rightChild == None: # analog zum vorherigen Fall!\n",
    "                # Zu löschender Knoten hat einen Kindknoten (links):\n",
    "                if currentNode == self.root:\n",
    "                    self.root = currentNode.leftChild\n",
    "                else:\n",
    "                    if parent.leftChild != None and parent.leftChild.key == key:\n",
    "                        parent.leftChild = currentNode.leftChild\n",
    "                    else:\n",
    "                        parent.rightChild = currentNode.leftChild\n",
    "            else:\n",
    "                # Zu löschender Knoten hat zwei Kindknoten - Suche nach in-order-vorgänger:\n",
    "                vorgaenger = currentNode.leftChild\n",
    "                vorgaengerparent = currentNode\n",
    "                while vorgaenger.rightChild != None:\n",
    "                    vorgaengerparent = vorgaenger\n",
    "                    vorgaenger = vorgaenger.rightChild\n",
    "                    \n",
    "                # Tausche key-value Paare des zu löschenden Knotens mit dem in-order-vorgänger:\n",
    "                k,v = currentNode.key, currentNode.value\n",
    "                currentNode.key, currentNode.value = vorgaenger.key, vorgaenger.value\n",
    "                vorgaenger.key, vorgaenger.value = k,v\n",
    "                \n",
    "                # Nun braucht nurnoch der vorgaengerknoten gelöscht werden, dieser hat weniger als 2 Kindknoten!\n",
    "                self._remove(key, vorgaenger, vorgaengerparent)\n",
    "        elif key < currentNode.key:\n",
    "            self._remove(key, currentNode.leftChild, currentNode)\n",
    "        else:\n",
    "            self._remove(key, currentNode.rightChild, currentNode)\n",
    "    ### END SOLUTION"
   ]
  },
  {
   "cell_type": "code",
   "execution_count": null,
   "metadata": {
    "collapsed": false,
    "nbgrader": {
     "grade": true,
     "grade_id": "bintree_test_2",
     "locked": true,
     "points": 5,
     "solution": false
    }
   },
   "outputs": [],
   "source": [
    "t = BinaryTree()\n",
    "t.add(2, \"value\")\n",
    "t.add(7, \"value\")\n",
    "t.add(5, \"value\")\n",
    "t.add(1, \"value\")\n",
    "t.add(6, \"value\")\n",
    "t.add(9, \"value\")\n",
    "t.add(3, \"value\")\n",
    "t.add(11,\"value\")\n",
    "t.add(4, \"value\")\n",
    "\n",
    "assert(t.iterate() == [2, 1, 7, 5, 3, 4, 6, 9, 11])\n",
    "t.remove(1)\n",
    "assert(t.iterate() == [2, 7, 5, 3, 4, 6, 9, 11])\n",
    "t.remove(3)\n",
    "assert(t.iterate() == [2, 7, 5, 4, 6, 9, 11])\n",
    "t.remove(7)\n",
    "assert(t.iterate() == [2, 6, 5, 4, 9, 11])\n",
    "t.remove(2)\n",
    "assert(t.iterate() == [6, 5, 4, 9, 11])"
   ]
  },
  {
   "cell_type": "markdown",
   "metadata": {
    "nbgrader": {
     "grade": false,
     "grade_id": "praxis_desc",
     "locked": true,
     "solution": false
    }
   },
   "source": [
    "# Aufgabe 3: Arztpraxis\n",
    "Gegeben ist die Klasse `Patient` (in komplexerer Form bereits bekannt aus Hausübungsblatt 7).   \n",
    "Stellen Sie sich vor, Sie arbeiten in einer Arztpraxis und sollen ein System zur Verwaltung der Patienten im Wartezimmer implementieren.\n",
    "Das System soll Patienten, die in die Praxis kommen, ins Wartezimmer verweisen.\n",
    "Im Büro des Arztes darf sich maximal ein Patient gleichzeitig befinden (der Patient, der gerade vom Arzt behandelt wird).\n",
    "Sobald das Büro des Arztes wieder frei wird (d.h. die Behandlung abgeschlossen ist), kann nun ein Patient im Wartezimmer aufgerufen und in das Büro des Arztes gebeten werden.\n",
    "Für jeden Aufruf wird immer der Patient gewählt, der die längste Zeit im Wartezimmer verbracht hat."
   ]
  },
  {
   "cell_type": "code",
   "execution_count": null,
   "metadata": {
    "collapsed": true,
    "nbgrader": {
     "grade": false,
     "grade_id": "praxis_1_desc",
     "locked": true,
     "solution": false
    }
   },
   "outputs": [],
   "source": [
    "class Patient:\n",
    "    \"\"\"Modelliert einen Patienten in einfacher Form\"\"\"\n",
    "    \n",
    "    def __init__(self, name, alter):\n",
    "        \"\"\"Konstruktor\n",
    "        \n",
    "        Args:\n",
    "            name: Name des Patienten (str)\n",
    "            alter: Alter des patienten (int)\n",
    "        \"\"\"\n",
    "        self.name = name\n",
    "        self.alter = alter\n",
    "        \n",
    "    def get_name(self):\n",
    "        \"\"\"Gibt den Namen des Patienten zurück\n",
    "        \n",
    "        Returns:\n",
    "            str Name des Patienten\n",
    "        \"\"\"\n",
    "        return self.name\n",
    "    \n",
    "    def get_alter(s):\n",
    "        \"\"\"Gibt das Alter des Patienten zurück\n",
    "        \n",
    "        Returns:\n",
    "            str Alter des Patienten\n",
    "        \"\"\"\n",
    "        return s.alter\n",
    "    \n",
    "    def __str__(self):\n",
    "        \"\"\"Packt die Informationen zu diesem Patient in einen String\n",
    "        \n",
    "        \n",
    "        Returns:\n",
    "            str Patienteninfos\n",
    "        \"\"\"\n",
    "        return \"Name: \" + self.name + \", Alter: \" + str(self.alter)"
   ]
  },
  {
   "cell_type": "markdown",
   "metadata": {
    "collapsed": true,
    "nbgrader": {
     "grade": false,
     "grade_id": "praxis_1_1_desc",
     "locked": true,
     "solution": false
    }
   },
   "source": [
    "### a)\n",
    "Implementieren Sie eine Klasse `Arztpraxis`, welche die folgenden Methoden bereitstellt:\n",
    "- `betrete_praxis(p)`: Der gegebene Patient `p` betritt die Praxis und wird in das Wartezimmer gebeten.\n",
    "- `naechster_patient_zum_arzt()`: Entfernt den Patienten aus dem Wartezimmer, welcher die längste Zeit dort verbracht hat, schickt diesen zum Arzt und gibt diesen zurück. Falls das Wartezimmer leer ist oder sich noch ein Patient in Behandlung befindet, werden keine Aktionen ausgeführt und lediglich `None` zurückgegeben.\n",
    "- `beim_arzt()`: Gibt den Patienten zurück, welcher sich gerade beim Arzt befindet. Falls sich kein Patient gerade beim Arzt befindet, wird `None` zurückgegeben.\n",
    "- `behandlung_abgeschlossen()`: Der Patient, der sich aktuell in Behandlung befindet verlässt die Praxis, sodass das Zimmer des Arztes nun wieder leer ist."
   ]
  },
  {
   "cell_type": "code",
   "execution_count": null,
   "metadata": {
    "collapsed": false,
    "nbgrader": {
     "grade": false,
     "grade_id": "praxis_1_sol",
     "locked": false,
     "solution": true
    }
   },
   "outputs": [],
   "source": [
    "class Arztpraxis:\n",
    "    ### BEGIN SOLUTION\n",
    "    \"\"\"Klasse für die Verwaltung von Patienten in einer Arztpraxis\"\"\"\n",
    "    \n",
    "    def __init__(self):\n",
    "        \"\"\"Konstruktor\"\"\"\n",
    "        self.warteschlange = []\n",
    "        self.inBehandlung = None\n",
    "        \n",
    "    def betrete_praxis(self, p):\n",
    "        \"\"\"Der gegebene Patient p betritt die Praxis und wird in das Wartezimmer gebeten.\n",
    "        \n",
    "        Args:\n",
    "            p: Der hinzugekommene Patient (Patient)\n",
    "        \"\"\"\n",
    "        self.warteschlange.append(p)\n",
    "    \n",
    "    def naechster_patient_zum_arzt(self):\n",
    "        \"\"\"Entfernt den Patienten aus dem Wartezimmer, welcher die längste Zeit dort verbracht hat und \n",
    "        schickt diesen zum Arzt. Falls das Wartezimmer leer ist oder sich noch ein Patient in Behandlung befindet, \n",
    "        werden keine Aktionen ausgeführt.\n",
    "        \n",
    "        Returns:\n",
    "            Patient Den Patienten der zum Arzt geschickt wurde, oder None, falls keine Aktionen ausgeführt wurden.\n",
    "        \"\"\"\n",
    "        # Büro des Arztes noch besetzt:\n",
    "        if not self.beim_arzt() == None:\n",
    "            return None\n",
    "        \n",
    "        # Kein Patient mehr im Wartezimmer:\n",
    "        if len(self.warteschlange) == 0:\n",
    "            return None\n",
    "        \n",
    "        p = self.warteschlange.pop(0)\n",
    "        self.inBehandlung = p\n",
    "        return p\n",
    "    \n",
    "    def beim_arzt(self):\n",
    "        \"\"\"Gibt den Patienten zurück, welcher sich gerade beim Arzt befindet.\n",
    "        \n",
    "        Returns:\n",
    "            Patient Den Patienten, welcher aktuell in Behandlung ist oder None, sich kein Patient gerade beim Arzt befindet.\n",
    "        \"\"\"\n",
    "        return self.inBehandlung\n",
    "    \n",
    "    def behandlung_abgeschlossen(self):\n",
    "        \"\"\"Der Patient, der sich aktuell in Behandlung befindet verlässt die Praxis. \n",
    "        Nach Aufruf dieser Methode gilt beim_arzt() == None.\n",
    "        \"\"\"\n",
    "        self.inBehandlung = None\n",
    "    ### END SOLUTION    "
   ]
  },
  {
   "cell_type": "code",
   "execution_count": null,
   "metadata": {
    "collapsed": false,
    "nbgrader": {
     "grade": true,
     "grade_id": "praxis_1_test",
     "locked": true,
     "points": 3,
     "solution": false
    }
   },
   "outputs": [],
   "source": [
    "praxis = Arztpraxis()\n",
    "patienten = [Patient(\"Max M\", 26), Patient(\"Ulrike Eustermann\", 13), Patient(\"Michaela M\", 20)]\n",
    "\n",
    "# Patienten betreten die Praxis:\n",
    "praxis.betrete_praxis(patienten[0])\n",
    "praxis.betrete_praxis(patienten[1])\n",
    "praxis.betrete_praxis(patienten[2])\n",
    "assert(praxis.beim_arzt() == None)\n",
    "\n",
    "# Rufe Patienten auf:\n",
    "praxis.naechster_patient_zum_arzt()\n",
    "assert(praxis.beim_arzt() == patienten[0])\n",
    "\n",
    "praxis.behandlung_abgeschlossen()\n",
    "assert(praxis.beim_arzt() == None)\n",
    "\n",
    "# Rufe nächsten Patienten auf:\n",
    "praxis.naechster_patient_zum_arzt()\n",
    "assert(praxis.beim_arzt() == patienten[1])\n",
    "\n",
    "### HIDESTART\n",
    "praxis = Arztpraxis()\n",
    "patienten = [Patient(\"Ralf B\", 26), Patient(\"Jessica W\", 13), Patient(\"Philipp K\", 20)]\n",
    "\n",
    "# Teste Randfall(1):\n",
    "assert(praxis.naechster_patient_zum_arzt() == None)\n",
    "\n",
    "# Patienten betreten die Praxis:\n",
    "praxis.betrete_praxis(patienten[0])\n",
    "praxis.betrete_praxis(patienten[1])\n",
    "praxis.betrete_praxis(patienten[2])\n",
    "assert(praxis.beim_arzt() == None)\n",
    "\n",
    "# Rufe Patienten auf:\n",
    "praxis.naechster_patient_zum_arzt()\n",
    "assert(praxis.beim_arzt() == patienten[0])\n",
    "\n",
    "# Teste Randfall(2):\n",
    "assert(praxis.naechster_patient_zum_arzt() == None)\n",
    "\n",
    "praxis.behandlung_abgeschlossen()\n",
    "assert(praxis.beim_arzt() == None)\n",
    "\n",
    "# Rufe nächsten Patienten auf:\n",
    "praxis.naechster_patient_zum_arzt()\n",
    "assert(praxis.beim_arzt() == patienten[1])\n",
    "### HIDEEND"
   ]
  },
  {
   "cell_type": "markdown",
   "metadata": {
    "nbgrader": {
     "grade": false,
     "grade_id": "praxis_2_desc",
     "locked": true,
     "solution": false
    }
   },
   "source": [
    "Unsere Arztpraxis soll nun zwischen Kassen- und Privatpatienten unterscheiden.\n",
    "Für Privatpatienten soll zusätzlich zu deren Namen und Alter auch noch die Anschrift (als String) gepspeichert werden.\n",
    "Privatpatienten werden von der Praxis bevorzugt behandelt, d.h. für die Auswahl des als nächstes zu behandelden Patienten wird immer erst geprüft, ob sich ein Privatpatient im Wartezimmer befindet.\n",
    "Ist dies der Fall so wird dieser den Kassenpatienten vorgezogen, unabhängig von der Zeit, die er im Wartezimmer verbracht hat.\n",
    "Falls sich mehrere Privatpatienten im Wartezimmer befinden, so wird der sich am längsten im Wartezimmer befindliche Privatpatient als nächstes aufgerufen.   "
   ]
  },
  {
   "cell_type": "markdown",
   "metadata": {
    "nbgrader": {
     "grade": false,
     "grade_id": "praxis_2_1_desc",
     "locked": true,
     "solution": false
    }
   },
   "source": [
    "## b) \n",
    "Erweitern Sie zunächst die Klasse Patient zu einer Klasse `Privatpatient`, welche über ein Attribut `anschrift` sowie eine Methode `get_anschrift()` verfügt.\n",
    "Überschreiben Sie auch die Methode `__str__()`, sodass die Tests korrekt laufen."
   ]
  },
  {
   "cell_type": "code",
   "execution_count": null,
   "metadata": {
    "collapsed": false,
    "nbgrader": {
     "grade": false,
     "grade_id": "praxis_2_sol",
     "locked": false,
     "solution": true
    }
   },
   "outputs": [],
   "source": [
    "### BEGIN SOLUTION\n",
    "class Privatpatient(Patient):\n",
    "    \"\"\"Realisiert einen von der Arztpraxis bevorzugten Patienten\"\"\"\n",
    "    \n",
    "    def __init__(self, anschrift, *args):\n",
    "        \"\"\" Konstruktor\n",
    "        \n",
    "        Args:\n",
    "            anschrift: Anschrift des Privatpatienten (str)\n",
    "        \"\"\"\n",
    "        super().__init__(*args)\n",
    "        self.anschrift = anschrift\n",
    "        \n",
    "    def get_anschrift(self):\n",
    "        \"\"\"Gibt die Anschrift des Privatpatienten zurück\n",
    "        \n",
    "        Returns:\n",
    "            str Anschrift des Privatpatienten\n",
    "        \"\"\"\n",
    "        return self.anschrift\n",
    "    \n",
    "    def __str__(self):\n",
    "        \"\"\"Überschreibt die Standardausgabe\n",
    "        \n",
    "        Returns:\n",
    "            Informationen über den Privatpatienten (str)\n",
    "        \"\"\"\n",
    "        return \"<Privatpatient> \" + super().__str__() + \" Anschrift: \" + self.anschrift\n",
    "### END SOLUTION"
   ]
  },
  {
   "cell_type": "code",
   "execution_count": null,
   "metadata": {
    "collapsed": false,
    "nbgrader": {
     "grade": true,
     "grade_id": "praxis_2_test",
     "locked": true,
     "points": 1,
     "solution": false
    }
   },
   "outputs": [],
   "source": [
    "p = Privatpatient(\"Flotowstr. 52\", \"Daniela L\", 28)\n",
    "assert(isinstance(p, Patient))\n",
    "assert(isinstance(p, Privatpatient))\n",
    "assert(p.__str__() == \"<Privatpatient> Name: Daniela L, Alter: 28 Anschrift: Flotowstr. 52\")\n",
    "### HIDESTART\n",
    "p2 = Privatpatient(\"Konstanzer Strasse 73\", \"Uwe P\", 25)\n",
    "assert(isinstance(p2, Patient))\n",
    "assert(isinstance(p2, Privatpatient))\n",
    "assert(p2.__str__() == \"<Privatpatient> Name: Uwe P, Alter: 25 Anschrift: Konstanzer Strasse 73\")\n",
    "### HIDEEND"
   ]
  },
  {
   "cell_type": "markdown",
   "metadata": {
    "nbgrader": {
     "grade": false,
     "grade_id": "praxis_3_desc",
     "locked": true,
     "solution": false
    }
   },
   "source": [
    "## c)\n",
    "Erweitern Sie nun Ihre Klasse `Arztpraxis` aus Aufgabenteil a) zu einer Klasse `Arztpraxisunfair`, sodass diese nun Privatpatienten wie oben beschrieben bevorzugt behandelt."
   ]
  },
  {
   "cell_type": "code",
   "execution_count": null,
   "metadata": {
    "collapsed": false,
    "nbgrader": {
     "grade": false,
     "grade_id": "praxis_3_sol",
     "locked": false,
     "solution": true
    }
   },
   "outputs": [],
   "source": [
    "### BEGIN SOLUTION\n",
    "class Arztpraxisunfair(Arztpraxis):\n",
    "    \"\"\"Erweiterung der Klasse Arztpraxis, sodass Privatpatienten bevorzugt werden.\"\"\"\n",
    "    \n",
    "    def __init__(self):\n",
    "        \"\"\"Konstruktor\"\"\"\n",
    "        super().__init__()\n",
    "        self.privat_schlange = []\n",
    "        \n",
    "    def betrete_praxis(self, p):\n",
    "        \"\"\"Der gegebene Patient p betritt die Praxis und wird in das Wartezimmer gebeten. \n",
    "        Privatpatienten werden separat gespeichert.\n",
    "        \n",
    "        Args:\n",
    "            p: Der hinzugekommene Patient (Patient)\n",
    "        \"\"\"\n",
    "        if isinstance(p, Privatpatient):\n",
    "            self.privat_schlange.append(p)\n",
    "        else:\n",
    "            super().betrete_praxis(p)\n",
    "    \n",
    "    def naechster_patient_zum_arzt(self):\n",
    "        \"\"\"Entfernt den Patienten aus dem Wartezimmer, welcher die längste Zeit dort verbracht hat und \n",
    "        schickt diesen zum Arzt. Falls das Wartezimmer leer ist oder sich noch ein Patient in Behandlung befindet, \n",
    "        werden keine Aktionen ausgeführt. Privatpatienten werden bei der Auswahl den normalen Patienten vorgezogen.\n",
    "        \n",
    "        Returns:\n",
    "            Patient Den Patienten der zum Arzt geschickt wurde, oder None, falls keine Aktionen ausgeführt wurden.\n",
    "        \"\"\"        \n",
    "        # Büro des Arztes noch besetzt:\n",
    "        if not self.beim_arzt() == None:\n",
    "            return None\n",
    "        \n",
    "        # Kein Patient mehr im Wartezimmer:\n",
    "        if len(self.privat_schlange) and len(self.warteschlange) == 0:\n",
    "            return None\n",
    "        \n",
    "        p = None\n",
    "        if len(self.privat_schlange) > 0:\n",
    "            # Ziehe Privatpatienten vor:\n",
    "            p = self.privat_schlange.pop(0)\n",
    "            self.inBehandlung = p\n",
    "            return p\n",
    "        else:\n",
    "            # Normaler Patient kann zum Arzt:\n",
    "            super().naechster_patient_zum_arzt()\n",
    "### END SOLUTION"
   ]
  },
  {
   "cell_type": "code",
   "execution_count": null,
   "metadata": {
    "collapsed": false,
    "nbgrader": {
     "grade": true,
     "grade_id": "praxis_4_test",
     "locked": true,
     "points": 2,
     "solution": false
    }
   },
   "outputs": [],
   "source": [
    "praxis = Arztpraxisunfair()\n",
    "patienten = [Patient(\"Max M\", 26), Patient(\"Ulrike E\", 13), Patient(\"Michaela M\", 20), \n",
    "             Privatpatient(\"Flotowstr. 52\", \"Daniela L\", 28), Privatpatient(\"Brandenburgische Str. 51\", \"Markus S\", 56)]\n",
    "\n",
    "# Patienten betreten die Praxis:\n",
    "praxis.betrete_praxis(patienten[0])\n",
    "praxis.betrete_praxis(patienten[1])\n",
    "praxis.betrete_praxis(patienten[2])\n",
    "praxis.betrete_praxis(patienten[3])\n",
    "praxis.betrete_praxis(patienten[4])\n",
    "assert(praxis.beim_arzt() == None)\n",
    "\n",
    "# Rufe Patienten auf:\n",
    "praxis.naechster_patient_zum_arzt()\n",
    "assert(praxis.beim_arzt() == patienten[3])\n",
    "\n",
    "praxis.behandlung_abgeschlossen()\n",
    "assert(praxis.beim_arzt() == None)\n",
    "\n",
    "# Rufe nächsten Patienten auf:\n",
    "praxis.naechster_patient_zum_arzt()\n",
    "assert(praxis.beim_arzt() == patienten[4])\n",
    "\n",
    "praxis.behandlung_abgeschlossen()\n",
    "assert(praxis.beim_arzt() == None)\n",
    "\n",
    "# Rufe nächsten Patienten auf:\n",
    "praxis.naechster_patient_zum_arzt()\n",
    "assert(praxis.beim_arzt() == patienten[0])\n",
    "\n",
    "### HIDESTART\n",
    "praxis = Arztpraxisunfair()\n",
    "patienten = [Patient(\"Ralf B\", 26), Privatpatient(\"Brandenburgische Str. 51\", \"Markus S\", 56)]\n",
    "\n",
    "# Teste Randfall(1):\n",
    "assert(praxis.naechster_patient_zum_arzt() == None)\n",
    "\n",
    "# Patienten betreten die Praxis:\n",
    "praxis.betrete_praxis(patienten[0])\n",
    "praxis.betrete_praxis(patienten[1])\n",
    "assert(praxis.beim_arzt() == None)\n",
    "\n",
    "# Rufe Patienten auf:\n",
    "praxis.naechster_patient_zum_arzt()\n",
    "assert(praxis.beim_arzt() == patienten[1])\n",
    "\n",
    "# Teste Randfall(2):\n",
    "assert(praxis.naechster_patient_zum_arzt() == None)\n",
    "\n",
    "praxis.behandlung_abgeschlossen()\n",
    "assert(praxis.beim_arzt() == None)\n",
    "\n",
    "# Rufe nächsten Patienten auf:\n",
    "praxis.naechster_patient_zum_arzt()\n",
    "assert(praxis.beim_arzt() == patienten[0])\n",
    "### HIDEEND"
   ]
  },
  {
   "cell_type": "code",
   "execution_count": null,
   "metadata": {
    "collapsed": false,
    "nbgrader": {
     "grade": true,
     "grade_id": "docu_test",
     "locked": true,
     "points": 1,
     "solution": false
    }
   },
   "outputs": [],
   "source": [
    "# Tests für das Vorhandensein der Dokumentation\n",
    "\n",
    "# Aufgabe 2:\n",
    "assert(BinaryTree.remove.__doc__ != None)\n",
    "\n",
    "# Aufgabe 3:\n",
    "assert(Arztpraxis.betrete_praxis.__doc__ != None)\n",
    "assert(Arztpraxis.naechster_patient_zum_arzt.__doc__ != None)\n",
    "assert(Arztpraxis.beim_arzt.__doc__ != None)\n",
    "assert(Arztpraxis.behandlung_abgeschlossen.__doc__ != None)\n",
    "\n",
    "assert(Privatpatient.__init__.__doc__ != None)\n",
    "assert(Privatpatient.get_anschrift.__doc__ != None)\n",
    "assert(Privatpatient.__str__.__doc__ != None)\n",
    "\n",
    "assert(Arztpraxisunfair.betrete_praxis.__doc__ != None)\n",
    "assert(Arztpraxisunfair.naechster_patient_zum_arzt.__doc__ != None)\n",
    "assert(Arztpraxisunfair.beim_arzt.__doc__ != None)\n",
    "assert(Arztpraxisunfair.behandlung_abgeschlossen.__doc__ != None)"
   ]
  }
 ],
 "metadata": {
  "anaconda-cloud": {},
  "celltoolbar": "Create Assignment",
  "kernelspec": {
   "display_name": "Python [default]",
   "language": "python",
   "name": "python3"
  },
  "language_info": {
   "codemirror_mode": {
    "name": "ipython",
    "version": 3
   },
   "file_extension": ".py",
   "mimetype": "text/x-python",
   "name": "python",
   "nbconvert_exporter": "python",
   "pygments_lexer": "ipython3",
   "version": "3.5.2"
  }
 },
 "nbformat": 4,
 "nbformat_minor": 1
}
