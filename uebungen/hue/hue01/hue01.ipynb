{
 "cells": [
  {
   "cell_type": "markdown",
   "metadata": {
    "nbgrader": {
     "grade": true,
     "grade_id": "matrikel",
     "locked": false,
     "solution": true
    }
   },
   "source": []
  },
  {
   "cell_type": "markdown",
   "metadata": {
    "nbgrader": {
     "grade": false,
     "grade_id": "matrikel_info",
     "locked": true,
     "solution": false
    }
   },
   "source": [
    "Tragt bitte eure Matrikel Nummern und Email Adressen *zeilenweise* in das Feld über dieser Zelle ein. Achtet dabei streng auf die Formatierung, denn die Auswertung erfolgt automatisch. Benutzen Sie bitte keine Leerzeilen, einziges Leerzeichen ist Zwischen Matrikelnummer und Mailadresse.\n",
    "\n",
    "Format:\n",
    "\n",
    "MatrikelNr. Emailaddresse\n",
    "\n",
    "z.B.:\n",
    "\n",
    "123456 testStudent@mail.upb.de "
   ]
  },
  {
   "cell_type": "markdown",
   "metadata": {
    "nbgrader": {
     "grade": false,
     "grade_id": "1",
     "locked": true,
     "points": 6,
     "solution": false
    }
   },
   "source": [
    "## Aufgabe 1: Boolsche Variablen und Vergleichungen\n",
    "\n",
    "\n",
    "a) (2 Punkte) Die Variablen $a$, $b$ und $c$ sind boolesche Variablen unbekannter Belegung. Verkürzen Sie folgende boolesche Ausdrücke so weit wie möglich und geben Sie die zwishenschritte an: \n",
    "  \n",
    "```Python\n",
    "( (True | a ) and ( False | b) )  \n",
    "( (a | b ) | ( False | b) )  \n",
    "(a | b) and (a | c)\n",
    "(a and (a | b)) and True\n",
    "a and b | b and c and (b | c)\n",
    "```\n",
    "\n",
    "\n"
   ]
  },
  {
   "cell_type": "markdown",
   "metadata": {
    "nbgrader": {
     "grade": true,
     "grade_id": "a",
     "locked": false,
     "points": 2,
     "solution": true
    }
   },
   "source": []
  },
  {
   "cell_type": "markdown",
   "metadata": {
    "nbgrader": {
     "grade": false,
     "grade_id": "b",
     "locked": true,
     "solution": false
    }
   },
   "source": [
    "b) (2 Punkte) Nehmen Sie an, dass die Variablen $a$, $b$ und $c$ die folgende Werte haben: \n",
    "    \n",
    "```Python\n",
    "a, b, c = True, True, False\n",
    "```\n",
    "   \n",
    "Welche Werten werden die Variablen $d$,$e$,$f$ und $g$ haben? Versuchen Sie die Aufgabe ohne Hilfe von Python zu lösen.\n",
    "\n",
    "```Python\n",
    "d = b and c\n",
    "e = b or c\n",
    "f = not a and c\n",
    "g = (b and c) or not a\n",
    "```"
   ]
  },
  {
   "cell_type": "markdown",
   "metadata": {
    "nbgrader": {
     "grade": true,
     "grade_id": "c",
     "locked": false,
     "points": 2,
     "solution": true
    }
   },
   "source": []
  },
  {
   "cell_type": "markdown",
   "metadata": {
    "nbgrader": {
     "grade": false,
     "grade_id": "d",
     "locked": true,
     "solution": false
    }
   },
   "source": [
    "\n",
    "c) (2 Punkte) Nehmen Sie die folgende Belegung an: \n",
    "\n",
    "```Python\n",
    "a, b, c, d, foo = 2, -1, \"2\", 0, \"foo\"\n",
    "```\n",
    "\n",
    "Nennen Sie welche der folgenden Bedingungen als `True` ausgewertet wird \n",
    "\n",
    "```Python\n",
    "a < b\n",
    "(a < b) and d\n",
    "(a > b) or d\n",
    "b <= a\n",
    "b >= b\n",
    "b > d\n",
    "a != b\n",
    "d\n",
    "b == -1\n",
    "a == c\n",
    "c == \"2\"\n",
    "foo == \"foo\"\n",
    "foo = \"foo\"\n",
    "```"
   ]
  },
  {
   "cell_type": "markdown",
   "metadata": {
    "nbgrader": {
     "grade": true,
     "grade_id": "e",
     "locked": false,
     "points": 2,
     "solution": true
    }
   },
   "source": []
  },
  {
   "cell_type": "markdown",
   "metadata": {
    "nbgrader": {
     "grade": false,
     "grade_id": "2",
     "locked": true,
     "points": 4,
     "solution": false
    }
   },
   "source": [
    "## Aufgabe 2: Typen von Variablen\n",
    "\n",
    "a) (2 Punkte) Welche der folgenden Namen sind in Python legal? Begründen Sie Ihre Antwort: \n",
    "```Python\n",
    "or\n",
    "_or\n",
    "var\n",
    "var2\n",
    "2var\n",
    "my_var\n",
    "dein-var\n",
    "```\n"
   ]
  },
  {
   "cell_type": "markdown",
   "metadata": {
    "nbgrader": {
     "grade": true,
     "grade_id": "f",
     "locked": false,
     "points": 2,
     "solution": true
    }
   },
   "source": []
  },
  {
   "cell_type": "markdown",
   "metadata": {
    "nbgrader": {
     "grade": false,
     "grade_id": "g",
     "locked": true,
     "solution": false
    }
   },
   "source": [
    "b) (2 Punkte) Benennen Sie die Typen der folgenden Variablen:\n",
    "```Python\n",
    "a = 4\n",
    "b = 4.0\n",
    "c = '4.0'\n",
    "d = False\n",
    "e = 'True'\n",
    "f = 'Test'\n",
    "g = int\n",
    "```"
   ]
  },
  {
   "cell_type": "markdown",
   "metadata": {
    "nbgrader": {
     "grade": true,
     "grade_id": "h",
     "locked": false,
     "points": 2,
     "solution": true
    }
   },
   "source": []
  },
  {
   "cell_type": "markdown",
   "metadata": {
    "nbgrader": {
     "grade": false,
     "grade_id": "3",
     "locked": true,
     "points": 3,
     "solution": false
    }
   },
   "source": [
    "## Aufgabe 3: Programmieren mit Pseudocode\n",
    "\n",
    "a) (2 Punkt) Wie würden Sie ein Programm in Pseudocode aufschreiben, das die folgende Ungleichung:\n",
    "\n",
    "$$1 \\leq 5 \\cdot x \\leq 100 $$\n",
    "\n",
    "für ganzzahlige $x \\in \\mathbb{Z}$ löst?  Hinweis:  https://de.wikipedia.org/wiki/Pseudocode"
   ]
  },
  {
   "cell_type": "code",
   "execution_count": null,
   "metadata": {
    "collapsed": false,
    "nbgrader": {
     "grade": true,
     "grade_id": "i",
     "locked": false,
     "points": 1,
     "solution": true
    }
   },
   "outputs": [],
   "source": [
    "print('Die Vielfacher von 5 zwischen 1 und 100 sind:')\n",
    "for x in range(1,101):\n",
    "    if((x%5)==0):\n",
    "        print(x/5)"
   ]
  },
  {
   "cell_type": "markdown",
   "metadata": {
    "nbgrader": {
     "grade": false,
     "grade_id": "u",
     "locked": true,
     "solution": false
    }
   },
   "source": [
    "b) (2 Punkte) Sie möchten Geld von einem Geldautomat abheben, welcher jede Art von *Euroscheinen* ausgibt. Euromünzen sind ausgeschlossen. Schreiben Sie einen Pseudocode, welcher zu Ihrem eingegebenen Betrag die Mindestanzahl der Scheinen nennt. "
   ]
  },
  {
   "cell_type": "code",
   "execution_count": null,
   "metadata": {
    "collapsed": false,
    "nbgrader": {
     "grade": true,
     "grade_id": "j",
     "locked": false,
     "points": 2,
     "solution": true
    }
   },
   "outputs": [],
   "source": [
    "nb = input('Geben Sie den gewünschten Betrag ein: ')\n",
    "betrag = int(nb)\n",
    "\n",
    "euroScheine = [500, 200, 100, 50, 20, 10, 5, 1]\n",
    "restBetrag = betrag\n",
    "\n",
    "euroScheine[2]\n",
    "\n",
    "for i in range(1,len(euroScheine)):\n",
    "    if ((restBetrag / euroScheine[i])>0):\n",
    "        faktor = restBetrag // euroScheine[i]\n",
    "        restBetrag = restBetrag - faktor*euroScheine[i]\n",
    "        if (faktor > 0):\n",
    "            print(faktor, 'x', euroScheine[i])\n",
    "    \n"
   ]
  },
  {
   "cell_type": "markdown",
   "metadata": {
    "nbgrader": {
     "grade": false,
     "grade_id": "4",
     "locked": true,
     "points": 3,
     "solution": false
    }
   },
   "source": [
    "## Aufgabe 4: Eingabe und Ausgabe von Daten\n",
    "\n",
    "a) (1 Punkt) Lesen Sie mit **input** ein Wort, ein Zeichen und eine Fließkommazahl ein und geben\n",
    "Sie die Inhalte mit **print** wieder aus."
   ]
  },
  {
   "cell_type": "code",
   "execution_count": null,
   "metadata": {
    "collapsed": false,
    "nbgrader": {
     "grade": true,
     "grade_id": "k",
     "locked": false,
     "points": 1,
     "solution": true
    }
   },
   "outputs": [],
   "source": [
    "nb = input('Geben Sie ein Wort ein: ')\n",
    "word = str(nb)\n",
    "nb = input('Geben Sie ein Zeichen ein: ')\n",
    "strVal = str(nb)\n",
    "nb = input('Geben Sie ein Fließkommazahl ein: ')\n",
    "floatNr = float(nb)\n",
    "\n",
    "print('Das eingegebene Wort ist: ', word)\n",
    "print('Das eingegebene Zeichen ist: ', strVal)\n",
    "print('Die Fließkommazahl ist: ', floatNr)\n",
    "print('Type ist: ', type(nb))"
   ]
  },
  {
   "cell_type": "markdown",
   "metadata": {
    "nbgrader": {
     "grade": false,
     "grade_id": "l",
     "locked": true,
     "solution": false
    }
   },
   "source": [
    "b) (2 Punkte) Erweitern Sie das Programm, indem es den Namen des Benutzers einliest und ihn dann mit seinem\n",
    "Namen begrüßt. "
   ]
  },
  {
   "cell_type": "code",
   "execution_count": null,
   "metadata": {
    "collapsed": false,
    "nbgrader": {
     "grade": true,
     "grade_id": "m",
     "locked": false,
     "points": 2,
     "solution": true
    }
   },
   "outputs": [],
   "source": [
    "nb = input('Geben Sie Ihren Namen ein: ')\n",
    "word = str(nb)\n",
    "print('Hallo ', nb)"
   ]
  },
  {
   "cell_type": "markdown",
   "metadata": {
    "nbgrader": {
     "grade": false,
     "grade_id": "n",
     "locked": true,
     "solution": false
    }
   },
   "source": [
    "c) (2 Punkte) Geben Sie mithilfe des Modulo-Operators **%** die letzte Ziffer einer vom Benutzer eingegebenen\n",
    "Ganzzahl aus."
   ]
  },
  {
   "cell_type": "code",
   "execution_count": null,
   "metadata": {
    "collapsed": false,
    "nbgrader": {
     "grade": true,
     "grade_id": "o",
     "locked": false,
     "points": 2,
     "solution": true
    }
   },
   "outputs": [],
   "source": [
    "nb = input('Geben Sie eine ganzzahlige Ziffer ein: ')\n",
    "ziffer = int(nb)\n",
    "letzteZiffer = ziffer % 10\n",
    "print('Letzte Ziffer ist: ', letzteZiffer)"
   ]
  },
  {
   "cell_type": "markdown",
   "metadata": {
    "nbgrader": {
     "grade": false,
     "grade_id": "5",
     "locked": true,
     "points": 4,
     "solution": false
    }
   },
   "source": [
    "## Aufgabe 5: Datenmanipulation\n",
    "\n",
    "Mit Python kann man mathematische Ausdrücke auswerten lassen. Das wird durch die folgenden mathematischen Operatoren: `+, -, *, /,` Potenz (`**`) und Modulo (`%`) unterstützt.  \n",
    "\n",
    "a) (2 Punkte) Lesen Sie zwei ganze Zahlen ein und geben Sie deren Summe und Produkt aus. \n",
    "\n"
   ]
  },
  {
   "cell_type": "code",
   "execution_count": null,
   "metadata": {
    "collapsed": false,
    "nbgrader": {
     "grade": false,
     "grade_id": "p",
     "locked": false,
     "points": 4,
     "solution": true
    }
   },
   "outputs": [],
   "source": [
    "def calc_summ(zahl1,zahl2):\n",
    "    \"\"\" 1. Lesen Sie zwei ganze Zahlen ein, \n",
    "        2. geben Sie deren Summe zu den Variabel summ ein \n",
    "        3. drücken Sie das Ergebnis aus.\n",
    "    \"\"\"\n",
    "    ### BEGIN SOLUTION\n",
    "    nb = input('Geben Sie die erste Zahl ein: ')\n",
    "    zahl1 = int(nb)\n",
    "    nb = input('Geben Sie die zweite Zahl ein: ')\n",
    "    zahl2 = int(nb)\n",
    "\n",
    "    summ = zahl1 + zahl2\n",
    "\n",
    "    print('Summe ist: ', summ)\n",
    "    ### END SOLUTION  \n",
    "    \n",
    "    return summ"
   ]
  },
  {
   "cell_type": "code",
   "execution_count": null,
   "metadata": {
    "collapsed": true,
    "nbgrader": {
     "grade": true,
     "grade_id": "pp",
     "locked": true,
     "points": 1,
     "solution": false
    }
   },
   "outputs": [],
   "source": [
    "from nose.tools import assert_equal\n",
    "\n",
    "assert_equal(calc_summ(1, 2), 3)\n",
    "assert_equal(calc_summ(4, 5), 9)"
   ]
  },
  {
   "cell_type": "code",
   "execution_count": null,
   "metadata": {
    "collapsed": true
   },
   "outputs": [],
   "source": [
    "def calc_prod(zahl1,zahl2):\n",
    "    \"\"\" 1. Lesen Sie zwei ganze Zahlen ein, \n",
    "        2. geben Sie deren Produkt zu den Variabel prod ein \n",
    "        3. drücken Sie das Ergebnis aus.\n",
    "    \"\"\"\n",
    "    ### BEGIN SOLUTION\n",
    "    nb = input('Geben Sie die erste Zahl ein: ')\n",
    "    zahl1 = int(nb)\n",
    "    nb = input('Geben Sie die zweite Zahl ein: ')\n",
    "    zahl2 = int(nb)\n",
    "\n",
    "    prod = zahl1 * zahl2\n",
    "\n",
    "    print('Produkt ist: ', prod)\n",
    "    ### END SOLUTION  \n",
    "    \n",
    "    return prod"
   ]
  },
  {
   "cell_type": "code",
   "execution_count": null,
   "metadata": {
    "collapsed": true,
    "nbgrader": {
     "grade": true,
     "grade_id": "ppp",
     "locked": true,
     "points": 1,
     "solution": false
    }
   },
   "outputs": [],
   "source": [
    "from nose.tools import assert_equal\n",
    "\n",
    "assert_equal(calc_prod(1, 2), 2)\n",
    "assert_equal(calc_prod(4, 4), 16)"
   ]
  },
  {
   "cell_type": "markdown",
   "metadata": {
    "nbgrader": {
     "grade": false,
     "grade_id": "q",
     "locked": true,
     "solution": false
    }
   },
   "source": [
    "b) (4 Punkte) Lösen Sie die quadratische Gleichung $ax^2 + bx + c = 0$ für vom Benutzer \n",
    "eingegebene Parameter $a$, $b$ und $c$. Dazu können Sie die Lösungsformel für die quadratische \n",
    "Gleichung benutzen: $$x_{1,2}=\\frac{-b \\pm \\sqrt{b^2 - 4ac}}{2a}.$$ "
   ]
  },
  {
   "cell_type": "code",
   "execution_count": null,
   "metadata": {
    "collapsed": true,
    "nbgrader": {
     "grade": false,
     "grade_id": "r",
     "locked": false,
     "solution": true
    }
   },
   "outputs": [],
   "source": [
    "def calc_roots(a,b,c):\n",
    "    \"\"\" Lesen Sie die Parametern von einer quadratische Gleichung ein.\n",
    "        Übergeben sie die Lösungen zu die Variablen x_1 und x_2.\n",
    "    \"\"\"\n",
    "    ### BEGIN SOLUTION\n",
    "        \" Schreiben Sie die vom Benutzer eingegebene Parametern auf die Variablen a,b,c ein.\n",
    "        \"\n",
    "        nb = input('Geben Sie den ersten Parameter a ein: ')\n",
    "        a = float(nb)\n",
    "        nb = input('Geben Sie den zweiten Parameter b ein: ')\n",
    "        b = float(nb)\n",
    "        nb = input('Geben Sie den dritten Parameter c ein: ')\n",
    "        c = float(nb)\n",
    "        \n",
    "        \" Berechnen Sie die Lösungen und geben Sie die Ergebnissen auf die Variablen x_1 und x_2 ein\n",
    "        \"\n",
    "        D= (b**2 - 4*a*c)**0.5;\n",
    "        x_1 = (-b + D)/2*a;\n",
    "        x_2 = (-b - D)/2*a;\n",
    "        \n",
    "        \" Drücken Sie die Ergebnissen aus:\n",
    "        \"\n",
    "        print('Die erste Wurzel ist: ', x_1);\n",
    "        print('Die zweite Wurzel ist: ', x_2);\n",
    "    ### END SOLUTION  \n",
    "    \n",
    "    return (x_1,x_2)"
   ]
  },
  {
   "cell_type": "code",
   "execution_count": null,
   "metadata": {
    "collapsed": true,
    "nbgrader": {
     "grade": true,
     "grade_id": "rr",
     "locked": true,
     "points": 4,
     "solution": false
    }
   },
   "outputs": [],
   "source": [
    "from nose.tools import assert_equal\n",
    "\n",
    "assert_equal(calc_roots(1, -3, 2), [1, 2])\n",
    "assert_equal(calc_roots(1, -7, 12), [3, 4])"
   ]
  },
  {
   "cell_type": "markdown",
   "metadata": {
    "nbgrader": {
     "grade": false,
     "grade_id": "s",
     "locked": true,
     "solution": false
    }
   },
   "source": [
    "c) (2 Punkte) Geben Sie mithilfe des Modulo-Operators % die letzte Ziffer einer vom Benutzer eingegebenen Ganzzahl aus."
   ]
  },
  {
   "cell_type": "code",
   "execution_count": null,
   "metadata": {
    "collapsed": true,
    "nbgrader": {
     "grade": false,
     "grade_id": "ss",
     "locked": false,
     "solution": true
    }
   },
   "outputs": [],
   "source": [
    "def print_last(ziffer):\n",
    "    \"\"\" Geben Sie ein ganzzahlige Ziffer ein.\n",
    "        Drücken Sie die letzte Ziffer aus und übergeben Sie diesen Wert zu den Variabel last ein.\n",
    "    \"\"\"\n",
    "    ### BEGIN SOLUTION\n",
    "    nb = input('Geben Sie ein ganzzahlige Ziffer ein: ')\n",
    "    ziffer = int(nb)\n",
    "    last = ziffer%10\n",
    "    print('Letzte Ziffer ist: ', last)\n",
    "    ### END SOLUTION  \n",
    "    \n",
    "    return (last)"
   ]
  },
  {
   "cell_type": "code",
   "execution_count": null,
   "metadata": {
    "collapsed": true,
    "nbgrader": {
     "grade": true,
     "grade_id": "sss",
     "locked": true,
     "points": 2,
     "solution": false
    }
   },
   "outputs": [],
   "source": [
    "from nose.tools import assert_equal\n",
    "\n",
    "assert_equal(print_last(5421002), 2)\n",
    "assert_equal(print_last(54210), 0)"
   ]
  }
 ],
 "metadata": {
  "celltoolbar": "Create Assignment",
  "kernelspec": {
   "display_name": "Python 3",
   "language": "python",
   "name": "python3"
  },
  "language_info": {
   "codemirror_mode": {
    "name": "ipython",
    "version": 3
   },
   "file_extension": ".py",
   "mimetype": "text/x-python",
   "name": "python",
   "nbconvert_exporter": "python",
   "pygments_lexer": "ipython3",
   "version": "3.4.2"
  }
 },
 "nbformat": 4,
 "nbformat_minor": 1
}
