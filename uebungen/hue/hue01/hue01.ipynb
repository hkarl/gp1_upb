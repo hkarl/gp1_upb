{
 "cells": [
  {
   "cell_type": "markdown",
   "metadata": {
    "nbgrader": {
     "grade": true,
     "grade_id": "matrikel",
     "locked": false,
     "solution": true
    }
   },
   "source": []
  },
  {
   "cell_type": "markdown",
   "metadata": {
    "nbgrader": {
     "grade": false,
     "grade_id": "matrikel_info",
     "locked": true,
     "solution": false
    }
   },
   "source": [
    "Tragt bitte eure Matrikel Nummern und Email Adressen *zeilenweise* in das Feld über dieser Zelle ein. Achtet dabei streng auf die Formatierung, denn die Auswertung erfolgt automatisch. Benutzen Sie bitte keine Leerzeilen, einziges Leerzeichen ist Zwischen Matrikelnummer und Mailadresse.\n",
    "\n",
    "Format:\n",
    "\n",
    "MatrikelNr. Emailaddresse\n",
    "\n",
    "z.B.:\n",
    "\n",
    "123456 testStudent@mail.upb.de "
   ]
  },
  {
   "cell_type": "markdown",
   "metadata": {
    "nbgrader": {
     "grade": true,
     "grade_id": "1",
     "locked": false,
     "points": 6,
     "solution": true
    }
   },
   "source": [
    "## Aufgabe 1: Boolsche Variablen und Vergleichungen\n",
    "\n",
    "\n",
    "a) (2 Punkte) Die Variablen $a$, $b$ und $c$ sind boolesche Variablen unbekannter Belegung. Verkürzen Sie folgende boolesche Ausdrücke so weit wie möglich und geben Sie die zwishenschritte an: \n",
    "  \n",
    "```Python\n",
    "( (True | a ) and ( False | b) )  \n",
    "( (a | b ) | ( False | b) )  \n",
    "(a | b) and (a | c)\n",
    "(a and (a | b)) and True\n",
    "a and b | b and c and (b | c)\n",
    "```\n",
    "\n",
    "b) (2 Punkte) Nehmen Sie an, dass die Variablen $a$, $b$ und $c$ die folgende Werte haben: \n",
    "    \n",
    "```Python\n",
    "a, b, c = True, True, False\n",
    "```\n",
    "   \n",
    "Berechnen Sie die folgender Ausdrücke:   \n",
    "\n",
    "```Python\n",
    "b and c\n",
    "b or c\n",
    "not a and c\n",
    "(b and c) or not a\n",
    "```\n",
    "\n",
    "c) (2 Punkte) Nehmen Sie die folgende Belegung an: \n",
    "\n",
    "```Python\n",
    "a, b, c, d, foo = 2, -1, \"2\", 0, \"foo\"\n",
    "```\n",
    "\n",
    "Überprüfen Sie welche der folgenden Bedingungen als `True` ausgewertet wird\n",
    "\n",
    "```Python\n",
    "a < b\n",
    "(a < b) and d\n",
    "(a > b) or d\n",
    "b <= a\n",
    "b >= b\n",
    "b > d\n",
    "a != b\n",
    "d\n",
    "b == -1\n",
    "a == c\n",
    "c == \"2\"\n",
    "foo == \"foo\"\n",
    "foo = \"foo\"\n",
    "```"
   ]
  },
  {
   "cell_type": "markdown",
   "metadata": {
    "nbgrader": {
     "grade": true,
     "grade_id": "2",
     "locked": false,
     "points": 4,
     "solution": true
    }
   },
   "source": [
    "## Aufgabe 2: Typen von Variablen\n",
    "\n",
    "a) (2 Punkte) Welche der folgenden Namen sind legal in Python? Begründen Sie Ihre Antwort: \n",
    "```Python\n",
    "or\n",
    "_or\n",
    "var\n",
    "var2\n",
    "2var\n",
    "my_var\n",
    "dein-var\n",
    "```\n",
    "b) (2 Punkte) Benennen Sie die Typen der folgenden Variablen:\n",
    "```Python\n",
    "a = 4\n",
    "b = 4.0\n",
    "c = '4.0'\n",
    "d = False\n",
    "e = 'True'\n",
    "f = 'Test'\n",
    "g = int\n",
    "```"
   ]
  },
  {
   "cell_type": "markdown",
   "metadata": {
    "nbgrader": {
     "grade": true,
     "grade_id": "3",
     "locked": false,
     "points": 3,
     "solution": true
    }
   },
   "source": [
    "## Aufgabe 3: Programmieren mit Pseudocode\n",
    "\n",
    "a) (1 Punkt) Sie haben um 18 Uhr einen Termin mit Ihrem Kollegen vereinbart. Ist er/sie nicht bis 17.55 Uhr bei Ihnen, sagen Sie den Termin ab. Ansonsten nehmen Sie teil. Drücken sie die o.g. Handlung in einem Pseudocode aus. Hinweis:  https://de.wikipedia.org/wiki/Pseudocode\n",
    "\n",
    "b) (2 Punkte) Sie möchten Geld von einem Automat abheben, welcher jede Art von Euroscheinen ausgibt. Schreiben Sie einen Pseudocode, welcher zu Ihrem eingegebenen Betrag die Mindestanzahl der Scheinen nennt. \n"
   ]
  },
  {
   "cell_type": "code",
   "execution_count": null,
   "metadata": {
    "collapsed": false
   },
   "outputs": [],
   "source": [
    "nb = input('Geben Sie den gewünschten Betrag ein: ')\n",
    "betrag = int(nb)\n",
    "\n",
    "euroScheine = [500, 200, 100, 50, 20, 10, 5, 1]\n",
    "restBetrag = betrag\n",
    "\n",
    "euroScheine[2]\n",
    "\n",
    "for i in range(1,len(euroScheine)):\n",
    "    if ((restBetrag / euroScheine[i])>0):\n",
    "        faktor = restBetrag // euroScheine[i]\n",
    "        restBetrag = restBetrag - faktor*euroScheine[i]\n",
    "        if (faktor > 0):\n",
    "            print(faktor, 'x', euroScheine[i])\n",
    "    \n"
   ]
  },
  {
   "cell_type": "markdown",
   "metadata": {
    "nbgrader": {
     "grade": true,
     "grade_id": "4",
     "locked": false,
     "points": 3,
     "solution": true
    }
   },
   "source": [
    "## Aufgabe 4: Eingabe und Ausgabe von Daten\n",
    "\n",
    "a) (1 Punkt) Lesen Sie mit **input** ein Wort, ein Zeichen und eine Fließkommazahl ein und geben\n",
    "Sie die Inhalte mit **print** wieder aus.\n",
    "\n",
    "b) (2 Punkte) Erweitern Sie das Programm, indem es den Namen des Benutzers einliest und ihn dann mit seinem\n",
    "Namen begrüßt. \n",
    "\n",
    "c) (2 Punkte) Geben Sie mithilfe des Modulo-Operators **%** die letzte Ziffer einer vom Benutzer eingegebenen\n",
    "Ganzzahl aus."
   ]
  },
  {
   "cell_type": "code",
   "execution_count": null,
   "metadata": {
    "collapsed": false
   },
   "outputs": [],
   "source": [
    "nb = input('Geben Sie ein Wort ein: ')\n",
    "word = str(nb)\n",
    "nb = input('Geben Sie ein Zeichen ein: ')\n",
    "strVal = str(nb)\n",
    "nb = input('Geben Sie ein Fließkommazahl ein: ')\n",
    "floatNr = float(nb)\n",
    "\n",
    "print('Das eingegebene Wort ist: ', word)\n",
    "print('Das eingegebene Zeichen ist: ', strVal)\n",
    "print('Die Fließkommazahl ist: ', floatNr)\n",
    "print('Type ist: ', type(nb))"
   ]
  },
  {
   "cell_type": "code",
   "execution_count": null,
   "metadata": {
    "collapsed": false
   },
   "outputs": [],
   "source": [
    "nb = input('Geben Sie Ihren Namen ein: ')\n",
    "word = str(nb)\n",
    "print('Hallo ', nb)"
   ]
  },
  {
   "cell_type": "code",
   "execution_count": null,
   "metadata": {
    "collapsed": false
   },
   "outputs": [],
   "source": [
    "nb = input('Geben Sie eine ganzzahlige Ziffer ein: ')\n",
    "ziffer = int(nb)\n",
    "letzteZiffer = ziffer % 10\n",
    "print('Letzte Ziffer ist: ', letzteZiffer)"
   ]
  },
  {
   "cell_type": "markdown",
   "metadata": {
    "nbgrader": {
     "grade": true,
     "grade_id": "5",
     "locked": false,
     "points": 4,
     "solution": true
    }
   },
   "source": [
    "## Aufgabe 5: Datenmanipulation\n",
    "\n",
    "Mit Python kann man mathematische Ausdrücke auswerten lassen. Das wird durch die folgenden mathematischen Operatoren: `+, -, *, /,` Potenz (`**`) und Modulo (`%`) unterstützt.  \n",
    "\n",
    "a) (2 Punkte) Lesen Sie zwei ganze Zahlen ein und geben Sie deren Summe, Produkt, Differenz und Quotienten\n",
    "aus. \n",
    "\n",
    "b) (4 Punkte) Lösen Sie die quadratische Gleichung $ax^2 + bx + c = 0$ für vom Benutzer eingegebene Parameter $a$, $b$ und $c$. Dazu können Sie die Lösungsformel für die quadratische Gleichung benutzen: $$x_{1,2}=\\frac{-b \\pm \\sqrt{b^2 - 4ac}}{2a}.$$ "
   ]
  },
  {
   "cell_type": "code",
   "execution_count": null,
   "metadata": {
    "collapsed": false
   },
   "outputs": [],
   "source": [
    "nb = input('Geben Sie die erste Zahl ein: ')\n",
    "zahl1 = int(nb)\n",
    "nb = input('Geben Sie die zweite Zahl ein: ')\n",
    "zahl2 = int(nb)\n",
    "\n",
    "summe = zahl1 + zahl2\n",
    "produkt = zahl1 * zahl2\n",
    "differenz = zahl1 - zahl2\n",
    "quotient = zahl1/zahl2\n",
    "\n",
    "print('Summe ist: ', summe)\n",
    "print('Produkt ist: ', produkt)\n",
    "print('Differenz ist: ', differenz)\n",
    "print('Quotient ist: ', quotient)"
   ]
  },
  {
   "cell_type": "code",
   "execution_count": null,
   "metadata": {
    "collapsed": false
   },
   "outputs": [],
   "source": [
    "nb = input('Geben Sie den ersten Parameter a ein: ')\n",
    "a = float(nb)\n",
    "nb = input('Geben Sie den zweiten Parameter b ein: ')\n",
    "b = float(nb)\n",
    "nb = input('Geben Sie den dritten Parameter c ein: ')\n",
    "c = float(nb)\n",
    "\n",
    "D= (b**2 - 4*a*c)**0.5;\n",
    "x_1 = (-b + D)/2*a;\n",
    "x_2 = (-b - D)/2*a;\n",
    "\n",
    "print('Die erste Wurzel ist: ', x_1);\n",
    "print('Die zweite Wurzel ist: ', x_2);\n"
   ]
  },
  {
   "cell_type": "code",
   "execution_count": null,
   "metadata": {
    "collapsed": false
   },
   "outputs": [],
   "source": [
    "nb = input('Geben Sie ein ganzzahlige Ziffer ein: ')\n",
    "ziffer = int(nb)\n",
    "letzte = ziffer%10\n",
    "print('Letzte Ziffer ist: ', letzte)"
   ]
  }
 ],
 "metadata": {
  "celltoolbar": "Create Assignment",
  "kernelspec": {
   "display_name": "Python 3",
   "language": "python",
   "name": "python3"
  },
  "language_info": {
   "codemirror_mode": {
    "name": "ipython",
    "version": 3
   },
   "file_extension": ".py",
   "mimetype": "text/x-python",
   "name": "python",
   "nbconvert_exporter": "python",
   "pygments_lexer": "ipython3",
   "version": "3.4.2"
  }
 },
 "nbformat": 4,
 "nbformat_minor": 1
}
