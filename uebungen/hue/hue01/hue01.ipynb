{
 "cells": [
  {
   "cell_type": "markdown",
   "metadata": {
    "nbgrader": {
     "grade": true,
     "grade_id": "matrikel",
     "locked": false,
     "solution": true
    }
   },
   "source": []
  },
  {
   "cell_type": "markdown",
   "metadata": {
    "nbgrader": {
     "grade": false,
     "grade_id": "matrikel_info",
     "locked": true,
     "solution": false
    }
   },
   "source": [
    "Bitte tragen Sie Ihre Matrikelnummern und E-Mail-Adressen *zeilenweise* in der *obige* Zelle ein. \n",
    "Achten Sie dabei streng auf die Formatierung, denn die Auswertung erfolgt automatisch. \n",
    "Benutzen Sie *keine* Leerzeilen.\n",
    "Nur zwischen Matrikelnummer und E-Mail-Adresse darf ein Leerzeichen stehen.\n",
    "\n",
    "Format:\n",
    "\n",
    "MatrikelNummer E-Mail-Adresse\n",
    "\n",
    "z.B.:\n",
    "\n",
    "123456 testStudent@mail.upb.de"
   ]
  },
  {
   "cell_type": "markdown",
   "metadata": {
    "nbgrader": {
     "grade": false,
     "grade_id": "1",
     "locked": true,
     "points": 6,
     "solution": false
    }
   },
   "source": [
    "## Aufgabe 1: Boolesche Variablen und Vergleiche\n",
    "\n",
    "\n",
    "a) (2 Punkte) Die Variablen $a$, $b$ und $c$ sind boolesche Variablen unbekannter Belegung. Verkürzen Sie folgende boolesche Ausdrücke so weit wie möglich und geben Sie die Zwischenschritte an: \n",
    "  \n",
    "```Python\n",
    "( (True | a ) and ( False | b) )  \n",
    "( (a | b ) | ( False | b) )  \n",
    "(a | b) and (a | c)\n",
    "(a and (a | b)) and True\n",
    "a and b | b and c and (b | c)\n",
    "```\n",
    "\n",
    "\n"
   ]
  },
  {
   "cell_type": "markdown",
   "metadata": {
    "nbgrader": {
     "grade": true,
     "grade_id": "2",
     "locked": false,
     "points": 2,
     "solution": true
    }
   },
   "source": []
  },
  {
   "cell_type": "markdown",
   "metadata": {
    "nbgrader": {
     "grade": false,
     "grade_id": "3",
     "locked": true,
     "solution": false
    }
   },
   "source": [
    "b) (2 Punkte) Nehmen Sie an, dass die Variablen $a$, $b$ und $c$ die folgenden Werte haben: \n",
    "    \n",
    "```Python\n",
    "a = True\n",
    "b = True\n",
    "c = False\n",
    "```\n",
    "   \n",
    "Welche Werte werden die Variablen $d$,$e$,$f$ und $g$ haben? Versuchen Sie, die Aufgabe ohne Hilfe von Python zu lösen.\n",
    "\n",
    "```Python\n",
    "d = b and c\n",
    "e = b or c\n",
    "f = not a and c\n",
    "g = (b and c) or not a\n",
    "```"
   ]
  },
  {
   "cell_type": "markdown",
   "metadata": {
    "nbgrader": {
     "grade": true,
     "grade_id": "4",
     "locked": false,
     "points": 2,
     "solution": true
    }
   },
   "source": []
  },
  {
   "cell_type": "markdown",
   "metadata": {
    "nbgrader": {
     "grade": false,
     "grade_id": "5",
     "locked": true,
     "solution": false
    }
   },
   "source": [
    "\n",
    "c) (2 Punkte) Nehmen Sie die folgende Belegung an: \n",
    "\n",
    "```Python\n",
    "a = 2\n",
    "b = -1\n",
    "c = \"2\"\n",
    "d = 0 \n",
    "foo = \"foo\"\n",
    "```\n",
    "\n",
    "Welche der folgenden Bedingungen sind wahr?\n",
    "\n",
    "```Python\n",
    "a < b\n",
    "(a < b) and d\n",
    "(a > b) or d\n",
    "b <= a\n",
    "b >= b\n",
    "b > d\n",
    "a != b\n",
    "b == -1\n",
    "a == c\n",
    "c == \"2\"\n",
    "foo == \"foo\"\n",
    "```"
   ]
  },
  {
   "cell_type": "markdown",
   "metadata": {
    "nbgrader": {
     "grade": true,
     "grade_id": "6",
     "locked": false,
     "points": 2,
     "solution": true
    }
   },
   "source": []
  },
  {
   "cell_type": "markdown",
   "metadata": {
    "nbgrader": {
     "grade": false,
     "grade_id": "7",
     "locked": true,
     "points": 4,
     "solution": false
    }
   },
   "source": [
    "## Aufgabe 2: Variablen\n",
    "\n",
    "a) (2 Punkte) Welche der folgenden Namen für Variablen sind in Python gültig? **Begründen Sie Ihre Antwort**!\n",
    "```Python\n",
    "or\n",
    "_or\n",
    "var\n",
    "var2\n",
    "2var\n",
    "my_var\n",
    "dein-var\n",
    "```\n"
   ]
  },
  {
   "cell_type": "markdown",
   "metadata": {
    "nbgrader": {
     "grade": true,
     "grade_id": "8",
     "locked": false,
     "points": 2,
     "solution": true
    }
   },
   "source": []
  },
  {
   "cell_type": "markdown",
   "metadata": {
    "nbgrader": {
     "grade": false,
     "grade_id": "9",
     "locked": true,
     "solution": false
    }
   },
   "source": [
    "b) (2 Punkte) Benennen Sie die Typen der folgenden Variablen:\n",
    "```Python\n",
    "a = 4\n",
    "b = 4.0\n",
    "c = '4.0'\n",
    "d = False\n",
    "e = 'True'\n",
    "f = 'Test'\n",
    "g = int\n",
    "```"
   ]
  },
  {
   "cell_type": "markdown",
   "metadata": {
    "nbgrader": {
     "grade": true,
     "grade_id": "10",
     "locked": false,
     "points": 2,
     "solution": true
    }
   },
   "source": []
  },
  {
   "cell_type": "markdown",
   "metadata": {
    "nbgrader": {
     "grade": false,
     "grade_id": "11",
     "locked": true,
     "solution": false
    }
   },
   "source": [
    "c) (2 Punkte) Führen Sie die folgenden Anweisungen hintereinander in Python aus und identifizieren Sie, welche falsch sind. **Begründen Sie Ihre Antwort!**\n",
    "\n",
    "```Python \n",
    "1d = 2\n",
    "x = 2\n",
    "y = X + 4  # Ist das gleich 6?\n",
    "c = 4**3**2**3\n",
    "_ = ((c-454)*c + 64))\n",
    "rabat = 12%\n",
    "menge = 120.-\n",
    "preis = 150€\n",
    "email = test@mailDomain.de\n",
    "and \n",
    "Haltbarkeitsdatum = 01.Nov.2017\n",
    "class = 'Medizin, gr 2\"\n",
    "continue_ = x > 0\n",
    "```"
   ]
  },
  {
   "cell_type": "code",
   "execution_count": null,
   "metadata": {
    "collapsed": true,
    "nbgrader": {
     "grade": true,
     "grade_id": "12",
     "locked": false,
     "points": 2,
     "solution": true
    }
   },
   "outputs": [],
   "source": []
  },
  {
   "cell_type": "markdown",
   "metadata": {
    "nbgrader": {
     "grade": false,
     "grade_id": "13",
     "locked": true,
     "solution": false
    }
   },
   "source": [
    "## Aufgabe 3:  Mathematische Operationen\n",
    "\n",
    "Mit Python kann man mathematische Ausdrücke auswerten lassen. Das wird durch die folgenden mathematischen Operatoren: `+, -, *, /,` Potenz (`**`) und Modulo (`%`) unterstützt. \n",
    "\n",
    "a) (2 Punkte) Sie möchten das Produkt von zwei Variablen $a$ und $b$ berechnen. Bennen Sie alles, was an der folgenden Implementierung falsch ist und erklären Sie, warum dies falsch ist: \n",
    "```Python \n",
    "c = a*b\n",
    "a = 20\n",
    "b = 66974\n",
    "print C\n",
    "```"
   ]
  },
  {
   "cell_type": "code",
   "execution_count": null,
   "metadata": {
    "collapsed": true,
    "nbgrader": {
     "grade": true,
     "grade_id": "14",
     "locked": false,
     "points": 2,
     "solution": true
    }
   },
   "outputs": [],
   "source": []
  },
  {
   "cell_type": "markdown",
   "metadata": {
    "nbgrader": {
     "grade": false,
     "grade_id": "3b",
     "locked": true,
     "solution": false
    }
   },
   "source": [
    "b) (2 Punkte) Schreiben Sie ein Programm, welches das Gesamtvermögen nach 3 Jahren bei einem Startkapital von 1000 Euro und einem Zinssatz von 5 % berechnet. \n",
    "Das Gesamtvermögen kann man mit folgender Formel ausrechnen: \n",
    "$$K \\left(1 + \\frac{p}{100} \\right)^n, $$ wobei $K$ das Startkapital, $n$ die Anzahl der Jahre und $p$ den Zinssatz in Prozent bezeichnen. "
   ]
  },
  {
   "cell_type": "code",
   "execution_count": null,
   "metadata": {
    "collapsed": true,
    "nbgrader": {
     "grade": true,
     "grade_id": "15",
     "locked": false,
     "points": 2,
     "solution": true
    }
   },
   "outputs": [],
   "source": []
  },
  {
   "cell_type": "markdown",
   "metadata": {
    "nbgrader": {
     "grade": false,
     "grade_id": "3c",
     "locked": true,
     "solution": false
    }
   },
   "source": [
    "c) (2 Punkte) Die Gauß-Verteilung: \n",
    "\n",
    "$$f(x) = \\frac{1}{\\sqrt{2 \\cdot \\pi}} \\exp \\left[ -\\frac{1}{2} \\left(\\frac{x-m}{s} \\right)^2 \\right]  $$\n",
    "\n",
    "ist eine sehr wichtige Funktion in der Wahrscheinlichkeitstheorie und wird oft zur Beschreibung zufälliger Vorgänge benutzt. \n",
    "Berechnen Sie diese Funktion in Python für die folgenden Parameter: $m = 0$, $s = 1$ und $x = 10$. \n",
    "Hinweis: Approximieren Sie $\\pi \\approx 3.14$, $exp(x)=2.718^x$ und für die $\\sqrt{x}$-Operation benutzen Sie \n",
    "\n",
    "```Python \n",
    "x**0.5\n",
    "``` \n",
    "in Python."
   ]
  },
  {
   "cell_type": "code",
   "execution_count": null,
   "metadata": {
    "collapsed": true,
    "nbgrader": {
     "grade": true,
     "grade_id": "16",
     "locked": false,
     "points": 2,
     "solution": true
    }
   },
   "outputs": [],
   "source": []
  },
  {
   "cell_type": "markdown",
   "metadata": {
    "nbgrader": {
     "grade": false,
     "grade_id": "17",
     "locked": true,
     "solution": false
    }
   },
   "source": [
    "d) (2 Punkte) Sie möchten die folgende Gleichungen in Python vergleichen: \n",
    "\n",
    "$$ (a + b)^2= a^2 + 2ab + b^2 $$ $$ (a - b)^2 = a^2 -2ab + b^2 $$ \n",
    "Ein Kollege von Ihnen hat dazu den folgenden Code geschrieben: \n",
    "\n",
    "\n",
    "```Python\n",
    "a = 4.5   \n",
    "b = 7.7\n",
    "\n",
    "eq1_sum = a^2 + 2ab + b^2\n",
    "eq2_sum = a^2 - 2ab + b^2\n",
    "\n",
    "eq1_pow = (a + b)^2\n",
    "eq2_pow = (a - b)^2\n",
    "\n",
    "print 'Erste Gleichung:  %g =? %g', % (eq1_sum, eq1_pow)\n",
    "print 'Zweite Gleichung: %h =? %h', % (eq2_pow, eq2_pow)\n",
    "```\n",
    "\n",
    "Finden Sie die Fehler und schreiben Sie den korrigierten Code auf."
   ]
  },
  {
   "cell_type": "code",
   "execution_count": null,
   "metadata": {
    "collapsed": true,
    "nbgrader": {
     "grade": true,
     "grade_id": "18",
     "locked": false,
     "points": 2,
     "solution": true
    }
   },
   "outputs": [],
   "source": []
  },
  {
   "cell_type": "markdown",
   "metadata": {
    "nbgrader": {
     "grade": false,
     "grade_id": "19",
     "locked": true,
     "solution": false
    }
   },
   "source": [
    "e) (2 Punkte) Die Lösungen der quadratischen Gleichung $ax^2 + bx + c = 0$ kann man durch die folgende Formel finden: $$x_{1,2}=\\frac{-b \\pm \\sqrt{b^2 - 4ac}}{2a}.$$ \n",
    "\n",
    "Finden Sie die Fehler in der folgenden Implementierung und schreiben Sie sie fehlerfrei: \n",
    "``` Python\n",
    "a = 2; b = 1; c = 2\n",
    "D= (b**2 - 4*a*c)*0.5;\n",
    "x_1 = (-b + D)/2*a;\n",
    "x_2 = -(b + D)/2*a;\n",
    "print x_1, x_2\n",
    "```"
   ]
  },
  {
   "cell_type": "markdown",
   "metadata": {
    "nbgrader": {
     "grade": true,
     "grade_id": "20",
     "locked": false,
     "points": 2,
     "solution": true
    }
   },
   "source": []
  }
 ],
 "metadata": {
  "anaconda-cloud": {},
  "celltoolbar": "Create Assignment",
  "kernelspec": {
   "display_name": "Python [default]",
   "language": "python",
   "name": "python3"
  },
  "language_info": {
   "codemirror_mode": {
    "name": "ipython",
    "version": 3
   },
   "file_extension": ".py",
   "mimetype": "text/x-python",
   "name": "python",
   "nbconvert_exporter": "python",
   "pygments_lexer": "ipython3",
   "version": "3.5.2"
  }
 },
 "nbformat": 4,
 "nbformat_minor": 1
}
