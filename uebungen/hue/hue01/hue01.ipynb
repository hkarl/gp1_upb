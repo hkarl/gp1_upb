{
 "cells": [
  {
   "cell_type": "markdown",
   "metadata": {
    "nbgrader": {
     "grade": true,
     "grade_id": "matrikel",
     "locked": false,
     "solution": true
    }
   },
   "source": []
  },
  {
   "cell_type": "markdown",
   "metadata": {
    "nbgrader": {
     "grade": false,
     "grade_id": "matrikel_info",
     "locked": true,
     "solution": false
    }
   },
   "source": [
    "Tragt bitte eure Matrikel Nummern und Email Adressen *zeilenweise* in das Feld über dieser Zelle ein. Achtet dabei streng auf die Formatierung, denn die Auswertung automatisch erfolgt. Benutzen Sie bitte keine Leerzeilen, einziges Leerzeichen ist Zwischen Matrikelnummer und Mailadresse.\n",
    "\n",
    "Format:\n",
    "\n",
    "MatrikelNr. Emailaddresse\n",
    "\n",
    "z.B.:\n",
    "\n",
    "123456 testStudent@mail.upb.de "
   ]
  },
  {
   "cell_type": "markdown",
   "metadata": {
    "nbgrader": {
     "grade": true,
     "grade_id": "1",
     "locked": false,
     "points": 4,
     "solution": true
    }
   },
   "source": [
    "## Aufgabe 1: Boolsche Variablen und Vergleichungen\n",
    "\n",
    "\n",
    "a) (1 Punkt) Die Variablen $a$ und $b$ sind boolesche Variablen unbekannter Belegung. Verkürzen Sie folgende boolesche Ausdrücke so weit wie möglich und geben Sie die zwishenschritte an: \n",
    "  \n",
    "```Python\n",
    "(not(a and b)) and False\n",
    "( (True | b ) | ( False | b) )  \n",
    "```\n",
    "\n",
    "b) (1 Punkt) Nehmen Sie an, dass die Variablen $a$, $b$ und $c$ die folgenden Werte haben: \n",
    "    \n",
    "```Python\n",
    "a, b, c = True, True, False\n",
    "```\n",
    "   \n",
    "Berechnen Sie die Werte folgender Ausdrücke:   \n",
    "\n",
    "```Python\n",
    "b and c\n",
    "b or c\n",
    "not a and c\n",
    "(b and c) or not a\n",
    "```\n",
    "\n",
    "c) (2 Punkte) Nehmen Sie die folgende Belegung an: \n",
    "\n",
    "```Python\n",
    "a, b, c, d, foo = 2, -1, \"2\", 0, \"foo\"\n",
    "```\n",
    "\n",
    "Überprüfen Sie welche der folgenden Bedingungen als `True` ausgewertet wird\n",
    "\n",
    "```Python\n",
    "a < b\n",
    "(a < b) and d\n",
    "(a > b) or d\n",
    "b <= a\n",
    "b >= b\n",
    "b > d\n",
    "a != b\n",
    "d\n",
    "b == -1\n",
    "a == c\n",
    "c == \"2\"\n",
    "foo == \"foo\"\n",
    "foo = \"foo\"\n",
    "```"
   ]
  },
  {
   "cell_type": "markdown",
   "metadata": {
    "nbgrader": {
     "grade": true,
     "grade_id": "2",
     "locked": false,
     "points": 4,
     "solution": true
    }
   },
   "source": [
    "## Aufgabe 2: Python als Taschenrechner\n",
    "\n",
    "Mit Python kann man mathematische Ausdrücke auswerten lassen. Das wird durch die folgenden mathematischen Operatoren: `+, -, *, /,` Potenz (`**`) und Modulo (`%`) unterstützt.   \n",
    "\n",
    "a) (2 Punkte) Werten Sie die folgende Ausdrücke in Python aus: \n",
    " \n",
    "    7/2, 7/2.0 und 7.0/2\n",
    "    3*(1/2) und 3*(1/2.0)\n",
    "    3**2, 3.0**2 und 3**2.0\n",
    "\n",
    "Warum bekommt man unterschiedliche Ergebnisse, obwohl alle Einträge mathematisch identisch sind? Woran liegt das?\n",
    "\n",
    "b) (2 Punkte) Lösen Sie die quadratische Gleichung $ax^2 + bx + c = 0$ für vom Benutzer eingegebene Parameter $a$, $b$ und $c$. Dazu können Sie die Lösungsformel für die quadratische Gleichung benutzen: $$x_{1,2}=\\frac{-b \\pm \\sqrt{b^2 - 4ac}}{2a}.$$ Komplexe Lösungen sollen auch ausgegeben werden. Hinweis: als Referenz zur komplexe Zahlen können Sie das folgende Link benutzen: http://infohost.nmt.edu/tcc/help/pubs/python/web/complex-type.html."
   ]
  },
  {
   "cell_type": "markdown",
   "metadata": {
    "nbgrader": {
     "grade": true,
     "grade_id": "3",
     "locked": false,
     "points": 4,
     "solution": true
    }
   },
   "source": [
    "## Aufgabe 3: Typen von Variablen\n",
    "\n",
    "a) (2 Punkte) Welche der folgenden Namen sind legal in Python? Begründen Sie Ihre Antwort: \n",
    "```Python\n",
    "or\n",
    "_or\n",
    "var\n",
    "var2\n",
    "2var\n",
    "my_var\n",
    "dein-var\n",
    "```\n",
    "b) (2 Punkte) Benennen Sie die Typen der folgenden Variablen:\n",
    "```Python\n",
    "a = 4\n",
    "b = 4.0\n",
    "c = '4.0'\n",
    "d = False\n",
    "e = 'True'\n",
    "f = 'Test'\n",
    "g = int\n",
    "```"
   ]
  },
  {
   "cell_type": "markdown",
   "metadata": {
    "nbgrader": {
     "grade": true,
     "grade_id": "4",
     "locked": false,
     "points": 4,
     "solution": true
    }
   },
   "source": [
    "## Aufgabe 4: Programmieren mit Pseudocode\n",
    "\n",
    "a) (2 Punkte) Sie haben um 18 Uhr einen Termin mit Ihrem Kollegen vereinbart. Ist er/sie nicht bis 17.55 Uhr bei Ihnen, sagen Sie den Termin ab. Ansosten nehmen Sie teil. Drücken sie die o.g. Handlung in einem Pseudocode aus. Hinweis:  https://de.wikipedia.org/wiki/Pseudocode\n",
    "\n",
    "b) (2 Punkte) Sie möchten sich einen Fahrschein am Automaten kaufen, welcher jede Art von Euro-Münzen annimmt. Schreiben Sie einen Pseudocode, welcher zu Ihrem eingegebenen Betrag die Mindestanzahl der Münzen nennt. \n"
   ]
  },
  {
   "cell_type": "markdown",
   "metadata": {
    "nbgrader": {
     "grade": true,
     "grade_id": "5",
     "locked": false,
     "points": 4,
     "solution": true
    }
   },
   "source": [
    "## Aufgabe 5: Eingabe und Ausgabe von Daten\n",
    "\n",
    "a) (2 Punknte) Lesen Sie mit **input** ein Wort, ein Zeichen und eine Fließkommazahl ein und geben\n",
    "Sie die Inhalte mit **print** wieder aus.\n",
    "\n",
    "b) (2 Punknte) Erweitern Sie das Programm, indem es den Namen des Benutzers einliest und ihn dann mit seinem\n",
    "Namen begrüßt."
   ]
  },
  {
   "cell_type": "markdown",
   "metadata": {
    "nbgrader": {
     "grade": true,
     "grade_id": "6",
     "locked": false,
     "points": 4,
     "solution": true
    }
   },
   "source": [
    "## Aufgabe 6: Datenmanipulation\n",
    "\n",
    "a) (2 Punknte) Lesen Sie zwei ganze Zahlen ein und geben Sie deren Summe, Produkt, Differenz und Quotienten\n",
    "aus. Achten Sie beim Teilen auf die Richtigkeit des Ergebnisses!\n",
    "\n",
    "b) (2 Punknte) Geben Sie mithilfe des Modulo-Operators **%** die letzte Ziffer einer vom Benutzer eingegebenen\n",
    "Ganzzahl aus."
   ]
  }
 ],
 "metadata": {
  "celltoolbar": "Create Assignment",
  "kernelspec": {
   "display_name": "Python 3",
   "language": "python",
   "name": "python3"
  },
  "language_info": {
   "codemirror_mode": {
    "name": "ipython",
    "version": 3
   },
   "file_extension": ".py",
   "mimetype": "text/x-python",
   "name": "python",
   "nbconvert_exporter": "python",
   "pygments_lexer": "ipython3",
   "version": "3.4.2"
  }
 },
 "nbformat": 4,
 "nbformat_minor": 1
}
