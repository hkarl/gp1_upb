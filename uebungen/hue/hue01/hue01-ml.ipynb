{
 "cells": [
  {
   "cell_type": "markdown",
   "metadata": {
    "nbgrader": {
     "grade": true,
     "grade_id": "matrikel",
     "locked": false,
     "points": 0,
     "solution": true
    }
   },
   "source": []
  },
  {
   "cell_type": "markdown",
   "metadata": {
    "nbgrader": {
     "grade": false,
     "grade_id": "matrikel_info",
     "locked": true,
     "solution": false
    }
   },
   "source": [
    "Bitte tragen Sie Ihre Matrikelnummern und E-Mail-Adressen *zeilenweise* in die Zelle *oberhalb* dieser Zelle ein.\n",
    "Beachten Sie: Die Abgabe muss mit Ihrem *Gruppenaccount* erfolgen, den Sie in der Präsenzübung erhalten haben! Abgaben, die über Ihren Einzelaccount erfolgen, werden ignoriert. \n",
    "Achten Sie dabei streng auf die Formatierung, denn die Auswertung erfolgt automatisch. \n",
    "Benutzen Sie *keine* Leerzeilen.\n",
    "Nur zwischen Matrikelnummer und E-Mail-Adresse darf ein Leerzeichen stehen.\n",
    "\n",
    "Format:\n",
    "\n",
    "MatrikelNummer E-Mail-Adresse\n",
    "\n",
    "z.B.:\n",
    "\n",
    "123456 testStudent@mail.upb.de"
   ]
  },
  {
   "cell_type": "markdown",
   "metadata": {},
   "source": [
    "**Abgabe: 6.11., 23:59**"
   ]
  },
  {
   "cell_type": "markdown",
   "metadata": {
    "nbgrader": {
     "grade": false,
     "grade_id": "1",
     "locked": true,
     "points": 6,
     "solution": false
    }
   },
   "source": [
    "## Aufgabe 1: Boolesche Variablen und Vergleiche\n",
    "\n",
    "\n",
    "a) (1 Punkt) Die Variablen $a$, $b$ und $c$ sind boolesche Variablen unbekannter Belegung. Verkürzen Sie folgende boolesche Ausdrücke so weit wie möglich und geben Sie die Zwischenschritte an: \n",
    "  \n",
    "```Python\n",
    "( (True or a ) and ( False or b) )  \n",
    "( (a or b ) or ( False or b) )  \n",
    "(a or b) and (a or c)\n",
    "(a and (a or b)) and True\n",
    "a and b or b and c and (b or c)\n",
    "```\n",
    "\n",
    "\n"
   ]
  },
  {
   "cell_type": "markdown",
   "metadata": {
    "nbgrader": {
     "grade": true,
     "grade_id": "2",
     "locked": false,
     "points": 1,
     "solution": true
    }
   },
   "source": [
    "\n",
    "```Python\n",
    "( (True or a) and (False or b) )\n",
    "= True and b\n",
    "= b\n",
    "\n",
    "( (a or b ) or ( False or b ) )\n",
    "= ( a or b ) or b\n",
    "= a or b\n",
    "\n",
    "( a or b ) and ( a or c )\n",
    "= a or (b and c )\n",
    "\n",
    "(a and (a or b)) and True\n",
    "= ((a and a) or (a and b)) and True\n",
    "= (a or (a and b)) and True\n",
    "= a and True\n",
    "= a\n",
    "\n",
    "a and b or b and c and (b or c)\n",
    "= (a and b) or ((b and c) and (b or c))\n",
    "= (a and b) or (b and c)\n",
    "= b and (a or c)\n",
    "```\n"
   ]
  },
  {
   "cell_type": "markdown",
   "metadata": {
    "nbgrader": {
     "grade": false,
     "grade_id": "3",
     "locked": true,
     "solution": false
    }
   },
   "source": [
    "b) (1 Punkt) Nehmen Sie an, dass die Variablen $a$, $b$ und $c$ die folgenden Werte haben: \n",
    "    \n",
    "```Python\n",
    "a = True\n",
    "b = True\n",
    "c = False\n",
    "```\n",
    "   \n",
    "Welche Werte werden die Variablen $d$,$e$,$f$ und $g$ nach Ausführung des folgenden Codes haben? Versuchen Sie, die Aufgabe ohne Hilfe von Python zu lösen.\n",
    "\n",
    "```Python\n",
    "d = b and c\n",
    "e = b or c\n",
    "f = not a and c\n",
    "g = (b and c) or not a\n",
    "```"
   ]
  },
  {
   "cell_type": "markdown",
   "metadata": {
    "nbgrader": {
     "grade": true,
     "grade_id": "4",
     "locked": false,
     "points": 1,
     "solution": true
    }
   },
   "source": [
    "```Python\n",
    "d = False \n",
    "e = True \n",
    "f = False\n",
    "g= False\n",
    "```"
   ]
  },
  {
   "cell_type": "markdown",
   "metadata": {
    "nbgrader": {
     "grade": false,
     "grade_id": "5",
     "locked": true,
     "solution": false
    }
   },
   "source": [
    "\n",
    "c) (2 Punkte) Nehmen Sie die folgende Belegung an: \n",
    "\n",
    "```Python\n",
    "a = 2\n",
    "b = -1\n",
    "c = \"2\"\n",
    "d = 0 \n",
    "foo = \"foo\"\n",
    "```\n",
    "\n",
    "Welche der folgenden Bedingungen sind wahr?\n",
    "\n",
    "```Python\n",
    "a < b\n",
    "(a < b) and d\n",
    "(a > b) or d\n",
    "b <= a\n",
    "b >= b\n",
    "b > d\n",
    "a != b\n",
    "b == -1\n",
    "a == c\n",
    "c == \"2\"\n",
    "foo == \"foo\"\n",
    "```"
   ]
  },
  {
   "cell_type": "markdown",
   "metadata": {
    "nbgrader": {
     "grade": true,
     "grade_id": "6",
     "locked": false,
     "points": 2,
     "solution": true
    }
   },
   "source": [
    "```Python\n",
    "a < b          False\n",
    "(a < b) and d  False\n",
    "(a > b) or d   True\n",
    "b <= a         True\n",
    "b >= b         True\n",
    "b > d          False\n",
    "a != b         True\n",
    "b == -1        True\n",
    "a == c         False\n",
    "c == \"2\"       True\n",
    "foo == \"foo\"   True\n",
    "```"
   ]
  },
  {
   "cell_type": "markdown",
   "metadata": {
    "nbgrader": {
     "grade": false,
     "grade_id": "7",
     "locked": true,
     "points": 4,
     "solution": false
    }
   },
   "source": [
    "## Aufgabe 2: Variablen\n",
    "\n",
    "a) (2 Punkte) Welche der folgenden Namen für Variablen sind in Python gültig? Begründen Sie Ihre Antwort: \n",
    "```Python\n",
    "or\n",
    "_or\n",
    "var\n",
    "var2\n",
    "2var\n",
    "my_var\n",
    "dein-var\n",
    "```\n"
   ]
  },
  {
   "cell_type": "markdown",
   "metadata": {
    "nbgrader": {
     "grade": true,
     "grade_id": "8",
     "locked": false,
     "points": 2,
     "solution": true
    }
   },
   "source": [
    "* or Ist nicht gültig. ```or``` ist ein Schlüsselwort und darf nicht als Variablennamen verwendet werden.\n",
    "* 2var Ist nicht gültig, da es mit eine Zahl beginnt.\n",
    "* dein-var Ist kein gültiger Variablenname. Das \"-\" Zeichen darf nicht innerhalb eines Variablennamens verwendet werden.\n",
    "* Alle andere Variablennamen sind gültig.\n"
   ]
  },
  {
   "cell_type": "markdown",
   "metadata": {
    "nbgrader": {
     "grade": false,
     "grade_id": "9",
     "locked": true,
     "solution": false
    }
   },
   "source": [
    "b) (2 Punkte) Benennen Sie die Typen der folgenden Variablen:\n",
    "```Python\n",
    "a = 4\n",
    "b = 4.0\n",
    "c = '4.0'\n",
    "d = False\n",
    "e = 'True'\n",
    "f = 'Test'\n",
    "g = int\n",
    "```"
   ]
  },
  {
   "cell_type": "markdown",
   "metadata": {
    "nbgrader": {
     "grade": true,
     "grade_id": "10",
     "locked": false,
     "points": 2,
     "solution": true
    }
   },
   "source": [
    "```Python\n",
    "type(a) = int\n",
    "type(b) = float\n",
    "type(c) = str\n",
    "type(d) = bool\n",
    "type(e) = str\n",
    "type(f) = str\n",
    "type(g) = type\n",
    "```"
   ]
  },
  {
   "cell_type": "markdown",
   "metadata": {
    "nbgrader": {
     "grade": false,
     "grade_id": "11",
     "locked": true,
     "solution": false
    }
   },
   "source": [
    "c) (2 Punkte) Führen Sie die folgenden Anweisungen hintereinander in Python aus und identifizieren Sie, welche falsch sind. Begründen Sie Ihre Antwort. \n",
    "\n",
    "```Python \n",
    "1d = 2\n",
    "x = 2\n",
    "y = X + 4  \n",
    "c = 4**3**2**3\n",
    "_ = ((c-454)*c + 64))\n",
    "rabat = 12%\n",
    "menge = 120.-\n",
    "preis = 150€\n",
    "email = test@mailDomain.de\n",
    "and \n",
    "Haltbarkeitsdatum = 01.Nov.2017\n",
    "class = 'Medizin, gr 2\"\n",
    "continue_ = x > 0\n",
    "```"
   ]
  },
  {
   "cell_type": "markdown",
   "metadata": {
    "collapsed": true,
    "nbgrader": {
     "grade": true,
     "grade_id": "12",
     "locked": false,
     "points": 2,
     "solution": true
    }
   },
   "source": [
    "```PYTHON\n",
    "1d = 2                          # falsche Anweisung. Ein Variablenname \n",
    "                                # darf als erstes Zeichen keine Ziffer haben.\n",
    "\n",
    "x = 2                           # richtige Anweisung\n",
    "\n",
    "y = X + 4                       # falsche Anweisung, statt eines kleinen x \n",
    "                                # wurde ein großes X verwendet. \n",
    "                                # X ist hier nicht definiert.\n",
    "\n",
    "c = 4**3**2**3                  # richtige Anweisung. Doppelte * definiert Potenzen.\n",
    "\n",
    "_ = ((c-454)*c + 64))           # falsche Anweisung. Eine Klammer zuviel gesetzt.\n",
    "\n",
    "rabat = 12%                     # falsche Anweisung. Syntaxverletzung. \n",
    "                                # Das Prozentzeichen ist vom Datentyp str\n",
    "\n",
    "menge = 120.-                   # falsche Anweisung. Syntaxverletzung. \n",
    "    \n",
    "preis = 150€                    # falsche Anweisung. Das €-Zeichen darf nicht \n",
    "                                # direkt an einen int Wert geschrieben werden.\n",
    "    \n",
    "email = test@mailDomain.de      # falsche Anweisung. Syntaxverletzung.\n",
    "                                # Eine Mail Adresse muss vom Typ str sein und \n",
    "                                # in Anführungszeichen geschrieben werden.\n",
    "    \n",
    "and                             # falsche Anweisung. Syntaxverletzung. \n",
    "                                # Das Schlüsselwort \"and\" muss zwischen \n",
    "                                # zwei Ausdrücken stehen.\n",
    "    \n",
    "Haltbarkeitsdatum = 01.Nov.2017 # falsche Anweisung. Syntaxverletzung. \n",
    "                                # 01.Nov.2017 ist vom Datentyp str und \n",
    "                                # muss in Anführungszeichen geschrieben werden.\n",
    "    \n",
    "class = 'Medizin, gr 2\"         '# falsche Syntax. Es fehlt ein schließendes \n",
    "                                # einfaches Anführungszeichen. \n",
    "                                # oder es wurde ein einfaches Anführungszeichen \n",
    "                                # mit einem doppelten verwechselt.\n",
    "                                # Zudem ist \"class\" ein Schlüsselwort und \n",
    "                                # darf nicht als Variablenname verwendet werden\n",
    "\n",
    "continue_ = x > 0               # richtige Anweisung. x ist definiert, \n",
    "                                # continue_ ist vom Typ bool und hat den Wert True\n",
    "```\n"
   ]
  },
  {
   "cell_type": "markdown",
   "metadata": {
    "nbgrader": {
     "grade": false,
     "grade_id": "13",
     "locked": true,
     "solution": false
    }
   },
   "source": [
    "## Aufgabe 3:  Mathematische Operationen\n",
    "\n",
    "Mit Python kann man mathematische Ausdrücke auswerten lassen. Das wird durch die folgenden mathematischen Operatoren: `+, -, *, /,` Potenz (`**`) und Modulo (`%`) unterstützt. \n",
    "\n",
    "a) (2 Punkte) Sie möchten das Produkt von zwei Variablen $a$ und $b$ berechnen. Benennen Sie alles, was an der folgenden Implementierung falsch ist und erklären Sie kurz, wie man dies korrigieren kann:\n",
    "```Python \n",
    "c = a*b\n",
    "a = 20\n",
    "b = 66974\n",
    "print(C)\n",
    "```"
   ]
  },
  {
   "cell_type": "code",
   "execution_count": 1,
   "metadata": {
    "collapsed": false,
    "nbgrader": {
     "grade": true,
     "grade_id": "14",
     "locked": false,
     "points": 2,
     "solution": true
    }
   },
   "outputs": [
    {
     "name": "stdout",
     "output_type": "stream",
     "text": [
      "1339480\n"
     ]
    }
   ],
   "source": [
    "a = 20\n",
    "b = 66974\n",
    "c = a*b          \n",
    "print(c)     "
   ]
  },
  {
   "cell_type": "markdown",
   "metadata": {
    "nbgrader": {
     "grade": false,
     "grade_id": "3b",
     "locked": true,
     "solution": false
    }
   },
   "source": [
    "b) (2 Punkte) Schreiben Sie ein Programm, welches das Gesamtvermögen nach 3 Jahren bei einem Startkapital von 1000 Euro und einem Zinssatz von 5 % berechnet. Das Gesamtvermögen rechnet man mit der folgenden Formel aus: \n",
    "$$K \\left(1 + \\frac{p}{100} \\right)^n,$$ wobei $K, n$ und $p$ entsprechend das Startkapital, Anzahl der Jahren und der Zinssatz sind."
   ]
  },
  {
   "cell_type": "code",
   "execution_count": 2,
   "metadata": {
    "collapsed": false,
    "nbgrader": {
     "grade": true,
     "grade_id": "15",
     "locked": false,
     "points": 2,
     "solution": true
    }
   },
   "outputs": [
    {
     "name": "stdout",
     "output_type": "stream",
     "text": [
      "Gesamtvermögen nach 3 Jahren bei einem Startkapial von 1000.0 € und einem Zinssatz von 5 % ist: 1157.6250000000002\n"
     ]
    }
   ],
   "source": [
    "K = 1000.00        # Startkapital\n",
    "n = 3              # Anzahl der Jahre\n",
    "p = 5              # Zinssatz\n",
    "\n",
    "G = K * ((1+(5/100)) * (1+(5/100)) * (1+(5/100)))\n",
    "\n",
    "print(\"Gesamtvermögen nach\", n, \"Jahren bei einem Startkapial von\", \n",
    "      K, \"€ und einem Zinssatz von\",p, \"% ist:\", G)"
   ]
  },
  {
   "cell_type": "markdown",
   "metadata": {
    "nbgrader": {
     "grade": false,
     "grade_id": "3c",
     "locked": true,
     "solution": false
    }
   },
   "source": [
    "c) (2 Punkte) Die folgende Funktion: \n",
    "\n",
    "$$f(x) = \\frac{1}{\\sqrt{2 \\cdot \\pi}} \\exp \\left[ -\\frac{1}{2} \\left(\\frac{x-m}{s} \\right)^2 \\right]  $$\n",
    "\n",
    "ist eine sehr wichtige Funktion in der Wahrscheinlichkeitstheorie und wird oft zur Beschreibung zufälliger Vorgänge benutzt (die Dichte einer normalverteilten Zufallsvariablen). \n",
    "Berechnen Sie diese Funktion in Python für die folgenden Parameter: $m = 0$, $s = 1$ und $x = 10$. \n",
    "\n",
    "Hinweis: Approximieren Sie $\\pi \\approx 3.14$, $exp(x)=2.718^x$ und für die $\\sqrt{x}$-Operation benutzen Sie \n",
    "\n",
    "```Python \n",
    "x**0.5\n",
    "``` \n",
    "in Python."
   ]
  },
  {
   "cell_type": "code",
   "execution_count": 3,
   "metadata": {
    "collapsed": false,
    "nbgrader": {
     "grade": true,
     "grade_id": "16",
     "locked": false,
     "points": 2,
     "solution": true
    }
   },
   "outputs": [
    {
     "name": "stdout",
     "output_type": "stream",
     "text": [
      "Ergebniss: 7.736553948565042e-23\n"
     ]
    }
   ],
   "source": [
    "m = 0\n",
    "s = 1\n",
    "x = 10\n",
    "pi = 3.14\n",
    "\n",
    "exp_part = 2.718**(-1/2*((x-m)/s)**2)         \n",
    "f = (1/(2*pi)**0.5)*exp_part\n",
    "\n",
    "print(\"Ergebniss:\",f)"
   ]
  },
  {
   "cell_type": "markdown",
   "metadata": {
    "nbgrader": {
     "grade": false,
     "grade_id": "17",
     "locked": true,
     "solution": false
    }
   },
   "source": [
    "d) (2 Punkte) Sie möchten die folgenden Gleichungen in Python überprüfen: \n",
    "\n",
    "$$ (a + b)^2= a^2 + 2ab + b^2 $$ $$ (a - b)^2 = a^2 -2ab + b^2 $$ \n",
    "Ein Kollege von Ihnen hat dazu den folgenden Code geschrieben: \n",
    "\n",
    "\n",
    "```Python\n",
    "a = 4.5   \n",
    "b = 7.7\n",
    "\n",
    "sum_eq1 = a^2 + 2ab + b^2\n",
    "sum_eq2 = a^2 - 2ab + b^2\n",
    "\n",
    "pow_eq1 = (a + b)^2\n",
    "pow_eq2 = (a - b)^2\n",
    "\n",
    "print('Erste Gleichung:', sum_eq1, '=?', pow_eq1)\n",
    "print('Zweite Gleichung:', sum_eq2, '=?', pow_eq2)\n",
    "```\n",
    "\n",
    "Finden Sie die Fehler und schreiben Sie den korrigierten Code auf."
   ]
  },
  {
   "cell_type": "code",
   "execution_count": 4,
   "metadata": {
    "collapsed": false,
    "nbgrader": {
     "grade": true,
     "grade_id": "18",
     "locked": false,
     "points": 2,
     "solution": true
    }
   },
   "outputs": [
    {
     "name": "stdout",
     "output_type": "stream",
     "text": [
      "Erste Gleichung: 148.84 =? 148.83999999999997\n",
      "Zweite Gleichung: 10.240000000000009 =? 10.240000000000002\n",
      "Erste Gleichung ist gleich:  True\n",
      "Zweite Gleichung ist gleich:  True\n"
     ]
    }
   ],
   "source": [
    "a = 4.5   \n",
    "b = 7.7\n",
    "\n",
    "sum_eq1 = a**2 + 2*a*b + b**2      \n",
    "sum_eq2 = a**2 - 2*a*b + b**2      \n",
    "\n",
    "pow_eq1 = (a + b)**2\n",
    "pow_eq2 = (a - b)**2\n",
    "\n",
    "print('Erste Gleichung:', sum_eq1, '=?', pow_eq1)\n",
    "print('Zweite Gleichung:', sum_eq2, '=?', pow_eq2)\n",
    "\n",
    "print('Erste Gleichung ist gleich: ', \n",
    "      round(sum_eq1,2) == round(pow_eq1,2))\n",
    "print('Zweite Gleichung ist gleich: ', \n",
    "      round(sum_eq2,2) == round(pow_eq2,2))\n"
   ]
  },
  {
   "cell_type": "markdown",
   "metadata": {
    "nbgrader": {
     "grade": false,
     "grade_id": "19",
     "locked": true,
     "solution": false
    }
   },
   "source": [
    "e) (2 Punkte) Die Lösungen der quadratischen Gleichung $ax^2 + bx + c = 0$ kann man durch die folgende Formel finden: $$x_{1,2}=\\frac{-b \\pm \\sqrt{b^2 - 4ac}}{2a}.$$ \n",
    "\n",
    "Finden Sie die Fehler in der folgenden Implementierung und schreiben Sie sie fehlerfrei: \n",
    "``` Python\n",
    "a = 2; b = 1; c = 2\n",
    "D= (b**2 - 4*a*c)*0.5;\n",
    "x_1 = (-b + D)/2*a;\n",
    "x_2 = -(b + D)/2*a;\n",
    "print(x_1, x_2)\n",
    "```"
   ]
  },
  {
   "cell_type": "code",
   "execution_count": 5,
   "metadata": {
    "collapsed": false,
    "nbgrader": {
     "grade": true,
     "grade_id": "20",
     "locked": false,
     "points": 2,
     "solution": true
    }
   },
   "outputs": [
    {
     "name": "stdout",
     "output_type": "stream",
     "text": [
      "(-0.24999999999999994+0.9682458365518543j) (-0.25000000000000006-0.9682458365518543j)\n"
     ]
    }
   ],
   "source": [
    "a, b, c = 2, 1, 2 \n",
    "\n",
    "D= (b**2 - 4*a*c)**0.5;    \n",
    "\n",
    "x_1 = (-b + D)/(2*a);      \n",
    "x_2 = -(b + D)/(2*a);     \n",
    "print(x_1, x_2)"
   ]
  }
 ],
 "metadata": {
  "anaconda-cloud": {},
  "celltoolbar": "Create Assignment",
  "kernelspec": {
   "display_name": "Python 3",
   "language": "python",
   "name": "python3"
  },
  "language_info": {
   "codemirror_mode": {
    "name": "ipython",
    "version": 3
   },
   "file_extension": ".py",
   "mimetype": "text/x-python",
   "name": "python",
   "nbconvert_exporter": "python",
   "pygments_lexer": "ipython3",
   "version": "3.5.1"
  }
 },
 "nbformat": 4,
 "nbformat_minor": 1
}
