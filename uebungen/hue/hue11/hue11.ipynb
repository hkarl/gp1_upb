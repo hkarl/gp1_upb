{
 "cells": [
  {
   "cell_type": "markdown",
   "metadata": {
    "nbgrader": {
     "grade": true,
     "grade_id": "matrikel",
     "locked": false,
     "points": 0,
     "solution": true
    },
    "slideshow": {
     "slide_type": "skip"
    }
   },
   "source": [
    "Bitte hier eintragen (s.u)!"
   ]
  },
  {
   "cell_type": "markdown",
   "metadata": {
    "nbgrader": {
     "grade": false,
     "grade_id": "matrikel_info",
     "locked": true,
     "solution": false
    },
    "slideshow": {
     "slide_type": "skip"
    }
   },
   "source": [
    "# Abgabehinweise \n",
    "\n",
    "Beachten Sie unbedingt diese Hinweise, sonst erhalten Sie keine Punkte aus dieser Abgabe! Für Details siehe z.B. [Folien der nullten Zentralübung](http://groups.uni-paderborn.de/fg-karl/lehre/ws1617/gp1/hue/gp1-zue0.pdf)\n",
    "\n",
    "## Namen und Matrikelnummern \n",
    "\n",
    "Tragen Sie Ihre Matrikelnummern und E-Mail-Adressen *zeilenweise* in die Zelle **oberhalb** dieser Zelle ein.\n",
    "Achten Sie dabei streng auf die Formatierung, denn die Auswertung erfolgt automatisch. \n",
    "Benutzen Sie *keine* Leerzeilen.\n",
    "Zwischen Matrikelnummer und E-Mail-Adresse *muss genau ein* Leerzeichen stehen; sonst keine Leerzeichen, Tabs, Spiegelstriche, oder ähnliches in einer Zeile. Wir empfehlen *dringend* die Benutzung der Uni-Paderborn E-Mail-Adressen! \n",
    "\n",
    "<!--- Wenn Sie diese Ansicht verwenden (was Sie nicht tun sollten; klicken Sie am besten einmal auf \"Run cell\"), dann steht die Formatierung hier richtig:\n",
    "\n",
    "Format:\n",
    "\n",
    "MatrikelNummer E-Mail-Adresse\n",
    "MatrikelNummer2 E-Mail-Adresse2\n",
    "\n",
    "z.B.:\n",
    "\n",
    "123456 testStudent@mail.upb.de\n",
    "234567 testStudent2@mail.upb.de\n",
    "345678 vorname.nachname@mail.upb.de\n",
    "\n",
    "... und nicht hier: -->\n",
    "\n",
    "Format:\n",
    "\n",
    "MatrikelNummer E-Mail-Adresse\n",
    "<br \\>\n",
    "MatrikelNummer2 E-Mail-Adresse2\n",
    "\n",
    "z.B.:\n",
    "\n",
    "123456 testStudent@mail.upb.de\n",
    "<br \\>\n",
    "234567 testStudent2@mail.upb.de\n",
    "<br \\>\n",
    "345678 vorname.nachname@mail.upb.de\n",
    "\n",
    "Hinweis: Wenn Sie das so in die obere Zelle eingeben, wird in der ausgeführten Markdownzelle (Strg+Enter) alles in einer Zeile angezeigt. Das ist egal; wichtig ist Formatierung der Eingabe.\n",
    "\n",
    "\n",
    "## Abgabe mit Gruppenaccount \n",
    "\n",
    "Die Abgabe muss mit Ihrem *Gruppenaccount* erfolgen (gp1\\_16\\_...), den Sie in der Präsenzübung erhalten haben! Abgaben, die über Ihren Einzelaccount erfolgen, werden ignoriert. \n",
    "\n",
    "## Abgabe: Submit \n",
    "\n",
    "Es reicht nicht, nur das Übungsblatt zu verändern. Sie müssen unter *Assignments* auf *Submit* clicken (oder entsprechend über die Kommandozeile), für das entsprechende Übungsblatt! (Wenn Sie Blatt 11 abgeben wolllen hilft es nicht, bei Blatt 1 auf Submit zu drücken!) Für Details siehe Beschreibung Abgabeprozess. \n",
    "\n",
    "## Dateinamen\n",
    "\n",
    "Geben Sie Ihre Lösung in der vom Server erhaltenen Datei hue11.ipynb ab (nicht umbenennen, keine Kopie erstellen, keine anderen Dateien in das Verzeichnis legen). Sonst kann eine Bewertung nicht stattfinden.\n",
    "\n",
    "## Struktur des Notebooks \n",
    "\n",
    "Fügen Sie keine Zellen hinzu und löschen Sie keine Zellen.\n",
    "Ändern Sie nicht den Typ einer Zelle.\n",
    "Geben Sie Lösungen nur in den Lösungszellen ab. Änderungen in den anderen Zellen werden nach Abgabe automatisch rückgängig gemacht.\n",
    "\n",
    "## Code-Zellen \n",
    "\n",
    "Entfernen Sie die Zeilen mit Inhalt \"raise NotImplementedError()\" aus den Zellen, in die Sie Ihre Lösungen schreiben. *Ersetzen* Sie diese Zeilen durch Ihre eigene Lösungen. \n",
    "\n",
    "## Nie ```input```\n",
    "\n",
    "Benutzen Sie *niemals* die Funktion `input()`. Das verhindert die automatische Auswertung Ihrer Abgabe und führt zu 0 Punkten für das gesamte Blatt! \n",
    "\n",
    "## Kommentare \n",
    "\n",
    "Kommentieren Sie Code-Abgaben! Insbesondere *muss* jede Funktion (Klasse, Methode, ...) einen sinnvollen ```docstring``` haben! Bei fehlendem docstring werden automatisch Punkte abgezogen! \n",
    "\n",
    "\n",
    "# Abgabetermin: 29.01.2017 um 23:59 Uhr"
   ]
  },
  {
   "cell_type": "markdown",
   "metadata": {
    "nbgrader": {
     "grade": false,
     "grade_id": "a1",
     "locked": true,
     "solution": false
    }
   },
   "source": [
    "# Aufgabe 1:"
   ]
  },
  {
   "cell_type": "markdown",
   "metadata": {
    "nbgrader": {
     "grade": false,
     "grade_id": "a1a",
     "locked": true,
     "solution": false
    }
   },
   "source": [
    "## a)\n",
    "Betrachten Sie den folgenden Python-Code:\n",
    "\n",
    "```Python \n",
    "class Tier:\n",
    "    def friss(self):\n",
    "        print(\"Das Tier frisst.\")\n",
    "    \n",
    "class Pflanzenfresser(Tier):\n",
    "    def friss(self):\n",
    "        print(\"Das Tier frisst vegetarisch.\")\n",
    "\n",
    "class Fleischfresser(Tier):\n",
    "    def friss(self):\n",
    "        print(\"Das Tier frisst Fleisch.\")\n",
    "       \n",
    "class Allesfresser(Pflanzenfresser, Fleischfresser):\n",
    "    pass\n",
    "\n",
    "baer = Allesfresser()\n",
    "baer.friss()\n",
    "```\n",
    "\n",
    "Welche Ausgabe wird erzeugt und warum?"
   ]
  },
  {
   "cell_type": "markdown",
   "metadata": {
    "nbgrader": {
     "grade": true,
     "grade_id": "a1-sol",
     "locked": false,
     "points": 2,
     "solution": true
    }
   },
   "source": [
    "Es wird \"Das Tier isst vegetarisch\" ausgegeben.\n",
    "Das liegt daran, dass die Methode `iss()` von `Pflanzenfresser` aufgerufen wird, da diese Oberklasse als erstes in der Liste der Oberklassen aufgeführt ist."
   ]
  },
  {
   "cell_type": "markdown",
   "metadata": {
    "nbgrader": {
     "grade": false,
     "grade_id": "a1b",
     "locked": true,
     "solution": false
    }
   },
   "source": [
    "## b)\n",
    "Betrachten Sie das folgende, komplexere, Beispiel:\n",
    "\n",
    "```Python\n",
    "class Tier:\n",
    "    def friss(self):\n",
    "        print(\"Das Tier frisst.\")\n",
    "\n",
    "class Pflanzenfresser(Tier):\n",
    "    def friss(self):\n",
    "        print(\"Das Tier frisst vegetarisch.\")\n",
    "        \n",
    "class Fleischfresser(Tier):\n",
    "    def extra_portion(self):\n",
    "        print(\"Der Fleischfresser frisst noch eine Portion.\")\n",
    "        \n",
    "class Allesfresser(Pflanzenfresser, Fleischfresser):\n",
    "    def friss(self):\n",
    "        print(\"Der Allesfresser frisst.\")\n",
    "        self.extra_portion()\n",
    "\n",
    "class Raubtier(Fleischfresser):\n",
    "    def extra_portion(self):\n",
    "        print(\"Das Raubtier frisst noch eine Portion.\")        \n",
    "\n",
    "class Baer(Allesfresser, Raubtier): pass\n",
    "\n",
    "baer = Baer()\n",
    "baer.friss()\n",
    "```\n",
    "\n",
    "Welche Ausgabe erzeugt dieser Code? Erklären Sie!"
   ]
  },
  {
   "cell_type": "markdown",
   "metadata": {
    "nbgrader": {
     "grade": true,
     "grade_id": "a1b-sol",
     "locked": false,
     "points": 1,
     "solution": true
    }
   },
   "source": [
    "Es wird die Ausgabe \n",
    "\n",
    "```Der Allesfresser frisst.\n",
    "Das Raubtier frisst noch eine Portion.\n",
    "```\n",
    "\n",
    "erzeugt.\n",
    "\n",
    "Dies liegt an der Method Resolution Order, welche die Klasse Raubtier vor Fleischfresser enthält (aufgrund des C3-Algorithmus).\n",
    "Würde die Klasse Fleischfresser vor Raubtier in der MRO vorkommen, wäre die Monotonie verletzt."
   ]
  },
  {
   "cell_type": "markdown",
   "metadata": {
    "nbgrader": {
     "grade": false,
     "grade_id": "a1c",
     "locked": true,
     "solution": false
    }
   },
   "source": [
    "## c)\n",
    "Betrachten Sie nun die folgende Abwandlung des Beispiels aus Aufgabe a):\n",
    "\n",
    "```Python \n",
    "class Tier:\n",
    "    def friss(self):\n",
    "        print(\"Das Tier frisst.\")\n",
    "    \n",
    "class Pflanzenfresser(Tier):\n",
    "    def __init__(self):\n",
    "        print(\"Pflanzenfresser erstellt.\")\n",
    "\n",
    "    def friss(self):\n",
    "        print(\"Das Tier frisst vegetarisch.\")\n",
    "\n",
    "class Fleischfresser(Tier):\n",
    "    def __init__(self):\n",
    "        print(\"Fleischfresser erstellt.\")\n",
    "        \n",
    "    def friss(self):\n",
    "        print(\"Das Tier frisst Fleisch.\")\n",
    "       \n",
    "class Allesfresser(Pflanzenfresser, Fleischfresser):\n",
    "    def __init__(self):\n",
    "        super().__init__()\n",
    "        print(\"Allesfresser erstellt.\")\n",
    "\n",
    "baer = Allesfresser()\n",
    "```\n",
    "\n",
    "Kopieren Sie den Code in die folgende Zelle und führen Sie ihn aus.\n",
    "\n",
    "Wie Sie sehen, werden lediglich die Ausgaben der Konstruktoren der Klassen `Allesfresser` und `Pflanzenfresser` aufgerufen.\n",
    "\n",
    "Wandeln Sie den Code (in der folgenden Zelle) so ab, dass auch der Konstruktor der Klasse `Fleischfresser` aufgerufen wird.\n",
    "Vermeiden Sie dabei unnötige Wiederholungen."
   ]
  },
  {
   "cell_type": "code",
   "execution_count": null,
   "metadata": {
    "collapsed": false,
    "nbgrader": {
     "grade": true,
     "grade_id": "a1c-sol",
     "locked": false,
     "points": 2,
     "solution": true
    }
   },
   "outputs": [],
   "source": [
    "### BEGIN SOLUTION\n",
    "\n",
    "class Tier:\n",
    "    def friss(self):\n",
    "        print(\"Das Tier frisst.\")\n",
    "    \n",
    "class Pflanzenfresser(Tier):\n",
    "    def __init__(self):\n",
    "        super().__init__()\n",
    "        print(\"Pflanzenfresser erstellt.\")\n",
    "\n",
    "    def friss(self):\n",
    "        print(\"Das Tier frisst vegetarisch.\")\n",
    "\n",
    "class Fleischfresser(Tier):\n",
    "    def __init__(self):\n",
    "        super().__init__()    # Zeile für Aufgabenerfüllung nicht erforderlich, aber guter Stil\n",
    "        print(\"Fleischfresser erstellt.\")\n",
    "        \n",
    "    def friss(self):\n",
    "        print(\"Das Tier frisst Fleisch.\")\n",
    "       \n",
    "class Allesfresser(Pflanzenfresser, Fleischfresser):\n",
    "    def __init__(self):\n",
    "        super().__init__()\n",
    "        print(\"Allesfresser erstellt.\")\n",
    "\n",
    "baer = Allesfresser()\n",
    "\n",
    "### END SOLUTION"
   ]
  },
  {
   "cell_type": "markdown",
   "metadata": {
    "nbgrader": {
     "grade": false,
     "grade_id": "a1d",
     "locked": true,
     "solution": false
    }
   },
   "source": [
    "## d)\n",
    "\n",
    "Betrachten Sie den folgenden Python-Code:\n",
    "\n",
    "```Python\n",
    "class F: pass \n",
    "class G: pass \n",
    "class H: pass\n",
    "class E(G,H): pass\n",
    "class D(E,F): pass \n",
    "class C(E,G): pass\n",
    "class B(C,H): pass\n",
    "class A(D,B,E): pass\n",
    "```\n",
    "\n",
    "Ist es möglich, dass in der Linearisierung von A die Klasse E vor C vorkommt? Begründung!"
   ]
  },
  {
   "cell_type": "markdown",
   "metadata": {
    "collapsed": true,
    "nbgrader": {
     "grade": true,
     "grade_id": "a1d-sol",
     "locked": false,
     "points": 2,
     "solution": true
    }
   },
   "source": [
    "Nein, dies würde die Monotonie verletzen, da C eine Unterklasse von E ist."
   ]
  },
  {
   "cell_type": "markdown",
   "metadata": {
    "nbgrader": {
     "grade": false,
     "grade_id": "a1e",
     "locked": true,
     "solution": false
    }
   },
   "source": [
    "## e)\n",
    "\n",
    "Betrachten Sie noch einmal das Beispiel aus Teilaufgabe d):\n",
    "\n",
    "Wäre es möglich, dass in der Linearisierung von A die Klasse F vor E vorkommt? Begründung!"
   ]
  },
  {
   "cell_type": "markdown",
   "metadata": {
    "nbgrader": {
     "grade": true,
     "grade_id": "a1e-sol",
     "locked": false,
     "points": 2,
     "solution": true
    }
   },
   "source": [
    "Dies wäre nicht möglich.\n",
    "Schließlich ist D eine Oberklasse von A und die Reihenfolge der direkten Oberklassen von D lautet: zuerst E, dann F.\n",
    "Sonst wäre die \"Local precedence ordering\"-Eigenschaft verletzt."
   ]
  },
  {
   "cell_type": "markdown",
   "metadata": {
    "nbgrader": {
     "grade": false,
     "grade_id": "a1f",
     "locked": true,
     "solution": false
    }
   },
   "source": [
    "Betrachten Sie die folgende Klassenhierarchie:\n",
    "    \n",
    "```Python\n",
    "class G: pass\n",
    "class F: pass\n",
    "class E: pass\n",
    "class D(F): pass\n",
    "class C(G,D,E): pass\n",
    "class B(E,F): pass\n",
    "class A(B,C): pass\n",
    "```\n",
    "\n",
    "Ist diese Klassenhierarchie linearisierbar? \n",
    "Wenn ja, geben Sie eine Linearisierung an.\n",
    "Wenn nein, warum nicht?"
   ]
  },
  {
   "cell_type": "markdown",
   "metadata": {
    "nbgrader": {
     "grade": true,
     "grade_id": "a1f-sol",
     "locked": false,
     "points": 2,
     "solution": true
    }
   },
   "source": [
    "Die Klassenhierarchie ist nicht linearisierbar. Die Oberklasse B von A verlangt aufgrund der Reihenfolge der Oberklassen, dass E vor F kommt. Allerdings verlangt die Oberklasse C von A, dass D und damit dessen Oberklasse, F, vor E kommt.\n",
    "\n",
    "Genauer:\n",
    "* Lin(B) = EF\n",
    "* Lin(D) = DF\n",
    "* Lin(C) = C + merge (G, DF, E) = C + G + merge(DF, E) = C + G + D + merge(F, E) = C + G + D + F + E\n",
    "* Lin(A) = A + merge(EF, CGDFE) = ... = A + C + G + D + merge(EF, FE) --> kein good head mehr vorhanden"
   ]
  },
  {
   "cell_type": "markdown",
   "metadata": {
    "nbgrader": {
     "grade": false,
     "grade_id": "a2",
     "locked": true,
     "solution": false
    }
   },
   "source": [
    "# Aufgabe 2:"
   ]
  },
  {
   "cell_type": "markdown",
   "metadata": {
    "nbgrader": {
     "grade": false,
     "grade_id": "a2a",
     "locked": true,
     "solution": false
    }
   },
   "source": [
    "## a)\n",
    "\n",
    "Im Ordner, in dem auch dieses Übungsblatt liegt, finden Sie eine Datei namens `simple_example.csv`.\n",
    "Es handelt sich dabei um eine sogenannte Comma-separated values (CSV) - Datei.\n",
    "CSV-Dateien lassen sich beispielsweise nutzen, um einfache Tabellen in einer menschenlesbaren Form abzuspeichern.\n",
    "Mehr Informationen hierzu können Sie beispielsweise [hier auf Wikipedia](https://en.wikipedia.org/wiki/Comma-separated_values) nachlesen.\n",
    "Die Datei `simple_example.csv` stellt eine Tabelle mit zwei Spalten dar: Zeit (in min seit Start eines Experiments) und Temperatur.\n",
    "Die erste Zeile enthält jeweils den Titel jeder Spalte.\n",
    "Das verwendete Trennzeichen ist das Komma.\n",
    "\n",
    "Dateien dieser Art sollen nun in Python eingelesen werden.\n",
    "Definieren Sie dazu eine Klasse namens `Table` mit folgenden Attributen und Methoden:\n",
    "* Attribut titles: eine Liste, welche alle Spaltenüberschriften enthält\n",
    "* Attribut cols: eine Liste von Listen, welche die (Fließkomma-)Einträge der Spalten enthält (col[0] steht für die erste Spalte, usw.)\n",
    "* Methode `__str__(self)`, um die Attribute sinnvoll auf der Konsole ausgeben zu können\n",
    "* Methode `__eq__(self, other)`, die nur dann `True` zurückgibt, wenn die Attributwerte beider als Parameter übergebener Objekte gleich sind, sonst `False`\n",
    "* Methode `parse_csv(self, filename)`, welche den Dateinamen einer CSV-Datei (wie z. B. `simple_example.csv`) als Parameter übergeben bekommt, diese einliest und die eingelesenen Daten (Spaltenüberschriften und Zelleneinträge) im Objekt selbst speichert\n",
    "* einen Konstruktor, dem man entweder die beiden Attribute direkt übergeben kann oder den Dateinamen einer CSV-Datei (über den Parameter `filename`), welche eingelesen werden soll.\n",
    "\n",
    "Wird beispielsweise der Konstruktor durch `Table(filename = \"simple_example.csv\")` aufgerufen, wobei `simple_example.csv` so aussieht:\n",
    "```\n",
    "Zeit,Temperatur\n",
    "0.0,15.2\n",
    "3.0,16.1\n",
    "6.0,14.8\n",
    "9.0,20.2\n",
    "```\n",
    "\n",
    "dann soll ein Objekt vom Typ `Table` mit folgenden Attributwerten erstellt werden:\n",
    "* `titles: ['Zeit', 'Temperatur']`\n",
    "* `cols: [[0.0, 3.0, 6.0, 9.0], [15.2, 16.1, 14.8, 20.2]]`\n",
    "\n",
    "Verwenden Sie für die Implementierung der Funktion `parse_csv` *unbedingt* [das CSV-Modul von Python](https://docs.python.org/3/library/csv.html)!\n",
    "\n",
    "Sie dürfen davon ausgehen, dass die Datei mit dem als Parameter übergebenen Dateinamen tatsächlich existiert."
   ]
  },
  {
   "cell_type": "code",
   "execution_count": null,
   "metadata": {
    "collapsed": false,
    "nbgrader": {
     "grade": false,
     "grade_id": "a2a-sol",
     "locked": false,
     "solution": true
    }
   },
   "outputs": [],
   "source": [
    "import csv\n",
    "\n",
    "### BEGIN SOLUTION\n",
    "class Table:\n",
    "    \"\"\"Klasse zur Repräsentation von Tabellen beliebigen Spalten und zugehörigen Spaltentiteln.\n",
    "    \n",
    "    Attributes:\n",
    "        titles (list): Liste der Spaltentitel.\n",
    "        cols (list): Liste von Listen mit den Einträgen der Spalten.\n",
    "    \"\"\"\n",
    "    def __init__(self, titles = [], cols = [], filename = ''):\n",
    "        \"\"\"Konstruktor, der alle Attribute initialisiert (mit den als Parameter übergebenen Werten).\"\"\"\n",
    "        self.titles = titles\n",
    "        self.cols = cols\n",
    "        if filename != '':\n",
    "            self.parse_csv(filename)\n",
    "        \n",
    "    def __str__(self):\n",
    "        return \"titles: {}\\ncols: {}\".format( \n",
    "                self.titles, self.cols)\n",
    "\n",
    "    def __eq__(self, other):\n",
    "        return self.titles == other.titles and self.cols == other.cols\n",
    "\n",
    "    def parse_csv(self, filename):\n",
    "        \"\"\"Liest eine CSV-Datei mit Spaltentiteln ein und füllt die Werte des aktuellen Objekts \n",
    "        mit den eingelesenen Werten.\n",
    "\n",
    "        Args:\n",
    "            filename: Dateiname der einzulesenden CSV-Datei (str)\n",
    "        \"\"\"\n",
    "        with open(filename, newline='') as csvfile:\n",
    "            reader = csv.reader(csvfile, delimiter=',', quotechar='|')\n",
    "            self.titles = next(reader)    \n",
    "            self.cols = [ [] for i in self.titles ]\n",
    "            for row in reader:                \n",
    "                for i, value in enumerate(row):\n",
    "                    self.cols[i].append(float(value))\n",
    "    ### END SOLUTION"
   ]
  },
  {
   "cell_type": "code",
   "execution_count": null,
   "metadata": {
    "collapsed": false,
    "nbgrader": {
     "grade": true,
     "grade_id": "a2a0-test",
     "locked": true,
     "points": 3,
     "solution": false
    }
   },
   "outputs": [],
   "source": [
    "### HIDESTART\n",
    "def table_to_float(table):\n",
    "    return Table(table.titles, [ [float(row) for row in col] for col in table.cols ] )\n",
    "    \n",
    "def write_table(filename, table):\n",
    "    with open(filename, 'w', newline='') as csvfile:\n",
    "        writer = csv.writer(csvfile, delimiter=',')\n",
    "        writer.writerow(table.titles)\n",
    "        for x in zip(*table.cols):\n",
    "            writer.writerow(x)  \n",
    "### HIDEEND            \n",
    "\n",
    "# erster, einfacher Test:\n",
    "my_table1 = Table([\"title1\", \"title2\"], [[\"l1\"], [\"l2\"]])\n",
    "\n",
    "print(my_table1)\n",
    "\n",
    "assert my_table1.titles[0] == \"title1\"\n",
    "assert my_table1.titles[1] == \"title2\"\n",
    "assert my_table1.cols[0] == [\"l1\"]\n",
    "assert my_table1.cols[1] == [\"l2\"]\n",
    "\n",
    "my_table2 = Table([\"title1\", \"title2\"], [[\"l1\"], [\"l2\"]])\n",
    "assert my_table2 == my_table1\n",
    "\n",
    "# zweiter Test, mit lesen:\n",
    "titles = [\"Zeit\", \"Temperatur\"]\n",
    "filename1 = \"simple_example.csv\"\n",
    "my_table3 = Table(titles, [[0.0, 3.0, 6.0, 9.0], [15.2, 16.1, 14.8, 20.2]])\n",
    "my_table3_parsed = Table(filename = \"simple_example.csv\")\n",
    "### HIDESTART\n",
    "print(my_table3_parsed)\n",
    "assert table_to_float(my_table3_parsed) == my_table3 # Teilpunkte, falls immerhin dies funktioniert\n",
    "### HIDEEND\n",
    "assert my_table3_parsed == my_table3 # Teilpunkte, falls immerhin dies funktioniert\n",
    "\n",
    "# dritter Test       \n",
    "my_table4 = Table([\"Zeit\", \"Temperatur\"], [[0.0, 3.0, 6.0, 9.0, 12.0, 15.0, 18.0, 21.0, 24.0, 27.0, 30.0, 33.0, 36.0, 39.0, 42.0, 45.0, 48.0, 51.0, 54.0, 57.0, 60.0, 63.0, 66.0, 69.0, 72.0, 75.0, 78.0, 81.0, 84.0, 87.0, 90.0, 93.0, 96.0, 99.0, 102.0, 105.0, 108.0, 111.0], [35.90574523051787, 27.732801078808876, 42.035892511616005, 58.000772870249925, 96.94160853867335, 68.18506402498244, 14.671104120321022, 89.46105104216167, 47.27588706818212, 39.20070242229503, 26.714222293869348, 94.23349196918205, 51.77845568366778, 51.20161232801617, 93.30105788349742, 1.716984636989427, 8.755447352930679, 35.609379762311974, 24.876780742139005, 83.22149466739975, 65.20304271184895, 12.436205877934714, 90.37672735944263, 42.01655399602063, 83.90332779517878, 22.413857456299844, 51.83371482019683, 23.375603100801754, 52.15712567238341, 0.23171943708498732, 35.620773790224824, 1.8610917723884013, 50.37944193914525, 14.31962104350778, 60.72421338243065, 15.53821017629663, 91.90231143517047, 16.374637453126528]])\n",
    "### HIDESTART\n",
    "write_table(\"results1.csv\", my_table4)\n",
    "### HIDEEND\n",
    "my_table4_parsed = Table(filename = \"results1.csv\")\n",
    "### HIDESTART\n",
    "print(my_table4_parsed)\n",
    "assert table_to_float(my_table4_parsed) == my_table4 # Teilpunkte, falls immerhin dies funktioniert\n",
    "### HIDEEND\n",
    "assert my_table4_parsed == my_table4 # Teilpunkte, falls immerhin dies funktioniert"
   ]
  },
  {
   "cell_type": "markdown",
   "metadata": {
    "nbgrader": {
     "grade": false,
     "grade_id": "a2b",
     "locked": true,
     "solution": false
    }
   },
   "source": [
    "## b)\n",
    "\n",
    "Schreiben Sie eine Funktion namens ```simple_plot```, die zwei gleich lange Listen als Parameter erhält und, unter Verwendung der Bibliothek `matplotlib`, ein einfaches Diagramm (engl. plot) erzeugt, welches die Elemente der zweiten Liste auf der y-Achse über den Elementen der ersten Liste (x-Achse) aufträgt.\n",
    "Beispielsweise könnte ein Plot der in Teilaufgabe a) von der Funktion `parse_csv` zurückgegebenen Liste folgendermaßen aussehen:\n",
    "![Beispiel-Plot](./plot_example.png)\n",
    "\n",
    "Die weiteren Parameter der Funktion sind dabei durch den bereits gegebenen docstring vorgegeben und sollen berücksichtigt werden.\n",
    "\n",
    "Verwenden Sie zur Implementierung die Methode [pyplot.plot aus der Bibliothek matplotlib](http://matplotlib.org/api/pyplot_api.html#matplotlib.pyplot.plot)."
   ]
  },
  {
   "cell_type": "code",
   "execution_count": null,
   "metadata": {
    "collapsed": false,
    "nbgrader": {
     "grade": false,
     "grade_id": "a2b-sol",
     "locked": false,
     "points": 1,
     "solution": true
    }
   },
   "outputs": [],
   "source": [
    "import matplotlib.pyplot\n",
    "\n",
    "def simple_plot(xvalues, yvalues, title, xlabel, ylabel):\n",
    "    \"\"\"Erstellt ein Diagramm auf Basis von Werten für die x- und die y-Achse und gibt dieses aus. \n",
    "       Dabei wird der erste Eintrag der zweiten Liste dem ersten Eintrag der ersten Liste zugeordnet, usw.\n",
    "  \n",
    "    Args:\n",
    "        xvalues: Liste mit Werten, die auf der x-Achse auftragen werden. (list)\n",
    "        yvalues: Liste mit Werten, die auf der y-Achse aufgetragen werden. (list)\n",
    "        title:  Der Titel, der über dem Plot stehen soll (str)\n",
    "        xlabel: Die Achsenbeschriftung für die x-Achse (str)\n",
    "        ylabel: Die Achsenbeschriftung für die y-Achse (str)\n",
    "    \"\"\"\n",
    "    ### BEGIN SOLUTION    \n",
    "    matplotlib.pyplot.plot(xvalues, yvalues)\n",
    "\n",
    "    matplotlib.pyplot.title(title)\n",
    "    matplotlib.pyplot.xlabel(xlabel)\n",
    "    matplotlib.pyplot.ylabel(ylabel)\n",
    "    matplotlib.pyplot.grid(True)\n",
    "    matplotlib.pyplot.show()\n",
    "    ### END SOLUTION"
   ]
  },
  {
   "cell_type": "code",
   "execution_count": null,
   "metadata": {
    "collapsed": false,
    "nbgrader": {
     "grade": true,
     "grade_id": "a2b-test",
     "locked": true,
     "points": 2,
     "solution": false
    }
   },
   "outputs": [],
   "source": [
    "my_values = ([0.0, 3.0, 6.0, 9.0], [15.2, 16.1, 14.8, 20.2])\n",
    "\n",
    "simple_plot(my_values[0], my_values[1], \"Simulationsergebnisse\", \"Zeit (s)\", \"Temperatur (°C)\")\n",
    "\n",
    "### HIDESTART\n",
    "#assert false # hier muss manuell geprueft werden\n",
    "### HIDEEND"
   ]
  },
  {
   "cell_type": "markdown",
   "metadata": {
    "nbgrader": {
     "grade": false,
     "grade_id": "a2c",
     "locked": true,
     "solution": false
    }
   },
   "source": [
    "## c)\n",
    "Die in der übernächsten Codezelle vorgegebene Funktion ```parse_and_plot()``` dient dazu, den Inhalt einer zweispaltigen CSV-Datei einzulesen und als Diagramm auszugeben.\n",
    "Die einzulesende Datei wird beim Aufruf des Skriptes, in der diese Funktion steht (z. B: `script.py`, als Argument übergeben (z. B. `python3 script.py simple_example.csv`).\n",
    "Anschließend wird diese CSV-Datei in ein `Table`-Objekt (Teilaufgabe a)) eingelesen und aus dieser anschließend mittels der Funktion `simple_plot` (Teilaufgabe b)) ein Diagramm erzeugt.\n",
    "\n",
    "Für das Verarbeiten der Kommandozeilenargumente soll die Funktion ```parse()``` dienen, welche von Ihnen zu schreiben ist. Die Kommandozeilenparameter sind, wie üblich, in `sys.argv` gespeichert.\n",
    "\n",
    "Die Kommandozeilenparameter, die übergeben werden können, sind folgende:\n",
    "* Der Dateiname der einzulesenden CSV-Datei als (nicht optionales) Positionsargument (an erster Stelle) (string)\n",
    "* Der Titel des Diagramms als optionales Argument mit dem Namen \"title\" (string)\n",
    "* Die Achsenbeschriftung auf der x-Achse als optionales Argument mit dem Namen \"xlabel\" (string)\n",
    "* Die Achsenbeschriftung auf der y-Achse als optionales Argument mit dem Namen \"ylabel\" (string)\n",
    "\n",
    "Beispielsweise soll bei Aufruf des Skripts mit den Argumenten \"simple_example.csv --title=Simulationsergebnisse --xlabel=Zeit (s) --ylabel=Temperatur (°C) das Diagramm aus dem Beispiel von Aufgabe b) erzeugt werden.\n",
    "\n",
    "Die Funktion `parse()` soll ein Objekt mit den Attributen `filename`, `title`, `xlabel` und `ylabel` zurückgeben, deren Werte den obigen Kommandozeilenparametern entsprechen. Ist einer der optionalen Parameter nicht angegeben, so soll jeweils der leere String in dem jeweiligen Attributwert gespeichert werden.\n",
    "\n",
    "Verarbeiten Sie *unbedingt* die Liste der Kommandozeilenparameter mit Hilfe des Moduls [argparse](https://docs.python.org/3/library/argparse.html) und verwenden Sie die Funktionen `parse_csv` und `simple_plot` aus den Teilaufgaben a) und b)."
   ]
  },
  {
   "cell_type": "code",
   "execution_count": null,
   "metadata": {
    "collapsed": false,
    "nbgrader": {
     "grade": false,
     "grade_id": "a2c-sol",
     "locked": false,
     "points": 1,
     "solution": true
    }
   },
   "outputs": [],
   "source": [
    "import sys\n",
    "import argparse\n",
    "\n",
    "def parse():\n",
    "    ### BEGIN SOLUTION\n",
    "    \"\"\"Verarbeitet die Kommandozeilenparameter filename, title (optional), xlabel (optional) und ylabel (optional)\n",
    "    \n",
    "    Returns:\n",
    "        Ein Objekt mit den Attributen filename, title, xlabel und ylabel, welche die beim Skriptaufruf\n",
    "        übergebenen Argumente speichern. \n",
    "        title, xlabel und ylabel sind der leere String, falls diese optionalen Parameter nicht übergeben wurden.\n",
    "    \"\"\"\n",
    "    parser = argparse.ArgumentParser(description='Process some integers.')\n",
    "    parser.add_argument('filename', metavar='filename',\n",
    "                    help='Der Dateiname, der anzugeben ist.')\n",
    "    parser.add_argument('--title', dest='title', default=\"\", type=str, \n",
    "                    help='Der Titel, der über dem Diagramm erscheinen soll.')\n",
    "    parser.add_argument('--xlabel', dest='xlabel', default=\"\",\n",
    "                    help='x-Achsenbeschriftung (überschreibt Überschrift der ersten Spalte)')\n",
    "    parser.add_argument('--ylabel', dest='ylabel', default=\"\",\n",
    "                    help='y-Achsenbeschriftung (überschreibt Überschrift der zweiten Spalte)')\n",
    "\n",
    "    args = parser.parse_args()\n",
    "\n",
    "    return args\n",
    "    ### END SOLUTION"
   ]
  },
  {
   "cell_type": "code",
   "execution_count": null,
   "metadata": {
    "collapsed": true,
    "nbgrader": {
     "grade": false,
     "grade_id": "a2cv",
     "locked": true,
     "solution": false
    }
   },
   "outputs": [],
   "source": [
    "# in dieser Codezelle sollen Sie nichts ändern\n",
    "\n",
    "def parse_and_plot():\n",
    "    \"\"\"Liest eine CSV-Datei gemäß Kommandozeilenparameter ein und erstellt aus den Werten der \n",
    "    ersten beiden Spalten ein Diagramm.\n",
    "    Wird kein Titel angegeben, wird standardmäßig der leere String als Titel verwendet werden.\n",
    "    Wird für die x- und/oder die y-Achse keine Achsenbeschriftung angegeben, \n",
    "    so wird der Titel der ersten (bzw. zweiten) Spalte für die Beschriftung der x- (bzw. y-) Achse verwendet.    \n",
    "    \"\"\"\n",
    "    args = parse()\n",
    "    table = Table(filename = args.filename)\n",
    "\n",
    "    # kleiner Trick: Der leere String evaluiert zu False ...  \n",
    "    simple_plot(table.cols[0], table.cols[1],\n",
    "                    args.title,\n",
    "                    args.xlabel or table.titles[0],\n",
    "                    args.ylabel or table.titles[1],                    \n",
    "                    )"
   ]
  },
  {
   "cell_type": "code",
   "execution_count": null,
   "metadata": {
    "collapsed": false,
    "nbgrader": {
     "grade": false,
     "grade_id": "a2c-test-user",
     "locked": true,
     "points": 2,
     "solution": false
    }
   },
   "outputs": [],
   "source": [
    "# Diese Zelle ist nur für die Kontrolle Ihrerseits gedacht.\n",
    "\n",
    "from unittest.mock import patch\n",
    "\n",
    "# die folgenden Zeilen simulieren, dass aller Python-Code in diesem Notebook in einer Datei\n",
    "# namens script.py liegt und dieses Skript mit dem Aufruf \n",
    "# > python3 script.py simpleexamle.csv --title=Simulationsergebnisse, --xlabel=Zeit (s) --ylabel=Temperatur (°C) \n",
    "# ausgeführt wird.\n",
    "vargs = [\"script.py\", \"simple_example.csv\", '--title=Simulationsergebnisse', '--xlabel=Zeit (s)', '--ylabel=Temperatur (°C)']\n",
    "with patch.object(sys, 'argv', vargs):\n",
    "    parse_and_plot()\n",
    "    \n",
    "# die folgenden Zeilen simulieren, dass aller Python-Code in diesem Notebook in einer Datei\n",
    "# namens script.py liegt und dieses Skript mit dem Aufruf \n",
    "# > python3 script.py results1.csv\n",
    "# ausgeführt wird.    \n",
    "vargs = [\"script.py\", \"results1.csv\"]\n",
    "with patch.object(sys, 'argv', vargs):\n",
    "    parse_and_plot()"
   ]
  },
  {
   "cell_type": "code",
   "execution_count": null,
   "metadata": {
    "collapsed": false,
    "nbgrader": {
     "grade": true,
     "grade_id": "a2c-test",
     "locked": true,
     "points": 2,
     "solution": false
    }
   },
   "outputs": [],
   "source": [
    "vargs = [\"script.py\", \"simple_example.csv\", '--title=Simulationsergebnisse', '--xlabel=Zeit (s)', '--ylabel=Temperatur (°C)']\n",
    "with patch.object(sys, 'argv', vargs):\n",
    "    args = parse()\n",
    "    assert args.filename == \"simple_example.csv\"\n",
    "    assert args.title == \"Simulationsergebnisse\"\n",
    "    assert args.xlabel == \"Zeit (s)\"\n",
    "    assert args.ylabel == \"Temperatur (°C)\"\n",
    "    \n",
    "vargs = [\"script.py\", \"results1.csv\"]\n",
    "with patch.object(sys, 'argv', vargs):\n",
    "    args = parse()\n",
    "    assert args.filename == \"results1.csv\"\n",
    "    assert args.title == \"\"\n",
    "    assert args.xlabel == \"\"\n",
    "    assert args.ylabel == \"\""
   ]
  },
  {
   "cell_type": "markdown",
   "metadata": {
    "nbgrader": {
     "grade": false,
     "grade_id": "a2d",
     "locked": true,
     "solution": false
    }
   },
   "source": [
    "## d)\n",
    "Angenommen, der gesamte obige Code wäre nicht in einem Jupyter-Notebook, sondern in einem Python-Skript geschrieben.\n",
    "Was müssten Sie schreiben, damit bei Ausführung des Skriptes (allerdings nicht bei der Einbindung als Modul!) automatisch die Methode `parse_and_plot()` aufgerufen wird?"
   ]
  },
  {
   "cell_type": "code",
   "execution_count": null,
   "metadata": {
    "collapsed": false,
    "nbgrader": {
     "grade": true,
     "grade_id": "a2d-sol",
     "locked": false,
     "points": 1,
     "solution": true
    }
   },
   "outputs": [],
   "source": [
    "#if __name__ == \"__main__\":\n",
    "#    parse_and_plot()\n",
    "# TODO: auskommentieren, wenn das Review des Blattes fertig ist"
   ]
  },
  {
   "cell_type": "code",
   "execution_count": null,
   "metadata": {
    "collapsed": false,
    "nbgrader": {
     "grade": true,
     "grade_id": "docstring_test",
     "locked": true,
     "points": 1,
     "solution": false
    }
   },
   "outputs": [],
   "source": [
    "# Diese Zelle bitte unverändert lassen!\n",
    "# Prüft, ob alle Dokumentationen vorhanden sind.\n",
    "\n",
    "vargs = [\"script.py\", \"results1.csv\"]\n",
    "with patch.object(sys, 'argv', vargs):\n",
    "    l = []\n",
    "\n",
    "    # Aufgabe 2a)\n",
    "    l.append((\"Table\", False))\n",
    "    l.append((\"Table\", True, \"[], []\"))\n",
    "    l.append((\"Table([], []).parse_csv\", True, '\"simple_example.csv\"'))\n",
    "    # Aufgabe 2b)\n",
    "    l.append((\"simple_plot\", True, '[], [], \"\", \"\", \"\"'))\n",
    "    # Aufgabe 2c)\n",
    "    l.append((\"parse\", True, \"\"))\n",
    "\n",
    "    for f in l:\n",
    "        try:\n",
    "            func = eval(f[0])\n",
    "            if f[1]:\n",
    "                eval(f[0] + \"(\" + f[2] + \")\")\n",
    "            # Schlägt der folgende Test fehl, wurde die Funktion zwar implementiert, hat aber keinen docstring.\n",
    "            assert(func.__doc__ != None)\n",
    "        except NotImplementedError:\n",
    "            print(\"Folgende Funktion wurde nicht implementiert (daher wird nicht geprüft, ob sie einen docstring hat):\", \"-->\", f[0])\n",
    "        except AssertionError:\n",
    "            print(\"Bei folgender Funktion fehlt der docstring: \", func.__doc__ != None, \"-->\", f[0])    \n",
    "            assert(False)"
   ]
  }
 ],
 "metadata": {
  "anaconda-cloud": {},
  "celltoolbar": "Create Assignment",
  "kernelspec": {
   "display_name": "Python [default]",
   "language": "python",
   "name": "python3"
  },
  "language_info": {
   "codemirror_mode": {
    "name": "ipython",
    "version": 3
   },
   "file_extension": ".py",
   "mimetype": "text/x-python",
   "name": "python",
   "nbconvert_exporter": "python",
   "pygments_lexer": "ipython3",
   "version": "3.5.2"
  }
 },
 "nbformat": 4,
 "nbformat_minor": 1
}
