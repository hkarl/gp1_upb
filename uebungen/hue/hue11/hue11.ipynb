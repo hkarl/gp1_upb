{
 "cells": [
  {
   "cell_type": "markdown",
   "metadata": {
    "nbgrader": {
     "grade": true,
     "grade_id": "matrikel",
     "locked": false,
     "points": 0,
     "solution": true
    },
    "slideshow": {
     "slide_type": "skip"
    }
   },
   "source": [
    "Bitte hier eintragen (s.u)!"
   ]
  },
  {
   "cell_type": "markdown",
   "metadata": {
    "nbgrader": {
     "grade": false,
     "grade_id": "matrikel_info",
     "locked": true,
     "solution": false
    },
    "slideshow": {
     "slide_type": "skip"
    }
   },
   "source": [
    "# Abgabehinweise \n",
    "\n",
    "Beachten Sie unbedingt diese Hinweise, sonst erhalten Sie keine Punkte aus dieser Abgabe! Für Details siehe z.B. [Folien der nullten Zentralübung](http://groups.uni-paderborn.de/fg-karl/lehre/ws1617/gp1/hue/gp1-zue0.pdf)\n",
    "\n",
    "## Namen und Matrikelnummern \n",
    "\n",
    "Tragen Sie Ihre Matrikelnummern und E-Mail-Adressen *zeilenweise* in die Zelle **oberhalb** dieser Zelle ein.\n",
    "Achten Sie dabei streng auf die Formatierung, denn die Auswertung erfolgt automatisch. \n",
    "Benutzen Sie *keine* Leerzeilen.\n",
    "Zwischen Matrikelnummer und E-Mail-Adresse *muss genau ein* Leerzeichen stehen; sonst keine Leerzeichen, Tabs, Spiegelstriche, oder ähnliches in einer Zeile. Wir empfehlen *dringend* die Benutzung der Uni-Paderborn E-Mail-Adressen! \n",
    "\n",
    "<!--- Wenn Sie diese Ansicht verwenden (was Sie nicht tun sollten; klicken Sie am besten einmal auf \"Run cell\"), dann steht die Formatierung hier richtig:\n",
    "\n",
    "Format:\n",
    "\n",
    "MatrikelNummer E-Mail-Adresse\n",
    "MatrikelNummer2 E-Mail-Adresse2\n",
    "\n",
    "z.B.:\n",
    "\n",
    "123456 testStudent@mail.upb.de\n",
    "234567 testStudent2@mail.upb.de\n",
    "345678 vorname.nachname@mail.upb.de\n",
    "\n",
    "... und nicht hier: -->\n",
    "\n",
    "Format:\n",
    "\n",
    "MatrikelNummer E-Mail-Adresse\n",
    "<br \\>\n",
    "MatrikelNummer2 E-Mail-Adresse2\n",
    "\n",
    "z.B.:\n",
    "\n",
    "123456 testStudent@mail.upb.de\n",
    "<br \\>\n",
    "234567 testStudent2@mail.upb.de\n",
    "<br \\>\n",
    "345678 vorname.nachname@mail.upb.de\n",
    "\n",
    "Hinweis: Wenn Sie das so in die obere Zelle eingeben, wird in der ausgeführten Markdownzelle (Strg+Enter) alles in einer Zeile angezeigt. Das ist egal; wichtig ist Formatierung der Eingabe.\n",
    "\n",
    "\n",
    "## Abgabe mit Gruppenaccount \n",
    "\n",
    "Die Abgabe muss mit Ihrem *Gruppenaccount* erfolgen (gp1\\_16\\_...), den Sie in der Präsenzübung erhalten haben! Abgaben, die über Ihren Einzelaccount erfolgen, werden ignoriert. \n",
    "\n",
    "## Abgabe: Submit \n",
    "\n",
    "Es reicht nicht, nur das Übungsblatt zu verändern. Sie müssen unter *Assignments* auf *Submit* clicken (oder entsprechend über die Kommandozeile), für das entsprechende Übungsblatt! (Wenn Sie Blatt 10 abgeben wolllen hilft es nicht, bei Blatt 1 auf Submit zu drücken!) Für Details siehe Beschreibung Abgabeprozess. \n",
    "\n",
    "## Dateinamen\n",
    "\n",
    "Geben Sie Ihre Lösung in der vom Server erhaltenen Datei hue11.ipynb ab (nicht umbenennen, keine Kopie erstellen, keine anderen Dateien in das Verzeichnis legen). Sonst kann eine Bewertung nicht stattfinden.\n",
    "\n",
    "## Struktur des Notebooks \n",
    "\n",
    "Fügen Sie keine Zellen hinzu und löschen Sie keine Zellen.\n",
    "Ändern Sie nicht den Typ einer Zelle.\n",
    "Geben Sie Lösungen nur in den Lösungszellen ab. Änderungen in den anderen Zellen werden nach Abgabe automatisch rückgängig gemacht.\n",
    "\n",
    "## Code-Zellen \n",
    "\n",
    "Entfernen Sie die Zeilen mit Inhalt \"raise NotImplementedError()\" aus den Zellen, in die Sie Ihre Lösungen schreiben. *Ersetzen* Sie diese Zeilen durch Ihre eigene Lösungen. \n",
    "\n",
    "## Nie ```input```\n",
    "\n",
    "Benutzen Sie *niemals* die Funktion `input()`. Das verhindert die automatische Auswertung Ihrer Abgabe und führt zu 0 Punkten für das gesamte Blatt! \n",
    "\n",
    "## Kommentare \n",
    "\n",
    "Kommentieren Sie Code-Abgaben! Insbesondere *muss* jede Funktion (Klasse, Methode, ...) einen sinnvollen ```docstring``` haben! Bei fehlendem docstring werden automatisch Punkte abgezogen! \n",
    "\n",
    "\n",
    "# Abgabetermin: 29.01.2017 um 23:59 Uhr"
   ]
  },
  {
   "cell_type": "markdown",
   "metadata": {
    "nbgrader": {
     "grade": false,
     "grade_id": "a1",
     "locked": true,
     "solution": false
    }
   },
   "source": [
    "# Aufgabe 1:"
   ]
  },
  {
   "cell_type": "markdown",
   "metadata": {
    "nbgrader": {
     "grade": false,
     "grade_id": "a1a",
     "locked": true,
     "solution": false
    }
   },
   "source": [
    "## a)\n",
    "Betrachten Sie den folgenden Python-Code:\n",
    "\n",
    "```Python \n",
    "class Tier:\n",
    "    def friss(self):\n",
    "        print(\"Das Tier frisst.\")\n",
    "    \n",
    "class Pflanzenfresser(Tier):\n",
    "    def friss(self):\n",
    "        print(\"Das Tier frisst vegetarisch.\")\n",
    "\n",
    "class Fleischfresser(Tier):\n",
    "    def friss(self):\n",
    "        print(\"Das Tier frisst Fleisch.\")\n",
    "       \n",
    "class Allesfresser(Pflanzenfresser, Fleischfresser):\n",
    "    pass\n",
    "\n",
    "baer = Allesfresser()\n",
    "baer.friss()\n",
    "```\n",
    "\n",
    "Welche Ausgabe wird erzeugt und warum?"
   ]
  },
  {
   "cell_type": "markdown",
   "metadata": {
    "nbgrader": {
     "grade": true,
     "grade_id": "a1-sol",
     "locked": false,
     "points": 2,
     "solution": true
    }
   },
   "source": [
    "Es wird \"Das Tier isst vegetarisch\" ausgegeben, da die Methode `iss()` von `Pflanzenfresser` aufgerufen wird, da diese Oberklasse als erstes in der Liste der Oberklassen aufgeführt ist."
   ]
  },
  {
   "cell_type": "markdown",
   "metadata": {
    "nbgrader": {
     "grade": false,
     "grade_id": "a1b",
     "locked": true,
     "solution": false
    }
   },
   "source": [
    "## b)\n",
    "Betrachten Sie das folgende, komplexere, Beispiel:\n",
    "\n",
    "```Python\n",
    "class Tier:\n",
    "    def friss(self):\n",
    "        print(\"Das Tier frisst.\")\n",
    "\n",
    "class Pflanzenfresser(Tier):\n",
    "    def friss(self):\n",
    "        print(\"Das Tier frisst vegetarisch.\")\n",
    "        \n",
    "class Fleischfresser(Tier):\n",
    "    def extra_portion(self):\n",
    "        print(\"Der Fleischfresser frisst noch eine Portion.\")\n",
    "        \n",
    "class Allesfresser(Pflanzenfresser, Fleischfresser):\n",
    "    def friss(self):\n",
    "        print(\"Der Allesfresser frisst.\")\n",
    "        self.extra_portion()\n",
    "\n",
    "class Raubtier(Fleischfresser):\n",
    "    def extra_portion(self):\n",
    "        print(\"Das Raubtier frisst noch eine Portion.\")        \n",
    "\n",
    "class Baer(Allesfresser, Raubtier): pass\n",
    "\n",
    "baer = Baer()\n",
    "baer.friss()\n",
    "```\n",
    "\n",
    "Welche Ausgabe erzeugt dieser Code? Erklären Sie!"
   ]
  },
  {
   "cell_type": "markdown",
   "metadata": {
    "nbgrader": {
     "grade": true,
     "grade_id": "a1b-sol",
     "locked": false,
     "points": 1,
     "solution": true
    }
   },
   "source": [
    "Es wird die Ausgabe \n",
    "\n",
    "```Der Allesfresser frisst.\n",
    "Das Raubtier frisst noch eine Portion.\n",
    "```\n",
    "\n",
    "erzeugt.\n",
    "\n",
    "Dies liegt an der Method Resolution Order, welche die Klasse Raubtier vor Fleischfresser enthält (aufgrund des C3-Algorithmus).\n",
    "Würde die Klasse Fleischfresser vor Raubtier in der MRO vorkommen, wäre die Monotonie verletzt."
   ]
  },
  {
   "cell_type": "markdown",
   "metadata": {
    "nbgrader": {
     "grade": false,
     "grade_id": "a1c",
     "locked": true,
     "solution": false
    }
   },
   "source": [
    "## c)\n",
    "Betrachten Sie nun die folgende Abwandlung des Beispiels aus Aufgabe a):\n",
    "\n",
    "```Python \n",
    "class Tier:\n",
    "    def friss(self):\n",
    "        print(\"Das Tier frisst.\")\n",
    "    \n",
    "class Pflanzenfresser(Tier):\n",
    "    def __init__(self):\n",
    "        print(\"Pflanzenfresser erstellt.\")\n",
    "\n",
    "    def friss(self):\n",
    "        print(\"Das Tier frisst vegetarisch.\")\n",
    "\n",
    "class Fleischfresser(Tier):\n",
    "    def __init__(self):\n",
    "        print(\"Fleischfresser erstellt.\")\n",
    "        \n",
    "    def friss(self):\n",
    "        print(\"Das Tier frisst Fleisch.\")\n",
    "       \n",
    "class Allesfresser(Pflanzenfresser, Fleischfresser):\n",
    "    def __init__(self):\n",
    "        super().__init__()\n",
    "        print(\"Allesfresser erstellt.\")\n",
    "\n",
    "baer = Allesfresser()\n",
    "```\n",
    "\n",
    "Kopieren Sie den Code in die folgende Zelle und führen Sie ihn aus.\n",
    "\n",
    "Wie Sie sehen, werden lediglich die Ausgaben der Konstruktoren der Klassen `Allesfresser` und `Pflanzenfresser` aufgerufen.\n",
    "\n",
    "Wandeln Sie den Code (in der folgenden Zelle) so ab, dass auch der Konstruktor der Klasse `Fleischfresser` aufgerufen wird.\n",
    "Vermeiden Sie dabei unnötige Wiederholungen."
   ]
  },
  {
   "cell_type": "code",
   "execution_count": 1,
   "metadata": {
    "collapsed": false,
    "nbgrader": {
     "grade": true,
     "grade_id": "a1c-sol",
     "locked": false,
     "points": 2,
     "solution": true
    }
   },
   "outputs": [
    {
     "name": "stdout",
     "output_type": "stream",
     "text": [
      "Fleischfresser erstellt.\n",
      "Pflanzenfresser erstellt.\n",
      "Allesfresser erstellt.\n"
     ]
    }
   ],
   "source": [
    "### BEGIN SOLUTION\n",
    "\n",
    "class Tier:\n",
    "    def friss(self):\n",
    "        print(\"Das Tier frisst.\")\n",
    "    \n",
    "class Pflanzenfresser(Tier):\n",
    "    def __init__(self):\n",
    "        super().__init__()\n",
    "        print(\"Pflanzenfresser erstellt.\")\n",
    "\n",
    "    def friss(self):\n",
    "        print(\"Das Tier frisst vegetarisch.\")\n",
    "\n",
    "class Fleischfresser(Tier):\n",
    "    def __init__(self):\n",
    "        super().__init__()    # Zeile für Aufgabenerfüllung nicht erforderlich, aber guter Stil\n",
    "        print(\"Fleischfresser erstellt.\")\n",
    "        \n",
    "    def friss(self):\n",
    "        print(\"Das Tier frisst Fleisch.\")\n",
    "       \n",
    "class Allesfresser(Pflanzenfresser, Fleischfresser):\n",
    "    def __init__(self):\n",
    "        super().__init__()\n",
    "        print(\"Allesfresser erstellt.\")\n",
    "\n",
    "baer = Allesfresser()\n",
    "\n",
    "### END SOLUTION"
   ]
  },
  {
   "cell_type": "markdown",
   "metadata": {
    "nbgrader": {
     "grade": false,
     "grade_id": "a1d",
     "locked": true,
     "solution": false
    }
   },
   "source": [
    "## d)\n",
    "\n",
    "Betrachten Sie den folgenden Python-Code:\n",
    "\n",
    "```Python\n",
    "class F: pass \n",
    "class G: pass \n",
    "class H: pass\n",
    "class E(G,H): pass\n",
    "class D(E,F): pass \n",
    "class C(E,G): pass\n",
    "class B(C,H): pass\n",
    "class A(D,B,E): pass\n",
    "```\n",
    "\n",
    "Ist es möglich, dass in einer gültigen Linearisierung von A die Klasse E vor C vorkommt? Wenn nein, warum nicht?"
   ]
  },
  {
   "cell_type": "markdown",
   "metadata": {
    "collapsed": true,
    "nbgrader": {
     "grade": true,
     "grade_id": "a1d-sol",
     "locked": false,
     "points": 2,
     "solution": true
    }
   },
   "source": [
    "Nein, dies würde die Monotonie verletzen, da C eine Unterklasse von D ist."
   ]
  },
  {
   "cell_type": "markdown",
   "metadata": {
    "nbgrader": {
     "grade": false,
     "grade_id": "a1e",
     "locked": true,
     "solution": false
    }
   },
   "source": [
    "## e)\n",
    "\n",
    "Betrachten Sie noch einmal das Beispiel aus Teilaufgabe d):\n",
    "\n",
    "Wäre es möglich, dass in einer gültigen Linearisierung von A die Klasse F vor E vorkommt? Wenn nein, warum nicht?"
   ]
  },
  {
   "cell_type": "markdown",
   "metadata": {
    "nbgrader": {
     "grade": true,
     "grade_id": "a1e-sol",
     "locked": false,
     "points": 2,
     "solution": true
    }
   },
   "source": [
    "Dies wäre nicht möglich.\n",
    "Schließlich ist D eine Oberklasse von A und die Reihenfolge der direkten Oberklassen von D lautet: zuerst E, dann F.\n",
    "Sonst wäre die \"Local precedence ordering\"-Eigenschaft verletzt."
   ]
  },
  {
   "cell_type": "markdown",
   "metadata": {
    "nbgrader": {
     "grade": false,
     "grade_id": "a1f",
     "locked": true,
     "solution": false
    }
   },
   "source": [
    "Betrachten Sie die folgende Klassenhierarchie:\n",
    "    \n",
    "```Python\n",
    "class G: pass\n",
    "class F: pass\n",
    "class E: pass\n",
    "class D(F): pass\n",
    "class C(G,D,E): pass\n",
    "class B(E,F): pass\n",
    "class A(B,C): pass\n",
    "```\n",
    "\n",
    "Ist diese Klassenhierarchie linearisierbar? \n",
    "Wenn ja, geben Sie eine Linearisierung an.\n",
    "Wenn nein, warum nicht?"
   ]
  },
  {
   "cell_type": "markdown",
   "metadata": {
    "nbgrader": {
     "grade": true,
     "grade_id": "a1f-sol",
     "locked": false,
     "points": 2,
     "solution": true
    }
   },
   "source": [
    "Die Klassenhierarchie ist nicht linearisierbar.\n",
    "\n",
    "(mir fehlt aber gerade noch das entscheidende Argument, warum A, B, C, G, D, E, F keine gültige Linearisierung ist laut VL)"
   ]
  },
  {
   "cell_type": "markdown",
   "metadata": {
    "nbgrader": {
     "grade": false,
     "grade_id": "a2",
     "locked": true,
     "solution": false
    }
   },
   "source": [
    "# Aufgabe 2:"
   ]
  },
  {
   "cell_type": "markdown",
   "metadata": {
    "nbgrader": {
     "grade": false,
     "grade_id": "a2a",
     "locked": true,
     "solution": false
    }
   },
   "source": [
    "## a)\n",
    "\n",
    "Im Ordner, in dem auch dieses Übungsblatt liegt, finden Sie eine Datei namens `results.csv`.\n",
    "Es handelt sich dabei um eine sogenannte Comma-separated values (CSV) - Datei.\n",
    "CSV-Dateien lassen sich beispielsweise nutzen, um einfache Tabellen in einer menschenlesbaren Form abzuspeichern.\n",
    "Mehr Informationen hierzu können Sie beispielsweise [hier auf Wikipedia](https://en.wikipedia.org/wiki/Comma-separated_values) nachlesen.\n",
    "Die hier vorliegende Datei stellt eine Tabelle mit zwei Spalten dar: Zeit (in min seit Start eines Experiments) und Temperatur.\n",
    "Die erste Zeile enthält jeweils den Titel jeder Spalte.\n",
    "Das verwendete Trennzeichen ist das Komma.\n",
    "\n",
    "Diese Datei soll nun in Python eingelesen werden.\n",
    "Definieren Sie zunächst eine Klasse namens `Table`, welche die vier Attribute `title1`, `title2`, `values1` und `values2` enthält, welche alle durch Parameterübergabe an den Konstruktor gesetzt werden können.\n",
    "Außerdem soll die Klasse eine Methode `__str__(self)` besitzen, um die Attribute sinnvoll auf der Konsole ausgeben zu können und eine Methode `__eq__(self, other)`, die nur dann `True` zurückgibt, wenn die Attributwerte beider als Parameter übergebener Objekte gleich sind, sonst `False`.\n",
    "\n",
    "Schreiben Sie anschließend eine Funktion namens `parse_csv`, welche den Dateinamen einer CSV-Datei (also z.B. `\"results.csv\"`) als Parameter übergeben bekommt, welche:\n",
    "* zwei Spalten enthält,\n",
    "* in der ersten Zeile die Titel der Spalten enthält (als Zeichenkette),\n",
    "* in den weiteren Zeilen nur Zahlen (mit Deziamlstellen) speichert\n",
    "\n",
    "und die ein Objekt der Klasse `Table` zurückgibt, dessen Attribute folgendermaßen gesetzt sind:\n",
    "* `title1`: der Titel der ersten Spalte,\n",
    "* `title2`: der Titel der zweiten Spalte\n",
    "* `values1`: eine Liste mit allen Werten der ersten Spalte (ohne den Titel), in der Reihenfolge, wie sie in der Datei auftauchen\n",
    "* `values2`: eine Liste mit allen Werten der zweiten Spalte (ohne den Titel), in der Reihenfolge, wie sie in der Datei auftauchen.\n",
    "\n",
    "Wird beispielsweise der Dateiname der CSV-Datei `simple_example.csv` übergeben, welche so aussieht: \n",
    "```\n",
    "Zeit,Temperatur\n",
    "0.0,15.2\n",
    "3.0,16.1\n",
    "6.0,14.8\n",
    "9.0,20.2\n",
    "```\n",
    "\n",
    "Dann soll die Rückgabe der Funktion ein Objekt vom Typ `Table` mit folgenden Attributwerten sein:\n",
    "* `title1 = \"Zeit\"`\n",
    "* `title2 = \"Temperatur\"`\n",
    "* `values1 = [0.0, 3.0, 6.0, 9.0]`\n",
    "* `values2 = [15.2, 16.1, 14.8, 20.2]`\n",
    "\n",
    "Verwenden Sie für die Implementierung der Funktion `parse_csv` *unbedingt* [das CSV-Modul von Python](https://docs.python.org/3/library/csv.html)!\n",
    "\n",
    "Sie dürfen davon ausgehen, dass die Datei mit dem als Parameter übergebenen Dateinamen tatsächlich existiert."
   ]
  },
  {
   "cell_type": "code",
   "execution_count": 24,
   "metadata": {
    "collapsed": false,
    "nbgrader": {
     "grade": false,
     "grade_id": "a2a-sol",
     "locked": false,
     "solution": true
    }
   },
   "outputs": [],
   "source": [
    "import csv\n",
    "\n",
    "### BEGIN SOLUTION\n",
    "class Table:\n",
    "    \"\"\"Klasse zur Repräsentation von Tabellen mit zwei Spalten und zugehörigen Spaltentiteln.\n",
    "    \n",
    "    Attributes:\n",
    "        title1 (str): Titel der ersten Spalte.\n",
    "        title2 (str): Titel der zweiten Spalte.\n",
    "        title3 (list): Einträge der ersten Spalte.\n",
    "        title4 (list): Einträge der zweiten Spalte.\n",
    "    \"\"\"\n",
    "    def __init__(self, title1, title2, values1, values2):\n",
    "        \"\"\"Konstruktor, der alle Attribute initialisiert (mit den als Parameter übergebenen Werten).\"\"\"\n",
    "        self.title1 = title1\n",
    "        self.title2 = title2\n",
    "        self.values1 = values1\n",
    "        self.values2 = values2\n",
    "        \n",
    "    def __str__(self):\n",
    "        return \"title1: {}\\ntitle2: {}\\nvalues1: {}\\nvalues2: {}\".format( \n",
    "                self.title1, self.title2, self.values1, self.values2)\n",
    "\n",
    "    def __eq__(self, other):\n",
    "        return self.title1 == other.title1 and self.title2 == other.title2 and \\\n",
    "                self.values1 == other.values1 and self.values2 == other.values2\n",
    "### END SOLUTION\n",
    "\n",
    "def parse_csv(filename):\n",
    "    ### BEGIN SOLUTION\n",
    "    #TODO: docstring\n",
    "    with open(filename, newline='') as csvfile:\n",
    "    #    csvfile = open(filename, newline='')\n",
    "        reader = csv.reader(csvfile, delimiter=',', quotechar='|')\n",
    "        first_row = next(reader)    \n",
    "        values1, values2 = [], []\n",
    "        for row in reader:\n",
    "            values1.append(float(row[0]))\n",
    "            values2.append(float(row[1]))\n",
    "        #csvfile.close()\n",
    "    \n",
    "    return Table(first_row[0], first_row[1], values1, values2)\n",
    "    ### END SOLUTION"
   ]
  },
  {
   "cell_type": "code",
   "execution_count": 3,
   "metadata": {
    "collapsed": true,
    "nbgrader": {
     "grade": true,
     "grade_id": "a2a0-test",
     "locked": true,
     "points": 1,
     "solution": false
    }
   },
   "outputs": [],
   "source": [
    "#TODO: hier die Klasse Table testen"
   ]
  },
  {
   "cell_type": "code",
   "execution_count": 28,
   "metadata": {
    "collapsed": false,
    "nbgrader": {
     "grade": true,
     "grade_id": "a2a-test",
     "locked": true,
     "points": 2,
     "solution": false
    }
   },
   "outputs": [
    {
     "name": "stdout",
     "output_type": "stream",
     "text": [
      "title1: Zeit\n",
      "title2: Temperatur\n",
      "values1: [0.0, 3.0, 6.0, 9.0]\n",
      "values2: [15.2, 16.1, 14.8, 20.2]\n",
      "title1: Zeit\n",
      "title2: Temperatur\n",
      "values1: [0.0, 3.0, 6.0, 9.0, 12.0, 15.0, 18.0, 21.0, 24.0, 27.0, 30.0, 33.0, 36.0, 39.0, 42.0, 45.0, 48.0, 51.0, 54.0, 57.0, 60.0, 63.0, 66.0, 69.0, 72.0, 75.0, 78.0, 81.0, 84.0, 87.0, 90.0, 93.0, 96.0, 99.0, 102.0, 105.0, 108.0, 111.0]\n",
      "values2: [35.90574523051787, 27.732801078808876, 42.035892511616005, 58.000772870249925, 96.94160853867335, 68.18506402498244, 14.671104120321022, 89.46105104216167, 47.27588706818212, 39.20070242229503, 26.714222293869348, 94.23349196918205, 51.77845568366778, 51.20161232801617, 93.30105788349742, 1.716984636989427, 8.755447352930679, 35.609379762311974, 24.876780742139005, 83.22149466739975, 65.20304271184895, 12.436205877934714, 90.37672735944263, 42.01655399602063, 83.90332779517878, 22.413857456299844, 51.83371482019683, 23.375603100801754, 52.15712567238341, 0.23171943708498732, 35.620773790224824, 1.8610917723884013, 50.37944193914525, 14.31962104350778, 60.72421338243065, 15.53821017629663, 91.90231143517047, 16.374637453126528]\n"
     ]
    }
   ],
   "source": [
    "### HIDESTART\n",
    "#import random\n",
    "#TODO: hier die Klasse Table aus ML nochmal definieren...\n",
    "### HIDEEND\n",
    "title_column1 = \"Zeit\"\n",
    "title_column2 = \"Temperatur\"\n",
    "\n",
    "filename1 = \"simple_example.csv\"\n",
    "atable = Table(title_column1, title_column2, [0.0, 3.0, 6.0, 9.0], [15.2, 16.1, 14.8, 20.2])\n",
    "parsed = parse_csv(filename1)\n",
    "### HIDESTART\n",
    "print(parsed)\n",
    "\n",
    "assert parsed.title1 == title_column1\n",
    "assert parsed.title2 == title_column2\n",
    "parsed_semi = Table(parsed.title1, parsed.title2, [float(i) for i in parsed.values1], [float(i) for i in parsed.values2] ) \n",
    "assert parsed_semi == atable #Teilpunkte, falls immerhin dies funktioniert\n",
    "### HIDEEND\n",
    "assert parsed == atable\n",
    "\n",
    "filename2 = \"results1.csv\"\n",
    "atable = Table(title_column1, title_column2, [0.0, 3.0, 6.0, 9.0, 12.0, 15.0, 18.0, 21.0, 24.0, 27.0, 30.0, 33.0, 36.0, 39.0, 42.0, 45.0, 48.0, 51.0, 54.0, 57.0, 60.0, 63.0, 66.0, 69.0, 72.0, 75.0, 78.0, 81.0, 84.0, 87.0, 90.0, 93.0, 96.0, 99.0, 102.0, 105.0, 108.0, 111.0], [35.90574523051787, 27.732801078808876, 42.035892511616005, 58.000772870249925, 96.94160853867335, 68.18506402498244, 14.671104120321022, 89.46105104216167, 47.27588706818212, 39.20070242229503, 26.714222293869348, 94.23349196918205, 51.77845568366778, 51.20161232801617, 93.30105788349742, 1.716984636989427, 8.755447352930679, 35.609379762311974, 24.876780742139005, 83.22149466739975, 65.20304271184895, 12.436205877934714, 90.37672735944263, 42.01655399602063, 83.90332779517878, 22.413857456299844, 51.83371482019683, 23.375603100801754, 52.15712567238341, 0.23171943708498732, 35.620773790224824, 1.8610917723884013, 50.37944193914525, 14.31962104350778, 60.72421338243065, 15.53821017629663, 91.90231143517047, 16.374637453126528])\n",
    "\n",
    "### HIDESTART\n",
    "title_column1 = \"Zeit\"\n",
    "title_column2 = \"Temperatur\"\n",
    "\n",
    "#filename2 = \"results_generated.csv\"\n",
    "\n",
    "# Neu schreiben, um Faelschungen zu verhindern\n",
    "with open(filename2, 'w', newline='') as csvfile:\n",
    "    writer = csv.writer(csvfile, delimiter=',')\n",
    "    writer.writerow([title_column1, title_column2])\n",
    "    #values = (title_column1, title_column2, [], [])\n",
    "    for i in range(len(atable.values1)): # \n",
    "    #for i in range(round(random.random() * 100)):\n",
    "    #    values[2].append(i * 3)\n",
    "    #    values[3].append(random.random()*100)\n",
    "        writer.writerow([atable.values1[i], atable.values2[i]])    \n",
    "### HIDEEND\n",
    "\n",
    "parsed = parse_csv(filename2)\n",
    "### HIDESTART\n",
    "print(parsed)\n",
    "\n",
    "assert parsed.title1 == title_column1\n",
    "assert parsed.title2 == title_column2\n",
    "parsed_semi = Table(parsed.title1, parsed.title2, [float(i) for i in parsed.values1], [float(i) for i in parsed.values2] ) \n",
    "assert parsed_semi == atable #Teilpunkte, falls immerhin dies funktioniert\n",
    "### HIDEEND\n",
    "\n",
    "assert parsed == atable"
   ]
  },
  {
   "cell_type": "markdown",
   "metadata": {
    "nbgrader": {
     "grade": false,
     "grade_id": "a2b",
     "locked": true,
     "solution": false
    }
   },
   "source": [
    "## b)\n",
    "\n",
    "Schreiben Sie eine Funktion namens ```simple_plot```, die zwei gleich lange Listen als Parameter erhält und, unter Verwendung der Bibliothek `matplotlib`, ein einfaches Diagramm (engl. plot) erzeugt, welches die Elemente der zweiten Liste auf der y-Achse über den Elementen der ersten Liste (x-Achse) aufträgt.\n",
    "Beispielsweise könnte ein Plot der in Teilaufgabe a) von der Funktion `parse_csv` zurückgegebenen Liste folgendermaßen aussehen:\n",
    "![Beispiel-Plot](./plot_example.png)\n",
    "\n",
    "Die weiteren Parameter der Funktion sind dabei durch den bereits gegebenen docstring vorgegeben und sollen berücksichtigt werden.\n",
    "\n",
    "Verwenden Sie zur Implementierung die Methode [pyplot.plot aus der Bibliothek matplotlib](http://matplotlib.org/api/pyplot_api.html#matplotlib.pyplot.plot)."
   ]
  },
  {
   "cell_type": "code",
   "execution_count": 22,
   "metadata": {
    "collapsed": false,
    "nbgrader": {
     "grade": false,
     "grade_id": "a2b-sol",
     "locked": false,
     "points": 1,
     "solution": true
    }
   },
   "outputs": [],
   "source": [
    "import matplotlib.pyplot\n",
    "\n",
    "def simple_plot(xvalues, yvalues, title, xlabel, ylabel):\n",
    "    '''Erstellt ein Diagramm auf Basis von Werten für die x- und die y-Achse und gibt dieses aus. \n",
    "       Dabei wird der erste Eintrag der zweiten Liste dem ersten Eintrag der ersten Liste zugeordnet, usw.\n",
    "  \n",
    "    Args:\n",
    "        xvalues: Liste mit Werten, die auf der x-Achse auftragen werden.\n",
    "        yvalues: Liste mit Werten, die auf der y-Achse aufgetragen werden.\n",
    "        title:  Der Titel, der über dem Plot stehen soll (str)\n",
    "        xlabel: Die Achsenbeschriftung für die x-Achse (str)\n",
    "        ylabel: Die Achsenbeschriftung für die y-Achse (str)\n",
    "    '''\n",
    "    ### BEGIN SOLUTION    \n",
    "    matplotlib.pyplot.plot(xvalues, yvalues)\n",
    "\n",
    "    matplotlib.pyplot.title(title)\n",
    "    matplotlib.pyplot.xlabel(xlabel)\n",
    "    matplotlib.pyplot.ylabel(ylabel)\n",
    "    matplotlib.pyplot.grid(True)\n",
    "    #matplotlib.pyplot.savefig(\"plot_example.png\")\n",
    "    matplotlib.pyplot.show()\n",
    "    ### END SOLUTION"
   ]
  },
  {
   "cell_type": "code",
   "execution_count": 23,
   "metadata": {
    "collapsed": false,
    "nbgrader": {
     "grade": true,
     "grade_id": "a2b-test",
     "locked": true,
     "points": 2,
     "solution": false
    }
   },
   "outputs": [
    {
     "data": {
      "image/png": "[encoded data removed]",
      "text/plain": [
       "<matplotlib.figure.Figure at 0x7f4e4b7666a0>"
      ]
     },
     "metadata": {},
     "output_type": "display_data"
    }
   ],
   "source": [
    "my_values = ([0.0, 3.0, 6.0, 9.0], [15.2, 16.1, 14.8, 20.2])\n",
    "\n",
    "simple_plot(my_values[0], my_values[1], \"Simulationsergebnisse\", \"Zeit (s)\", \"Temperatur (°C)\")\n",
    "\n",
    "### HIDESTART\n",
    "#assert false # hier muss manuell geprueft werden\n",
    "### HIDEEND"
   ]
  },
  {
   "cell_type": "markdown",
   "metadata": {
    "nbgrader": {
     "grade": false,
     "grade_id": "a2c",
     "locked": true,
     "solution": false
    }
   },
   "source": [
    "## c)\n",
    "Schreiben Sie nun eine Funktion ```parse_and_plot()```, welche die Funktionen `parse_csv` und `simple_plot` aus den Teilaufgaben a) und b) aufruft, um Werte aus einer CSV-Datei einzulesen, welche anschließend in einem Diagramm dargestellt werden. \n",
    "Die Funktion nimmt zwar keine Parameter entgegen, verwendet aber die beim Aufruf des Skriptes auf der Konsole übergebenen Kommandozeilenparameter (`sys.argv`).\n",
    "Die Kommandozeilenparameter, die übergeben werden können, sind folgende:\n",
    "* Der Dateiname der einzulesenden CSV-Datei als (nicht optionales) Positionsargument (an erster Stelle) (string)\n",
    "* Der Titel des Diagramms als optionales Argument mit dem Namen \"title\" (string)\n",
    "* Die Achsenbeschriftung auf der x-Achse als optionales Argument mit dem Namen \"xlabel\" (string)\n",
    "* Die Achsenbeschriftung auf der y-Achse als optionales Argument mit dem Namen \"ylabel\" (string)\n",
    "\n",
    "Wird kein Titel angegeben, soll standardmäßig der leere String als Titel verwendet werden.\n",
    "Wird für die x- und/oder die y-Achse keine Achsenbeschriftung angegeben, so soll der Titel der ersten (bzw. zweiten) Spalte für die Beschriftung der x- (bzw. y-) Achse verwendet werden.\n",
    "\n",
    "Beispielsweise soll bei Aufruf des Skripts mit den Argumenten \"simple_example.csv --title=Simulationsergebnisse --xlabel=Zeit (s) --ylabel=Temperatur (°C) das Diagramm aus dem Beispiel von Aufgabe b) erzeugt werden.\n",
    "\n",
    "Verarbeiten Sie *unbedingt* die Liste der Kommandozeilenparameter mit Hilfe des Moduls [argparse](https://docs.python.org/3/library/argparse.html) und verwenden Sie die Funktionen `parse_csv` und `simple_plot` aus den Teilaufgaben a) und b)."
   ]
  },
  {
   "cell_type": "code",
   "execution_count": 7,
   "metadata": {
    "collapsed": false,
    "nbgrader": {
     "grade": false,
     "grade_id": "a2c-sol",
     "locked": false,
     "points": 1,
     "solution": true
    }
   },
   "outputs": [],
   "source": [
    "import sys\n",
    "import argparse\n",
    "\n",
    "\n",
    "def parse_and_plot():\n",
    "    ### BEGIN SOLUTION\n",
    "    parser = argparse.ArgumentParser(description='Process some integers.')\n",
    "    parser.add_argument('filename', metavar='filename',\n",
    "                    help='bla')\n",
    "    parser.add_argument('--title', dest='title', default=\"\", type=str, \n",
    "                    help='blubb')\n",
    "    parser.add_argument('--xlabel', dest='xlabel', default=\"\",\n",
    "                    help='blubb')\n",
    "    parser.add_argument('--ylabel', dest='ylabel', default=\"\",\n",
    "                    help='blubb')\n",
    "\n",
    "    args = parser.parse_args()\n",
    "    table = parse_csv(args.filename)\n",
    "    \n",
    "    if args.xlabel == \"\":\n",
    "        args.xlabel = table.title1\n",
    "    if args.ylabel == \"\":\n",
    "        args.ylabel = table.title2\n",
    "\n",
    "    simple_plot(table.values1, table.values2, args.title, args.xlabel, args.ylabel)\n",
    "    ### END SOLUTION\n",
    "\n"
   ]
  },
  {
   "cell_type": "code",
   "execution_count": 8,
   "metadata": {
    "collapsed": false,
    "nbgrader": {
     "grade": true,
     "grade_id": "a2c-test",
     "locked": true,
     "points": 2,
     "solution": false
    }
   },
   "outputs": [
    {
     "data": {
      "image/png": "[encoded data removed]",
      "text/plain": [
       "<matplotlib.figure.Figure at 0x7f4e4e40ca20>"
      ]
     },
     "metadata": {},
     "output_type": "display_data"
    },
    {
     "data": {
      "image/png": "[encoded data removed]",
      "text/plain": [
       "<matplotlib.figure.Figure at 0x7f4e4bf0e128>"
      ]
     },
     "metadata": {},
     "output_type": "display_data"
    }
   ],
   "source": [
    "# hier im Test noch die ML der vorherigen Aufgaben einfügen, damit die verwendet werden...\n",
    "\n",
    "from unittest.mock import patch\n",
    "\n",
    "vargs = [\"script.py\", \"simple_example.csv\", '--title=Simulationsergebnisse', '--xlabel=Zeit (s)', '--ylabel=Temperatur (°C)']\n",
    "with patch.object(sys, 'argv', vargs):\n",
    "    parse_and_plot()\n",
    "    \n",
    "vargs = [\"script.py\", \"results1.csv\"]\n",
    "with patch.object(sys, 'argv', vargs):\n",
    "    parse_and_plot()"
   ]
  },
  {
   "cell_type": "markdown",
   "metadata": {
    "nbgrader": {
     "grade": false,
     "grade_id": "a2d",
     "locked": true,
     "solution": false
    }
   },
   "source": [
    "## d)\n",
    "Angenommen, der gesamte obige Code wäre nicht in einem Jupyter-Notebook, sondern in einem Python-Skript geschrieben.\n",
    "Was müssten Sie schreiben, damit bei Ausführung des Skriptes (allerdings nicht bei der Einbindung als Modul!) automatisch die Methode `parse_and_plot()` aufgerufen wird?"
   ]
  },
  {
   "cell_type": "code",
   "execution_count": 9,
   "metadata": {
    "collapsed": false,
    "nbgrader": {
     "grade": true,
     "grade_id": "a2d-sol",
     "locked": false,
     "points": 1,
     "solution": true
    }
   },
   "outputs": [],
   "source": [
    "#if __name__ == \"__main__\":\n",
    "#    parse_and_plot()"
   ]
  },
  {
   "cell_type": "code",
   "execution_count": 29,
   "metadata": {
    "collapsed": true,
    "nbgrader": {
     "grade": true,
     "grade_id": "docstring_test",
     "locked": true,
     "points": 1,
     "solution": false
    }
   },
   "outputs": [],
   "source": [
    "#TODO: die docstring-Zelle"
   ]
  }
 ],
 "metadata": {
  "anaconda-cloud": {},
  "celltoolbar": "Create Assignment",
  "kernelspec": {
   "display_name": "Python [default]",
   "language": "python",
   "name": "python3"
  },
  "language_info": {
   "codemirror_mode": {
    "name": "ipython",
    "version": 3
   },
   "file_extension": ".py",
   "mimetype": "text/x-python",
   "name": "python",
   "nbconvert_exporter": "python",
   "pygments_lexer": "ipython3",
   "version": "3.5.2"
  }
 },
 "nbformat": 4,
 "nbformat_minor": 1
}
