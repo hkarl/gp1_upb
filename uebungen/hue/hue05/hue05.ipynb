{
 "cells": [
  {
   "cell_type": "markdown",
   "metadata": {
    "nbgrader": {
     "grade": true,
     "grade_id": "matrikel",
     "locked": false,
     "solution": true
    }
   },
   "source": [
    "Bitte hier eintragen (s.u)!"
   ]
  },
  {
   "cell_type": "markdown",
   "metadata": {
    "nbgrader": {
     "grade": false,
     "grade_id": "matrikel_info",
     "locked": true,
     "solution": false
    }
   },
   "source": [
    "## Bitte tragen Sie Ihre Matrikelnummern und E-Mail-Adressen *zeilenweise* in die Zelle *oberhalb* dieser Zelle ein.\n",
    "Beachten Sie: Die Abgabe muss mit Ihrem *Gruppenaccount* erfolgen, den Sie in der Präsenzübung erhalten haben! Abgaben, die über Ihren Einzelaccount erfolgen, werden ignoriert. \n",
    "Achten Sie dabei streng auf die Formatierung, denn die Auswertung erfolgt automatisch. \n",
    "Benutzen Sie *keine* Leerzeilen.\n",
    "Nur zwischen Matrikelnummer und E-Mail-Adresse darf ein Leerzeichen stehen.\n",
    "\n",
    "Format:\n",
    "\n",
    "MatrikelNummer E-Mail-Adresse\n",
    "\n",
    "z.B.:\n",
    "\n",
    "123456 testStudent@mail.upb.de\n",
    "\n",
    "### Abgabetermin: 11.12.2016 um 23:59 Uhr\n",
    "### Wichtig: Geben Sie Ihre Lösung in der vom Server erhaltenen Datei hue06.ipynb ab (nicht umbenennen, keine Kopie erstellen!). Sonst kann eine Bewertung nicht stattfinden."
   ]
  },
  {
   "cell_type": "markdown",
   "metadata": {
    "nbgrader": {
     "grade": false,
     "grade_id": "kingkong_desc_1",
     "locked": true,
     "solution": false
    }
   },
   "source": [
    "# Aufgabe 1: King-Kong (? Punkte)\n",
    "### a) \n",
    "Implementieren Sie eine Funktion ```king_kong(x)```, welche für eine gegebene natürliche Zahl ```x```\n",
    "- 'King' zurückgibt, falls ```x``` durch 3 teilbar ist oder die Ziffer 3 enthält\n",
    "- 'Kong' zurückgibt, falls ```x``` durch 7 teilbar ist oder die Ziffer 7 enthält\n",
    "- \"KingKong\" zurückgibt, falls ```x``` die beiden oberen Bedingungen erfüllt\n",
    "- ```x``` zurückgibt, falls keine der oberen drei Bedingungen erfüllt wurden.\n",
    "\n",
    "(? Punkte)"
   ]
  },
  {
   "cell_type": "code",
   "execution_count": null,
   "metadata": {
    "collapsed": true,
    "nbgrader": {
     "grade": false,
     "grade_id": "kingkong_sol_1",
     "locked": false,
     "solution": true
    }
   },
   "outputs": [],
   "source": [
    "def king_kong(x):\n",
    "    # Your code here\n",
    "    ### BEGIN SOLUTION\n",
    "    r = x\n",
    "    king_erfuellt = False\n",
    "    if x % 3 == 0 or '3' in str(x):\n",
    "        r = 'King'\n",
    "        king_erfuellt = True\n",
    "    if x % 7 == 0 or '7' in  str(x):\n",
    "        if king_erfuellt == True:\n",
    "            return 'KingKong'\n",
    "        return 'Kong'\n",
    "    return r\n",
    "    ### END SOLUTION"
   ]
  },
  {
   "cell_type": "code",
   "execution_count": null,
   "metadata": {
    "collapsed": false,
    "nbgrader": {
     "grade": true,
     "grade_id": "kongkong_test_1_0",
     "locked": true,
     "points": 0,
     "solution": false
    }
   },
   "outputs": [],
   "source": [
    "assert(king_kong(1) == 1)\n",
    "assert(king_kong(2) == 2)\n",
    "assert(king_kong(3) == 'King')\n",
    "assert(king_kong(6) == 'King')\n",
    "assert(king_kong(7) == 'Kong')\n",
    "assert(king_kong(17) == 'Kong')\n",
    "assert(king_kong(28) == 'Kong')\n",
    "assert(king_kong(21) == 'KingKong')\n",
    "assert(king_kong(37) == 'KingKong')"
   ]
  },
  {
   "cell_type": "code",
   "execution_count": null,
   "metadata": {
    "collapsed": true,
    "nbgrader": {
     "grade": true,
     "grade_id": "kingkong_test_1_1",
     "locked": true,
     "points": 1,
     "solution": false
    }
   },
   "outputs": [],
   "source": [
    "### HIDESTART\n",
    "# Teste Ausgaben für durch 3 Teilbare Zahlen:\n",
    "for i in range(1,100):\n",
    "    if i % 3 == 0 and not (i % 7 == 0 or '7' in str(i)):\n",
    "        assert(king_kong(i) == 'King')\n",
    "### HIDEEND"
   ]
  },
  {
   "cell_type": "code",
   "execution_count": null,
   "metadata": {
    "collapsed": true,
    "nbgrader": {
     "grade": true,
     "grade_id": "kingkong_test_1_2",
     "locked": true,
     "points": 1,
     "solution": false
    }
   },
   "outputs": [],
   "source": [
    "### HIDESTART\n",
    "# Teste Ausgaben für durch 7 Teilbare Zahlen:\n",
    "for i in range(1,100):\n",
    "    if i % 7 == 0 and not (i % 3 == 0 or '3' in str(i)):\n",
    "        assert(king_kong(i) == 'Kong')\n",
    "### HIDEEND"
   ]
  },
  {
   "cell_type": "code",
   "execution_count": null,
   "metadata": {
    "collapsed": false,
    "nbgrader": {
     "grade": true,
     "grade_id": "kingkong_test_1_3",
     "locked": true,
     "points": 1,
     "solution": false
    }
   },
   "outputs": [],
   "source": [
    "### HIDESTART\n",
    "# Teste Ausgaben für Zahlen die 3, 7 oder beide Ziffern enthalten:\n",
    "for i in range(1,100):\n",
    "    if (i % 3 == 0 or '3' in str(i)) and (i % 7 == 0 or '7' in str(i)):\n",
    "        assert(king_kong(i) == 'KingKong')\n",
    "### HIDEEND"
   ]
  },
  {
   "cell_type": "code",
   "execution_count": null,
   "metadata": {
    "collapsed": false,
    "nbgrader": {
     "grade": true,
     "grade_id": "kingkong_test_1_4",
     "locked": true,
     "points": 1,
     "solution": false
    }
   },
   "outputs": [],
   "source": [
    "### HIDESTART\n",
    "# Teste Zahlen, für welche kein String zurückgegeben wird:\n",
    "for i in range(1,100):\n",
    "    if not((i % 3 == 0 or '3' in str(i)) or (i % 7 == 0 or '7' in str(i))):\n",
    "        assert(king_kong(i) == i)\n",
    "### HIDEEND"
   ]
  },
  {
   "cell_type": "markdown",
   "metadata": {
    "nbgrader": {
     "grade": false,
     "grade_id": "kingkong_desc_2",
     "locked": true,
     "solution": false
    }
   },
   "source": [
    "### b) \n",
    "Implementieren Sie eine Funktion ```king_kong_liste(n)```, welche für eine gegebene natürliche Zahl ```n``` eine Liste der ersten n Zahlen zurückgibt, für welche die Funktion ```king_kong(n)``` aus Teil a) aufgerufen wurde."
   ]
  },
  {
   "cell_type": "code",
   "execution_count": null,
   "metadata": {
    "collapsed": true,
    "nbgrader": {
     "grade": false,
     "grade_id": "kingkong_sol_2",
     "locked": false,
     "solution": true
    }
   },
   "outputs": [],
   "source": [
    "def king_kong_liste(n):\n",
    "    # Your code here\n",
    "    ### BEGIN SOLUTION\n",
    "    l = []\n",
    "    for i in range(1,n+1):\n",
    "        l.append(king_kong(i))\n",
    "    return l\n",
    "    ### END SOLUTION"
   ]
  },
  {
   "cell_type": "code",
   "execution_count": null,
   "metadata": {
    "collapsed": false,
    "nbgrader": {
     "grade": true,
     "grade_id": "kingkong_test_2_0",
     "locked": true,
     "solution": false
    }
   },
   "outputs": [],
   "source": [
    "assert(king_kong_liste(10) == [1,2,'King',4,5,'King','Kong',8,'King',10])"
   ]
  },
  {
   "cell_type": "code",
   "execution_count": null,
   "metadata": {
    "collapsed": false,
    "nbgrader": {
     "grade": true,
     "grade_id": "kingkong_test_2_1",
     "locked": true,
     "points": 2,
     "solution": false
    }
   },
   "outputs": [],
   "source": [
    "### HIDESTART\n",
    "def king_kong_liste_sol(n):\n",
    "    l = []\n",
    "    for i in range(1,n+1):\n",
    "        l.append(king_kong(i))\n",
    "    return l\n",
    "\n",
    "assert(king_kong_liste(100) == king_kong_liste_sol(100))\n",
    "### HIDEEND"
   ]
  }
 ],
 "metadata": {
  "anaconda-cloud": {},
  "celltoolbar": "Create Assignment",
  "kernelspec": {
   "display_name": "Python [default]",
   "language": "python",
   "name": "python3"
  },
  "language_info": {
   "codemirror_mode": {
    "name": "ipython",
    "version": 3
   },
   "file_extension": ".py",
   "mimetype": "text/x-python",
   "name": "python",
   "nbconvert_exporter": "python",
   "pygments_lexer": "ipython3",
   "version": "3.5.2"
  }
 },
 "nbformat": 4,
 "nbformat_minor": 1
}
