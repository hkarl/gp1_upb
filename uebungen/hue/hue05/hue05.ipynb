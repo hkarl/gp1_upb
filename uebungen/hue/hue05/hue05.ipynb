{
 "cells": [
  {
   "cell_type": "markdown",
   "metadata": {
    "nbgrader": {
     "grade": true,
     "grade_id": "matrikel",
     "locked": false,
     "solution": true
    }
   },
   "source": [
    "Bitte hier eintragen (s.u)!"
   ]
  },
  {
   "cell_type": "markdown",
   "metadata": {
    "nbgrader": {
     "grade": false,
     "grade_id": "matrikel_info",
     "locked": true,
     "solution": false
    }
   },
   "source": [
    "## Bitte tragen Sie Ihre Matrikelnummern und E-Mail-Adressen *zeilenweise* in die Zelle *oberhalb* dieser Zelle ein.\n",
    "Beachten Sie: Die Abgabe muss mit Ihrem *Gruppenaccount* erfolgen, den Sie in der Präsenzübung erhalten haben! Abgaben, die über Ihren Einzelaccount erfolgen, werden ignoriert. \n",
    "Achten Sie dabei streng auf die Formatierung, denn die Auswertung erfolgt automatisch. \n",
    "Benutzen Sie *keine* Leerzeilen.\n",
    "Nur zwischen Matrikelnummer und E-Mail-Adresse darf ein Leerzeichen stehen.\n",
    "\n",
    "Format:\n",
    "\n",
    "MatrikelNummer E-Mail-Adresse\n",
    "\n",
    "z.B.:\n",
    "\n",
    "123456 testStudent@mail.upb.de\n",
    "\n",
    "### Abgabetermin: 11.12.2016 um 23:59 Uhr\n",
    "### Wichtig: Geben Sie Ihre Lösung in der vom Server erhaltenen Datei hue06.ipynb ab (nicht umbenennen, keine Kopie erstellen!). Sonst kann eine Bewertung nicht stattfinden."
   ]
  },
  {
   "cell_type": "markdown",
   "metadata": {
    "nbgrader": {
     "grade": false,
     "grade_id": "kingkong_desc_1",
     "locked": true,
     "solution": false
    }
   },
   "source": [
    "# Aufgabe 1: King-Kong (? Punkte)\n",
    "### a) \n",
    "Implementieren Sie eine Funktion ```king_kong(x)```, welche für eine gegebene natürliche Zahl ```x```\n",
    "- 'King' zurückgibt, falls ```x``` durch 3 teilbar ist oder die Ziffer 3 enthält\n",
    "- 'Kong' zurückgibt, falls ```x``` durch 7 teilbar ist oder die Ziffer 7 enthält\n",
    "- \"KingKong\" zurückgibt, falls ```x``` die beiden oberen Bedingungen erfüllt\n",
    "- ```x``` zurückgibt, falls keine der oberen drei Bedingungen erfüllt wurden.\n",
    "\n",
    "(? Punkte)"
   ]
  },
  {
   "cell_type": "code",
   "execution_count": 1,
   "metadata": {
    "collapsed": true,
    "nbgrader": {
     "grade": false,
     "grade_id": "kingkong_sol_1",
     "locked": false,
     "solution": true
    }
   },
   "outputs": [],
   "source": [
    "def king_kong(x):\n",
    "    # Your code here\n",
    "    ### BEGIN SOLUTION\n",
    "    r = x\n",
    "    king_erfuellt = False\n",
    "    if x % 3 == 0 or '3' in str(x):\n",
    "        r = 'King'\n",
    "        king_erfuellt = True\n",
    "    if x % 7 == 0 or '7' in  str(x):\n",
    "        if king_erfuellt == True:\n",
    "            return 'KingKong'\n",
    "        return 'Kong'\n",
    "    return r\n",
    "    ### END SOLUTION"
   ]
  },
  {
   "cell_type": "code",
   "execution_count": 2,
   "metadata": {
    "collapsed": false,
    "nbgrader": {
     "grade": true,
     "grade_id": "kongkong_test_1_0",
     "locked": true,
     "points": 0,
     "solution": false
    }
   },
   "outputs": [],
   "source": [
    "assert(king_kong(1) == 1)\n",
    "assert(king_kong(2) == 2)\n",
    "assert(king_kong(3) == 'King')\n",
    "assert(king_kong(6) == 'King')\n",
    "assert(king_kong(7) == 'Kong')\n",
    "assert(king_kong(17) == 'Kong')\n",
    "assert(king_kong(28) == 'Kong')\n",
    "assert(king_kong(21) == 'KingKong')\n",
    "assert(king_kong(37) == 'KingKong')"
   ]
  },
  {
   "cell_type": "code",
   "execution_count": 3,
   "metadata": {
    "collapsed": true,
    "nbgrader": {
     "grade": true,
     "grade_id": "kingkong_test_1_1",
     "locked": true,
     "points": 1,
     "solution": false
    }
   },
   "outputs": [],
   "source": [
    "### HIDESTART\n",
    "# Teste Ausgaben für durch 3 Teilbare Zahlen:\n",
    "for i in range(1,100):\n",
    "    if i % 3 == 0 and not (i % 7 == 0 or '7' in str(i)):\n",
    "        assert(king_kong(i) == 'King')\n",
    "### HIDEEND"
   ]
  },
  {
   "cell_type": "code",
   "execution_count": 4,
   "metadata": {
    "collapsed": true,
    "nbgrader": {
     "grade": true,
     "grade_id": "kingkong_test_1_2",
     "locked": true,
     "points": 1,
     "solution": false
    }
   },
   "outputs": [],
   "source": [
    "### HIDESTART\n",
    "# Teste Ausgaben für durch 7 Teilbare Zahlen:\n",
    "for i in range(1,100):\n",
    "    if i % 7 == 0 and not (i % 3 == 0 or '3' in str(i)):\n",
    "        assert(king_kong(i) == 'Kong')\n",
    "### HIDEEND"
   ]
  },
  {
   "cell_type": "code",
   "execution_count": 5,
   "metadata": {
    "collapsed": false,
    "nbgrader": {
     "grade": true,
     "grade_id": "kingkong_test_1_3",
     "locked": true,
     "points": 1,
     "solution": false
    }
   },
   "outputs": [],
   "source": [
    "### HIDESTART\n",
    "# Teste Ausgaben für Zahlen die 3, 7 oder beide Ziffern enthalten:\n",
    "for i in range(1,100):\n",
    "    if (i % 3 == 0 or '3' in str(i)) and (i % 7 == 0 or '7' in str(i)):\n",
    "        assert(king_kong(i) == 'KingKong')\n",
    "### HIDEEND"
   ]
  },
  {
   "cell_type": "code",
   "execution_count": 6,
   "metadata": {
    "collapsed": false,
    "nbgrader": {
     "grade": true,
     "grade_id": "kingkong_test_1_4",
     "locked": true,
     "points": 1,
     "solution": false
    }
   },
   "outputs": [],
   "source": [
    "### HIDESTART\n",
    "# Teste Zahlen, für welche kein String zurückgegeben wird:\n",
    "for i in range(1,100):\n",
    "    if not((i % 3 == 0 or '3' in str(i)) or (i % 7 == 0 or '7' in str(i))):\n",
    "        assert(king_kong(i) == i)\n",
    "### HIDEEND"
   ]
  },
  {
   "cell_type": "markdown",
   "metadata": {
    "nbgrader": {
     "grade": false,
     "grade_id": "kingkong_desc_2",
     "locked": true,
     "solution": false
    }
   },
   "source": [
    "### b) \n",
    "Implementieren Sie eine Funktion ```king_kong_liste(n)```, welche für eine gegebene natürliche Zahl ```n``` eine Liste der ersten n Zahlen zurückgibt, für welche die Funktion ```king_kong(n)``` aus Teil a) aufgerufen wurde."
   ]
  },
  {
   "cell_type": "code",
   "execution_count": 7,
   "metadata": {
    "collapsed": true,
    "nbgrader": {
     "grade": false,
     "grade_id": "kingkong_sol_2",
     "locked": false,
     "solution": true
    }
   },
   "outputs": [],
   "source": [
    "def king_kong_liste(n):\n",
    "    # Your code here\n",
    "    ### BEGIN SOLUTION\n",
    "    l = []\n",
    "    for i in range(1,n+1):\n",
    "        l.append(king_kong(i))\n",
    "    return l\n",
    "    ### END SOLUTION"
   ]
  },
  {
   "cell_type": "code",
   "execution_count": 8,
   "metadata": {
    "collapsed": false,
    "nbgrader": {
     "grade": true,
     "grade_id": "kingkong_test_2_0",
     "locked": true,
     "solution": false
    }
   },
   "outputs": [],
   "source": [
    "assert(king_kong_liste(10) == [1,2,'King',4,5,'King','Kong',8,'King',10])"
   ]
  },
  {
   "cell_type": "code",
   "execution_count": 9,
   "metadata": {
    "collapsed": false,
    "nbgrader": {
     "grade": true,
     "grade_id": "kingkong_test_2_1",
     "locked": true,
     "points": 2,
     "solution": false
    }
   },
   "outputs": [],
   "source": [
    "### HIDESTART\n",
    "def king_kong_liste_sol(n):\n",
    "    l = []\n",
    "    for i in range(1,n+1):\n",
    "        l.append(king_kong(i))\n",
    "    return l\n",
    "\n",
    "assert(king_kong_liste(100) == king_kong_liste_sol(100))\n",
    "### HIDEEND"
   ]
  },
  {
   "cell_type": "markdown",
   "metadata": {
    "nbgrader": {
     "grade": false,
     "grade_id": "20",
     "locked": true,
     "solution": false
    }
   },
   "source": [
    "## Aufgabe 2: Binomialkoeffizienten\n",
    "\n",
    "\n",
    "a) Schreiben Sie eine Funktion namens ```fakultaet```, welche ein ganzzahliges Parameter übergeben bekommen und die entsprechenden Fakultät zurückgibt. Implementieren Sie die Funktion mit Rekursion und nicht mit Schleifen."
   ]
  },
  {
   "cell_type": "code",
   "execution_count": 10,
   "metadata": {
    "collapsed": false,
    "nbgrader": {
     "grade": false,
     "grade_id": "21",
     "locked": false,
     "solution": true
    }
   },
   "outputs": [
    {
     "name": "stdout",
     "output_type": "stream",
     "text": [
      "3628800\n"
     ]
    }
   ],
   "source": [
    "def fakultaet(zahl):\n",
    "    if (zahl <= 1):\n",
    "        return 1\n",
    "    return fakultaet(zahl-1)*zahl\n",
    "\n",
    "print(fakultaet(10))"
   ]
  },
  {
   "cell_type": "code",
   "execution_count": 11,
   "metadata": {
    "collapsed": true,
    "nbgrader": {
     "grade": true,
     "grade_id": "22",
     "locked": true,
     "points": 1,
     "solution": false
    }
   },
   "outputs": [],
   "source": [
    "assert(fakultaet(0)==1)\n",
    "assert(fakultaet(1)==1)\n",
    "assert(fakultaet(10)==3628800)"
   ]
  },
  {
   "cell_type": "markdown",
   "metadata": {
    "nbgrader": {
     "grade": false,
     "grade_id": "23",
     "locked": true,
     "solution": false
    }
   },
   "source": [
    "b) Schreiben Sie eine Funktion namens ```binom```, welche zwei ganzzahlige Parametern ```n, k``` übergeben bekommt und die entsprechende binomische Koeffizient \n",
    "\n",
    "$$\\binom{n}{k} = \\frac{n!}{k!(n-k)!} $$\n",
    "\n",
    "zurückgibt. "
   ]
  },
  {
   "cell_type": "code",
   "execution_count": 12,
   "metadata": {
    "collapsed": true,
    "nbgrader": {
     "grade": false,
     "grade_id": "24",
     "locked": false,
     "solution": true
    }
   },
   "outputs": [],
   "source": [
    "def combination(n,k):\n",
    "    return int(fakultaet(n)/(fakultaet(k)*fakultaet(n-k)))"
   ]
  },
  {
   "cell_type": "code",
   "execution_count": 13,
   "metadata": {
    "collapsed": true,
    "nbgrader": {
     "grade": true,
     "grade_id": "25",
     "locked": true,
     "points": 1,
     "solution": false
    }
   },
   "outputs": [],
   "source": [
    "assert(combination(0,0)==1)\n",
    "assert(combination(1,0)==1)\n",
    "assert(combination(1,1)==1)\n",
    "assert(combination(10,1)==10)\n",
    "assert(combination(10,5)==252)"
   ]
  },
  {
   "cell_type": "markdown",
   "metadata": {
    "nbgrader": {
     "grade": false,
     "grade_id": "26",
     "locked": true,
     "solution": false
    }
   },
   "source": [
    "c) Das Pascalsche Dreieck ist eine Form der grafischen Darstellung der Binomialkoeffizienten $\\binom{n}{k}$, die eine einfache Berechnung dieser erlaubt. Dabei kann die Variable $n$ als Zeilenindex und $k$ als Spaltenindex interpretiert werden, wobei die Zählung mit Null beginnt. Hinweis: https://de.wikipedia.org/wiki/Pascalsches_Dreieck\n",
    "\n",
    "Schreiben Sie eine Funktion namens ```pascal```, welche zwei ganzzahlige Parametern übergeben bekommt und die entsprechende Koeffizient vom Pascalschen Dreieck zurückgibt. Benutzen Sie dabei nicht die Funktion ```combination``` und implementieren Sie die Funktion mittels Rekursion."
   ]
  },
  {
   "cell_type": "code",
   "execution_count": 14,
   "metadata": {
    "collapsed": true,
    "nbgrader": {
     "grade": false,
     "grade_id": "27",
     "locked": false,
     "solution": true
    }
   },
   "outputs": [],
   "source": [
    "def pascal(row, col):\n",
    "    if (col == 0 or col == row):\n",
    "        return 1\n",
    "    else:\n",
    "        return pascal(row-1,col-1) + pascal(row-1,col)"
   ]
  },
  {
   "cell_type": "markdown",
   "metadata": {
    "nbgrader": {
     "grade": false,
     "grade_id": "28",
     "locked": true,
     "points": 1,
     "solution": false
    }
   },
   "source": [
    "d) Schreiben Sie ein Programm, dass die 5 ersten Reihen vom pascalschen Dreieck in folgender Format ausgibt:\n",
    "     1 \n",
    "    1 1 \n",
    "   1 2 1 \n",
    "  1 3 3 1 \n",
    " 1 4 6 4 1 "
   ]
  },
  {
   "cell_type": "code",
   "execution_count": 15,
   "metadata": {
    "collapsed": false,
    "nbgrader": {
     "grade": true,
     "grade_id": "29",
     "locked": false,
     "points": 1,
     "solution": true
    },
    "scrolled": true
   },
   "outputs": [
    {
     "name": "stdout",
     "output_type": "stream",
     "text": [
      "    1 \n",
      "   1 1 \n",
      "  1 2 1 \n",
      " 1 3 3 1 \n",
      "1 4 6 4 1 \n"
     ]
    }
   ],
   "source": [
    "n=5\n",
    "for i in range(0,n):\n",
    "    print(\" \"*(n-i-1),end=\"\")\n",
    "    for j in range(0,i+1):\n",
    "        print(pascal(i,j),end=\" \")\n",
    "    print(\"\\n\",end=\"\")"
   ]
  },
  {
   "cell_type": "markdown",
   "metadata": {
    "nbgrader": {
     "grade": false,
     "grade_id": "30",
     "locked": true,
     "solution": false
    }
   },
   "source": [
    "## Aufgabe 2: Kalendar\n",
    "\n",
    "http://www.ntu.edu.sg/home/ehchua/programming/java/j2a_basicsexercises.html\n",
    "DateUtil function (at the end of the page)\n",
    "\n"
   ]
  },
  {
   "cell_type": "markdown",
   "metadata": {
    "nbgrader": {
     "grade": false,
     "grade_id": "collatz_desc_1",
     "locked": true,
     "solution": false
    }
   },
   "source": [
    "# Aufgabe 2: Folgen implementieren\n",
    "\n",
    "### a)\n",
    "Schreiben Sie eine Funktion `berechne_folge(n)`, welche für eine gegebene natürliche Zahl `n` eine Liste mit den einzelnen Elemenenten der Folge ausgibt. Die einzelnen Elemente berechnen sich wiefolgt:\n",
    "\n",
    "1. Beginne mit irgendeiner natürlichen Zahl n > 0.\n",
    "2. Ist n gerade, so nimm als nächstes n/2.\n",
    "3. Ist n ungerade, so nimm als nächstes 3n + 1.\n",
    "4. Wiederhole die Vorgehensweise mit der erhaltenen Zahl.\n",
    "\n",
    "Der Algorithmus soll hier abbrechen, sobald eine 1 zu den Elementen der Folge hinzugefügt wurde.\n"
   ]
  },
  {
   "cell_type": "code",
   "execution_count": 5,
   "metadata": {
    "collapsed": true,
    "nbgrader": {
     "grade": false,
     "grade_id": "collatz_sol_1",
     "locked": false,
     "solution": true
    }
   },
   "outputs": [],
   "source": [
    "def berechne_folge(n):\n",
    "    # Your code here\n",
    "    ### BEGIN SOLUTION\n",
    "    L = []\n",
    "    while(True):\n",
    "        L.append(n)\n",
    "        if n == 1:\n",
    "            return L\n",
    "        if n % 2 == 0:\n",
    "            n = n//2\n",
    "        else:\n",
    "            n = 3*n+1\n",
    "    ### END SOLUTION"
   ]
  },
  {
   "cell_type": "code",
   "execution_count": 6,
   "metadata": {
    "collapsed": false,
    "nbgrader": {
     "grade": true,
     "grade_id": "collatz_test_1",
     "locked": true,
     "points": 2,
     "solution": false
    }
   },
   "outputs": [],
   "source": [
    "assert(berechne_folge(19) == [19, 58, 29, 88, 44, 22, 11, 34, 17, 52, 26, 13, 40, 20, 10, 5, 16, 8, 4, 2, 1])\n",
    "assert(berechne_folge(15) == [15, 46, 23, 70, 35, 106, 53, 160, 80, 40, 20, 10, 5, 16, 8, 4, 2, 1])"
   ]
  },
  {
   "cell_type": "markdown",
   "metadata": {
    "nbgrader": {
     "grade": false,
     "grade_id": "collatz_desc_2",
     "locked": true,
     "solution": false
    }
   },
   "source": [
    "###  b)\n",
    "Begründen Sie, warum Sie in Ihrer Implementierung eine while- oder eine for-Schleife benutzt haben."
   ]
  },
  {
   "cell_type": "markdown",
   "metadata": {
    "nbgrader": {
     "grade": true,
     "grade_id": "collatz_sol_2",
     "locked": false,
     "points": 1,
     "solution": true
    }
   },
   "source": [
    "- While-Schleife: Anzahl der Elemente der Folge ist nicht von vorneherein klar, daher bietet sich die While-Schleife an\n",
    "- for-Schleife: Macht hier keinen Sinn"
   ]
  },
  {
   "cell_type": "markdown",
   "metadata": {
    "nbgrader": {
     "grade": false,
     "grade_id": "collatz_desc_3",
     "locked": true,
     "solution": false
    }
   },
   "source": [
    "### c)\n",
    "Warum ist es nicht einfach die Terminierung der Schleife zu beweisen?\n",
    "\n",
    "Zusatzaufgabe (gibt keine Punkte): Versuchen Sie, Terminierung zu beweisen. Achtung, SCHWER! "
   ]
  },
  {
   "cell_type": "markdown",
   "metadata": {
    "nbgrader": {
     "grade": true,
     "grade_id": "collatz_sol_3",
     "locked": false,
     "points": 1,
     "solution": true
    }
   },
   "source": [
    "Es ist nicht einfach eine geeignete Schleifeninvariante anzugeben.   \n",
    "Die zu implementierende Folge ist die Collatz-Folge, welche (vermutlich) immer in dem Zyklus (4,2,1) mündet. Doch der Beweis dieser Vermutung ist bis zum heutigen Zeitpunkt noch nicht gelungen.\n",
    "Für mehr Informationen siehe https://de.wikipedia.org/wiki/Collatz-Problem."
   ]
  }
 ],
 "metadata": {
  "anaconda-cloud": {},
  "celltoolbar": "Create Assignment",
  "kernelspec": {
   "display_name": "Python [default]",
   "language": "python",
   "name": "python3"
  },
  "language_info": {
   "codemirror_mode": {
    "name": "ipython",
    "version": 3
   },
   "file_extension": ".py",
   "mimetype": "text/x-python",
   "name": "python",
   "nbconvert_exporter": "python",
   "pygments_lexer": "ipython3",
   "version": "3.5.2"
  }
 },
 "nbformat": 4,
 "nbformat_minor": 1
}
