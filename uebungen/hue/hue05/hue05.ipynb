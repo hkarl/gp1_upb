{
 "cells": [
  {
   "cell_type": "markdown",
   "metadata": {
    "nbgrader": {
     "grade": true,
     "grade_id": "matrikel",
     "locked": false,
     "solution": true
    }
   },
   "source": [
    "HIER und NUR HIER Matrikelnummer und email eintragen; diese Zeile entfernen (s.u)!"
   ]
  },
  {
   "cell_type": "markdown",
   "metadata": {
    "nbgrader": {
     "grade": false,
     "grade_id": "matrikel_info",
     "locked": true,
     "solution": false
    }
   },
   "source": [
    "# Abgabehinweise \n",
    "\n",
    "Beachten Sie unbedingt diese Hinweise, sonst erhalten Sie keine Punkte aus dieser Abgabe! Für Details siehe z.B. [Folien der nullten Zentralübung](http://groups.uni-paderborn.de/fg-karl/lehre/ws1617/gp1/hue/gp1-zue0.pdf)\n",
    "\n",
    "## Namen und Matrikelnummern \n",
    "\n",
    "Tragen Sie Ihre Matrikelnummern und E-Mail-Adressen *zeilenweise* in die Zelle **oberhalb** dieser Zelle ein.\n",
    "Achten Sie dabei streng auf die Formatierung, denn die Auswertung erfolgt automatisch. \n",
    "Benutzen Sie *keine* Leerzeilen.\n",
    "Zwischen Matrikelnummer und E-Mail-Adresse *muss genau ein* Leerzeichen stehen; sonst keine Leerzeichen, Tabs, Spiegelstriche, oder ähnliches in einer Zeile. Wir empfehlen *dringend* die Benutzung der Uni-Paderborn E-Mail-Adressen! \n",
    "\n",
    "Format:\n",
    "\n",
    "MatrikelNummer E-Mail-Adresse\n",
    "\n",
    "z.B.:\n",
    "\n",
    "123456 testStudent@mail.upb.de\n",
    "\n",
    "## Abgabe mit Gruppenaccount \n",
    "\n",
    "Die Abgabe muss mit Ihrem *Gruppenaccount* erfolgen (gp1\\_16\\_...), den Sie in der Präsenzübung erhalten haben! Abgaben, die über Ihren Einzelaccount erfolgen, werden ignoriert. \n",
    "\n",
    "## Abgabe: Submit \n",
    "\n",
    "Es reicht nicht, nur das Übungsblatt zu verändern. Sie müssen unter *Assignments* auf *Submit* clicken (oder entsprechend über die Kommandozeile). Für Details siehe Beschreibung Abgabeprozess. \n",
    "\n",
    "## Dateinamen\n",
    "\n",
    "Geben Sie Ihre Lösung in der vom Server erhaltenen Datei hue05.ipynb ab (nicht umbenennen, keine Kopie erstellen, keine anderen Dateien in das Verzeichnis legen!). Sonst kann eine Bewertung nicht stattfinden.\n",
    "\n",
    "## Struktur des Notebooks \n",
    "\n",
    "Fügen Sie keine Zellen hinzu und löschen Sie keine Zellen.\n",
    "Ändern Sie nicht den Typ einer Zelle.\n",
    "Geben Sie Lösungen nur in den Lösungszellen ab. Änderungen in den anderen Zellen werden nach Abgabe automatisch rückgängig gemacht.\n",
    "\n",
    "## Code-Zellen \n",
    "\n",
    "Entfernen Sie  die Zeilen mit Inhalt \"raise NotImplementedError()\" aus den Zellen, in die Sie Ihre Lösungen schreiben. *Ersetzen* Sie diese Zeilen durch Ihre eigene Lösungen. \n",
    "\n",
    "## Kommentare \n",
    "\n",
    "Kommentieren Sie Code-Abgaben! Insbesondere *muss* jede Funktion (Klasse, Methode, ...) einen ```docstring``` haben! Bei fehlendem docstring werden automatisch KEINE Punkte vergeben! \n",
    "\n",
    "\n",
    "# Abgabetermin: 4.12.2016 um 23:59 Uhr"
   ]
  },
  {
   "cell_type": "markdown",
   "metadata": {
    "nbgrader": {
     "grade": false,
     "grade_id": "kingkong_desc_1",
     "locked": true,
     "solution": false
    }
   },
   "source": [
    "# Aufgabe 1: King-Kong \n",
    "### a) \n",
    "Implementieren Sie eine Funktion ```king_kong(x)```, welche für eine gegebene natürliche Zahl ```x```\n",
    "- 'King' zurückgibt, falls ```x``` durch 3 teilbar ist oder die Ziffer 3 enthält\n",
    "- 'Kong' zurückgibt, falls ```x``` durch 7 teilbar ist oder die Ziffer 7 enthält\n",
    "- \"KingKong\" zurückgibt, falls ```x``` die beiden oberen Bedingungen erfüllt\n",
    "- ```x``` zurückgibt, falls keine der oberen drei Bedingungen erfüllt wurden.\n"
   ]
  },
  {
   "cell_type": "code",
   "execution_count": 50,
   "metadata": {
    "collapsed": true,
    "nbgrader": {
     "grade": false,
     "grade_id": "kingkong_sol_1",
     "locked": false,
     "solution": true
    }
   },
   "outputs": [],
   "source": [
    "def king_kong(x):\n",
    "    # Your code here\n",
    "    ### BEGIN SOLUTION\n",
    "    r = x\n",
    "    king_erfuellt = False\n",
    "    if x % 3 == 0 or '3' in str(x):\n",
    "        r = 'King'\n",
    "        king_erfuellt = True\n",
    "    if x % 7 == 0 or '7' in  str(x):\n",
    "        if king_erfuellt == True:\n",
    "            return 'KingKong'\n",
    "        return 'Kong'\n",
    "    return r\n",
    "    ### END SOLUTION"
   ]
  },
  {
   "cell_type": "code",
   "execution_count": 51,
   "metadata": {
    "collapsed": false,
    "nbgrader": {
     "grade": true,
     "grade_id": "kongkong_test_1_0",
     "locked": true,
     "points": 0,
     "solution": false
    }
   },
   "outputs": [],
   "source": [
    "assert(king_kong(1) == 1)\n",
    "assert(king_kong(2) == 2)\n",
    "assert(king_kong(3) == 'King')\n",
    "assert(king_kong(6) == 'King')\n",
    "assert(king_kong(7) == 'Kong')\n",
    "assert(king_kong(17) == 'Kong')\n",
    "assert(king_kong(28) == 'Kong')\n",
    "assert(king_kong(21) == 'KingKong')\n",
    "assert(king_kong(37) == 'KingKong')"
   ]
  },
  {
   "cell_type": "code",
   "execution_count": 52,
   "metadata": {
    "collapsed": true,
    "nbgrader": {
     "grade": true,
     "grade_id": "kingkong_test_1_1",
     "locked": true,
     "points": 1,
     "solution": false
    }
   },
   "outputs": [],
   "source": [
    "### HIDESTART\n",
    "# Teste Ausgaben für durch 3 Teilbare Zahlen:\n",
    "for i in range(1,30):\n",
    "    if i % 3 == 0 and not (i % 7 == 0 or '7' in str(i)):\n",
    "        assert(king_kong(i) == 'King')\n",
    "        \n",
    "# Teste Ausgaben für durch 7 Teilbare Zahlen:\n",
    "for i in range(1,30):\n",
    "    if i % 7 == 0 and not (i % 3 == 0 or '3' in str(i)):\n",
    "        assert(king_kong(i) == 'Kong')\n",
    "        \n",
    "# Teste Ausgaben für Zahlen die 3, 7 oder beide Ziffern enthalten:\n",
    "for i in range(1,30):\n",
    "    if (i % 3 == 0 or '3' in str(i)) and (i % 7 == 0 or '7' in str(i)):\n",
    "        assert(king_kong(i) == 'KingKong')\n",
    "        \n",
    "# Teste Zahlen, für welche kein String zurückgegeben wird:\n",
    "for i in range(1,30):\n",
    "    if not((i % 3 == 0 or '3' in str(i)) or (i % 7 == 0 or '7' in str(i))):\n",
    "        assert(king_kong(i) == i)\n",
    "### HIDEEND"
   ]
  },
  {
   "cell_type": "markdown",
   "metadata": {
    "nbgrader": {
     "grade": false,
     "grade_id": "kingkong_desc_2",
     "locked": true,
     "solution": false
    }
   },
   "source": [
    "### b) \n",
    "Implementieren Sie eine Funktion `king_kong_liste(n)`, welche für eine gegebene natürliche Zahl n eine Liste der Zahlen aus `{1...n}` zurückgibt, für welche die Funktion `king_kong` aus Teil a) eine Zahl zurückgibt.\n",
    "\n",
    "Hinweis: Achten Sie auf Start- und Endindices. Mit einer List comprehension ist das ganz leicht."
   ]
  },
  {
   "cell_type": "code",
   "execution_count": 53,
   "metadata": {
    "collapsed": false,
    "nbgrader": {
     "grade": false,
     "grade_id": "kingkong_sol_2",
     "locked": false,
     "solution": true
    }
   },
   "outputs": [],
   "source": [
    "def king_kong_liste(n):\n",
    "    # Your code here\n",
    "    ### BEGIN SOLUTION\n",
    "    return [x for x in range(1, n+1) if str(king_kong(x)).isnumeric()]\n",
    "    ### END SOLUTION"
   ]
  },
  {
   "cell_type": "code",
   "execution_count": 54,
   "metadata": {
    "collapsed": false,
    "nbgrader": {
     "grade": true,
     "grade_id": "kingkong_test_2_0",
     "locked": true,
     "solution": false
    }
   },
   "outputs": [],
   "source": [
    "assert(king_kong_liste(10) == [1,2,4,5,8,10])"
   ]
  },
  {
   "cell_type": "code",
   "execution_count": 55,
   "metadata": {
    "collapsed": false,
    "nbgrader": {
     "grade": true,
     "grade_id": "kingkong_test_2_1",
     "locked": true,
     "points": 1,
     "solution": false
    }
   },
   "outputs": [],
   "source": [
    "### HIDESTART\n",
    "assert(king_kong_liste(50) == [1, 2, 4, 5, 8, 10, 11, 16, 19, 20, 22, 25, 26, 29, 40, 41, 44, 46, 50])\n",
    "### HIDEEND"
   ]
  },
  {
   "cell_type": "markdown",
   "metadata": {
    "nbgrader": {
     "grade": false,
     "grade_id": "20",
     "locked": true,
     "solution": false
    }
   },
   "source": [
    "# Aufgabe 2: Binomialkoeffizienten\n"
   ]
  },
  {
   "cell_type": "markdown",
   "metadata": {
    "nbgrader": {
     "grade": false,
     "grade_id": "26",
     "locked": true,
     "solution": false
    }
   },
   "source": [
    "Das Pascalsche Dreieck ist eine grafische Darstellung der Binomialkoeffizienten $\\binom{n}{k}$, aus der sich eine einfache Berechnung dieser Koeffizienten ergibt. Dabei kann die Variable $n$ als Zeilenindex und $k$ als Spaltenindex interpretiert werden. Hinweis: https://de.wikipedia.org/wiki/Pascalsches_Dreieck\n",
    "\n",
    "Leiten Sie aus dem Pascalschen Dreieck ein rekursives Vorgehen ab, um Binominalkoeffizienten zu berechnen.\n",
    "Schreiben Sie eine Funktion namens ```pascal```, welche zwei ganzzahlige Parameter übergeben bekommt und die entsprechenden Koeffizienten des Pascalschen Dreiecks zurückgibt. Implementieren Sie die Funktion ```pascal``` mittels Rekursion."
   ]
  },
  {
   "cell_type": "code",
   "execution_count": 14,
   "metadata": {
    "collapsed": true,
    "nbgrader": {
     "grade": false,
     "grade_id": "27",
     "locked": false,
     "solution": true
    }
   },
   "outputs": [],
   "source": [
    "def pascal(row, col):\n",
    "### BEGIN SOLUTION        \n",
    "    \"\"\"Compute elements of Pascals triangle\n",
    "\n",
    "    Keyword arguments:\n",
    "    row -- (int) Row nr. \n",
    "    col -- (int) Column nr.\n",
    "    \n",
    "    Return:\n",
    "    int -- pascal coefficient\n",
    "    \"\"\"\n",
    "    if (col == 0 or col == row):\n",
    "        return 1\n",
    "    else:\n",
    "        return pascal(row-1,col-1) + pascal(row-1,col)\n",
    "### END SOLUTION"
   ]
  },
  {
   "cell_type": "code",
   "execution_count": null,
   "metadata": {
    "collapsed": true,
    "nbgrader": {
     "grade": true,
     "grade_id": "PD_open_test",
     "locked": true,
     "points": 1,
     "solution": false
    }
   },
   "outputs": [],
   "source": [
    "assert(pascal(0,0)==1)\n",
    "assert(pascal(1,0)==1)\n",
    "assert(pascal(1,1)==1)\n",
    "assert(pascal(10,1)==10)\n",
    "assert(pascal(10,5)==252)"
   ]
  },
  {
   "cell_type": "code",
   "execution_count": null,
   "metadata": {
    "collapsed": true,
    "nbgrader": {
     "grade": true,
     "grade_id": "PD_hidden_test",
     "locked": true,
     "points": 1,
     "solution": false
    }
   },
   "outputs": [],
   "source": [
    "### HIDESTART\n",
    "assert(pascal(5,2)==10)\n",
    "# TODO: weitere Tests einfügen \n",
    "### HIDEND"
   ]
  },
  {
   "cell_type": "code",
   "execution_count": null,
   "metadata": {
    "collapsed": true,
    "nbgrader": {
     "grade": false,
     "grade_id": "PD_hidden_test_2",
     "locked": false,
     "solution": true
    }
   },
   "outputs": [],
   "source": [
    "### HIDESTART\n",
    "assert(pascal.__doc__!=None)\n",
    "# TODO: weitere Tests einfügen \n",
    "### HIDEND"
   ]
  },
  {
   "cell_type": "markdown",
   "metadata": {
    "nbgrader": {
     "grade": false,
     "grade_id": "28",
     "locked": true,
     "points": 1,
     "solution": false
    }
   },
   "source": [
    "##  c) \n",
    "Schreiben Sie eine Funktion ```pd_print```, die die ersten n Reihen des pascalschen Dreiecks in folgenderm Format ausgibt:\n",
    "```\n",
    "     1 \n",
    "    1 1 \n",
    "   1 2 1 \n",
    "  1 3 3 1 \n",
    " 1 4 6 4 1 \n",
    " ```"
   ]
  },
  {
   "cell_type": "code",
   "execution_count": 15,
   "metadata": {
    "collapsed": false,
    "nbgrader": {
     "grade": true,
     "grade_id": "29",
     "locked": false,
     "points": 1,
     "solution": true
    },
    "scrolled": true
   },
   "outputs": [
    {
     "name": "stdout",
     "output_type": "stream",
     "text": [
      "    1 \n",
      "   1 1 \n",
      "  1 2 1 \n",
      " 1 3 3 1 \n",
      "1 4 6 4 1 \n"
     ]
    }
   ],
   "source": [
    "def pd_print(n):\n",
    "### BEGIN SOLUTION\n",
    "\"\"\"Print elements of Pascal-triangle\n",
    "\n",
    "    Keyword arguments:\n",
    "    n -- (int) nr. of rows\n",
    "    \n",
    "    Return:\n",
    "    None\n",
    "    \"\"\"\n",
    "    for i in range(0,n):\n",
    "        print(\" \"*(n-i-1),end=\"\")\n",
    "        for j in range(0,i+1):\n",
    "            print(pascal(i,j),end=\" \")\n",
    "        print(\"\\n\",end=\"\")\n",
    "### END SOLUTION"
   ]
  },
  {
   "cell_type": "code",
   "execution_count": null,
   "metadata": {
    "collapsed": true,
    "nbgrader": {
     "grade": true,
     "grade_id": "30",
     "locked": true,
     "solution": false
    }
   },
   "outputs": [],
   "source": [
    "### HIDESTART\n",
    "assert(pd_print.__doc__!=None)\n",
    "# TODO: weitere Tests einfügen \n",
    "### HIDEND"
   ]
  },
  {
   "cell_type": "markdown",
   "metadata": {
    "nbgrader": {
     "grade": false,
     "grade_id": "collatz_desc_1",
     "locked": true,
     "solution": false
    }
   },
   "source": [
    "# Aufgabe 3: Folgen implementieren\n",
    "\n",
    "### a)\n",
    "Schreiben Sie eine Funktion `berechne_folge(n)`, welche für eine gegebene natürliche Zahl `n` eine Liste mit den einzelnen Elemenenten der Folge ausgibt. Die einzelnen Elemente berechnen sich wie folgt:\n",
    "\n",
    "1. Beginne mit irgendeiner natürlichen Zahl n > 0.\n",
    "2. Ist n gerade, so nimm als nächstes n/2.\n",
    "3. Ist n ungerade, so nimm als nächstes 3n + 1.\n",
    "4. Wiederhole die Vorgehensweise mit der erhaltenen Zahl.\n",
    "\n",
    "Der Algorithmus soll abbrechen, sobald eine 1 zu den Elementen der Folge hinzugefügt wurde.\n"
   ]
  },
  {
   "cell_type": "code",
   "execution_count": 4,
   "metadata": {
    "collapsed": true,
    "nbgrader": {
     "grade": false,
     "grade_id": "collatz_sol_1",
     "locked": false,
     "solution": true
    }
   },
   "outputs": [],
   "source": [
    "def berechne_folge(n):\n",
    "    # Your code here\n",
    "    ### BEGIN SOLUTION\n",
    "    L = []\n",
    "    while(True):\n",
    "        L.append(n)\n",
    "        if n == 1:\n",
    "            return L\n",
    "        if n % 2 == 0:\n",
    "            n = n//2\n",
    "        else:\n",
    "            n = 3*n+1\n",
    "    ### END SOLUTION"
   ]
  },
  {
   "cell_type": "code",
   "execution_count": 6,
   "metadata": {
    "collapsed": false,
    "nbgrader": {
     "grade": true,
     "grade_id": "collatz_test_1",
     "locked": true,
     "points": 2,
     "solution": false
    }
   },
   "outputs": [],
   "source": [
    "assert(berechne_folge(19) == [19, 58, 29, 88, 44, 22, 11, 34, 17, 52, 26, 13, 40, 20, 10, 5, 16, 8, 4, 2, 1])\n",
    "assert(berechne_folge(15) == [15, 46, 23, 70, 35, 106, 53, 160, 80, 40, 20, 10, 5, 16, 8, 4, 2, 1])\n",
    "### HIDESTART\n",
    "assert(berechne_folge(7) == [7, 22, 11, 34, 17, 52, 26, 13, 40, 20, 10, 5, 16, 8, 4, 2, 1])\n",
    "assert(berechne_folge(6) == [6, 3, 10, 5, 16, 8, 4, 2, 1])\n",
    "assert(berechne_folge(5) == [5, 16, 8, 4, 2, 1])\n",
    "### HIDEEND"
   ]
  },
  {
   "cell_type": "markdown",
   "metadata": {
    "nbgrader": {
     "grade": false,
     "grade_id": "collatz_desc_2",
     "locked": true,
     "solution": false
    }
   },
   "source": [
    "###  b)\n",
    "Begründen Sie, warum Sie in Ihrer Implementierung eine while- oder eine for-Schleife benutzt haben."
   ]
  },
  {
   "cell_type": "markdown",
   "metadata": {
    "nbgrader": {
     "grade": true,
     "grade_id": "collatz_sol_2",
     "locked": false,
     "points": 1,
     "solution": true
    }
   },
   "source": [
    "- While-Schleife: Anzahl der Elemente der Folge ist nicht von vorneherein klar, daher bietet sich die While-Schleife an\n",
    "- for-Schleife: Macht hier keinen Sinn"
   ]
  },
  {
   "cell_type": "markdown",
   "metadata": {
    "nbgrader": {
     "grade": false,
     "grade_id": "matrixmult_desc",
     "locked": true,
     "solution": false
    }
   },
   "source": [
    "# Aufgabe 4\n",
    "Schreiben Sie eine Funktion `matrix_mult(X,Y)`, welche zwei gegebene Matrizen `X` und `Y` multipliziert und die Ergebnismatrix zurückgibt.\n",
    "Falls die Dimesionen der Matzrizen nicht korrekt sind, so soll `None` zurückgegeben werden.\n",
    "Die Darstellung der Eingabematrizen läßt sich an den Tests ablesen.\n",
    "Sie dürfen annehmen, dass die Dimension der Matrizen immer größer als 0 ist."
   ]
  },
  {
   "cell_type": "code",
   "execution_count": 64,
   "metadata": {
    "collapsed": false,
    "nbgrader": {
     "grade": false,
     "grade_id": "matrixmult_sol",
     "locked": false,
     "solution": true
    }
   },
   "outputs": [],
   "source": [
    "def matrix_mult(X,Y):\n",
    "    # Your code here\n",
    "    ### BEGIN SOLUTION\n",
    "    # Teste Dimension:\n",
    "    if len(X) != len(Y[0]):\n",
    "        return None\n",
    "    \n",
    "    C = [[0 for col in range(len(Y[0]))] for row in range(len(X))]\n",
    "    for i in range(len(X)):\n",
    "        for j in range(len(Y[0])):\n",
    "            for k in range(len(Y)):\n",
    "                C[i][j] += X[i][k]*Y[k][j]\n",
    "    return C\n",
    "    ### END SOLUTION"
   ]
  },
  {
   "cell_type": "code",
   "execution_count": 66,
   "metadata": {
    "collapsed": false,
    "nbgrader": {
     "grade": true,
     "grade_id": "matrixmult_test",
     "locked": true,
     "points": 3,
     "solution": false
    }
   },
   "outputs": [],
   "source": [
    "X = [[12,7,3], [4,5,6], [7,8,9]]\n",
    "Y = [[5,8,1], [6,7,3], [4,5,9]]\n",
    "r = matrix_mult(X,Y)\n",
    "assert(r == [[114, 160, 60], [74, 97, 73], [119, 157, 112]])\n",
    "\n",
    "# Falsche Dimension:\n",
    "X = [[12,7,3], [4,5,6], [7,8,9]]\n",
    "Y = [[5,8], [6,7], [4,5]]\n",
    "assert(matrix_mult(X,Y) == None)\n",
    "\n",
    "### HIDESTART\n",
    "X = [[1,2,3], [4 ,5,3], [1 ,8,6]]\n",
    "Y = [[5,4,1], [6,2,3], [4,1,3]]\n",
    "r = matrix_mult(X,Y)\n",
    "assert(r == [[29, 11, 16], [62, 29, 28], [77, 26, 43]])\n",
    "### HIDEEND"
   ]
  },
  {
   "cell_type": "markdown",
   "metadata": {
    "nbgrader": {
     "grade": false,
     "grade_id": "zipa1",
     "locked": true,
     "solution": false
    }
   },
   "source": [
    "# Aufgabe 5\n",
    "Der Dozent einer Programmiervorlesung nutzt ein tolles neues Tool, um die Lösungen seiner Studierenden möglichst komfortabel bewerten zu können.\n",
    "Leider erhält er von diesem Tool jedoch zwei getrennte Listen mit Matrikelnummern und Punkten, wie die folgenden:\n",
    "\n",
    "```Python\n",
    "matrikel = [12345, 12531, 18034, 17824]\n",
    "punkte = [19, 13, 0, 20]\n",
    "```\n",
    "\n",
    "Dabei bezieht sich der erste Eintrag in der Liste \"Punkte\" auf die erste Matrikelnummer, usw.\n",
    "Praktischer wäre es jedoch, ein ```dict``` zu haben, welches Matrikelnummern auf Puntke abbildet, z. B. so:\n",
    "\n",
    "```Python\n",
    "matrikel_punkte = {12345: 19, 12531: 13, 18034: 0, 17824: 20}\n",
    "```\n",
    "\n",
    "## a) \n",
    "\n",
    "Schreiben Sie eine Funktion namens ```verknuepfe(l1, l2)```, an die zwei Listen als Parameter übergeben werden  und die die Verknüpfung dieser beiden Listen als Liste von Tuplen zurückgibt (so wie ```matrikel_punkte``` eine Verknüpfung der Listen ```matrikel``` und ```punkte``` ist).\n",
    "\n",
    "Hinweis: Verwenden Sie hierzu u. a. die Funktion zip(), https://docs.python.org/3/library/functions.html#zip"
   ]
  },
  {
   "cell_type": "code",
   "execution_count": 2,
   "metadata": {
    "collapsed": true,
    "nbgrader": {
     "grade": false,
     "grade_id": "zipa2",
     "locked": false,
     "solution": true
    }
   },
   "outputs": [],
   "source": [
    "def verknuepfe(l1, l2):\n",
    "    return dict(list(zip(l1, l2)))"
   ]
  },
  {
   "cell_type": "code",
   "execution_count": 4,
   "metadata": {
    "collapsed": false,
    "nbgrader": {
     "grade": true,
     "grade_id": "zipa3",
     "locked": true,
     "points": 1,
     "solution": false
    }
   },
   "outputs": [],
   "source": [
    "matrikel = [12345, 12531, 18034, 17824]\n",
    "punkte = [19, 13, 0, 20]\n",
    "matrikel_punkte = {12345: 19, 12531: 13, 18034: 0, 17824: 20}\n",
    "assert(matrikel_punkte == verknuepfe(matrikel,punkte))\n",
    "\n",
    "### HIDESTART\n",
    "assert({} == verknuepfe([], []))\n",
    "### HIDEEND"
   ]
  },
  {
   "cell_type": "markdown",
   "metadata": {
    "nbgrader": {
     "grade": false,
     "grade_id": "zipb1",
     "locked": true,
     "solution": false
    }
   },
   "source": [
    "## b) \n",
    "Leider stellt sich nach der Bewertung des dritten Übungsblattes heraus, dass das Bewertungs-Tool einen merkwürdigen Fehler hat:\n",
    "Befindet sich am Ende der Liste ```matrikel``` eine Folge von Matrikelnummern, deren zugehörige Studierende alle null Punkte erreicht haben, so tauchen diese in der Liste ```punkte``` nicht auf.\n",
    "Die liste ```punkte``` ist dann also kürzer als ```matrikel```.\n",
    "\n",
    "Beispiel:\n",
    "```Python\n",
    "matrikel = [12345, 12531, 18034, 17824, 12635]\n",
    "punkte = [6, 0, 3]\n",
    "```\n",
    "\n",
    "anstelle von:\n",
    "```Python\n",
    "punkte = [6, 0, 3, 0, 0]\n",
    "```\n",
    "\n",
    "Wie würde Ihre Funktion damit umgehen, dass die Längen der beiden Listen nicht übereinstimmen?"
   ]
  },
  {
   "cell_type": "markdown",
   "metadata": {
    "nbgrader": {
     "grade": true,
     "grade_id": "zipb2",
     "locked": false,
     "points": 1,
     "solution": true
    }
   },
   "source": [
    "Die betroffenen Matrikelnummern am Ende der Liste würden einfach nicht auftauchen."
   ]
  },
  {
   "cell_type": "markdown",
   "metadata": {
    "nbgrader": {
     "grade": false,
     "grade_id": "zipb3",
     "locked": true,
     "solution": false
    }
   },
   "source": [
    "## c) \n",
    "Schreiben Sie eine Funktion namens ```verknuepfe_besser(l1, l2)```, welche Ihre Funktion aus a) so erweitert, dass auch bei einer Eingabe wie in Teilaufgabe b) beschrieben, alle Matrikelnummern im zurückgegebenen ```dict``` auftauchen (mit den richtigen erzielten Punkten)."
   ]
  },
  {
   "cell_type": "code",
   "execution_count": 11,
   "metadata": {
    "collapsed": true,
    "nbgrader": {
     "grade": false,
     "grade_id": "zipb4",
     "locked": false,
     "solution": true
    }
   },
   "outputs": [],
   "source": [
    "def verknuepfe_besser(l1, l2):\n",
    "    return dict(list(zip(l1, l2 + [0] * (len(l1)-len(l2)))))"
   ]
  },
  {
   "cell_type": "code",
   "execution_count": 14,
   "metadata": {
    "collapsed": false,
    "nbgrader": {
     "grade": true,
     "grade_id": "zipb5",
     "locked": true,
     "points": 1,
     "solution": false
    }
   },
   "outputs": [],
   "source": [
    "matrikel = [12345, 12531, 18034, 17824, 12635]\n",
    "punkte = [6, 0, 3]\n",
    "matrikel_punkte = {17824: 0, 12345: 6, 18034: 3, 12531: 0, 12635: 0}\n",
    "assert(matrikel_punkte == verknuepfe_besser(matrikel,punkte))\n",
    "\n",
    "#TODO: hidden asserts"
   ]
  },
  {
   "cell_type": "markdown",
   "metadata": {
    "nbgrader": {
     "grade": false,
     "grade_id": "zipc1",
     "locked": true,
     "solution": false
    }
   },
   "source": [
    "## d) \n",
    "Nach Veröffentlichung der Ergebnisse stellte sich heraus, dass einige Nachkorrekturen nötig waren. \n",
    "Der Dozent möchte die korrigierten Ergebnisse nun wieder in das Tool geben.\n",
    "Leider muss man dem Tool dazu wieder zwei Listen von der Form wie ```matrikel``` und ```punkte``` aus Teilaufgabe a) übergeben.\n",
    "Ihm liegen die korrigierten Ergebnisse jedoch nur in der Form wie ```matrikel_punkte``` vor.\n",
    "\n",
    "Schreiben Sie eine Funktion namens ```entknuepfe(l)```, welche ein solches ```dict``` übergeben bekommt und ein Paar (also 2-Tupel) der gewünschten Listen zurückgibt.\n",
    "\n",
    "Verwenden Sie hierzu abermals die Funktion zip().\n",
    "\n",
    "Hinweis: Sie müssen hier keine Sonderfälle (leeres ```dict``` o.ä.) beachten."
   ]
  },
  {
   "cell_type": "code",
   "execution_count": 5,
   "metadata": {
    "collapsed": false,
    "nbgrader": {
     "grade": false,
     "grade_id": "zipc2",
     "locked": false,
     "points": 0,
     "solution": true
    }
   },
   "outputs": [],
   "source": [
    "def entknuepfe(l):\n",
    "### BEGIN SOLUTION\n",
    "    entknuepft_als_liste_von_tuples = list(zip(*l.items()))\n",
    "    l1 = list(entknuepft_als_liste_von_tuples[0])\n",
    "    l2 = list(entknuepft_als_liste_von_tuples[1])\n",
    "    \n",
    "    return (l1, l2)\n",
    "### END SOLUTION"
   ]
  },
  {
   "cell_type": "code",
   "execution_count": 6,
   "metadata": {
    "collapsed": false,
    "nbgrader": {
     "grade": true,
     "grade_id": "zipc3",
     "locked": true,
     "points": 1,
     "solution": false
    }
   },
   "outputs": [],
   "source": [
    "matrikel_punkte = {12345: 19, 12531: 13, 18034: 0, 17824: 20}\n",
    "\n",
    "matrikel_punkte_entknuepft = entknuepfe(matrikel_punkte)\n",
    "\n",
    "matrikel = matrikel_punkte_entknuepft[0]\n",
    "punkte = matrikel_punkte_entknuepft[1]\n",
    "\n",
    "for i in range(len(matrikel)):\n",
    "    assert(punkte[i] == matrikel_punkte[matrikel[i]])\n",
    "\n",
    "### HIDESTART\n",
    " # Hier wuesste ich jetzt keinen guten hidden test...\n",
    "### HIDEEND"
   ]
  },
  {
   "cell_type": "markdown",
   "metadata": {
    "nbgrader": {
     "grade": false,
     "grade_id": "comprehension_desc",
     "locked": true,
     "solution": false
    }
   },
   "source": [
    "# Aufgabe 6: Äquivalenz von Code\n",
    "### a)\n",
    "Gegeben sind die folgenden beiden Codefragmente:\n",
    "\n",
    "```Python\n",
    "L = [1, 2, 3, 4, 5]\n",
    "for i in range(len(L)):\n",
    "    L[i] += 1\n",
    "print(L)\n",
    "```\n",
    "\n",
    "und \n",
    "```Python\n",
    "L = [1, 2, 3, 4, 5]\n",
    "L = [x+1 for x in L]\n",
    "print(L)\n",
    "```\n",
    "Finden Sie Situationen, wo diese beiden Code-Abschnitte *nicht* den gleichen Effekt haben.\n",
    "Hinweis: Was ist, wenn es andere Namen für die ursprünliche Liste gibt?"
   ]
  },
  {
   "cell_type": "markdown",
   "metadata": {
    "nbgrader": {
     "grade": true,
     "grade_id": "comprehension_sol",
     "locked": false,
     "points": 1,
     "solution": true
    }
   },
   "source": [
    "Die folgenden beiden Codefragmente sind nicht äquivalent:\n",
    "\n",
    "```Python\n",
    "L = [1, 2, 3, 4, 5]\n",
    "T = L\n",
    "for i in range(len(L)):\n",
    "    L[i] += 1\n",
    "print(T) # Gibt [2, 3, 4, 5, 6] aus\n",
    "```\n",
    "\n",
    "```Python\n",
    "L = [1, 2, 3, 4, 5]\n",
    "T = L\n",
    "L = [x+1 for x in L]\n",
    "print(T) # Gibt [1, 2, 3, 4, 5] aus\n",
    "```\n"
   ]
  },
  {
   "cell_type": "markdown",
   "metadata": {
    "nbgrader": {
     "grade": false,
     "grade_id": "schnitt_desc",
     "locked": true,
     "solution": false
    }
   },
   "source": [
    "### b) \n",
    "Gegeben ist die folgende Funktion `schnitt(s1, s2)`, welche die Schnittmenge zweier Strings `s1` und `s2` berechnen sollen.\n",
    "\n",
    "```Python\n",
    "def schnitt(s1,s2):\n",
    "    return [x for x in s1 if x in s2]\n",
    "```\n",
    "\n",
    "Gegeben sind nun zwei beliebige Strings `s1` und `s2`. Überlegen Sie sich, ob die Aufrufe `schnitt(s1,s2)` und `schnitt(s2,s1)` äquivalent sind. Begründen Sie Ihre Antwort."
   ]
  },
  {
   "cell_type": "markdown",
   "metadata": {
    "nbgrader": {
     "grade": true,
     "grade_id": "schnitt_sol",
     "locked": false,
     "points": 1,
     "solution": true
    }
   },
   "source": [
    "Die Aufrufe sind nicht äquivalent, wie das folgende Beispiel zeigt.\n",
    "```Python\n",
    "def schnitt(s1,s2):\n",
    "    return [x for x in s1 if x in s2]\n",
    "\n",
    "s1 = 'aaabbb'\n",
    "s2 = 'aabb'\n",
    "\n",
    "print(schnitt(s1,s2)) # Gibt ['a', 'a', 'a', 'b', 'b', 'b'] aus\n",
    "print(schnitt(s2,s1)) # Gibt ['a', 'a', 'b', 'b'] aus\n",
    "```\n",
    "\n",
    "Im ersten Aufruf wird für jedes `a` in `s1` überprüft, ob sich `a` in `s2` befindet.\n",
    "Da dies der Fall ist, enthält die resultierende Liste 3 mal `'a'`.\n",
    "Im zweiten Aufruf wird lediglich für zwei `'a'`s überprüft, ob sich `a` in `s1` befindet, wodurch die Ergebnisliste nur zwei mal `'a'` enthält."
   ]
  },
  {
   "cell_type": "markdown",
   "metadata": {
    "nbgrader": {
     "grade": false,
     "grade_id": "ifa1",
     "locked": true,
     "solution": false
    }
   },
   "source": [
    "# Aufgabe 7\n",
    "\n",
    "Neben der *Anweisung*\n",
    "```Python\n",
    "if BEDINGUNG:\n",
    "    Block1\n",
    "else:\n",
    "    Block2\n",
    "```\n",
    "\n",
    "kennt Python einen *Ausdruck*:\n",
    "```Python\n",
    "a if BEDINGUNG else b\n",
    "```\n",
    "\n",
    "Sie können Details hier nachlesen: https://docs.python.org/3/reference/expressions.html#conditional-expressions und https://www.python.org/dev/peps/pep-0308/ \n",
    "(Tutorial z.B. hier: \n",
    "http://pythoncentral.io/one-line-if-statement-in-python-ternary-conditional-operator/\n",
    ")\n",
    "\n",
    "## a) \n",
    "Setzen Sie ```Block1```, ```Block2``` und ```a```, ```b``` zueinander in Bezug - was entspricht was?"
   ]
  },
  {
   "cell_type": "code",
   "execution_count": null,
   "metadata": {
    "collapsed": true,
    "nbgrader": {
     "grade": true,
     "grade_id": "ifa2",
     "locked": false,
     "points": 1,
     "solution": true
    }
   },
   "outputs": [],
   "source": [
    "Block1 entspricht a, Block2 entspricht b."
   ]
  },
  {
   "cell_type": "markdown",
   "metadata": {
    "nbgrader": {
     "grade": false,
     "grade_id": "ifb1",
     "locked": true,
     "solution": false
    }
   },
   "source": [
    "## b) \n",
    "Sind ```a``` und  ```b``` Ausdrücke oder Blöcke?"
   ]
  },
  {
   "cell_type": "markdown",
   "metadata": {
    "nbgrader": {
     "grade": true,
     "grade_id": "ifb2",
     "locked": false,
     "points": 1,
     "solution": true
    }
   },
   "source": [
    "Es handelt sich hierbei um Ausdrücke (je nachdem, welcher Fall gilt, wird das Ergebnis des Gesamt-Ausdrucks einer dieser Ausdrücke)."
   ]
  },
  {
   "cell_type": "markdown",
   "metadata": {
    "nbgrader": {
     "grade": false,
     "grade_id": "schleifena1",
     "locked": true,
     "solution": false
    }
   },
   "source": [
    "# Aufgabe 8\n",
    "\n",
    "Angenommen, Sie haben zwei geschachtelte Schleifen. \n",
    "In der inneren Schleife führen Sie ein ```continue``` durch. \n",
    "Geben Sie ein Code-Beispiel an, aus dem ersichtlich wird, ob nur die innere oder auch die äußere Schleife beeinflusst wird."
   ]
  },
  {
   "cell_type": "code",
   "execution_count": 12,
   "metadata": {
    "collapsed": false,
    "nbgrader": {
     "grade": true,
     "grade_id": "schleifena2",
     "locked": false,
     "points": 1,
     "solution": true
    }
   },
   "outputs": [
    {
     "name": "stdout",
     "output_type": "stream",
     "text": [
      "i: 0\n",
      "j: 0\n",
      "j: 1\n",
      "j: 2\n",
      "i after: 0\n",
      "i: 1\n",
      "j: 0\n",
      "j: 1\n",
      "j: 2\n",
      "i after: 1\n"
     ]
    }
   ],
   "source": [
    "for i in range(2):\n",
    "    print('i:', i)    \n",
    "    for j in range(100):\n",
    "        if j >= 3:\n",
    "            continue        \n",
    "        print('j:', j)\n",
    "    print('i after:', i)"
   ]
  }
 ],
 "metadata": {
  "anaconda-cloud": {},
  "celltoolbar": "Create Assignment",
  "kernelspec": {
   "display_name": "Python 3",
   "language": "python",
   "name": "python3"
  },
  "language_info": {
   "codemirror_mode": {
    "name": "ipython",
    "version": 3
   },
   "file_extension": ".py",
   "mimetype": "text/x-python",
   "name": "python",
   "nbconvert_exporter": "python",
   "pygments_lexer": "ipython3",
   "version": "3.4.2"
  }
 },
 "nbformat": 4,
 "nbformat_minor": 1
}
