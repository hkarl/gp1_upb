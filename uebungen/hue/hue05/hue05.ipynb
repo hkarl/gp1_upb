Kapitel 7: globale Variabeln, Scopes
* Parameter Übergabe
- Variable Anzahl an Positionsparametern
- Formale Parameter mit vorbelegten Werten (default)
- Argument bei Aufruf benennen
- dict als Schlüssel-/Wert-Paare übergeben
- dict, optionale Schlüsseln

* Funktionen rufen Funktionen auf
- Welche Variablen sind sichtbar?
- Ausführungsmodell
- Variablen und Sichbarkeit innerhalb und ausßerhalb der Funktion
- Scope durch Zuweisung
- Sichtbarkeit von Variablen zwischen zwei Funktionen
- Disjunkte local scopes
- Modifizierende Nutzung globaler Variablen
- Modifikation einer globalen Variable
- Wechselseitiger Aufruf von Funktionen: Scopes, Namensräume, Terminierung

* Rekursion
- Rekursion und Namensraum
- Direkte Rekursion: z.B. Fakultät
- Scope und Namensraum
- Rekursion - Entwurf: wie entwirft man rekursive Algorithmen?
- (Übungsbeispiel: finde den Weg in einem Labyrinth)
- Funktionen und Software-Entwurf
- Funktionen: Coupling, Kohesion, Größe

Kapitel 8: Klassen und Objekte
- Klassen, Instanz, Anlegen der Klasse, Instantiieren des Objekts: 
	- Anlegen des ersten Attributes
	- Alle Attribute erzeugt, Konstruktor unmittelbar vor Ende
	- Nach Ende Des Konstruktors
	- Nach Ende des Konstruktors, kompakte Darstellung
- Attribute der Klasse
	- Methoden und docstring
	- Erweiterung des Attribute-dict um weitere Namen/Werte
	- Statische vs. dynamische Attribute: Anlegen der Klasse
	- Statische vs. Objektattribute
- Eine Stack-Klasse als UML-Diagramm
- Ein binärer Suchbaum
- Suchbaum und Knoten als UML Diagramm
- Einfügen in einen binären Suchbaum
- Beggriffsüberblick der wesentlichen Beggriff zu Klassen

Keywords bis jetzt: 
True, False, and, or, def, return, None
in
if, else, pass, elif, while, for, break, continue, assert
global
class




Kapitel 8: Daten  und Funktionen



