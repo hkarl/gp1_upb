{
 "cells": [
  {
   "cell_type": "markdown",
   "metadata": {
    "nbgrader": {
     "grade": true,
     "grade_id": "matrikel",
     "locked": false,
     "points": 0,
     "solution": true
    }
   },
   "source": []
  },
  {
   "cell_type": "markdown",
   "metadata": {
    "nbgrader": {
     "grade": false,
     "grade_id": "matrikel_info",
     "locked": true,
     "solution": false
    }
   },
   "source": [
    "Bitte tragen Sie Ihre Matrikelnummern und E-Mail-Adressen *zeilenweise* in die Zelle *oberhalb* dieser Zelle ein.\n",
    "Beachten Sie: Die Abgabe muss mit Ihrem *Gruppenaccount* erfolgen, den Sie in der Präsenzübung erhalten haben! Abgaben, die über Ihren Einzelaccount erfolgen, werden ignoriert. \n",
    "Achten Sie dabei streng auf die Formatierung, denn die Auswertung erfolgt automatisch. \n",
    "Benutzen Sie *keine* Leerzeilen.\n",
    "Nur zwischen Matrikelnummer und E-Mail-Adresse darf ein Leerzeichen stehen.\n",
    "\n",
    "Format:\n",
    "\n",
    "MatrikelNummer E-Mail-Adresse\n",
    "\n",
    "z.B.:\n",
    "\n",
    "123456 testStudent@mail.upb.de\n",
    "\n",
    "### Abgabetermin: 27.11.2016 um 23:59 Uhr\n",
    "### Wichtig: Geben Sie Ihre Lösung in der vom Server erhaltenen Datei hue04.ipynb ab (nicht umbenennen, keine Kopie erstellen!). Sonst kann eine Bewertung nicht stattfinden.\n",
    "\n",
    "Bitte entfernen Sie auch die Zeilen mit Inhalt \"raise NotImplementedError()\" aus den Zellen, in die Sie Ihre Lösungen schreiben.\n",
    "\n",
    "Fügen Sie keine Zellen hinzu und löschen Sie keine Zellen.\n",
    "Ändern Sie nicht den Typ einer Zelle.\n",
    "Geben Sie Lösungen nur in den Lösungszellen ab (Änderungen in den anderen Zellen werden nach Abgabe automatisch rückgängig gemacht)."
   ]
  },
  {
   "cell_type": "markdown",
   "metadata": {
    "nbgrader": {
     "grade": false,
     "grade_id": "1",
     "locked": true,
     "solution": false
    }
   },
   "source": [
    "## Aufgabe 1: Round-off\n",
    "\n",
    "(2 Punkte) Erklären Sie kurz, was das folgende Programm tut und führen Sie es aus. \n",
    "Eigentlich sollte ```r``` nach der Programmablauf immer noch gleich 4.0 sein, ist es aber nicht. \n",
    "Ab welchem Wert von ```n``` wird ```r=1.0```?\n",
    "Geben Sie ```r``` in beiden Schleifen aus. \n",
    "Erklären Sie anhand dieser Ausgaben, warum ```r``` am Ende gleich 1.0 ist und woran dies liegt.\n",
    "\n",
    "\n",
    "```Python\n",
    "for n in range(1, 60):\n",
    "    r = 4.0\n",
    "    for i in range(n):\n",
    "        r = r**0.5\n",
    "    for i in range(n):\n",
    "        r = r**2\n",
    "    print(n,r)\n",
    "```\n"
   ]
  },
  {
   "cell_type": "markdown",
   "metadata": {
    "collapsed": true,
    "nbgrader": {
     "grade": true,
     "grade_id": "2",
     "locked": false,
     "solution": true
    }
   },
   "source": [
    "### BEGIN SOLUTION \n",
    "Ab n=53 wird r = 1.0. Das passiert wegen Abrundungsfehlern.\n",
    "\n",
    "Aufgrund der endlichen Mantisse in der Gleitkommadarstellung lassen sich Zahlen auf einem Computer nicht beliebig genau darstellen. Es muss gerundet werden und die Rundungsfehler vergrössern sich nach jeder Wurzel- und Potenzberechnung.\n",
    "### END SOLUTION "
   ]
  },
  {
   "cell_type": "markdown",
   "metadata": {
    "nbgrader": {
     "grade": false,
     "grade_id": "3000",
     "locked": true,
     "solution": false
    }
   },
   "source": [
    "## Aufgabe 2: Listen\n",
    "\n",
    "a) (1 Punkt) Führen Sie das folgende Programm aus: \n",
    "\n",
    "```Python\n",
    "a = [1,2,3,4]\n",
    "c = a\n",
    "a[0] = 0\n",
    "print(c)\n",
    "```\n",
    "Warum hat die Liste ```c``` am Ende den gleichen Inhalt wie ```a```? Begründen Sie kurz."
   ]
  },
  {
   "cell_type": "markdown",
   "metadata": {
    "nbgrader": {
     "grade": true,
     "grade_id": "30001",
     "locked": false,
     "points": 1,
     "solution": true
    }
   },
   "source": []
  },
  {
   "cell_type": "markdown",
   "metadata": {
    "nbgrader": {
     "grade": false,
     "grade_id": "3001",
     "locked": true,
     "solution": false
    }
   },
   "source": [
    "b) (1 Punkt) Führen Sie das folgende Programm aus: \n",
    "\n",
    "```Python\n",
    "def list_return(lst):\n",
    "    return lst  \n",
    "\n",
    "a = [1, 2, 3, 4]\n",
    "b = list_return(a)\n",
    "a[0] = 0\n",
    "print(a,b)\n",
    "```\n",
    "\n",
    "Obwohl die Variable ```b``` von der Funktion ```list_return``` initialisiert wurde, hat sie den gleichen Inhalt wie die modifizierte Liste ```a```. Begründen Sie kurz."
   ]
  },
  {
   "cell_type": "markdown",
   "metadata": {
    "nbgrader": {
     "grade": true,
     "grade_id": "30011",
     "locked": false,
     "points": 1,
     "solution": true
    }
   },
   "source": []
  },
  {
   "cell_type": "markdown",
   "metadata": {
    "nbgrader": {
     "grade": false,
     "grade_id": "3002",
     "locked": true,
     "solution": false
    }
   },
   "source": [
    "c) (1 Punkt) Führen Sie das folgende Programm aus:\n",
    "\n",
    "```Python\n",
    "def list_return(lst):\n",
    "    return lst  \n",
    "    \n",
    "a = [1, 2, 3, 4]\n",
    "b = list_return(a[:])\n",
    "a[0] = 0\n",
    "print(a,b)\n",
    "print(a is b)\n",
    "print(a == b) \n",
    "```\n",
    "Warum wird jetzt der Inhalt von ```b``` nicht durch die Modifizierung der Liste ```a``` geändert? "
   ]
  },
  {
   "cell_type": "markdown",
   "metadata": {
    "nbgrader": {
     "grade": true,
     "grade_id": "30021",
     "locked": false,
     "points": 1,
     "solution": true
    }
   },
   "source": []
  },
  {
   "cell_type": "markdown",
   "metadata": {
    "nbgrader": {
     "grade": false,
     "grade_id": "3000099",
     "locked": true,
     "solution": false
    }
   },
   "source": [
    "d) Führen Sie das folgende Programm aus: \n",
    "\n",
    "```Python\n",
    "def list_return(lst):\n",
    "    return lst \n",
    "    \n",
    "def list_modify(lst):\n",
    "    lst = lst*2\n",
    "    return lst\n",
    "    \n",
    "a = [1, 2, 3]\n",
    "b = list_return(a)\n",
    "print(a,b)\n",
    "print(b is a) \n",
    "print(b == a)\n",
    "\n",
    "c = list_return(a[:])\n",
    "print(a,c)\n",
    "print(c is a)\n",
    "print(c == a)\n",
    "\n",
    "d = list_modify(a)\n",
    "print(a is d)\n",
    "```\n",
    "\n",
    "Obwohl die Variablen ```c``` und ```a``` den gleichen Inhalt haben, ist die Bewertung ```c is a``` gleich Falsch. Woran liegt das? Begründen Sie kurz. Was liefern die Operatoren ```is``` und ```==``` ?"
   ]
  },
  {
   "cell_type": "markdown",
   "metadata": {
    "nbgrader": {
     "grade": true,
     "grade_id": "300009999",
     "locked": false,
     "points": 1,
     "solution": true
    }
   },
   "source": []
  },
  {
   "cell_type": "markdown",
   "metadata": {
    "nbgrader": {
     "grade": false,
     "grade_id": "3003",
     "locked": true,
     "solution": false
    }
   },
   "source": [
    "e) (1 Punkt) Schreiben Sie eine neue Funktion namens ```list_copy_shallow```, welche eine Liste übergeben bekommt und eine *flache* Kopie dieser Liste zurückgibt (siehe zum Unterschied von flacher und tiefer Kopie einer Liste Kapitel 5 der VL-Unterlagen).\n",
    "\n",
    "Nutzen Sie dazu keine vordefinierte Copy-Funktionalität von Listen."
   ]
  },
  {
   "cell_type": "code",
   "execution_count": null,
   "metadata": {
    "collapsed": true,
    "nbgrader": {
     "grade": false,
     "grade_id": "30031",
     "locked": false,
     "solution": true
    }
   },
   "outputs": [],
   "source": [
    "### BEGIN SOLUTION \n",
    "def list_copy_shallow(lst):\n",
    "    return lst[:]  \n",
    "### END SOLUTION "
   ]
  },
  {
   "cell_type": "code",
   "execution_count": null,
   "metadata": {
    "collapsed": false,
    "nbgrader": {
     "grade": true,
     "grade_id": "30032",
     "locked": true,
     "points": 1,
     "solution": false
    }
   },
   "outputs": [],
   "source": [
    "a = [1, 2, 3, 4]\n",
    "b = list_copy_shallow(a)\n",
    "b[0] = 2\n",
    "assert(a != b)\n",
    "\n",
    "### HIDESTART\n",
    "c = [ [1, 2], 3 ]\n",
    "d = list_copy_shallow(c)\n",
    "c[0][0] = 2\n",
    "assert(c == d)\n",
    "### HIDEEND"
   ]
  },
  {
   "cell_type": "markdown",
   "metadata": {
    "nbgrader": {
     "grade": false,
     "grade_id": "300054",
     "locked": true,
     "solution": false
    }
   },
   "source": [
    "f) (1 Punkt) Führen Sie das folgende Programm aus: \n",
    "\n",
    "```Python\n",
    "def f(a, b):\n",
    "   print(\"a: \", a)\n",
    "   print(\"b: \", b)\n",
    "\n",
    "def g(L):\n",
    "   L[0] = L[0] - 1\n",
    "   print (L)\n",
    "   return L\n",
    "\n",
    "def h(L):\n",
    "   L[0] = L[0] + 2\n",
    "   print (L)\n",
    "   return L\n",
    "\n",
    "L = [5, 17]\n",
    "\n",
    "f(g(L), h(L))\n",
    "```\n",
    "Warum haben die Variablen ```a``` und ```b``` dieselbe Belegung? Begründen Sie kurz. "
   ]
  },
  {
   "cell_type": "markdown",
   "metadata": {
    "collapsed": true,
    "nbgrader": {
     "grade": true,
     "grade_id": "3000021",
     "locked": false,
     "points": 1,
     "solution": true
    }
   },
   "source": [
    "###BEGIN SOLUTION\n",
    "\n",
    "Die beiden Variablen haben dieselbe Belegung, weil es insgesamt nur eine einzige Liste L gibt.\n",
    "Zwar wird deren erstes Element in beiden Funktionen verändert, aber beide Funktionen geben dieselbe Liste zurück, somit ist L der aktuelle Parameter sowohl für den formalen Parameter a als auch für den formalen Parameter b.\n",
    "\n",
    "###END SOLUTION"
   ]
  },
  {
   "cell_type": "markdown",
   "metadata": {
    "nbgrader": {
     "grade": false,
     "grade_id": "3000133",
     "locked": true,
     "solution": false
    }
   },
   "source": [
    "g) (1 Punkt) Wie muss die Funktion ```f()``` aufgerufen werden, damit die folgende Ausgabe:\n",
    "\n",
    "    a:  [4, 17]\n",
    "    b:  [7, 17]\n",
    "\n",
    "ausgegeben wird? \n",
    "Nutzen Sie dazu die bereits vorhandene Liste\n",
    "```Python\n",
    "    L = [5, 17]\n",
    "```\n",
    "und verwenden Sie Funktionsaufrufe von ```g()``` und ```h()``` als Parameter eines Aufrufs von ```f()```."
   ]
  },
  {
   "cell_type": "code",
   "execution_count": null,
   "metadata": {
    "collapsed": false,
    "nbgrader": {
     "grade": true,
     "grade_id": "3000134",
     "locked": false,
     "points": 1,
     "solution": true
    }
   },
   "outputs": [],
   "source": [
    "def f(a, b):\n",
    "   print(\"a: \", a)\n",
    "   print(\"b: \", b)\n",
    "\n",
    "def g(L):\n",
    "   L[0] = L[0] - 1\n",
    "   print (L)\n",
    "   return L\n",
    "\n",
    "def h(L):\n",
    "   L[0] = L[0] + 2\n",
    "   print (L)\n",
    "   return L\n",
    "\n",
    "L = [5, 17]\n",
    "\n",
    "###BEGIN SOLUTION\n",
    "f(g(L[:]), h(L[:]))\n",
    "#END SOLUTION"
   ]
  },
  {
   "cell_type": "code",
   "execution_count": null,
   "metadata": {
    "collapsed": false,
    "nbgrader": {
     "grade": true,
     "grade_id": "30042",
     "locked": true,
     "points": 2,
     "solution": false
    }
   },
   "outputs": [],
   "source": [
    "a = [1, 2, 3, 4]\n",
    "b = [5, 6, 7, 8]\n",
    "c = 9\n",
    "d = [a, b, c]\n",
    "\n",
    "e = list_copy_deep(d)\n",
    "assert(d == e)\n",
    "d[0][0] = 2\n",
    "assert(d != e)"
   ]
  },
  {
   "cell_type": "markdown",
   "metadata": {
    "nbgrader": {
     "grade": false,
     "grade_id": "3006",
     "locked": true,
     "solution": false
    }
   },
   "source": [
    "h) (1 Punkt) Gegegeben sei die folgende 2x2-Matrix:\n",
    "\n",
    "```\n",
    "1 2\n",
    "3 4\n",
    "```\n",
    "\n",
    "Betrachten Sie folgende Umsetzung einer solchen Matrix in Python:\n",
    "```Python\n",
    "    matrix = [[1, 2], [3, 4]]\n",
    "```\n",
    "\n",
    "Schreiben Sie eine Funktion namens ```transpose_matrix```, welche eine in dieser Art implementierte 2x2-Matrix als Eingabe erhält und die transponierte Matrix zurückgibt.\n",
    "Die Matrix selbst soll dabei nicht verändert werden!\n",
    "\n",
    "Zum Thema Transponieren von Matrizen lesen Sie nötigenfalls hier nach: https://de.wikipedia.org/wiki/Transponierte_Matrix."
   ]
  },
  {
   "cell_type": "code",
   "execution_count": null,
   "metadata": {
    "collapsed": true,
    "nbgrader": {
     "grade": true,
     "grade_id": "30061",
     "locked": false,
     "points": 0,
     "solution": true
    }
   },
   "outputs": [],
   "source": [
    "###BEGIN SOLUTION\n",
    "def transpose_matrix(matrix):\n",
    "    return [[matrix[0][0], matrix[1][0]], [matrix[0][1], matrix[1][1]]]                \n",
    "### END SOLUTION"
   ]
  },
  {
   "cell_type": "code",
   "execution_count": null,
   "metadata": {
    "collapsed": false,
    "nbgrader": {
     "grade": true,
     "grade_id": "30062",
     "locked": true,
     "points": 1,
     "solution": false
    }
   },
   "outputs": [],
   "source": [
    "matrix = [[1, 2], [3, 4]]\n",
    "matrix_transposed = transpose_matrix(matrix)\n",
    "\n",
    "assert(matrix_transposed[0][0] == 1)\n",
    "assert(matrix_transposed[0][1] == 3)\n",
    "assert(matrix_transposed[1][0] == 2)\n",
    "assert(matrix_transposed[1][1] == 4)\n",
    "\n",
    "### HIDESTART\n",
    "matrix2 = [[5, 6], [7, 8]]\n",
    "matrix2_transposed = transpose_matrix(matrix2)\n",
    "assert(matrix2_transposed == [[matrix2[0][0], matrix2[1][0]], [matrix2[0][1], matrix2[1][1]]])\n",
    "### HIDEEND"
   ]
  },
  {
   "cell_type": "markdown",
   "metadata": {
    "nbgrader": {
     "grade": false,
     "grade_id": "3004",
     "locked": true,
     "solution": false
    }
   },
   "source": [
    "i) (2 Punkte) Schreiben Sie eine weitere Funktion namens ```matrix_copy_deep```, welche eine Liste übergeben bekommt, die eine 2x2-Matrix repräsentiert, und eine *tiefe* Kopie dieser Liste zurückgibt.\n",
    "\n",
    "Nutzen Sie dazu keine vordefinierte Copy-Funktionalität von Listen. "
   ]
  },
  {
   "cell_type": "code",
   "execution_count": null,
   "metadata": {
    "collapsed": true,
    "nbgrader": {
     "grade": false,
     "grade_id": "300000041",
     "locked": false,
     "solution": true
    }
   },
   "outputs": [],
   "source": [
    "### BEGIN SOLUTION \n",
    "def matrix_copy_deep(matrix):\n",
    "    return transpose_matrix(transpose_matrix(matrix))\n",
    "### END SOLUTION "
   ]
  },
  {
   "cell_type": "code",
   "execution_count": null,
   "metadata": {
    "collapsed": false,
    "nbgrader": {
     "grade": true,
     "grade_id": "30041",
     "locked": true,
     "solution": false
    }
   },
   "outputs": [],
   "source": [
    "matrix = [[1, 2], [3, 4]]\n",
    "matrix_deep_copied = matrix_copy_deep(matrix)\n",
    "matrix[0][0] = 5\n",
    "assert(matrix != matrix_deep_copied)"
   ]
  },
  {
   "cell_type": "markdown",
   "metadata": {
    "nbgrader": {
     "grade": false,
     "grade_id": "3031",
     "locked": true,
     "solution": false
    }
   },
   "source": [
    "## Aufgabe 3: Strings\n",
    "\n",
    "Zeichenketten in Python können Zeichen aus einem großen Zeichenvorrat annehmen; typischerweise dem sog. Universal Coded Character Set Transformation Format mit 8 bits (UTF-8). \n",
    "Damit stehen zum Beispiel Zeichen asiatischer und arabischer Sprachen bereit. \n",
    "\n",
    "a) (1 Punkt) Finden Sie heraus, wie viele Bytes benötigt werden, um die folgenden Zeichenketten intern darzustellen.\n",
    "Wie vielen Bytes pro Zeichen entspricht das (achten Sie auf die beiden Leerzeichen!)? (Schreiben Sie Ihre Antwort als Kommentar)\n",
    "\n",
    "\n",
    "```Python\n",
    "# Beispiel-Zeichenketten in UTF-8\n",
    "s1 = '我们 爱 编程'\n",
    "s2 = \"äöü\"\n",
    "s3 = \"éàß\"\n",
    "s4 = \"Мы любим GP1\"\n",
    "s5 = \"ما عاشق برنامه نویسی\"\n",
    "```\n",
    "\n",
    "Schreiben Sie eine Funktion namens ```utf8_len```, die einen String übergeben bekommt und die die Anzahl der Bytes dieses Strings zurückgibt. \n",
    "\n",
    "Hinweis: Sie dürfen hierzu Funktionen der Python-Standardbibliothek nutzen, die nicht in der Vorlesung behandelt wurden."
   ]
  },
  {
   "cell_type": "code",
   "execution_count": null,
   "metadata": {
    "collapsed": false,
    "nbgrader": {
     "grade": false,
     "grade_id": "3032",
     "locked": false,
     "solution": true
    }
   },
   "outputs": [],
   "source": [
    "s1 = '我们 爱 编程'\n",
    "s2 = \"äöü\"\n",
    "s3 = \"éàß\"\n",
    "s4 = \"Мы любим GP1\"\n",
    "s5 = \"ما عاشق برنامه نویسی\"\n",
    "\n",
    "###BEGIN SOLUTION\n",
    "# Leerzeichen benötigen 1 Byte, Umlaute, das ß und Zeichen mit Akzent 2 Bytes und die asiatischen Bildzeichen 3 Bytes\n",
    "def laenge(s):\n",
    "    return len(bytes(s, \"utf-8\"))\n",
    "###END SOLUTION"
   ]
  },
  {
   "cell_type": "code",
   "execution_count": null,
   "metadata": {
    "collapsed": true,
    "nbgrader": {
     "grade": true,
     "grade_id": "3033",
     "locked": true,
     "points": 1,
     "solution": false
    }
   },
   "outputs": [],
   "source": [
    "s1 = '我们 爱 编程'\n",
    "s2 = \"äöü\"\n",
    "s3 = \"éàß\"\n",
    "s4 = \"Мы любим GP1\"\n",
    "s5 = \"ما عاشق برنامه نویسی\"\n",
    "\n",
    "assert(laenge(s1) == 17)\n",
    "assert(laenge(s2) == 6)\n",
    "assert(laenge(s3) == 6)\n",
    "assert(laenge(s4) == 19)\n",
    "assert(laenge(s5) == 37)"
   ]
  },
  {
   "cell_type": "markdown",
   "metadata": {
    "nbgrader": {
     "grade": false,
     "grade_id": "3034",
     "locked": true,
     "solution": false
    }
   },
   "source": [
    "b) (1 Punkt) Untersuchen Sie, wie sich slicing für solche Zeichenketten benimmt. \n",
    "Welchen Slicing-Ausdruck müssen Sie anwenden, um die ersten beiden Zeichen des Strings s1 zu erhalten?"
   ]
  },
  {
   "cell_type": "code",
   "execution_count": null,
   "metadata": {
    "collapsed": true,
    "nbgrader": {
     "grade": true,
     "grade_id": "3035",
     "locked": false,
     "points": 1,
     "solution": true
    }
   },
   "outputs": [],
   "source": [
    "###BEGIN SOLUTION\n",
    "\n",
    "###END SOLUTION"
   ]
  },
  {
   "cell_type": "markdown",
   "metadata": {
    "nbgrader": {
     "grade": false,
     "grade_id": "3036",
     "locked": true,
     "solution": false
    }
   },
   "source": [
    "c) (1 Punkt) Wäre es sinnvoll, bei solchen Zeichenketten stets die gleiche Anzahl an Bytes pro Zeichen zu benutzen? Begründen Sie! \n",
    "\n",
    "Welches Verhalten scheint bei Python vorzuliegen?"
   ]
  },
  {
   "cell_type": "markdown",
   "metadata": {
    "nbgrader": {
     "grade": true,
     "grade_id": "3037",
     "locked": false,
     "points": 1,
     "solution": true
    }
   },
   "source": [
    "###BEGIN SOLUTION\n",
    "Argumente für die Verwendung einer stets gleichen Anzahl an Bytes pro Zeichen:\n",
    "- Leichtes Errechnen der Länge des Strings möglich (evtl. für Pointer-Arithmetik nützlich, für Python egal) \n",
    "- Verändern eines Zeichens ändert nicht die Länge des Strings (in Python ja nicht möglich)\n",
    "Argumente für die Verwendung einer variablen Anzahl an Bytes pro Zeichen:\n",
    "- Geringerer Speicherplatzbedarf bei Verwendung von Sprachen, die nur oder größtenteils aus 1-Byte-Zeichen bestehen\n",
    "- Texte in Englisch lassen sich wie ASCII kodieren (in manchen Fällen höhere Kompatibilität)\n",
    "- Theoretisch unbegrenzte Erweiterbarkeit des Zeichenvorrats\n",
    "\n",
    "Python nutzt, wie in a) gesehen, eine variable Anzahl an Bytes pro Zeichen.\n",
    "###END SOLUTION"
   ]
  },
  {
   "cell_type": "markdown",
   "metadata": {
    "nbgrader": {
     "grade": false,
     "grade_id": "400001",
     "locked": true,
     "solution": false
    }
   },
   "source": [
    "## Aufgabe 4: Tuples\n",
    "\n",
    "a) (1 Punkt) Schreiben Sie eine Funktion namens ```tuple_pack```, welche vier Parametern übergeben bekommt, sie in einem Tuple einpackt und zurückgibt."
   ]
  },
  {
   "cell_type": "code",
   "execution_count": null,
   "metadata": {
    "collapsed": true,
    "nbgrader": {
     "grade": false,
     "grade_id": "40002",
     "locked": false,
     "solution": true
    }
   },
   "outputs": [],
   "source": []
  },
  {
   "cell_type": "code",
   "execution_count": null,
   "metadata": {
    "collapsed": true,
    "nbgrader": {
     "grade": true,
     "grade_id": "40003",
     "locked": true,
     "points": 1,
     "solution": false
    }
   },
   "outputs": [],
   "source": []
  },
  {
   "cell_type": "markdown",
   "metadata": {
    "nbgrader": {
     "grade": false,
     "grade_id": "400004",
     "locked": true,
     "solution": false
    }
   },
   "source": [
    "b) (2 Punkt) Schreiben Sie eine weitere Funktion namens ```tuple_unpack```, welche ein ```Tuple```-Variable übergeben bekommt und die ausgepackte Elementen zurückgibt. Nutzen Sie diese Funktion um zwei Listen jeweils für die Authorenname und Buchtitel zu bekommen. Fügen Sie diese zwei Listen in einem ```dict``` namens ```name_title_dict``` zusammen. Erzeugen Sie ein neues Tuple namens ```name_title_tuple``` mit diese zwei Listen."
   ]
  },
  {
   "cell_type": "code",
   "execution_count": null,
   "metadata": {
    "collapsed": true,
    "nbgrader": {
     "grade": false,
     "grade_id": "400005",
     "locked": false,
     "solution": true
    }
   },
   "outputs": [],
   "source": []
  },
  {
   "cell_type": "code",
   "execution_count": null,
   "metadata": {
    "collapsed": true,
    "nbgrader": {
     "grade": true,
     "grade_id": "40006",
     "locked": true,
     "points": 1,
     "solution": false
    }
   },
   "outputs": [],
   "source": []
  },
  {
   "cell_type": "markdown",
   "metadata": {
    "nbgrader": {
     "grade": false,
     "grade_id": "40007",
     "locked": true,
     "solution": false
    }
   },
   "source": [
    "e) (1 Punkt) Schreiben Sie eine Funktion namens, ```element_add```, welche ein Tuple und ein weiteres Parameter vom beliebigen Datentyp übergeben bekommt und sie zusammen als ein Tuple zurückgibt. Nutzen Sie diese Funktion um ein erweritertes Tuple zu erzeugen mit diesen Buch: ..."
   ]
  },
  {
   "cell_type": "code",
   "execution_count": null,
   "metadata": {
    "collapsed": true,
    "nbgrader": {
     "grade": false,
     "grade_id": "40008",
     "locked": false,
     "solution": true
    }
   },
   "outputs": [],
   "source": []
  },
  {
   "cell_type": "code",
   "execution_count": null,
   "metadata": {
    "collapsed": true,
    "nbgrader": {
     "grade": true,
     "grade_id": "40009",
     "locked": true,
     "points": 1,
     "solution": false
    }
   },
   "outputs": [],
   "source": []
  },
  {
   "cell_type": "markdown",
   "metadata": {
    "nbgrader": {
     "grade": false,
     "grade_id": "400010",
     "locked": true,
     "solution": false
    }
   },
   "source": [
    "f) (1 Punkt) Schreiben Sie eine Funktion namens, ```element_remove```, welche ein Tuple und ein weiteres Parameter vom Typ integer übergeben bekommt und ein Tuple zurückgibt ohne die entsprechende Element."
   ]
  },
  {
   "cell_type": "code",
   "execution_count": null,
   "metadata": {
    "collapsed": true,
    "nbgrader": {
     "grade": false,
     "grade_id": "40011",
     "locked": false,
     "solution": true
    }
   },
   "outputs": [],
   "source": []
  },
  {
   "cell_type": "code",
   "execution_count": null,
   "metadata": {
    "collapsed": true,
    "nbgrader": {
     "grade": true,
     "grade_id": "40012",
     "locked": true,
     "solution": false
    }
   },
   "outputs": [],
   "source": []
  },
  {
   "cell_type": "markdown",
   "metadata": {
    "nbgrader": {
     "grade": false,
     "grade_id": "40013",
     "locked": true,
     "solution": false
    }
   },
   "source": [
    "g) (1 Punkt) Schreiben Sie eine Funktion namens ```membership```, welche überprüft ob ein Element in einem Tuple ist."
   ]
  },
  {
   "cell_type": "code",
   "execution_count": null,
   "metadata": {
    "collapsed": true,
    "nbgrader": {
     "grade": false,
     "grade_id": "400014",
     "locked": false,
     "solution": true
    }
   },
   "outputs": [],
   "source": []
  },
  {
   "cell_type": "code",
   "execution_count": null,
   "metadata": {
    "collapsed": true,
    "nbgrader": {
     "grade": true,
     "grade_id": "400015",
     "locked": true,
     "solution": false
    }
   },
   "outputs": [],
   "source": []
  },
  {
   "cell_type": "markdown",
   "metadata": {
    "nbgrader": {
     "grade": false,
     "grade_id": "400016",
     "locked": true,
     "solution": false
    }
   },
   "source": [
    "h) (1 Punkt) Return the list of authors between the letters ```a``` and ```c```."
   ]
  },
  {
   "cell_type": "code",
   "execution_count": null,
   "metadata": {
    "collapsed": true,
    "nbgrader": {
     "grade": false,
     "grade_id": "40017",
     "locked": false,
     "solution": true
    }
   },
   "outputs": [],
   "source": []
  },
  {
   "cell_type": "code",
   "execution_count": null,
   "metadata": {
    "collapsed": true,
    "nbgrader": {
     "grade": true,
     "grade_id": "400018",
     "locked": true,
     "solution": false
    }
   },
   "outputs": [],
   "source": []
  },
  {
   "cell_type": "markdown",
   "metadata": {
    "nbgrader": {
     "grade": false,
     "grade_id": "40019",
     "locked": true,
     "solution": false
    }
   },
   "source": [
    "i) (1 Punkt) Zusammenfügen von zwei Tuples."
   ]
  },
  {
   "cell_type": "code",
   "execution_count": null,
   "metadata": {
    "collapsed": true,
    "nbgrader": {
     "grade": false,
     "grade_id": "400020",
     "locked": false,
     "solution": true
    }
   },
   "outputs": [],
   "source": []
  },
  {
   "cell_type": "code",
   "execution_count": null,
   "metadata": {
    "collapsed": true,
    "nbgrader": {
     "grade": true,
     "grade_id": "400021",
     "locked": true,
     "solution": false
    }
   },
   "outputs": [],
   "source": []
  },
  {
   "cell_type": "markdown",
   "metadata": {
    "nbgrader": {
     "grade": false,
     "grade_id": "1111",
     "locked": true,
     "solution": false
    }
   },
   "source": [
    "j) (1 Punkt)  Identitä von dicts? Wie ist das mit Identität, wenn ein dict listen enthält? Wann sind die dicts dann identisch? also wieder der Utnerschied == vs. is"
   ]
  },
  {
   "cell_type": "code",
   "execution_count": null,
   "metadata": {
    "collapsed": true,
    "nbgrader": {
     "grade": false,
     "grade_id": "400022",
     "locked": false,
     "solution": true
    }
   },
   "outputs": [],
   "source": []
  },
  {
   "cell_type": "code",
   "execution_count": null,
   "metadata": {
    "collapsed": true,
    "nbgrader": {
     "grade": true,
     "grade_id": "400023",
     "locked": true,
     "solution": false
    }
   },
   "outputs": [],
   "source": []
  },
  {
   "cell_type": "markdown",
   "metadata": {
    "nbgrader": {
     "grade": false,
     "grade_id": "5000001",
     "locked": true,
     "solution": false
    }
   },
   "source": [
    "# Aufgabe 5: Docstring\n",
    "\n",
    "(5 Punkte) Dokumentieren Sie die Funktion ```multiples``` in Docstring gemäß PEP 257. \n",
    "Beschreiben Sie die Parameter und Rückgabewerte und was die Funktion leistet.\n",
    "\n",
    "```Python\n",
    "def multiples(f1, f2, max_val):\n",
    "    a = []\n",
    "    for number in range(1, max_val+1):\n",
    "        if not number % f1 or not number % f2:\n",
    "            a.append(number)\n",
    "    return a\n",
    "    \n",
    "b= multiples(3,5,1000)\n",
    "print(b)\n",
    "```"
   ]
  },
  {
   "cell_type": "code",
   "execution_count": null,
   "metadata": {
    "collapsed": false,
    "nbgrader": {
     "grade": false,
     "grade_id": "500002",
     "locked": false,
     "solution": true
    }
   },
   "outputs": [],
   "source": []
  },
  {
   "cell_type": "code",
   "execution_count": null,
   "metadata": {
    "collapsed": true,
    "nbgrader": {
     "grade": true,
     "grade_id": "500003",
     "locked": true,
     "points": 2,
     "solution": false
    }
   },
   "outputs": [],
   "source": []
  }
 ],
 "metadata": {
  "anaconda-cloud": {},
  "celltoolbar": "Create Assignment",
  "kernelspec": {
   "display_name": "Python [default]",
   "language": "python",
   "name": "python3"
  },
  "language_info": {
   "codemirror_mode": {
    "name": "ipython",
    "version": 3
   },
   "file_extension": ".py",
   "mimetype": "text/x-python",
   "name": "python",
   "nbconvert_exporter": "python",
   "pygments_lexer": "ipython3",
   "version": "3.5.2"
  }
 },
 "nbformat": 4,
 "nbformat_minor": 1
}
