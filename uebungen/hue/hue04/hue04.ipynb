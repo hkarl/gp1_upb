{
 "cells": [
  {
   "cell_type": "markdown",
   "metadata": {
    "nbgrader": {
     "grade": true,
     "grade_id": "matrikel",
     "locked": false,
     "points": 0,
     "solution": true
    }
   },
   "source": []
  },
  {
   "cell_type": "markdown",
   "metadata": {
    "nbgrader": {
     "grade": false,
     "grade_id": "matrikel_info",
     "locked": true,
     "solution": false
    }
   },
   "source": [
    "# Abgabehinweise \n",
    "\n",
    "Beachten Sie unbedingt diese Hinweise, sonst erhalten Sie keine Punkte aus dieser Abgabe! Für Details siehe z.B. [Folien der nullten Zentralübung](http://groups.uni-paderborn.de/fg-karl/lehre/ws1617/gp1/hue/gp1-zue0.pdf)\n",
    "\n",
    "## Namen und Matrikelnummern \n",
    "\n",
    "Tragen Sie Ihre Matrikelnummern und E-Mail-Adressen *zeilenweise* in die Zelle *oberhalb* dieser Zelle ein.\n",
    "Achten Sie dabei streng auf die Formatierung, denn die Auswertung erfolgt automatisch. \n",
    "Benutzen Sie *keine* Leerzeilen.\n",
    "Zwischen Matrikelnummer und E-Mail-Adresse *muss genau ein* Leerzeichen stehen; sonst keine Leerzeichen, Tabs, Spiegelstriche, oder ähnliches in einer Zeile. Wir empfehlen *dringend* die Benutzung der Uni-Paderborn E-Mail-Adressen! \n",
    "\n",
    "Format:\n",
    "\n",
    "MatrikelNummer E-Mail-Adresse\n",
    "\n",
    "z.B.:\n",
    "\n",
    "123456 testStudent@mail.upb.de\n",
    "\n",
    "## Abgabe mit Gruppenaccount \n",
    "\n",
    "Die Abgabe muss mit Ihrem *Gruppenaccount* erfolgen (gp1\\_16\\_...), den Sie in der Präsenzübung erhalten haben! Abgaben, die über Ihren Einzelaccount erfolgen, werden ignoriert. \n",
    "\n",
    "## Abgabe: Submit \n",
    "\n",
    "Es reicht nicht, nur das Übungsblatt zu verändern. Sie müssen unter *Assignments* auf *Submit* clicken (oder entsprechend über die Kommandozeile). Für Details siehe Beschreibung Abgabeprozess. \n",
    "\n",
    "## Dateinamen\n",
    "\n",
    "Geben Sie Ihre Lösung in der vom Server erhaltenen Datei hue04.ipynb ab (nicht umbenennen, keine Kopie erstellen, keine anderen Dateien in das Verzeichnis legen!). Sonst kann eine Bewertung nicht stattfinden.\n",
    "\n",
    "## Struktur des Notebooks \n",
    "\n",
    "Fügen Sie keine Zellen hinzu und löschen Sie keine Zellen.\n",
    "Ändern Sie nicht den Typ einer Zelle.\n",
    "Geben Sie Lösungen nur in den Lösungszellen ab. Änderungen in den anderen Zellen werden nach Abgabe automatisch rückgängig gemacht.\n",
    "\n",
    "## Code-Zellen \n",
    "\n",
    "Entfernen Sie  die Zeilen mit Inhalt \"raise NotImplementedError()\" aus den Zellen, in die Sie Ihre Lösungen schreiben. *Ersetzen* Sie diese Zeilen durch Ihre eigene Lösungen. \n",
    "\n",
    "## Kommentare \n",
    "\n",
    "Kommentieren Sie Code-Abgaben! Insbesondere *muss* jede Funktion (Klasse, Methode, ...) einen ```docstring``` haben! Bei fehlendem docstring werden automatisch KEINE Punkte vergeben! \n",
    "\n",
    "\n",
    "# Abgabetermin: 27.11.2016 um 23:59 Uhr\n",
    "\n"
   ]
  },
  {
   "cell_type": "markdown",
   "metadata": {
    "nbgrader": {
     "grade": false,
     "grade_id": "1",
     "locked": true,
     "solution": false
    }
   },
   "source": [
    "# Aufgaben \n",
    "\n",
    "## Aufgabe 1: Arithmetik in Rechnern \n",
    "\n",
    "(2 Punkte) Wir betrachten das unten angegebene Programm. \n",
    "\n",
    "Beantworten Sie folgende Fragen: \n",
    "\n",
    "1. Erklären Sie kurz in eigenen Worten, was das Programm tut. \n",
    "1. Führen Sie es aus und beschreiben Sie kurz das Ergebnis. \n",
    "1. Wenn Sie sich die mathematischen Operationen in den Schleifen betrachten, welchen Wert für ```r``` müssten Sie dann eigentlich erwarten? \n",
    "1. Ab welchem Wert von ```n``` wird ```r=1.0``` am Ende des Programms?\n",
    "1. Erklären Sie, warum ```r``` am Ende gleich 1.0 ist und woran dies liegt. Hinweis: Dazu können Sie beispielsweise das Programm verändern, um auch in den inneren Schleifen ```r``` auszugeben (Sie brauchen diese Ausgaben und diese Programmveränderungen nicht abzugeben!). \n"
   ]
  },
  {
   "cell_type": "code",
   "execution_count": null,
   "metadata": {
    "collapsed": false,
    "nbgrader": {
     "grade": false,
     "grade_id": "1b",
     "locked": true,
     "solution": false
    }
   },
   "outputs": [],
   "source": [
    "for n in range(1, 60):\n",
    "    r = 4.0\n",
    "    for i in range(n):\n",
    "        r = r**0.5\n",
    "    for i in range(n):\n",
    "        r = r**2\n",
    "    print(n,r)"
   ]
  },
  {
   "cell_type": "markdown",
   "metadata": {
    "collapsed": true,
    "nbgrader": {
     "grade": true,
     "grade_id": "2",
     "locked": false,
     "points": 2,
     "solution": true
    }
   },
   "source": [
    "### BEGIN SOLUTION \n",
    "Ab n=53 wird r = 1.0. Das passiert wegen Abrundungsfehlern.\n",
    "\n",
    "Aufgrund der endlichen Mantisse in der Gleitkommadarstellung lassen sich Zahlen auf einem Computer nicht beliebig genau darstellen. Es muss gerundet werden und die Rundungsfehler vergrössern sich nach jeder Wurzel- und Potenzberechnung.\n",
    "### END SOLUTION "
   ]
  },
  {
   "cell_type": "markdown",
   "metadata": {
    "nbgrader": {
     "grade": false,
     "grade_id": "3000",
     "locked": true,
     "solution": false
    }
   },
   "source": [
    "## Aufgabe 2: Listen\n",
    "\n",
    "### a) (1 Punkt) \n",
    "\n",
    "Führen Sie das folgende Programm aus: \n",
    "\n",
    "```Python\n",
    "a = [1,2,3,4]\n",
    "b = a\n",
    "a[0] = 0\n",
    "print(b)\n",
    "print(a is b)\n",
    "print(a == b) \n",
    "```\n",
    "\n",
    "Beantworten Sie die folgenden Fragen: \n",
    "\n",
    "1. Warum hat die Liste ```b``` am Ende den gleichen Inhalt wie ```a```? \n",
    "1. Was ist allgemein die Semantik der Operatoren ```is``` und ```==``` ?\n",
    "1. Erklären Sie auf dieser Grundlage, wie die Werte von ```a is b``` und ```a == b``` zustande kommen. "
   ]
  },
  {
   "cell_type": "markdown",
   "metadata": {
    "nbgrader": {
     "grade": true,
     "grade_id": "30001",
     "locked": false,
     "points": 1,
     "solution": true
    }
   },
   "source": []
  },
  {
   "cell_type": "markdown",
   "metadata": {
    "nbgrader": {
     "grade": false,
     "grade_id": "3001",
     "locked": true,
     "solution": false
    }
   },
   "source": [
    "### b) (1 Punkt) \n",
    "\n",
    "Führen Sie das folgende Programm aus: \n",
    "\n",
    "```Python\n",
    "def list_return(lst):\n",
    "    return lst  \n",
    "\n",
    "a = [1, 2, 3, 4]\n",
    "b = list_return(a)\n",
    "a[0] = 0\n",
    "print(a,b)\n",
    "print(a is b)\n",
    "print(a == b) \n",
    "```\n",
    "\n",
    "Beantworten Sie die folgenden Fragen: \n",
    "\n",
    "1. Obwohl die Variable ```b``` von der Funktion ```list_return``` initialisiert wurde, hat sie den gleichen Inhalt wie die modifizierte Liste ```a```. Erläutern Sie, warum das der Fall ist.\n",
    "1. Erklären Sie auf dieser Grundlage, wie die Werte von ```a is b``` und ```a == b``` zustandekommen. "
   ]
  },
  {
   "cell_type": "markdown",
   "metadata": {
    "nbgrader": {
     "grade": true,
     "grade_id": "30011",
     "locked": false,
     "points": 1,
     "solution": true
    }
   },
   "source": []
  },
  {
   "cell_type": "markdown",
   "metadata": {
    "nbgrader": {
     "grade": false,
     "grade_id": "3002",
     "locked": true,
     "solution": false
    }
   },
   "source": [
    "### c) (1 Punkt) \n",
    "\n",
    "Führen Sie das folgende Programm aus:\n",
    "\n",
    "```Python\n",
    "def list_return(lst):\n",
    "    return lst  \n",
    "    \n",
    "a = [1, 2, 3, 4]\n",
    "b = list_return(a[:])\n",
    "a[0] = 0\n",
    "print(a,b)\n",
    "print(a is b)\n",
    "print(a == b) \n",
    "```\n",
    "\n",
    "Beantworten Sie folgende Fragen: \n",
    "\n",
    "1. Warum wird jetzt der Inhalt von ```b``` nicht durch die Modifizierung der Liste, die durch  ```a```  referenziert wird, geändert? \n",
    "1. Erklären Sie auf dieser Grundlage wie die Werte von ```a is b``` und ```a == b``` zustande kommen. "
   ]
  },
  {
   "cell_type": "markdown",
   "metadata": {
    "nbgrader": {
     "grade": true,
     "grade_id": "30021",
     "locked": false,
     "points": 1,
     "solution": true
    }
   },
   "source": []
  },
  {
   "cell_type": "markdown",
   "metadata": {
    "nbgrader": {
     "grade": false,
     "grade_id": "3000099",
     "locked": true,
     "solution": false
    }
   },
   "source": [
    "### d) (1 Punkt) \n",
    "\n",
    "Führen Sie das folgende Programm aus: \n",
    "\n",
    "```Python\n",
    "def list_modify(lst):\n",
    "    lst[2] = lst[0] + lst[1]\n",
    "    return lst\n",
    "\n",
    "def list_modify2(lst):\n",
    "    lst = lst*2\n",
    "    return lst\n",
    "    \n",
    "a = [1, 2, 3, 4]  \n",
    "\n",
    "c = list_modify(a)\n",
    "print(a is c)\n",
    "print(a == c)\n",
    "\n",
    "d = list_modify2(a)\n",
    "print(a is d)\n",
    "print(a == d)\n",
    "```\n",
    "\n",
    "Beantworten Sie folgende Fragen: \n",
    "\n",
    "1. Erklären Sie die Ergebnisse von ```a is c``` und ```a == c```. \n",
    "1. Erklären Sie die Ergebnisse von ```a is d``` und ```a == d```. "
   ]
  },
  {
   "cell_type": "markdown",
   "metadata": {
    "nbgrader": {
     "grade": true,
     "grade_id": "300009999",
     "locked": false,
     "points": 1,
     "solution": true
    }
   },
   "source": []
  },
  {
   "cell_type": "markdown",
   "metadata": {
    "nbgrader": {
     "grade": false,
     "grade_id": "3003",
     "locked": true,
     "solution": false
    }
   },
   "source": [
    "### e) (1 Punkt) \n",
    "\n",
    "Schreiben Sie eine neue Funktion namens ```list_copy_shallow```, welche eine Liste übergeben bekommt und eine *flache* Kopie dieser Liste zurückgibt (zum Unterschied von flacher und tiefer Kopie einer Liste siehe Kapitel 5 der VL-Unterlagen).\n",
    "\n",
    "Nutzen Sie dazu keine vordefinierte Copy-Funktionalität von Listen."
   ]
  },
  {
   "cell_type": "code",
   "execution_count": null,
   "metadata": {
    "collapsed": true,
    "nbgrader": {
     "grade": false,
     "grade_id": "30031",
     "locked": false,
     "solution": true
    }
   },
   "outputs": [],
   "source": [
    "### BEGIN SOLUTION \n",
    "def list_copy_shallow(lst):\n",
    "    \"\"\"Create a shallow copy of a list.\n",
    "\n",
    "    Args:\n",
    "        lst: the list to be copied\n",
    "    \n",
    "    Returns:\n",
    "        a shallow copy of the input list\n",
    "    \"\"\"\n",
    "    return lst[:]  \n",
    "### END SOLUTION "
   ]
  },
  {
   "cell_type": "code",
   "execution_count": null,
   "metadata": {
    "collapsed": false,
    "nbgrader": {
     "grade": true,
     "grade_id": "30032",
     "locked": true,
     "points": 1,
     "solution": false
    }
   },
   "outputs": [],
   "source": [
    "a = [1, 2, 3, 4]\n",
    "b = list_copy_shallow(a)\n",
    "b[0] = 2\n",
    "assert(a != b)\n",
    "\n",
    "### HIDESTART\n",
    "c = [ [1, 2], 3 ]\n",
    "d = list_copy_shallow(c)\n",
    "c[0][0] = 2\n",
    "assert(c == d)\n",
    "### HIDEEND"
   ]
  },
  {
   "cell_type": "markdown",
   "metadata": {
    "nbgrader": {
     "grade": false,
     "grade_id": "300054",
     "locked": true,
     "solution": false
    }
   },
   "source": [
    "### f) (1 Punkt) \n",
    "\n",
    "Führen Sie das folgende Programm aus: \n",
    "\n",
    "```Python\n",
    "def f(a, b):\n",
    "   print(\"a: \", a)\n",
    "   print(\"b: \", b)\n",
    "\n",
    "def g(L):\n",
    "   L[0] = L[0] - 1\n",
    "   return L\n",
    "\n",
    "def h(L):\n",
    "   L[0] = L[0] + 2\n",
    "   return L\n",
    "\n",
    "L = [5, 17]\n",
    "\n",
    "f(g(L), h(L))\n",
    "```\n",
    "Warum referenzieren die Variablen ```a``` und ```b``` in der Funktion ```f``` dieselben  Werte? Begründen Sie! "
   ]
  },
  {
   "cell_type": "markdown",
   "metadata": {
    "collapsed": true,
    "nbgrader": {
     "grade": true,
     "grade_id": "3000021",
     "locked": false,
     "points": 1,
     "solution": true
    }
   },
   "source": [
    "Die beiden Variablen haben dieselbe Belegung, weil es insgesamt nur eine einzige Liste L gibt.\n",
    "Zwar wird deren erstes Element in beiden Funktionen verändert, aber beide Funktionen geben dieselbe Liste zurück, somit ist L der aktuelle Parameter sowohl für den formalen Parameter a als auch für den formalen Parameter b."
   ]
  },
  {
   "cell_type": "markdown",
   "metadata": {
    "nbgrader": {
     "grade": false,
     "grade_id": "3000133",
     "locked": true,
     "solution": false
    }
   },
   "source": [
    "### g) (1 Punkt) \n",
    "\n",
    "Wie muss die Funktion ```f()``` (aus Teilaufgabe f) aufgerufen werden, damit die folgende Ausgabe:\n",
    "\n",
    "    a:  [4, 17]\n",
    "    b:  [7, 17]\n",
    "\n",
    "ausgegeben wird? \n",
    "Nutzen Sie dazu die bereits vorhandene Liste\n",
    "```Python\n",
    "    L = [5, 17]\n",
    "```\n",
    "und verwenden Sie Funktionsaufrufe von ```g()``` und ```h()``` als Parameter für einen Aufruf von ```f()```."
   ]
  },
  {
   "cell_type": "code",
   "execution_count": null,
   "metadata": {
    "collapsed": false,
    "nbgrader": {
     "grade": true,
     "grade_id": "3000134",
     "locked": false,
     "points": 1,
     "solution": true
    }
   },
   "outputs": [],
   "source": [
    "def f(a, b):\n",
    "   print(\"a: \", a)\n",
    "   print(\"b: \", b)\n",
    "\n",
    "def g(L):\n",
    "   L[0] = L[0] - 1\n",
    "   print (L)\n",
    "   return L\n",
    "\n",
    "def h(L):\n",
    "   L[0] = L[0] + 2\n",
    "   print (L)\n",
    "   return L\n",
    "\n",
    "L = [5, 17]\n",
    "\n",
    "### BEGIN SOLUTION\n",
    "f(g(L[:]), h(L[:]))\n",
    "### END SOLUTION"
   ]
  },
  {
   "cell_type": "markdown",
   "metadata": {
    "nbgrader": {
     "grade": false,
     "grade_id": "3006",
     "locked": true,
     "solution": false
    }
   },
   "source": [
    "### h) (1 Punkt) \n",
    "\n",
    "Gegegeben sei die folgende 2x2-Matrix:\n",
    "\n",
    "```\n",
    "1 2\n",
    "3 4\n",
    "```\n",
    "\n",
    "Betrachten Sie folgende Repräsentation einer solchen Matrix in Python:\n",
    "```Python\n",
    "    matrix = [[1, 2], [3, 4]]\n",
    "```\n",
    "\n",
    "Schreiben Sie eine Funktion namens ```transpose_matrix```, welche eine in dieser Art implementierte 2x2-Matrix als Eingabe erhält und die transponierte Matrix zurückgibt.\n",
    "Die Matrix selbst soll dabei nicht verändert werden!\n",
    "\n",
    "Zum Thema Transponieren von Matrizen lesen Sie nötigenfalls hier nach: https://de.wikipedia.org/wiki/Transponierte_Matrix."
   ]
  },
  {
   "cell_type": "code",
   "execution_count": null,
   "metadata": {
    "collapsed": false,
    "nbgrader": {
     "grade": false,
     "grade_id": "30061",
     "locked": false,
     "points": 0,
     "solution": true
    }
   },
   "outputs": [],
   "source": [
    "###BEGIN SOLUTION\n",
    "def transpose_matrix(matrix):\n",
    "    \"\"\"Transposes a 2x2 matrix (without changing the original matrix)\n",
    "\n",
    "    Args:\n",
    "        matrix: The matrix to be transposed, represented as a list of lists.\n",
    "            The first list represents the lines and the secont list represents\n",
    "            the elements of the lines.\n",
    "    \n",
    "    Returns:\n",
    "        The transposed matrix.\n",
    "    \"\"\"    \n",
    "    return [[matrix[0][0], matrix[1][0]], [matrix[0][1], matrix[1][1]]]                \n",
    "### END SOLUTION"
   ]
  },
  {
   "cell_type": "code",
   "execution_count": null,
   "metadata": {
    "collapsed": false,
    "nbgrader": {
     "grade": true,
     "grade_id": "30062",
     "locked": true,
     "points": 1,
     "solution": false
    }
   },
   "outputs": [],
   "source": [
    "matrix = [[1, 2], [3, 4]]\n",
    "matrix_transposed = transpose_matrix(matrix)\n",
    "\n",
    "assert(matrix_transposed[0][0] == 1)\n",
    "assert(matrix_transposed[0][1] == 3)\n",
    "assert(matrix_transposed[1][0] == 2)\n",
    "assert(matrix_transposed[1][1] == 4)\n",
    "\n",
    "### HIDESTART\n",
    "matrix2 = [[5, 6], [7, 8]]\n",
    "matrix2_transposed = transpose_matrix(matrix2)\n",
    "assert(matrix2_transposed == [[matrix2[0][0], matrix2[1][0]], [matrix2[0][1], matrix2[1][1]]])\n",
    "### HIDEEND"
   ]
  },
  {
   "cell_type": "markdown",
   "metadata": {
    "nbgrader": {
     "grade": false,
     "grade_id": "3031",
     "locked": true,
     "solution": false
    }
   },
   "source": [
    "## Aufgabe 3: Strings\n",
    "\n",
    "Zeichenketten in Python können Zeichen aus einem großen Zeichenvorrat annehmen; typischerweise dem sog. Universal Coded Character Set Transformation Format mit 8 bits (UTF-8). \n",
    "Damit stehen zum Beispiel Zeichen asiatischer und arabischer Sprachen bereit. \n",
    "\n",
    "### a) (1 Punkt) \n",
    "\n",
    "Finden Sie heraus, wie viele Bytes benötigt werden, um die folgenden Zeichenketten intern darzustellen.\n",
    "Wie vielen Bytes pro Zeichen entspricht das (achten Sie ggf. auf Leerzeichen!)? Schreiben Sie Ihre Antwort als Kommentar hinter die jeweilige Zeile in der unteren Codezelle.\n",
    "\n",
    "\n",
    "```Python\n",
    "# Beispiel-Zeichenketten in UTF-8\n",
    "s1 = '我们 爱 编程'\n",
    "s2 = \"äöü\"\n",
    "s3 = \"éàß\"\n",
    "s4 = \"Мы любим GP1\"\n",
    "s5 = \"ما عاشق برنامه نویسی\"\n",
    "```\n",
    "\n",
    "Schreiben Sie eine Funktion namens ```utf8_len```, die einen String übergeben bekommt und  die Anzahl der Bytes dieses Strings zurückgibt. \n",
    "\n",
    "Hinweis: Sie dürfen hierzu Funktionen der Python-Standardbibliothek nutzen, die nicht in der Vorlesung behandelt wurden. Dazu müssen Sie etwas recherchieren! "
   ]
  },
  {
   "cell_type": "code",
   "execution_count": null,
   "metadata": {
    "collapsed": false,
    "nbgrader": {
     "grade": false,
     "grade_id": "3032",
     "locked": false,
     "solution": true
    }
   },
   "outputs": [],
   "source": [
    "s1 = '我们 爱 编程'\n",
    "s2 = \"äöü\"\n",
    "s3 = \"éàß\"\n",
    "s4 = \"Мы любим GP1\"\n",
    "s5 = \"ما عاشق برنامه نویسی\"\n",
    "\n",
    "### BEGIN SOLUTION\n",
    "# Leerzeichen benötigen 1 Byte, Umlaute, das ß und Zeichen mit Akzent 2 Bytes und die asiatischen Bildzeichen 3 Bytes\n",
    "def utf8_len(s):\n",
    "    \"\"\"Returns the size (in bytes) of a string.\n",
    "\n",
    "    Args:\n",
    "        s: A string.\n",
    "    \n",
    "    Returns:\n",
    "        The size of s (in bytes)\n",
    "    \"\"\"    \n",
    "    return len(bytes(s, \"utf-8\"))\n",
    "### END SOLUTION"
   ]
  },
  {
   "cell_type": "code",
   "execution_count": null,
   "metadata": {
    "collapsed": true,
    "nbgrader": {
     "grade": true,
     "grade_id": "3033",
     "locked": true,
     "points": 1,
     "solution": false
    }
   },
   "outputs": [],
   "source": [
    "s1 = '我们 爱 编程'\n",
    "s2 = \"äöü\"\n",
    "s3 = \"éàß\"\n",
    "s4 = \"Мы любим GP1\"\n",
    "s5 = \"ما عاشق برنامه نویسی\"\n",
    "\n",
    "assert(utf8_len(s1) == 17)\n",
    "assert(utf8_len(s2) == 6)\n",
    "assert(utf8_len(s3) == 6)\n",
    "assert(utf8_len(s4) == 19)\n",
    "assert(utf8_len(s5) == 37)"
   ]
  },
  {
   "cell_type": "markdown",
   "metadata": {
    "nbgrader": {
     "grade": false,
     "grade_id": "3036",
     "locked": true,
     "solution": false
    }
   },
   "source": [
    "### b) (1 Punkt) \n",
    "\n",
    "Wäre es sinnvoll, bei solchen Zeichenketten stets die gleiche Anzahl an Bytes pro Zeichen zu benutzen? Begründen Sie! \n",
    "\n",
    "Welches Verhalten scheint bei Python vorzuliegen?"
   ]
  },
  {
   "cell_type": "markdown",
   "metadata": {
    "nbgrader": {
     "grade": true,
     "grade_id": "3037",
     "locked": false,
     "points": 1,
     "solution": true
    }
   },
   "source": [
    "Argumente für die Verwendung einer stets gleichen Anzahl an Bytes pro Zeichen:\n",
    "- Leichtes Errechnen der Länge des Strings möglich (evtl. für Pointer-Arithmetik nützlich, für Python egal) \n",
    "- Verändern eines Zeichens ändert nicht die Länge des Strings (in Python ja nicht möglich)\n",
    "\n",
    "Argumente für die Verwendung einer variablen Anzahl an Bytes pro Zeichen:\n",
    "- Geringerer Speicherplatzbedarf bei Verwendung von Sprachen, die nur oder größtenteils aus 1-Byte-Zeichen bestehen\n",
    "- Texte in Englisch lassen sich wie ASCII kodieren (in manchen Fällen höhere Kompatibilität)\n",
    "- Theoretisch unbegrenzte Erweiterbarkeit des Zeichenvorrats\n",
    "\n",
    "Python nutzt, wie in a) gesehen, eine variable Anzahl an Bytes pro Zeichen."
   ]
  },
  {
   "cell_type": "markdown",
   "metadata": {
    "nbgrader": {
     "grade": false,
     "grade_id": "400001",
     "locked": true,
     "solution": false
    }
   },
   "source": [
    "## Aufgabe 4: Tuples\n",
    "\n",
    "### a) (2 Punkte) \n",
    "\n",
    "Schreiben Sie eine Funktion namens ```order_check```, welche das verschachtelte Tupel ```bestellung``` (siehe unten) übergeben bekommt und die gewünschte Bestellung ausgibt. Z.B.: \n",
    "\n",
    "```text\n",
    "Thomas möchte 3 Äpfel\n",
    "Thomas möchte 1 Birnen\n",
    "Anna möchte 6 Birnen\n",
    "```\n",
    "\n",
    "(Auf sprachliche korrekte Unterscheidung zwischen Singular und Plural brauchen Sie hier, wie schon im Beispiel, nicht einzugehen.)\n",
    "\n",
    "Rufen Sie die Funktion einmal mit dem Tupel ```bestellung``` als Parameter auf."
   ]
  },
  {
   "cell_type": "code",
   "execution_count": null,
   "metadata": {
    "collapsed": false,
    "nbgrader": {
     "grade": true,
     "grade_id": "40002",
     "locked": false,
     "points": 2,
     "solution": true
    }
   },
   "outputs": [],
   "source": [
    "bestellung = (('Thomas', (('Äpfel', 3), ('Birnen', 1))),\n",
    "          ('Anna', (('Birnen', 6),)))\n",
    "\n",
    "\n",
    "def order_check(orders):\n",
    "### BEGIN SOLUTION    \n",
    "    \"\"\"Prints order list.\n",
    "\n",
    "    Args:\n",
    "        orders: The list of orders (according to the task description).\n",
    "    \n",
    "    Returns:\n",
    "        None\n",
    "    \"\"\"\n",
    "    for user, order in orders:\n",
    "        for fruit, quantity in order:\n",
    "            print(\"%s möchte %d %s\" % (user, quantity, fruit))\n",
    "\n",
    "order_check(bestellung)            \n",
    "### END SOLUTION"
   ]
  },
  {
   "cell_type": "code",
   "execution_count": null,
   "metadata": {
    "collapsed": false,
    "nbgrader": {
     "grade": true,
     "grade_id": "400002b",
     "locked": true,
     "points": 1,
     "solution": false
    }
   },
   "outputs": [],
   "source": [
    "assert(order_check.__doc__ != None)"
   ]
  },
  {
   "cell_type": "markdown",
   "metadata": {
    "collapsed": true,
    "nbgrader": {
     "grade": false,
     "grade_id": "40003",
     "locked": true,
     "points": 0,
     "solution": false
    }
   },
   "source": [
    "### b) (3 Punkte) \n",
    "\n",
    "Erweitern Sie die Funktion ```order_check```, so dass sie eine ```dict```-Variable mit der Frucht als Schlüsselwort und der entsprechenden Gesamtmenge (aufaddiert über alle Besteller) als Wert zurückgibt. \n",
    "Beispielsweise soll die Belegung von ```fruechte_menge``` nach Ausführung der folgenden Zuweisung:\n",
    "```Python\n",
    "fruechte_menge = order_check(bestellung)\n",
    "```\n",
    "so sein:\n",
    "```Python    \n",
    "{'Äpfel': 3, 'Birnen': 7}\n",
    "```\n",
    "\n",
    "(Die Reihenfolge der Elemente in dem ```dict``` ist dabei nicht entscheidend; wie Sie wissen, sind ```dict```-Strukturen nicht reihenfolgetreu.)"
   ]
  },
  {
   "cell_type": "code",
   "execution_count": null,
   "metadata": {
    "collapsed": false,
    "nbgrader": {
     "grade": false,
     "grade_id": "400004",
     "locked": false,
     "solution": true
    }
   },
   "outputs": [],
   "source": [
    "bestellung = (('Thomas', (('Äpfel', 3), ('Birnen', 1))),\n",
    "          ('Anna', (('Birnen', 6),)))\n",
    "\n",
    "def order_check(orders):\n",
    "### BEGIN SOLUTION\n",
    "    \"\"\"Print order list and return total fruit quantity\n",
    "\n",
    "    Args:\n",
    "        orders: The orders (represented as a tuple).\n",
    "    \n",
    "    Returns:\n",
    "        A dict containing the fruit quantities.\n",
    "    \"\"\"\n",
    "    dict_fruits = {}\n",
    "    for user, order in orders:\n",
    "        for fruit, quantity in order:            \n",
    "            if fruit in dict_fruits:\n",
    "                dict_fruits.update({fruit: dict_fruits[fruit] + quantity})   \n",
    "                # Alternativ:  dict_fruits[fruit] += quantity\n",
    "            else:\n",
    "                dict_fruits.update({fruit:quantity}) \n",
    "                # Alternativ: dict_fruits[fruit] = quantity\n",
    "         \n",
    "    return dict_fruits\n",
    "\n",
    "fruechte_menge = order_check(bestellung)\n",
    "print(fruechte_menge)\n",
    "### END SOLUTION"
   ]
  },
  {
   "cell_type": "code",
   "execution_count": null,
   "metadata": {
    "collapsed": false,
    "nbgrader": {
     "grade": true,
     "grade_id": "400005",
     "locked": true,
     "points": 2,
     "solution": false
    }
   },
   "outputs": [],
   "source": [
    "assert(fruechte_menge=={'Äpfel': 3, 'Birnen': 7})"
   ]
  },
  {
   "cell_type": "code",
   "execution_count": null,
   "metadata": {
    "collapsed": true,
    "nbgrader": {
     "grade": true,
     "grade_id": "400006",
     "locked": true,
     "points": 1,
     "solution": false
    }
   },
   "outputs": [],
   "source": [
    "assert(order_check.__doc__ != None)"
   ]
  },
  {
   "cell_type": "markdown",
   "metadata": {
    "nbgrader": {
     "grade": false,
     "grade_id": "5000001",
     "locked": true,
     "solution": false
    }
   },
   "source": [
    "# Aufgabe 5: Docstring\n",
    "\n",
    "(2 Punkte) Dokumentieren Sie die Funktion ```multiples``` in Docstring gemäß Google-Konvention. \n",
    "Beschreiben Sie die Parameter und Rückgabewerte und was die Funktion leistet.\n",
    "\n",
    "```Python\n",
    "def multiples(f1, f2, max_val):\n",
    "    a = []\n",
    "    for number in range(1, max_val+1):\n",
    "        if not number % f1 or not number % f2:\n",
    "            a.append(number)\n",
    "    return a\n",
    "    \n",
    "b= multiples(3,5,1000)\n",
    "print(b)\n",
    "```"
   ]
  },
  {
   "cell_type": "code",
   "execution_count": null,
   "metadata": {
    "collapsed": false,
    "nbgrader": {
     "grade": false,
     "grade_id": "500002",
     "locked": false,
     "solution": true
    }
   },
   "outputs": [],
   "source": [
    "def multiples(f1, f2, max_val):\n",
    "### BEGIN SOLUTION\n",
    "    \"\"\"Computes all multiples of f1 and f2 up to max_val and returns them as a list\n",
    "\n",
    "    Args:\n",
    "        f1: the first factor (int)\n",
    "        f2: the second factor (int)\n",
    "        max_val: the maximum value\n",
    "    \n",
    "    Returns:\n",
    "        list containing all the multiples of f1 and f2\n",
    "    \"\"\"\n",
    "### END SOLUTION\n",
    "    a = []\n",
    "    for number in range(1, max_val+1):\n",
    "        if not number % f1 or not number % f2:\n",
    "            a.append(number)\n",
    "    return a"
   ]
  },
  {
   "cell_type": "code",
   "execution_count": null,
   "metadata": {
    "collapsed": true,
    "nbgrader": {
     "grade": true,
     "grade_id": "500003",
     "locked": true,
     "points": 2,
     "solution": false
    }
   },
   "outputs": [],
   "source": [
    "assert(multiples.__doc__ != None)"
   ]
  }
 ],
 "metadata": {
  "anaconda-cloud": {},
  "celltoolbar": "Create Assignment",
  "kernelspec": {
   "display_name": "Python [default]",
   "language": "python",
   "name": "python3"
  },
  "language_info": {
   "codemirror_mode": {
    "name": "ipython",
    "version": 3
   },
   "file_extension": ".py",
   "mimetype": "text/x-python",
   "name": "python",
   "nbconvert_exporter": "python",
   "pygments_lexer": "ipython3",
   "version": "3.5.2"
  }
 },
 "nbformat": 4,
 "nbformat_minor": 1
}
