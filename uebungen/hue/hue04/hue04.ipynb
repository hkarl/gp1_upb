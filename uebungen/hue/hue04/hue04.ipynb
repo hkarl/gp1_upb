Kapitel 6: 

Bedingte Ausführung: if

Schleifen: while, for

List comprehensions

Geschachtelte Schleifen

Definition: pass, if, elif, else, Block, while, for, range


Konzept von Programm
if: Syntax
if - else: Wahr oder Falsch Code-Blöcke
Geschachtelte if/else und leere Blöcke nach if: pass
if/elif/else:
Sichtbarkeit von Variablen in Schleifen: Variable nach Schleife sichtbar
Schleifen: Terminierung, Schleifenbedingung finden
Schleifenoperationen nicht komplett durchlaufen: continue
Schleife abbrechen: break
Else bei Schleifen: z.B. wenn es etwas nicht gefunden wird
Schleifen: for
for-Schleife über: dict, verchachtelte Datentypen, andere Aufzählungen, Folge von Zahlen: range
List comphrehensions

Gechachtelte Schleifen: z.B. Summe von Summe
Eingebaute Funktion: sum
Sortieren
Mischen zweier Listen
Mischen mit Slicing

Python: eingebaute Funktioonen: 
Allgemein: 
	- print, range, zip
Typ-bezogen: 
	- len
Datentyp erzeugen: 
	- tuple
	- list
	- set
	- dict

Test-Anweisung: assert

## Übungsideen

1. Eine Mathematische Formel mit verschachtelte Summen implementieren
2. Fehlerfindung: Schleife terminiert nicht
3. Funktion: Fibonacci Serien
4. Programm: Patterns ausdrucken mit for: z.B. Dreieck, Weinachtsbaum, Viereck
5. Funktion, die gerade und ungerade Zahlen zählt
6. Eine Funktion, die checkt ob ein Dreieck gleichseitig, gleichschenklig oder ungleichseitig ist.
7. Eine Funktion, die ein Datum als Eingabe hat und die Jahreszeit als Rückgabewert zurückgibt.
8. Eine Funktion, die die Summe und Mittelwert von eine Liste berechnet. 



