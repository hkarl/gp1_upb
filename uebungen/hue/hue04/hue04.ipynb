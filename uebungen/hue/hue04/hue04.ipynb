{
 "cells": [
  {
   "cell_type": "markdown",
   "metadata": {
    "nbgrader": {
     "grade": true,
     "grade_id": "matrikel",
     "locked": false,
     "points": 0,
     "solution": true
    }
   },
   "source": []
  },
  {
   "cell_type": "markdown",
   "metadata": {
    "nbgrader": {
     "grade": false,
     "grade_id": "matrikel_info",
     "locked": true,
     "solution": false
    }
   },
   "source": [
    "Bitte tragen Sie Ihre Matrikelnummern und E-Mail-Adressen *zeilenweise* in die Zelle *oberhalb* dieser Zelle ein.\n",
    "Beachten Sie: Die Abgabe muss mit Ihrem *Gruppenaccount* erfolgen, den Sie in der Präsenzübung erhalten haben! Abgaben, die über Ihren Einzelaccount erfolgen, werden ignoriert. \n",
    "Achten Sie dabei streng auf die Formatierung, denn die Auswertung erfolgt automatisch. \n",
    "Benutzen Sie *keine* Leerzeilen.\n",
    "Nur zwischen Matrikelnummer und E-Mail-Adresse darf ein Leerzeichen stehen.\n",
    "\n",
    "Format:\n",
    "\n",
    "MatrikelNummer E-Mail-Adresse\n",
    "\n",
    "z.B.:\n",
    "\n",
    "123456 testStudent@mail.upb.de\n",
    "\n",
    "### Abgabetermin: 27.11.2016 um 23:59 Uhr\n",
    "### Wichtig: Geben Sie Ihre Lösung in der vom Server erhaltenen Datei hue04.ipynb ab (nicht umbenennen, keine Kopie erstellen!). Sonst kann eine Bewertung nicht stattfinden.\n",
    "\n",
    "Bitte entfernen Sie auch die Zeilen mit Inhalt \"raise NotImplementedError()\" aus den Zellen, in die Sie Ihre Lösungen schreiben.\n",
    "\n",
    "Fügen Sie keine Zellen hinzu und löschen Sie keine Zellen.\n",
    "Ändern Sie nicht den Typ einer Zelle.\n",
    "Geben Sie Lösungen nur in den Lösungszellen ab (Änderungen in den anderen Zellen werden nach Abgabe automatisch rückgängig gemacht)."
   ]
  },
  {
   "cell_type": "markdown",
   "metadata": {
    "nbgrader": {
     "grade": false,
     "grade_id": "1",
     "locked": true,
     "solution": false
    }
   },
   "source": [
    "## Aufgabe 1: Round-off\n",
    "\n",
    "(2 Punkte) Erklären Sie kurz was das folgende Programm tut und führen Sie es aus. \n",
    "Eigentlich sollte ```r``` nach der Programmablauf immer noch gleich 4.0 sein, ist es aber nicht. \n",
    "Ab welchem Wert von ```n``` wird ```r=1.0```?\n",
    "Geben Sie ```r``` in beiden Schleifen aus. \n",
    "Erklären Sie anhand dieser Ausgaben, warum ```r``` am Ende gleich 1.0 ist und woran dies liegt.\n",
    "\n",
    "\n",
    "```Python\n",
    "for n in range(1, 60):\n",
    "    r = 4.0\n",
    "    for i in range(n):\n",
    "        r = r**0.5\n",
    "    for i in range(n):\n",
    "        r = r**2\n",
    "    print(n,r)\n",
    "```\n"
   ]
  },
  {
   "cell_type": "markdown",
   "metadata": {
    "collapsed": true,
    "nbgrader": {
     "grade": true,
     "grade_id": "2",
     "locked": false,
     "solution": true
    }
   },
   "source": [
    "### BEGIN SOLUTION \n",
    "Ab n=53 wird r = 1.0. Das passiert wegen Abrundungsfehlern.\n",
    "\n",
    "Aufgrund der endlichen Mantisse in der Gleitkommadarstellung lassen sich Zahlen auf einem Computer nicht beliebig genau darstellen. Es muss gerundet werden und die Rundungsfehler vergrössern sich nach jeder Wurzel- und Potenzberechnung.\n",
    "### END SOLUTION "
   ]
  },
  {
   "cell_type": "markdown",
   "metadata": {
    "nbgrader": {
     "grade": false,
     "grade_id": "3000",
     "locked": true,
     "solution": false
    }
   },
   "source": [
    "## Aufgabe 2: Listen\n",
    "\n",
    "a) (1 Punkt) Führen Sie das folgende Programm aus: \n",
    "\n",
    "```Python\n",
    "a = [1,2,3,4]\n",
    "c = a\n",
    "a[0] = 0\n",
    "print(c)\n",
    "```\n",
    "Warum hat die Liste ```c``` am Ende den gleichen Inhalt wie ```a```? Begründen Sie kurz."
   ]
  },
  {
   "cell_type": "markdown",
   "metadata": {
    "nbgrader": {
     "grade": true,
     "grade_id": "30001",
     "locked": false,
     "points": 1,
     "solution": true
    }
   },
   "source": []
  },
  {
   "cell_type": "markdown",
   "metadata": {
    "nbgrader": {
     "grade": false,
     "grade_id": "3001",
     "locked": true,
     "solution": false
    }
   },
   "source": [
    "b) (1 Punkt) Führen Sie das folgende Programm aus: \n",
    "\n",
    "```Python\n",
    "def list_return(lst):\n",
    "    return lst  \n",
    "\n",
    "a = [1, 2, 3, 4]\n",
    "b = list_return(a)\n",
    "a[0] = 0\n",
    "print(a,b)\n",
    "```\n",
    "\n",
    "Obwohl die Variable ```b``` von der Funktion ```list_return``` initialisiert wurde, hat sie den gleichen Inhalt wie die modifizierte Liste ```a```. Begründen Sie kurz."
   ]
  },
  {
   "cell_type": "markdown",
   "metadata": {
    "nbgrader": {
     "grade": true,
     "grade_id": "30011",
     "locked": false,
     "points": 1,
     "solution": true
    }
   },
   "source": []
  },
  {
   "cell_type": "markdown",
   "metadata": {
    "nbgrader": {
     "grade": false,
     "grade_id": "3002",
     "locked": true,
     "solution": false
    }
   },
   "source": [
    "c) (1 Punkt) Führen Sie das folgende Programm aus:\n",
    "\n",
    "```Python\n",
    "def list_return(lst):\n",
    "    return lst  \n",
    "\n",
    "a = [1, 2, 3, 4]\n",
    "b = list_return(a[:])\n",
    "a[0] = 0\n",
    "print(a,b)\n",
    "```\n",
    "Warum wird jetzt der Inhalt von ```b``` nicht durch die Modifizierung der Liste ```a``` geändert? "
   ]
  },
  {
   "cell_type": "markdown",
   "metadata": {
    "nbgrader": {
     "grade": true,
     "grade_id": "30021",
     "locked": false,
     "points": 1,
     "solution": true
    }
   },
   "source": []
  },
  {
   "cell_type": "markdown",
   "metadata": {
    "nbgrader": {
     "grade": false,
     "grade_id": "3003",
     "locked": true,
     "solution": false
    }
   },
   "source": [
    "d) (1 Punkt) Schreiben Sie eine neue Funktion namens ```list_copy_shallow```, welche eine Liste übergeben bekommt und eine *flache* Kopie dieser Liste zurückgibt (siehe zum Unterschied von flacher und tiefer Kopie einer Liste Kapitel 5 der VL-Unterlagen).\n",
    "\n",
    "Nutzen Sie dazu keine vordefinierte Copy-Funktionalität von Listen."
   ]
  },
  {
   "cell_type": "code",
   "execution_count": 29,
   "metadata": {
    "collapsed": true,
    "nbgrader": {
     "grade": false,
     "grade_id": "30031",
     "locked": false,
     "solution": true
    }
   },
   "outputs": [],
   "source": [
    "### BEGIN SOLUTION \n",
    "def list_copy_shallow(lst):\n",
    "    return lst[:]  \n",
    "### END SOLUTION "
   ]
  },
  {
   "cell_type": "code",
   "execution_count": 22,
   "metadata": {
    "collapsed": false,
    "nbgrader": {
     "grade": true,
     "grade_id": "30032",
     "locked": true,
     "points": 1,
     "solution": false
    }
   },
   "outputs": [],
   "source": [
    "a = [1, 2, 3, 4]\n",
    "b = list_copy_shallow(a)\n",
    "b[0] = 2\n",
    "assert(a != b)\n",
    "\n",
    "### HIDESTART\n",
    "c = [ [1, 2], 3 ]\n",
    "d = list_copy_shallow(c)\n",
    "c[0][0] = 2\n",
    "assert(c == d)\n",
    "### HIDEEND"
   ]
  },
  {
   "cell_type": "markdown",
   "metadata": {
    "nbgrader": {
     "grade": false,
     "grade_id": "3004",
     "locked": true,
     "solution": false
    }
   },
   "source": [
    "e) (2 Punkte) Schreiben Sie eine weitere Funktion namens ```list_copy_deep```, welche eine Liste übergeben bekommt und eine *tiefe* Kopie dieser LIste zurückgibt.\n",
    "\n",
    "Nutzen Sie dazu keine vordefinierte Copy Funktionalität von Listen. "
   ]
  },
  {
   "cell_type": "code",
   "execution_count": 30,
   "metadata": {
    "collapsed": true,
    "nbgrader": {
     "grade": false,
     "grade_id": "30041",
     "locked": false,
     "points": 0,
     "solution": true
    }
   },
   "outputs": [],
   "source": [
    "### BEGIN SOLUTION \n",
    "import copy\n",
    "def list_copy_deep(lst):\n",
    "    return copy.deepcopy(lst) #of course, this is only a temporary solution!\n",
    "### END SOLUTION "
   ]
  },
  {
   "cell_type": "code",
   "execution_count": 32,
   "metadata": {
    "collapsed": false,
    "nbgrader": {
     "grade": true,
     "grade_id": "30042",
     "locked": true,
     "points": 2,
     "solution": false
    }
   },
   "outputs": [],
   "source": [
    "a = [1, 2, 3, 4]\n",
    "b = [5, 6, 7, 8]\n",
    "c = 9\n",
    "d = [a, b, c]\n",
    "\n",
    "e = list_copy_deep(d)\n",
    "assert(d == e)\n",
    "d[0][0] = 2\n",
    "assert(d != e)"
   ]
  },
  {
   "cell_type": "markdown",
   "metadata": {
    "nbgrader": {
     "grade": false,
     "grade_id": "3006",
     "locked": true,
     "solution": false
    }
   },
   "source": [
    "f) (1 Punkt) Gegegeben sei die folgende 2x2-Matrix:\n",
    "\n",
    "```\n",
    "1 2\n",
    "3 4\n",
    "```\n",
    "\n",
    "Betrachten Sie folgende Umsetzung einer solchen Matrix in Python:\n",
    "```Python\n",
    "    matrix = [[1, 2], [3, 4]]\n",
    "```\n",
    "\n",
    "Schreiben Sie eine Funktion namens ```transpose_matrix```, welche eine in dieser Art implementierte 2x2-Matrix als Eingabe erhält und die transponierte Matrix zurückgibt.\n",
    "Die Matrix selbst soll dabei nicht verändert werden.\n",
    "\n",
    "Zum Thema Transponieren von Matrizen lesen Sie nötigenfalls hier nach: https://de.wikipedia.org/wiki/Transponierte_Matrix."
   ]
  },
  {
   "cell_type": "code",
   "execution_count": 52,
   "metadata": {
    "collapsed": true,
    "nbgrader": {
     "grade": true,
     "grade_id": "30061",
     "locked": false,
     "points": 0,
     "solution": true
    }
   },
   "outputs": [],
   "source": [
    "###BEGIN SOLUTION\n",
    "def transpose_matrix(matrix):\n",
    "    return [[matrix[0][0], matrix[1][0]], [matrix[0][1], matrix[1][1]]]                \n",
    "### END SOLUTION"
   ]
  },
  {
   "cell_type": "code",
   "execution_count": 54,
   "metadata": {
    "collapsed": false,
    "nbgrader": {
     "grade": true,
     "grade_id": "30062",
     "locked": true,
     "points": 1,
     "solution": false
    }
   },
   "outputs": [],
   "source": [
    "matrix = [[1, 2], [3, 4]]\n",
    "matrix_transposed = transpose_matrix(matrix)\n",
    "\n",
    "assert(matrix_transposed[0][0] == 1)\n",
    "assert(matrix_transposed[0][1] == 3)\n",
    "assert(matrix_transposed[1][0] == 2)\n",
    "assert(matrix_transposed[1][1] == 4)\n",
    "\n",
    "### HIDESTART\n",
    "matrix2 = [[5, 6], [7, 8]]\n",
    "matrix2_transposed = transpose_matrix(matrix2)\n",
    "assert(matrix2_transposed == [[matrix2[0][0], matrix2[1][0]], [matrix2[0][1], matrix2[1][1]]])\n",
    "### HIDEEND"
   ]
  },
  {
   "cell_type": "markdown",
   "metadata": {
    "nbgrader": {
     "grade": false,
     "grade_id": "3007",
     "locked": true,
     "solution": false
    }
   },
   "source": [
    "g) (1 Punkt) Tiefe Kopie einer Matrix erzeugen."
   ]
  },
  {
   "cell_type": "markdown",
   "metadata": {
    "nbgrader": {
     "grade": false,
     "grade_id": "3031",
     "locked": true,
     "solution": false
    }
   },
   "source": [
    "## Aufgabe 3: Strings\n",
    "\n",
    "Zeichenketten in Python können Zeichen aus einem großen Zeichenvorrat annehmen; typischerweise dem sog. Universal Coded Character Set Transformation Format mit 8 bits (UTF-8). \n",
    "Damit stehen zum Beispiel Zeichen asiatischer und arabischer Sprachen bereit. \n",
    "\n",
    "a) (1 Punkt) Finden Sie heraus, wie viele Bytes benötigt werden, um die folgenden Zeichenketten intern darzustellen.\n",
    "Wie vielen Bytes pro Zeichen entspricht das (achten Sie auf die beiden Leerzeichen!)? (Schreiben Sie Ihre Antwort als Kommentar)\n",
    "\n",
    "\n",
    "```Python\n",
    "# Beispiel-Zeichenketten in UTF-8\n",
    "s1 = '我们 爱 编程'\n",
    "s2 = \"äöü\"\n",
    "s3 = \"éàß\"\n",
    "```\n",
    "\n",
    "Schreiben Sie eine Funktion namens ```utf8_len```, die einen String übergeben bekommt und die die Anzahl der Bytes dieses Strings zurückgibt. \n",
    "\n",
    "Hinweis: Sie dürfen hierzu Funktionen der Python-Standardbibliothek nutzen, die nicht in der Vorlesung behandelt wurden."
   ]
  },
  {
   "cell_type": "code",
   "execution_count": 61,
   "metadata": {
    "collapsed": true,
    "nbgrader": {
     "grade": false,
     "grade_id": "3032",
     "locked": false,
     "solution": true
    }
   },
   "outputs": [],
   "source": [
    "s1 = '我们 爱 编程'\n",
    "s2 = \"äöü\"\n",
    "s3 = \"éàß\"\n",
    "\n",
    "###BEGIN SOLUTION\n",
    "# Leerzeichen benötigen 1 Byte, Umlaute, das ß und Zeichen mit Akzent 2 Bytes und die asiatischen Bildzeichen 3 Bytes\n",
    "def laenge(s):\n",
    "    return len(bytes(s, \"utf-8\"))\n",
    "###END SOLUTION"
   ]
  },
  {
   "cell_type": "code",
   "execution_count": 58,
   "metadata": {
    "collapsed": true,
    "nbgrader": {
     "grade": true,
     "grade_id": "3033",
     "locked": true,
     "points": 1,
     "solution": false
    }
   },
   "outputs": [],
   "source": [
    "assert(laenge('我们 爱 编程') == 17)\n",
    "assert(laenge('我们爱') == 9)\n",
    "assert(laenge('äöü') == 6)\n",
    "assert(laenge('éàß') == 6)"
   ]
  },
  {
   "cell_type": "markdown",
   "metadata": {
    "nbgrader": {
     "grade": false,
     "grade_id": "3034",
     "locked": true,
     "solution": false
    }
   },
   "source": [
    "b) (1 Punkt) Untersuchen Sie, wie sich slicing für solche Zeichenketten benimmt. \n",
    "Welchen Slicing-Ausdruck müssen Sie anwenden, um die ersten beiden Zeichen des Strings s1 zu erhalten?"
   ]
  },
  {
   "cell_type": "code",
   "execution_count": 62,
   "metadata": {
    "collapsed": true,
    "nbgrader": {
     "grade": true,
     "grade_id": "3035",
     "locked": false,
     "points": 1,
     "solution": true
    }
   },
   "outputs": [],
   "source": [
    "###BEGIN SOLUTION\n",
    "\n",
    "###END SOLUTION"
   ]
  },
  {
   "cell_type": "markdown",
   "metadata": {
    "nbgrader": {
     "grade": false,
     "grade_id": "3036",
     "locked": true,
     "solution": false
    }
   },
   "source": [
    "c) (1 Punkt) Wäre es sinnvoll, bei solchen Zeichenketten stets die gleiche Anzahl an Bytes pro Zeichen zu benutzen? Begründen Sie! \n",
    "\n",
    "Welchen Verhalten scheint bei Python vorzuliegen?"
   ]
  },
  {
   "cell_type": "markdown",
   "metadata": {
    "nbgrader": {
     "grade": true,
     "grade_id": "3037",
     "locked": false,
     "points": 1,
     "solution": true
    }
   },
   "source": [
    "###BEGIN SOLUTION\n",
    "Argumente für die Verwendung einer stets gleichen Anzahl an Bytes pro Zeichen:\n",
    "- Leichtes Errechnen der Länge des Strings möglich (evtl. für Pointer-Arithmetik nützlich, für Python egal) \n",
    "- Verändern eines Zeichens ändert nicht die Länge des Strings (in Python ja nicht möglich)\n",
    "Argumente für die Verwendung einer variablen Anzahl an Bytes pro Zeichen:\n",
    "- Geringerer Speicherplatzbedarf bei Verwendung von Sprachen, die nur oder größtenteils aus 1-Byte-Zeichen bestehen\n",
    "- Texte in Englisch lassen sich wie ASCII kodieren (in manchen Fällen höhere Kompatibilität)\n",
    "- Theoretisch unbegrenzte Erweiterbarkeit des Zeichenvorrats\n",
    "\n",
    "Python nutzt, wie in a) gesehen, eine variable Anzahl an Bytes pro Zeichen.\n",
    "###END SOLUTION"
   ]
  },
  {
   "cell_type": "markdown",
   "metadata": {},
   "source": [
    "## Aufgabe 4: Funktionen\n",
    "\n",
    "Warum muss man die Reihenfolge der Auswertung von Funktionsparametern spezifieren? Wie ist das spezifiziert? Woran würde man das merken? Gibt es ein Beispiel, außer Funktionen mit Seiteneffekt im Aufruf einer Funktion bei dem das auftritt?\n",
    "\n",
    "Siehe: https://www.securecoding.cert.org/confluence/display/c/EXP30-C.+Do+not+depend+on+the+order+of+evaluation+for+side+effects\n",
    "\n",
    " https://docs.python.org/2/reference/expressions.html#evaluation-order)\n",
    " \n",
    " *** UEBUNG Warum ist die Ferstlegung *vor* Position einfügen sinnvoll?"
   ]
  },
  {
   "cell_type": "markdown",
   "metadata": {
    "nbgrader": {
     "grade": false,
     "grade_id": "1111",
     "locked": true,
     "solution": false
    }
   },
   "source": [
    "## Aufgabe 5: Tuples\n",
    "\n",
    "http://openbookproject.net/thinkcs/python/english3e/tuples.html\n",
    "\n",
    "Tuples als Buch von Douglas Adams, per Anhalter durch den Galaxis\n",
    "Einpacken: name, Autor, Veröffentlichung\n",
    "Auspacken: Möchte gerne Wissen wie der Autor und Veröffentlichung lauten\n",
    "\n",
    "\n",
    "http://stackoverflow.com/questions/6967632/unpacking-extended-unpacking-and-nested-extended-unpacking\n",
    "\n",
    "der PEP3132 ist daszu ja ganz witzig.\n",
    "\n",
    "Tuple ist nicht das gleiche wie mehrere Parameter:\n",
    "\n",
    "Ein Funktion mit return tuple, und möglicherweise kombiniere das mit die Fragen vom Stackoverflow.\n",
    "ein Funktion\n",
    "\n",
    "* Tuple kann man nicht ändern, auch wenn man das vielleicht denkt , siehe:\n",
    "*** UEBUNG Tuple ändern durch slicing und ändern\n",
    "\n",
    "\n",
    "* Tuple ist nicht das gleiche wie mehrere Parameter:\n",
    "\n",
    "*** UEBUNG Falscher Aufruf  von quersumme"
   ]
  },
  {
   "cell_type": "code",
   "execution_count": null,
   "metadata": {
    "collapsed": true
   },
   "outputs": [],
   "source": []
  }
 ],
 "metadata": {
  "anaconda-cloud": {},
  "celltoolbar": "Create Assignment",
  "kernelspec": {
   "display_name": "Python [default]",
   "language": "python",
   "name": "python3"
  },
  "language_info": {
   "codemirror_mode": {
    "name": "ipython",
    "version": 3
   },
   "file_extension": ".py",
   "mimetype": "text/x-python",
   "name": "python",
   "nbconvert_exporter": "python",
   "pygments_lexer": "ipython3",
   "version": "3.5.2"
  }
 },
 "nbformat": 4,
 "nbformat_minor": 1
}
