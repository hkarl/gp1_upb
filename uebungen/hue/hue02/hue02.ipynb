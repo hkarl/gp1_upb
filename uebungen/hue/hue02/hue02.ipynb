Animationen von Programen mit Pythontutor

Variable verändern und Zuweisung: 
	Wert von einem Variable am Ende
	Gleichzeitige Zuweisungen
	Vertauschen zweier Variablenwerte
	Zuweisungen
Zuweisungen und Typen
	Veränderung von Variablentypen
Syntax und Stil
	Stilregeln für Konsistenz: Python Enhancement Proposal No. 8 (PEP 8)
	Kommentaren: offensichtliches vs Grund für die Anweisung
	Zen of Python: Beautiful is better than ugly 
Kapitel 4: Funktionen Teil 1
	Wiederkehrende Anweisungen in Funktionen aufschreiben
	Programmiertechnik: Problem zerteilen
	Funktionen visualisieren: animation

Objekte: intro
	Aufruf von einer Funktion
	Lebensdauer und Namespace von Variablen
	Scope / Frame Beispiel
	
Funktionen: 
	Mit und ohne Effekt
	Rückgabewerten
	bis-dato Schlüsselwörtern: True, False, and, or, def, return, none
	Visualisierung dazu
	mit Parametern
	Syntax, Definition und Aufruf
	Animation: Zuweisung an formale Parameter

	

	
	
	

	


