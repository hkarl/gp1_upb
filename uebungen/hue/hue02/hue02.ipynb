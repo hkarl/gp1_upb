Ch 3, Animation von Programmen	Ch 4: Namenkonvention für Funktionsnamen	Ch 4: Pass-by-assignment
