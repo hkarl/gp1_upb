{
 "cells": [
  {
   "cell_type": "markdown",
   "metadata": {
    "nbgrader": {
     "grade": true,
     "grade_id": "matrikel",
     "locked": false,
     "points": 0,
     "solution": true
    }
   },
   "source": []
  },
  {
   "cell_type": "markdown",
   "metadata": {
    "nbgrader": {
     "grade": false,
     "grade_id": "matrikel_info",
     "locked": true,
     "solution": false
    }
   },
   "source": [
    "Bitte tragen Sie Ihre Matrikelnummern und E-Mail-Adressen *zeilenweise* in die Zelle *oberhalb* dieser Zelle ein.\n",
    "Beachten Sie: Die Abgabe muss mit Ihrem *Gruppenaccount* erfolgen, den Sie in der Präsenzübung erhalten haben! Abgaben, die über Ihren Einzelaccount erfolgen, werden ignoriert. \n",
    "Achten Sie dabei streng auf die Formatierung, denn die Auswertung erfolgt automatisch. \n",
    "Benutzen Sie *keine* Leerzeilen.\n",
    "Nur zwischen Matrikelnummer und E-Mail-Adresse darf ein Leerzeichen stehen.\n",
    "\n",
    "Format:\n",
    "\n",
    "MatrikelNummer E-Mail-Adresse\n",
    "\n",
    "z.B.:\n",
    "\n",
    "123456 testStudent@mail.upb.de\n",
    "\n",
    "### Abgabetermin: 13.11.2016 um 23:59 Uhr"
   ]
  },
  {
   "cell_type": "markdown",
   "metadata": {
    "nbgrader": {
     "grade": false,
     "grade_id": "0",
     "locked": true,
     "solution": false
    }
   },
   "source": [
    "## Aufgabe 1: \n",
    "a) (1 Punkt) Gegeben ist folgendes Programm:\n",
    "```Python\n",
    "a = 5\n",
    "b = 17\n",
    "a = b + 2\n",
    "print(a, b)\n",
    "```\n",
    "Was gibt das Programm aus? Erklären Sie kurz."
   ]
  },
  {
   "cell_type": "markdown",
   "metadata": {
    "collapsed": true,
    "nbgrader": {
     "grade": true,
     "grade_id": "1",
     "locked": false,
     "points": 1,
     "solution": true
    }
   },
   "source": [
    "    ### BEGIN SOLUTION \n",
    "Das Programm gibt 19 17 aus. \n",
    "Grund: der Wert von ```a``` wird von ```b + 2``` überschrieben, wobei ```b = 17```\n",
    "    ### END SOLUTION"
   ]
  },
  {
   "cell_type": "markdown",
   "metadata": {
    "nbgrader": {
     "grade": false,
     "grade_id": "2",
     "locked": true,
     "solution": false
    }
   },
   "source": [
    "b) (1 Punkt) Sie ändern in der dritten Zeile $a$ auf $b$. Was gibt das Programm nun aus?  Erklären Sie kurz.\n",
    "\n",
    "```Python\n",
    "a = 5\n",
    "b = 17\n",
    "b = b + 2\n",
    "print(a, b)\n",
    "```"
   ]
  },
  {
   "cell_type": "markdown",
   "metadata": {
    "collapsed": true,
    "nbgrader": {
     "grade": true,
     "grade_id": "3",
     "locked": false,
     "points": 1,
     "solution": true
    }
   },
   "source": [
    "    ### BEGIN SOLUTION \n",
    "Das Programm gibt 5 19 aus. \n",
    "Grund: ```a``` bleibt unverändert und der Wert von ```b``` wird von ```b + 2``` überschrieben, wobei ```b = 17```. \n",
    "    ### END SOLUTION"
   ]
  },
  {
   "cell_type": "markdown",
   "metadata": {
    "nbgrader": {
     "grade": false,
     "grade_id": "5",
     "locked": true,
     "solution": false
    }
   },
   "source": [
    "c) (1 Punkt) Sie vertauschen die erste mit der zweiten Zeile. Was gibt das Programm nun aus?  Erklären Sie kurz.\n",
    "\n",
    "```Python\n",
    "b = 17\n",
    "a = 5\n",
    "a = b + 2\n",
    "print(a, b)\n",
    "```"
   ]
  },
  {
   "cell_type": "markdown",
   "metadata": {
    "collapsed": true,
    "nbgrader": {
     "grade": true,
     "grade_id": "6",
     "locked": false,
     "points": 1,
     "solution": true
    }
   },
   "source": [
    "    ### BEGIN SOLUTION \n",
    "Das Programm gibt 19 17 aus. \n",
    "Grund: ```b``` bleibt unverändert und der Wert von ```a``` wird von ```b + 2``` überschrieben, wobei ```b = 17```. \n",
    "    ### END SOLUTION"
   ]
  },
  {
   "cell_type": "markdown",
   "metadata": {
    "nbgrader": {
     "grade": false,
     "grade_id": "7",
     "locked": true,
     "solution": false
    }
   },
   "source": [
    "d) (1 Punkt) Sie ändern in der dritten Zeile $a$ auf $d$. Was gibt das Programm nun aus? Erklären Sie kurz.\n",
    "\n",
    "```Python\n",
    "b = 17\n",
    "a = 5\n",
    "d = b + 2\n",
    "print(a, b)\n",
    "```"
   ]
  },
  {
   "cell_type": "markdown",
   "metadata": {
    "collapsed": true,
    "nbgrader": {
     "grade": true,
     "grade_id": "8",
     "locked": false,
     "points": 1,
     "solution": true
    }
   },
   "source": [
    "    ### BEGIN SOLUTION \n",
    "Das Programm gibt 5 17 aus. \n",
    "Grund: ```a``` und ```b``` bleiben unverändert.\n",
    "    ### END SOLUTION"
   ]
  },
  {
   "cell_type": "markdown",
   "metadata": {
    "nbgrader": {
     "grade": false,
     "grade_id": "9",
     "locked": true,
     "solution": false
    }
   },
   "source": [
    "e) (1 Punkt) Sie ändern in der ersten UND dritten Zeile $a$ auf $d$. Was gibt das Programm nun aus?  Erklären Sie kurz.\n",
    "\n",
    "```Python\n",
    "d = 5\n",
    "b = 17\n",
    "d = b + 2\n",
    "print(a, b)\n",
    "```\n"
   ]
  },
  {
   "cell_type": "markdown",
   "metadata": {
    "collapsed": true,
    "nbgrader": {
     "grade": true,
     "grade_id": "10",
     "locked": false,
     "points": 1,
     "solution": true
    }
   },
   "source": [
    "    ### BEGIN SOLUTION \n",
    "Das Programm ist fehlerhaft, da die Variable ```a``` noch nicht definiert ist.\n",
    "    ### END SOLUTION"
   ]
  },
  {
   "cell_type": "markdown",
   "metadata": {
    "nbgrader": {
     "grade": false,
     "grade_id": "11",
     "locked": true,
     "solution": false
    }
   },
   "source": [
    "## Aufgabe 2: Funktionen\n",
    "\n",
    "a) (2 Punkte) Schreiben Sie vier Funktionen namens ```add, multiply, divide``` und ```exponentiate```, die zwei als Parameter übergebene Werte miteinander addieren, multiplizieren, dividieren und exponieren. Das entsprechende Ergebnis soll von den Funktionen zurückgegeben werden."
   ]
  },
  {
   "cell_type": "code",
   "execution_count": 13,
   "metadata": {
    "collapsed": false,
    "nbgrader": {
     "grade": false,
     "grade_id": "21",
     "locked": false,
     "solution": true
    }
   },
   "outputs": [],
   "source": [
    "def add(a, b):\n",
    "    ### BEGIN SOLUTION \n",
    "    print('ADDING ',a,' + ',b)\n",
    "    out = a + b\n",
    "    return out\n",
    "    ### END SOLUTION\n",
    "\n",
    "def multiply(a, b):\n",
    "    ### BEGIN SOLUTION \n",
    "    print('MULTIPLYING ',a,' * ',b)\n",
    "    out = a * b\n",
    "    return out\n",
    "    ### END SOLUTION\n",
    "    \n",
    "def divide(a, b):\n",
    "    ### BEGIN SOLUTION \n",
    "    print('DIVIDING ',a,' / ',b)\n",
    "    out = a / b\n",
    "    return out\n",
    "    ### END SOLUTION\n",
    "    \n",
    "def exponentiate(a, b):\n",
    "    ### BEGIN SOLUTION \n",
    "    print('EXPONENTIATING ',a,' ** ',b)\n",
    "    out = a ** b\n",
    "    return out\n",
    "    ### END SOLUTION"
   ]
  },
  {
   "cell_type": "code",
   "execution_count": null,
   "metadata": {
    "collapsed": false,
    "nbgrader": {
     "grade": true,
     "grade_id": "41",
     "locked": true,
     "points": 2,
     "solution": false
    }
   },
   "outputs": [],
   "source": [
    "assert(add(4,6)==10)\n",
    "assert(multiply(3,3)==9)\n",
    "assert(divide(6,3)==2)\n",
    "assert(exponentiate(2,3)==8)"
   ]
  },
  {
   "cell_type": "markdown",
   "metadata": {
    "nbgrader": {
     "grade": false,
     "grade_id": "22",
     "locked": true,
     "solution": false
    }
   },
   "source": [
    "b) (2 Punkte) Schreiben Sie anschließend eine Funktion namens totalMoney, die drei Parameter k, n und p (in dieser Reihenfolge) übergeben bekommt und welche das Ergebnis der folgenden Rechnung zurückgibt.\n",
    "\n",
    "$$K \\left(1 + \\frac{p}{100} \\right)^n,$$\n",
    "\n",
    "Verwenden Sie in dieser Aufgabe ausschließlich die in Teilaufgabe a) definierten Funktionen und keine Python-Rechenoperatoren."
   ]
  },
  {
   "cell_type": "code",
   "execution_count": 14,
   "metadata": {
    "collapsed": false,
    "nbgrader": {
     "grade": false,
     "grade_id": "12",
     "locked": false,
     "solution": true
    }
   },
   "outputs": [],
   "source": [
    "def totalMoney(k,n,p):\n",
    "    ### BEGIN SOLUTION \n",
    "    out = multiply(k,exponentiate(add(divide(p,100),1),n))\n",
    "    return out\n",
    "    ### END SOLUTION"
   ]
  },
  {
   "cell_type": "code",
   "execution_count": 15,
   "metadata": {
    "collapsed": false,
    "nbgrader": {
     "grade": true,
     "grade_id": "81",
     "locked": true,
     "points": 2,
     "solution": false
    },
    "scrolled": true
   },
   "outputs": [
    {
     "name": "stdout",
     "output_type": "stream",
     "text": [
      "DIVIDING  5  /  100\n",
      "ADDING  0.05  +  1\n",
      "EXPONENTIATING  1.05  **  3\n",
      "MULTIPLYING  1000  *  1.1576250000000001\n"
     ]
    }
   ],
   "source": [
    "assert(totalMoney(1000,3,5)==1157.6250000000002)"
   ]
  },
  {
   "cell_type": "markdown",
   "metadata": {
    "nbgrader": {
     "grade": false,
     "grade_id": "84",
     "locked": true,
     "solution": false
    }
   },
   "source": [
    "## Aufgabe 3: Datenbearbeitung\n",
    "\n",
    "a) (1 Punkt) Schreiben Sie ein Programm, das eine Temperatur von Grad Celsius nach Grad Fahrenheit umrechnen kann. Geben Sie das Ergebnis auf dem Bildschirm aus, z.B. \"XX°C sind XX°F\"."
   ]
  },
  {
   "cell_type": "code",
   "execution_count": 15,
   "metadata": {
    "collapsed": false,
    "nbgrader": {
     "grade": true,
     "grade_id": "85",
     "locked": false,
     "points": 1,
     "solution": true
    }
   },
   "outputs": [
    {
     "name": "stdout",
     "output_type": "stream",
     "text": [
      "30 °C sind 86.0 °F\n",
      "86 °F sind 30.0 °C\n"
     ]
    }
   ],
   "source": [
    "    ### BEGIN SOLUTION \n",
    "Celsiusdegree = 30\n",
    "Fahrenheit = Celsiusdegree*1.8 + 32\n",
    "print(Celsiusdegree, '°C sind', Fahrenheit, '°F')\n",
    "\n",
    "Fahrenheit = 86\n",
    "Celsiusdegree = (Fahrenheit - 32) / 1.8\n",
    "print(Fahrenheit, '°F sind', Celsiusdegree, '°C')\n",
    "    ### END SOLUTION"
   ]
  },
  {
   "cell_type": "markdown",
   "metadata": {
    "collapsed": true,
    "nbgrader": {
     "grade": false,
     "grade_id": "86",
     "locked": true,
     "solution": false
    }
   },
   "source": [
    "b) (1 Punkt) Schreiben Sie ein Programm, das den Umfang und die Fläche eines Kreises anhand seines Durchmessers berechnen kann. Geben Sie das Ergebnis auf dem Bildschirm aus, z.B. \"Die Fläche beträgt XX mm2 und der Umfang beträgt XX mm\"."
   ]
  },
  {
   "cell_type": "code",
   "execution_count": 1,
   "metadata": {
    "collapsed": false,
    "nbgrader": {
     "grade": true,
     "grade_id": "87",
     "locked": false,
     "points": 1,
     "solution": true
    }
   },
   "outputs": [
    {
     "name": "stdout",
     "output_type": "stream",
     "text": [
      "Die Fläche beträgt 78.5 mm2 und der Umfang beträgt 31.400000000000002 mm\n"
     ]
    }
   ],
   "source": [
    "    ### BEGIN SOLUTION \n",
    "diameter = 10\n",
    "perimeter = 3.14 * diameter\n",
    "surface = 3.14*(diameter/2)**2\n",
    "print(\"Die Fläche beträgt\", surface, \"mm2 und der Umfang beträgt\", perimeter, \"mm\")\n",
    "    ### END SOLUTION"
   ]
  },
  {
   "cell_type": "markdown",
   "metadata": {
    "nbgrader": {
     "grade": false,
     "grade_id": "88",
     "locked": true,
     "solution": false
    }
   },
   "source": [
    "c) (1 Punkt) Schreiben Sie Ihr aktuelles Alter, ein späteres Alter und wieviel Geld Sie pro Tag benötigen in drei verschiedene Variablen. \n",
    "Berechnen Sie anhand der Daten, wieviel Geld Sie von ihrem letzten Geburtstag an bis zum Erreichen des späteren Alters benötigen.\n",
    "Geben Sie das Resultat aus, z.B. \"Bis zum XX-ten Lebensjahr benötigen Sie XX Euro\".\n",
    "\n",
    "Hinweis: Sie dürfen dabei zur Vereinfachung annehmen, dass jedes Lebensjahr genau 365 Tage hat."
   ]
  },
  {
   "cell_type": "code",
   "execution_count": 3,
   "metadata": {
    "collapsed": false,
    "nbgrader": {
     "grade": true,
     "grade_id": "89",
     "locked": false,
     "points": 2,
     "solution": true
    }
   },
   "outputs": [
    {
     "name": "stdout",
     "output_type": "stream",
     "text": [
      "Bis zum 50-ten Lebensjahr benötigen Sie 284700 Euro.\n"
     ]
    }
   ],
   "source": [
    "    ### BEGIN SOLUTION \n",
    "actualAge = 24\n",
    "futureAge = 50\n",
    "dailyExpense = 30\n",
    "costs = (futureAge - actualAge) * dailyExpense * 365\n",
    "print('Bis zum ', futureAge, '-ten Lebensjahr benötigen Sie ', costs, ' Euro.', sep='')\n",
    "    ### END SOLUTION"
   ]
  },
  {
   "cell_type": "markdown",
   "metadata": {
    "nbgrader": {
     "grade": false,
     "grade_id": "90",
     "locked": true,
     "solution": false
    }
   },
   "source": [
    "d) (2 Punkte) Schreiben Sie eine Funktion, die die Eckpunkte von einem Dreieck übergeben bekommt. Die Funktion soll dabei die Seitenlängen berechnen und den entsprechenden Umfang zurückgeben. "
   ]
  },
  {
   "cell_type": "code",
   "execution_count": 7,
   "metadata": {
    "collapsed": false,
    "nbgrader": {
     "grade": false,
     "grade_id": "82",
     "locked": false,
     "solution": true
    }
   },
   "outputs": [
    {
     "name": "stdout",
     "output_type": "stream",
     "text": [
      "5.656854249492381\n"
     ]
    }
   ],
   "source": [
    "def calcTriangle(x1, y1, x2, y2, x3, y3):\n",
    "    ### BEGIN SOLUTION\n",
    "    d1 = ((x1 - x2)**2 + (y1 - y2)**2)**0.5\n",
    "    d2 = ((x1 - x3)**2 + (y1 - y3)**2)**0.5\n",
    "    d3 = ((x2 - x3)**2 + (y2 - y3)**2)**0.5\n",
    "    perimeter = d1 + d2 +d3\n",
    "    ### END SOLUTION\n",
    "    return perimeter\n",
    "\n",
    "perimeter = calcTriangle(0,0,1,1,2,2)\n",
    "print(perimeter)"
   ]
  },
  {
   "cell_type": "code",
   "execution_count": 8,
   "metadata": {
    "collapsed": true,
    "nbgrader": {
     "grade": true,
     "grade_id": "83",
     "locked": true,
     "points": 2,
     "solution": false
    }
   },
   "outputs": [],
   "source": [
    "assert(calcTriangle(0,0,1,1,2,2)==5.656854249492381)"
   ]
  },
  {
   "cell_type": "markdown",
   "metadata": {
    "nbgrader": {
     "grade": false,
     "grade_id": "73",
     "locked": true,
     "solution": false
    }
   },
   "source": [
    "## Aufgabe 4: Mehrfache Eingabe- und Rückgabewerte\n",
    "\n",
    "b) (2 Punkte) Schreiben Sie eine Funktion, die eine Zeitdauer in Tagen (d), Stunden (h), Minuten (m) und Sekunden (s) übergeben bekommt und die Gesamtdauer in Sekunden zurückgibt."
   ]
  },
  {
   "cell_type": "code",
   "execution_count": 6,
   "metadata": {
    "collapsed": false,
    "nbgrader": {
     "grade": false,
     "grade_id": "74",
     "locked": false,
     "solution": true
    }
   },
   "outputs": [
    {
     "name": "stdout",
     "output_type": "stream",
     "text": [
      "seconds:  3670\n"
     ]
    }
   ],
   "source": [
    "def convDate(d, h, m, s):\n",
    "    ###BEGIN SOLUTION###\n",
    "    s += d*60*60*24 + h*60*60 + m *60\n",
    "    ###END SOLUTION####\n",
    "    return s\n",
    "\n",
    "    \n",
    "s = convDate(0, 1, 1, 10)    \n",
    "print(\"seconds: \", s)   "
   ]
  },
  {
   "cell_type": "code",
   "execution_count": 9,
   "metadata": {
    "collapsed": false,
    "nbgrader": {
     "grade": true,
     "grade_id": "75",
     "locked": true,
     "points": 2,
     "solution": false
    }
   },
   "outputs": [],
   "source": [
    "s = convDate(0, 1, 1, 10)   \n",
    "assert(s==3670)"
   ]
  },
  {
   "cell_type": "markdown",
   "metadata": {
    "nbgrader": {
     "grade": false,
     "grade_id": "70",
     "locked": true,
     "solution": false
    }
   },
   "source": [
    "a) (3 Punkte)  Schreiben Sie eine weitere Funktion, die die umgekehrte Funktionalität hat. \n",
    "Die Funktion soll dabei den Gesamtdauer in Sekunden übergeben bekommen und in Tagen (d), Stunden (h), Minuten (m) und Sekunden (s) umrechnen und zurückgeben. "
   ]
  },
  {
   "cell_type": "code",
   "execution_count": 17,
   "metadata": {
    "collapsed": false,
    "nbgrader": {
     "grade": false,
     "grade_id": "71",
     "locked": false,
     "solution": true
    }
   },
   "outputs": [
    {
     "name": "stdout",
     "output_type": "stream",
     "text": [
      "days:  0  hours:  1  mins:  1 secs:  10\n"
     ]
    }
   ],
   "source": [
    "def convSec(s):\n",
    "    ###BEGIN SOLUTION###\n",
    "    d = s // (60 * 60 * 24);\n",
    "    s -= d * (60 * 60 * 24);\n",
    "    h = s // (60 * 60);\n",
    "    s -= h * (60 * 60);\n",
    "    m = s // 60;\n",
    "    s -= m*60\n",
    "    ###END SOLUTION####\n",
    "    return d, h, m, s\n",
    "\n",
    "    \n",
    "d, h, m, s = convSec(3670)    \n",
    "print(\"days: \", d, \" hours: \", h,\" mins: \", m, \"secs: \", s)   \n",
    "    "
   ]
  },
  {
   "cell_type": "code",
   "execution_count": 18,
   "metadata": {
    "collapsed": false,
    "nbgrader": {
     "grade": true,
     "grade_id": "72",
     "locked": true,
     "points": 3,
     "solution": false
    },
    "scrolled": true
   },
   "outputs": [],
   "source": [
    "d, h, m, s = convSec(3670)   \n",
    "assert(d==0)\n",
    "assert(h==1)\n",
    "assert(m==1)\n",
    "assert(s==10)"
   ]
  }
 ],
 "metadata": {
  "anaconda-cloud": {},
  "celltoolbar": "Create Assignment",
  "kernelspec": {
   "display_name": "Python [default]",
   "language": "python",
   "name": "python3"
  },
  "language_info": {
   "codemirror_mode": {
    "name": "ipython",
    "version": 3
   },
   "file_extension": ".py",
   "mimetype": "text/x-python",
   "name": "python",
   "nbconvert_exporter": "python",
   "pygments_lexer": "ipython3",
   "version": "3.5.2"
  }
 },
 "nbformat": 4,
 "nbformat_minor": 1
}
