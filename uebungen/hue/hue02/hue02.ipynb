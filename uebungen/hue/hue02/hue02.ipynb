{
 "cells": [
  {
   "cell_type": "markdown",
   "metadata": {
    "nbgrader": {
     "grade": true,
     "grade_id": "matrikel",
     "locked": false,
     "points": 0,
     "solution": true
    }
   },
   "source": []
  },
  {
   "cell_type": "markdown",
   "metadata": {
    "nbgrader": {
     "grade": false,
     "grade_id": "matrikel_info",
     "locked": true,
     "solution": false
    }
   },
   "source": [
    "Bitte tragen Sie Ihre Matrikelnummern und E-Mail-Adressen *zeilenweise* in die Zelle *oberhalb* dieser Zelle ein.\n",
    "Beachten Sie: Die Abgabe muss mit Ihrem *Gruppenaccount* erfolgen, den Sie in der Präsenzübung erhalten haben! Abgaben, die über Ihren Einzelaccount erfolgen, werden ignoriert. \n",
    "Achten Sie dabei streng auf die Formatierung, denn die Auswertung erfolgt automatisch. \n",
    "Benutzen Sie *keine* Leerzeilen.\n",
    "Nur zwischen Matrikelnummer und E-Mail-Adresse darf ein Leerzeichen stehen.\n",
    "\n",
    "Format:\n",
    "\n",
    "MatrikelNummer E-Mail-Adresse\n",
    "\n",
    "z.B.:\n",
    "\n",
    "123456 testStudent@mail.upb.de\n",
    "\n",
    "### Abgabetermin: 13.11.2016 um 8:00 Uhr"
   ]
  },
  {
   "cell_type": "markdown",
   "metadata": {
    "nbgrader": {
     "grade": false,
     "grade_id": "0",
     "locked": true,
     "solution": false
    }
   },
   "source": [
    "## Aufgabe 1: \n",
    "a) (1 Punkt) Gegeben ist folgendes Programm:\n",
    "```Python\n",
    "a = 5\n",
    "b = 17\n",
    "a = b + 2\n",
    "print(a, b)\n",
    "```\n",
    "Was gibt das Programm aus? Erklären Sie kurz."
   ]
  },
  {
   "cell_type": "code",
   "execution_count": null,
   "metadata": {
    "collapsed": true,
    "nbgrader": {
     "grade": true,
     "grade_id": "1",
     "locked": false,
     "points": 1,
     "solution": true
    }
   },
   "outputs": [],
   "source": []
  },
  {
   "cell_type": "markdown",
   "metadata": {
    "nbgrader": {
     "grade": false,
     "grade_id": "2",
     "locked": true,
     "solution": false
    }
   },
   "source": [
    "b) (1 Punkt) Sie ändern in der dritten Zeile $a$ auf $b$. Was gibt das Programm nun aus?  Erklären Sie kurz.\n",
    "\n",
    "```Python\n",
    "a = 5\n",
    "b = 17\n",
    "b = b + 2\n",
    "print(a, b)\n",
    "```"
   ]
  },
  {
   "cell_type": "code",
   "execution_count": null,
   "metadata": {
    "collapsed": true,
    "nbgrader": {
     "grade": true,
     "grade_id": "3",
     "locked": false,
     "points": 1,
     "solution": true
    }
   },
   "outputs": [],
   "source": []
  },
  {
   "cell_type": "markdown",
   "metadata": {
    "nbgrader": {
     "grade": false,
     "grade_id": "5",
     "locked": true,
     "solution": false
    }
   },
   "source": [
    "c) (1 Punkt) Sie ändern die Reihenfolge der Variablendarlegung. Was gibt das Programm nun aus?  Erklären Sie kurz.\n",
    "\n",
    "```Python\n",
    "b = 17\n",
    "a = 5\n",
    "a = b + 2\n",
    "print(a, b)\n",
    "```"
   ]
  },
  {
   "cell_type": "code",
   "execution_count": null,
   "metadata": {
    "collapsed": true,
    "nbgrader": {
     "grade": true,
     "grade_id": "6",
     "locked": false,
     "points": 1,
     "solution": true
    }
   },
   "outputs": [],
   "source": []
  },
  {
   "cell_type": "markdown",
   "metadata": {
    "nbgrader": {
     "grade": false,
     "grade_id": "7",
     "locked": true,
     "solution": false
    }
   },
   "source": [
    "d) (1 Punkt) Sie ändern in der dritten Zeile $a$ auf $d$. Was gibt das Programm nun aus? Erklären Sie kurz.\n",
    "\n",
    "```Python\n",
    "b = 17\n",
    "a = 5\n",
    "d = b + 2\n",
    "print(a, b)\n",
    "```"
   ]
  },
  {
   "cell_type": "code",
   "execution_count": null,
   "metadata": {
    "collapsed": true,
    "nbgrader": {
     "grade": true,
     "grade_id": "8",
     "locked": false,
     "points": 1,
     "solution": true
    }
   },
   "outputs": [],
   "source": []
  },
  {
   "cell_type": "markdown",
   "metadata": {
    "nbgrader": {
     "grade": false,
     "grade_id": "9",
     "locked": true,
     "solution": false
    }
   },
   "source": [
    "e) (1 Punkt) Sie ändern in der ersten UND dritten Zeile $a$ auf $d$. Was gibt das Programm nun aus?  Erklären Sie kurz.\n",
    "\n",
    "```Python\n",
    "d = 5\n",
    "b = 17\n",
    "d = b + 2\n",
    "print(a, b)\n",
    "```\n"
   ]
  },
  {
   "cell_type": "code",
   "execution_count": null,
   "metadata": {
    "collapsed": true,
    "nbgrader": {
     "grade": true,
     "grade_id": "10",
     "locked": false,
     "points": 1,
     "solution": true
    }
   },
   "outputs": [],
   "source": []
  },
  {
   "cell_type": "markdown",
   "metadata": {
    "nbgrader": {
     "grade": false,
     "grade_id": "11",
     "locked": true,
     "solution": false
    }
   },
   "source": [
    "## Aufgabe 2: Funktionen\n",
    "\n",
    "a) (2 Punkte) Schreiben Sie fünf Funktionen namens ```add, multiply, divide``` und ```exponentiate```, die zwei als Parameter übergebene Werte miteinander addieren, subtrahieren, multiplizieren, dividieren und exponieren. Das entsprechende Ergebnis soll von den Funktionen zurückgegeben werden."
   ]
  },
  {
   "cell_type": "code",
   "execution_count": 17,
   "metadata": {
    "collapsed": false,
    "nbgrader": {
     "grade": false,
     "grade_id": "21",
     "locked": false,
     "solution": true
    }
   },
   "outputs": [],
   "source": [
    "def add(a, b):\n",
    "    ### BEGIN SOLUTION \n",
    "    print('ADDING ',a,' + ',b)\n",
    "    out = a + b\n",
    "    return out\n",
    "    ### END SOLUTION\n",
    "\n",
    "def multiply(a, b):\n",
    "    ### BEGIN SOLUTION \n",
    "    print('MULTIPLYING ',a,' * ',b)\n",
    "    out = a * b\n",
    "    return out\n",
    "    ### END SOLUTION\n",
    "    \n",
    "def divide(a, b):\n",
    "    ### BEGIN SOLUTION \n",
    "    print('DIVIDING ',a,' / ',b)\n",
    "    out = a / b\n",
    "    return out\n",
    "    ### END SOLUTION\n",
    "    \n",
    "def exponentiate(a, b):\n",
    "    ### BEGIN SOLUTION \n",
    "    print('EXPONENTIATING ',a,' ** ',b)\n",
    "    out = a ** b\n",
    "    return out\n",
    "    ### END SOLUTION"
   ]
  },
  {
   "cell_type": "code",
   "execution_count": 18,
   "metadata": {
    "collapsed": false,
    "nbgrader": {
     "grade": true,
     "grade_id": "41",
     "locked": true,
     "points": 2,
     "solution": false
    }
   },
   "outputs": [
    {
     "name": "stdout",
     "output_type": "stream",
     "text": [
      "ADDING  4  +  6\n",
      "MULTIPLYING  3  *  3\n",
      "DIVIDING  6  /  3\n",
      "EXPONENTIATING  2  **  3\n"
     ]
    }
   ],
   "source": [
    "assert(add(4,6)==10)\n",
    "assert(multiply(3,3)==9)\n",
    "assert(divide(6,3)==2)\n",
    "assert(exponentiate(2,3)==8)"
   ]
  },
  {
   "cell_type": "markdown",
   "metadata": {
    "nbgrader": {
     "grade": false,
     "grade_id": "22",
     "locked": true,
     "solution": false
    }
   },
   "source": [
    "b) (2 Punkte) Schreiben Sie anschließend eine Funktion namens totalMoney, die drei Parameter k, n und p (in dieser Reihenfolge) übergeben bekommt und welche das Ergebnis der folgenden Rechnung zurückgibt.\n",
    "\n",
    "$$K \\left(1 + \\frac{p}{100} \\right)^n,$$\n",
    "\n",
    "Verwenden Sie in dieser Aufgabe ausschließlich die in Teilaufgabe a) definierten Funktionen und keine Python-Rechenoperatoren."
   ]
  },
  {
   "cell_type": "code",
   "execution_count": 19,
   "metadata": {
    "collapsed": false,
    "nbgrader": {
     "grade": false,
     "grade_id": "12",
     "locked": false,
     "solution": true
    }
   },
   "outputs": [],
   "source": [
    "def totalMoney(k,n,p):\n",
    "    ### BEGIN SOLUTION \n",
    "    out = multiply(k,exponentiate(add(divide(p,100),1),n))\n",
    "    return out\n",
    "    ### END SOLUTION"
   ]
  },
  {
   "cell_type": "code",
   "execution_count": 20,
   "metadata": {
    "collapsed": false,
    "nbgrader": {
     "grade": true,
     "grade_id": "81",
     "locked": true,
     "points": 2,
     "solution": false
    }
   },
   "outputs": [
    {
     "name": "stdout",
     "output_type": "stream",
     "text": [
      "DIVIDING  5  /  100\n",
      "ADDING  0.05  +  1\n",
      "EXPONENTIATING  1.05  **  3\n",
      "MULTIPLYING  1000  *  1.1576250000000001\n"
     ]
    }
   ],
   "source": [
    "assert(totalMoney(1000,3,5)==1157.6250000000002)"
   ]
  },
  {
   "cell_type": "markdown",
   "metadata": {
    "nbgrader": {
     "grade": false,
     "grade_id": "14",
     "locked": true,
     "solution": false
    }
   },
   "source": [
    "## Aufgabe 3: Funktionen und Gültigkeitsbereich von Variablen\n",
    "\n",
    "Das gegebene Programm ist fehlerhaft: \n",
    "\n",
    "```Python\n",
    "def foo(x):\n",
    "    x += 1\n",
    "    print('x innerhalb foo = ', x)\n",
    "    print('y innerhalb foo = ', y)\n",
    "    y = 1\n",
    "    print('y innerhalb foo = ', y)\n",
    "\n",
    "foo(5)\n",
    "y = 10\n",
    "print('y außerhalb =', y)\n",
    "```\n",
    "\n",
    "a) (1 Punkt) Erklären Sie und kommentieren Sie die richtige Zeile aus damit das Programm Fehlerfrei läuft? "
   ]
  },
  {
   "cell_type": "code",
   "execution_count": 21,
   "metadata": {
    "collapsed": false,
    "nbgrader": {
     "grade": false,
     "grade_id": "52",
     "locked": false,
     "points": 4,
     "solution": true
    }
   },
   "outputs": [
    {
     "name": "stdout",
     "output_type": "stream",
     "text": [
      "x innerhalb foo =  6\n",
      "y innerhalb foo =  1\n",
      "y außerhalb = 10\n"
     ]
    }
   ],
   "source": [
    "def foo(x):\n",
    "    x += 1\n",
    "    print('x innerhalb foo = ', x)\n",
    "#    print('y innerhalb foo = ', y)\n",
    "    y = 1\n",
    "    print('y innerhalb foo = ', y)\n",
    "    return x\n",
    "\n",
    "foo(5)\n",
    "y = 10\n",
    "print('y außerhalb =', y)"
   ]
  },
  {
   "cell_type": "code",
   "execution_count": 22,
   "metadata": {
    "collapsed": false,
    "nbgrader": {
     "grade": true,
     "grade_id": "53",
     "locked": true,
     "points": 1,
     "solution": false
    }
   },
   "outputs": [
    {
     "name": "stdout",
     "output_type": "stream",
     "text": [
      "x innerhalb foo =  6\n",
      "y innerhalb foo =  1\n"
     ]
    }
   ],
   "source": [
    "assert(foo(5)==6)"
   ]
  },
  {
   "cell_type": "markdown",
   "metadata": {
    "collapsed": true,
    "nbgrader": {
     "grade": false,
     "grade_id": "56",
     "locked": true,
     "points": 2,
     "solution": false
    }
   },
   "source": [
    "b) (1 Punkt) Gegeben ist die folgende Funktion: \n",
    "\n",
    "```Python\n",
    "def f(a):\n",
    "    return a+3\n",
    "```\n",
    "\n",
    "Welche Werte werden bei folgendem Aufruf ausgegeben:\n",
    "\n",
    "```Python\n",
    "a=2\n",
    "\n",
    "print(f(a+3), f(f(a+3)))\n",
    "```\n",
    "Begründen Sie kurz."
   ]
  },
  {
   "cell_type": "code",
   "execution_count": null,
   "metadata": {
    "collapsed": true,
    "nbgrader": {
     "grade": true,
     "grade_id": "57",
     "locked": false,
     "points": 1,
     "solution": true
    }
   },
   "outputs": [],
   "source": []
  },
  {
   "cell_type": "markdown",
   "metadata": {
    "nbgrader": {
     "grade": false,
     "grade_id": "58",
     "locked": true,
     "solution": false
    }
   },
   "source": [
    "c) (1 Punkt) Was ist der Rückgabewert des folgenden Funktionsaufrufs? Begründen Sie kurz.\n",
    "\n",
    "```Python\n",
    "def ausgabe(x):\n",
    "    print(x,2*x)\n",
    "    return 2*x\n",
    "    print(x, 3*x)\n",
    "    return 3*x\n",
    "```"
   ]
  },
  {
   "cell_type": "code",
   "execution_count": null,
   "metadata": {
    "collapsed": true,
    "nbgrader": {
     "grade": true,
     "grade_id": "59",
     "locked": false,
     "points": 1,
     "solution": true
    }
   },
   "outputs": [],
   "source": []
  },
  {
   "cell_type": "markdown",
   "metadata": {
    "collapsed": true,
    "nbgrader": {
     "grade": false,
     "grade_id": "60",
     "locked": true,
     "solution": false
    }
   },
   "source": [
    "d) (2 Punkte) Gegeben ist folgendes Program. Welche Werte haben am Ende die in der drittletzten Zeile deklarierten Variablen $a,b,x,y$? Begründen Sie kurz.\n",
    "\n",
    "```Python\n",
    "def foo(x, y):\n",
    "    a = 24\n",
    "    x,y = y,x\n",
    "    b = 4\n",
    "    b = 16\n",
    "    c = 10\n",
    "    print(a,b,x,y)\n",
    "\n",
    "a,b,x,y = 1,15,3,4\n",
    "foo(17,4)\n",
    "print(a,b,x,y)\n",
    "```"
   ]
  },
  {
   "cell_type": "code",
   "execution_count": null,
   "metadata": {
    "collapsed": true,
    "nbgrader": {
     "grade": true,
     "grade_id": "61",
     "locked": false,
     "points": 2,
     "solution": true
    }
   },
   "outputs": [],
   "source": []
  },
  {
   "cell_type": "markdown",
   "metadata": {
    "collapsed": true,
    "nbgrader": {
     "grade": false,
     "grade_id": "62",
     "locked": true,
     "solution": false
    }
   },
   "source": [
    "e) (2 Punkte) Gegeben sind die folgenden beiden Funktionen:\n",
    "\n",
    "```Python\n",
    "def foo1(a):\n",
    "     print(a + 1)\n",
    "def foo2(a):\n",
    "     return a + 1\n",
    "```     \n",
    "Einer der beiden folgenden Aufrufe ist fehlerhaft. Finden Sie, welcher es ist und begründen Sie kurz.\n",
    "```Python\n",
    "foo1(3) + 1\n",
    "foo2(3) + 1\n",
    "```"
   ]
  },
  {
   "cell_type": "code",
   "execution_count": null,
   "metadata": {
    "collapsed": true,
    "nbgrader": {
     "grade": true,
     "grade_id": "63",
     "locked": false,
     "points": 2,
     "solution": true
    }
   },
   "outputs": [],
   "source": []
  },
  {
   "cell_type": "markdown",
   "metadata": {
    "nbgrader": {
     "grade": false,
     "grade_id": "70",
     "locked": true,
     "solution": false
    }
   },
   "source": [
    "## Aufgabe 4: Multiple Eingabe- und Rückgabewerten\n",
    "\n",
    "a) (2 Punkte) Schreiben Sie eine Funktion, die eine Zeitdauer in Sekunden als Parameter übergeben bekommt. Die Funktion soll dabei die eingegebene Parameter in Tagen (d), Stunden (h), Minuten (m) und Sekunden (s) konvertieren und zurückgeben. Drucken Sie anschließend die zurückgegebene Werten aus. \n"
   ]
  },
  {
   "cell_type": "code",
   "execution_count": 23,
   "metadata": {
    "collapsed": false,
    "nbgrader": {
     "grade": false,
     "grade_id": "71",
     "locked": false,
     "solution": true
    }
   },
   "outputs": [
    {
     "name": "stdout",
     "output_type": "stream",
     "text": [
      "days:  1  mins:  1 secs:  10\n"
     ]
    }
   ],
   "source": [
    "def convSec(s):\n",
    "    ###BEGIN SOLUTION###\n",
    "    d = s // (3600)\n",
    "    m = (s%3600) // 60\n",
    "    s -= d * 3600 + m * 60\n",
    "    \n",
    "    return d, m, s\n",
    "\n",
    "    \n",
    "d, m, s = convSec(3670)    \n",
    "print(\"days: \", d, \" mins: \", m, \"secs: \", s)   \n",
    "    ###END SOLUTION####"
   ]
  },
  {
   "cell_type": "code",
   "execution_count": 24,
   "metadata": {
    "collapsed": false,
    "nbgrader": {
     "grade": true,
     "grade_id": "72",
     "locked": true,
     "points": 2,
     "solution": false
    }
   },
   "outputs": [],
   "source": [
    "d, m, s = convSec(3670)   \n",
    "assert(d==1)\n",
    "assert(m==1)\n",
    "assert(s==10)"
   ]
  },
  {
   "cell_type": "markdown",
   "metadata": {
    "nbgrader": {
     "grade": false,
     "grade_id": "73",
     "locked": true,
     "solution": false
    }
   },
   "source": [
    "b) (2 Punkte) Schreiben Sie eine weitere Funktion, die die umgekehrte Funktionalität hat. Eingabeparametern sind die Anzahl der Tagen, Stunden, Minuten und Sekunden und die Rückgabewert ist die vergangene Zeitdauer in Sekunden. Drucken Sie entsprechend die "
   ]
  },
  {
   "cell_type": "code",
   "execution_count": 25,
   "metadata": {
    "collapsed": false,
    "nbgrader": {
     "grade": false,
     "grade_id": "74",
     "locked": false,
     "solution": true
    }
   },
   "outputs": [
    {
     "name": "stdout",
     "output_type": "stream",
     "text": [
      "seconds:  3670\n"
     ]
    }
   ],
   "source": [
    "def convDate(d, m, s):\n",
    "    ###BEGIN SOLUTION###\n",
    "    s += d*3600 + m *60\n",
    "    \n",
    "    return s\n",
    "\n",
    "    \n",
    "s = convDate(1, 1, 10)    \n",
    "print(\"seconds: \", s)   \n",
    "    ###END SOLUTION####"
   ]
  },
  {
   "cell_type": "code",
   "execution_count": 26,
   "metadata": {
    "collapsed": true,
    "nbgrader": {
     "grade": true,
     "grade_id": "75",
     "locked": true,
     "points": 2,
     "solution": false
    }
   },
   "outputs": [],
   "source": [
    "s = convDate(1, 1, 10)   \n",
    "assert(s==3670)"
   ]
  }
 ],
 "metadata": {
  "anaconda-cloud": {},
  "celltoolbar": "Create Assignment",
  "kernelspec": {
   "display_name": "Python 3",
   "language": "python",
   "name": "python3"
  },
  "language_info": {
   "codemirror_mode": {
    "name": "ipython",
    "version": 3
   },
   "file_extension": ".py",
   "mimetype": "text/x-python",
   "name": "python",
   "nbconvert_exporter": "python",
   "pygments_lexer": "ipython3",
   "version": "3.4.2"
  }
 },
 "nbformat": 4,
 "nbformat_minor": 1
}
