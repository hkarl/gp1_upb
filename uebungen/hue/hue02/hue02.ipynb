{
 "cells": [
  {
   "cell_type": "markdown",
   "metadata": {
    "nbgrader": {
     "grade": true,
     "grade_id": "matrikel",
     "locked": false,
     "solution": true
    }
   },
   "source": []
  },
  {
   "cell_type": "markdown",
   "metadata": {
    "nbgrader": {
     "grade": false,
     "grade_id": "matrikel_info",
     "locked": true,
     "solution": false
    }
   },
   "source": [
    "Bitte tragen Sie Ihre Matrikelnummern und E-Mail-Adressen *zeilenweise* in die Zelle *oberhalb* dieser Zelle ein.\n",
    "Beachten Sie: Die Abgabe muss mit Ihrem *Gruppenaccount* erfolgen, den Sie in der Präsenzübung erhalten haben! Abgaben, die über Ihren Einzelaccount erfolgen, werden ignoriert. \n",
    "Achten Sie dabei streng auf die Formatierung, denn die Auswertung erfolgt automatisch. \n",
    "Benutzen Sie *keine* Leerzeilen.\n",
    "Nur zwischen Matrikelnummer und E-Mail-Adresse darf ein Leerzeichen stehen.\n",
    "\n",
    "Format:\n",
    "\n",
    "MatrikelNummer E-Mail-Adresse\n",
    "\n",
    "z.B.:\n",
    "\n",
    "123456 testStudent@mail.upb.de"
   ]
  },
  {
   "cell_type": "markdown",
   "metadata": {
    "nbgrader": {
     "grade": false,
     "grade_id": "0",
     "locked": true,
     "solution": false
    }
   },
   "source": [
    "## Aufgabe 1: Zuweisungen und Ausdrücke\n",
    "a) (1 Punkt) Gegeben ist folgendes Programm: \n",
    "```Python\n",
    "a = 5\n",
    "b = 17\n",
    "a = b + 2\n",
    "print(a, b)\n",
    "```\n",
    "Was gibt das Programm aus? Erklären Sie kurz."
   ]
  },
  {
   "cell_type": "code",
   "execution_count": null,
   "metadata": {
    "collapsed": true,
    "nbgrader": {
     "grade": true,
     "grade_id": "1",
     "locked": false,
     "points": 1,
     "solution": true
    }
   },
   "outputs": [],
   "source": []
  },
  {
   "cell_type": "markdown",
   "metadata": {
    "nbgrader": {
     "grade": false,
     "grade_id": "2",
     "locked": true,
     "solution": false
    }
   },
   "source": [
    "b) (1 Punkt) Sie ändern in der dritten Zeile $a$ auf $b$. Was gibt das Programm nun aus?  Erklären Sie kurz.\n",
    "\n",
    "```Python\n",
    "a = 5\n",
    "b = 17\n",
    "b = b + 2\n",
    "print(a, b)\n",
    "```"
   ]
  },
  {
   "cell_type": "code",
   "execution_count": null,
   "metadata": {
    "collapsed": true,
    "nbgrader": {
     "grade": true,
     "grade_id": "3",
     "locked": false,
     "points": 1,
     "solution": true
    }
   },
   "outputs": [],
   "source": []
  },
  {
   "cell_type": "markdown",
   "metadata": {},
   "source": [
    "c) (1 Punkt) Sie ändern in der dritten Zeile $b$ auf $a$. Was gibt das Programm nun aus?  Erklären Sie kurz.\n",
    "\n",
    "```Python\n",
    "a = 5\n",
    "b = 17\n",
    "a = a + 2\n",
    "print(a, b)\n",
    "```"
   ]
  },
  {
   "cell_type": "code",
   "execution_count": null,
   "metadata": {
    "collapsed": true,
    "nbgrader": {
     "grade": true,
     "grade_id": "4",
     "locked": false,
     "points": 1,
     "solution": true
    }
   },
   "outputs": [],
   "source": []
  },
  {
   "cell_type": "markdown",
   "metadata": {
    "nbgrader": {
     "grade": false,
     "grade_id": "5",
     "locked": true,
     "solution": false
    }
   },
   "source": [
    "d) (1 Punkt) Sie ändern die Reihenfolge der Variablendarlegung. Was gibt das Programm nun aus?  Erklären Sie kurz.\n",
    "\n",
    "```Python\n",
    "b = 17\n",
    "a = 5\n",
    "a = b + 2\n",
    "print(a, b)\n",
    "```"
   ]
  },
  {
   "cell_type": "code",
   "execution_count": null,
   "metadata": {
    "collapsed": true,
    "nbgrader": {
     "grade": true,
     "grade_id": "6",
     "locked": false,
     "points": 1,
     "solution": true
    }
   },
   "outputs": [],
   "source": []
  },
  {
   "cell_type": "markdown",
   "metadata": {
    "nbgrader": {
     "grade": false,
     "grade_id": "7",
     "locked": true,
     "solution": false
    }
   },
   "source": [
    "e) (1 Punkt) Sie ändern in der dritte Zeile $a$ auf $d$. Was gibt das Programm nun aus? Erklären Sie kurz.\n",
    "```Python\n",
    "b = 17\n",
    "a = 5\n",
    "d = b + 2\n",
    "print(a, b)\n",
    "```"
   ]
  },
  {
   "cell_type": "code",
   "execution_count": null,
   "metadata": {
    "collapsed": true,
    "nbgrader": {
     "grade": true,
     "grade_id": "8",
     "locked": false,
     "points": 1,
     "solution": true
    }
   },
   "outputs": [],
   "source": []
  },
  {
   "cell_type": "markdown",
   "metadata": {
    "nbgrader": {
     "grade": false,
     "grade_id": "9",
     "locked": true,
     "solution": false
    }
   },
   "source": [
    "f) (1 Punkt) Sie ändern in der ersten UND dritten Zeile $a$ auf $d$. Was gibt das Programm nun aus?  Erklären Sie kurz.\n",
    "```Python\n",
    "d = 5\n",
    "b = 17\n",
    "d = b + 2\n",
    "print(a, b)\n",
    "```\n"
   ]
  },
  {
   "cell_type": "code",
   "execution_count": null,
   "metadata": {
    "collapsed": true,
    "nbgrader": {
     "grade": true,
     "grade_id": "10",
     "locked": false,
     "points": 1,
     "solution": true
    }
   },
   "outputs": [],
   "source": []
  },
  {
   "cell_type": "markdown",
   "metadata": {
    "nbgrader": {
     "grade": false,
     "grade_id": "11",
     "locked": true,
     "solution": false
    }
   },
   "source": [
    "## Aufgabe 2: Funktionen\n",
    "\n",
    "a) (2 Punkte) Schreiben Sie fünf Funktionen namens add, subtract, multiply, divide und exponentiate, die zwei als Parameter übergebene Werte miteinander addieren, subtrahieren, multiplizieren, dividieren und exponieren. Das entsprechende Ergebnis soll von den Funktionen zurückgegeben werden.\n",
    "\n",
    "\n",
    "b) (2 Punkte) Schreiben Sie anschließend eine Funktion namens totalMoney, die drei Parameter k, n und p (in dieser Reihenfolge) übergeben bekommt und welche das Ergebnis der folgenden Rechnung zurückgibt.\n",
    "\n",
    "$$K \\left(1 + \\frac{p}{100} \\right)^n,$$\n",
    "\n",
    "Verwenden Sie in dieser Aufgabe ausschließlich die in Teilaufgabe a) definierten Funktionen und keine Python-Rechenoperatoren."
   ]
  },
  {
   "cell_type": "code",
   "execution_count": null,
   "metadata": {
    "collapsed": true,
    "nbgrader": {
     "grade": false,
     "grade_id": "12",
     "locked": false,
     "solution": true
    }
   },
   "outputs": [],
   "source": [
    "def add(a, b):\n",
    "    ### BEGIN SOLUTION \n",
    "    print \"ADDING %d + %d\" % (a, b)\n",
    "    out = a + b\n",
    "    return out\n",
    "    ### END SOLUTION\n",
    "\n",
    "def subtract(a, b):\n",
    "    ### BEGIN SOLUTION \n",
    "    print \"SUBTRACTING %d + %d\" % (a, b)\n",
    "    out = a - b\n",
    "    return out\n",
    "    ### END SOLUTION\n",
    "\n",
    "def multiply(a, b):\n",
    "    ### BEGIN SOLUTION \n",
    "    print \"MULTIPLYING %d + %d\" % (a, b)\n",
    "    out = a * b\n",
    "    return out\n",
    "    ### END SOLUTION()\n",
    "    \n",
    "def divide(a, b):\n",
    "    ### BEGIN SOLUTION \n",
    "    print \"DIVIDING %d + %d\" % (a, b)\n",
    "    out = a / b\n",
    "    return out\n",
    "    ### END SOLUTION\n",
    "    \n",
    "def exponentiate(a, b):\n",
    "    ### BEGIN SOLUTION \n",
    "    print \"EXPONENTIATING %d + %d\" % (a, b)\n",
    "    out = a ** b\n",
    "    return out\n",
    "    ### END SOLUTION\n",
    "    \n",
    "def gesamtVermoegen(k,n,p):\n",
    "    ### BEGIN SOLUTION \n",
    "    out = multiply(K,exponentiate(add(divide(p,100),1),n))\n",
    "    return out\n",
    "    ### END SOLUTION"
   ]
  },
  {
   "cell_type": "markdown",
   "metadata": {
    "nbgrader": {
     "grade": false,
     "grade_id": "13",
     "locked": true,
     "solution": false
    }
   },
   "source": []
  },
  {
   "cell_type": "markdown",
   "metadata": {
    "nbgrader": {
     "grade": false,
     "grade_id": "14",
     "locked": true,
     "solution": false
    }
   },
   "source": [
    "## Aufgabe 3: Ausgabewerte\n",
    "\n",
    "a) (2 Punkte) Gegeben ist die folgende Funktion: \n",
    "\n",
    "```Python\n",
    "def f(a):\n",
    "    return a+3\n",
    "```\n",
    "\n",
    "Welche Werte werden bei folgendem Aufruf ausgegeben:\n",
    "\n",
    "```Python\n",
    "a=2\n",
    "print(f(a+3), f(f(a+3)))\n",
    "```\n",
    "\n",
    "b)  Was ist der Rückgabewert des folgenden Funktionsaufrufs? Begründen Sie kurz.\n",
    "\n",
    "```Python\n",
    "def ausgabe(x):\n",
    "    print(x,2*x)\n",
    "    return 2*x\n",
    "    print(x, 3*x)\n",
    "    return 3*x\n",
    "```\n",
    "\n",
    "c) Gegen ist folgendes Program. Welche Werte haben am Ende die in der drittletzten Zeile deklarierten Variablen $a,b,x,y$? Begründen Sie kurz.\n",
    "\n",
    "```Python\n",
    "def foo(x, y):\n",
    "    a = 24\n",
    "    x,y = y,x\n",
    "    b = 4\n",
    "    b = 16\n",
    "    c = 10\n",
    "    print(a,b,x,y)\n",
    "\n",
    "a,b,x,y = 1,15,3,4\n",
    "foo(17,4)\n",
    "print(a,b,x,y)\n",
    "```\n",
    "\n",
    "d) Gegeben sind die folgenden beiden Funktionen:\n",
    "\n",
    "```Python\n",
    "def foo1(a):\n",
    "     print a + 1\n",
    "def foo2(a):\n",
    "     return a + 1\n",
    "```     \n",
    "Einer der beiden folgenden Aufrufe ist fehlerhaft. Finden Sie, welcher es ist und begründen Sie kurz.\n",
    "```Python\n",
    "foo1(3) + 1\n",
    "foo2(3) + 1\n",
    "```"
   ]
  },
  {
   "cell_type": "code",
   "execution_count": null,
   "metadata": {
    "collapsed": true
   },
   "outputs": [],
   "source": []
  },
  {
   "cell_type": "markdown",
   "metadata": {
    "nbgrader": {
     "grade": false,
     "grade_id": "16",
     "locked": true,
     "solution": false
    }
   },
   "source": [
    "## Aufgabe 4 Kalenderaufgaben\n",
    "\n",
    "a) (4 Punkte) Schreiben Sie eine Funktion, die den Wochentag anhand eines eingegebenen Datums berechnet. \n",
    "Die Funktion soll dabei die drei Parameter tag, monat und jahr übergeben bekommen.\n",
    "Nutzen Sie dazu Zellers Algorithmus. \n",
    "Hinweis: https://de.wikipedia.org/wiki/Zellers_Kongruenz\n",
    "\n"
   ]
  },
  {
   "cell_type": "code",
   "execution_count": null,
   "metadata": {
    "collapsed": true,
    "nbgrader": {
     "grade": false,
     "grade_id": "17",
     "locked": false,
     "solution": true
    }
   },
   "outputs": [],
   "source": [
    "def Tag(tag, monat, jahr):\n",
    "    ### BEGIN SOLUTION \n",
    "    y = jahr - (14 - monat) / 12\n",
    "    x = y + y/4 - y/100 + y/400\n",
    "    m = monat + 12 *((14 - monat)/12) -2\n",
    "    wochenTag = (tag + x+ (31*m)/12)%7\n",
    "    ### END SOLUTION        \n",
    "    return wochenTag"
   ]
  },
  {
   "cell_type": "markdown",
   "metadata": {
    "collapsed": true,
    "nbgrader": {
     "grade": false,
     "grade_id": "18",
     "locked": true,
     "solution": false
    }
   },
   "source": [
    "b) (4 Punkte) Schreiben Sie eine weitere Funktion, die feststellt ob ein als Parameter übergebenes Jahr ein Schaltjahr ist. Hinweis: "
   ]
  },
  {
   "cell_type": "code",
   "execution_count": null,
   "metadata": {
    "collapsed": true,
    "nbgrader": {
     "grade": true,
     "grade_id": "15",
     "locked": false,
     "solution": true
    }
   },
   "outputs": [],
   "source": [
    "def schaltjahr(jahr):\n",
    "    ### BEGIN SOLUTION \n",
    "    \n",
    "    ### END SOLUTION   \n",
    "    return out"
   ]
  }
 ],
 "metadata": {
  "anaconda-cloud": {},
  "celltoolbar": "Create Assignment",
  "kernelspec": {
   "display_name": "Python [default]",
   "language": "python",
   "name": "python3"
  },
  "language_info": {
   "codemirror_mode": {
    "name": "ipython",
    "version": 3
   },
   "file_extension": ".py",
   "mimetype": "text/x-python",
   "name": "python",
   "nbconvert_exporter": "python",
   "pygments_lexer": "ipython3",
   "version": "3.5.2"
  }
 },
 "nbformat": 4,
 "nbformat_minor": 1
}
