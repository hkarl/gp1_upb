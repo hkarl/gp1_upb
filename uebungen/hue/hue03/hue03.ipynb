{
 "cells": [
  {
   "cell_type": "markdown",
   "metadata": {
    "nbgrader": {
     "grade": true,
     "grade_id": "matrikel",
     "locked": false,
     "points": 0,
     "solution": true
    }
   },
   "source": []
  },
  {
   "cell_type": "markdown",
   "metadata": {
    "nbgrader": {
     "grade": false,
     "grade_id": "matrikel_info",
     "locked": true,
     "solution": false
    }
   },
   "source": [
    "Bitte tragen Sie Ihre Matrikelnummern und E-Mail-Adressen *zeilenweise* in die Zelle *oberhalb* dieser Zelle ein.\n",
    "Beachten Sie: Die Abgabe muss mit Ihrem *Gruppenaccount* erfolgen, den Sie in der Präsenzübung erhalten haben! Abgaben, die über Ihren Einzelaccount erfolgen, werden ignoriert. \n",
    "Achten Sie dabei streng auf die Formatierung, denn die Auswertung erfolgt automatisch. \n",
    "Benutzen Sie *keine* Leerzeilen.\n",
    "Nur zwischen Matrikelnummer und E-Mail-Adresse darf ein Leerzeichen stehen.\n",
    "\n",
    "Format:\n",
    "\n",
    "MatrikelNummer E-Mail-Adresse\n",
    "\n",
    "z.B.:\n",
    "\n",
    "123456 testStudent@mail.upb.de\n",
    "\n",
    "### Abgabetermin: 20.11.2016 um 23:59 Uhr\n",
    "### Wichtig: Geben Sie Ihre Lösung in der vom Server erhaltenen Datei hue03.ipynb ab (nicht umbenennen, keine Kopie erstellen!). Sonst kann eine Bewertung nicht stattfinden."
   ]
  },
  {
   "cell_type": "markdown",
   "metadata": {
    "nbgrader": {
     "grade": false,
     "grade_id": "1",
     "locked": true,
     "solution": false
    }
   },
   "source": [
    "## Aufgabe 1: Strings\n",
    "\n",
    "a) (2 Punkte) Schreiben Sie eine Funktion namens ```first_last```, welche einen ```string```-Parameter übergeben bekommt und das erste und letzte Zeichen des übergebenen Strings ausgibt. \n",
    "Hinweis: Sie dürfen davon ausgehen, dass nur nicht-leere Strings übergeben werden.\n",
    "\n",
    "Dokumentieren Sie die Funktion, indem Sie für sie einen ```docstring``` verfassen und die Eingabeparameter und Rückgabewerte beschreiben.\n",
    "\n",
    "Geben Sie anschließend die Dokumentation Ihrer Funktion mit Hilfe des Attributs ```__doc__``` und der Methode ```help()``` aus (finden Sie hierzu heraus, wie Sie ```help()``` verwenden müssen, um sich die ```docstring```-Dokumentation einer Methode zurückgeben zu lassen). \n",
    "\n",
    "Dokumentieren Sie **alle** Funktionen in diesem Übungsblatt auf diese Weise."
   ]
  },
  {
   "cell_type": "code",
   "execution_count": 1,
   "metadata": {
    "collapsed": false,
    "nbgrader": {
     "grade": false,
     "grade_id": "2",
     "locked": false,
     "solution": true
    }
   },
   "outputs": [
    {
     "name": "stdout",
     "output_type": "stream",
     "text": [
      "Returns the first and last characters of a string\n",
      "   \n",
      "    Args: \n",
      "        val (str): Input string\n",
      "    Returns: \n",
      "        str: First and last character of the input\n",
      "    \n",
      "Help on function first_last in module __main__:\n",
      "\n",
      "first_last(val)\n",
      "    Returns the first and last characters of a string\n",
      "    \n",
      "    Args: \n",
      "        val (str): Input string\n",
      "    Returns: \n",
      "        str: First and last character of the input\n",
      "\n",
      "First and last characters of fox are fx\n"
     ]
    }
   ],
   "source": [
    "### BEGIN SOLUTION \n",
    "def first_last(val):\n",
    "    \"\"\"Returns the first and last characters of a string\n",
    "   \n",
    "    Args: \n",
    "        val (str): Input string\n",
    "    Returns: \n",
    "        str: First and last character of the input\n",
    "    \"\"\"\n",
    "    return val[0] + val[-1]\n",
    "\n",
    "print(first_last.__doc__)\n",
    "help(first_last)\n",
    "\n",
    "word = 'fox'\n",
    "print('First and last characters of', word, 'are', first_last(word))\n",
    "### END SOLUTION"
   ]
  },
  {
   "cell_type": "code",
   "execution_count": 8,
   "metadata": {
    "collapsed": false,
    "nbgrader": {
     "grade": true,
     "grade_id": "3",
     "locked": true,
     "points": 1,
     "solution": false
    }
   },
   "outputs": [],
   "source": [
    "assert(first_last('fox') == 'fx')\n",
    "assert(first_last('x') == 'xx')"
   ]
  },
  {
   "cell_type": "code",
   "execution_count": 12,
   "metadata": {
    "collapsed": false,
    "nbgrader": {
     "grade": true,
     "grade_id": "100",
     "locked": true,
     "points": 1,
     "solution": false
    }
   },
   "outputs": [],
   "source": [
    "### HIDESTART\n",
    "assert(first_last.__doc__ != None)\n",
    "### HIDEEND"
   ]
  },
  {
   "cell_type": "markdown",
   "metadata": {
    "nbgrader": {
     "grade": false,
     "grade_id": "13",
     "locked": true,
     "solution": false
    }
   },
   "source": [
    "b) (1 Punkt) Schreiben Sie eine Funktion namens ```concat```, welche zwei ```string```-Parameter übergeben bekommt und die Verkettung dieser beiden Strings zurückgibt."
   ]
  },
  {
   "cell_type": "code",
   "execution_count": 2,
   "metadata": {
    "collapsed": false,
    "nbgrader": {
     "grade": false,
     "grade_id": "116",
     "locked": false,
     "solution": true
    }
   },
   "outputs": [
    {
     "name": "stdout",
     "output_type": "stream",
     "text": [
      "Concatenation of Kunst and stoff is Kunststoff\n"
     ]
    }
   ],
   "source": [
    "### BEGIN SOLUTION \n",
    "def concat(str1, str2):\n",
    "    \"\"\"Concatenates the input strings\n",
    "   \n",
    "    Args: \n",
    "        str1 (str): first input string\n",
    "        str2 (str): second input string\n",
    "    Returns: \n",
    "        str: concatenation of the input\n",
    "    \"\"\"\n",
    "    return  str1 + str2\n",
    "\n",
    "word1 = 'Kunst'\n",
    "word2 = 'stoff'\n",
    "print('Concatenation of', word1, 'and', word2, 'is', concat(word1, word2))\n",
    "### END SOLUTION"
   ]
  },
  {
   "cell_type": "code",
   "execution_count": 4,
   "metadata": {
    "collapsed": false,
    "nbgrader": {
     "grade": true,
     "grade_id": "15",
     "locked": true,
     "points": 1,
     "solution": false
    }
   },
   "outputs": [],
   "source": [
    "assert(concat('Kunst','stoff' ) == 'Kunststoff')\n",
    "### HIDESTART\n",
    "assert(concat('Programm','ierung' ) == 'Programmierung')\n",
    "assert(len(concat('Programm','ierung' )) == 14)\n",
    "assert(concat('','' ) == '')\n",
    "assert(concat.__doc__ != None)\n",
    "### HIDEEND"
   ]
  },
  {
   "cell_type": "markdown",
   "metadata": {
    "nbgrader": {
     "grade": false,
     "grade_id": "10",
     "locked": true,
     "solution": false
    }
   },
   "source": [
    "c) (1 Punkt) Schreiben Sie eine Funktion namens ```reverse```, welche einen ```string```-Parameter übergeben bekommt und die Zeichenfolge in umgekehrter Reihenfolge zurückgibt. \n",
    "\n",
    "Hinweis: Lesen Sie die Slicing-Syntax von Python nach."
   ]
  },
  {
   "cell_type": "code",
   "execution_count": 42,
   "metadata": {
    "collapsed": false,
    "nbgrader": {
     "grade": false,
     "grade_id": "14",
     "locked": false,
     "solution": true
    }
   },
   "outputs": [
    {
     "name": "stdout",
     "output_type": "stream",
     "text": [
      "Reverse order of fox is xof\n"
     ]
    }
   ],
   "source": [
    "### BEGIN SOLUTION \n",
    "def reverse(val):\n",
    "    \"\"\"Returns the characters of a string in reverse order\n",
    "   \n",
    "    Args: \n",
    "        val (str): Input string\n",
    "    Returns: \n",
    "        str: reverse order of the input\n",
    "    \"\"\"\n",
    "    return  val[::-1]\n",
    "\n",
    "word='fox'\n",
    "print('Reverse order of', word, 'is', reverse(word))\n",
    "### END SOLUTION"
   ]
  },
  {
   "cell_type": "code",
   "execution_count": 21,
   "metadata": {
    "collapsed": false,
    "nbgrader": {
     "grade": true,
     "grade_id": "12",
     "locked": true,
     "points": 1,
     "solution": false
    }
   },
   "outputs": [],
   "source": [
    "assert(reverse('fox') == 'xof')\n",
    "\n",
    "### HIDESTART\n",
    "assert(reverse('otto') == 'otto')\n",
    "assert(reverse('o') == 'o')\n",
    "assert(reverse('') == '')\n",
    "assert(reverse('peter') == 'retep')\n",
    "assert(reverse.__doc__ != None)\n",
    "### HIDEEND"
   ]
  },
  {
   "cell_type": "markdown",
   "metadata": {
    "nbgrader": {
     "grade": false,
     "grade_id": "16",
     "locked": true,
     "solution": false
    }
   },
   "source": [
    "d) (1 Punkt) Schreiben Sie eine Funktion namens ```sum_length```, welche zwei ```string```-Parameter übergeben bekommt und die Gesamtanzahl der Zeichen in beiden Strings zurückgibt.  "
   ]
  },
  {
   "cell_type": "code",
   "execution_count": 5,
   "metadata": {
    "collapsed": false,
    "nbgrader": {
     "grade": false,
     "grade_id": "17",
     "locked": false,
     "solution": true
    }
   },
   "outputs": [
    {
     "name": "stdout",
     "output_type": "stream",
     "text": [
      "Total number of characters of Kunst and stoff is 10\n"
     ]
    }
   ],
   "source": [
    "### BEGIN SOLUTION \n",
    "def sum_length(str1, str2):\n",
    "    \"\"\"Returns the total size of input characters\n",
    "   \n",
    "    Args: \n",
    "        str1 (str): first input string\n",
    "        str2 (str): second input string\n",
    "    Returns: \n",
    "        int: Gesamtanzahl der Zeichen in beiden Strings\n",
    "    \"\"\"\n",
    "    return  len(str1) + len(str2)\n",
    "\n",
    "word1 = 'Kunst'\n",
    "word2 = 'stoff'\n",
    "print('Total number of characters of', word1, 'and', word2, 'is', sum_length(word1, word2))\n",
    "### END SOLUTION"
   ]
  },
  {
   "cell_type": "code",
   "execution_count": 7,
   "metadata": {
    "collapsed": false,
    "nbgrader": {
     "grade": true,
     "grade_id": "18",
     "locked": true,
     "points": 1,
     "solution": false
    }
   },
   "outputs": [],
   "source": [
    "assert(sum_length('Kunst','stoff' ) == 10)\n",
    "### HIDESTART\n",
    "assert(sum_length('Programm','ierung' ) == len('Programmierung'))\n",
    "assert(sum_length('abc','' ) == len('abc'))\n",
    "assert(sum_length('','a' ) == len('a'))\n",
    "assert(sum_length('','' ) == 0)\n",
    "assert(sum_length.__doc__ != None)\n",
    "### HIDEEND"
   ]
  },
  {
   "cell_type": "markdown",
   "metadata": {
    "nbgrader": {
     "grade": false,
     "grade_id": "19",
     "locked": true,
     "solution": false
    }
   },
   "source": [
    "e) (1 Punkt) Gegeben ist folgender String:\n",
    "```Python\n",
    "    my_string = \"ring\"\n",
    "```\n",
    "Wie Sie (hoffentlich) wissen, kann ein ```string``` als solcher in Python nicht verändert werden.\n",
    "Es ist also nicht möglich, das erste Zeichen von ```my_string``` in beispielsweise ein \"k\" zu verändern.\n",
    "Wie können Sie dennoch dafür sorgen, dass die Variable ```my_string``` den Inhalt \"king\" hat und dabei ausnutzen, dass die letzten drei Zeichen dieses Strings bereits den benötigten Inhalt haben?\n"
   ]
  },
  {
   "cell_type": "code",
   "execution_count": 8,
   "metadata": {
    "collapsed": false,
    "nbgrader": {
     "grade": false,
     "grade_id": "20",
     "locked": false,
     "points": 1,
     "solution": true
    }
   },
   "outputs": [],
   "source": [
    "my_string = \"ring\" # bitte stehen lassen\n",
    "\n",
    "### BEGIN SOLUTION\n",
    "# Solution B: direct modification\n",
    "my_string = 'k' + my_string[1:]\n",
    "### END SOLUTION"
   ]
  },
  {
   "cell_type": "code",
   "execution_count": 9,
   "metadata": {
    "collapsed": true,
    "nbgrader": {
     "grade": true,
     "grade_id": "300",
     "locked": true,
     "points": 1,
     "solution": false
    }
   },
   "outputs": [],
   "source": [
    "### HIDESTART\n",
    "assert(my_string==\"king\")\n",
    "### HIDEEND"
   ]
  },
  {
   "cell_type": "markdown",
   "metadata": {
    "nbgrader": {
     "grade": false,
     "grade_id": "21",
     "locked": true,
     "solution": false
    }
   },
   "source": [
    "## Aufgabe 2: Tuples\n",
    "\n",
    "a) (1 Punkt) Schreiben Sie eine Funktion namens ```tuple_conv```, welche zwei Parameter von beliebigen Datentypen übergeben bekommt und diese zusammen als ```tuple``` zurückgibt."
   ]
  },
  {
   "cell_type": "code",
   "execution_count": 44,
   "metadata": {
    "collapsed": false,
    "nbgrader": {
     "grade": false,
     "grade_id": "22",
     "locked": false,
     "solution": true
    }
   },
   "outputs": [
    {
     "name": "stdout",
     "output_type": "stream",
     "text": [
      "A tuple of parameters Kunst and 2 is ('Kunst', 2)\n"
     ]
    },
    {
     "data": {
      "text/plain": [
       "('', '')"
      ]
     },
     "execution_count": 44,
     "metadata": {},
     "output_type": "execute_result"
    }
   ],
   "source": [
    "### BEGIN SOLUTION \n",
    "def tuple_conv(par1, par2):\n",
    "    \"\"\"Returns the input parameters as tuple\n",
    "   \n",
    "    Args: \n",
    "        par1 : first input parameter\n",
    "        par2 : second input parameter\n",
    "    Returns: \n",
    "        int: Gesamtanzahl der Zeichen in beiden Strings\n",
    "    \"\"\"\n",
    "    return  (par1,par2)\n",
    "\n",
    "word1 = 'Kunst'\n",
    "word2 = 2\n",
    "print('A tuple of parameters', word1, 'and', word2, 'is', tuple_conv(word1, word2))\n",
    "### END SOLUTION"
   ]
  },
  {
   "cell_type": "code",
   "execution_count": 45,
   "metadata": {
    "collapsed": false,
    "nbgrader": {
     "grade": true,
     "grade_id": "23",
     "locked": true,
     "points": 1,
     "solution": false
    }
   },
   "outputs": [],
   "source": [
    "assert(tuple_conv('Kunst',2) == ('Kunst',2))\n",
    "\n",
    "### HIDESTART\n",
    "assert(tuple_conv('Programmierung',1 ) == ('Programmierung',1))\n",
    "assert(tuple_conv('','')==('',''))\n",
    "assert(tuple_conv.__doc__ != None)\n",
    "### HIDEEND"
   ]
  },
  {
   "cell_type": "markdown",
   "metadata": {
    "nbgrader": {
     "grade": false,
     "grade_id": "24",
     "locked": true,
     "solution": false
    }
   },
   "source": [
    "b) (1 Punkt) Schreiben Sie eine Funktion namens ```tuple_check```, welche ein ```tuple``` und einen beliebigen weiteren Parameter übergebenen bekommt. \n",
    "Die Funktion soll überprüfen, ob sich der als zweite Parameter übergebene Wert im als ersten Parameter übergebenen ```tuple``` befindet und das Ergebnis zurückgeben."
   ]
  },
  {
   "cell_type": "code",
   "execution_count": 50,
   "metadata": {
    "collapsed": false,
    "nbgrader": {
     "grade": false,
     "grade_id": "25",
     "locked": false,
     "solution": true
    }
   },
   "outputs": [
    {
     "data": {
      "text/plain": [
       "True"
      ]
     },
     "execution_count": 50,
     "metadata": {},
     "output_type": "execute_result"
    }
   ],
   "source": [
    "### BEGIN SOLUTION \n",
    "def tuple_check(par1, par2):\n",
    "    \"\"\"Checks whether an element is in the tuple\n",
    "   \n",
    "    Args: \n",
    "        par1 (tuple): first input parameter\n",
    "        par2 : second input parameter\n",
    "    Returns: \n",
    "        bool: search result\n",
    "    \"\"\"\n",
    "    return  par2 in par1\n",
    "\n",
    "word1 = 'Kunst'\n",
    "word2 = 2\n",
    "tuple_check((word1,word2),4)\n",
    "### END SOLUTION"
   ]
  },
  {
   "cell_type": "code",
   "execution_count": 52,
   "metadata": {
    "collapsed": false,
    "nbgrader": {
     "grade": true,
     "grade_id": "26",
     "locked": true,
     "points": 1,
     "solution": false
    }
   },
   "outputs": [],
   "source": [
    "word1 = 'Kunst'\n",
    "word2 = 2\n",
    "assert(tuple_check((word1,word2),2))\n",
    "assert(not tuple_check((word1,word2),3))\n",
    "\n",
    "### HIDESTART\n",
    "assert(tuple_check(('Programmierung',1),1))\n",
    "assert(not tuple_check(('Programmierung',1),'1'))\n",
    "assert(tuple_check(('',''),''))\n",
    "assert(tuple_check.__doc__ != None)\n",
    "### HIDEEND"
   ]
  },
  {
   "cell_type": "markdown",
   "metadata": {
    "nbgrader": {
     "grade": false,
     "grade_id": "27",
     "locked": true,
     "solution": false
    }
   },
   "source": [
    "c) (1 Punkt) Schreiben Sie eine Funktion namens ```tuple_filter```, welche ein ```tuple``` als Parameter übergeben bekommt und dessen erstes und vorletztes Element als Tuple zurückgibt."
   ]
  },
  {
   "cell_type": "code",
   "execution_count": 58,
   "metadata": {
    "collapsed": false,
    "nbgrader": {
     "grade": false,
     "grade_id": "28",
     "locked": false,
     "solution": true
    }
   },
   "outputs": [
    {
     "name": "stdout",
     "output_type": "stream",
     "text": [
      "('1', '3')\n"
     ]
    }
   ],
   "source": [
    "### BEGIN SOLUTION \n",
    "def tuple_filter(par):\n",
    "    \"\"\"Returns first element and second element from the last of a tuple\n",
    "   \n",
    "    Args: \n",
    "        par1 (tuple): input parameter\n",
    "    Returns: \n",
    "        tuple: first and second element \n",
    "    \"\"\"\n",
    "    return  (par[0], par[-2])\n",
    "\n",
    "a = (\"1\",\"2\",\"3\",\"4\")\n",
    "print(tuple_filter(a))\n",
    "### END SOLUTION"
   ]
  },
  {
   "cell_type": "code",
   "execution_count": 59,
   "metadata": {
    "collapsed": false,
    "nbgrader": {
     "grade": true,
     "grade_id": "29",
     "locked": true,
     "points": 1,
     "solution": false
    }
   },
   "outputs": [],
   "source": [
    "a = (\"1\",\"2\",\"3\",\"4\")\n",
    "assert(tuple_filter(a) == (\"1\",\"3\"))\n",
    "\n",
    "### HIDESTART\n",
    "assert(tuple_filter((\"a\", \"b\", \"c\", \"d\", 3, \"f\")) == (\"a\",3))\n",
    "assert(tuple_filter.__doc__ != None)\n",
    "### HIDEEND"
   ]
  },
  {
   "cell_type": "markdown",
   "metadata": {
    "nbgrader": {
     "grade": false,
     "grade_id": "30",
     "locked": true,
     "solution": false
    }
   },
   "source": [
    "## Aufgabe 3: Listen und Mengen\n",
    "\n",
    "a) (1 Punkt) Schreiben Sie eine Funktion namens ```singular_list```, welche eine Liste als Parameter übergeben bekommt und eine Liste zurückgibt, welche alle Werte der ersten Liste, jedoch jeden Wert nur einmal, enthält. \n",
    "\n",
    "Hinweis: Lesen Sie die Dokumentation von Mengen in Python: https://docs.python.org/3/tutorial/datastructures.html#sets"
   ]
  },
  {
   "cell_type": "code",
   "execution_count": 74,
   "metadata": {
    "collapsed": false,
    "nbgrader": {
     "grade": false,
     "grade_id": "31",
     "locked": false,
     "solution": true
    }
   },
   "outputs": [
    {
     "name": "stdout",
     "output_type": "stream",
     "text": [
      "[1, 2, 3, 4, 5, 6]\n"
     ]
    },
    {
     "data": {
      "text/plain": [
       "[1]"
      ]
     },
     "execution_count": 74,
     "metadata": {},
     "output_type": "execute_result"
    }
   ],
   "source": [
    "### BEGIN SOLUTION \n",
    "def singular_list(par):\n",
    "    \"\"\"Returns values that appear only once\n",
    "   \n",
    "    Args: \n",
    "        par1 (list): input parameter\n",
    "    Returns: \n",
    "        list: singular values from the list\n",
    "    \"\"\"\n",
    "    return  list(set(par))\n",
    "\n",
    "a = [1,2,3,3,3,4,5,5,6]\n",
    "print(singular_list(a))\n",
    "### END SOLUTION"
   ]
  },
  {
   "cell_type": "code",
   "execution_count": 81,
   "metadata": {
    "collapsed": false,
    "nbgrader": {
     "grade": true,
     "grade_id": "32",
     "locked": true,
     "points": 1,
     "solution": false
    }
   },
   "outputs": [],
   "source": [
    "a = [1,2,3,3,3,4,5,5,6]\n",
    "assert(sorted(singular_list(a)) == [1, 2, 3, 4, 5, 6])\n",
    "\n",
    "### HIDESTART\n",
    "assert(sorted(singular_list(['a', 'a', 'b', 'd', 'e', 'e', 'e' ])) == ['a', 'b', 'd', 'e'])\n",
    "assert(singular_list([])==[])\n",
    "assert(singular_list([1,1,1,1,1,1,1,1])==[1])\n",
    "assert(singular_list.__doc__ != None)\n",
    "### HIDEEND"
   ]
  },
  {
   "cell_type": "markdown",
   "metadata": {
    "nbgrader": {
     "grade": false,
     "grade_id": "33",
     "locked": true,
     "solution": false
    }
   },
   "source": [
    "b) (1 Punkt) Schreiben Sie eine Funktion namens ```set_difference```, welche zwei Listen als Parameter übergeben bekommt und deren Mengendifferenz als Liste zurückgibt."
   ]
  },
  {
   "cell_type": "code",
   "execution_count": 84,
   "metadata": {
    "collapsed": false,
    "nbgrader": {
     "grade": false,
     "grade_id": "34",
     "locked": false,
     "solution": true
    }
   },
   "outputs": [
    {
     "name": "stdout",
     "output_type": "stream",
     "text": [
      "[2]\n",
      "[]\n"
     ]
    }
   ],
   "source": [
    "### BEGIN SOLUTION \n",
    "def set_difference(list1, list2):\n",
    "    \"\"\"Returns the set difference between two lists\n",
    "   \n",
    "    Args: \n",
    "        list1 (list): first input parameter\n",
    "        list2 (list): second input parameter\n",
    "    Returns: \n",
    "        list: set difference between two lists\n",
    "    \"\"\"\n",
    "    return  list(set(list1) - set(list2))\n",
    "\n",
    "a = [1,2,3,3,3,4,5,5,6]\n",
    "b = [1,3,3,3,4,5,6]\n",
    "print(set_difference(a,b))\n",
    "### END SOLUTION"
   ]
  },
  {
   "cell_type": "code",
   "execution_count": 90,
   "metadata": {
    "collapsed": false,
    "nbgrader": {
     "grade": true,
     "grade_id": "35",
     "locked": true,
     "points": 1,
     "solution": false
    }
   },
   "outputs": [],
   "source": [
    "a = [1,2,3,3,3,4,5,5,6]\n",
    "b = [1,3,3,3,4,5,6]\n",
    "assert(set_difference(a,b) == [2])\n",
    "\n",
    "### HIDESTART\n",
    "assert(sorted(set_difference(['a', 'b', \"c\"], ['b'])) == ['a', 'c'])\n",
    "assert(set_difference([],[])==set_difference([1,1,1],[1]))\n",
    "assert(set_difference.__doc__ != None)\n",
    "### HIDEEND"
   ]
  },
  {
   "cell_type": "markdown",
   "metadata": {
    "nbgrader": {
     "grade": false,
     "grade_id": "39",
     "locked": true,
     "solution": false
    }
   },
   "source": [
    "c) (2 Punkte) Schreiben Sie eine Funktion namens ```conc_lists```, welche zwei Listen als Parameter übergeben bekommt, diese hintereinander reiht und eine Liste zurückgibt, welche (beginnend mit dem ersten) jedes zweite Element dieser Hintereinanderreihung enthält."
   ]
  },
  {
   "cell_type": "code",
   "execution_count": 85,
   "metadata": {
    "collapsed": false,
    "nbgrader": {
     "grade": false,
     "grade_id": "40",
     "locked": false,
     "solution": true
    }
   },
   "outputs": [
    {
     "data": {
      "text/plain": [
       "'[]'"
      ]
     },
     "execution_count": 85,
     "metadata": {},
     "output_type": "execute_result"
    }
   ],
   "source": [
    "### BEGIN SOLUTION \n",
    "def conc_lists(list1, list2):\n",
    "    \"\"\"Returns the concatenation between two lists\n",
    "   \n",
    "    Args: \n",
    "        list1 (list): first input parameter\n",
    "        list2 (list): second input parameter\n",
    "    Returns: \n",
    "        str: concatenation of two lists\n",
    "    \"\"\"\n",
    "    val = list1 + list2\n",
    "    \n",
    "    return  str(val[::2])\n",
    "\n",
    "a = [1,2,3,3,3,4,5,5,6]\n",
    "b = [1,3,3,3,4,5,6]\n",
    "conc_lists(a,b)\n",
    "### END SOLUTION\n"
   ]
  },
  {
   "cell_type": "code",
   "execution_count": 89,
   "metadata": {
    "collapsed": false,
    "nbgrader": {
     "grade": true,
     "grade_id": "41",
     "locked": true,
     "points": 1,
     "solution": false
    }
   },
   "outputs": [],
   "source": [
    "a = [1,2,3,3,3,4,5,5,6]\n",
    "b = [1,3,3,3,4,5,6]\n",
    "\n",
    "assert(str(conc_lists(a,b)) == str([1, 3, 3, 5, 6, 3, 3, 5]))\n",
    "\n",
    "### HIDESTART\n",
    "assert(str(conc_lists([1],[])) == str([1]))\n",
    "assert(str(conc_lists([],[1])) == str([1]))\n",
    "assert(str(conc_lists([],[1,2,3])) == str([1,3]))\n",
    "assert(str(conc_lists([],[]))==str([]))\n",
    "assert(conc_lists.__doc__ != None)\n",
    "### HIDEEND"
   ]
  },
  {
   "cell_type": "markdown",
   "metadata": {
    "nbgrader": {
     "grade": false,
     "grade_id": "50",
     "locked": true,
     "solution": false
    }
   },
   "source": [
    "## Aufgabe 4: Dictionaries\n",
    "\n",
    "a) (4 Punkte) Schreiben Sie zwei ```dict```-Variablen namens ```color_en_de``` und ```color_de_fr```, welche die Farben rot, grün, blau und gelb auf Deutsch-Englisch und auf Deutsch-Französisch enthalten. \n",
    "Als Referenz benutzen Sie die folgende Tabelle: \n",
    "\n",
    "|DE   | EN   | FR|\n",
    "|----|------|---|\n",
    "|rot |red | rouge |   \n",
    "|gelb |yellow  | jaune|\n",
    "|grün  |green  | vert|\n",
    "|blau  |blue | bleu |\n",
    "\n",
    "Schreiben Sie dann eine Funktion namens ```translator```, welche eine Farbe (in englischer Sprache, als String) sowie zwei solche Wörterbucher (also ein en->de und ein de->fr) als Parameter übergeben bekommt und die als ersten Parameter übergebene Farbe von Englisch auf Französisch übersetzt. "
   ]
  },
  {
   "cell_type": "code",
   "execution_count": 92,
   "metadata": {
    "collapsed": false,
    "nbgrader": {
     "grade": false,
     "grade_id": "51",
     "locked": false,
     "solution": true
    }
   },
   "outputs": [
    {
     "name": "stdout",
     "output_type": "stream",
     "text": [
      "The french word for yellow is jaune\n"
     ]
    }
   ],
   "source": [
    "### BEGIN SOLUTION\n",
    "color_en_de = {\"red\" : \"rot\", \"green\" : \"grün\", \"blue\" : \"blau\", \"yellow\":\"gelb\"}\n",
    "color_de_fr = {\"rot\" : \"rouge\", \"grün\" : \"vert\", \"blau\" : \"bleu\", \"gelb\":\"jaune\"}\n",
    "\n",
    "def translator(word, color_en_de, color_de_fr):\n",
    "    \"\"\"Translates colors from english to french\n",
    "   \n",
    "    Args: \n",
    "        word (str): english word\n",
    "        color_en_de (dict): english german dict\n",
    "        color_de_fr (dict): german french dict\n",
    "    Returns: \n",
    "        str: translation in french\n",
    "    \"\"\"    \n",
    "    return color_de_fr[color_en_de[word]]\n",
    "\n",
    "word=\"yellow\"\n",
    "print(\"The french word for\", word, \"is\", translator(word, color_en_de, color_de_fr))\n",
    "### END SOLUTION"
   ]
  },
  {
   "cell_type": "code",
   "execution_count": 93,
   "metadata": {
    "collapsed": false,
    "nbgrader": {
     "grade": true,
     "grade_id": "52",
     "locked": true,
     "points": 4,
     "solution": false
    }
   },
   "outputs": [],
   "source": [
    "color_en_de = {\"red\" : \"rot\", \"green\" : \"grün\", \"blue\" : \"blau\", \"yellow\":\"gelb\"}\n",
    "color_de_fr = {\"rot\" : \"rouge\", \"grün\" : \"vert\", \"blau\" : \"bleu\", \"gelb\":\"jaune\"}\n",
    "assert(translator(\"yellow\", color_en_de, color_de_fr)==\"jaune\")\n",
    "\n",
    "### HIDESTART\n",
    "vehicles_en_de = {\"car\" : \"Auto\", \"train\" : \"Zug\"}\n",
    "vehicles_de_fr = {\"Auto\" : \"voiture\", \"Zug\" : \"train\"}\n",
    "assert(translator(\"car\", vehicles_en_de, vehicles_de_fr)==\"voiture\")\n",
    "assert(translator(\"train\", vehicles_en_de, vehicles_de_fr)==\"train\")\n",
    "assert(translator.__doc__ != None)\n",
    "### HIDEEND"
   ]
  },
  {
   "cell_type": "markdown",
   "metadata": {
    "nbgrader": {
     "grade": false,
     "grade_id": "60",
     "locked": true,
     "solution": false
    }
   },
   "source": [
    "## Aufgabe 5: Funktionen\n",
    "\n",
    "a) (1 Punkt) Gegeben ist die folgende Funktion: \n",
    "\n",
    "```Python\n",
    "def f(a):\n",
    "    return a+3\n",
    "```\n",
    "\n",
    "Welche Werte werden bei folgendem Aufruf ausgegeben:\n",
    "\n",
    "```Python\n",
    "a=2\n",
    "print(f(a+3), f(f(a+3)))\n",
    "``` \n",
    "Begründen Sie kurz."
   ]
  },
  {
   "cell_type": "markdown",
   "metadata": {
    "collapsed": false,
    "nbgrader": {
     "grade": true,
     "grade_id": "61",
     "locked": false,
     "points": 1,
     "solution": true
    }
   },
   "source": [
    "### BEGIN SOLUTION\n",
    "Ausgabe: 8, 11\n",
    "\n",
    "    Grund für 8: \n",
    "        Erster Aufruf: 2+3=5\n",
    "        Zweiter Aufruf: 5+3 = 8\n",
    "        \n",
    "    Grund für 11\n",
    "        Erster Aufruf: 2 + 3 = 5\n",
    "        Zweiter Aufruf: 5 + 3 = 8\n",
    "        Dritter Aufruf: 8 + 3 = 11\n",
    "### END SOLUTION"
   ]
  },
  {
   "cell_type": "markdown",
   "metadata": {
    "nbgrader": {
     "grade": false,
     "grade_id": "62",
     "locked": true,
     "solution": false
    }
   },
   "source": [
    "b) (1 Punkt) Was ist der Rückgabewert des folgenden Funktionsaufrufs? Begründen Sie kurz.\n",
    "\n",
    "```Python\n",
    "def ausgabe(x):\n",
    "    print(x,2*x)\n",
    "    return 2*x\n",
    "    print(x, 3*x)\n",
    "    return 3*x\n",
    "```"
   ]
  },
  {
   "cell_type": "code",
   "execution_count": 41,
   "metadata": {
    "collapsed": false
   },
   "outputs": [
    {
     "name": "stdout",
     "output_type": "stream",
     "text": [
      "2 4\n",
      "4\n"
     ]
    }
   ],
   "source": [
    "def ausgabe(x):\n",
    "    print(x,2*x)\n",
    "    return 2*x\n",
    "    print(x, 3*x)\n",
    "    return 3*x"
   ]
  },
  {
   "cell_type": "markdown",
   "metadata": {
    "collapsed": true,
    "nbgrader": {
     "grade": true,
     "grade_id": "63",
     "locked": false,
     "points": 1,
     "solution": true
    }
   },
   "source": [
    "### BEGIN SOLUTION\n",
    "Ausgabe: ```2*x```\n",
    "\n",
    "Grund: nach dem ersten ```return``` wird die Funktion nicht mehr weiter Ausgeführt.\n",
    "### END SOLUTION"
   ]
  },
  {
   "cell_type": "markdown",
   "metadata": {
    "nbgrader": {
     "grade": false,
     "grade_id": "64",
     "locked": true,
     "solution": false
    }
   },
   "source": [
    "c) (1 Punkt) Gegeben ist folgendes Programm. Welche Werte haben am Ende die in der drittletzten Zeile deklarierten Variablen $a,b,x,y$? Begründen Sie kurz.\n",
    "\n",
    "```Python\n",
    "def foo(x, y):\n",
    "    a = 24\n",
    "    x,y = y,x\n",
    "    b = 4\n",
    "    b = 16\n",
    "    c = 10\n",
    "    print(a,b,x,y)\n",
    "\n",
    "a,b,x,y = 1,15,3,4\n",
    "foo(17,4)\n",
    "print(a,b,x,y)\n",
    "```"
   ]
  },
  {
   "cell_type": "markdown",
   "metadata": {
    "collapsed": false,
    "nbgrader": {
     "grade": true,
     "grade_id": "65",
     "locked": false,
     "points": 1,
     "solution": true
    }
   },
   "source": [
    "### BEGIN SOLUTION\n",
    "Die Variablen $a,b,x,y$ haben folgende Werte: 1, 15, 3, 4. Grund: sie werden nicht von ```foo``` beeinflusst. \n",
    "### END SOLUTION        "
   ]
  },
  {
   "cell_type": "markdown",
   "metadata": {
    "nbgrader": {
     "grade": false,
     "grade_id": "66",
     "locked": true,
     "solution": false
    }
   },
   "source": [
    "d) Gegeben sind die folgenden beiden Funktionen:\n",
    "\n",
    "```Python\n",
    "def foo1(a):\n",
    "     print(a + 1)\n",
    "def foo2(a):\n",
    "     return a + 1\n",
    "```     \n",
    "Einer der beiden folgenden Aufrufe ist fehlerhaft. Finden Sie, welcher es ist und begründen Sie kurz.\n",
    "```Python\n",
    "foo1(3) + 1\n",
    "foo2(3) + 1\n",
    "```"
   ]
  },
  {
   "cell_type": "markdown",
   "metadata": {
    "collapsed": true,
    "nbgrader": {
     "grade": true,
     "grade_id": "67",
     "locked": false,
     "points": 1,
     "solution": true
    }
   },
   "source": [
    "### BEGIN SOLUTION\n",
    "Die erste Aufruf ist fehlerhaft, da ```foo1``` keinen Wert zurückgibt (hat None als Rückgabewert).\n",
    "### END SOLUTION"
   ]
  }
 ],
 "metadata": {
  "anaconda-cloud": {},
  "celltoolbar": "Create Assignment",
  "kernelspec": {
   "display_name": "Python [default]",
   "language": "python",
   "name": "python3"
  },
  "language_info": {
   "codemirror_mode": {
    "name": "ipython",
    "version": 3
   },
   "file_extension": ".py",
   "mimetype": "text/x-python",
   "name": "python",
   "nbconvert_exporter": "python",
   "pygments_lexer": "ipython3",
   "version": "3.5.2"
  }
 },
 "nbformat": 4,
 "nbformat_minor": 1
}
