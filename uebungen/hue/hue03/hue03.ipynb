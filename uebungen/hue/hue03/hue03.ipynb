{
 "cells": [
  {
   "cell_type": "markdown",
   "metadata": {
    "nbgrader": {
     "grade": true,
     "grade_id": "matrikel",
     "locked": false,
     "points": 0,
     "solution": true
    }
   },
   "source": []
  },
  {
   "cell_type": "markdown",
   "metadata": {
    "nbgrader": {
     "grade": false,
     "grade_id": "matrikel_info",
     "locked": true,
     "solution": false
    }
   },
   "source": [
    "Bitte tragen Sie Ihre Matrikelnummern und E-Mail-Adressen *zeilenweise* in die Zelle *oberhalb* dieser Zelle ein.\n",
    "Beachten Sie: Die Abgabe muss mit Ihrem *Gruppenaccount* erfolgen, den Sie in der Präsenzübung erhalten haben! Abgaben, die über Ihren Einzelaccount erfolgen, werden ignoriert. \n",
    "Achten Sie dabei streng auf die Formatierung, denn die Auswertung erfolgt automatisch. \n",
    "Benutzen Sie *keine* Leerzeilen.\n",
    "Nur zwischen Matrikelnummer und E-Mail-Adresse darf ein Leerzeichen stehen.\n",
    "\n",
    "Format:\n",
    "\n",
    "MatrikelNummer E-Mail-Adresse\n",
    "\n",
    "z.B.:\n",
    "\n",
    "123456 testStudent@mail.upb.de\n",
    "\n",
    "### Abgabetermin: 20.11.2016 um 23:59 Uhr"
   ]
  },
  {
   "cell_type": "markdown",
   "metadata": {
    "nbgrader": {
     "grade": false,
     "grade_id": "1",
     "locked": true,
     "solution": false
    }
   },
   "source": [
    "## Aufgabe 1: Strings\n",
    "\n",
    "a) (1 Punkt) Schreiben Sie eine Funktion namens ```firstLast```, welche einen ```string```-Parameter übergeben bekommt und das erste und letzte Zeichen des übergebenen Strings ausgibt. Dokumentieren Sie die Funktion, indem Sie Ihr einen ```docstring``` zuweisen und die Eingabe und Rückgabe parametern beschreiben. Drucken Sie anschließend das Attribut Ihres Funktions durch ```__doc__``` und ```help()``` aus. Führen Sie dieselbe Art von Dokumentation für **alle** Funktionen in diesen Übungsblatt. "
   ]
  },
  {
   "cell_type": "code",
   "execution_count": 35,
   "metadata": {
    "collapsed": false,
    "nbgrader": {
     "grade": false,
     "grade_id": "2",
     "locked": false,
     "solution": true
    }
   },
   "outputs": [
    {
     "name": "stdout",
     "output_type": "stream",
     "text": [
      "Returns the first and last characters of a string\n",
      "   \n",
      "    Args: \n",
      "        val (str): Input string\n",
      "    Returns: \n",
      "        str: First and last character of the input\n",
      "    \n",
      "Help on function firstLast in module __main__:\n",
      "\n",
      "firstLast(val)\n",
      "    Returns the first and last characters of a string\n",
      "    \n",
      "    Args: \n",
      "        val (str): Input string\n",
      "    Returns: \n",
      "        str: First and last character of the input\n",
      "\n",
      "First and last characters of fox are fx\n"
     ]
    }
   ],
   "source": [
    "### BEGIN SOLUTION \n",
    "def firstLast(val):\n",
    "    \"\"\"Returns the first and last characters of a string\n",
    "   \n",
    "    Args: \n",
    "        val (str): Input string\n",
    "    Returns: \n",
    "        str: First and last character of the input\n",
    "    \"\"\"\n",
    "    return val[0] + val[-1]\n",
    "\n",
    "print(firstLast.__doc__)\n",
    "help(firstLast)\n",
    "\n",
    "word='fox'\n",
    "print('First and last characters of', word,'are', firstLast(word))\n",
    "### END SOLUTION"
   ]
  },
  {
   "cell_type": "code",
   "execution_count": 34,
   "metadata": {
    "collapsed": false,
    "nbgrader": {
     "grade": true,
     "grade_id": "3",
     "locked": true,
     "points": 1,
     "solution": false
    }
   },
   "outputs": [],
   "source": [
    "assert(firstLast('fox')=='fx')"
   ]
  },
  {
   "cell_type": "markdown",
   "metadata": {
    "nbgrader": {
     "grade": false,
     "grade_id": "10",
     "locked": true,
     "solution": false
    }
   },
   "source": [
    "b) (1 Punkt) Schreiben Sie eine Funktion namens ```reverse```, welche einen ```string```-Parameter übergeben bekommt und die Zeichenfolge in umgekehrter Reihenfolge zurückgibt. "
   ]
  },
  {
   "cell_type": "code",
   "execution_count": 37,
   "metadata": {
    "collapsed": false,
    "nbgrader": {
     "grade": false,
     "grade_id": "11",
     "locked": false,
     "solution": true
    }
   },
   "outputs": [
    {
     "name": "stdout",
     "output_type": "stream",
     "text": [
      "Reverse order of fox is xof\n"
     ]
    }
   ],
   "source": [
    "### BEGIN SOLUTION \n",
    "def reverse(val):\n",
    "    \"\"\"Returns the characters of a string in reverse order\n",
    "   \n",
    "    Args: \n",
    "        val (str): Input string\n",
    "    Returns: \n",
    "        str: reverse order of the input\n",
    "    \"\"\"\n",
    "    return  val[::-1]\n",
    "\n",
    "word='fox'\n",
    "print('Reverse order of', word,'is', reverse(word))\n",
    "### END SOLUTION"
   ]
  },
  {
   "cell_type": "raw",
   "metadata": {
    "collapsed": true,
    "nbgrader": {
     "grade": true,
     "grade_id": "12",
     "locked": true,
     "points": 1,
     "solution": false
    }
   },
   "source": [
    "assert(reverse('fox')=='xof')"
   ]
  },
  {
   "cell_type": "markdown",
   "metadata": {
    "nbgrader": {
     "grade": false,
     "grade_id": "13",
     "locked": true,
     "solution": false
    }
   },
   "source": [
    "c) (1 Punkt) Schreiben Sie eine Funktion namens ```concat```, welche zwei ```string```-Parameter übergeben bekommt und die Verkettung dieser beiden Strings zurückgibt."
   ]
  },
  {
   "cell_type": "code",
   "execution_count": 46,
   "metadata": {
    "collapsed": false,
    "nbgrader": {
     "grade": false,
     "grade_id": "14",
     "locked": false,
     "solution": true
    }
   },
   "outputs": [
    {
     "name": "stdout",
     "output_type": "stream",
     "text": [
      "Concatenation of Kunst and stoff is Kunststoff\n"
     ]
    }
   ],
   "source": [
    "### BEGIN SOLUTION \n",
    "def concat(str1, str2):\n",
    "    \"\"\"Concatenates the input strings\n",
    "   \n",
    "    Args: \n",
    "        str1 (str): first input string\n",
    "        str2 (str): second input string\n",
    "    Returns: \n",
    "        str: concatenation of the input\n",
    "    \"\"\"\n",
    "    return  str1 + str2\n",
    "\n",
    "word1 = 'Kunst'\n",
    "word2 = 'stoff'\n",
    "print('Concatenation of', word1, 'and', word2, 'is', concat(word1, word2))\n",
    "### END SOLUTION"
   ]
  },
  {
   "cell_type": "code",
   "execution_count": 44,
   "metadata": {
    "collapsed": false,
    "nbgrader": {
     "grade": true,
     "grade_id": "15",
     "locked": true,
     "points": 1,
     "solution": false
    }
   },
   "outputs": [],
   "source": [
    "assert(concat('Kunst','stoff' )=='Kunststoff')"
   ]
  },
  {
   "cell_type": "markdown",
   "metadata": {
    "nbgrader": {
     "grade": false,
     "grade_id": "16",
     "locked": true,
     "solution": false
    }
   },
   "source": [
    "d) (1 Punkt) Schreiben Sie eine Funktion namens ```sumLength```, welche zwei ```string```-Parameter übergeben bekommt und die Gesamtanzahl der Zeichen in beiden Strings zurückgibt.  "
   ]
  },
  {
   "cell_type": "code",
   "execution_count": 48,
   "metadata": {
    "collapsed": false,
    "nbgrader": {
     "grade": false,
     "grade_id": "17",
     "locked": false,
     "solution": true
    }
   },
   "outputs": [
    {
     "name": "stdout",
     "output_type": "stream",
     "text": [
      "Totalsize of characters of Kunst and stoff is 10\n"
     ]
    }
   ],
   "source": [
    "### BEGIN SOLUTION \n",
    "def sumLength(str1, str2):\n",
    "    \"\"\"Returns the total size of input characters\n",
    "   \n",
    "    Args: \n",
    "        str1 (str): first input string\n",
    "        str2 (str): second input string\n",
    "    Returns: \n",
    "        int: Gesamtanzahl der Zeichen in beiden Strings\n",
    "    \"\"\"\n",
    "    return  len(str1) + len(str2)\n",
    "\n",
    "word1 = 'Kunst'\n",
    "word2 = 'stoff'\n",
    "print('Totalsize of characters of', word1, 'and', word2, 'is', sumLength(word1, word2))\n",
    "### END SOLUTION"
   ]
  },
  {
   "cell_type": "code",
   "execution_count": 50,
   "metadata": {
    "collapsed": false,
    "nbgrader": {
     "grade": true,
     "grade_id": "18",
     "locked": true,
     "points": 1,
     "solution": false
    }
   },
   "outputs": [],
   "source": [
    "assert(sumLength('Kunst','stoff' )==10)"
   ]
  },
  {
   "cell_type": "markdown",
   "metadata": {
    "nbgrader": {
     "grade": false,
     "grade_id": "19",
     "locked": true,
     "solution": false
    }
   },
   "source": [
    "e) (1 Punkt) Wie würden Sie den Inhalt eines ```string``` verändern? Nennen Sie mindestens zwei verschiedene Möglichkeiten und erklären Sie, warum diese funktionieren."
   ]
  },
  {
   "cell_type": "code",
   "execution_count": 68,
   "metadata": {
    "collapsed": false,
    "nbgrader": {
     "grade": true,
     "grade_id": "20",
     "locked": false,
     "points": 1,
     "solution": true
    }
   },
   "outputs": [
    {
     "name": "stdout",
     "output_type": "stream",
     "text": [
      "string ['d', 't', 'r', 'i', 'n', 'g'] dtring\n",
      "string dring\n"
     ]
    }
   ],
   "source": [
    "### BEGIN SOLUTION\n",
    "\n",
    "# Solution A: list conversion\n",
    "a = 'string'\n",
    "b=list(a)\n",
    "b[0]='d'\n",
    "c = ''.join(b)\n",
    "#try to work also with str(b) and show that it does not work\n",
    "print(a,b,c)\n",
    "\n",
    "# Solution B: direct modification\n",
    "a = 'string'\n",
    "b = 'd' + a[2:]\n",
    "print(a,b)\n",
    "\n",
    "### END SOLUTION\n",
    "    "
   ]
  },
  {
   "cell_type": "markdown",
   "metadata": {
    "nbgrader": {
     "grade": false,
     "grade_id": "21",
     "locked": true,
     "solution": false
    }
   },
   "source": [
    "## Aufgabe 2: Tuples\n",
    "\n",
    "a) (1 Punkt) Schreiben Sie eine Funktion namens ```tupleConv```, welche zwei Parametern von beliebigen Datentypen übergeben bekommt und diese zusammen als ```tuple``` zurückgibt."
   ]
  },
  {
   "cell_type": "code",
   "execution_count": 70,
   "metadata": {
    "collapsed": false,
    "nbgrader": {
     "grade": false,
     "grade_id": "22",
     "locked": false,
     "solution": true
    }
   },
   "outputs": [
    {
     "name": "stdout",
     "output_type": "stream",
     "text": [
      "A tuple of parameters Kunst and 2 is ('Kunst', 2)\n"
     ]
    }
   ],
   "source": [
    "### BEGIN SOLUTION \n",
    "def tupleConv(par1, par2):\n",
    "    \"\"\"Returns the input parameters as tuple\n",
    "   \n",
    "    Args: \n",
    "        par1 : first input parameter\n",
    "        par2 : second input parameter\n",
    "    Returns: \n",
    "        int: Gesamtanzahl der Zeichen in beiden Strings\n",
    "    \"\"\"\n",
    "    return  (par1,par2)\n",
    "\n",
    "word1 = 'Kunst'\n",
    "word2 = 2\n",
    "print('A tuple of parameters', word1, 'and', word2, 'is', tupleConv(word1, word2))\n",
    "### END SOLUTION"
   ]
  },
  {
   "cell_type": "code",
   "execution_count": 76,
   "metadata": {
    "collapsed": false,
    "nbgrader": {
     "grade": true,
     "grade_id": "23",
     "locked": true,
     "points": 1,
     "solution": false
    }
   },
   "outputs": [],
   "source": [
    "assert(tupleConv('Kunst',2)==('Kunst',2))"
   ]
  },
  {
   "cell_type": "markdown",
   "metadata": {
    "nbgrader": {
     "grade": false,
     "grade_id": "24",
     "locked": true,
     "solution": false
    }
   },
   "source": [
    "b) (1 Punkt) Schreiben Sie eine Funktion namens ```tupleCheck```, welche ein ```tuple``` und ein beliebiges Parameter übergebenen bekommt. Die Funktion soll checken ob der zweite Parameter in das erste ```tuple``` sich befindet und das Ergebniss zurückgeben."
   ]
  },
  {
   "cell_type": "code",
   "execution_count": 100,
   "metadata": {
    "collapsed": false,
    "nbgrader": {
     "grade": false,
     "grade_id": "25",
     "locked": false,
     "solution": true
    }
   },
   "outputs": [
    {
     "data": {
      "text/plain": [
       "False"
      ]
     },
     "execution_count": 100,
     "metadata": {},
     "output_type": "execute_result"
    }
   ],
   "source": [
    "### BEGIN SOLUTION \n",
    "def tupleCheck(par1, par2):\n",
    "    \"\"\"Checks whether an element is in the tuple\n",
    "   \n",
    "    Args: \n",
    "        par1 (tuple): first input parameter\n",
    "        par2 : second input parameter\n",
    "    Returns: \n",
    "        bool: search result\n",
    "    \"\"\"\n",
    "    return  par2 in par1\n",
    "\n",
    "word1 = 'Kunst'\n",
    "word2 = 2\n",
    "tupleCheck((word1,word2),4)\n",
    "### END SOLUTION"
   ]
  },
  {
   "cell_type": "code",
   "execution_count": 104,
   "metadata": {
    "collapsed": false,
    "nbgrader": {
     "grade": true,
     "grade_id": "26",
     "locked": true,
     "points": 1,
     "solution": false
    }
   },
   "outputs": [],
   "source": [
    "word1 = 'Kunst'\n",
    "word2 = 2\n",
    "assert(tupleCheck((word1,word2),2)==True)"
   ]
  },
  {
   "cell_type": "markdown",
   "metadata": {
    "nbgrader": {
     "grade": false,
     "grade_id": "27",
     "locked": true,
     "solution": false
    }
   },
   "source": [
    "c) (1 Punkt) Schreiben Sie eine Funktion namens ```tupleFilter```, welche ein ```tuple``` als Parameter übergeben bekommt und dessen erstes und vorletztes Element als Tuple zurückgibt."
   ]
  },
  {
   "cell_type": "code",
   "execution_count": 109,
   "metadata": {
    "collapsed": false,
    "nbgrader": {
     "grade": false,
     "grade_id": "28",
     "locked": false,
     "solution": true
    }
   },
   "outputs": [
    {
     "name": "stdout",
     "output_type": "stream",
     "text": [
      "('1', '3')\n"
     ]
    }
   ],
   "source": [
    "### BEGIN SOLUTION \n",
    "def tupleFilter(par):\n",
    "    \"\"\"Returns first element and second element from the last of a tuple\n",
    "   \n",
    "    Args: \n",
    "        par1 (tuple): input parameter\n",
    "    Returns: \n",
    "        tuple: first and second element \n",
    "    \"\"\"\n",
    "    return  (par[0], par[-2])\n",
    "\n",
    "a = (\"1\",\"2\",\"3\",\"4\")\n",
    "print(tupleFilter(a))\n",
    "### END SOLUTION"
   ]
  },
  {
   "cell_type": "code",
   "execution_count": 112,
   "metadata": {
    "collapsed": false,
    "nbgrader": {
     "grade": true,
     "grade_id": "29",
     "locked": true,
     "points": 1,
     "solution": false
    }
   },
   "outputs": [],
   "source": [
    "assert(tupleFilter(a)==(\"1\",\"3\"))"
   ]
  },
  {
   "cell_type": "markdown",
   "metadata": {
    "nbgrader": {
     "grade": false,
     "grade_id": "30",
     "locked": true,
     "solution": false
    }
   },
   "source": [
    "## Aufgabe 3: Listen und Mengen\n",
    "\n",
    "a) (1 Punkt) Schreiben Sie eine Funktion namens ```singularList```, welche eine ```list```-Parameter übergeben bekommt und eine Liste mit Werten zurückgibt die nur einmal vorkommen. "
   ]
  },
  {
   "cell_type": "code",
   "execution_count": 138,
   "metadata": {
    "collapsed": false,
    "nbgrader": {
     "grade": false,
     "grade_id": "31",
     "locked": false,
     "solution": true
    }
   },
   "outputs": [
    {
     "name": "stdout",
     "output_type": "stream",
     "text": [
      "[1, 2, 3, 4, 5, 6]\n"
     ]
    }
   ],
   "source": [
    "### BEGIN SOLUTION \n",
    "def singularList(par):\n",
    "    \"\"\"Returns values that appear only once\n",
    "   \n",
    "    Args: \n",
    "        par1 (list): input parameter\n",
    "    Returns: \n",
    "        list: singular values from the list\n",
    "    \"\"\"\n",
    "    return  list(set(par))\n",
    "\n",
    "a = [1,2,3,3,3,4,5,5,6]\n",
    "print(singularList(a))\n",
    "### END SOLUTION"
   ]
  },
  {
   "cell_type": "code",
   "execution_count": 139,
   "metadata": {
    "collapsed": false,
    "nbgrader": {
     "grade": true,
     "grade_id": "32",
     "locked": true,
     "points": 1,
     "solution": false
    }
   },
   "outputs": [],
   "source": [
    "assert(singularList(a)==[1, 2, 3, 4, 5, 6])"
   ]
  },
  {
   "cell_type": "markdown",
   "metadata": {
    "nbgrader": {
     "grade": false,
     "grade_id": "33",
     "locked": true,
     "solution": false
    }
   },
   "source": [
    "b) (1 Punkt) Schreiben Sie eine Funktion namens ```setDifference```, welche zwei ```list```-Parameter übergeben bekommt und deren Mengendifferenz als ```list``` zurückgibt."
   ]
  },
  {
   "cell_type": "code",
   "execution_count": 152,
   "metadata": {
    "collapsed": false,
    "nbgrader": {
     "grade": false,
     "grade_id": "34",
     "locked": false,
     "solution": true
    }
   },
   "outputs": [
    {
     "name": "stdout",
     "output_type": "stream",
     "text": [
      "[2]\n"
     ]
    }
   ],
   "source": [
    "### BEGIN SOLUTION \n",
    "def setDifference(list1, list2):\n",
    "    \"\"\"Returns the set difference between two lists\n",
    "   \n",
    "    Args: \n",
    "        list1 (list): first input parameter\n",
    "        list2 (list): second input parameter\n",
    "    Returns: \n",
    "        list: set difference between two lists\n",
    "    \"\"\"\n",
    "    return  list(set(list1) - set(list2))\n",
    "\n",
    "a = [1,2,3,3,3,4,5,5,6]\n",
    "b = [1,3,3,3,4,5,6]\n",
    "print(setDifference(a,b))\n",
    "### END SOLUTION"
   ]
  },
  {
   "cell_type": "code",
   "execution_count": 153,
   "metadata": {
    "collapsed": false,
    "nbgrader": {
     "grade": true,
     "grade_id": "35",
     "locked": true,
     "points": 1,
     "solution": false
    }
   },
   "outputs": [],
   "source": [
    "assert(setDifference(a,b)==[2])"
   ]
  },
  {
   "cell_type": "markdown",
   "metadata": {
    "nbgrader": {
     "grade": false,
     "grade_id": "39",
     "locked": true,
     "solution": false
    }
   },
   "source": [
    "c) (2 Punkte) Schreiben Sie eine Funktion namens ```concLists```, welche zwei ```list```-Parametern übergeben bekommt und jede zweite Element von deren Hintereinanderreihung als ```string```-Datentyp zurückgibt."
   ]
  },
  {
   "cell_type": "code",
   "execution_count": 174,
   "metadata": {
    "collapsed": false,
    "nbgrader": {
     "grade": false,
     "grade_id": "40",
     "locked": false,
     "solution": true
    }
   },
   "outputs": [
    {
     "data": {
      "text/plain": [
       "'[1, 3, 3, 5, 6, 3, 3, 5]'"
      ]
     },
     "execution_count": 174,
     "metadata": {},
     "output_type": "execute_result"
    }
   ],
   "source": [
    "### BEGIN SOLUTION \n",
    "def concLists(list1, list2):\n",
    "    \"\"\"Returns the concatenation between two lists\n",
    "   \n",
    "    Args: \n",
    "        list1 (list): first input parameter\n",
    "        list2 (list): second input parameter\n",
    "    Returns: \n",
    "        str: concatenation of two lists\n",
    "    \"\"\"\n",
    "    val = list1 + list2\n",
    "    \n",
    "    return  str(val[::2])\n",
    "\n",
    "a = [1,2,3,3,3,4,5,5,6]\n",
    "b = [1,3,3,3,4,5,6]\n",
    "concLists(a,b)\n",
    "### END SOLUTION\n"
   ]
  },
  {
   "cell_type": "code",
   "execution_count": 176,
   "metadata": {
    "collapsed": false,
    "nbgrader": {
     "grade": true,
     "grade_id": "41",
     "locked": true,
     "points": 2,
     "solution": false
    }
   },
   "outputs": [],
   "source": [
    "assert(concLists(a,b)=='[1, 3, 3, 5, 6, 3, 3, 5]')"
   ]
  },
  {
   "cell_type": "markdown",
   "metadata": {
    "nbgrader": {
     "grade": false,
     "grade_id": "50",
     "locked": true,
     "solution": false
    }
   },
   "source": [
    "## Aufgabe 4: Dictionaries\n",
    "\n",
    "a) (4 Punkte) Schreiben Sie zwei ```dict```-Variablen namens ```color_en_de``` und ```color_de_fr```, welche die Farben rot, grün, blau und gelb auf deutsch-englisch und auf deutsch-französisch enthält. Als Referenz benutzen Sie die folgende Tabelle: \n",
    "\n",
    "|DE   | EN   | FR|\n",
    "|----|------|---|\n",
    "|rot |red | rouge |   \n",
    "|gelb |yellow  | jaune|\n",
    "|grün  |green  | vert|\n",
    "|blau  |blue | bleu |\n",
    "\n",
    "Schreiben Sie dann, anhand der Daten eine Funktion namens ```translator```, welche die Farben von Englisch auf Französisch übersetzt. "
   ]
  },
  {
   "cell_type": "code",
   "execution_count": 243,
   "metadata": {
    "collapsed": false,
    "nbgrader": {
     "grade": false,
     "grade_id": "51",
     "locked": false,
     "solution": true
    }
   },
   "outputs": [
    {
     "name": "stdout",
     "output_type": "stream",
     "text": [
      "The french word for yellow is jaune\n"
     ]
    }
   ],
   "source": [
    "### BEGIN SOLUTION\n",
    "color_en_de = {\"red\" : \"rot\", \"green\" : \"grün\", \"blue\" : \"blau\", \"yellow\":\"gelb\"}\n",
    "color_de_fr = {\"rot\" : \"rouge\", \"grün\" : \"vert\", \"blau\" : \"bleu\", \"gelb\":\"jaune\"}\n",
    "\n",
    "def translator(word, color_en_de, color_de_fr):\n",
    "    \"\"\"Translates colors from english to french\n",
    "   \n",
    "    Args: \n",
    "        word (str): english word\n",
    "        color_en_de (dict): english german dict\n",
    "        color_de_fr (dict): german french dict\n",
    "    Returns: \n",
    "        str: translation in french\n",
    "    \"\"\"    \n",
    "    return color_de_fr[color_en_de[word]]\n",
    "\n",
    "word=\"yellow\"\n",
    "print(\"The french word for\", word, \"is\", translator(word, color_en_de, color_de_fr))\n",
    "### END SOLUTION"
   ]
  },
  {
   "cell_type": "code",
   "execution_count": 228,
   "metadata": {
    "collapsed": true,
    "nbgrader": {
     "grade": true,
     "grade_id": "52",
     "locked": true,
     "points": 4,
     "solution": false
    }
   },
   "outputs": [],
   "source": [
    "color_en_de = {\"red\" : \"rot\", \"green\" : \"grün\", \"blue\" : \"blau\", \"yellow\":\"gelb\"}\n",
    "color_de_fr = {\"rot\" : \"rouge\", \"grün\" : \"vert\", \"blau\" : \"bleu\", \"gelb\":\"jaune\"}\n",
    "assert(translator(\"yellow\", color_en_de, color_de_fr)==\"jaune\")"
   ]
  },
  {
   "cell_type": "markdown",
   "metadata": {
    "nbgrader": {
     "grade": false,
     "grade_id": "60",
     "locked": true,
     "solution": false
    }
   },
   "source": [
    "## Aufgabe 5: Funktionen\n",
    "\n",
    "a) (1 Punkt) Gegeben ist die folgende Funktion: \n",
    "\n",
    "```Python\n",
    "def f(a):\n",
    "    return a+3\n",
    "```\n",
    "\n",
    "Welche Werte werden bei folgendem Aufruf ausgegeben:\n",
    "\n",
    "```Python\n",
    "a=2\n",
    "print(f(a+3), f(f(a+3)))\n",
    "``` \n",
    "Begründen Sie kurz."
   ]
  },
  {
   "cell_type": "markdown",
   "metadata": {
    "collapsed": false,
    "nbgrader": {
     "grade": true,
     "grade_id": "61",
     "locked": false,
     "points": 1,
     "solution": true
    }
   },
   "source": [
    "### BEGIN SOLUTION\n",
    "Ausgabe: 8, 11\n",
    "    Grund für 8: \n",
    "    Erste Aufruf: 2+3=5\n",
    "    Zweite Aufruf: 5+3 = 8\n",
    "        \n",
    "    Grund für 11\n",
    "    Erste Aufruf: 2 + 3 = 5\n",
    "    Zweite Aufruf: 5 + 3 = 8\n",
    "    Dritte Aufruf: 8 + 3 = 11\n",
    "### END SOLUTION"
   ]
  },
  {
   "cell_type": "markdown",
   "metadata": {
    "nbgrader": {
     "grade": false,
     "grade_id": "62",
     "locked": true,
     "solution": false
    }
   },
   "source": [
    "b) (1 Punkt) Was ist der Rückgabewert des folgenden Funktionsaufrufs? Begründen Sie kurz.\n",
    "\n",
    "```Python\n",
    "def ausgabe(x):\n",
    "    print(x,2*x)\n",
    "    return 2*x\n",
    "    print(x, 3*x)\n",
    "    return 3*x\n",
    "```"
   ]
  },
  {
   "cell_type": "markdown",
   "metadata": {
    "collapsed": true,
    "nbgrader": {
     "grade": true,
     "grade_id": "63",
     "locked": false,
     "points": 1,
     "solution": true
    }
   },
   "source": [
    "### BEGIN SOLUTION\n",
    "Ausgabe: 2*x\n",
    "    Grund: nach dem ersten ```return``` wird die Funktion nicht mehr weiter Ausgeführt.\n",
    "### END SOLUTION"
   ]
  },
  {
   "cell_type": "markdown",
   "metadata": {
    "nbgrader": {
     "grade": false,
     "grade_id": "64",
     "locked": true,
     "solution": false
    }
   },
   "source": [
    "c) (1 Punkt) Gegeben ist folgendes Programm. Welche Werte haben am Ende die in der drittletzten Zeile deklarierten Variablen $a,b,x,y$? Begründen Sie kurz.\n",
    "\n",
    "```Python\n",
    "def foo(x, y):\n",
    "    a = 24\n",
    "    x,y = y,x\n",
    "    b = 4\n",
    "    b = 16\n",
    "    c = 10\n",
    "    print(a,b,x,y)\n",
    "\n",
    "a,b,x,y = 1,15,3,4\n",
    "foo(17,4)\n",
    "print(a,b,x,y)\n",
    "```"
   ]
  },
  {
   "cell_type": "markdown",
   "metadata": {
    "collapsed": false,
    "nbgrader": {
     "grade": true,
     "grade_id": "65",
     "locked": false,
     "points": 1,
     "solution": true
    }
   },
   "source": [
    "### BEGIN SOLUTION\n",
    "Die Variablen $a,b,x,y$ haben folgende Werte: 1, 15, 3, 4. Grund: sie werden nicht von ```foo``` beeinflusst. \n",
    "### END SOLUTION        "
   ]
  },
  {
   "cell_type": "markdown",
   "metadata": {
    "nbgrader": {
     "grade": false,
     "grade_id": "66",
     "locked": true,
     "solution": false
    }
   },
   "source": [
    "d) Gegeben sind die folgenden beiden Funktionen:\n",
    "\n",
    "```Python\n",
    "def foo1(a):\n",
    "     print(a + 1)\n",
    "def foo2(a):\n",
    "     return a + 1\n",
    "```     \n",
    "Einer der beiden folgenden Aufrufe ist fehlerhaft. Finden Sie, welcher es ist und begründen Sie kurz.\n",
    "```Python\n",
    "foo1(3) + 1\n",
    "foo2(3) + 1\n",
    "```"
   ]
  },
  {
   "cell_type": "markdown",
   "metadata": {
    "collapsed": true,
    "nbgrader": {
     "grade": true,
     "grade_id": "67",
     "locked": false,
     "points": 1,
     "solution": true
    }
   },
   "source": [
    "### BEGIN SOLUTION\n",
    "Die erste Aufruf ist fehlerhaft, da ```foo1``` kein Wert zurückgibt (hat None als Rückgabewert.)\n",
    "### END SOLUTION"
   ]
  }
 ],
 "metadata": {
  "anaconda-cloud": {},
  "celltoolbar": "Create Assignment",
  "kernelspec": {
   "display_name": "Python 3",
   "language": "python",
   "name": "python3"
  },
  "language_info": {
   "codemirror_mode": {
    "name": "ipython",
    "version": 3
   },
   "file_extension": ".py",
   "mimetype": "text/x-python",
   "name": "python",
   "nbconvert_exporter": "python",
   "pygments_lexer": "ipython3",
   "version": "3.4.2"
  }
 },
 "nbformat": 4,
 "nbformat_minor": 1
}
