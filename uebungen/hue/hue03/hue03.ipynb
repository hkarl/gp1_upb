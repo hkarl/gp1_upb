{
 "cells": [
  {
   "cell_type": "markdown",
   "metadata": {
    "nbgrader": {
     "grade": true,
     "grade_id": "matrikel",
     "locked": false,
     "points": 0,
     "solution": true
    }
   },
   "source": []
  },
  {
   "cell_type": "markdown",
   "metadata": {
    "nbgrader": {
     "grade": false,
     "grade_id": "matrikel_info",
     "locked": true,
     "solution": false
    }
   },
   "source": [
    "Bitte tragen Sie Ihre Matrikelnummern und E-Mail-Adressen *zeilenweise* in die Zelle *oberhalb* dieser Zelle ein.\n",
    "Beachten Sie: Die Abgabe muss mit Ihrem *Gruppenaccount* erfolgen, den Sie in der Präsenzübung erhalten haben! Abgaben, die über Ihren Einzelaccount erfolgen, werden ignoriert. \n",
    "Achten Sie dabei streng auf die Formatierung, denn die Auswertung erfolgt automatisch. \n",
    "Benutzen Sie *keine* Leerzeilen.\n",
    "Nur zwischen Matrikelnummer und E-Mail-Adresse darf ein Leerzeichen stehen.\n",
    "\n",
    "Format:\n",
    "\n",
    "MatrikelNummer E-Mail-Adresse\n",
    "\n",
    "z.B.:\n",
    "\n",
    "123456 testStudent@mail.upb.de\n",
    "\n",
    "### Abgabetermin: 20.11.2016 um 8:00 Uhr"
   ]
  },
  {
   "cell_type": "markdown",
   "metadata": {
    "nbgrader": {
     "grade": false,
     "grade_id": "1",
     "locked": true,
     "solution": false
    }
   },
   "source": [
    "## Aufgabe 1: Strings\n",
    "\n",
    "Schreiben Sie eine Funktion, die eine ```string``` als Eingabeparameter bekommt und \n",
    "a) die erste und letzte Zeichen ausgibt\n",
    "b) die erste und letzte zwei Zeichen ausgibt\n",
    "c) die gerade Zeichen ausgibt\n",
    "d) die umgekehrte Version ausgibt\n",
    "\n",
    "Schreiben Sie eine Funktion mit zwei ```string``` als Eingabeparameter und\n",
    "a) deren Verkettung als ausgabe zurückgibt\n",
    "b) die Gesamtgröße der Zeichen zurückgibt\n",
    "\n",
    "Wie würden sie den Inhalt von einem ```string``` verändern? Würde das gehen? Welche Möglichkeiten gibt es. Erklären Sie kurz."
   ]
  },
  {
   "cell_type": "markdown",
   "metadata": {
    "nbgrader": {
     "grade": false,
     "grade_id": "20",
     "locked": true,
     "solution": false
    }
   },
   "source": [
    "## Aufgabe 2: Tuples\n",
    "\n",
    "Schreiben Sie eine Funktion, die \n",
    "a) eingabeparametern als ```tuple``` zurückgibt\n",
    "b) ein neuen Eintrag in einem Tuple einfügt. Hinweis: nutzen Sie dazu Listen als Zwischenschritt.\n",
    "c) als Eingabe ein Tuple hat und die zweite Elementen vom Kopf und Ende als Tuple zurückgibt"
   ]
  },
  {
   "cell_type": "markdown",
   "metadata": {
    "nbgrader": {
     "grade": false,
     "grade_id": "30",
     "locked": true,
     "solution": false
    }
   },
   "source": [
    "## Aufgabe 3: Listen und Mengen\n",
    "\n",
    "Schreiben Sie eine Funktion, die\n",
    "a) die Mengendifferenz von zwei Listen ausgibt. Hinweis: nutzen Sie die ```set()```. (ML: list(set(list1) - set(list2)))\n",
    "b) eine Liste in ein ```string``` konvertiert (ML: str1 = ''.join(s))\n",
    "c) zwei Listen zusammenfügt (append)\n",
    "d) die einmalige Werten ausgibt. Hinweis, nutzen Sie ```set()``` (ML: my_set = set(my_list) my_new\n",
    "e) eine Liste in eine ```string``` konvertiert\n"
   ]
  },
  {
   "cell_type": "markdown",
   "metadata": {
    "nbgrader": {
     "grade": false,
     "grade_id": "40",
     "locked": true,
     "solution": false
    }
   },
   "source": [
    "## Aufgabe 4: Dictionaries\n",
    "\n",
    "a) Schreiben Sie eine Deutsch - Englisch ```dict``` für die Himmelsrichtungen.\n",
    "\n",
    "b) Schreiben Sie eine Funktion die, \n",
    "neue Schlüsseln (keys) in eine ```dict``` hinzufügt. (ML: d.update({3:30}))\n",
    "c) zwei ```dict``` zusammenfügt (ML: d = d1.copy()  d.update(d2)  )\n",
    "d) zwei Listen in ein ```dict``` konvertiert. Hinweis: nutzen Sie ```zip()``` dazu.\n",
    "\n"
   ]
  }
 ],
 "metadata": {
  "anaconda-cloud": {},
  "celltoolbar": "Create Assignment",
  "kernelspec": {
   "display_name": "Python 3",
   "language": "python",
   "name": "python3"
  },
  "language_info": {
   "codemirror_mode": {
    "name": "ipython",
    "version": 3
   },
   "file_extension": ".py",
   "mimetype": "text/x-python",
   "name": "python",
   "nbconvert_exporter": "python",
   "pygments_lexer": "ipython3",
   "version": "3.4.2"
  }
 },
 "nbformat": 4,
 "nbformat_minor": 1
}
