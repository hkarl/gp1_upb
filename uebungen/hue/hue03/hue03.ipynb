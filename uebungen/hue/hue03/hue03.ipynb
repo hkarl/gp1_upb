Themen von HÜ03
Hauptsächlich Kapitel 5

Slicing
- mit einem Wert [n:]
- Spezielle Fälle

Verknüpfungen und Operationen mit Tuples
- Tupples addieren
- Tuple mit ganzer Zahl multiplizieren
- Leere Tupel
- Eigenschaften: Länge
- Position von einem Element in Tupel
- Zuweisung an Element?
- Zeichenkette: str
- Tuple als Funktionsparameter

Veränderliche Aufzählungen: Listen
- Syntax
- Zuggriff
- Struktur geschatelter Listen
- Veränderung von Listenelementen
- Listen vergrößern: Erweitern und Einfügen
- Listen verkleinern: pop und remove
- Listen kopieren: Listen von Listen kopieren
- Identität: vergleichen zweier Listen und Tuples
- Duck Typing
- Liste als Funktionsparameter: Ergebnisse transportieren

Veränderliche Aufzählungen: Mengen
- Menge: set
- Operationen auf Mengen

Abbildungstypen: 
- Aufzählen oder abbilden
- Beispiele: 
- Von Matrikelnummer auf Klausurresultat
- Von Name auf Telefonnummer
- Von Wörtern im Wörterbuch zur Audiodatei mit Aussprache
- Von geographischem Ort auf umliegende Restaurants
- Von URL auf Text der Webseite
- Von Daumenabdruck auf Zugangsberechtigung

Abbildung in Python: dict als key-value Typ
- Operationen auf dict
- Identität

Zusammenhang der Datentypen
- Verschachtelung
- Konvertierung

Keywords bis jetzt: 
True, False, and, or, def, return, None
in
print, len, tuple, list, set, dict
()
[]
{}

Mehrere Zeilen
