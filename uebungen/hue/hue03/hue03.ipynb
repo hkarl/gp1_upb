{
 "cells": [
  {
   "cell_type": "markdown",
   "metadata": {
    "nbgrader": {
     "grade": true,
     "grade_id": "matrikel",
     "locked": false,
     "points": 0,
     "solution": true
    }
   },
   "source": []
  },
  {
   "cell_type": "markdown",
   "metadata": {
    "nbgrader": {
     "grade": false,
     "grade_id": "matrikel_info",
     "locked": true,
     "solution": false
    }
   },
   "source": [
    "Bitte tragen Sie Ihre Matrikelnummern und E-Mail-Adressen *zeilenweise* in die Zelle *oberhalb* dieser Zelle ein.\n",
    "Beachten Sie: Die Abgabe muss mit Ihrem *Gruppenaccount* erfolgen, den Sie in der Präsenzübung erhalten haben! Abgaben, die über Ihren Einzelaccount erfolgen, werden ignoriert. \n",
    "Achten Sie dabei streng auf die Formatierung, denn die Auswertung erfolgt automatisch. \n",
    "Benutzen Sie *keine* Leerzeilen.\n",
    "Nur zwischen Matrikelnummer und E-Mail-Adresse darf ein Leerzeichen stehen.\n",
    "\n",
    "Format:\n",
    "\n",
    "MatrikelNummer E-Mail-Adresse\n",
    "\n",
    "z.B.:\n",
    "\n",
    "123456 testStudent@mail.upb.de\n",
    "\n",
    "### Abgabetermin: 20.11.2016 um 23:59 Uhr"
   ]
  },
  {
   "cell_type": "markdown",
   "metadata": {
    "nbgrader": {
     "grade": false,
     "grade_id": "1",
     "locked": true,
     "solution": false
    }
   },
   "source": [
    "## Aufgabe 1: Strings\n",
    "\n",
    "a) (1 Punkt) Schreiben Sie eine Funktion namens ```firstLast```, welche einen ```string```-Parameter übergeben bekommt und das erste und letzte Zeichen des übergebenen Strings ausgibt."
   ]
  },
  {
   "cell_type": "code",
   "execution_count": null,
   "metadata": {
    "collapsed": true,
    "nbgrader": {
     "grade": false,
     "grade_id": "2",
     "locked": false,
     "solution": true
    }
   },
   "outputs": [],
   "source": []
  },
  {
   "cell_type": "code",
   "execution_count": null,
   "metadata": {
    "collapsed": true,
    "nbgrader": {
     "grade": true,
     "grade_id": "3",
     "locked": true,
     "points": 1,
     "solution": false
    }
   },
   "outputs": [],
   "source": []
  },
  {
   "cell_type": "markdown",
   "metadata": {
    "nbgrader": {
     "grade": false,
     "grade_id": "10",
     "locked": true,
     "solution": false
    }
   },
   "source": [
    "b) (1 Punkt) Schreiben Sie eine Funktion namens ```reverse```, welche einen ```string```-Parameter übergeben bekommt und die Zeichenfolge in umgekehrter Reihenfolge zurückgibt."
   ]
  },
  {
   "cell_type": "code",
   "execution_count": null,
   "metadata": {
    "collapsed": true,
    "nbgrader": {
     "grade": false,
     "grade_id": "11",
     "locked": false,
     "solution": true
    }
   },
   "outputs": [],
   "source": []
  },
  {
   "cell_type": "code",
   "execution_count": null,
   "metadata": {
    "collapsed": true,
    "nbgrader": {
     "grade": true,
     "grade_id": "12",
     "locked": true,
     "points": 1,
     "solution": false
    }
   },
   "outputs": [],
   "source": []
  },
  {
   "cell_type": "markdown",
   "metadata": {
    "nbgrader": {
     "grade": false,
     "grade_id": "13",
     "locked": true,
     "solution": false
    }
   },
   "source": [
    "c) (1 Punkt) Schreiben Sie eine Funktion namens ```concat```, welche zwei ```string```-Parameter übergeben bekommt und die Verkettung dieser beiden Strings zurückgibt."
   ]
  },
  {
   "cell_type": "code",
   "execution_count": null,
   "metadata": {
    "collapsed": true,
    "nbgrader": {
     "grade": false,
     "grade_id": "14",
     "locked": false,
     "solution": true
    }
   },
   "outputs": [],
   "source": []
  },
  {
   "cell_type": "code",
   "execution_count": null,
   "metadata": {
    "collapsed": true,
    "nbgrader": {
     "grade": true,
     "grade_id": "15",
     "locked": true,
     "points": 1,
     "solution": false
    }
   },
   "outputs": [],
   "source": []
  },
  {
   "cell_type": "markdown",
   "metadata": {
    "nbgrader": {
     "grade": false,
     "grade_id": "16",
     "locked": true,
     "solution": false
    }
   },
   "source": [
    "d) (1 Punkt) Schreiben Sie eine Funktion namens ```sumLength```, welche zwei ```string```-Parameter übergeben bekommt und die Gesamtanzahl der Zeichen in beiden Strings zurückgibt."
   ]
  },
  {
   "cell_type": "code",
   "execution_count": null,
   "metadata": {
    "collapsed": true,
    "nbgrader": {
     "grade": false,
     "grade_id": "17",
     "locked": false,
     "solution": true
    }
   },
   "outputs": [],
   "source": []
  },
  {
   "cell_type": "code",
   "execution_count": null,
   "metadata": {
    "collapsed": true,
    "nbgrader": {
     "grade": true,
     "grade_id": "18",
     "locked": true,
     "points": 1,
     "solution": false
    }
   },
   "outputs": [],
   "source": []
  },
  {
   "cell_type": "markdown",
   "metadata": {
    "nbgrader": {
     "grade": false,
     "grade_id": "19",
     "locked": true,
     "solution": false
    }
   },
   "source": [
    "e) (1 Punkt) Wie würden Sie den Inhalt eines ```string``` verändern? Nennen Sie mindestens zwei verschiedene Möglichkeiten und erklären Sie, warum diese funktionieren."
   ]
  },
  {
   "cell_type": "code",
   "execution_count": null,
   "metadata": {
    "collapsed": true,
    "nbgrader": {
     "grade": true,
     "grade_id": "20",
     "locked": false,
     "points": 1,
     "solution": true
    }
   },
   "outputs": [],
   "source": []
  },
  {
   "cell_type": "markdown",
   "metadata": {
    "nbgrader": {
     "grade": false,
     "grade_id": "21",
     "locked": true,
     "solution": false
    }
   },
   "source": [
    "## Aufgabe 2: Tuples\n",
    "\n",
    "Schreiben Sie eine Funktion, die \n",
    "\n",
    "a) (1 Punkt) zwei Eingabeparameter enthält und diese zusammen als ```tuple``` zurückgibt."
   ]
  },
  {
   "cell_type": "code",
   "execution_count": null,
   "metadata": {
    "collapsed": true,
    "nbgrader": {
     "grade": false,
     "grade_id": "22",
     "locked": false,
     "solution": true
    }
   },
   "outputs": [],
   "source": []
  },
  {
   "cell_type": "code",
   "execution_count": null,
   "metadata": {
    "collapsed": true,
    "nbgrader": {
     "grade": true,
     "grade_id": "23",
     "locked": true,
     "points": 1,
     "solution": false
    }
   },
   "outputs": [],
   "source": []
  },
  {
   "cell_type": "markdown",
   "metadata": {
    "nbgrader": {
     "grade": false,
     "grade_id": "24",
     "locked": true,
     "solution": false
    }
   },
   "source": [
    "b) (1 Punkt) einen als Parameter übergebenen Wert in einem ebenfalls als Parameter übergebenen Tuple einfügt. \n",
    "\n",
    "Hinweis: Nutzen Sie dazu Listen als Zwischenschritt."
   ]
  },
  {
   "cell_type": "code",
   "execution_count": null,
   "metadata": {
    "collapsed": true,
    "nbgrader": {
     "grade": false,
     "grade_id": "25",
     "locked": false,
     "solution": true
    }
   },
   "outputs": [],
   "source": []
  },
  {
   "cell_type": "code",
   "execution_count": null,
   "metadata": {
    "collapsed": true,
    "nbgrader": {
     "grade": true,
     "grade_id": "26",
     "locked": true,
     "points": 1,
     "solution": false
    }
   },
   "outputs": [],
   "source": []
  },
  {
   "cell_type": "markdown",
   "metadata": {
    "nbgrader": {
     "grade": false,
     "grade_id": "27",
     "locked": true,
     "solution": false
    }
   },
   "source": [
    "c) (1 Punkt) ein Tuple als Parameter übergeben bekommt und dessen zweites und vorletztes Element zusammen als Tuple zurückgibt."
   ]
  },
  {
   "cell_type": "code",
   "execution_count": null,
   "metadata": {
    "collapsed": true,
    "nbgrader": {
     "grade": false,
     "grade_id": "28",
     "locked": false,
     "solution": true
    }
   },
   "outputs": [],
   "source": []
  },
  {
   "cell_type": "code",
   "execution_count": null,
   "metadata": {
    "collapsed": true,
    "nbgrader": {
     "grade": true,
     "grade_id": "29",
     "locked": true,
     "points": 1,
     "solution": false
    }
   },
   "outputs": [],
   "source": []
  },
  {
   "cell_type": "markdown",
   "metadata": {
    "nbgrader": {
     "grade": false,
     "grade_id": "30",
     "locked": true,
     "solution": false
    }
   },
   "source": [
    "## Aufgabe 3: Listen und Mengen\n",
    "\n",
    "Schreiben Sie eine Funktion, die\n",
    "\n",
    "a) (1 Punkt) eine Liste übergeben bekommt und die einmalige Werten zurückgibt. \n",
    "\n",
    "Hinweis: Nutzen Sie ```set()```."
   ]
  },
  {
   "cell_type": "code",
   "execution_count": 1,
   "metadata": {
    "collapsed": true,
    "nbgrader": {
     "grade": false,
     "grade_id": "31",
     "locked": false,
     "solution": true
    }
   },
   "outputs": [],
   "source": [
    "# (ML: my_set = set(my_list) my_new "
   ]
  },
  {
   "cell_type": "code",
   "execution_count": null,
   "metadata": {
    "collapsed": true,
    "nbgrader": {
     "grade": true,
     "grade_id": "32",
     "locked": true,
     "points": 1,
     "solution": false
    }
   },
   "outputs": [],
   "source": []
  },
  {
   "cell_type": "markdown",
   "metadata": {
    "nbgrader": {
     "grade": false,
     "grade_id": "33",
     "locked": true,
     "solution": false
    }
   },
   "source": [
    "b) (1 Punkt) zwei Listen übergeben bekommt und deren Mengendifferenz zurückgibt. \n",
    "\n",
    "Hinweis: Nutzen Sie ```set()```. "
   ]
  },
  {
   "cell_type": "code",
   "execution_count": 2,
   "metadata": {
    "collapsed": true,
    "nbgrader": {
     "grade": false,
     "grade_id": "34",
     "locked": false,
     "solution": true
    }
   },
   "outputs": [],
   "source": [
    "# (ML: list(set(list1) - set(list2)))"
   ]
  },
  {
   "cell_type": "code",
   "execution_count": null,
   "metadata": {
    "collapsed": true,
    "nbgrader": {
     "grade": true,
     "grade_id": "35",
     "locked": true,
     "points": 1,
     "solution": false
    }
   },
   "outputs": [],
   "source": []
  },
  {
   "cell_type": "markdown",
   "metadata": {
    "nbgrader": {
     "grade": false,
     "grade_id": "36",
     "locked": true,
     "solution": false
    }
   },
   "source": [
    "c) (1 Punkt) eine Liste übergeben bekommt und diese als ```string``` zurückgibt (die Elemente sollen dabei jeweils durch ein Leerzeichen getrennt sein)."
   ]
  },
  {
   "cell_type": "code",
   "execution_count": 3,
   "metadata": {
    "collapsed": true,
    "nbgrader": {
     "grade": false,
     "grade_id": "37",
     "locked": false,
     "solution": true
    }
   },
   "outputs": [],
   "source": [
    "# (ML: str1 = ''.join(s))"
   ]
  },
  {
   "cell_type": "code",
   "execution_count": null,
   "metadata": {
    "collapsed": true,
    "nbgrader": {
     "grade": true,
     "grade_id": "38",
     "locked": true,
     "points": 1,
     "solution": false
    }
   },
   "outputs": [],
   "source": []
  },
  {
   "cell_type": "markdown",
   "metadata": {
    "nbgrader": {
     "grade": false,
     "grade_id": "39",
     "locked": true,
     "solution": false
    }
   },
   "source": [
    "d) (1 Punkt) zwei Listen übergeben bekommt und deren Konkatenation (Hintereinanderreihung) zurückgibt. "
   ]
  },
  {
   "cell_type": "code",
   "execution_count": 4,
   "metadata": {
    "collapsed": true,
    "nbgrader": {
     "grade": false,
     "grade_id": "40",
     "locked": false,
     "solution": true
    }
   },
   "outputs": [],
   "source": [
    "#ML: (append)"
   ]
  },
  {
   "cell_type": "code",
   "execution_count": null,
   "metadata": {
    "collapsed": true,
    "nbgrader": {
     "grade": true,
     "grade_id": "41",
     "locked": true,
     "points": 1,
     "solution": false
    }
   },
   "outputs": [],
   "source": []
  },
  {
   "cell_type": "markdown",
   "metadata": {
    "nbgrader": {
     "grade": false,
     "grade_id": "42",
     "locked": true,
     "solution": false
    }
   },
   "source": [
    "e) (1 Punkt) eine Liste in eine ```string``` konvertiert"
   ]
  },
  {
   "cell_type": "code",
   "execution_count": null,
   "metadata": {
    "collapsed": true,
    "nbgrader": {
     "grade": false,
     "grade_id": "43",
     "locked": false,
     "solution": true
    }
   },
   "outputs": [],
   "source": []
  },
  {
   "cell_type": "code",
   "execution_count": null,
   "metadata": {
    "collapsed": true,
    "nbgrader": {
     "grade": true,
     "grade_id": "44",
     "locked": true,
     "points": 1,
     "solution": false
    }
   },
   "outputs": [],
   "source": []
  },
  {
   "cell_type": "markdown",
   "metadata": {
    "nbgrader": {
     "grade": false,
     "grade_id": "50",
     "locked": true,
     "solution": false
    }
   },
   "source": [
    "## Aufgabe 4: Dictionaries\n",
    "\n",
    "Schreiben Sie eine Funktion, die,\n",
    "\n",
    "a) (1 Punkt) neue Schlüssel (keys) in ein ```dict``` hinzufügt. "
   ]
  },
  {
   "cell_type": "code",
   "execution_count": 5,
   "metadata": {
    "collapsed": true,
    "nbgrader": {
     "grade": false,
     "grade_id": "51",
     "locked": false,
     "solution": true
    }
   },
   "outputs": [],
   "source": [
    "# (ML: d.update({ }))"
   ]
  },
  {
   "cell_type": "code",
   "execution_count": null,
   "metadata": {
    "collapsed": true,
    "nbgrader": {
     "grade": true,
     "grade_id": "52",
     "locked": true,
     "points": 1,
     "solution": false
    }
   },
   "outputs": [],
   "source": []
  },
  {
   "cell_type": "markdown",
   "metadata": {
    "nbgrader": {
     "grade": false,
     "grade_id": "53",
     "locked": true,
     "solution": false
    }
   },
   "source": [
    "c) zwei ```dict``` übergeben bekommt und diese zusammenfügt."
   ]
  },
  {
   "cell_type": "code",
   "execution_count": 6,
   "metadata": {
    "collapsed": true,
    "nbgrader": {
     "grade": false,
     "grade_id": "54",
     "locked": false,
     "solution": true
    }
   },
   "outputs": [],
   "source": [
    "# ML: d = d1.copy()  d.update(d2)  "
   ]
  },
  {
   "cell_type": "code",
   "execution_count": null,
   "metadata": {
    "collapsed": true,
    "nbgrader": {
     "grade": true,
     "grade_id": "55",
     "locked": true,
     "points": 1,
     "solution": false
    }
   },
   "outputs": [],
   "source": []
  },
  {
   "cell_type": "markdown",
   "metadata": {
    "nbgrader": {
     "grade": false,
     "grade_id": "56",
     "locked": true,
     "solution": false
    }
   },
   "source": [
    "d) zwei Listen in ein ```dict``` konvertiert. \n",
    "\n",
    "Hinweis: nutzen Sie ```zip()``` dazu."
   ]
  },
  {
   "cell_type": "code",
   "execution_count": null,
   "metadata": {
    "collapsed": true,
    "nbgrader": {
     "grade": false,
     "grade_id": "57",
     "locked": false,
     "solution": true
    }
   },
   "outputs": [],
   "source": []
  },
  {
   "cell_type": "code",
   "execution_count": null,
   "metadata": {
    "collapsed": true,
    "nbgrader": {
     "grade": true,
     "grade_id": "58",
     "locked": true,
     "points": 1,
     "solution": false
    }
   },
   "outputs": [],
   "source": []
  },
  {
   "cell_type": "markdown",
   "metadata": {
    "nbgrader": {
     "grade": false,
     "grade_id": "60",
     "locked": true,
     "solution": false
    }
   },
   "source": [
    "## Aufgabe 5: Funktionen\n",
    "\n",
    "a) (1 Punkt) Gegeben ist die folgende Funktion: \n",
    "\n",
    "```Python\n",
    "def f(a):\n",
    "    return a+3\n",
    "```\n",
    "\n",
    "Welche Werte werden bei folgendem Aufruf ausgegeben:\n",
    "\n",
    "```Python\n",
    "a=2\n",
    "print(f(a+3), f(f(a+3)))\n",
    "```"
   ]
  },
  {
   "cell_type": "code",
   "execution_count": null,
   "metadata": {
    "collapsed": true,
    "nbgrader": {
     "grade": true,
     "grade_id": "61",
     "locked": false,
     "points": 1,
     "solution": true
    }
   },
   "outputs": [],
   "source": []
  },
  {
   "cell_type": "markdown",
   "metadata": {
    "nbgrader": {
     "grade": false,
     "grade_id": "62",
     "locked": true,
     "solution": false
    }
   },
   "source": [
    "b)  Was ist der Rückgabewert des folgenden Funktionsaufrufs? Begründen Sie kurz.\n",
    "\n",
    "```Python\n",
    "def ausgabe(x):\n",
    "    print(x,2*x)\n",
    "    return 2*x\n",
    "    print(x, 3*x)\n",
    "    return 3*x\n",
    "```"
   ]
  },
  {
   "cell_type": "code",
   "execution_count": null,
   "metadata": {
    "collapsed": true,
    "nbgrader": {
     "grade": true,
     "grade_id": "63",
     "locked": false,
     "points": 1,
     "solution": true
    }
   },
   "outputs": [],
   "source": []
  },
  {
   "cell_type": "markdown",
   "metadata": {
    "nbgrader": {
     "grade": false,
     "grade_id": "64",
     "locked": true,
     "solution": false
    }
   },
   "source": [
    "c) Gegeben ist folgendes Programm. Welche Werte haben am Ende die in der drittletzten Zeile deklarierten Variablen $a,b,x,y$? Begründen Sie kurz.\n",
    "\n",
    "```Python\n",
    "def foo(x, y):\n",
    "    a = 24\n",
    "    x,y = y,x\n",
    "    b = 4\n",
    "    b = 16\n",
    "    c = 10\n",
    "    print(a,b,x,y)\n",
    "\n",
    "a,b,x,y = 1,15,3,4\n",
    "foo(17,4)\n",
    "print(a,b,x,y)\n",
    "```"
   ]
  },
  {
   "cell_type": "code",
   "execution_count": null,
   "metadata": {
    "collapsed": true,
    "nbgrader": {
     "grade": true,
     "grade_id": "65",
     "locked": false,
     "points": 1,
     "solution": true
    }
   },
   "outputs": [],
   "source": []
  },
  {
   "cell_type": "markdown",
   "metadata": {
    "nbgrader": {
     "grade": false,
     "grade_id": "66",
     "locked": true,
     "solution": false
    }
   },
   "source": [
    "d) Gegeben sind die folgenden beiden Funktionen:\n",
    "\n",
    "```Python\n",
    "def foo1(a):\n",
    "     print a + 1\n",
    "def foo2(a):\n",
    "     return a + 1\n",
    "```     \n",
    "Einer der beiden folgenden Aufrufe ist fehlerhaft. Finden Sie, welcher es ist und begründen Sie kurz.\n",
    "```Python\n",
    "foo1(3) + 1\n",
    "foo2(3) + 1\n",
    "```"
   ]
  },
  {
   "cell_type": "code",
   "execution_count": null,
   "metadata": {
    "collapsed": true,
    "nbgrader": {
     "grade": true,
     "grade_id": "67",
     "locked": false,
     "points": 1,
     "solution": true
    }
   },
   "outputs": [],
   "source": []
  }
 ],
 "metadata": {
  "anaconda-cloud": {},
  "celltoolbar": "Create Assignment",
  "kernelspec": {
   "display_name": "Python [default]",
   "language": "python",
   "name": "python3"
  },
  "language_info": {
   "codemirror_mode": {
    "name": "ipython",
    "version": 3
   },
   "file_extension": ".py",
   "mimetype": "text/x-python",
   "name": "python",
   "nbconvert_exporter": "python",
   "pygments_lexer": "ipython3",
   "version": "3.5.2"
  }
 },
 "nbformat": 4,
 "nbformat_minor": 1
}
