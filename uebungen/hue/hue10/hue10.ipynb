{
 "cells": [
  {
   "cell_type": "markdown",
   "metadata": {
    "nbgrader": {
     "grade": true,
     "grade_id": "matrikel",
     "locked": false,
     "points": 0,
     "solution": true
    },
    "slideshow": {
     "slide_type": "skip"
    }
   },
   "source": [
    "Bitte hier eintragen (s.u)!"
   ]
  },
  {
   "cell_type": "markdown",
   "metadata": {
    "nbgrader": {
     "grade": false,
     "grade_id": "matrikel_info",
     "locked": true,
     "solution": false
    },
    "slideshow": {
     "slide_type": "skip"
    }
   },
   "source": [
    "# Abgabehinweise \n",
    "\n",
    "Beachten Sie unbedingt diese Hinweise, sonst erhalten Sie keine Punkte aus dieser Abgabe! Für Details siehe z.B. [Folien der nullten Zentralübung](http://groups.uni-paderborn.de/fg-karl/lehre/ws1617/gp1/hue/gp1-zue0.pdf)\n",
    "\n",
    "## Namen und Matrikelnummern \n",
    "\n",
    "Tragen Sie Ihre Matrikelnummern und E-Mail-Adressen *zeilenweise* in die Zelle **oberhalb** dieser Zelle ein.\n",
    "Achten Sie dabei streng auf die Formatierung, denn die Auswertung erfolgt automatisch. \n",
    "Benutzen Sie *keine* Leerzeilen.\n",
    "Zwischen Matrikelnummer und E-Mail-Adresse *muss genau ein* Leerzeichen stehen; sonst keine Leerzeichen, Tabs, Spiegelstriche, oder ähnliches in einer Zeile. Wir empfehlen *dringend* die Benutzung der Uni-Paderborn E-Mail-Adressen! \n",
    "\n",
    "<!--- Wenn Sie diese Ansicht verwenden (was Sie nicht tun sollten; klicken Sie am besten einmal auf \"Run cell\"), dann steht die Formatierung hier richtig:\n",
    "\n",
    "Format:\n",
    "\n",
    "MatrikelNummer E-Mail-Adresse\n",
    "MatrikelNummer2 E-Mail-Adresse2\n",
    "\n",
    "z.B.:\n",
    "\n",
    "123456 testStudent@mail.upb.de\n",
    "234567 testStudent2@mail.upb.de\n",
    "345678 vorname.nachname@mail.upb.de\n",
    "\n",
    "... und nicht hier: -->\n",
    "\n",
    "Format:\n",
    "\n",
    "MatrikelNummer E-Mail-Adresse\n",
    "<br \\>\n",
    "MatrikelNummer2 E-Mail-Adresse2\n",
    "\n",
    "z.B.:\n",
    "\n",
    "123456 testStudent@mail.upb.de\n",
    "<br \\>\n",
    "234567 testStudent2@mail.upb.de\n",
    "<br \\>\n",
    "345678 vorname.nachname@mail.upb.de\n",
    "\n",
    "Hinweis: Wenn Sie das so in die obere Zelle eingeben, wird in der ausgeführten Markdownzelle (Strg+Enter) alles in einer Zeile angezeigt. Das ist egal; wichtig ist Formatierung der Eingabe.\n",
    "\n",
    "\n",
    "## Abgabe mit Gruppenaccount \n",
    "\n",
    "Die Abgabe muss mit Ihrem *Gruppenaccount* erfolgen (gp1\\_16\\_...), den Sie in der Präsenzübung erhalten haben! Abgaben, die über Ihren Einzelaccount erfolgen, werden ignoriert. \n",
    "\n",
    "## Abgabe: Submit \n",
    "\n",
    "Es reicht nicht, nur das Übungsblatt zu verändern. Sie müssen unter *Assignments* auf *Submit* clicken (oder entsprechend über die Kommandozeile), für das entsprechende Übungsblatt! (Wenn Sie Blatt 10 abgeben wolllen hilft es nicht, bei Blatt 1 auf Submit zu drücken!) Für Details siehe Beschreibung Abgabeprozess. \n",
    "\n",
    "## Dateinamen\n",
    "\n",
    "Geben Sie Ihre Lösung in der vom Server erhaltenen Datei hue10.ipynb ab (nicht umbenennen, keine Kopie erstellen, keine anderen Dateien in das Verzeichnis legen). Sonst kann eine Bewertung nicht stattfinden.\n",
    "\n",
    "## Struktur des Notebooks \n",
    "\n",
    "Fügen Sie keine Zellen hinzu und löschen Sie keine Zellen.\n",
    "Ändern Sie nicht den Typ einer Zelle.\n",
    "Geben Sie Lösungen nur in den Lösungszellen ab. Änderungen in den anderen Zellen werden nach Abgabe automatisch rückgängig gemacht.\n",
    "\n",
    "## Code-Zellen \n",
    "\n",
    "Entfernen Sie die Zeilen mit Inhalt \"raise NotImplementedError()\" aus den Zellen, in die Sie Ihre Lösungen schreiben. *Ersetzen* Sie diese Zeilen durch Ihre eigene Lösungen. \n",
    "\n",
    "## Nie ```input```\n",
    "\n",
    "Benutzen Sie *niemals* die Funktion `input()`. Das verhindert die automatische Auswertung Ihrer Abgabe und führt zu 0 Punkten für das gesamte Blatt! \n",
    "\n",
    "## Kommentare \n",
    "\n",
    "Kommentieren Sie Code-Abgaben! Insbesondere *muss* jede Funktion (Klasse, Methode, ...) einen sinnvollen ```docstring``` haben! Bei fehlendem docstring werden automatisch Punkte abgezogen! \n",
    "\n",
    "\n",
    "# Abgabetermin: 22.01.2017 um 23:59 Uhr"
   ]
  },
  {
   "cell_type": "markdown",
   "metadata": {
    "nbgrader": {
     "grade": false,
     "grade_id": "a1",
     "locked": true,
     "solution": false
    }
   },
   "source": [
    "# Aufgabe 1:"
   ]
  },
  {
   "cell_type": "markdown",
   "metadata": {
    "nbgrader": {
     "grade": false,
     "grade_id": "a1a",
     "locked": true,
     "solution": false
    }
   },
   "source": [
    "## a)\n",
    "Betrachten Sie die folgenden beiden Codevarianten in Python:\n",
    "```Python \n",
    "#Variante A:\n",
    "for i in [x*2 for x in range(1000000)]:\n",
    "    if i == 2:\n",
    "        break\n",
    "    \n",
    "#Variante B:\n",
    "for i in (x*2 for x in range(1000000)):\n",
    "    if i == 2:\n",
    "        break\n",
    "\n",
    "```\n",
    "Erläutern Sie den Unterschied zwischen den beiden Varianten unter Verwendung der richtigen Fachbegriffe."
   ]
  },
  {
   "cell_type": "markdown",
   "metadata": {
    "nbgrader": {
     "grade": true,
     "grade_id": "a1-sol",
     "locked": false,
     "points": 2,
     "solution": true
    }
   },
   "source": [
    "Bei Variante A handelt es sich um eine List Comprehension, bei welcher zunächst die gesamte Liste (mit Elementen von 0 bis 9999...) erzeugt und anschließend darüber iteriert wird.\n",
    "\n",
    "Bei Variante B handelt es sich um eine Generator Expression, bei welcher nicht im Vorhinein eine ganze Liste erzeugt wird, sondern es wird bei jeder Iteration das aktuelle Element erzeugt.\n",
    "Da der Abbruch der Schleife sehr früh stattfindet, ist diese Variante deutlich schneller (die Zeit und der Speicherbedarf für das Erstellen der gesamten Liste wird gespart)."
   ]
  },
  {
   "cell_type": "markdown",
   "metadata": {
    "nbgrader": {
     "grade": false,
     "grade_id": "a1c",
     "locked": true,
     "solution": false
    }
   },
   "source": [
    "## b)\n",
    "In welchen Fällen würden Sie auf jeden Fall ```(x for ...)``` anstelle von ```[x for ...]``` verwenden **müssen**?"
   ]
  },
  {
   "cell_type": "markdown",
   "metadata": {
    "nbgrader": {
     "grade": true,
     "grade_id": "a1c-sol",
     "locked": false,
     "points": 1,
     "solution": true
    }
   },
   "source": [
    "Wenn die Anzahl der Elemente, die mit diesen Ausdrücken erzeugt wird, zu groß für den Speicher ist (z. B. unendlich), müsste man die Generator Expression verwenden."
   ]
  },
  {
   "cell_type": "markdown",
   "metadata": {
    "nbgrader": {
     "grade": false,
     "grade_id": "a2",
     "locked": true,
     "solution": false
    }
   },
   "source": [
    "# Aufgabe 2:"
   ]
  },
  {
   "cell_type": "markdown",
   "metadata": {
    "nbgrader": {
     "grade": false,
     "grade_id": "a2c",
     "locked": true,
     "solution": false
    }
   },
   "source": [
    "## a)\n",
    "\n",
    "Schreiben Sie eine Funktion namens ```transform_dict(d1, d2)```, welches bei Eingabe zweier `dict`s `d1` und `d2` ein neues `dict` zurückgibt, dessen Schlüssel dieselben sind wie die Schlüssel von `d1`, dessen Werte jedoch ersetzt sind durch die Werte, welche in d2 unter dem Schlüssel des bisherigen Wertes gespeichert sind.\n",
    "\n",
    "Seien z. B. die folgenden beiden `dict`s gegeben:\n",
    "```Python\n",
    "matrikelnummer_zu_note = { 35135135: 5, 60103513: 3, 10981179: 2, 18637724 : 4 }\n",
    "note_zahl_zu_string = { 1: \"summa cum laude\", 2: \"magna cum laude\", 3: \"cum laude\", 4: \"rite\", 5: \"non probatum\" }\n",
    "```\n",
    "Dann soll ein Aufruf von ```transform_dict(matrikelnummer_zu_note, note_zahl_zu_string)``` folgendes `dict` zurückgeben:\n",
    "```Python\n",
    "{60103513: 'cum laude', 10981179: 'magna cum laude', 18637724: 'rite', 35135135: 'non probatum'}\n",
    "```\n",
    "\n",
    "Verwenden Sie hierzu *unbedingt* die Funktion ```map()``` in Kombination mit einem Lambda-Ausdruck."
   ]
  },
  {
   "cell_type": "code",
   "execution_count": null,
   "metadata": {
    "collapsed": false,
    "nbgrader": {
     "grade": false,
     "grade_id": "a2c-sol",
     "locked": false,
     "solution": true
    }
   },
   "outputs": [],
   "source": [
    "def transform_dict(d1, d2):\n",
    "    ### BEGIN SOLUTION    \n",
    "    \"\"\"Gibt bei Eingabe zweier dicts d1 und d2 ein neues dict zurück,\n",
    "    dessen Schlüssel dieselben sind wie die Schlüssel von d1, \n",
    "    dessen Werte jedoch ersetzt sind durch die Werte, \n",
    "    welche in d2 unter dem Schlüssel des bisherigen Wertes gespeichert sind.\n",
    "    \n",
    "    Args:\n",
    "        d1: Das erste dict, dessen Schlüssel den Schlüsseln des zurückgegebenen dicts entsprechen (dict)\n",
    "        d2: Das zweite dict, dessen Werte in das zurückgegebene dict eingefügt werden (dict)\n",
    "        \n",
    "    Returns:\n",
    "        dict: Das Ziel-dict, wie oben definiert\n",
    "    \"\"\"\n",
    "    return dict(map(lambda k: (k, d2[d1[k]]), d1))\n",
    "    ### END SOLUTION"
   ]
  },
  {
   "cell_type": "code",
   "execution_count": null,
   "metadata": {
    "collapsed": false,
    "nbgrader": {
     "grade": true,
     "grade_id": "a2c-test",
     "locked": true,
     "points": 2,
     "solution": false
    }
   },
   "outputs": [],
   "source": [
    "matrikelnummer_zu_note = {35135135: 5, 60103513: 3, 10981179: 2, 18637724 : 4}\n",
    "note_zahl_zu_string = {1: \"summa cum laude\", 2: \"magna cum laude\", 3: \"cum laude\", 4: \"rite\", 5: \"non probatum\"}\n",
    "\n",
    "assert transform_dict(matrikelnummer_zu_note, note_zahl_zu_string) == {60103513: 'cum laude', 10981179: 'magna cum laude', 18637724: 'rite', 35135135: 'non probatum'}\n",
    "\n",
    "\n",
    "d1 = {\"a\": \"b\", 5: 2, True: False}\n",
    "d2 = {\"o\": \"a\", 10: 5, \"b\" : True}\n",
    "\n",
    "assert transform_dict(d2, d1) == {'o': 'b', 10: 2, 'b': False}\n",
    "\n",
    "### HIDESTART\n",
    "import builtins\n",
    "\n",
    "class MyException(Exception):\n",
    "    pass\n",
    "\n",
    "def map(*args, **kwargs):\n",
    "    raise MyException()\n",
    "        \n",
    "try:\n",
    "    transform_dict(matrikelnummer_zu_note, note_zahl_zu_string)\n",
    "except MyException:\n",
    "    used_map = True\n",
    "else:\n",
    "    used_map = False\n",
    "finally:\n",
    "    map = builtins.map\n",
    "    assert used_map\n",
    "### HIDEEND"
   ]
  },
  {
   "cell_type": "markdown",
   "metadata": {
    "nbgrader": {
     "grade": false,
     "grade_id": "a2d",
     "locked": true,
     "solution": false
    }
   },
   "source": [
    "## b)\n",
    "\n",
    "Schreiben Sie eine Funktion ```kleiner_gleich(d, wert)```, die bei Übergabe eines dicts `d` und einer Zahl `wert` ein ```filter```-Objekt zurückgibt, welches ein Iterator auf die Schlüssel aus `d` ist, deren Werte kleiner oder gleich ```wert``` sind.\n",
    "\n",
    "Beispielsweise soll ```kleiner_gleich(matrikelnummer_zu_note, 3)``` (mit `dict` ```matrikelnummer_zu_note``` aus der letzten Aufgabe) ein ```filter```-Objekt zurückgeben, welches die Werte `60103513` und `10981179` liefert.\n",
    "\n",
    "Verwenden Sie hierzu *unbedingt* die Funktion ```filter()``` in Kombination mit einem Lambda-Ausdruck.\n",
    "\n",
    "_Tipp:_ Lesen Sie dazu noch einmal die Python-Dokumentation nach. Die Methode ```filter()``` gibt ein Objekt vom Typ ```filter``` zurück."
   ]
  },
  {
   "cell_type": "code",
   "execution_count": null,
   "metadata": {
    "collapsed": false,
    "nbgrader": {
     "grade": false,
     "grade_id": "a2d-sol",
     "locked": false,
     "points": 1,
     "solution": true
    }
   },
   "outputs": [],
   "source": [
    "def kleiner_gleich(d, wert):\n",
    "    ### BEGIN SOLUTION    \n",
    "    \"\"\"Gibt für ein übergebenes dict d und einer übergebenen Zahl wert alle Schlüssel von d zurück,\n",
    "    deren Wert kleiner oder gleich wert sind.\n",
    "    \n",
    "    Args:\n",
    "        dict: Das dictionary (dict)\n",
    "        wert: Der Wert mit dem verglichen wird (zahl)\n",
    "    \n",
    "    Returns:\n",
    "        filter-Objekt mit den gewünschten Schlüsseln\n",
    "    \"\"\"\n",
    "    return filter(lambda k: d[k] <= wert, d)\n",
    "    ### END SOLUTION"
   ]
  },
  {
   "cell_type": "code",
   "execution_count": null,
   "metadata": {
    "collapsed": false,
    "nbgrader": {
     "grade": true,
     "grade_id": "a2d-test",
     "locked": true,
     "points": 2,
     "solution": false
    }
   },
   "outputs": [],
   "source": [
    "matrikelnummer_zu_note = {35135135: 5, 60103513: 3, 10981179: 2, 18637724 : 4}\n",
    "mindestens_befriedigend = kleiner_gleich(matrikelnummer_zu_note, 3)\n",
    "assert type(mindestens_befriedigend) == filter\n",
    "s = {10981179, 60103513}\n",
    "mb = set(mindestens_befriedigend)\n",
    "assert s == mb\n",
    "\n",
    "d1 = {\"a\": 15, \"c\": 29, True: 13, 15 : 12}\n",
    "res = set(kleiner_gleich(d1, 25))\n",
    "assert set(res) == {True, 'a', 15}\n",
    "\n",
    "\n",
    "### HIDESTART\n",
    "import builtins\n",
    "\n",
    "class MyException(Exception):\n",
    "    pass\n",
    "\n",
    "\n",
    "def filter(*args, **kwargs):\n",
    "    raise MyException()\n",
    "       \n",
    "try:\n",
    "    kleiner_gleich(matrikelnummer_zu_note, 3)\n",
    "except MyException:\n",
    "    used_filter = True\n",
    "else:\n",
    "    used_filter = False\n",
    "finally:\n",
    "    filter = builtins.filter\n",
    "    assert used_filter\n",
    "### HIDEEND"
   ]
  },
  {
   "cell_type": "markdown",
   "metadata": {
    "nbgrader": {
     "grade": false,
     "grade_id": "a2e",
     "locked": true,
     "solution": false
    }
   },
   "source": [
    "## c)\n",
    "Schreiben Sie eine Funktion ```kleiner_gleich_gen```, welche dasselbe leistet wie die Funktion aus Teilaufgabe b), jedoch nicht die Funktion ```filter()```, sondern die ```(x for ...)```-Syntax (s. Aufgabe 1) verwendet und anstelle eines ```filter```-Objekts einen ```generator``` zurückgibt."
   ]
  },
  {
   "cell_type": "code",
   "execution_count": null,
   "metadata": {
    "collapsed": false,
    "nbgrader": {
     "grade": false,
     "grade_id": "a2e-sol",
     "locked": false,
     "points": 1,
     "solution": true
    }
   },
   "outputs": [],
   "source": [
    "def kleiner_gleich_gen(d, wert):\n",
    "    ### BEGIN SOLUTION\n",
    "    \"\"\"Gibt für ein übergebenes dict d und einer übergebenen Zahl wert alle Schlüssel von d zurück,\n",
    "    deren Wert kleiner oder gleich wert sind.\n",
    "    \n",
    "    Args:\n",
    "        dict: Das dictionary (dict)\n",
    "        wert: der Wert mit dem verglichen wird (zahl)\n",
    "    \n",
    "    Returns:\n",
    "        generator-Objekt mit den gewünschten Schlüsseln\n",
    "    \"\"\"    \n",
    "    return (k for (k,v) in d.items() if v <= wert)\n",
    "    ### END SOLUTION"
   ]
  },
  {
   "cell_type": "code",
   "execution_count": null,
   "metadata": {
    "collapsed": false,
    "nbgrader": {
     "grade": true,
     "grade_id": "a2e-test",
     "locked": true,
     "points": 1,
     "solution": false
    }
   },
   "outputs": [],
   "source": [
    "import types\n",
    "\n",
    "del filter # damit Lösungen, die filter() benutzen, nicht funktionieren\n",
    "\n",
    "matrikelnummer_zu_note = { 35135135: 5, 60103513: 3, 10981179: 2, 18637724 : 4 }\n",
    "mindestens_befriedigend_gen = kleiner_gleich_gen(matrikelnummer_zu_note, 3)\n",
    "\n",
    "assert isinstance(mindestens_befriedigend_gen, types.GeneratorType)\n",
    "\n",
    "s = {10981179, 60103513}\n",
    "mbg = set(mindestens_befriedigend_gen)\n",
    "assert s == mbg\n",
    "\n",
    "\n",
    "d1 = {\"a\": 15, \"c\": 29, True: 13, 15 : 12}\n",
    "res = set(kleiner_gleich_gen(d1, 25))\n",
    "assert set(res) == {True, 'a', 15}"
   ]
  },
  {
   "cell_type": "markdown",
   "metadata": {
    "nbgrader": {
     "grade": false,
     "grade_id": "a2x",
     "locked": true,
     "solution": false
    }
   },
   "source": [
    "## d)\n",
    "Gegeben sei eine Liste von Listen von Zahlen, z. B. so:\n",
    "```Python\n",
    "L = [[1, 2, 3], [11, 13], [9, 9, 0], [13, 0, 15, 16]]\n",
    "```\n",
    "\n",
    "Schreiben Sie eine Funktion namens ```no_zeros(lst)```, welche für eine derartige übergebene Liste ```lst``` eine neue Liste von Listen von Zahlen zurückgibt, welche der übergebenen Liste gleicht mit dem Unterschied, dass alle Nullen herausgefiltert (also entfernt) wurden.\n",
    "Verwenden Sie hierzu *unbedingt* `map()` und `filter()`.\n",
    "\n",
    "Im Beispiel hieße das, dass der Aufruf ```no_zeros(L)``` die Liste ```[[1, 2, 3], [11, 13], [9, 9], [13, 15, 16]]``` zurückgeben würde.\n",
    "\n",
    "Hinweis: Sie brauchen nicht zu überprüfen, ob eine Liste im richtigen Format übergeben wurde. Beachten Sie aber, dass sowohl die äußere als auch jede der inneren Listen leer sein können.\n",
    "\n",
    "*Tipp*: Die Aufgabe lässt sich mit einem einzigen Ausdruck erledigen, der ```map``` und ```filter``` mit geeigneten ```lambda```-Ausdrücken nutzt. "
   ]
  },
  {
   "cell_type": "code",
   "execution_count": 1,
   "metadata": {
    "collapsed": true,
    "nbgrader": {
     "grade": false,
     "grade_id": "a2x-sol",
     "locked": false,
     "solution": true
    }
   },
   "outputs": [],
   "source": [
    "def no_zeros(lst):\n",
    "    ### BEGIN SOLUTION\n",
    "    \"\"\" Erzeugt für eine übergebene Liste von Listen eine neue Liste, die der übergebenen gleicht, \n",
    "    mit dem Unterschied, dass alle Nullen daraus entfernt wurden.\n",
    "    \n",
    "    Args:\n",
    "        lst: Eine Liste von Listen (list)\n",
    "        \n",
    "    Returns:\n",
    "        Eine neue Liste (innere Listen von lst um Nullen bereinigt)\n",
    "    \n",
    "    \"\"\"\n",
    "    return list(map (lambda d: list(filter(lambda x: x != 0, d)), lst))\n",
    "    ### END SOLUTION"
   ]
  },
  {
   "cell_type": "code",
   "execution_count": 2,
   "metadata": {
    "collapsed": false,
    "nbgrader": {
     "grade": true,
     "grade_id": "a2x-test",
     "locked": true,
     "points": 2,
     "solution": false
    }
   },
   "outputs": [],
   "source": [
    "L1 = [[1, 2, 3], [11, 13], [9, 9, 0], [13, 0, 15, 16]]\n",
    "assert no_zeros(L1) == [[1, 2, 3], [11, 13], [9, 9], [13, 15, 16]] \n",
    "\n",
    "L2 = [[], [0, 0], [9, 9, 0], [13, 0, 15, 16]]\n",
    "assert no_zeros(L2) == [[], [], [9, 9], [13, 15, 16]] \n",
    "\n",
    "### HIDESTART\n",
    "import builtins\n",
    "\n",
    "class MyException(Exception):\n",
    "    pass\n",
    "\n",
    "def map(*args, **kwargs):\n",
    "    raise MyException()\n",
    "      \n",
    "try:\n",
    "    no_zeros(L1)\n",
    "except MyException:\n",
    "    used_map = True\n",
    "else:\n",
    "    used_map = False\n",
    "finally:\n",
    "    map = builtins.map\n",
    "    assert used_map\n",
    "\n",
    "    \n",
    "def filter(*args, **kwargs):\n",
    "    raise MyException()\n",
    "       \n",
    "try:\n",
    "    no_zeros(L1)\n",
    "except MyException:\n",
    "    used_filter = True\n",
    "else:\n",
    "    used_filter = False\n",
    "finally:\n",
    "    filter = builtins.filter\n",
    "    assert used_filter\n",
    "### HIDEEND"
   ]
  },
  {
   "cell_type": "markdown",
   "metadata": {
    "nbgrader": {
     "grade": false,
     "grade_id": "a3",
     "locked": true,
     "solution": false
    }
   },
   "source": [
    "# Aufgabe 3:"
   ]
  },
  {
   "cell_type": "markdown",
   "metadata": {
    "nbgrader": {
     "grade": false,
     "grade_id": "a3a",
     "locked": true,
     "solution": false
    }
   },
   "source": [
    "## a)\n",
    "Gegeben ist der folgende Python-Code:\n",
    "```python\n",
    "u = 1\n",
    "\n",
    "def method1(x):\n",
    "    def method2(n):\n",
    "        def method3(m):\n",
    "            return x + n + m\n",
    "        def method4():\n",
    "            global u\n",
    "            u += 1\n",
    "        method4()\n",
    "        return method3\n",
    "    def method5(y):\n",
    "        return x + y\n",
    "    return method2, method5            \n",
    "```\n",
    "Ersetzen Sie so viele ```def```-Anweisungen wie möglich durch entsprechende ```lambda```-Ausdrücke, ohne die Semantik zu verändern."
   ]
  },
  {
   "cell_type": "code",
   "execution_count": null,
   "metadata": {
    "collapsed": false,
    "nbgrader": {
     "grade": true,
     "grade_id": "a3a-ans",
     "locked": false,
     "points": 2,
     "solution": true
    }
   },
   "outputs": [],
   "source": [
    "### BEGIN SOLUTION\n",
    "u = 1\n",
    "\n",
    "def method1(x):\n",
    "    def method2(n):\n",
    "        def method4():\n",
    "            global u\n",
    "            u += 1\n",
    "        method4()\n",
    "        return lambda m : x + n + m\n",
    "\n",
    "    return method2, lambda y : x + y\n",
    "### END SOLUTION"
   ]
  },
  {
   "cell_type": "markdown",
   "metadata": {
    "nbgrader": {
     "grade": false,
     "grade_id": "a3b",
     "locked": true,
     "solution": false
    }
   },
   "source": [
    "## b)\n",
    "\n",
    "Schreiben Sie eine Funktion ```brief_generator(...)```, so dass folgender Code:\n",
    "```python\n",
    "brief_max = brief_generator(\"Dies ist der Kopfteil\", \"Dies ist der Fußteil\")(\"Max Mustermann\")\n",
    "brief1 = brief_max(\"Dies ist ein Betreff\", \"Dies ist ein Brieftext\")\n",
    "print(brief1)\n",
    "```\n",
    "folgendes ausgibt:\n",
    "\n",
    "```\n",
    "Dies ist der Kopfteil\n",
    "\n",
    "Max Mustermann\n",
    "\n",
    "Dies ist der Betreff\n",
    "\n",
    "Dies ist ein Brieftext\n",
    "\n",
    "Dies ist der Fußteil\n",
    "```\n",
    "\n",
    "Verwenden Sie hierzu Closures, aber noch keine Decorators.\n",
    "\n",
    "Sie müssen hier (ausnahmsweise) keine ```docstring```s ergänzen!"
   ]
  },
  {
   "cell_type": "code",
   "execution_count": null,
   "metadata": {
    "collapsed": true,
    "nbgrader": {
     "grade": false,
     "grade_id": "a3b-sol",
     "locked": false,
     "solution": true
    }
   },
   "outputs": [],
   "source": [
    "def brief_generator(kopfteil, fussteil):\n",
    "    ### BEGIN SOLUTION\n",
    "    \"\"\"Funktion, der man zwei Strings kopfteil und fussteil übergeben kann,\n",
    "    die an eine Funktion gebunden werden, welche zurückgegeben wird. \n",
    "    Diese Funktion erhält wiederum einen Parameter absender, welcher an einer Funktion\n",
    "    gebunden wird, welche diese Funktion zurückgibt.\n",
    "    Diese Funktion wiederum gibt kopfteil, absender, betreff, text und fussteil, jeweils\n",
    "    getrennt durch Leerzeilen, aus.\n",
    "    \n",
    "    Args:\n",
    "        kopfteil: eine Zeichenkette (str)\n",
    "        fussteil: eine Zeichenkette (str)\n",
    "        \n",
    "    Returns:\n",
    "        Funktion wie oben beschrieben (function)\n",
    "    \"\"\"\n",
    "    def _mit_name(absender):\n",
    "        def _mit_inhalt(betreff, text):\n",
    "            return kopfteil + \"\\n\\n\" + absender + \"\\n\\n\" + betreff + \"\\n\\n\" + text + \"\\n\\n\" + fussteil\n",
    "        return _mit_inhalt\n",
    "    return _mit_name\n",
    "    ### END SOLUTION"
   ]
  },
  {
   "cell_type": "code",
   "execution_count": null,
   "metadata": {
    "collapsed": false,
    "nbgrader": {
     "grade": true,
     "grade_id": "a3b-test",
     "locked": true,
     "points": 2,
     "solution": false
    }
   },
   "outputs": [],
   "source": [
    "brief_max = brief_generator(\"Dies ist der Kopfteil\", \"Dies ist der Fußteil\")(\"Max Mustermann\")\n",
    "brief1 = brief_max(\"Dies ist ein Betreff\", \"Dies ist ein Brieftext\")\n",
    "assert brief1 == \"Dies ist der Kopfteil\\n\\nMax Mustermann\\n\\nDies ist ein Betreff\\n\\nDies ist ein Brieftext\\n\\nDies ist der Fußteil\"\n",
    "\n",
    "### HIDESTART\n",
    "kopf_fuss = brief_generator(\"Kopf\", \"Fuss\")\n",
    "mit_name = kopf_fuss(\"Name\")\n",
    "brief2 = mit_name(\"Betreff\", \"Text\")\n",
    "assert brief2 == \"Kopf\\n\\nName\\n\\nBetreff\\n\\nText\\n\\nFuss\"\n",
    "### HIDEEND"
   ]
  },
  {
   "cell_type": "markdown",
   "metadata": {
    "nbgrader": {
     "grade": false,
     "grade_id": "a3c",
     "locked": true,
     "solution": false
    }
   },
   "source": [
    "## c)\n",
    "Betrachten Sie das Programm in der nachfolgenden Zelle und ergänzen Sie vor der Definition der Methode ```brief(...)``` Decorator-Annotationen, so dass die Variable ```brief``` am Ende den gleichen Inhalt hat wie in der vorhergehenden Aufgabe (bzw. die Tests funktionieren).\n",
    "\n",
    "Hinweis: Lesen Sie nach, wie man in Python Parameter an Dekoratoren übergeben kann und vollziehen Sie anhand dessen den bereits gegebenen Code-Teil nach. \n",
    "Das Verständnis dieses Teils wird Ihnen bei einer späteren Aufgabe von Nutzen sein.\n",
    "\n",
    "Auch bei dieser Aufgabe dürfen Sie (ausnahmsweise) auf das Angeben von ```docstring```s verzichten."
   ]
  },
  {
   "cell_type": "code",
   "execution_count": null,
   "metadata": {
    "collapsed": false,
    "nbgrader": {
     "grade": false,
     "grade_id": "a3c-sol",
     "locked": false,
     "solution": true
    }
   },
   "outputs": [],
   "source": [
    "def kopf_und_fuss(kopfteil, fussteil):\n",
    "    def kopf_und_fuss_decorator(func):\n",
    "        def inner(*args, **kwargs):\n",
    "            return kopfteil + \"\\n\\n\" + func(*args, **kwargs) + \"\\n\\n\" + fussteil\n",
    "        return inner\n",
    "    return kopf_und_fuss_decorator\n",
    "        \n",
    "def name_block(absender):\n",
    "    def name_block_decorator(func):\n",
    "        def inner(*args, **kwargs):\n",
    "            return absender + \"\\n\\n\" + func(*args, **kwargs)\n",
    "        return inner\n",
    "    return name_block_decorator\n",
    "        \n",
    "### BEGIN SOLUTION\n",
    "@kopf_und_fuss(\"Dies ist der Kopfteil\", \"Dies ist der Fußteil\")\n",
    "@name_block(\"Max Mustermann\")\n",
    "### END SOLUTION\n",
    "def brief(betreff, text):\n",
    "    return betreff + \"\\n\\n\" + text"
   ]
  },
  {
   "cell_type": "code",
   "execution_count": null,
   "metadata": {
    "collapsed": false,
    "nbgrader": {
     "grade": true,
     "grade_id": "a3c-test",
     "locked": true,
     "points": 1,
     "solution": false
    }
   },
   "outputs": [],
   "source": [
    "brief_string = brief(\"Dies ist ein Betreff\", \"Dies ist ein Brieftext\")\n",
    "assert brief_string == \"Dies ist der Kopfteil\\n\\nMax Mustermann\\n\\nDies ist ein Betreff\\n\\nDies ist ein Brieftext\\n\\nDies ist der Fußteil\"\n",
    "\n",
    "### HIDESTART\n",
    "brief_string2 = brief(\"Betreff\", \"Text\")\n",
    "assert brief_string2 == \"Dies ist der Kopfteil\\n\\nMax Mustermann\\n\\nBetreff\\n\\nText\\n\\nDies ist der Fußteil\"\n",
    "### HIDEEND"
   ]
  },
  {
   "cell_type": "markdown",
   "metadata": {
    "collapsed": true,
    "nbgrader": {
     "grade": false,
     "grade_id": "a4",
     "locked": true,
     "solution": false
    }
   },
   "source": [
    "# Aufgabe 4"
   ]
  },
  {
   "cell_type": "markdown",
   "metadata": {
    "nbgrader": {
     "grade": false,
     "grade_id": "a4a",
     "locked": true,
     "solution": false
    }
   },
   "source": [
    "## a)\n",
    "Betrachten Sie den Code in der folgenden Python-Zelle:"
   ]
  },
  {
   "cell_type": "code",
   "execution_count": null,
   "metadata": {
    "collapsed": false,
    "nbgrader": {
     "grade": false,
     "grade_id": "a4a-code",
     "locked": true,
     "solution": false
    }
   },
   "outputs": [],
   "source": [
    "import time \n",
    "import functools\n",
    "\n",
    "def benchmark(fct):\n",
    "    def _benchmark(*args, **kwargs):\n",
    "          tstart = time.time()\n",
    "          r = fct(*args, **kwargs)\n",
    "          tend = time.time()\n",
    "\n",
    "          print(\"{} ({}, {}) verbrauchte {} Millisekunden\".format(\n",
    "              fct.__name__, args, kwargs, (tend-tstart)*1000))\n",
    "\n",
    "          return r\n",
    "      \n",
    "    return _benchmark\n",
    "\n",
    "def _fib_old(num):\n",
    "    if num < 2:\n",
    "        return num\n",
    "    else:\n",
    "        return _fib_old(num-1) + _fib_old(num-2) \n",
    "\n",
    "@benchmark\n",
    "def fib_old(num):\n",
    "    return _fib_old(num)\n",
    "\n",
    "\n",
    "@functools.lru_cache(maxsize=100)\n",
    "def _fib_new(num):\n",
    "    if num < 2:\n",
    "        return num\n",
    "    else:\n",
    "        return _fib_new(num-1) + _fib_new(num-2) \n",
    "    \n",
    "@benchmark    \n",
    "def fib_new(num):\n",
    "    return _fib_new(num)\n",
    "\n",
    "fib1 = fib_old(32)\n",
    "fib2 = fib_new(32)"
   ]
  },
  {
   "cell_type": "markdown",
   "metadata": {
    "nbgrader": {
     "grade": false,
     "grade_id": "a4a2",
     "locked": true,
     "solution": false
    }
   },
   "source": [
    "Erklären Sie, wieso die Ausführung der letzten beiden Code-Zeilen zu unterschiedlichen Ausgaben führt.\n",
    "\n",
    "Schlagen Sie dazu in der Python-Referenz die Dokumentation von `functools.lru_cache` nach."
   ]
  },
  {
   "cell_type": "markdown",
   "metadata": {
    "nbgrader": {
     "grade": true,
     "grade_id": "a4a2-sol",
     "locked": false,
     "points": 1,
     "solution": true
    }
   },
   "source": [
    "Die Berechnung der Fibonacci-Zahlen findet hier rekursiv in den Funktionen `_fib_old` bzw. `_fib_new` statt. \n",
    "Bei der hier gewählten Implementierung werden üblicherweise Ergebnisse doppelt berechnet (so ruft `fib(10)` `fib(8)` und `fib(7)` auf und der Aufruf `fib(8)` ruft wiederum `fib(7)` auf.\n",
    "Die Funktion `fib_new` hat eine kürzere Laufzeit, da bei den rekursiven Aufrufen von `_fib_new` Ergebnisse, die bereits bei anderen Funktionsaufrufen berechnet wurden, aus einem Cache geholt werden, welchen der Dekorator `functools.lru_cache` verwaltet.\n",
    "Dieser Cache speichert für die Funktion für jeden Parameter, mit dem sie aufgerufen wurde, den Rückgabewert des Funktionsaufrufs.\n",
    "Die Größe dieses Caches wird durch den Dekorator-Parameter `maxsize` bestimmt (welcher hier mit 100 die Anzahl der verschiedenen Funktionsaufrufe deutlich übersteigt)."
   ]
  },
  {
   "cell_type": "markdown",
   "metadata": {
    "nbgrader": {
     "grade": false,
     "grade_id": "a4b",
     "locked": true,
     "solution": false
    }
   },
   "source": [
    "# b)\n",
    "\n",
    "In welchen Fällen ist eine Verwendung von functools.lru_cache (als Decorator) ratsam? Wann ist davon abzuraten?"
   ]
  },
  {
   "cell_type": "markdown",
   "metadata": {
    "nbgrader": {
     "grade": true,
     "grade_id": "a4b-sol",
     "locked": false,
     "points": 1,
     "solution": true
    }
   },
   "source": [
    "Ratsam ist die Verwendung des Dekorators, wenn die Funktion, die er dekoriert, mehrfach mit demselben Parameter aufgerufen wird. \n",
    "Allerdings ist von seiner Verwendung abzuraten, wenn die Funktion, die mit ihm dekoriert wird, Seiteneffekte hat (also z. B. eine `print`-Anweisung enthält oder globale Variablen verändert) und es somit nicht nur auf den Rückgabewert der Funktion ankommt."
   ]
  },
  {
   "cell_type": "markdown",
   "metadata": {
    "nbgrader": {
     "grade": false,
     "grade_id": "a4c",
     "locked": true,
     "solution": false
    }
   },
   "source": [
    "# c)\n",
    "Betrachten Sie den folgenden Python-Code und die entstehende Ausgabe, wenn Sie den Code ausführen:"
   ]
  },
  {
   "cell_type": "code",
   "execution_count": null,
   "metadata": {
    "collapsed": false,
    "nbgrader": {
     "grade": false,
     "grade_id": "a4c-code",
     "locked": true,
     "solution": false
    },
    "scrolled": true
   },
   "outputs": [],
   "source": [
    "import time \n",
    "import functools\n",
    "\n",
    "def benchmark(fct):\n",
    "    def _benchmark(*args, **kwargs):\n",
    "          tstart = time.time()\n",
    "          r = fct(*args, **kwargs)\n",
    "          tend = time.time()\n",
    "\n",
    "          print(\"{} ({}, {}) verbrauchte {} Millisekunden\".format(\n",
    "              fct.__name__, args, kwargs, (tend-tstart)*1000))\n",
    "\n",
    "          return r\n",
    "      \n",
    "    return _benchmark\n",
    "\n",
    "@benchmark\n",
    "def f1(num):\n",
    "    if num < 2:\n",
    "        return num\n",
    "    else:\n",
    "        return f1(num-1) + f1(num-2)\n",
    "\n",
    "\n",
    "\n",
    "@benchmark\n",
    "@functools.lru_cache(maxsize=100)\n",
    "def f2(num):\n",
    "    if num < 2:\n",
    "        return num\n",
    "    else:\n",
    "        return f2(num-1) + f2(num-2)\n",
    "    \n",
    "\n",
    "\n",
    "\n",
    "@functools.lru_cache(maxsize=100)\n",
    "@benchmark\n",
    "def f3(num):\n",
    "    if num < 2:\n",
    "        return num\n",
    "    else:\n",
    "        return f3(num-1) + f3(num-2)\n",
    "\n",
    "num = 13\n",
    "\n",
    "print(f1(num))\n",
    "print (\"------------\")\n",
    "print(f2(num))\n",
    "print (\"------------\")\n",
    "print(f3(num))"
   ]
  },
  {
   "cell_type": "markdown",
   "metadata": {
    "collapsed": true,
    "nbgrader": {
     "grade": false,
     "grade_id": "a4c2",
     "locked": true,
     "solution": false
    }
   },
   "source": [
    "Die Funktionen f1, f2 und f3 sind (bis auf ihre Dekoratoren) gleich.\n",
    "Erklären Sie, wie die unterschiedlichen Ausgaben bei den drei Funktionsaufrufen zustande kommen.\n",
    "\n",
    "Hinweis: Beziehen Sie sich hierbei bitte nicht auf die konkreten Zahlen, sondern auf die unterschiedliche Anzahl der Ausgaben."
   ]
  },
  {
   "cell_type": "markdown",
   "metadata": {
    "nbgrader": {
     "grade": true,
     "grade_id": "a4c-sol",
     "locked": false,
     "points": 2,
     "solution": true
    }
   },
   "source": [
    "Die rekursive Funktion `f1` wird lediglich mit dem Dekorator `benchmark` ausgestattet.\n",
    "Dadurch wird für jeden Aufruf dieser Funktion die Laufzeit dieses Aufrufs gemessen.\n",
    "Die Anzahl der Aufrufe ist hier am größten, da jeder der rekursiven Aufrufe wirklich ausgeführt wird (und somit Funktionswerte der Fibonacci-Funktion \"doppelt berechnet\" werden).\n",
    "\n",
    "Die rekursive Funktion `f2` wird mit den Dekoratoren `benchmark` und `functools.lru_cache` ausgestattet, wobei in jedem (rekursiven) Funktionsaufruf zuerst die dekorierende Funktion von `benchmark` zuerst ausgeführt wird und danach erst die von `functools.lru_cache`.\n",
    "Dies hat zur Folge, dass wegen der Aufrufe in der Zeile `return f1(num-1) + f1(num-2)` zwar die Benchmark-Ausgaben von beiden Funktionsaufrufen auf die Konsole geschrieben werden.\n",
    "Die aufgerufenen Funktionen werden aber nicht wirklich ausgeführt, sondern deren Ergebnis aus dem Cache geholt (sofern der Wert schon einmal berechnet wurde).\n",
    "Damit finden dann auch keine weiteren rekursiven Aufrufe aufgrund solcher bereits zuvor berechneten Ergebnisse statt.\n",
    "\n",
    "Bei `f3` schließlich ist das Verhalten zwar im Grunde so wie bei `f2`, aufgrund der geänderten Reihenfolge der Dekoratoren finden aber Ausgaben für Funktionsaufrufe, deren Ergebnisse ohnehin aus dem Cache geholt werden, nicht mehr statt.\n",
    "Daher gibt es hier nur eine Ausgabe pro zu berechnendem Funktionswert (welcher jeder der Funktionswerte von 0 bis 13 ist)."
   ]
  },
  {
   "cell_type": "code",
   "execution_count": null,
   "metadata": {
    "collapsed": false,
    "nbgrader": {
     "grade": true,
     "grade_id": "docstring-test",
     "locked": true,
     "points": 1,
     "solution": false
    }
   },
   "outputs": [],
   "source": [
    "# Diese Zelle bitte unverändert lassen!\n",
    "# Prüft, ob alle Dokumentationen vorhanden sind.\n",
    "\n",
    "l = []\n",
    "\n",
    "# Aufgabe 2:\n",
    "l.append((\"transform_dict\", \"{}, {}\"))\n",
    "l.append((\"kleiner_gleich\", \"{}, 0\"))\n",
    "l.append((\"kleiner_gleich_gen\", \"{}, 0\"))\n",
    "l.append((\"no_zeros\", \"[[]]\"))\n",
    "\n",
    "for f in l:\n",
    "    try:\n",
    "        func = eval(f[0])\n",
    "        eval(f[0] + \"(\" + f[1] + \")\")\n",
    "        # Schlägt der folgende Test fehl, wurde die Funktion zwar implementiert, hat aber keinen docstring.\n",
    "        assert(func.__doc__ != None)\n",
    "    except NotImplementedError:\n",
    "        print(\"Folgende Funktion wurde nicht implementiert (daher wird nicht geprüft, ob sie einen docstring hat):\", \"-->\", f[0])\n",
    "    except AssertionError:\n",
    "        print(\"Bei folgender Funktion fehlt der docstring: \", func.__doc__ != None, \"-->\", f[0])    \n",
    "        assert(False)"
   ]
  }
 ],
 "metadata": {
  "anaconda-cloud": {},
  "celltoolbar": "Create Assignment",
  "kernelspec": {
   "display_name": "Python [default]",
   "language": "python",
   "name": "python3"
  },
  "language_info": {
   "codemirror_mode": {
    "name": "ipython",
    "version": 3
   },
   "file_extension": ".py",
   "mimetype": "text/x-python",
   "name": "python",
   "nbconvert_exporter": "python",
   "pygments_lexer": "ipython3",
   "version": "3.5.2"
  }
 },
 "nbformat": 4,
 "nbformat_minor": 1
}
