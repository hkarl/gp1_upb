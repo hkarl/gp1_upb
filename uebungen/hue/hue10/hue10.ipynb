{
 "cells": [
  {
   "cell_type": "markdown",
   "metadata": {
    "nbgrader": {
     "grade": true,
     "grade_id": "matrikel",
     "locked": false,
     "points": 0,
     "solution": true
    },
    "slideshow": {
     "slide_type": "skip"
    }
   },
   "source": [
    "Bitte hier eintragen (s.u)!"
   ]
  },
  {
   "cell_type": "markdown",
   "metadata": {
    "nbgrader": {
     "grade": false,
     "grade_id": "matrikel_info",
     "locked": true,
     "solution": false
    },
    "slideshow": {
     "slide_type": "skip"
    }
   },
   "source": [
    "# Abgabehinweise \n",
    "\n",
    "Beachten Sie unbedingt diese Hinweise, sonst erhalten Sie keine Punkte aus dieser Abgabe! Für Details siehe z.B. [Folien der nullten Zentralübung](http://groups.uni-paderborn.de/fg-karl/lehre/ws1617/gp1/hue/gp1-zue0.pdf)\n",
    "\n",
    "## Namen und Matrikelnummern \n",
    "\n",
    "Tragen Sie Ihre Matrikelnummern und E-Mail-Adressen *zeilenweise* in die Zelle **oberhalb** dieser Zelle ein.\n",
    "Achten Sie dabei streng auf die Formatierung, denn die Auswertung erfolgt automatisch. \n",
    "Benutzen Sie *keine* Leerzeilen.\n",
    "Zwischen Matrikelnummer und E-Mail-Adresse *muss genau ein* Leerzeichen stehen; sonst keine Leerzeichen, Tabs, Spiegelstriche, oder ähnliches in einer Zeile. Wir empfehlen *dringend* die Benutzung der Uni-Paderborn E-Mail-Adressen! \n",
    "\n",
    "<!--- Wenn Sie diese Ansicht verwenden (was Sie nicht tun sollten; klicken Sie am besten einmal auf \"Run cell\"), dann steht die Formatierung hier richtig:\n",
    "\n",
    "Format:\n",
    "\n",
    "MatrikelNummer E-Mail-Adresse\n",
    "MatrikelNummer2 E-Mail-Adresse2\n",
    "\n",
    "z.B.:\n",
    "\n",
    "123456 testStudent@mail.upb.de\n",
    "234567 testStudent2@mail.upb.de\n",
    "345678 vorname.nachname@mail.upb.de\n",
    "\n",
    "... und nicht hier: -->\n",
    "\n",
    "Format:\n",
    "\n",
    "MatrikelNummer E-Mail-Adresse\n",
    "<br \\>\n",
    "MatrikelNummer2 E-Mail-Adresse2\n",
    "\n",
    "z.B.:\n",
    "\n",
    "123456 testStudent@mail.upb.de\n",
    "<br \\>\n",
    "234567 testStudent2@mail.upb.de\n",
    "<br \\>\n",
    "345678 vorname.nachname@mail.upb.de\n",
    "\n",
    "Hinweis: Wenn Sie das so in die obere Zelle eingeben, wird in der ausgeführten Markdownzelle (Strg+Enter) alles in einer Zeile angezeigt. Das ist egal; wichtig ist Formatierung der Eingabe.\n",
    "\n",
    "\n",
    "## Abgabe mit Gruppenaccount \n",
    "\n",
    "Die Abgabe muss mit Ihrem *Gruppenaccount* erfolgen (gp1\\_16\\_...), den Sie in der Präsenzübung erhalten haben! Abgaben, die über Ihren Einzelaccount erfolgen, werden ignoriert. \n",
    "\n",
    "## Abgabe: Submit \n",
    "\n",
    "Es reicht nicht, nur das Übungsblatt zu verändern. Sie müssen unter *Assignments* auf *Submit* clicken (oder entsprechend über die Kommandozeile), für das entsprechende Übungsblatt! (Wenn Sie Blatt 9 abgeben wolllen hilft es nicht, bei Blatt 1 auf Submit zu drücken!) Für Details siehe Beschreibung Abgabeprozess. \n",
    "\n",
    "## Dateinamen\n",
    "\n",
    "Geben Sie Ihre Lösung in der vom Server erhaltenen Datei hue09.ipynb ab (nicht umbenennen, keine Kopie erstellen, keine anderen Dateien in das Verzeichnis legen, auch nicht Dateiname hue9.ipynb !). Sonst kann eine Bewertung nicht stattfinden.\n",
    "\n",
    "## Struktur des Notebooks \n",
    "\n",
    "Fügen Sie keine Zellen hinzu und löschen Sie keine Zellen.\n",
    "Ändern Sie nicht den Typ einer Zelle.\n",
    "Geben Sie Lösungen nur in den Lösungszellen ab. Änderungen in den anderen Zellen werden nach Abgabe automatisch rückgängig gemacht.\n",
    "\n",
    "## Code-Zellen \n",
    "\n",
    "Entfernen Sie die Zeilen mit Inhalt \"raise NotImplementedError()\" aus den Zellen, in die Sie Ihre Lösungen schreiben. *Ersetzen* Sie diese Zeilen durch Ihre eigene Lösungen. \n",
    "\n",
    "## Nie ```input```\n",
    "\n",
    "Benutzen Sie *niemals* die Funktion `input()`. Das verhindert die automatische Auswertung Ihrer Abgabe und führt zu 0 Punkten für das gesamte Blatt! \n",
    "\n",
    "## Kommentare \n",
    "\n",
    "Kommentieren Sie Code-Abgaben! Insbesondere *muss* jede Funktion (Klasse, Methode, ...) einen ```docstring``` haben! Bei fehlendem docstring werden automatisch Punkte abgezogen! \n",
    "\n",
    "\n",
    "# Abgabetermin: 22.01.2017 um 23:59 Uhr"
   ]
  },
  {
   "cell_type": "markdown",
   "metadata": {
    "nbgrader": {
     "grade": false,
     "grade_id": "a1",
     "locked": true,
     "solution": false
    }
   },
   "source": [
    "# Aufgabe 1:"
   ]
  },
  {
   "cell_type": "markdown",
   "metadata": {
    "nbgrader": {
     "grade": false,
     "grade_id": "a1a",
     "locked": true,
     "solution": false
    }
   },
   "source": [
    "## a)\n",
    "Betrachten Sie die folgenden beiden Codevarianten in Python:\n",
    "```Python \n",
    "#Variante A:\n",
    "for i in [x for x in range(100)]:\n",
    "    print(i, end=', ')\n",
    "    \n",
    "#Variante B:\n",
    "for i in (x for x in range(100)):\n",
    "    print(i, end=', ')\n",
    "\n",
    "```\n",
    "Erläutern Sie den Unterschied zwischen den beiden Varianten unter Verwendung der richtigen Fachbegriffe."
   ]
  },
  {
   "cell_type": "markdown",
   "metadata": {
    "nbgrader": {
     "grade": false,
     "grade_id": "a1b",
     "locked": true,
     "solution": false
    }
   },
   "source": [
    "## b)\n",
    "In welchen Fällen würden Sie auf jeden Fall ```[x for ...]``` anstelle von ```(x for ...)``` verwenden?"
   ]
  },
  {
   "cell_type": "markdown",
   "metadata": {
    "nbgrader": {
     "grade": false,
     "grade_id": "a1c",
     "locked": true,
     "solution": false
    }
   },
   "source": [
    "## c)\n",
    "In welchen Fällen würden Sie auf jeden Fall ```(x for ...)``` anstelle von ```[x for ...]``` verwenden?"
   ]
  },
  {
   "cell_type": "markdown",
   "metadata": {
    "nbgrader": {
     "grade": false,
     "grade_id": "a2",
     "locked": true,
     "solution": false
    }
   },
   "source": [
    "# Aufgabe 2:"
   ]
  },
  {
   "cell_type": "markdown",
   "metadata": {
    "nbgrader": {
     "grade": false,
     "grade_id": "a2a",
     "locked": true,
     "solution": false
    }
   },
   "source": [
    "## a)\n",
    "Gegeben sei eine Liste von Listen von Zahlen, z. B. so:\n",
    "```Python\n",
    "L = [[1, 2, 3], [11, 13], [9, 9, 0], [13, 0, 15, 16]]\n",
    "```\n",
    "\n",
    "Schreiben Sie eine Funktion namens ```no_zeros(lst)```, welche für eine übergebene solche Liste ```lst``` eine neue Liste von Listen von Zahlen zurückgibt, welche der übergebenen Liste gleicht mit dem Unterschied, dass alle Nullen herausgefiltert (also entfernt) wurden.\n",
    "\n",
    "Im Beispiel hieße das, dass der Aufruf ```no_zeros(L)``` die Liste ```[[1, 2, 3], [11, 13], [9, 9], [13, 15, 16]]``` zurückgeben würde.\n",
    "\n",
    "Hinweis: Sie brauchen nicht zu überprüfen, ob eine Liste im richtigen Format übergeben wurde. Beachten Sie aber, dass sowohl die äußere, als auch innere Listen leer sein können."
   ]
  },
  {
   "cell_type": "code",
   "execution_count": 5,
   "metadata": {
    "collapsed": true,
    "nbgrader": {
     "grade": false,
     "grade_id": "a2a-sol",
     "locked": false,
     "solution": true
    }
   },
   "outputs": [],
   "source": [
    "def no_zeros(lst):\n",
    "    return list(map (lambda d: list(filter(lambda x: x> 0, d)), lst))"
   ]
  },
  {
   "cell_type": "markdown",
   "metadata": {
    "nbgrader": {
     "grade": false,
     "grade_id": "a2b",
     "locked": true,
     "solution": false
    }
   },
   "source": [
    "## b)\n",
    "Schreiben Sie eine Funktion namens ```count_occurences(s1, s2)``` die für zwei übergebene String-Parameter ```s1``` und ```s2``` zurückgibt, wie oft ```s2``` in ```s1``` vollständig enthalten ist.\n",
    "\n",
    "Hinweis: Sie brauchen nicht zu überprüfen, ob es sich bei ```s1``` und ```s2``` um Strings handelt."
   ]
  },
  {
   "cell_type": "markdown",
   "metadata": {
    "nbgrader": {
     "grade": false,
     "grade_id": "a2c",
     "locked": true,
     "solution": false
    }
   },
   "source": [
    "## c)\n",
    "\n",
    "Schreiben Sie eine Funktion namens ```transform_dict(d1, d2)```, welches bei Eingabe zweier `dict`s `d1` und `d2` ein neues `dict` zurückgibt, dessen Schlüssel dieselben sind wie die Schlüssel von `d1`, dessen Werte jedoch ersetzt sind durch die Werte, welche in d2 unter dem Schlüssel des bisherigen Wertes gespeichert sind.\n",
    "\n",
    "Seien z. B. die folgenden beiden `dict`s gegeben:\n",
    "```Python\n",
    "matrikelnummer_zu_note = { 35135135: 5, 60103513: 3, 10981179: 2, 18637724 : 4 }\n",
    "note_zahl_zu_string = { 1: \"summa cum laude\", 2: \"magna cum laude\", 3: \"cum laude\", 4: \"rite\", 5: \"non probatum\" }\n",
    "```\n",
    "Dann soll ein Aufruf von ```transform_dict(matrikelnummer_zu_note, note_zahl_zu_string)``` folgendes `dict` zurückgeben:\n",
    "```Python\n",
    "{60103513: 'cum laude', 10981179: 'magna cum laude', 18637724: 'rite', 35135135: 'non probatum'}\n",
    "```\n",
    "\n",
    "**Hinweis:** Verwenden Sie hierzu die Funktion ```map()```."
   ]
  },
  {
   "cell_type": "code",
   "execution_count": 15,
   "metadata": {
    "collapsed": false,
    "nbgrader": {
     "grade": false,
     "grade_id": "a2c-sol",
     "locked": false,
     "solution": true
    }
   },
   "outputs": [],
   "source": [
    "def transform_dict(d1, d2):\n",
    "    ### BEGIN SOLUTION\n",
    "    \"\"\"Gibt bei Eingabe zweier dicts d1 und d2 ein neues dict zurück,\n",
    "    dessen Schlüssel dieselben sind wie die Schlüssel von d1, \n",
    "    dessen Werte jedoch ersetzt sind durch die Werte, \n",
    "    welche in d2 unter dem Schlüssel des bisherigen Wertes gespeichert sind.\n",
    "    Args:\n",
    "        d1: das erste dict, dessen Schlüssel den Schlüsseln des zurückgegebenen dicts entsprechen (dict)\n",
    "        d2: das zweite dict, dessen Werte in das zurückgegebene dict eingefügt werden (dict)\n",
    "        \n",
    "    Returns:\n",
    "        dict: das Ziel-dict, wie oben definiert\n",
    "    \"\"\"\n",
    "    return dict(map(lambda k: (k, d2[d1[k]]), d1))\n",
    "    ### END SOLUTION"
   ]
  },
  {
   "cell_type": "code",
   "execution_count": 13,
   "metadata": {
    "collapsed": true,
    "nbgrader": {
     "grade": true,
     "grade_id": "a2c-test",
     "locked": true,
     "points": 1,
     "solution": false
    }
   },
   "outputs": [],
   "source": [
    "matrikelnummer_zu_note = { 35135135: 5, 60103513: 3, 10981179: 2, 18637724 : 4 }\n",
    "note_zahl_zu_string = { 1: \"summa cum laude\", 2: \"magna cum laude\", 3: \"cum laude\", 4: \"rite\", 5: \"non probatum\" }\n",
    "\n",
    "assert transform_dict(matrikelnummer_zu_note, note_zahl_zu_string) == {60103513: 'cum laude', 10981179: 'magna cum laude', 18637724: 'rite', 35135135: 'non probatum'}"
   ]
  },
  {
   "cell_type": "markdown",
   "metadata": {
    "nbgrader": {
     "grade": false,
     "grade_id": "a2d",
     "locked": true,
     "solution": false
    }
   },
   "source": [
    "## d)\n",
    "\n",
    "Schreiben Sie eine Funktion ```kleiner_gleich(d, wert)```, die bei Übergabe eines dicts `d` und einer Zahl `wert` einen ```iterator``` zurückgibt, welche die Schlüssel aus `d` zurückgibt, deren Wert kleiner oder gleich ```wert``` ist.\n",
    "\n",
    "Beispielsweise soll ```kleiner_gleich(matrikelnummer_zu_note, 3)``` (mit `dict` ```matrikelnummer_zu_note``` aus der letzten Aufgabe) einen ```iterator``` zurückgeben, welcher die Werte `60103513` und `10981179` liefert.\n",
    "\n",
    "Hinweis: Verwenden Sie hierzu die Funktion ```filter()```."
   ]
  },
  {
   "cell_type": "code",
   "execution_count": 34,
   "metadata": {
    "collapsed": false,
    "nbgrader": {
     "grade": false,
     "grade_id": "a2d-sol",
     "locked": false,
     "points": 1,
     "solution": true
    }
   },
   "outputs": [],
   "source": [
    "def kleiner_gleich(d, wert):\n",
    "    ### BEGIN SOLUTION\n",
    "    return filter(lambda k: d[k] <= wert, d)\n",
    "    ### END SOLUTION"
   ]
  },
  {
   "cell_type": "code",
   "execution_count": 35,
   "metadata": {
    "collapsed": false,
    "nbgrader": {
     "grade": true,
     "grade_id": "a2d-test",
     "locked": true,
     "points": 1,
     "solution": false
    }
   },
   "outputs": [],
   "source": [
    "matrikelnummer_zu_note = { 35135135: 5, 60103513: 3, 10981179: 2, 18637724 : 4 }\n",
    "mindestens_befriedigend = kleiner_gleich(matrikelnummer_zu_note, 3)\n",
    "assert type(mindestens_befriedigend) == filter\n",
    "s = {10981179, 60103513}\n",
    "for i in mindestens_befriedigend:\n",
    "    assert i in s\n",
    "    s.remove(i)\n",
    "    \n",
    "assert len(s) == 0"
   ]
  },
  {
   "cell_type": "markdown",
   "metadata": {
    "nbgrader": {
     "grade": false,
     "grade_id": "a2e",
     "locked": true,
     "solution": false
    }
   },
   "source": [
    "## e)\n",
    "Schreiben Sie eine Funktion ```kleiner_gleich_gen```, welche dasselbe leistet wie die Funktion aus Teilaufgabe d), jedoch nicht die Funktion ```filter()```, sondern die ```(x for ...)```-Syntax (s. Aufgabe 1) verwendet und anstelle eines ```iterators``` einen ```generator``` zurückgibt."
   ]
  },
  {
   "cell_type": "code",
   "execution_count": 64,
   "metadata": {
    "collapsed": false,
    "nbgrader": {
     "grade": false,
     "grade_id": "a2e-sol",
     "locked": false,
     "points": 1,
     "solution": true
    }
   },
   "outputs": [],
   "source": [
    "def kleiner_gleich_gen(d, wert):\n",
    "    ### BEGIN SOLUTION\n",
    "    return (k for (k,v) in d.items() if v <= wert)\n",
    "    ### END SOLUTION"
   ]
  },
  {
   "cell_type": "code",
   "execution_count": 66,
   "metadata": {
    "collapsed": false,
    "nbgrader": {
     "grade": true,
     "grade_id": "a2e-test",
     "locked": true,
     "points": 1,
     "solution": false
    }
   },
   "outputs": [],
   "source": [
    "import types\n",
    "\n",
    "matrikelnummer_zu_note = { 35135135: 5, 60103513: 3, 10981179: 2, 18637724 : 4 }\n",
    "\n",
    "mindestens_befriedigend_gen = kleiner_gleich_gen(matrikelnummer_zu_note, 3)\n",
    "\n",
    "assert isinstance(mindestens_befriedigend_gen, types.GeneratorType)\n",
    "\n",
    "s = {10981179, 60103513}\n",
    "\n",
    "for i in mindestens_befriedigend_gen:\n",
    "    assert i in s\n",
    "    s.remove(i)\n",
    "    \n",
    "assert len(s) == 0"
   ]
  },
  {
   "cell_type": "markdown",
   "metadata": {
    "nbgrader": {
     "grade": false,
     "grade_id": "a3",
     "locked": true,
     "solution": false
    }
   },
   "source": [
    "# Aufgabe 3:"
   ]
  },
  {
   "cell_type": "markdown",
   "metadata": {
    "nbgrader": {
     "grade": false,
     "grade_id": "a3a",
     "locked": true,
     "solution": false
    }
   },
   "source": [
    "## a)\n",
    "Gegeben ist der folgende Python-Code:\n",
    "```python\n",
    "u = 1\n",
    "\n",
    "def method1(x):\n",
    "    def method2(n):\n",
    "        def method3(m):\n",
    "            return x + n + m\n",
    "        def method4():\n",
    "            global u\n",
    "            u += 1\n",
    "        method4()\n",
    "        return method3\n",
    "    def method5(y):\n",
    "        return x + y\n",
    "    return method2, method5            \n",
    "```\n",
    "Ersetzen Sie so viele ```def```-Anweisungen wie möglich durch entsprechende ```lambda```-Ausdrücke, ohne die Semantik zu verändern."
   ]
  },
  {
   "cell_type": "code",
   "execution_count": 76,
   "metadata": {
    "collapsed": false,
    "nbgrader": {
     "grade": true,
     "grade_id": "a3a-ans",
     "locked": false,
     "points": 1,
     "solution": true
    }
   },
   "outputs": [],
   "source": [
    "u = 1\n",
    "\n",
    "def method1(x):\n",
    "    def method2(n):\n",
    "        def method4():\n",
    "            global u\n",
    "            u += 1\n",
    "        method4()\n",
    "        return lambda m : x + n + m\n",
    "\n",
    "    return method2, lambda y : x + y"
   ]
  },
  {
   "cell_type": "markdown",
   "metadata": {
    "nbgrader": {
     "grade": false,
     "grade_id": "a3b",
     "locked": true,
     "solution": false
    }
   },
   "source": [
    "## b)\n",
    "\n",
    "Schreiben Sie eine Funktion ```brief_generator(...)```, so dass folgender Code:\n",
    "```python\n",
    "brief_max = brief_generator(\"Dies ist der Kopfteil\", \"Dies ist der Fußteil\")(\"Max Mustermann\")\n",
    "brief1 = brief_max(\"Dies ist ein Betreff\", \"Dies ist ein Brieftext\")\n",
    "print(brief1)\n",
    "```\n",
    "folgendes ausgibt:\n",
    "\n",
    "```\n",
    "Dies ist der Kopfteil\n",
    "\n",
    "Max Mustermann\n",
    "\n",
    "Dies ist der Betreff\n",
    "\n",
    "Dies ist ein Brieftext\n",
    "\n",
    "Dies ist der Fußteil\n",
    "```\n",
    "\n",
    "Verwenden Sie hierzu Closures, aber noch keine Decorators."
   ]
  },
  {
   "cell_type": "code",
   "execution_count": 85,
   "metadata": {
    "collapsed": true,
    "nbgrader": {
     "grade": false,
     "grade_id": "a3b-sol",
     "locked": false,
     "solution": true
    }
   },
   "outputs": [],
   "source": [
    "def brief_generator(kopfteil, fussteil):\n",
    "    #TODO docstring\n",
    "    def _mit_name(name):\n",
    "        def _mit_inhalt(betreff, text):\n",
    "            return kopfteil + \"\\n\\n\" + name + \"\\n\\n\" + betreff + \"\\n\\n\" + text + \"\\n\\n\" + fussteil\n",
    "        return _mit_inhalt\n",
    "    return _mit_name"
   ]
  },
  {
   "cell_type": "code",
   "execution_count": 93,
   "metadata": {
    "collapsed": false,
    "nbgrader": {
     "grade": true,
     "grade_id": "a3b-test",
     "locked": true,
     "solution": false
    }
   },
   "outputs": [],
   "source": [
    "brief_max = brief_generator(\"Dies ist der Kopfteil\", \"Dies ist der Fußteil\")(\"Max Mustermann\")\n",
    "brief1 = brief_max(\"Dies ist ein Betreff\", \"Dies ist ein Brieftext\")\n",
    "assert brief1 == \"Dies ist der Kopfteil\\n\\nMax Mustermann\\n\\nDies ist ein Betreff\\n\\nDies ist ein Brieftext\\n\\nDies ist der Fußteil\""
   ]
  },
  {
   "cell_type": "markdown",
   "metadata": {
    "nbgrader": {
     "grade": false,
     "grade_id": "a3c",
     "locked": true,
     "solution": false
    }
   },
   "source": [
    "## c)\n",
    "Betrachten Sie das Programm in der nachfolgenden Zelle und ergänzen Sie vor der Definition der Methode ```brief(...)``` Decorator-Annotationen, so dass die Variable ```brief``` am Ende den gleichen Inhalt hat wie in der vorhergehenden Aufgabe (bzw. die Tests funktionieren).\n",
    "\n",
    "Hinweis: Lesen Sie nach, wie man in Python Parameter an Dekoratoren übergeben kann und vollziehen Sie anhand dessen den bereits gegebenen Code-Teil nach. \n",
    "Das Verständnis dieses Teils wird Ihnen bei einer späteren Aufgabe von Nutzen sein."
   ]
  },
  {
   "cell_type": "code",
   "execution_count": 103,
   "metadata": {
    "collapsed": false,
    "nbgrader": {
     "grade": false,
     "grade_id": "a3c-sol",
     "locked": false,
     "solution": true
    }
   },
   "outputs": [],
   "source": [
    "def kopf_und_fuss(kopfteil, fussteil):\n",
    "    def kopf_und_fuss_decorator(func):\n",
    "        def inner(*args, **kwargs):\n",
    "            return kopfteil + \"\\n\\n\" + func(*args, **kwargs) + \"\\n\\n\" + fussteil\n",
    "        return inner\n",
    "    return kopf_und_fuss_decorator\n",
    "        \n",
    "def name_block(name):\n",
    "    def name_block_decorator(func):\n",
    "        def inner(*args, **kwargs):\n",
    "            return name + \"\\n\\n\" + func(*args, **kwargs)\n",
    "        return inner\n",
    "    return name_block_decorator\n",
    "        \n",
    "### BEGIN SOLUTION\n",
    "@kopf_und_fuss(\"Dies ist der Kopfteil\", \"Dies ist der Fußteil\")\n",
    "@name_block(\"Max Mustermann\")\n",
    "### END SOLUTION\n",
    "def brief(betreff, text):\n",
    "    return betreff + \"\\n\\n\" + text"
   ]
  },
  {
   "cell_type": "code",
   "execution_count": 105,
   "metadata": {
    "collapsed": false,
    "nbgrader": {
     "grade": true,
     "grade_id": "a3c-test",
     "locked": true,
     "points": 1,
     "solution": false
    }
   },
   "outputs": [],
   "source": [
    "brief_string = brief(\"Dies ist ein Betreff\", \"Dies ist ein Brieftext\")\n",
    "assert brief_string == \"Dies ist der Kopfteil\\n\\nMax Mustermann\\n\\nDies ist ein Betreff\\n\\nDies ist ein Brieftext\\n\\nDies ist der Fußteil\""
   ]
  },
  {
   "cell_type": "markdown",
   "metadata": {
    "nbgrader": {
     "grade": false,
     "grade_id": "a3d",
     "locked": true,
     "solution": false
    }
   },
   "source": [
    "## d)\n",
    "Vergleichen Sie Ihre Lösung von Aufgabe c) mit der von Aufgabe d): Welche Variante halten Sie in möglichen Anwendungsszenarien für sinnvoller? Begründen Sie kurz."
   ]
  },
  {
   "cell_type": "code",
   "execution_count": null,
   "metadata": {
    "collapsed": true,
    "nbgrader": {
     "grade": true,
     "grade_id": "a3d-sol",
     "locked": false,
     "points": 1,
     "solution": true
    }
   },
   "outputs": [],
   "source": [
    "#TODO"
   ]
  },
  {
   "cell_type": "markdown",
   "metadata": {
    "nbgrader": {
     "grade": false,
     "grade_id": "a3e",
     "locked": true,
     "solution": false
    }
   },
   "source": [
    "## e)\n",
    "Gegeben sei die Funktion \n",
    "```Python\n",
    "def gruesse(name):\n",
    "    return \"Ich grüße \" + name + \"!\"\n",
    "```\n",
    "\n",
    "Diese soll nun mit Hilfe von Dekoratoren so erweitert werden, dass der Rückgabewert noch in `div`- und `p`-HTML-Tags gepackt wird.\n",
    "Das heißt,\n",
    "```Python\n",
    "gruesse(\"dich\")\n",
    "```\n",
    "soll\n",
    "```Python\n",
    "<div><p>Ich grüße dich!</p></div>\n",
    "```\n",
    "zurückgeben.\n",
    "\n",
    "Schreiben Sie dazu einen Dekorator namens `html_tag`, dem Sie einen Parameter übergeben können und wenden Sie diesen auf die Funktion (mehrfach, mit verschiedenen aktuellen Parametern) an.\n",
    "Der zu übergebende Parameter soll dabei nur der Name des HTML-Tags (z. B. `\"div\"` oder `\"p\"`) sein, nicht z. B. `\"<div>\"` oder `\"<p>\"`"
   ]
  },
  {
   "cell_type": "code",
   "execution_count": 118,
   "metadata": {
    "collapsed": true,
    "nbgrader": {
     "grade": false,
     "grade_id": "a3e-sol",
     "locked": false,
     "solution": true
    }
   },
   "outputs": [],
   "source": [
    "### BEGIN SOLUTION\n",
    "def html_tag(tag_name):\n",
    "    def html_tag_decorator(func):\n",
    "        def inner(name):\n",
    "            return \"<{0}>{1}</{0}>\".format(tag_name, func(name))\n",
    "        return inner\n",
    "    return html_tag_decorator\n",
    "\n",
    "\n",
    "@html_tag(\"div\")\n",
    "@html_tag(\"p\")\n",
    "### END SOLUTION\n",
    "def gruesse(name):\n",
    "    return \"Ich grüße \" + name + \"!\""
   ]
  },
  {
   "cell_type": "code",
   "execution_count": 119,
   "metadata": {
    "collapsed": false,
    "nbgrader": {
     "grade": true,
     "grade_id": "a3e-test",
     "locked": true,
     "solution": false
    }
   },
   "outputs": [],
   "source": [
    "assert gruesse(\"dich\") == \"<div><p>Ich grüße dich!</p></div>\""
   ]
  },
  {
   "cell_type": "markdown",
   "metadata": {
    "nbgrader": {
     "grade": false,
     "grade_id": "a3f",
     "locked": true,
     "solution": false
    }
   },
   "source": [
    "Schreiben Sie einen Decorator namens `call_count`, welcher zählt, wie oft die Funktion, die er dekoriert, aufgerufen wurde.\n",
    "\n",
    "Wenden Sie diesen anschließend auf die unten vorgegebene Funktion `f()` an.\n",
    "\n",
    "Hinweis: Der Decorator soll auf Funktionen mit beliebiger Art und Anzahl von Parametern anwendbar sein."
   ]
  },
  {
   "cell_type": "code",
   "execution_count": 124,
   "metadata": {
    "collapsed": false,
    "nbgrader": {
     "grade": false,
     "grade_id": "a3f-sol",
     "locked": false,
     "solution": true
    }
   },
   "outputs": [
    {
     "name": "stdout",
     "output_type": "stream",
     "text": [
      "f wurde aufgerufen mit Parameter  0\n",
      "f wurde aufgerufen mit Parameter  1\n",
      "f wurde aufgerufen mit Parameter  2\n",
      "f wurde aufgerufen mit Parameter  3\n",
      "f wurde aufgerufen mit Parameter  4\n",
      "f wurde aufgerufen mit Parameter  5\n",
      "f wurde aufgerufen mit Parameter  6\n",
      "f wurde aufgerufen mit Parameter  7\n",
      "f wurde aufgerufen mit Parameter  8\n",
      "f wurde aufgerufen mit Parameter  9\n",
      "f wurde aufgerufen mit Parameter  10\n",
      "f wurde aufgerufen mit Parameter  11\n",
      "f wurde aufgerufen mit Parameter  12\n",
      "f wurde aufgerufen mit Parameter  13\n",
      "f wurde aufgerufen mit Parameter  14\n"
     ]
    }
   ],
   "source": [
    "#TODO: hier muss noch einiges anders...\n",
    "\n",
    "### BEGIN SOLUTION\n",
    "def call_count(func):\n",
    "    a = 0\n",
    "    \n",
    "    def inner(*args, **kwargs):\n",
    "        nonlocal a #das muss noch anders\n",
    "        a += 1        \n",
    "        func(*args, **kwargs)\n",
    "    \n",
    "    return inner\n",
    "        \n",
    "@call_count\n",
    "### END SOLUTION\n",
    "def f(param):\n",
    "    print(\"f wurde aufgerufen mit Parameter \", param)\n",
    "    \n",
    "for i in range(15):\n",
    "    f(i)"
   ]
  }
 ],
 "metadata": {
  "anaconda-cloud": {},
  "celltoolbar": "Create Assignment",
  "kernelspec": {
   "display_name": "Python [default]",
   "language": "python",
   "name": "python3"
  },
  "language_info": {
   "codemirror_mode": {
    "name": "ipython",
    "version": 3
   },
   "file_extension": ".py",
   "mimetype": "text/x-python",
   "name": "python",
   "nbconvert_exporter": "python",
   "pygments_lexer": "ipython3",
   "version": "3.5.2"
  }
 },
 "nbformat": 4,
 "nbformat_minor": 1
}
