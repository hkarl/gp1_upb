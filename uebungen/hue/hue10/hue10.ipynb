{
 "cells": [
  {
   "cell_type": "markdown",
   "metadata": {
    "nbgrader": {
     "grade": true,
     "grade_id": "matrikel",
     "locked": false,
     "points": 0,
     "solution": true
    },
    "slideshow": {
     "slide_type": "skip"
    }
   },
   "source": [
    "Bitte hier eintragen (s.u)!"
   ]
  },
  {
   "cell_type": "markdown",
   "metadata": {
    "nbgrader": {
     "grade": false,
     "grade_id": "matrikel_info",
     "locked": true,
     "solution": false
    },
    "slideshow": {
     "slide_type": "skip"
    }
   },
   "source": [
    "# Abgabehinweise \n",
    "\n",
    "Beachten Sie unbedingt diese Hinweise, sonst erhalten Sie keine Punkte aus dieser Abgabe! Für Details siehe z.B. [Folien der nullten Zentralübung](http://groups.uni-paderborn.de/fg-karl/lehre/ws1617/gp1/hue/gp1-zue0.pdf)\n",
    "\n",
    "## Namen und Matrikelnummern \n",
    "\n",
    "Tragen Sie Ihre Matrikelnummern und E-Mail-Adressen *zeilenweise* in die Zelle **oberhalb** dieser Zelle ein.\n",
    "Achten Sie dabei streng auf die Formatierung, denn die Auswertung erfolgt automatisch. \n",
    "Benutzen Sie *keine* Leerzeilen.\n",
    "Zwischen Matrikelnummer und E-Mail-Adresse *muss genau ein* Leerzeichen stehen; sonst keine Leerzeichen, Tabs, Spiegelstriche, oder ähnliches in einer Zeile. Wir empfehlen *dringend* die Benutzung der Uni-Paderborn E-Mail-Adressen! \n",
    "\n",
    "<!--- Wenn Sie diese Ansicht verwenden (was Sie nicht tun sollten; klicken Sie am besten einmal auf \"Run cell\"), dann steht die Formatierung hier richtig:\n",
    "\n",
    "Format:\n",
    "\n",
    "MatrikelNummer E-Mail-Adresse\n",
    "MatrikelNummer2 E-Mail-Adresse2\n",
    "\n",
    "z.B.:\n",
    "\n",
    "123456 testStudent@mail.upb.de\n",
    "234567 testStudent2@mail.upb.de\n",
    "345678 vorname.nachname@mail.upb.de\n",
    "\n",
    "... und nicht hier: -->\n",
    "\n",
    "Format:\n",
    "\n",
    "MatrikelNummer E-Mail-Adresse\n",
    "<br \\>\n",
    "MatrikelNummer2 E-Mail-Adresse2\n",
    "\n",
    "z.B.:\n",
    "\n",
    "123456 testStudent@mail.upb.de\n",
    "<br \\>\n",
    "234567 testStudent2@mail.upb.de\n",
    "<br \\>\n",
    "345678 vorname.nachname@mail.upb.de\n",
    "\n",
    "Hinweis: Wenn Sie das so in die obere Zelle eingeben, wird in der ausgeführten Markdownzelle (Strg+Enter) alles in einer Zeile angezeigt. Das ist egal; wichtig ist Formatierung der Eingabe.\n",
    "\n",
    "\n",
    "## Abgabe mit Gruppenaccount \n",
    "\n",
    "Die Abgabe muss mit Ihrem *Gruppenaccount* erfolgen (gp1\\_16\\_...), den Sie in der Präsenzübung erhalten haben! Abgaben, die über Ihren Einzelaccount erfolgen, werden ignoriert. \n",
    "\n",
    "## Abgabe: Submit \n",
    "\n",
    "Es reicht nicht, nur das Übungsblatt zu verändern. Sie müssen unter *Assignments* auf *Submit* clicken (oder entsprechend über die Kommandozeile), für das entsprechende Übungsblatt! (Wenn Sie Blatt 9 abgeben wolllen hilft es nicht, bei Blatt 1 auf Submit zu drücken!) Für Details siehe Beschreibung Abgabeprozess. \n",
    "\n",
    "## Dateinamen\n",
    "\n",
    "Geben Sie Ihre Lösung in der vom Server erhaltenen Datei hue09.ipynb ab (nicht umbenennen, keine Kopie erstellen, keine anderen Dateien in das Verzeichnis legen, auch nicht Dateiname hue9.ipynb !). Sonst kann eine Bewertung nicht stattfinden.\n",
    "\n",
    "## Struktur des Notebooks \n",
    "\n",
    "Fügen Sie keine Zellen hinzu und löschen Sie keine Zellen.\n",
    "Ändern Sie nicht den Typ einer Zelle.\n",
    "Geben Sie Lösungen nur in den Lösungszellen ab. Änderungen in den anderen Zellen werden nach Abgabe automatisch rückgängig gemacht.\n",
    "\n",
    "## Code-Zellen \n",
    "\n",
    "Entfernen Sie die Zeilen mit Inhalt \"raise NotImplementedError()\" aus den Zellen, in die Sie Ihre Lösungen schreiben. *Ersetzen* Sie diese Zeilen durch Ihre eigene Lösungen. \n",
    "\n",
    "## Nie ```input```\n",
    "\n",
    "Benutzen Sie *niemals* die Funktion `input()`. Das verhindert die automatische Auswertung Ihrer Abgabe und führt zu 0 Punkten für das gesamte Blatt! \n",
    "\n",
    "## Kommentare \n",
    "\n",
    "Kommentieren Sie Code-Abgaben! Insbesondere *muss* jede Funktion (Klasse, Methode, ...) einen sinnvollen ```docstring``` haben! Bei fehlendem docstring werden automatisch Punkte abgezogen! \n",
    "\n",
    "\n",
    "# Abgabetermin: 22.01.2017 um 23:59 Uhr"
   ]
  },
  {
   "cell_type": "markdown",
   "metadata": {
    "nbgrader": {
     "grade": false,
     "grade_id": "a1",
     "locked": true,
     "solution": false
    }
   },
   "source": [
    "# Aufgabe 1:"
   ]
  },
  {
   "cell_type": "markdown",
   "metadata": {
    "nbgrader": {
     "grade": false,
     "grade_id": "a1a",
     "locked": true,
     "solution": false
    }
   },
   "source": [
    "## a)\n",
    "Betrachten Sie die folgenden beiden Codevarianten in Python:\n",
    "```Python \n",
    "#Variante A:\n",
    "for i in [x*2 for x in range(1000000)]:\n",
    "        if i % 2 == 1:\n",
    "            break\n",
    "    \n",
    "#Variante B:\n",
    "for i in (x*2 for x in range(1000000)):\n",
    "        if i % 2 == 1:\n",
    "            break\n",
    "\n",
    "```\n",
    "Erläutern Sie den Unterschied zwischen den beiden Varianten unter Verwendung der richtigen Fachbegriffe."
   ]
  },
  {
   "cell_type": "markdown",
   "metadata": {
    "nbgrader": {
     "grade": true,
     "grade_id": "a1-sol",
     "locked": false,
     "points": 1,
     "solution": true
    }
   },
   "source": [
    "Bei Variante A handelt es sich um eine List Comprehension, bei welcher zunächst die gesamte Liste (mit Elementen von 0 bis 99) erzeugt und anschließend darüber iteriert wird.\n",
    "\n",
    "Bei Variante B handelt es sich um eine Generator Expression, bei welcher nicht im Vorhinein eine ganze Liste erzeugt wird, sondern es wird bei jeder Iteration das aktuelle Element erzeugt."
   ]
  },
  {
   "cell_type": "markdown",
   "metadata": {
    "nbgrader": {
     "grade": false,
     "grade_id": "a1c",
     "locked": true,
     "solution": false
    }
   },
   "source": [
    "## b)\n",
    "In welchen Fällen würden Sie auf jeden Fall ```(x for ...)``` anstelle von ```[x for ...]``` verwenden **müssen**?"
   ]
  },
  {
   "cell_type": "markdown",
   "metadata": {
    "nbgrader": {
     "grade": true,
     "grade_id": "a1c-sol",
     "locked": false,
     "points": 1,
     "solution": true
    }
   },
   "source": [
    "Wenn die Anzahl der Elemente, die mit diesen Ausdrücken erzeugt wird, zu groß für den Speicher ist (z. B. unendlich), müsste man die Generator Expression verwenden."
   ]
  },
  {
   "cell_type": "markdown",
   "metadata": {
    "nbgrader": {
     "grade": false,
     "grade_id": "a2",
     "locked": true,
     "solution": false
    }
   },
   "source": [
    "# Aufgabe 2:"
   ]
  },
  {
   "cell_type": "markdown",
   "metadata": {
    "nbgrader": {
     "grade": false,
     "grade_id": "a2b",
     "locked": true,
     "solution": false
    }
   },
   "source": [
    "## a)\n",
    "Betrachten Sie den Code in der folgenden Codezelle (Sie müssen den Code nicht vollständig verstehen - dies könnte aber interessante Erkenntnisse liefern!). \n",
    "Ergänzen Sie diesen so, dass die Tests korrekt durchlaufen.\n",
    "Verwenden Sie hierzu die Funktion `reduce()` in Kombination mit einem Lambda-Ausdruck.\n",
    "\n",
    "Tipp: Für die Lösung genügt eine einzige Codezeile."
   ]
  },
  {
   "cell_type": "code",
   "execution_count": null,
   "metadata": {
    "collapsed": false,
    "nbgrader": {
     "grade": false,
     "grade_id": "a2b-sol",
     "locked": false,
     "solution": true
    }
   },
   "outputs": [],
   "source": [
    "from functools import reduce\n",
    "from collections import defaultdict \n",
    "\n",
    "def count_words(text):\n",
    "    \"\"\"Zählt für jedes Wort in einem als Parameter übergebenen Text, wie häufig dieses Wort im Text vorkommt\n",
    "    und gibt das Ergebnis dieser Zählung als dict zurück.\n",
    "    \n",
    "    Args:\n",
    "        text: Der Text, der analysiert werden soll. (str)\n",
    "        \n",
    "    Returns:\n",
    "        Ein dict, welches Wort-Anzahl-Paare enhält, wie z. B. ('der', 4)\n",
    "    \"\"\"\n",
    "    # Liste von Wörtern:\n",
    "    list_of_words = text.split()\n",
    "    print(list_of_words)\n",
    "    print(\"=\"*80)\n",
    "\n",
    "    # Liste von (word, 1)-Tupeln\n",
    "    mapoutput = map(lambda x: (x, 1), list_of_words)\n",
    "\n",
    "    # zur Verwendung von defaultdict siehe die Dokumentation\n",
    "    shuffled = defaultdict(list) \n",
    "    \n",
    "    # zusammenfügen:\n",
    "    for x in mapoutput:\n",
    "        shuffled[x[0]].append(x[1])\n",
    "\n",
    "    print(shuffled)\n",
    "    print(\"=\"*80)\n",
    "\n",
    "    # und reduziere\n",
    "    result = {}\n",
    "    for key, values in shuffled.items():\n",
    "        ### BEGIN SOLUTION\n",
    "        result[key] = reduce(lambda x, y: x + y, values)\n",
    "        ### END SOLUTION\n",
    "\n",
    "    print(sorted(result.items()))\n",
    "    print(\"=\"*80)\n",
    "    \n",
    "    return sorted(result.items())"
   ]
  },
  {
   "cell_type": "code",
   "execution_count": null,
   "metadata": {
    "collapsed": false,
    "nbgrader": {
     "grade": true,
     "grade_id": "a2b-test",
     "locked": true,
     "points": 1,
     "solution": false
    }
   },
   "outputs": [],
   "source": [
    "inputtext = \"\"\"\n",
    "Lorem ipsum dolor sit amet, ut aliquet metus. Libero feugiat cursus luctus, adipiscing dolor. Mollis egestas dignissim venenatis wisi purus mollis. Vestibulum et nonummy auctor vel ante quis, nibh sollicitudin nullam cras nulla. Sapien eget fermentum nunc mollis, luctus placerat integer, massa sed sagittis ornare lobortis, nam vitae. Accumsan non, tortor nulla sollicitudin quis dolore, commodo ipsum sit at eu parturient, sagittis phasellus arcu quis praesent donec at. Sapien sollicitudin mi, hymenaeos enim laoreet sit ante velit.\n",
    "Cras suscipit ornare adipiscing, donec nisl, amet duis sodales orci bibendum mauris suspendisse. Dapibus sed suspendisse quam mollit tempor velit, pulvinar commodo varius eget nullam, quis varius libero ante. Eu cras augue, purus orci nec neque libero convallis, ligula lacus. Convallis purus, ut ipsum, praesent mauris proin, augue sit, ante nostra. Duis elit ut, accumsan mi, vitae lobortis metus consectetuer lorem, nulla proin, risus sunt nulla interdum massa sit.\n",
    "Luctus in. Magna nisl ut mauris elit leo. Pellentesque lacus ut enim platea magna, vel maecenas elit quam aenean metus etiam. Ut massa nunc pulvinar malesuada. Mi dui augue, tellus diam proin aliquet molestie, a lectus cras velit lorem magna. Commodo erat proin neque, fusce eget luctus mattis, et sodales a est quam duis. Elit feugiat nulla, vivamus elit posuere consectetuer non non, morbi enim eleifend, diam porta, magna bibendum commodo. Massa risus eget duis nulla integer ut, pede vitae euismod elit, quis maecenas labore, praesent vestibulum dictum augue ac sollicitudin, vestibulum wisi. Enim mi, id lorem lobortis elit, posuere purus lorem, nec enim integer aliquet metus. Sit aenean donec vitae sapien odio ut, ipsum sed eu primis a ante posuere, integer magna, feugiat non magna.\n",
    "At praesent ligula tortor. Placeat libero. Vehicula porttitor. Enim felis cras dui conubia ligula. Adipiscing sed, suspendisse diam eleifend sed, leo fusce. Ante risus libero, ad sed suspendisse etiam. Pellentesque a tincidunt facilisis eleifend vel, urna odio aliquam orci dapibus fermentum enim, quam suspendisse consequat semper hendrerit mauris, sociis porta sit justo eget, vel aliquam lacinia facilisis nihil. Maecenas metus elit, in luctus felis velit elit velit in, platea nam fusce, donec eget urna. Quam egestas, lacus faucibus consectetuer, maecenas fames sit eleifend pede suspendisse, fusce mollitia placerat luctus tristique integer imperdiet. Curabitur mi mauris dictumst blandit urna etiam, et turpis rutrum sed, mauris imperdiet qui velit mattis libero in.\n",
    "\"\"\"\n",
    "\n",
    "assert count_words(inputtext) == [('Accumsan', 1), ('Adipiscing', 1), ('Ante', 1), ('At', 1), ('Commodo', 1), ('Convallis', 1), ('Cras', 1), ('Curabitur', 1), ('Dapibus', 1), ('Duis', 1), ('Elit', 1), ('Enim', 2), ('Eu', 1), ('Libero', 1), ('Lorem', 1), ('Luctus', 1), ('Maecenas', 1), ('Magna', 1), ('Massa', 1), ('Mi', 1), ('Mollis', 1), ('Pellentesque', 2), ('Placeat', 1), ('Quam', 1), ('Sapien', 2), ('Sit', 1), ('Ut', 1), ('Vehicula', 1), ('Vestibulum', 1), ('a', 4), ('ac', 1), ('accumsan', 1), ('ad', 1), ('adipiscing', 1), ('adipiscing,', 1), ('aenean', 2), ('aliquam', 2), ('aliquet', 3), ('amet', 1), ('amet,', 1), ('ante', 4), ('ante.', 1), ('arcu', 1), ('at', 1), ('at.', 1), ('auctor', 1), ('augue', 2), ('augue,', 2), ('bibendum', 2), ('blandit', 1), ('commodo', 2), ('commodo.', 1), ('consectetuer', 2), ('consectetuer,', 1), ('consequat', 1), ('conubia', 1), ('convallis,', 1), ('cras', 4), ('cursus', 1), ('dapibus', 1), ('diam', 3), ('dictum', 1), ('dictumst', 1), ('dignissim', 1), ('dolor', 1), ('dolor.', 1), ('dolore,', 1), ('donec', 4), ('dui', 2), ('duis', 2), ('duis.', 1), ('egestas', 1), ('egestas,', 1), ('eget', 5), ('eget,', 1), ('eleifend', 3), ('eleifend,', 1), ('elit', 5), ('elit,', 3), ('enim', 4), ('enim,', 1), ('erat', 1), ('est', 1), ('et', 3), ('etiam,', 1), ('etiam.', 2), ('eu', 2), ('euismod', 1), ('facilisis', 2), ('fames', 1), ('faucibus', 1), ('felis', 2), ('fermentum', 2), ('feugiat', 3), ('fusce', 2), ('fusce,', 1), ('fusce.', 1), ('hendrerit', 1), ('hymenaeos', 1), ('id', 1), ('imperdiet', 1), ('imperdiet.', 1), ('in', 1), ('in,', 1), ('in.', 2), ('integer', 4), ('integer,', 1), ('interdum', 1), ('ipsum', 3), ('ipsum,', 1), ('justo', 1), ('labore,', 1), ('lacinia', 1), ('lacus', 2), ('lacus.', 1), ('laoreet', 1), ('lectus', 1), ('leo', 1), ('leo.', 1), ('libero', 3), ('libero,', 1), ('libero.', 1), ('ligula', 2), ('ligula.', 1), ('lobortis', 2), ('lobortis,', 1), ('lorem', 2), ('lorem,', 2), ('luctus', 4), ('luctus,', 1), ('maecenas', 3), ('magna', 1), ('magna,', 2), ('magna.', 2), ('malesuada.', 1), ('massa', 3), ('mattis', 1), ('mattis,', 1), ('mauris', 5), ('mauris,', 1), ('metus', 3), ('metus.', 2), ('mi', 1), ('mi,', 3), ('molestie,', 1), ('mollis,', 1), ('mollis.', 1), ('mollit', 1), ('mollitia', 1), ('morbi', 1), ('nam', 2), ('nec', 2), ('neque', 1), ('neque,', 1), ('nibh', 1), ('nihil.', 1), ('nisl', 1), ('nisl,', 1), ('non', 2), ('non,', 2), ('nonummy', 1), ('nostra.', 1), ('nulla', 4), ('nulla,', 1), ('nulla.', 1), ('nullam', 1), ('nullam,', 1), ('nunc', 2), ('odio', 2), ('orci', 3), ('ornare', 2), ('parturient,', 1), ('pede', 2), ('phasellus', 1), ('placerat', 2), ('platea', 2), ('porta', 1), ('porta,', 1), ('porttitor.', 1), ('posuere', 2), ('posuere,', 1), ('praesent', 4), ('primis', 1), ('proin', 2), ('proin,', 2), ('pulvinar', 2), ('purus', 3), ('purus,', 1), ('quam', 4), ('qui', 1), ('quis', 4), ('quis,', 1), ('risus', 3), ('rutrum', 1), ('sagittis', 2), ('sapien', 1), ('sed', 4), ('sed,', 3), ('semper', 1), ('sit', 5), ('sit,', 1), ('sit.', 1), ('sociis', 1), ('sodales', 2), ('sollicitudin', 3), ('sollicitudin,', 1), ('sunt', 1), ('suscipit', 1), ('suspendisse', 4), ('suspendisse,', 1), ('suspendisse.', 1), ('tellus', 1), ('tempor', 1), ('tincidunt', 1), ('tortor', 1), ('tortor.', 1), ('tristique', 1), ('turpis', 1), ('urna', 2), ('urna.', 1), ('ut', 4), ('ut,', 3), ('varius', 2), ('vel', 3), ('vel,', 1), ('velit', 4), ('velit,', 1), ('velit.', 1), ('venenatis', 1), ('vestibulum', 2), ('vitae', 3), ('vitae.', 1), ('vivamus', 1), ('wisi', 1), ('wisi.', 1)]\n",
    "\n",
    "### HIDESTART\n",
    "inputtext2 = \"a a a c d d\"\n",
    "assert count_words(inputtext2) == [('a', 3), ('c', 1), ('d', 2)]\n",
    "### HIDEEND"
   ]
  },
  {
   "cell_type": "markdown",
   "metadata": {
    "nbgrader": {
     "grade": false,
     "grade_id": "a2c",
     "locked": true,
     "solution": false
    }
   },
   "source": [
    "## b)\n",
    "\n",
    "Schreiben Sie eine Funktion namens ```transform_dict(d1, d2)```, welches bei Eingabe zweier `dict`s `d1` und `d2` ein neues `dict` zurückgibt, dessen Schlüssel dieselben sind wie die Schlüssel von `d1`, dessen Werte jedoch ersetzt sind durch die Werte, welche in d2 unter dem Schlüssel des bisherigen Wertes gespeichert sind.\n",
    "\n",
    "Seien z. B. die folgenden beiden `dict`s gegeben:\n",
    "```Python\n",
    "matrikelnummer_zu_note = { 35135135: 5, 60103513: 3, 10981179: 2, 18637724 : 4 }\n",
    "note_zahl_zu_string = { 1: \"summa cum laude\", 2: \"magna cum laude\", 3: \"cum laude\", 4: \"rite\", 5: \"non probatum\" }\n",
    "```\n",
    "Dann soll ein Aufruf von ```transform_dict(matrikelnummer_zu_note, note_zahl_zu_string)``` folgendes `dict` zurückgeben:\n",
    "```Python\n",
    "{60103513: 'cum laude', 10981179: 'magna cum laude', 18637724: 'rite', 35135135: 'non probatum'}\n",
    "```\n",
    "\n",
    "**Hinweis:** Verwenden Sie hierzu die Funktion ```map()``` in Kombination mit einem Lambda-Ausdruck."
   ]
  },
  {
   "cell_type": "code",
   "execution_count": null,
   "metadata": {
    "collapsed": false,
    "nbgrader": {
     "grade": false,
     "grade_id": "a2c-sol",
     "locked": false,
     "solution": true
    }
   },
   "outputs": [],
   "source": [
    "def transform_dict(d1, d2):\n",
    "    ### BEGIN SOLUTION\n",
    "    \"\"\"Gibt bei Eingabe zweier dicts d1 und d2 ein neues dict zurück,\n",
    "    dessen Schlüssel dieselben sind wie die Schlüssel von d1, \n",
    "    dessen Werte jedoch ersetzt sind durch die Werte, \n",
    "    welche in d2 unter dem Schlüssel des bisherigen Wertes gespeichert sind.\n",
    "    \n",
    "    Args:\n",
    "        d1: das erste dict, dessen Schlüssel den Schlüsseln des zurückgegebenen dicts entsprechen (dict)\n",
    "        d2: das zweite dict, dessen Werte in das zurückgegebene dict eingefügt werden (dict)\n",
    "        \n",
    "    Returns:\n",
    "        dict: das Ziel-dict, wie oben definiert\n",
    "    \"\"\"\n",
    "    return dict(map(lambda k: (k, d2[d1[k]]), d1))\n",
    "    ### END SOLUTION"
   ]
  },
  {
   "cell_type": "code",
   "execution_count": null,
   "metadata": {
    "collapsed": false,
    "nbgrader": {
     "grade": true,
     "grade_id": "a2c-test",
     "locked": true,
     "points": 1,
     "solution": false
    }
   },
   "outputs": [],
   "source": [
    "matrikelnummer_zu_note = {35135135: 5, 60103513: 3, 10981179: 2, 18637724 : 4}\n",
    "note_zahl_zu_string = {1: \"summa cum laude\", 2: \"magna cum laude\", 3: \"cum laude\", 4: \"rite\", 5: \"non probatum\"}\n",
    "\n",
    "assert transform_dict(matrikelnummer_zu_note, note_zahl_zu_string) == {60103513: 'cum laude', 10981179: 'magna cum laude', 18637724: 'rite', 35135135: 'non probatum'}\n",
    "\n",
    "\n",
    "d1 = {\"a\": \"b\", 5: 2, True: False}\n",
    "d2 = {\"o\": \"a\", 10: 5, \"b\" : True}\n",
    "\n",
    "assert transform_dict(d2, d1) == {'o': 'b', 10: 2, 'b': False}\n",
    "\n",
    "### HIDESTART\n",
    "import builtins\n",
    "\n",
    "class MyException(Exception):\n",
    "    pass\n",
    "\n",
    "def map(*args, **kwargs):\n",
    "    raise MyException()\n",
    "        \n",
    "try:\n",
    "    transform_dict(matrikelnummer_zu_note, note_zahl_zu_string)\n",
    "except MyException:\n",
    "    used_map = True\n",
    "else:\n",
    "    used_map = False\n",
    "finally:\n",
    "    map = builtins.map\n",
    "    assert used_map\n",
    "### HIDEEND"
   ]
  },
  {
   "cell_type": "markdown",
   "metadata": {
    "nbgrader": {
     "grade": false,
     "grade_id": "a2d",
     "locked": true,
     "solution": false
    }
   },
   "source": [
    "## c)\n",
    "\n",
    "Schreiben Sie eine Funktion ```kleiner_gleich(d, wert)```, die bei Übergabe eines dicts `d` und einer Zahl `wert` ein ```filter```-Objekt zurückgibt, welches ein Iterator auf die Schlüssel aus `d` ist, deren Werte kleiner oder gleich ```wert``` sind.\n",
    "\n",
    "Beispielsweise soll ```kleiner_gleich(matrikelnummer_zu_note, 3)``` (mit `dict` ```matrikelnummer_zu_note``` aus der letzten Aufgabe) ein ```filter```-Objekt zurückgeben, welches die Werte `60103513` und `10981179` liefert.\n",
    "\n",
    "Hinweis: Verwenden Sie hierzu die Funktion ```filter()``` ind Kombination mit einem Lambda-Ausdruck und lesen Sie dazu noch einmal die Python-Dokumentation nach. Diese gibt ein Objekt vom Typ ```filter``` zurück."
   ]
  },
  {
   "cell_type": "code",
   "execution_count": null,
   "metadata": {
    "collapsed": false,
    "nbgrader": {
     "grade": false,
     "grade_id": "a2d-sol",
     "locked": false,
     "points": 1,
     "solution": true
    }
   },
   "outputs": [],
   "source": [
    "def kleiner_gleich(d, wert):\n",
    "    \"\"\"Gibt für ein übergebenes dict d und einer übergebenen Zahl wert alle Schlüssel von d zurück,\n",
    "    deren Wert kleiner oder gleich wert sind.\n",
    "    \n",
    "    Args:\n",
    "        dict: Das dictionary (dict)\n",
    "        wert: der Wert mit dem verglichen wird (zahl)\n",
    "    \n",
    "    Returns:\n",
    "        filter-Objekt mit den gewünschten Schlüsseln\n",
    "    \"\"\"\n",
    "    return filter(lambda k: d[k] <= wert, d)"
   ]
  },
  {
   "cell_type": "code",
   "execution_count": null,
   "metadata": {
    "collapsed": false,
    "nbgrader": {
     "grade": true,
     "grade_id": "a2d-test",
     "locked": true,
     "points": 1,
     "solution": false
    }
   },
   "outputs": [],
   "source": [
    "matrikelnummer_zu_note = {35135135: 5, 60103513: 3, 10981179: 2, 18637724 : 4}\n",
    "mindestens_befriedigend = kleiner_gleich(matrikelnummer_zu_note, 3)\n",
    "assert type(mindestens_befriedigend) == filter\n",
    "s = {10981179, 60103513}\n",
    "mb = set(mindestens_befriedigend)\n",
    "assert s == mb\n",
    "\n",
    "d1 = {\"a\": 15, \"c\": 29, True: 13, 15 : 12}\n",
    "res = set(kleiner_gleich(d1, 25))\n",
    "assert set(res) == {True, 'a', 15}\n",
    "\n",
    "\n",
    "### HIDESTART\n",
    "import builtins\n",
    "\n",
    "class MyException(Exception):\n",
    "    pass\n",
    "\n",
    "\n",
    "def filter(*args, **kwargs):\n",
    "    raise MyException()\n",
    "       \n",
    "try:\n",
    "    kleiner_gleich(matrikelnummer_zu_note, 3)\n",
    "except MyException:\n",
    "    used_filter = True\n",
    "else:\n",
    "    used_filter = False\n",
    "finally:\n",
    "    filter = builtins.filter\n",
    "    assert used_filter\n",
    "### HIDEEND"
   ]
  },
  {
   "cell_type": "markdown",
   "metadata": {
    "nbgrader": {
     "grade": false,
     "grade_id": "a2e",
     "locked": true,
     "solution": false
    }
   },
   "source": [
    "## d)\n",
    "Schreiben Sie eine Funktion ```kleiner_gleich_gen```, welche dasselbe leistet wie die Funktion aus Teilaufgabe c), jedoch nicht die Funktion ```filter()```, sondern die ```(x for ...)```-Syntax (s. Aufgabe 1) verwendet und anstelle eines ```filter```-Objekts einen ```generator``` zurückgibt."
   ]
  },
  {
   "cell_type": "code",
   "execution_count": null,
   "metadata": {
    "collapsed": false,
    "nbgrader": {
     "grade": false,
     "grade_id": "a2e-sol",
     "locked": false,
     "points": 1,
     "solution": true
    }
   },
   "outputs": [],
   "source": [
    "def kleiner_gleich_gen(d, wert):\n",
    "    \"\"\"Gibt für ein übergebenes dict d und einer übergebenen Zahl wert alle Schlüssel von d zurück,\n",
    "    deren Wert kleiner oder gleich wert sind.\n",
    "    \n",
    "    Args:\n",
    "        dict: Das dictionary (dict)\n",
    "        wert: der Wert mit dem verglichen wird (zahl)\n",
    "    \n",
    "    Returns:\n",
    "        generator-Objekt mit den gewünschten Schlüsseln\n",
    "    \"\"\"    \n",
    "    return (k for (k,v) in d.items() if v <= wert)"
   ]
  },
  {
   "cell_type": "code",
   "execution_count": null,
   "metadata": {
    "collapsed": false,
    "nbgrader": {
     "grade": true,
     "grade_id": "a2e-test",
     "locked": true,
     "points": 1,
     "solution": false
    }
   },
   "outputs": [],
   "source": [
    "import types\n",
    "\n",
    "matrikelnummer_zu_note = { 35135135: 5, 60103513: 3, 10981179: 2, 18637724 : 4 }\n",
    "mindestens_befriedigend_gen = kleiner_gleich_gen(matrikelnummer_zu_note, 3)\n",
    "\n",
    "assert isinstance(mindestens_befriedigend_gen, types.GeneratorType)\n",
    "\n",
    "s = {10981179, 60103513}\n",
    "mbg = set(mindestens_befriedigend_gen)\n",
    "assert s == mbg\n",
    "\n",
    "\n",
    "d1 = {\"a\": 15, \"c\": 29, True: 13, 15 : 12}\n",
    "res = set(kleiner_gleich_gen(d1, 25))\n",
    "assert set(res) == {True, 'a', 15}"
   ]
  },
  {
   "cell_type": "markdown",
   "metadata": {
    "nbgrader": {
     "grade": false,
     "grade_id": "a2x",
     "locked": true,
     "solution": false
    }
   },
   "source": [
    "## e)\n",
    "Gegeben sei eine Liste von Listen von Zahlen, z. B. so:\n",
    "```Python\n",
    "L = [[1, 2, 3], [11, 13], [9, 9, 0], [13, 0, 15, 16]]\n",
    "```\n",
    "\n",
    "Schreiben Sie eine Funktion namens ```no_zeros(lst)```, welche für eine übergebene solche Liste ```lst``` eine neue Liste von Listen von Zahlen zurückgibt, welche der übergebenen Liste gleicht mit dem Unterschied, dass alle Nullen herausgefiltert (also entfernt) wurden.\n",
    "Verwenden Sie hierzu `map()` und `filter()`.\n",
    "\n",
    "Im Beispiel hieße das, dass der Aufruf ```no_zeros(L)``` die Liste ```[[1, 2, 3], [11, 13], [9, 9], [13, 15, 16]]``` zurückgeben würde.\n",
    "\n",
    "Hinweis: Sie brauchen nicht zu überprüfen, ob eine Liste im richtigen Format übergeben wurde. Beachten Sie aber, dass sowohl die äußere als auch jede der innerem Listen leer sein können.\n",
    "\n",
    "Tipp: Die Aufgabe lässt sich mit einem Ausdruck erledigen, der ```map``` und ```filter``` mit geeigneten ```lambda```-Ausdrücken nutzt. "
   ]
  },
  {
   "cell_type": "code",
   "execution_count": null,
   "metadata": {
    "collapsed": true,
    "nbgrader": {
     "grade": false,
     "grade_id": "a2x-sol",
     "locked": false,
     "solution": true
    }
   },
   "outputs": [],
   "source": [
    "def no_zeros(lst):\n",
    "    \"\"\" Erzeugt für eine übergebene Liste von Listen eine neue Liste, die der übergebenen gleicht, \n",
    "    mit dem Unterschied, dass alle Nullen daraus entfernt wurden.\n",
    "    \n",
    "    Args:\n",
    "        lst: Eine Liste von Listen (list)\n",
    "        \n",
    "    Returns:\n",
    "        eine neue Liste (innere Listen von lst um Nullen bereinigt)\n",
    "    \n",
    "    \"\"\"\n",
    "    return list(map (lambda d: list(filter(lambda x: x> 0, d)), lst))"
   ]
  },
  {
   "cell_type": "code",
   "execution_count": null,
   "metadata": {
    "collapsed": false,
    "nbgrader": {
     "grade": true,
     "grade_id": "a2x-test",
     "locked": true,
     "points": 2,
     "solution": false
    }
   },
   "outputs": [],
   "source": [
    "L1 = [[1, 2, 3], [11, 13], [9, 9, 0], [13, 0, 15, 16]]\n",
    "assert no_zeros(L1) == [[1, 2, 3], [11, 13], [9, 9], [13, 15, 16]] \n",
    "\n",
    "L2 = [[], [0, 0], [9, 9, 0], [13, 0, 15, 16]]\n",
    "assert no_zeros(L2) == [[], [], [9, 9], [13, 15, 16]] \n",
    "\n",
    "### HIDESTART\n",
    "import builtins\n",
    "\n",
    "class MyException(Exception):\n",
    "    pass\n",
    "\n",
    "def map(*args, **kwargs):\n",
    "    raise MyException()\n",
    "      \n",
    "try:\n",
    "    no_zeros(L1)\n",
    "except MyException:\n",
    "    used_map = True\n",
    "else:\n",
    "    used_map = False\n",
    "finally:\n",
    "    map = builtins.map\n",
    "    assert used_map\n",
    "\n",
    "    \n",
    "def filter(*args, **kwargs):\n",
    "    raise MyException()\n",
    "       \n",
    "try:\n",
    "    no_zeros(L1)\n",
    "except MyException:\n",
    "    used_filter = True\n",
    "else:\n",
    "    used_filter = False\n",
    "finally:\n",
    "    filter = builtins.filter\n",
    "    assert used_filter\n",
    "### HIDEEND"
   ]
  },
  {
   "cell_type": "markdown",
   "metadata": {
    "nbgrader": {
     "grade": false,
     "grade_id": "a3",
     "locked": true,
     "solution": false
    }
   },
   "source": [
    "# Aufgabe 3:"
   ]
  },
  {
   "cell_type": "markdown",
   "metadata": {
    "nbgrader": {
     "grade": false,
     "grade_id": "a3a",
     "locked": true,
     "solution": false
    }
   },
   "source": [
    "## a)\n",
    "Gegeben ist der folgende Python-Code:\n",
    "```python\n",
    "u = 1\n",
    "\n",
    "def method1(x):\n",
    "    def method2(n):\n",
    "        def method3(m):\n",
    "            return x + n + m\n",
    "        def method4():\n",
    "            global u\n",
    "            u += 1\n",
    "        method4()\n",
    "        return method3\n",
    "    def method5(y):\n",
    "        return x + y\n",
    "    return method2, method5            \n",
    "```\n",
    "Ersetzen Sie so viele ```def```-Anweisungen wie möglich durch entsprechende ```lambda```-Ausdrücke, ohne die Semantik zu verändern."
   ]
  },
  {
   "cell_type": "code",
   "execution_count": null,
   "metadata": {
    "collapsed": false,
    "nbgrader": {
     "grade": true,
     "grade_id": "a3a-ans",
     "locked": false,
     "points": 1,
     "solution": true
    }
   },
   "outputs": [],
   "source": [
    "u = 1\n",
    "\n",
    "def method1(x):\n",
    "    def method2(n):\n",
    "        def method4():\n",
    "            global u\n",
    "            u += 1\n",
    "        method4()\n",
    "        return lambda m : x + n + m\n",
    "\n",
    "    return method2, lambda y : x + y"
   ]
  },
  {
   "cell_type": "markdown",
   "metadata": {
    "nbgrader": {
     "grade": false,
     "grade_id": "a3b",
     "locked": true,
     "solution": false
    }
   },
   "source": [
    "## b)\n",
    "\n",
    "Schreiben Sie eine Funktion ```brief_generator(...)```, so dass folgender Code:\n",
    "```python\n",
    "brief_max = brief_generator(\"Dies ist der Kopfteil\", \"Dies ist der Fußteil\")(\"Max Mustermann\")\n",
    "brief1 = brief_max(\"Dies ist ein Betreff\", \"Dies ist ein Brieftext\")\n",
    "print(brief1)\n",
    "```\n",
    "folgendes ausgibt:\n",
    "\n",
    "```\n",
    "Dies ist der Kopfteil\n",
    "\n",
    "Max Mustermann\n",
    "\n",
    "Dies ist der Betreff\n",
    "\n",
    "Dies ist ein Brieftext\n",
    "\n",
    "Dies ist der Fußteil\n",
    "```\n",
    "\n",
    "Verwenden Sie hierzu Closures, aber noch keine Decorators.\n",
    "\n",
    "Sie müssen hier (ausnahmsweise) keine ```docstring```s ergänzen!"
   ]
  },
  {
   "cell_type": "code",
   "execution_count": null,
   "metadata": {
    "collapsed": true,
    "nbgrader": {
     "grade": false,
     "grade_id": "a3b-sol",
     "locked": false,
     "solution": true
    }
   },
   "outputs": [],
   "source": [
    "def brief_generator(kopfteil, fussteil):\n",
    "    \"\"\"Funktion, der man zwei Strings kopfteil und fussteil übergeben kann,\n",
    "    die an eine Funktion gebunden werden, welche zurückgegeben wird. \n",
    "    Diese Funktion erhält wiederum einen Parameter absender, welcher an einer Funktion\n",
    "    gebunden wird, welche diese Funktion zurückgibt.\n",
    "    Diese Funktion wiederum gibt kopfteil, absender, betreff, text und fussteil, jeweils\n",
    "    getrennt durch Leerzeilen, aus.\n",
    "    \n",
    "    Args:\n",
    "        kopfteil: eine Zeichenkette (str)\n",
    "        fussteil: eine Zeichenkette (str)\n",
    "        \n",
    "    Returns:\n",
    "        Funktion wie oben beschrieben (function)\n",
    "    \"\"\"\n",
    "    def _mit_name(absender):\n",
    "        def _mit_inhalt(betreff, text):\n",
    "            return kopfteil + \"\\n\\n\" + absender + \"\\n\\n\" + betreff + \"\\n\\n\" + text + \"\\n\\n\" + fussteil\n",
    "        return _mit_inhalt\n",
    "    return _mit_name"
   ]
  },
  {
   "cell_type": "code",
   "execution_count": null,
   "metadata": {
    "collapsed": false,
    "nbgrader": {
     "grade": true,
     "grade_id": "a3b-test",
     "locked": true,
     "points": 1,
     "solution": false
    }
   },
   "outputs": [],
   "source": [
    "brief_max = brief_generator(\"Dies ist der Kopfteil\", \"Dies ist der Fußteil\")(\"Max Mustermann\")\n",
    "brief1 = brief_max(\"Dies ist ein Betreff\", \"Dies ist ein Brieftext\")\n",
    "assert brief1 == \"Dies ist der Kopfteil\\n\\nMax Mustermann\\n\\nDies ist ein Betreff\\n\\nDies ist ein Brieftext\\n\\nDies ist der Fußteil\"\n",
    "\n",
    "### HIDESTART\n",
    "kopf_fuss = brief_generator(\"Kopf\", \"Fuss\")\n",
    "mit_name = kopf_fuss(\"Name\")\n",
    "brief2 = mit_name(\"Betreff\", \"Text\")\n",
    "assert brief2 == \"Kopf\\n\\nName\\n\\nBetreff\\n\\nText\\n\\nFuss\"\n",
    "### HIDEEND"
   ]
  },
  {
   "cell_type": "markdown",
   "metadata": {
    "nbgrader": {
     "grade": false,
     "grade_id": "a3c",
     "locked": true,
     "solution": false
    }
   },
   "source": [
    "## c)\n",
    "Betrachten Sie das Programm in der nachfolgenden Zelle und ergänzen Sie vor der Definition der Methode ```brief(...)``` Decorator-Annotationen, so dass die Variable ```brief``` am Ende den gleichen Inhalt hat wie in der vorhergehenden Aufgabe (bzw. die Tests funktionieren).\n",
    "\n",
    "Hinweis: Lesen Sie nach, wie man in Python Parameter an Dekoratoren übergeben kann und vollziehen Sie anhand dessen den bereits gegebenen Code-Teil nach. \n",
    "Das Verständnis dieses Teils wird Ihnen bei einer späteren Aufgabe von Nutzen sein.\n",
    "\n",
    "Auch bei dieser Aufgabe dürfen Sie (ausnahmsweise) auf das Angeben von ```docstring```s verzichten."
   ]
  },
  {
   "cell_type": "code",
   "execution_count": null,
   "metadata": {
    "collapsed": false,
    "nbgrader": {
     "grade": false,
     "grade_id": "a3c-sol",
     "locked": false,
     "solution": true
    }
   },
   "outputs": [],
   "source": [
    "def kopf_und_fuss(kopfteil, fussteil):\n",
    "    def kopf_und_fuss_decorator(func):\n",
    "        def inner(*args, **kwargs):\n",
    "            return kopfteil + \"\\n\\n\" + func(*args, **kwargs) + \"\\n\\n\" + fussteil\n",
    "        return inner\n",
    "    return kopf_und_fuss_decorator\n",
    "        \n",
    "def name_block(absender):\n",
    "    def name_block_decorator(func):\n",
    "        def inner(*args, **kwargs):\n",
    "            return absender + \"\\n\\n\" + func(*args, **kwargs)\n",
    "        return inner\n",
    "    return name_block_decorator\n",
    "        \n",
    "### BEGIN SOLUTION\n",
    "@kopf_und_fuss(\"Dies ist der Kopfteil\", \"Dies ist der Fußteil\")\n",
    "@name_block(\"Max Mustermann\")\n",
    "### END SOLUTION\n",
    "def brief(betreff, text):\n",
    "    return betreff + \"\\n\\n\" + text"
   ]
  },
  {
   "cell_type": "code",
   "execution_count": null,
   "metadata": {
    "collapsed": false,
    "nbgrader": {
     "grade": true,
     "grade_id": "a3c-test",
     "locked": true,
     "points": 1,
     "solution": false
    }
   },
   "outputs": [],
   "source": [
    "brief_string = brief(\"Dies ist ein Betreff\", \"Dies ist ein Brieftext\")\n",
    "assert brief_string == \"Dies ist der Kopfteil\\n\\nMax Mustermann\\n\\nDies ist ein Betreff\\n\\nDies ist ein Brieftext\\n\\nDies ist der Fußteil\"\n",
    "\n",
    "### HIDESTART\n",
    "brief_string2 = brief(\"Betreff\", \"Text\")\n",
    "assert brief_string2 == \"Dies ist der Kopfteil\\n\\nMax Mustermann\\n\\nBetreff\\n\\nText\\n\\nDies ist der Fußteil\"\n",
    "### HIDEEND"
   ]
  },
  {
   "cell_type": "markdown",
   "metadata": {
    "nbgrader": {
     "grade": false,
     "grade_id": "a3d",
     "locked": true,
     "solution": false
    }
   },
   "source": [
    "## d)\n",
    "Vergleichen Sie Ihre Lösung von Aufgabe c) mit der von Aufgabe d): Welche Variante halten Sie in passenden Anwendungsszenarien für sinnvoller? Begründen Sie kurz."
   ]
  },
  {
   "cell_type": "markdown",
   "metadata": {
    "collapsed": true,
    "nbgrader": {
     "grade": true,
     "grade_id": "a3d-sol",
     "locked": false,
     "points": 1,
     "solution": true
    }
   },
   "source": [
    "Bei der Lösung von Aufgabe d) ist der String für den Kopf- und Fußteil sowie für den Namen fest an die Funktion brief gebunden - sie lässt sich nicht mehr Nutzen, um z. B. Briefe mit anderen Absendern zu schreiben.\n",
    "Bei Aufgabe c) ist dies noch flexibel anpassbar. Man kann auch zunächst nur Kopf- und Fußteil festlegen und die dadurch zurückgegebene Funktion dann mit verschiedenen Absendern aufrufen."
   ]
  },
  {
   "cell_type": "markdown",
   "metadata": {
    "nbgrader": {
     "grade": false,
     "grade_id": "a3e",
     "locked": true,
     "solution": false
    }
   },
   "source": [
    "## e)\n",
    "Gegeben sei die Funktion \n",
    "```Python\n",
    "def gruesse(name):\n",
    "    return \"Ich grüße \" + name + \"!\"\n",
    "```\n",
    "\n",
    "Diese soll nun mit Hilfe von Dekoratoren so erweitert werden, dass der Rückgabewert noch in `div`- und `p`-HTML-Tags gepackt wird.\n",
    "Das heißt,\n",
    "```Python\n",
    "gruesse(\"dich\")\n",
    "```\n",
    "soll\n",
    "```Python\n",
    "<div><p>Ich grüße dich!</p></div>\n",
    "```\n",
    "zurückgeben.\n",
    "\n",
    "Schreiben Sie dazu einen Dekorator namens `html_tag`, dem Sie einen Parameter übergeben können und wenden Sie diesen auf die Funktion ```gruesse``` (mehrfach, mit verschiedenen aktuellen Parametern) an.\n",
    "Der zu übergebende Parameter soll dabei nur der Name des HTML-Tags (z. B. `\"div\"` oder `\"p\"`) sein, nicht z. B. `\"<div>\"` oder `\"<p>\"`.\n",
    "\n",
    "Hinweis: Schreiben Sie den Dekorator so allgemein, dass er auch andere Funktionen (mit möglicherweise anderen Parametern) dekorieren kann."
   ]
  },
  {
   "cell_type": "code",
   "execution_count": null,
   "metadata": {
    "collapsed": true,
    "nbgrader": {
     "grade": false,
     "grade_id": "a3e-sol",
     "locked": false,
     "solution": true
    }
   },
   "outputs": [],
   "source": [
    "### BEGIN SOLUTION\n",
    "def html_tag(tag_name):\n",
    "    \"\"\"Dekorator, welcher die von der hiermit dekorierterten Funktion zurückgegebenen Strings in\n",
    "    öffnende und schließende HTML-Tags verpackt. \n",
    "    Die HTML-Tags, mit denen dekoriert werden soll, müssen als Parameter an den Dekorator übergeben werden.\n",
    "    \"\"\"\n",
    "    def html_tag_decorator(func):\n",
    "        def inner(*args, **kwargs):\n",
    "            return \"<{0}>{1}</{0}>\".format(tag_name, func(*args, **kwargs))\n",
    "        return inner\n",
    "    return html_tag_decorator\n",
    "\n",
    "\n",
    "@html_tag(\"div\")\n",
    "@html_tag(\"p\")\n",
    "### END SOLUTION\n",
    "def gruesse(name):\n",
    "    return \"Ich grüße \" + name + \"!\""
   ]
  },
  {
   "cell_type": "code",
   "execution_count": null,
   "metadata": {
    "collapsed": false,
    "nbgrader": {
     "grade": true,
     "grade_id": "a3e-test",
     "locked": true,
     "points": 1,
     "solution": false
    }
   },
   "outputs": [],
   "source": [
    "assert gruesse(\"dich\") == \"<div><p>Ich grüße dich!</p></div>\"\n",
    "\n",
    "### HIDESTART\n",
    "@html_tag(\"html\")\n",
    "def test_func():\n",
    "    return \"TEST\"\n",
    "\n",
    "assert test_func() == \"<html>TEST</html>\"\n",
    "\n",
    "@html_tag(\"html\")\n",
    "def test_func2(a, b):\n",
    "    return a + \" TEST \" + b\n",
    "\n",
    "assert test_func2(\"1\", \"2\") == \"<html>1 TEST 2</html>\"\n",
    "### HIDEEND"
   ]
  },
  {
   "cell_type": "markdown",
   "metadata": {
    "nbgrader": {
     "grade": false,
     "grade_id": "a3f",
     "locked": true,
     "solution": false
    }
   },
   "source": [
    "## f)\n",
    "Schreiben Sie einen Decorator namens `call_count`, welcher zählt, wie oft die Funktion, die er dekoriert, aufgerufen wurde. Dies soll zurückgegeben wird, indem anstelle des eigentlichen Rückgabewertes der Funktion ein Tupel bestehend aus der Anzahl der bisherigen Aufrufe der Funktion und dem eigentlichen Rückgabewert der Funktion zurückgegeben wird (s. Tests).\n",
    "\n",
    "Wenden Sie diesen anschließend auf die unten vorgegebene Funktion `f()` an.\n",
    "\n",
    "Hinweis: Der Decorator soll auf Funktionen mit beliebiger Art und Anzahl von Parametern anwendbar sein."
   ]
  },
  {
   "cell_type": "code",
   "execution_count": null,
   "metadata": {
    "collapsed": false,
    "nbgrader": {
     "grade": false,
     "grade_id": "a3f-sol",
     "locked": false,
     "solution": true
    }
   },
   "outputs": [],
   "source": [
    "### BEGIN SOLUTION\n",
    "def call_count(func):\n",
    "    \"\"\"Dekorator zum Zaehlen der Anzahl der Funktionsaufrufe (wird in <Funktionsname>.calls gespeichert).\"\"\"\n",
    "    \n",
    "    calls = 0\n",
    "    \n",
    "    def inner(*args, **kwargs):\n",
    "        nonlocal calls\n",
    "        calls += 1        \n",
    "        return (calls, func(*args, **kwargs))\n",
    "\n",
    "    return inner        \n",
    "\n",
    "@call_count\n",
    "### END SOLUTION\n",
    "def f():\n",
    "    pass"
   ]
  },
  {
   "cell_type": "code",
   "execution_count": null,
   "metadata": {
    "collapsed": false,
    "nbgrader": {
     "grade": true,
     "grade_id": "a3f-test",
     "locked": true,
     "points": 2,
     "solution": false
    }
   },
   "outputs": [],
   "source": [
    "for i in range(15):\n",
    "    assert f()[0] == i + 1\n",
    "    \n",
    "### HIDESTART\n",
    "@call_count\n",
    "def g():\n",
    "    pass\n",
    "\n",
    "for i in range(10):\n",
    "    assert g()[0] == i + 1\n",
    "### HIDEEND"
   ]
  },
  {
   "cell_type": "markdown",
   "metadata": {
    "collapsed": true,
    "nbgrader": {
     "grade": false,
     "grade_id": "a4",
     "locked": true,
     "solution": false
    }
   },
   "source": [
    "# Aufgabe 4"
   ]
  },
  {
   "cell_type": "markdown",
   "metadata": {
    "nbgrader": {
     "grade": false,
     "grade_id": "a4a",
     "locked": true,
     "solution": false
    }
   },
   "source": [
    "## a)\n",
    "Betrachten Sie den Code in der folgenden Python-Zelle:"
   ]
  },
  {
   "cell_type": "code",
   "execution_count": null,
   "metadata": {
    "collapsed": false,
    "nbgrader": {
     "grade": false,
     "grade_id": "a4a-code",
     "locked": true,
     "solution": false
    }
   },
   "outputs": [],
   "source": [
    "import time \n",
    "import functools\n",
    "\n",
    "def benchmark(fct):\n",
    "  def _benchmark(*args, **kwargs):\n",
    "      tstart = time.time()\n",
    "      r = fct(*args, **kwargs)\n",
    "      tend = time.time()\n",
    "\n",
    "      print(\"{} ({}, {}) verbrauchte {} Millisekunden\".format(\n",
    "          fct.__name__, args, kwargs, (tend-tstart)*1000))\n",
    "\n",
    "      return r\n",
    "      \n",
    "  return _benchmark\n",
    "\n",
    "def _fib_old(num):\n",
    "    if num < 2:\n",
    "        return num\n",
    "    else:\n",
    "        return _fib_old(num-1) + _fib_old(num-2) \n",
    "\n",
    "@benchmark\n",
    "def fib_old(num):\n",
    "    return _fib_old(num)\n",
    "\n",
    "\n",
    "@functools.lru_cache(maxsize=100)\n",
    "def _fib_new(num):\n",
    "    if num < 2:\n",
    "        return num\n",
    "    else:\n",
    "        return _fib_new(num-1) + _fib_new(num-2) \n",
    "    \n",
    "@benchmark    \n",
    "def fib_new(num):\n",
    "    return _fib_new(num)\n",
    "\n",
    "fib1 = fib_old(32)\n",
    "fib2 = fib_new(32)"
   ]
  },
  {
   "cell_type": "markdown",
   "metadata": {
    "nbgrader": {
     "grade": false,
     "grade_id": "a4a2",
     "locked": true,
     "solution": false
    }
   },
   "source": [
    "Erklären Sie, wieso die Ausführung der letzten beiden Code-Zeilen zu unterschiedlichen Ausgaben führt.\n",
    "\n",
    "Schlagen Sie dazu in der Python-Referenz die Dokumentation von `functools.lru_cache` nach."
   ]
  },
  {
   "cell_type": "markdown",
   "metadata": {
    "nbgrader": {
     "grade": true,
     "grade_id": "a4a2-sol",
     "locked": false,
     "points": 1,
     "solution": true
    }
   },
   "source": [
    "Die Berechnung der Fibonacci-Zahlen findet hier rekursiv in den Funktionen `_fib_old` bzw. `_fib_new` statt. \n",
    "Bei der hier gewählten Implementierung werden üblicherweise Ergebnisse doppelt berechnet (so ruft `fib(10)` `fib(8)` und `fib(7)` auf und der Aufruf `fib(8)` ruft wiederum `fib(7)` auf.\n",
    "Die Funktion `fib_new` hat eine kürzere Laufzeit, da bei den rekursiven Aufrufen von `_fib_new` Ergebnisse, die bereits bei anderen Funktionsaufrufen berechnet wurden, aus einem Cache geholt werden, welchen der Dekorator `functools.lru_cache` verwaltet.\n",
    "Dieser Cache speichert für die Funktion für jeden Parameter, mit dem sie aufgerufen wurde, den Rückgabewert des Funktionsaufrufs.\n",
    "Die Größe dieses Caches wird durch den Dekorator-Parameter `maxsize` bestimmt (welcher hier mit 100 die Anzahl der verschiedenen Funktionsaufrufe deutlich übersteigt)."
   ]
  },
  {
   "cell_type": "markdown",
   "metadata": {
    "nbgrader": {
     "grade": false,
     "grade_id": "a4b",
     "locked": true,
     "solution": false
    }
   },
   "source": [
    "# b)\n",
    "\n",
    "In welchen Fällen ist eine Verwendung von functools.lru_cache (als Decorator) ratsam? Wann ist davon abzuraten?"
   ]
  },
  {
   "cell_type": "markdown",
   "metadata": {
    "nbgrader": {
     "grade": true,
     "grade_id": "a4b-sol",
     "locked": false,
     "points": 1,
     "solution": true
    }
   },
   "source": [
    "Ratsam ist die Verwendung des Dekorators, wenn die Funktion, die er dekoriert, mehrfach mit demselben Parameter aufgerufen wird. \n",
    "Allerdings ist von seiner Verwendung abzuraten, wenn die Funktion, die mit ihm dekoriert wird, Seiteneffekte hat (also z. B. eine `print`-Anweisung enthält oder globale Variablen verändert) und es somit nicht nur auf den Rückgabewert der Funktion ankommt."
   ]
  },
  {
   "cell_type": "markdown",
   "metadata": {
    "nbgrader": {
     "grade": false,
     "grade_id": "a4c",
     "locked": true,
     "solution": false
    }
   },
   "source": [
    "# c)\n",
    "Betrachten Sie den folgenden Python-Code und die entstehende Ausgabe, wenn Sie den Code ausführen:"
   ]
  },
  {
   "cell_type": "code",
   "execution_count": null,
   "metadata": {
    "collapsed": false,
    "nbgrader": {
     "grade": false,
     "grade_id": "a4c-code",
     "locked": true,
     "solution": false
    },
    "scrolled": true
   },
   "outputs": [],
   "source": [
    "import time \n",
    "import functools\n",
    "\n",
    "def benchmark(fct):\n",
    "  def _benchmark(*args, **kwargs):\n",
    "      tstart = time.time()\n",
    "      r = fct(*args, **kwargs)\n",
    "      tend = time.time()\n",
    "\n",
    "      print(\"{} ({}, {}) verbrauchte {} Millisekunden\".format(\n",
    "          fct.__name__, args, kwargs, (tend-tstart)*1000))\n",
    "\n",
    "      return r\n",
    "      \n",
    "  return _benchmark\n",
    "\n",
    "@benchmark\n",
    "def f1(num):\n",
    "    if num < 2:\n",
    "        return num\n",
    "    else:\n",
    "        return f1(num-1) + f1(num-2)\n",
    "\n",
    "\n",
    "\n",
    "@benchmark\n",
    "@functools.lru_cache(maxsize=100)\n",
    "def f2(num):\n",
    "    if num < 2:\n",
    "        return num\n",
    "    else:\n",
    "        return f2(num-1) + f2(num-2)\n",
    "    \n",
    "\n",
    "\n",
    "\n",
    "@functools.lru_cache(maxsize=100)\n",
    "@benchmark\n",
    "def f3(num):\n",
    "    if num < 2:\n",
    "        return num\n",
    "    else:\n",
    "        return f3(num-1) + f3(num-2)\n",
    "\n",
    "num = 13\n",
    "\n",
    "print(f1(num))\n",
    "print (\"------------\")\n",
    "print(f2(num))\n",
    "print (\"------------\")\n",
    "print(f3(num))"
   ]
  },
  {
   "cell_type": "markdown",
   "metadata": {
    "collapsed": true,
    "nbgrader": {
     "grade": false,
     "grade_id": "a4c2",
     "locked": true,
     "solution": false
    }
   },
   "source": [
    "Die Funktionen f1, f2 und f3 sind (bis auf ihre Dekoratoren) gleich.\n",
    "Erklären Sie, wie die unterschiedlichen Ausgaben bei den drei Funktionsaufrufen zustande kommen.\n",
    "\n",
    "Hinweis: Beziehen Sie sich hierbei bitte nicht auf die konkreten Zahlen, sondern auf die unterschiedliche Anzahl der Ausgaben."
   ]
  },
  {
   "cell_type": "markdown",
   "metadata": {
    "nbgrader": {
     "grade": true,
     "grade_id": "a4c-sol",
     "locked": false,
     "points": 2,
     "solution": true
    }
   },
   "source": [
    "Die rekursive Funktion `f1` wird lediglich mit dem Dekorator `benchmark` ausgestattet.\n",
    "Dadurch wird für jeden Aufruf dieser Funktion die Laufzeit dieses Aufrufs gemessen.\n",
    "Die Anzahl der Aufrufe ist hier am größten, da jeder der rekursiven Aufrufe wirklich ausgeführt wird (und somit Funktionswerte der Fibonacci-Funktion \"doppelt berechnet\" werden).\n",
    "\n",
    "Die rekursive Funktion `f2` wird mit den Dekoratoren `benchmark` und `functools.lru_cache` ausgestattet, wobei in jedem (rekursiven) Funktionsaufruf zuerst die dekorierende Funktion von `benchmark` zuerst ausgeführt wird und danach erst die von `functools.lru_cache`.\n",
    "Dies hat zur Folge, dass wegen der Aufrufe in der Zeile `return f1(num-1) + f1(num-2)` zwar die Benchmark-Ausgaben von beiden Funktionsaufrufen auf die Konsole geschrieben werden.\n",
    "Die aufgerufenen Funktionen werden aber nicht wirklich ausgeführt, sondern deren Ergebnis aus dem Cache geholt (sofern der Wert schon einmal berechnet wurde).\n",
    "Damit finden dann auch keine weiteren rekursiven Aufrufe aufgrund solcher bereits zuvor berechneten Ergebnisse statt.\n",
    "\n",
    "Bei `f3` schließlich ist das Verhalten zwar im Grunde so wie bei `f2`, aufgrund der geänderten Reihenfolge der Dekoratoren finden aber Ausgaben für Funktionsaufrufe, deren Ergebnisse ohnehin aus dem Cache geholt werden, nicht mehr statt.\n",
    "Daher gibt es hier nur eine Ausgabe pro zu berechnendem Funktionswert (welcher jeder der Funktionswerte von 0 bis 13 ist)."
   ]
  },
  {
   "cell_type": "code",
   "execution_count": null,
   "metadata": {
    "collapsed": false,
    "nbgrader": {
     "grade": true,
     "grade_id": "docstring-test",
     "locked": true,
     "points": 1,
     "solution": false
    }
   },
   "outputs": [],
   "source": [
    "# Diese Zelle bitte unverändert lassen!\n",
    "# Alle Dokumentationen vorhanden? \n",
    "\n",
    "l = []\n",
    "\n",
    "# Aufgabe 2:\n",
    "l.append(\"transform_dict\")\n",
    "l.append(\"kleiner_gleich\")\n",
    "l.append(\"kleiner_gleich_gen\")\n",
    "l.append(\"no_zeros\")\n",
    "\n",
    "\n",
    "\n",
    "# Aufgabe 3\n",
    "l.append(\"html_tag\")\n",
    "l.append(\"call_count\")\n",
    "\n",
    "for f in l:\n",
    "    try:\n",
    "        func = eval(f)\n",
    "        assert(func.__doc__ != None)\n",
    "        print(func.__doc__ != None, \"-->\", f)    \n",
    "    except AttributeError: #TODO: NotImplementedError\n",
    "        print(\"Not Implemented\", \"-->\", f)\n",
    "    except AssertionError:\n",
    "        print(func.__doc__ != None, \"-->\", f)"
   ]
  }
 ],
 "metadata": {
  "anaconda-cloud": {},
  "celltoolbar": "Create Assignment",
  "kernelspec": {
   "display_name": "Python [default]",
   "language": "python",
   "name": "python3"
  },
  "language_info": {
   "codemirror_mode": {
    "name": "ipython",
    "version": 3
   },
   "file_extension": ".py",
   "mimetype": "text/x-python",
   "name": "python",
   "nbconvert_exporter": "python",
   "pygments_lexer": "ipython3",
   "version": "3.5.2"
  }
 },
 "nbformat": 4,
 "nbformat_minor": 1
}
