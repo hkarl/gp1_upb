{
 "cells": [
  {
   "cell_type": "markdown",
   "metadata": {
    "collapsed": true,
    "nbgrader": {
     "grade": true,
     "grade_id": "matrikel",
     "locked": false,
     "points": 0,
     "solution": true
    }
   },
   "source": [
    "Bitte hier eintragen (s.u)!"
   ]
  },
  {
   "cell_type": "markdown",
   "metadata": {
    "nbgrader": {
     "grade": false,
     "grade_id": "matrikel_info",
     "locked": true,
     "solution": false
    }
   },
   "source": [
    "# Abgabehinweise \n",
    "\n",
    "Beachten Sie unbedingt diese Hinweise, sonst erhalten Sie keine Punkte aus dieser Abgabe! Für Details siehe z.B. [Folien der nullten Zentralübung](http://groups.uni-paderborn.de/fg-karl/lehre/ws1617/gp1/hue/gp1-zue0.pdf)\n",
    "\n",
    "## Namen und Matrikelnummern \n",
    "\n",
    "Tragen Sie Ihre Matrikelnummern und E-Mail-Adressen *zeilenweise* in die Zelle **oberhalb** dieser Zelle ein.\n",
    "Achten Sie dabei streng auf die Formatierung, denn die Auswertung erfolgt automatisch. \n",
    "Benutzen Sie *keine* Leerzeilen.\n",
    "Zwischen Matrikelnummer und E-Mail-Adresse *muss genau ein* Leerzeichen stehen; sonst keine Leerzeichen, Tabs, Spiegelstriche, oder ähnliches in einer Zeile. Wir empfehlen *dringend* die Benutzung der Uni-Paderborn E-Mail-Adressen! \n",
    "\n",
    "<!--- Wenn Sie diese Ansicht verwenden (was Sie nicht tun sollten; klicken Sie am besten einmal auf \"Run cell\"), dann steht die Formatierung hier richtig:\n",
    "\n",
    "Format:\n",
    "\n",
    "MatrikelNummer E-Mail-Adresse\n",
    "MatrikelNummer2 E-Mail-Adresse2\n",
    "\n",
    "z.B.:\n",
    "\n",
    "123456 testStudent@mail.upb.de\n",
    "234567 testStudent2@mail.upb.de\n",
    "345678 vorname.nachname@mail.upb.de\n",
    "\n",
    "... und nicht hier: -->\n",
    "\n",
    "Format:\n",
    "\n",
    "MatrikelNummer E-Mail-Adresse\n",
    "<br \\>\n",
    "MatrikelNummer2 E-Mail-Adresse2\n",
    "\n",
    "z.B.:\n",
    "\n",
    "123456 testStudent@mail.upb.de\n",
    "<br \\>\n",
    "234567 testStudent2@mail.upb.de\n",
    "<br \\>\n",
    "345678 vorname.nachname@mail.upb.de\n",
    "\n",
    "Hinweis: Wenn Sie das so in die obere Zelle eingeben, wird in der ausgeführten Markdownzelle (Strg+Enter) alles in einer Zeile angezeigt. Das ist egal; wichtig ist Formatierung der Eingabe.\n",
    "\n",
    "\n",
    "## Abgabe mit Gruppenaccount \n",
    "\n",
    "Die Abgabe muss mit Ihrem *Gruppenaccount* erfolgen (gp1\\_16\\_...), den Sie in der Präsenzübung erhalten haben! Abgaben, die über Ihren Einzelaccount erfolgen, werden ignoriert. \n",
    "\n",
    "## Abgabe: Submit \n",
    "\n",
    "Es reicht nicht, nur das Übungsblatt zu verändern. Sie müssen unter *Assignments* auf *Submit* clicken (oder entsprechend über die Kommandozeile), für das entsprechende Übungsblatt! (Wenn Sie Blatt 13 abgeben wolllen hilft es nicht, bei Blatt 1 auf Submit zu drücken!) Für Details siehe Beschreibung Abgabeprozess. \n",
    "\n",
    "## Dateinamen\n",
    "\n",
    "Geben Sie Ihre Lösung in der vom Server erhaltenen Datei hue13.ipynb ab (nicht umbenennen, keine Kopie erstellen, keine anderen Dateien in das Verzeichnis legen). Sonst kann eine Bewertung nicht stattfinden.\n",
    "\n",
    "## Struktur des Notebooks \n",
    "\n",
    "Fügen Sie keine Zellen hinzu und löschen Sie keine Zellen.\n",
    "Ändern Sie nicht den Typ einer Zelle.\n",
    "Geben Sie Lösungen nur in den Lösungszellen ab. Änderungen in den anderen Zellen werden nach Abgabe automatisch rückgängig gemacht.\n",
    "\n",
    "\n",
    "\n",
    "# Abgabetermin: 09.02.2017 um 12:00 Uhr (ACHTUNG! Donnerstagmittag!)"
   ]
  },
  {
   "cell_type": "markdown",
   "metadata": {
    "nbgrader": {
     "grade": false,
     "grade_id": "a1",
     "locked": true,
     "solution": false
    }
   },
   "source": [
    "# Aufgabe 1:"
   ]
  },
  {
   "cell_type": "markdown",
   "metadata": {
    "nbgrader": {
     "grade": false,
     "grade_id": "a1a",
     "locked": true,
     "solution": false
    }
   },
   "source": [
    "Entwerfen und implementieren Sie in Java eine Klasse namens ```Kreis```, die folgende Eigenschaften erfüllt:\n",
    "- sie besitzt die Attribute `x`, `y`, `radius`, `kreisfarbe` und `fuellfarbe`\n",
    "- sie besitzt einen Konstruktor, an den Initialwerte aller Attribute übergeben werden können\n",
    "- sie besitzt für jedes der Attribute getter-Methoden\n",
    "- sie besitzt eine Methode `verschiebe(deltax, deltay)`, welche die Attribute `x` und `y` um `deltax` bzw. `deltay` verschiebt.\n",
    "\n",
    "Wählen Sie geeignete Typen für Attribute, Parameter und Rückgabetypen und begründen Sie die Wahl jedes (!) dieser Typen mit einem Kommentar."
   ]
  },
  {
   "cell_type": "code",
   "execution_count": null,
   "metadata": {
    "collapsed": false,
    "nbgrader": {
     "grade": true,
     "grade_id": "a1a-sol",
     "locked": false,
     "points": 6,
     "solution": true
    }
   },
   "outputs": [],
   "source": [
    "class Kreis {\n",
    "    private double x, y; // x und y als Double, um sie präzise platzieren zu können\n",
    "    private double radius; // entsprechend ebenfalls als double\n",
    "    private String kreisfarbe, fuellfarbe; // als String, um mir die Definition weiterer Typen zu ersparen\n",
    "\n",
    "    public Kreis(double x, double y, double radius, String kreisfarbe, String fuellfarbe) {\n",
    "        // die Typen der Parameter entsprechen den Attributtypen\n",
    "        this.x = x;\n",
    "        this.y = y;\n",
    "        this.radius = radius;\n",
    "        this.kreisfarbe = kreisfarbe;\n",
    "        this.fuellfarbe = fuellfarbe;\n",
    "    }\n",
    "    \n",
    "    public double getX() { // Typ des Rückgabewerts entspricht Attributtyp\n",
    "        return x;\n",
    "    }\n",
    "    \n",
    "    public double getY() { // Typ des Rückgabewerts entspricht Attributtyp\n",
    "        return y;\n",
    "    }\n",
    "    \n",
    "    public double getRadius() { // Typ des Rückgabewerts entspricht Attributtyp\n",
    "        return radius;\n",
    "    }\n",
    "    \n",
    "    public String getKreisfarbe() { // Typ des Rückgabewerts entspricht Attributtyp\n",
    "        return kreisfarbe;\n",
    "    }\n",
    "\n",
    "    public String getFuellfarbe() { // Typ des Rückgabewerts entspricht Attributtyp\n",
    "        return fuellfarbe;\n",
    "    }    \n",
    "}"
   ]
  },
  {
   "cell_type": "markdown",
   "metadata": {
    "nbgrader": {
     "grade": false,
     "grade_id": "a2",
     "locked": true,
     "solution": false
    }
   },
   "source": [
    "# Aufgabe 2:"
   ]
  },
  {
   "cell_type": "markdown",
   "metadata": {
    "nbgrader": {
     "grade": false,
     "grade_id": "a2a",
     "locked": true,
     "solution": false
    }
   },
   "source": [
    "## a)\n",
    "\n",
    "Betrachten Sie den Java-Code in der folgenden Zelle:"
   ]
  },
  {
   "cell_type": "code",
   "execution_count": null,
   "metadata": {
    "collapsed": false,
    "nbgrader": {
     "grade": false,
     "grade_id": "a2a-code",
     "locked": true,
     "solution": false
    }
   },
   "outputs": [],
   "source": [
    "class C {\n",
    "    int a;\n",
    "    static int b;\n",
    "    \n",
    "    void method() {\n",
    "        a++;\n",
    "        b++;\n",
    "    }\n",
    "    \n",
    "    void printAttrs() {\n",
    "        System.out.println(\"a: \" + a);\n",
    "        System.out.println(\"b: \" + b);\n",
    "    }\n",
    "}\n",
    "\n",
    "C c1 = new C();\n",
    "C c2 = new C();\n",
    "c1.method();\n",
    "c2.method();\n",
    "c2.printAttrs();"
   ]
  },
  {
   "cell_type": "markdown",
   "metadata": {
    "nbgrader": {
     "grade": false,
     "grade_id": "a2a-hint",
     "locked": true,
     "solution": false
    }
   },
   "source": [
    "Erklären Sie, weshalb die Attribute `a` und `b` von `c2` unterschiedliche Werte haben."
   ]
  },
  {
   "cell_type": "markdown",
   "metadata": {
    "collapsed": false,
    "nbgrader": {
     "grade": true,
     "grade_id": "a2a-sol",
     "locked": false,
     "points": 1,
     "solution": true
    }
   },
   "source": [
    "Dies liegt daran, dass das Attribut `b` statisch ist, d.h. es existiert nur einmal pro Klasse.\n",
    "Daher wird sein Wert sowohl beim Aufruf `c1.method();` als auch beim Aufruf `c2.method();` um eins erhöht."
   ]
  },
  {
   "cell_type": "markdown",
   "metadata": {
    "nbgrader": {
     "grade": false,
     "grade_id": "a2b",
     "locked": true,
     "solution": false
    }
   },
   "source": [
    "## b)\n",
    "\n",
    "Betrachten Sie den Java-Code in der folgenden Zelle:"
   ]
  },
  {
   "cell_type": "code",
   "execution_count": null,
   "metadata": {
    "collapsed": false,
    "nbgrader": {
     "grade": false,
     "grade_id": "a2b-code",
     "locked": true,
     "solution": false
    }
   },
   "outputs": [],
   "source": [
    "class Drucker {\n",
    "    public void verarbeite_druckauftrag() {\n",
    "        // ...\n",
    "        drucke();\n",
    "    }\n",
    "    \n",
    "    public void drucke() {\n",
    "        System.out.println(\"Der Drucker druckt ganz rudimentär.\");\n",
    "    }\n",
    "}\n",
    "\n",
    "class Farbdrucker extends Drucker {\n",
    "    public void drucke() {\n",
    "        System.out.println(\"Der Drucker druckt in Farbe.\");\n",
    "    }\n",
    "}\n",
    "\n",
    "Farbdrucker fd = new Farbdrucker();\n",
    "fd.verarbeite_druckauftrag();"
   ]
  },
  {
   "cell_type": "markdown",
   "metadata": {
    "collapsed": true,
    "nbgrader": {
     "grade": false,
     "grade_id": "a2b-question",
     "locked": true,
     "solution": false
    }
   },
   "source": [
    "Erklären Sie, weshalb die Methode `drucke()` von `Farbdrucker` (und nicht von `Drucker`) aufgerufen wird."
   ]
  },
  {
   "cell_type": "markdown",
   "metadata": {
    "collapsed": false,
    "nbgrader": {
     "grade": true,
     "grade_id": "a2b-sol",
     "locked": false,
     "points": 1,
     "solution": true
    },
    "scrolled": true
   },
   "source": [
    "Dies liegt an der dynamischen Methodenbindung: `fd` verweist auf ein Objekt der Klasse `Farbdrucker`, weshalb jedes Mal, wenn die Methode `drucke()` aufgerufen wird, die aus der Klasse `Farbdrucker` genommen wird."
   ]
  },
  {
   "cell_type": "markdown",
   "metadata": {
    "nbgrader": {
     "grade": false,
     "grade_id": "a2c",
     "locked": true,
     "solution": false
    }
   },
   "source": [
    "## c)\n",
    "\n",
    "Angenommen, folgender Code würde **anschließend** ausgeführt:\n",
    "```java\n",
    "Drucker d = (Drucker)fd;\n",
    "d.verarbeite_druckauftrag();\n",
    "```\n",
    "Würde hierdurch eine andere Ausgabe erzeugt? Begründen Sie!"
   ]
  },
  {
   "cell_type": "markdown",
   "metadata": {
    "collapsed": false,
    "nbgrader": {
     "grade": true,
     "grade_id": "a2c-sol",
     "locked": false,
     "points": 1,
     "solution": true
    }
   },
   "source": [
    "Nein. Ein expliziter Typecast auf `Drucker` ändert nichts daran, dass das Objekt immer noch von der Klasse `Farbdrucker` ist."
   ]
  },
  {
   "cell_type": "markdown",
   "metadata": {
    "nbgrader": {
     "grade": false,
     "grade_id": "a2d",
     "locked": true,
     "solution": false
    }
   },
   "source": [
    "## d)\n",
    "\n",
    "Betrachten Sie folgenden Java-Code:\n",
    "```java\n",
    "class Ober {\n",
    "    private int a;\n",
    "    String b;\n",
    "    protected double c;\n",
    "    public boolean d;\n",
    "    \n",
    "    private int m(int x) {\n",
    "        return x + 1;    \n",
    "    }\n",
    "    \n",
    "    void n() {\n",
    "        System.out.println(\"m(2) ist: \" + m(2));\n",
    "    }\n",
    "    \n",
    "    protected int toNumber(String sNum) {\n",
    "        return Integer.parseInt(sNum);\n",
    "    }\n",
    "    \n",
    "    public double blubb() {\n",
    "        return a;\n",
    "    }\n",
    "}\n",
    "\n",
    "class Unter extends Ober {\n",
    "    // ...\n",
    "}\n",
    "```\n",
    "Auf welche Attribute und Methoden der Klasse `Ober` kann innerhalb von Methoden, die in der Klasse `Unter` definiert werden, zugegriffen bzw. nicht zugegriffen werden?\n",
    "Begründen Sie für jedes Attribut / jede Methode einzeln."
   ]
  },
  {
   "cell_type": "markdown",
   "metadata": {
    "collapsed": false,
    "nbgrader": {
     "grade": true,
     "grade_id": "a2d-sol",
     "locked": false,
     "points": 4,
     "solution": true
    }
   },
   "source": [
    "`a`: nein, da private (private bedeutet: nur in der Klasse selber)\n",
    "\n",
    "`b`: ja, da paketsichtbar (und die Unterklasse ist in derselben Datei)\n",
    "\n",
    "`c`: ja, da protected (sichtbar in Klasse selbst und allen Unterklassen)\n",
    "\n",
    "`d`: ja, da public (von überall aus sichtbar)\n",
    "\n",
    "`m`: nein, da private (s.o.)\n",
    "\n",
    "`n`: ja, da paketsichbar (s.o.)\n",
    "\n",
    "`toNumber`: ja, da protected (s.o.)\n",
    "\n",
    "`blubb`: ja, da public (s.o.)"
   ]
  },
  {
   "cell_type": "markdown",
   "metadata": {
    "nbgrader": {
     "grade": false,
     "grade_id": "a3",
     "locked": true,
     "solution": false
    }
   },
   "source": [
    "# Aufgabe 3:\n"
   ]
  },
  {
   "cell_type": "markdown",
   "metadata": {
    "nbgrader": {
     "grade": false,
     "grade_id": "a3a",
     "locked": true,
     "solution": false
    }
   },
   "source": [
    "## a) \n",
    "\n",
    "Schreiben Sie folgende zwei Klassen:\n",
    "\n",
    "1) Eine **abstrakte** Klasse namens `Lebewesen`, die folgende Attribute und Methoden besitzt:\n",
    "* ein `int`-Attribut namens `alter`,\n",
    "* eine abstrakte Methode namens `pruefeAlter()` mit einem `boolean` als Rückgabetyp und\n",
    "* eine Methode `altere()` (ohne Rückgabewert), in welcher das Alter um eins erhöht wird, sofern ein Aufruf der Methode `pruefeAlter()` `true` zurückgibt.\n",
    "\n",
    "2) Eine Klasse namens `Mensch`, welche eine **konkrete** Unterklasse der Klasse `Lebewesen` ist:\n",
    "* die Methode `pruefeAlter()` soll in ihr `true` zurückgeben, wenn `alter` mindestens 0 und höchstens 150 ist (sie muss sonst keine weiteren Attribute / Methoden enthalten)."
   ]
  },
  {
   "cell_type": "code",
   "execution_count": null,
   "metadata": {
    "collapsed": false,
    "nbgrader": {
     "grade": true,
     "grade_id": "a3a-sol",
     "locked": false,
     "points": 3,
     "solution": true
    }
   },
   "outputs": [],
   "source": [
    "abstract class Lebewesen {\n",
    "    int alter;\n",
    "    \n",
    "    abstract boolean pruefeAlter();\n",
    "    \n",
    "    void altere() {\n",
    "        if (pruefeAlter())\n",
    "            alter++;\n",
    "    }\n",
    "}\n",
    "\n",
    "class Mensch extends Lebewesen {\n",
    "    @Override\n",
    "    boolean pruefeAlter() {\n",
    "        return alter >= 0 && alter <= 150;\n",
    "    }    \n",
    "}"
   ]
  },
  {
   "cell_type": "markdown",
   "metadata": {
    "nbgrader": {
     "grade": false,
     "grade_id": "a3b",
     "locked": true,
     "solution": false
    }
   },
   "source": [
    "## b) \n",
    "\n",
    "Schreiben Sie ein Interface namens `StringBeobachter`.\n",
    "Es soll eine Methode namens `benachrichtige` mit den Parametern `id` (int) und `neuerWert` (String) beinhalten, welche keinen Wert zurückgibt.\n",
    "\n",
    "Schreiben Sie anschließend eine Klasse `Anzeige`, welche dieses Interface implementiert.\n",
    "Bei Aufruf der Methode sollen beide Parameter auf der Konsole ausgegeben werden."
   ]
  },
  {
   "cell_type": "code",
   "execution_count": null,
   "metadata": {
    "collapsed": true,
    "nbgrader": {
     "grade": true,
     "grade_id": "a3b-sol",
     "locked": false,
     "points": 2,
     "solution": true
    }
   },
   "outputs": [],
   "source": [
    "interface StringBeobachter {\n",
    "    void benachrichtige(int id, String neuerWert);\n",
    "}\n",
    "\n",
    "class Anzeige implements StringBeobachter {\n",
    "    @Override\n",
    "    public void benachrichtige(int id, String neuerWert) {\n",
    "        System.out.println(\"Beobachtetes Objekt mit der ID\" + id\n",
    "                + \"hat jetzt folgenden Wert: \" + neuerWert);            \n",
    "    }    \n",
    "}"
   ]
  },
  {
   "cell_type": "markdown",
   "metadata": {
    "nbgrader": {
     "grade": false,
     "grade_id": "a3c",
     "locked": true,
     "solution": false
    }
   },
   "source": [
    "## c) \n",
    "\n",
    "Beschreiben Sie in eigenen Worten, was in Java (abgesehen von der Syntax) die Unterschiede zwischen Interfaces und abstrakten Klassen sind."
   ]
  },
  {
   "cell_type": "markdown",
   "metadata": {
    "collapsed": true,
    "nbgrader": {
     "grade": true,
     "grade_id": "a3c-sol",
     "locked": false,
     "points": 2,
     "solution": true
    }
   },
   "source": [
    "Interfaces: \n",
    "* werden von Klassen implementiert (Schlüsselwort implements), nicht geerbt (Interfaces können allerdings an andere Interfaces vererbt werden)\n",
    "* enthalten nur Methodenköpfe (keine Methodenrümpfe, keine Attribute)\n",
    "\n",
    "Abstrakte Klassen:\n",
    "* werden geerbt (Schlüsselwort extends)\n",
    "* enthalten abstrakte Methoden (nur Köpfe) oder vollständige Methoden\n",
    "* können Attribute enthalten"
   ]
  }
 ],
 "metadata": {
  "anaconda-cloud": {},
  "celltoolbar": "Create Assignment",
  "kernelspec": {
   "display_name": "Java 9",
   "language": "java",
   "name": "java"
  },
  "language_info": {
   "file_extension": ".class",
   "mimetype": "application/java-vm",
   "name": "java"
  }
 },
 "nbformat": 4,
 "nbformat_minor": 1
}
