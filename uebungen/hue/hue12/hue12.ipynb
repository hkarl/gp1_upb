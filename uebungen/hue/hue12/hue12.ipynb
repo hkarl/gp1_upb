{
 "cells": [
  {
   "cell_type": "markdown",
   "metadata": {
    "collapsed": true,
    "nbgrader": {
     "grade": true,
     "grade_id": "matrikel",
     "locked": false,
     "points": 0,
     "solution": true
    },
    "slideshow": {
     "slide_type": "skip"
    }
   },
   "source": [
    "Bitte hier eintragen (s.u)!"
   ]
  },
  {
   "cell_type": "markdown",
   "metadata": {
    "nbgrader": {
     "grade": false,
     "grade_id": "matrikel_info",
     "locked": true,
     "solution": false
    },
    "slideshow": {
     "slide_type": "skip"
    }
   },
   "source": [
    "# Abgabehinweise \n",
    "\n",
    "Beachten Sie unbedingt diese Hinweise, sonst erhalten Sie keine Punkte aus dieser Abgabe! Für Details siehe z.B. [Folien der nullten Zentralübung](http://groups.uni-paderborn.de/fg-karl/lehre/ws1617/gp1/hue/gp1-zue0.pdf)\n",
    "\n",
    "## Namen und Matrikelnummern \n",
    "\n",
    "Tragen Sie Ihre Matrikelnummern und E-Mail-Adressen *zeilenweise* in die Zelle **oberhalb** dieser Zelle ein.\n",
    "Achten Sie dabei streng auf die Formatierung, denn die Auswertung erfolgt automatisch. \n",
    "Benutzen Sie *keine* Leerzeilen.\n",
    "Zwischen Matrikelnummer und E-Mail-Adresse *muss genau ein* Leerzeichen stehen; sonst keine Leerzeichen, Tabs, Spiegelstriche, oder ähnliches in einer Zeile. Wir empfehlen *dringend* die Benutzung der Uni-Paderborn E-Mail-Adressen! \n",
    "\n",
    "<!--- Wenn Sie diese Ansicht verwenden (was Sie nicht tun sollten; klicken Sie am besten einmal auf \"Run cell\"), dann steht die Formatierung hier richtig:\n",
    "\n",
    "Format:\n",
    "\n",
    "MatrikelNummer E-Mail-Adresse\n",
    "MatrikelNummer2 E-Mail-Adresse2\n",
    "\n",
    "z.B.:\n",
    "\n",
    "123456 testStudent@mail.upb.de\n",
    "234567 testStudent2@mail.upb.de\n",
    "345678 vorname.nachname@mail.upb.de\n",
    "\n",
    "... und nicht hier: -->\n",
    "\n",
    "Format:\n",
    "\n",
    "MatrikelNummer E-Mail-Adresse\n",
    "<br \\>\n",
    "MatrikelNummer2 E-Mail-Adresse2\n",
    "\n",
    "z.B.:\n",
    "\n",
    "123456 testStudent@mail.upb.de\n",
    "<br \\>\n",
    "234567 testStudent2@mail.upb.de\n",
    "<br \\>\n",
    "345678 vorname.nachname@mail.upb.de\n",
    "\n",
    "Hinweis: Wenn Sie das so in die obere Zelle eingeben, wird in der ausgeführten Markdownzelle (Strg+Enter) alles in einer Zeile angezeigt. Das ist egal; wichtig ist Formatierung der Eingabe.\n",
    "\n",
    "\n",
    "## Abgabe mit Gruppenaccount \n",
    "\n",
    "Die Abgabe muss mit Ihrem *Gruppenaccount* erfolgen (gp1\\_16\\_...), den Sie in der Präsenzübung erhalten haben! Abgaben, die über Ihren Einzelaccount erfolgen, werden ignoriert. \n",
    "\n",
    "## Abgabe: Submit \n",
    "\n",
    "Es reicht nicht, nur das Übungsblatt zu verändern. Sie müssen unter *Assignments* auf *Submit* clicken (oder entsprechend über die Kommandozeile), für das entsprechende Übungsblatt! (Wenn Sie Blatt 12 abgeben wolllen hilft es nicht, bei Blatt 1 auf Submit zu drücken!) Für Details siehe Beschreibung Abgabeprozess. \n",
    "\n",
    "## Dateinamen\n",
    "\n",
    "Geben Sie Ihre Lösung in der vom Server erhaltenen Datei hue12.ipynb ab (nicht umbenennen, keine Kopie erstellen, keine anderen Dateien in das Verzeichnis legen). Sonst kann eine Bewertung nicht stattfinden.\n",
    "\n",
    "## Struktur des Notebooks \n",
    "\n",
    "Fügen Sie keine Zellen hinzu und löschen Sie keine Zellen.\n",
    "Ändern Sie nicht den Typ einer Zelle.\n",
    "Geben Sie Lösungen nur in den Lösungszellen ab. Änderungen in den anderen Zellen werden nach Abgabe automatisch rückgängig gemacht.\n",
    "\n",
    "\n",
    "\n",
    "# Abgabetermin: 05.02.2017 um 23:59 Uhr"
   ]
  },
  {
   "cell_type": "markdown",
   "metadata": {
    "nbgrader": {
     "grade": false,
     "grade_id": "a1",
     "locked": true,
     "solution": false
    },
    "slideshow": {
     "slide_type": "slide"
    }
   },
   "source": [
    "# Aufgabe 1:"
   ]
  },
  {
   "cell_type": "markdown",
   "metadata": {
    "nbgrader": {
     "grade": false,
     "grade_id": "a1a",
     "locked": true,
     "solution": false
    },
    "slideshow": {
     "slide_type": "fragment"
    }
   },
   "source": [
    "## a)\n",
    "\n",
    "Betrachten Sie den folgenden Java-Code:\n",
    "```Java\n",
    "class Fehler {\n",
    "    public static void main(String[] args) {\n",
    "        a = 15;\n",
    "        int b = 23.1\n",
    "        \n",
    "        for (i = 0, i < 100, i++)\n",
    "            System.out.println(i);\n",
    "        \n",
    "        int c = 50;\n",
    "        if c > 100 {\n",
    "            String s = \"True\";\n",
    "        } else ;\n",
    "        \n",
    "        while (c > 0);\n",
    "            c--;\n",
    "    }\n",
    "}\n",
    "```\n",
    "\n",
    "Benennen Sie alle Fehler oder möglichen Missverständnisse in diesem Code und erklären Sie jeweils, was genau das Problem ist."
   ]
  },
  {
   "cell_type": "markdown",
   "metadata": {
    "nbgrader": {
     "grade": true,
     "grade_id": "a1a-sol",
     "locked": false,
     "points": 3,
     "solution": true
    },
    "slideshow": {
     "slide_type": "subslide"
    }
   },
   "source": [
    "* a = 15; <-- Variable wurde nicht deklariert\n",
    "* int b = 23.1 <-- Zuweisung eines doubles an einen int nicht möglich und\n",
    "* In der gleichen Zeile fehlt das Semikolon am Ende \n",
    "* for (i = 0, i < 100, i++) <-- i wurde nicht deklariert (\"int\" fehlt)\n",
    "* for (i = 0, i < 100, i++) <-- Komma statt Semikolon\n",
    "* if c > 100 { <-- Klammern um die if-Bedingung fehlen\n",
    "* while (c > 0); <-- Einrückung des Codes lässt erkennen, dass das Semikolon keine Absicht ist. Also Missverständnis-Gefahr. "
   ]
  },
  {
   "cell_type": "markdown",
   "metadata": {
    "collapsed": true,
    "nbgrader": {
     "grade": false,
     "grade_id": "a1b",
     "locked": true,
     "solution": false
    },
    "slideshow": {
     "slide_type": "subslide"
    }
   },
   "source": [
    "## b)\n",
    "\n",
    "Führen Sie den Java-Code in der nachfolgenden Zelle aus.\n",
    "Erklären Sie, wie die Ausgabe zustande kommt."
   ]
  },
  {
   "cell_type": "code",
   "execution_count": null,
   "metadata": {
    "collapsed": false,
    "nbgrader": {
     "grade": false,
     "grade_id": "a1b-code",
     "locked": true,
     "solution": false
    },
    "slideshow": {
     "slide_type": "fragment"
    }
   },
   "outputs": [],
   "source": [
    "Byte a = 100;\n",
    "while (a > 0) \n",
    "    a++;\n",
    "System.out.println(a);"
   ]
  },
  {
   "cell_type": "markdown",
   "metadata": {
    "nbgrader": {
     "grade": true,
     "grade_id": "a1b-sol",
     "locked": false,
     "points": 2,
     "solution": true
    },
    "slideshow": {
     "slide_type": "fragment"
    }
   },
   "source": [
    "Es findet ein Überlauf statt.\n",
    "Der Datentyp Byte kann Werte von -128 bis +127 speichern.\n",
    "Wird auf den Wert 127 noch eine 1 aufaddiert, nimmt die Variable anschließend den Wert -128 an.\n",
    "(Argumentation über Binärdarstellung ist hier nicht gefordert.)"
   ]
  },
  {
   "cell_type": "markdown",
   "metadata": {
    "nbgrader": {
     "grade": false,
     "grade_id": "a1c",
     "locked": true,
     "solution": false
    },
    "slideshow": {
     "slide_type": "subslide"
    }
   },
   "source": [
    "## c)\n",
    "\n",
    "Erweitern Sie den Code in der folgenden Zelle, so dass die in den Kommentaren geforderten Anforderungen erfüllt werden."
   ]
  },
  {
   "cell_type": "code",
   "execution_count": null,
   "metadata": {
    "collapsed": false,
    "nbgrader": {
     "grade": true,
     "grade_id": "a1c-sol",
     "locked": false,
     "points": 3,
     "solution": true
    },
    "slideshow": {
     "slide_type": "fragment"
    }
   },
   "outputs": [],
   "source": [
    "int a = 15;\n",
    "float b = 12.0f;\n",
    "double c = 13.0;\n",
    "double d = 12.5;\n",
    "\n",
    "// d soll der Wert von c (durch Variablenzuweisung, \n",
    "// nicht einfach den Wert hinschreiben!) zugewiesen werden:\n",
    "// BEGIN SOLUTION\n",
    "d = c;\n",
    "// END SOLUTION\n",
    "\n",
    "// b soll der Wert von c (durch Variablenzuweisung, \n",
    "// nicht einfach den Wert hinschreiben!) zugewiesen werden:\n",
    "// BEGIN SOLUTION\n",
    "b = (float)c;\n",
    "// END SOLUTION\n",
    "\n",
    "// a soll der Wert von c (durch Variablenzuweisung, \n",
    "// nicht einfach den Wert hinschreiben!) zugewiesen werden:\n",
    "// BEGIN SOLUTION\n",
    "a = (int)c;\n",
    "// END SOLUTION"
   ]
  },
  {
   "cell_type": "markdown",
   "metadata": {
    "nbgrader": {
     "grade": false,
     "grade_id": "a1x",
     "locked": true,
     "solution": false
    },
    "slideshow": {
     "slide_type": "subslide"
    }
   },
   "source": [
    "## d)\n",
    "\n",
    "Betrachten Sie zunächst den Code in der folgenden Zelle."
   ]
  },
  {
   "cell_type": "code",
   "execution_count": null,
   "metadata": {
    "collapsed": false,
    "nbgrader": {
     "grade": false,
     "grade_id": "a1x-code",
     "locked": true,
     "solution": false
    },
    "slideshow": {
     "slide_type": "fragment"
    }
   },
   "outputs": [],
   "source": [
    "int x = 123;\n",
    "float y = x / 15;\n",
    "\n",
    "float a = 123;\n",
    "float b = a / 15;\n",
    "\n",
    "System.out.println(y);\n",
    "System.out.println(b);"
   ]
  },
  {
   "cell_type": "markdown",
   "metadata": {
    "nbgrader": {
     "grade": false,
     "grade_id": "a1x2",
     "locked": true,
     "solution": false
    },
    "slideshow": {
     "slide_type": "fragment"
    }
   },
   "source": [
    "Warum werden zwei verschiedene Werte ausgegeben?\n",
    "Finden Sie eine Erklärung hierfür und formulieren Sie diese in eigenen Worten.\n",
    "\n",
    "Tipp: Recherchieren Sie zum Thema \"überladene Operatoren\"."
   ]
  },
  {
   "cell_type": "markdown",
   "metadata": {
    "nbgrader": {
     "grade": true,
     "grade_id": "a1x-sol",
     "locked": false,
     "points": 1,
     "solution": true
    },
    "slideshow": {
     "slide_type": "fragment"
    }
   },
   "source": [
    "Der / Operator in Java ist überladen. \n",
    "Wird er mit zwei ganzzahligen Parametern aufgerufen, dann (und nur dann) wird eine ganzzahlige Division durchgeführt.\n",
    "Andernfalls wird eine nicht-ganzzahlige Division durchgeführt (und ganzzahlige Parameter ggf. in nicht-ganzzahlige konveriert)."
   ]
  },
  {
   "cell_type": "markdown",
   "metadata": {
    "nbgrader": {
     "grade": false,
     "grade_id": "a1d",
     "locked": true,
     "solution": false
    },
    "slideshow": {
     "slide_type": "subslide"
    }
   },
   "source": [
    "## e)\n",
    "\n",
    "Definieren Sie ein zweidimensionales Array namens `werte` mit äußerer Dimension 4 und innerer Dimension 2, welches folgende Werte enthalte: 19 und 3, 2 und 4, 6 und 7 sowie 23 und 42.\n",
    "Das heißt, am Indexpaar 0, 1 soll der Wert 3 gespeichert sein, am Indexpaar 3, 0 soll der Wert 23 gespeichert sein usw.\n",
    "\n",
    "Lassen Sie anschließend den Inhalt des Arrays so auf der Konsole ausgeben, dass der Inhalt des Arrays erkennbar wird.\n",
    "Verwenden Sie hierzu zwei verschachtelte `for`-Schleifen."
   ]
  },
  {
   "cell_type": "code",
   "execution_count": null,
   "metadata": {
    "collapsed": false,
    "nbgrader": {
     "grade": true,
     "grade_id": "a1d-sol",
     "locked": false,
     "points": 2,
     "solution": true
    },
    "slideshow": {
     "slide_type": "fragment"
    }
   },
   "outputs": [],
   "source": [
    "int[][] werte = { {19, 3}, {2, 4}, {6, 7}, {23, 42} };\n",
    "\n",
    "System.out.println(\"Inhalt des Arrays:\");\n",
    "for (int i = 0; i < werte.length; i++) {\n",
    "    for (int j = 0; j < werte[i].length; j++)\n",
    "        System.out.print(werte[i][j] + \" \");\n",
    "    System.out.println();\n",
    "}"
   ]
  },
  {
   "cell_type": "markdown",
   "metadata": {
    "nbgrader": {
     "grade": false,
     "grade_id": "a1e",
     "locked": true,
     "solution": false
    },
    "slideshow": {
     "slide_type": "subslide"
    }
   },
   "source": [
    "## f)\n",
    "\n",
    "In der folgenden Code-Zelle ist die Deklaration einer Methode bereits vorgegeben.\n",
    "Diese Methode hat einen Parameter namens `rang`.\n",
    "Abhängig vom Wert dieser Variable sollen folgende Ausgaben erzeugt werden:\n",
    "* Ist der Wert der Variable \"Professor\", soll auf der Konsole \"Du darfst Arbeit an Mitarbeiter delegieren. Du darfst Arbeit an Tutoren delegieren. Du darfst Arbeit an Studierende delegieren. Du darfst Arbeit selbst erledigen.\" ausgegeben werden.\n",
    "* Ist der Wert der Variable \"Mitarbeiter\", soll auf der Konsole \"Du darfst Arbeit an Tutoren delegieren. Du darfst Arbeit an Studierende delegieren. Du darfst Arbeit selbst erledigen.\" ausgegeben werden.\n",
    "* Ist der Wert der Variable \"Tutor\", soll auf der Konsole \"Du darfst Arbeit an Studierende delegieren. Du darfst Arbeit selbst erledigen.\" ausgegeben werden.\n",
    "* Bei allen anderen Werten der Variable `rang` soll auf der Konsole \"Du darfst Arbeit selbst erledigen.\" ausgegeben werden.\n",
    "\n",
    "Ergänzen Sie die Methode, um die gewünschte Ausgabe zu erzeugen.\n",
    "Verwenden Sie hier die `switch`-Anweisung. \n",
    "Ein möglicher Ausgabesatz darf nur einmal im Code vorkommen (DRY)!"
   ]
  },
  {
   "cell_type": "code",
   "execution_count": null,
   "metadata": {
    "collapsed": false,
    "nbgrader": {
     "grade": true,
     "grade_id": "a1e-sol",
     "locked": false,
     "points": 2,
     "solution": true
    },
    "scrolled": false,
    "slideshow": {
     "slide_type": "subslide"
    }
   },
   "outputs": [],
   "source": [
    "void rechtepruefung(String rang) {\n",
    "    // BEGIN SOLUTION\n",
    "    switch (rang) {\n",
    "    case \"Professor\": \n",
    "        System.out.print(\"Du darfst Arbeit an Mitarbeiter delegieren. \");\n",
    "    /* falls through */\n",
    "    case \"Mitarbeiter\":\n",
    "        System.out.print(\"Du darfst Arbeit an Tutoren delegieren. \");\n",
    "    /* falls through */\n",
    "    case \"Tutor\":\n",
    "        System.out.print(\"Du darfst Arbeit an Studierende delegieren. \");\n",
    "    /* falls through */            \n",
    "    default:\n",
    "        System.out.print(\"Du darfst Arbeit selbst erledigen. \");\n",
    "    }  \n",
    "    System.out.println();\n",
    "    // END SOLUTION\n",
    "}"
   ]
  },
  {
   "cell_type": "code",
   "execution_count": null,
   "metadata": {
    "collapsed": true,
    "nbgrader": {
     "grade": false,
     "grade_id": "a1e-test",
     "locked": true,
     "solution": false
    },
    "slideshow": {
     "slide_type": "skip"
    }
   },
   "outputs": [],
   "source": [
    "rechtepruefung(\"Professor\");\n",
    "rechtepruefung(\"Mitarbeiter\");\n",
    "rechtepruefung(\"Tutor\");\n",
    "rechtepruefung(\"GP1-Student\");"
   ]
  },
  {
   "cell_type": "markdown",
   "metadata": {
    "nbgrader": {
     "grade": false,
     "grade_id": "a2",
     "locked": true,
     "solution": false
    },
    "slideshow": {
     "slide_type": "slide"
    }
   },
   "source": [
    "# Aufgabe 2:"
   ]
  },
  {
   "cell_type": "markdown",
   "metadata": {
    "nbgrader": {
     "grade": false,
     "grade_id": "a2a",
     "locked": true,
     "solution": false
    },
    "slideshow": {
     "slide_type": "fragment"
    }
   },
   "source": [
    "## a)\n",
    "\n",
    "Wandeln Sie den folgenden Python-Code in einen entsprechenden Java-Code um.\n",
    "Verwenden Sie hierzu `if` und `else`.\n",
    "Nutzen Sie eine Variable `c` wie im Python-Code und geben den Inhalt dieser Variable aus. \n",
    "\n",
    "```Python\n",
    "    a = 15\n",
    "    \n",
    "    if a > 3:\n",
    "        c = 2\n",
    "    elif a < 1:\n",
    "        c = 4\n",
    "    else:\n",
    "        c = 1\n",
    "        \n",
    "    print(c)\n",
    "        \n",
    "```"
   ]
  },
  {
   "cell_type": "code",
   "execution_count": null,
   "metadata": {
    "collapsed": false,
    "nbgrader": {
     "grade": true,
     "grade_id": "a2a-sol",
     "locked": false,
     "points": 2,
     "solution": true
    },
    "slideshow": {
     "slide_type": "subslide"
    }
   },
   "outputs": [],
   "source": [
    "{\n",
    "// BEGIN SOLUTION\n",
    "int a = 15;\n",
    "int c;\n",
    "\n",
    "if (a > 3)\n",
    "    c = 2;\n",
    "else if (a < 1)\n",
    "    c = 4; \n",
    "else\n",
    "    c = 1;\n",
    "\n",
    "System.out.println(c);\n",
    "// END SOLUTION\n",
    "}"
   ]
  },
  {
   "cell_type": "markdown",
   "metadata": {
    "nbgrader": {
     "grade": false,
     "grade_id": "a2b",
     "locked": true,
     "solution": false
    },
    "slideshow": {
     "slide_type": "subslide"
    }
   },
   "source": [
    "## b)\n",
    "\n",
    "Wandeln Sie den folgenden Python-Code in einen entsprechenden Java-Code um.\n",
    "Verwenden Sie hierzu `while`.\n",
    "\n",
    "```Python\n",
    "zahl = 2068972306\n",
    "\n",
    "qsum = 0\n",
    "\n",
    "while zahl > 0:\n",
    "    qsum += zahl % 10\n",
    "    zahl //= 10\n",
    "\n",
    "print(qsum)        \n",
    "```"
   ]
  },
  {
   "cell_type": "code",
   "execution_count": null,
   "metadata": {
    "collapsed": false,
    "nbgrader": {
     "grade": true,
     "grade_id": "a2b-sol",
     "locked": false,
     "points": 2,
     "solution": true
    },
    "scrolled": true,
    "slideshow": {
     "slide_type": "fragment"
    }
   },
   "outputs": [],
   "source": [
    "int zahl = 2068972306;\n",
    "           \n",
    "int qsum = 0;\n",
    "\n",
    "while (zahl > 0) {\n",
    "    qsum += zahl % 10;\n",
    "    zahl = zahl / 10;\n",
    "}\n",
    "\n",
    "System.out.println(qsum);"
   ]
  },
  {
   "cell_type": "markdown",
   "metadata": {
    "nbgrader": {
     "grade": false,
     "grade_id": "a2c",
     "locked": true,
     "solution": false
    },
    "slideshow": {
     "slide_type": "subslide"
    }
   },
   "source": [
    "## c)\n",
    "\n",
    "Kopieren Sie Ihre Lösung aus Teilaufgabe b) in die folgende Codezelle und verändern Sie sie so, dass anstelle einer `while`-Schleife eine `do-while`-Schleife genutzt wird.\n",
    "Die Semantik (Wert der Variablen nach Ausführung des Codes sowie die Ausgaben) soll allerdings nicht verändert werden.\n",
    "Nehmen Sie an, dass `zahl` stets eine positive Zahl ist. "
   ]
  },
  {
   "cell_type": "code",
   "execution_count": null,
   "metadata": {
    "collapsed": false,
    "nbgrader": {
     "grade": true,
     "grade_id": "a2c-sol",
     "locked": false,
     "points": 1,
     "solution": true
    },
    "slideshow": {
     "slide_type": "fragment"
    }
   },
   "outputs": [],
   "source": [
    "int zahl = 2068972306;\n",
    "           \n",
    "int qsum = 0\n",
    "\n",
    "do {\n",
    "    qsum += zahl % 10;\n",
    "    zahl = zahl / 10;\n",
    "} while (zahl > 0);\n",
    "\n",
    "System.out.println(qsum);"
   ]
  },
  {
   "cell_type": "markdown",
   "metadata": {
    "nbgrader": {
     "grade": false,
     "grade_id": "a3",
     "locked": true,
     "solution": false
    },
    "slideshow": {
     "slide_type": "slide"
    }
   },
   "source": [
    "# Aufgabe 3:\n",
    "\n",
    "Betrachten Sie folgenden Python-Code:\n",
    "```Python\n",
    "L = [ 13, \"ein Wort\", 14.3, True ]\n",
    "```\n",
    "\n",
    "Ist es möglich, diesen Code einfach (d.h. in einer Zeile) in Java umzusetzen?\n",
    "Wenn ja, wie?\n",
    "Wenn nein, warum nicht?"
   ]
  },
  {
   "cell_type": "markdown",
   "metadata": {
    "nbgrader": {
     "grade": true,
     "grade_id": "a3-sol",
     "locked": false,
     "points": 2,
     "solution": true
    },
    "slideshow": {
     "slide_type": "fragment"
    }
   },
   "source": [
    "Nein, da Arrays nur Variablen eines Typs speichern können und die Werte in der Liste L unterschiedlichen Typs sind."
   ]
  }
 ],
 "metadata": {
  "anaconda-cloud": {},
  "celltoolbar": "Create Assignment",
  "kernelspec": {
   "display_name": "Python [conda root]",
   "language": "python",
   "name": "conda-root-py"
  },
  "language_info": {
   "codemirror_mode": {
    "name": "ipython",
    "version": 3
   },
   "file_extension": ".py",
   "mimetype": "text/x-python",
   "name": "python",
   "nbconvert_exporter": "python",
   "pygments_lexer": "ipython3",
   "version": "3.5.2"
  }
 },
 "nbformat": 4,
 "nbformat_minor": 1
}
