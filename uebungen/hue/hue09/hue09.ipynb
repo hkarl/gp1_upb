{
 "cells": [
  {
   "cell_type": "markdown",
   "metadata": {
    "nbgrader": {
     "grade": true,
     "grade_id": "matrikel",
     "locked": false,
     "points": 0,
     "solution": true
    },
    "slideshow": {
     "slide_type": "skip"
    }
   },
   "source": [
    "Bitte hier eintragen (s.u)!"
   ]
  },
  {
   "cell_type": "markdown",
   "metadata": {
    "nbgrader": {
     "grade": false,
     "grade_id": "matrikel_info",
     "locked": true,
     "solution": false
    },
    "slideshow": {
     "slide_type": "skip"
    }
   },
   "source": [
    "# Abgabehinweise \n",
    "\n",
    "Beachten Sie unbedingt diese Hinweise, sonst erhalten Sie keine Punkte aus dieser Abgabe! Für Details siehe z.B. [Folien der nullten Zentralübung](http://groups.uni-paderborn.de/fg-karl/lehre/ws1617/gp1/hue/gp1-zue0.pdf)\n",
    "\n",
    "## Namen und Matrikelnummern \n",
    "\n",
    "Tragen Sie Ihre Matrikelnummern und E-Mail-Adressen *zeilenweise* in die Zelle **oberhalb** dieser Zelle ein.\n",
    "Achten Sie dabei streng auf die Formatierung, denn die Auswertung erfolgt automatisch. \n",
    "Benutzen Sie *keine* Leerzeilen.\n",
    "Zwischen Matrikelnummer und E-Mail-Adresse *muss genau ein* Leerzeichen stehen; sonst keine Leerzeichen, Tabs, Spiegelstriche, oder ähnliches in einer Zeile. Wir empfehlen *dringend* die Benutzung der Uni-Paderborn E-Mail-Adressen! \n",
    "\n",
    "Format:\n",
    "\n",
    "MatrikelNummer E-Mail-Adresse\n",
    "MatrikelNummer2 E-Mail-Adresse2\n",
    "\n",
    "z.B.:\n",
    "\n",
    "123456 testStudent@mail.upb.de\n",
    "234567 testStudent2@mail.upb.de\n",
    "345678 vorname.nachname@mail.upb.de\n",
    "\n",
    "Hinweis: Das sieht nicht nach separaten Zeilen aus, wenn Sie die Markdownzelle anzeigen lassen. Das ist egal; wichtig ist Formatierung der Eingabe.\n",
    "\n",
    "\n",
    "## Abgabe mit Gruppenaccount \n",
    "\n",
    "Die Abgabe muss mit Ihrem *Gruppenaccount* erfolgen (gp1\\_16\\_...), den Sie in der Präsenzübung erhalten haben! Abgaben, die über Ihren Einzelaccount erfolgen, werden ignoriert. \n",
    "\n",
    "## Abgabe: Submit \n",
    "\n",
    "Es reicht nicht, nur das Übungsblatt zu verändern. Sie müssen unter *Assignments* auf *Submit* clicken (oder entsprechend über die Kommandozeile), für das entsprechende Übungsblatt! (Wenn Sie Blatt 9 abgeben wolllen hilft es nicht, bei Blatt 1 auf Submit zu drücken!) Für Details siehe Beschreibung Abgabeprozess. \n",
    "\n",
    "## Dateinamen\n",
    "\n",
    "Geben Sie Ihre Lösung in der vom Server erhaltenen Datei hue09.ipynb ab (nicht umbenennen, keine Kopie erstellen, keine anderen Dateien in das Verzeichnis legen, auch nicht Dateiname hue9.ipynb !). Sonst kann eine Bewertung nicht stattfinden.\n",
    "\n",
    "## Struktur des Notebooks \n",
    "\n",
    "Fügen Sie keine Zellen hinzu und löschen Sie keine Zellen.\n",
    "Ändern Sie nicht den Typ einer Zelle.\n",
    "Geben Sie Lösungen nur in den Lösungszellen ab. Änderungen in den anderen Zellen werden nach Abgabe automatisch rückgängig gemacht.\n",
    "\n",
    "## Code-Zellen \n",
    "\n",
    "Entfernen Sie die Zeilen mit Inhalt \"raise NotImplementedError()\" aus den Zellen, in die Sie Ihre Lösungen schreiben. *Ersetzen* Sie diese Zeilen durch Ihre eigene Lösungen. \n",
    "\n",
    "## Nie ```input```\n",
    "\n",
    "Benutzen Sie *niemals* die Funktion `input()`. Das verhindert die automatische Auswertung Ihrer Abgabe und führt zu 0 Punkten für das gesamte Blatt! \n",
    "\n",
    "## Kommentare \n",
    "\n",
    "Kommentieren Sie Code-Abgaben! Insbesondere *muss* jede Funktion (Klasse, Methode, ...) einen ```docstring``` haben! Bei fehlendem docstring werden automatisch Punkte abgezogen! \n",
    "\n",
    "\n",
    "# Abgabetermin: 15.1.2017 um 23:59 Uhr"
   ]
  },
  {
   "cell_type": "markdown",
   "metadata": {
    "nbgrader": {
     "grade": false,
     "grade_id": "exceptions_desc_1_1",
     "locked": true,
     "solution": false
    }
   },
   "source": [
    "# Aufgabe 1: Exceptions\n",
    "## a)\n",
    "Gegeben ist das (sinnfreie) Programm in der nachfolgenden Codezelle (die Kommentierung wurde aufgrund der Sinnfreiheit des Programms ausgelassen).\n",
    "Begründen Sie für jede `print`-Anweisung (`print('1')` bis `print('8')`), warum diese ausgeführt wird, oder warum nicht."
   ]
  },
  {
   "cell_type": "code",
   "execution_count": null,
   "metadata": {
    "collapsed": false,
    "nbgrader": {
     "grade": false,
     "grade_id": "exceptions_desc_1_2",
     "locked": true,
     "solution": false
    }
   },
   "outputs": [],
   "source": [
    "def func(x, y):\n",
    "    try:\n",
    "        r = x / y\n",
    "    except ZeroDivisionError:\n",
    "        print('1')\n",
    "    else:\n",
    "        try:\n",
    "            print('2', result)\n",
    "        except NameError:\n",
    "            print('3')\n",
    "    finally:\n",
    "        print('4')\n",
    "        raise NameError()\n",
    "\n",
    "\n",
    "try:\n",
    "    func(2, 1)\n",
    "except ZeroDivisionError:\n",
    "    print('5')\n",
    "except NameError:\n",
    "    print('6')\n",
    "else:\n",
    "    print('7', r)\n",
    "finally:\n",
    "    print('8')"
   ]
  },
  {
   "cell_type": "markdown",
   "metadata": {
    "nbgrader": {
     "grade": true,
     "grade_id": "exceptions_sol_1",
     "locked": false,
     "points": 2,
     "solution": true
    }
   },
   "source": [
    "- `print('1')`: Wird nicht ausgeführt, da in der Anweisung `r = x / y` nicht durch `0` geteilt wird.\n",
    "- `print('2')`: Wird zwar zunächst versucht auszuführen, aber da die Variable `result` nicht vorhanden ist, wird stattdessen ein `NameError` geworfen und durch das `except` aufgefangen. Daher erscheint auch keine Ausgabe für `2`.\n",
    "- `print('3')`: Wird ausgeführt, da es sich wie zuvor beschrieben im Block befindet, in welchem der zuvor entstandene `NameError` aufgefangen wird.\n",
    "- `print('4')`: Wird ausgeführt, da es sich im `finally`-Block befindet und dieser immer nach dem `try`-Block ausgeführt wird.\n",
    "- `print('5')`: Wird nicht ausgeführt, da keine Division durch 0 im `try`-Block durchgeführt wird.\n",
    "- `print('6')`: Wird ausgeführt, da hier der `NameError` gefangen wird, welche im `finally`-Block der Funktion `func` geworfen wird.\n",
    "- `print('7')`: Wird nicht ausgeführt, da im `try`-Block ein Fehler gefangen wurde und somit der `else`-Block nicht ausgeführt wird.\n",
    "- `print('8')`: Wird ausgeführt, da es sich im `finally`-Block Befindet."
   ]
  },
  {
   "cell_type": "markdown",
   "metadata": {
    "nbgrader": {
     "grade": false,
     "grade_id": "exception_desc_2",
     "locked": true,
     "solution": false
    }
   },
   "source": [
    "## b)\n",
    "Schreiben Sie Funktionen `f`, `g` und `h`, welche die jeweiligen Fehler werden, die in den Tests gefangen werden sollen. Es ist ihnen nicht gestattet den Befehl `raise` zu verwenden.   \n",
    "*Tipp*: Informieren Sie sich über die einzelnen Fehler in der Python-Dokumentation."
   ]
  },
  {
   "cell_type": "code",
   "execution_count": null,
   "metadata": {
    "collapsed": false,
    "nbgrader": {
     "grade": false,
     "grade_id": "exception_sol_2",
     "locked": false,
     "solution": true
    }
   },
   "outputs": [],
   "source": [
    "def f():\n",
    "    ### BEGIN SOLUTION\n",
    "    \"\"\"Produziert einen KeyError\"\"\"\n",
    "    d = {}\n",
    "    print(d[1])\n",
    "    ### END SOLUTION\n",
    "\n",
    "def g():\n",
    "    ### BEGIN SOLUTION\n",
    "    \"\"\"Produziert einen TypeError\"\"\"\n",
    "    s = '1' + 1\n",
    "    ### END SOLUTION\n",
    "\n",
    "def h():\n",
    "    ### BEGIN SOLUTION\n",
    "    \"\"\"Produziert einen RecursionError\"\"\"\n",
    "    h()\n",
    "    ### END SOLUTION"
   ]
  },
  {
   "cell_type": "code",
   "execution_count": null,
   "metadata": {
    "collapsed": false,
    "nbgrader": {
     "grade": true,
     "grade_id": "exception_test_2_1",
     "locked": true,
     "points": 1,
     "solution": false
    }
   },
   "outputs": [],
   "source": [
    "# Diese Zelle bitte unverändert lassen!\n",
    "try:\n",
    "    f()\n",
    "    assert(False) # Darf nicht ausgeführt werden!\n",
    "except KeyError:\n",
    "    assert(True) # Muss ausgeführt werden!"
   ]
  },
  {
   "cell_type": "code",
   "execution_count": null,
   "metadata": {
    "collapsed": false,
    "nbgrader": {
     "grade": true,
     "grade_id": "exception_test_2_2",
     "locked": true,
     "points": 1,
     "solution": false
    }
   },
   "outputs": [],
   "source": [
    "# Diese Zelle bitte unverändert lassen!\n",
    "try:\n",
    "    g()\n",
    "    assert(False) # Darf nicht ausgeführt werden!\n",
    "except TypeError:\n",
    "    assert(True) # Muss ausgeführt werden!"
   ]
  },
  {
   "cell_type": "code",
   "execution_count": null,
   "metadata": {
    "collapsed": false,
    "nbgrader": {
     "grade": true,
     "grade_id": "exception_test_2_3",
     "locked": true,
     "points": 1,
     "solution": false
    }
   },
   "outputs": [],
   "source": [
    "# Diese Zelle bitte unverändert lassen!\n",
    "try:\n",
    "    h()\n",
    "    assert(False) # Darf nicht ausgeführt werden!\n",
    "except RecursionError:\n",
    "    assert(True) # Muss ausgeführt werden!"
   ]
  },
  {
   "cell_type": "markdown",
   "metadata": {
    "nbgrader": {
     "grade": false,
     "grade_id": "exception_desc_3_1",
     "locked": true,
     "solution": false
    }
   },
   "source": [
    "## c)\n",
    "Vereinfachen Sie das folgende Programm mit Hilfe von `try`/`except`.\n",
    "Die Funktionalität soll dabei nicht verändert werden."
   ]
  },
  {
   "cell_type": "code",
   "execution_count": null,
   "metadata": {
    "collapsed": true,
    "nbgrader": {
     "grade": false,
     "grade_id": "exception_desc_3_2",
     "locked": true,
     "solution": false
    }
   },
   "outputs": [],
   "source": [
    "def print_object(o):\n",
    "    \"\"\"Gibt das Objekt auf der Konsole aus, falls es mit print ausgegeben werden kann, ansonsten wird 'unprintable object'\n",
    "    auf der Konsole ausgegeben.\n",
    "    \n",
    "    Args:\n",
    "        o: Das auszugebende Objekt\n",
    "    \"\"\"\n",
    "    if isinstance(o, str):\n",
    "        print(o)\n",
    "    elif isinstance(o, dict):\n",
    "        print(o)\n",
    "    elif isinstance(o, list):\n",
    "        print(o)\n",
    "    # 97 elifs später...\n",
    "    else:\n",
    "        print(\"unprintable object\")"
   ]
  },
  {
   "cell_type": "code",
   "execution_count": null,
   "metadata": {
    "collapsed": true,
    "nbgrader": {
     "grade": true,
     "grade_id": "exception_sol_3",
     "locked": false,
     "points": 2,
     "solution": true
    }
   },
   "outputs": [],
   "source": [
    "def print_object_einfach(o):\n",
    "    ### BEGIN SOLUTION\n",
    "    \"\"\"Gibt das Objekt auf der Konsole aus, falls es mit print ausgegeben werden kann, ansonsten wird 'unprintable object'\n",
    "    auf der Konsole ausgegeben.\n",
    "    \n",
    "    Args:\n",
    "        o: Das auszugebende Objekt\n",
    "    \"\"\"\n",
    "    try:\n",
    "        print(o)\n",
    "    except TypeError:\n",
    "        print(\"unprintable object\")\n",
    "    ### END SOLUTION"
   ]
  },
  {
   "cell_type": "markdown",
   "metadata": {
    "nbgrader": {
     "grade": false,
     "grade_id": "exception_desc_4",
     "locked": true,
     "solution": false
    }
   },
   "source": [
    "## d)\n",
    "Schreiben Sie eine Funktion `verarbeite_eingabe(zahl, von, bis)`, welche überprüft, ob die Zahl `zahl` sich im Interval `[von, bis]` befindet.\n",
    "Ist dies der Fall, dann soll die Zahl auf der Konsole ausgegeben werden.\n",
    "Sollte dies nicht der Fall sein, so soll ein `BereichsError` geworfen werden, welcher die Zahl `zahl`, sowie die Intervallgrenzen speichert.\n",
    "Erstellen Sie dazu eine eigene Exception `BereichsError`, welche Sie dann mit `raise` werfen können.    "
   ]
  },
  {
   "cell_type": "code",
   "execution_count": null,
   "metadata": {
    "collapsed": false,
    "nbgrader": {
     "grade": false,
     "grade_id": "exception_sol_4",
     "locked": false,
     "points": 3,
     "solution": true
    }
   },
   "outputs": [],
   "source": [
    "### BEGIN SOLUTION\n",
    "class BereichsError(Exception):\n",
    "    \"\"\"Eigener Error, welcher die überprüfte Zahl, sowie die Intervallgrenzen speichern kann.\"\"\"\n",
    "    \n",
    "    def __init__(self, zahl, von, bis):\n",
    "        \"\"\"Konstruktor\"\"\"\n",
    "        self.zahl = zahl\n",
    "        self.von = von\n",
    "        self.bis = bis\n",
    "\n",
    "def verarbeite_eingabe(zahl, von, bis):\n",
    "    \"\"\"Überprüft, ob die Zahl eingabe sich im Interval [von, bis] befindet. Ist dies der Fall, dann wird die \n",
    "    Zahl auf der Konsole ausgegeben. Sollte dies nicht der Fall sein, wird ein BereichsError geworfen, welcher \n",
    "    die Zahl eingabe, sowie die Intervallgrenzen speichert.\n",
    "    \n",
    "    Args:\n",
    "        eingabe: Die zu überprüfende Zahl (int)\n",
    "        von: Linke Intervallgrenze (int)\n",
    "        bis: Rechte Intervallgrenze (int)\n",
    "    \"\"\"\n",
    "    if zahl < von or zahl > bis:\n",
    "        raise BereichsError(zahl, von, bis)\n",
    "    else:\n",
    "        print(str(zahl))\n",
    "### END SOLUTION"
   ]
  },
  {
   "cell_type": "code",
   "execution_count": null,
   "metadata": {
    "collapsed": false,
    "nbgrader": {
     "grade": true,
     "grade_id": "exception_test_4",
     "locked": true,
     "points": 2,
     "solution": false
    }
   },
   "outputs": [],
   "source": [
    "# Diese Zelle bitte unverändert lassen!\n",
    "try:\n",
    "    verarbeite_eingabe(101, 1, 100)\n",
    "    assert(False) # Darf nicht ausgeführt werden!\n",
    "except BereichsError:\n",
    "    assert(True) # Muss ausgeführt werden!\n",
    "### HIDESTART\n",
    "try:\n",
    "    verarbeite_eingabe(0, 1, 1000)\n",
    "    assert(False) # Darf nicht ausgeführt werden!\n",
    "except BereichsError:\n",
    "    assert(True) # Muss ausgeführt werden!\n",
    "### HIDEEND"
   ]
  },
  {
   "cell_type": "markdown",
   "metadata": {
    "nbgrader": {
     "grade": false,
     "grade_id": "exception_desc_5",
     "locked": true,
     "solution": false
    }
   },
   "source": [
    "## e)\n",
    "Rufen Sie nun die Funktion `verarbeite_eingabe` testweise zweimal auf: Der erste Aufruf soll keinen `BereichsError` werfen, der zweite jedoch schon.\n",
    "Fangen Sie den `BereichsError` mithilfe eines `try`/`except`-Block ab.   \n",
    "*Hinweis*: Diese Aufgabe wird manuell korrigiert."
   ]
  },
  {
   "cell_type": "code",
   "execution_count": null,
   "metadata": {
    "collapsed": false,
    "nbgrader": {
     "grade": true,
     "grade_id": "exception_sol_5",
     "locked": false,
     "points": 1,
     "solution": true
    }
   },
   "outputs": [],
   "source": [
    "### BEGIN SOLUTION\n",
    "try:\n",
    "    verarbeite_eingabe(50, 1, 100)\n",
    "    verarbeite_eingabe(101, 1, 100)\n",
    "except BereichsError as e:\n",
    "    print('Bereichserror aufgetreten für eingabe ' + str(e.zahl) + ' und Intervall [' + str(e.von) + ', ' + str(e.bis) + ']')\n",
    "### END SOLUTION"
   ]
  },
  {
   "cell_type": "markdown",
   "metadata": {
    "nbgrader": {
     "grade": false,
     "grade_id": "properties_desc_1",
     "locked": true,
     "solution": false
    }
   },
   "source": [
    "# Aufgabe 2: Uhr mit Properties\n",
    "Schreiben Sie eine Klasse `Uhr`, welche über Properties `minuten` und `stunden` verfügen soll.\n",
    "Implementieren Sie dazu die jeweiligen getter/setter-Methoden und verwenden Sie diese als Properties für die Attribute `minuten` bzw. `stunden`.\n",
    "Bedenken Sie dazu, dass ein Setzen der Minuten (60 Minuten sind eine Stunde!) auch eventuell eine Erhöhung der Stunden implizieren kann.\n",
    "Insbesondere sollen in der Property `minuten` nur Zahlen zwischen `0` und `59` gespeichert werden.\n",
    "Sobald die Stunden `23` betragen und um ein erhöht werden, sollen sie wieder auf `0` zurückgesetzt werden.\n",
    "Implementieren Sie außerdem eine Methode `tic(self)`, welche den Minutenzähler der Uhr um `1` erhöht."
   ]
  },
  {
   "cell_type": "code",
   "execution_count": null,
   "metadata": {
    "collapsed": true,
    "nbgrader": {
     "grade": false,
     "grade_id": "properties_sol_1",
     "locked": false,
     "solution": true
    }
   },
   "outputs": [],
   "source": [
    "class Uhr:\n",
    "    ### BEGIN SOLUTION\n",
    "    \"\"\"Realisiert eine Uhr mit Stunden- und Minutenzähler\"\"\"\n",
    "    def __init__(self, s=0, m=0):\n",
    "        \"\"\"Konstruktor\"\"\"\n",
    "        self._minuten = m\n",
    "        self._stunden = s\n",
    "        \n",
    "    def get_minuten(self):\n",
    "        \"\"\"Liefert den Minutenzähler\"\"\"\n",
    "        return self._minuten\n",
    "    \n",
    "    def get_stunden(self):\n",
    "        \"\"\"Liefert den Stundenzähler\"\"\"\n",
    "        return self._stunden\n",
    "        \n",
    "    def set_minuten(self, minuten):\n",
    "        \"\"\"Setzt den Minutenzähler auf den übergebenen Wert\"\"\"\n",
    "        s = minuten // 60\n",
    "        self._minuten =  minuten % 60\n",
    "        self.stunden += s\n",
    "        \n",
    "    def set_stunden(self, stunden):\n",
    "        \"\"\"Setzt den Stundenzähler auf den übergebenen Wert\"\"\"\n",
    "        self._stunden = stunden % 24        \n",
    "        \n",
    "    minuten = property(get_minuten, set_minuten)\n",
    "    stunden = property(get_stunden, set_stunden)\n",
    "\n",
    "    def tic(self):\n",
    "        \"\"\"Erhöht den Minutenzähler um 1\"\"\"\n",
    "        self.minuten += 1\n",
    "        \n",
    "    def __str__(self):\n",
    "        return(\"{}:{}\".format(self._stunden, self._minuten))\n",
    "    ### END SOLUTION"
   ]
  },
  {
   "cell_type": "code",
   "execution_count": null,
   "metadata": {
    "collapsed": false,
    "nbgrader": {
     "grade": true,
     "grade_id": "properties_test_1",
     "locked": true,
     "points": 3,
     "solution": false
    }
   },
   "outputs": [],
   "source": [
    "# Diese Zelle bitte unverändert lassen!\n",
    "c = Uhr()\n",
    "\n",
    "assert(c.minuten == 0 and c.stunden == 0)\n",
    "\n",
    "for i in range(24):\n",
    "    assert(c.stunden == i)\n",
    "    for j in range(60):\n",
    "        assert(c.minuten == j)\n",
    "        c.tic()\n",
    "assert(c.minuten == 0 and c.stunden == 0)"
   ]
  },
  {
   "cell_type": "markdown",
   "metadata": {
    "nbgrader": {
     "grade": false,
     "grade_id": "schach_desc",
     "locked": true,
     "solution": false
    },
    "slideshow": {
     "slide_type": "slide"
    }
   },
   "source": [
    "# Aufgabe 3: Schach\n",
    "In dieser Aufgabe sollen Sie eine einfache Version eines Schachspiels implementieren.\n",
    "Die Klassen `Feld` und `Figur` sind Ihnen dazu bereits vorgegeben.   \n",
    "\n",
    "*Hinweis*: Die in dieses Notebook eingebundenen Bilder werden Ihnen nur angezeigt, wenn Sie mit dem Internet verbunden sind.\n",
    "\n",
    "## a)\n",
    "Schreiben Sie eine Klasse `Schachbrett`, welche die folgenden Anforderungen erfüllt:\n",
    " - Im Konstruktor soll ein Spielfeld aus 64 Feldern (8x8, 8 Zeilen und 8 Spalten, siehe Bild, siehe Tests) anlegt werden.\n",
    "![Imgur](http://groups.uni-paderborn.de/fg-ti/teaching/gp1/brett.png)\n",
    "\n",
    " - `get_feld(x,y)`: Liefert das Objekt der Klasse `Feld`, welches die übergebenen Koordinaten hat. Falls `x` oder `y` keine korrekten Koordinaten sind (d.h. `not x in range(1,9)` oder `not y in range(1,9)`), dann soll ein `ValueError` geworfen werden.\n",
    " - `setze_figur(figur, x, y)`: Setzt die übergebene Figur auf das Feld mit den übergebenen Koordinaten. Sie können davon ausgehen, dass das Feld nicht besetzt ist und die Figur vorher auf keinem Feld gestanden hat. Beachten Sie, dass die Beziehung zwischen `Feld` und `Figur` bidirektional sein soll, d.h. sobald das Attribut `felf` einer Figur verändert wird, sollte auch das Attribut `figur` des entsprechenden Feldes geändert werden und umgekehrt (siehe Tests)."
   ]
  },
  {
   "cell_type": "code",
   "execution_count": null,
   "metadata": {
    "collapsed": false,
    "nbgrader": {
     "grade": false,
     "grade_id": "schach_code",
     "locked": true,
     "solution": false
    },
    "slideshow": {
     "slide_type": "fragment"
    }
   },
   "outputs": [],
   "source": [
    "class Feld:\n",
    "    \"\"\"Ein einzelnes Feld eines Schachbretts\"\"\"\n",
    "    \n",
    "    def __init__(self, koordinaten):\n",
    "        \"\"\"Konstruktor\"\"\"\n",
    "        self.koordinaten = koordinaten\n",
    "        self.figur = None\n",
    "    \n",
    "    def __eq__(self, feld):\n",
    "        \"\"\"Zum Vergleich mit anderem Feld\"\"\"\n",
    "        return feld.koordinaten[0] == self.koordinaten[0] and feld.koordinaten[1] == self.koordinaten[1]\n",
    "    \n",
    "class Figur:\n",
    "    \"\"\"Eine Figur, welche auf einem Feld des Schachbrettes stehen kann.\"\"\"\n",
    "    \n",
    "    def __init__(self):\n",
    "        \"\"\"Konstruktor\"\"\"\n",
    "        self.feld = None\n",
    "        \n",
    "    def berechne_zuege(self, brett):\n",
    "        \"\"\"Liefert eine Liste mit Feldern, welche alle Felder enthält, auf die sich die Figur ausgehend von ihrer \n",
    "        aktuellen Position in einem Zug bewegen kann. Muss von erbenden Klassen überschrieben werden!\"\"\"\n",
    "        pass"
   ]
  },
  {
   "cell_type": "code",
   "execution_count": null,
   "metadata": {
    "collapsed": false,
    "nbgrader": {
     "grade": false,
     "grade_id": "schach_sol_1",
     "locked": false,
     "solution": true
    },
    "scrolled": true
   },
   "outputs": [],
   "source": [
    "class Schachbrett:\n",
    "    ### BEGIN SOLUTION\n",
    "    \"\"\"Das Schachbrett, bestehend aus insgesamt 64 Feldern\"\"\"\n",
    "    \n",
    "    def __init__(self):\n",
    "        \"\"\"Konstruktor, in welchem ein 8x8-Schachbrett angelegt wird\"\"\"\n",
    "        self.felder = []\n",
    "        for i in range(1,9):\n",
    "            zeile = []\n",
    "            for j in range(1,9):\n",
    "                zeile.append(Feld((i,j)))\n",
    "            self.felder.append(zeile)\n",
    "        \n",
    "    def get_feld(self, x, y):\n",
    "        \"\"\"Liefert das Objekt der Klasse `Feld`, welches die übergebenen Koordinaten hat. Falls `x` oder `y` keine \n",
    "        korrekten Koordinaten sind (d.h. `not x in range(1,9)` oder `not y in range(1,9)`), dann soll ein `ValueError` \n",
    "        geworfen werden.\n",
    "        \n",
    "        Args:\n",
    "            x: x-Koordinate des gesuchten Feldes (int)\n",
    "            y: y-Koordinate des gesuchten Feldes (int)\n",
    "            \n",
    "        Returns:\n",
    "            Feld Das gesuchte Feld\n",
    "        \"\"\"\n",
    "        for zeile in self.felder:\n",
    "            for feld in zeile:\n",
    "                if feld.koordinaten[0] == x and feld.koordinaten[1] == y:\n",
    "                    return feld\n",
    "        raise ValueError()\n",
    "        \n",
    "    def setze_figur(self, figur, x, y):\n",
    "        \"\"\" Setzt die übergebene Figur auf das Feld mit den übergebenen Koordinaten, indem es eine bidirektionale Beziehung\n",
    "        zwischen der Figur und dem Feld herstellt.\n",
    "        \n",
    "        Args:\n",
    "            figur: Die Figur, welche auf das Feld gesetzt werden soll (Figur)\n",
    "            x: x-Koordinate des gesuchten Feldes (int)\n",
    "            y: y-Koordinate des gesuchten Feldes (int)\n",
    "        \"\"\"\n",
    "        try:\n",
    "            feld = self.get_feld(x,y)\n",
    "            feld.figur = figur\n",
    "            figur.feld = feld\n",
    "        except ValueError:\n",
    "            pass\n",
    "    ### END SOLUTION"
   ]
  },
  {
   "cell_type": "code",
   "execution_count": null,
   "metadata": {
    "collapsed": false,
    "nbgrader": {
     "grade": true,
     "grade_id": "schach_test_1",
     "locked": true,
     "points": 2,
     "solution": false
    }
   },
   "outputs": [],
   "source": [
    "# Diese Zelle bitte unverändert lassen!\n",
    "s = Schachbrett()\n",
    "for i in range(1,9):\n",
    "    for j in range(1,9):\n",
    "        feld = s.get_feld(i,j)\n",
    "        assert(feld.koordinaten[0] == i and feld.koordinaten[1] == j)\n",
    "\n",
    "# Tests falsche Koordinaten in get_feld:\n",
    "try:\n",
    "    s.get_feld(0,1)\n",
    "    assert(False)\n",
    "except ValueError:\n",
    "    assert(True)\n",
    "    \n",
    "k = Figur()\n",
    "s.setze_figur(k, 4, 5)\n",
    "assert(s.get_feld(4, 5).figur == k and k.feld == s.get_feld(4, 5))\n",
    "\n",
    "### HIDESTART\n",
    "s = Schachbrett()\n",
    "for i in range(1,9):\n",
    "    for j in range(1,9):\n",
    "        feld = s.get_feld(i,j)\n",
    "        assert(feld.koordinaten[0] == i and feld.koordinaten[1] == j)\n",
    "\n",
    "# Tests falsche Koordinaten in get_feld:\n",
    "try:\n",
    "    s.get_feld(1,9)\n",
    "    assert(False)\n",
    "except ValueError:\n",
    "    assert(True)\n",
    "    \n",
    "k = Figur()\n",
    "s.setze_figur(k, 2, 7)\n",
    "assert(s.get_feld(2, 7).figur == k and k.feld == s.get_feld(2, 7))\n",
    "### HIDEEND"
   ]
  },
  {
   "cell_type": "markdown",
   "metadata": {
    "nbgrader": {
     "grade": false,
     "grade_id": "schach_desc_2",
     "locked": true,
     "solution": false
    }
   },
   "source": [
    "## b)\n",
    "Schreiben Sie eine Klasse `Koenig`, welche von der Klasse `Figur` erbt.\n",
    "Diese Klassen sollen die Methode `berechne_zuege` der Klasse `Figur` überschreiben.\n",
    "Die Methode `berechne_zuege` soll eine Liste zurückgeben, welche alle Felder enthält, auf die sich der König ausgehend von seiner aktuellen Position in einem Zug bewegen kann.\n",
    "Gehen Sie davon aus, dass alle anderen 63 Felder nicht mit anderen Figuren belegt sind.\n",
    "Der König kann sich im Schach immer nur um ein Feld weiter bewegen, allerdings in jede beliebige Richtung: Nach Oben, Unten Links, Rechts oder in die Diagonalen (wir ignorieren hier die Möglichkeit der Rochade!).   \n",
    "Beispiel: Das nachfolgende Bild gibt die möglichen Züge des Königs an, wenn dieser sich auf dem Feld mit den Koordinaten (5,4) befindet.\n",
    " ![Imgur](http://groups.uni-paderborn.de/fg-ti/teaching/gp1/koenig.png)\n",
    "Beachten Sie Randfälle."
   ]
  },
  {
   "cell_type": "code",
   "execution_count": null,
   "metadata": {
    "collapsed": true,
    "nbgrader": {
     "grade": false,
     "grade_id": "schach_sol_2",
     "locked": false,
     "solution": true
    }
   },
   "outputs": [],
   "source": [
    "### BEGIN SOLUTION\n",
    "class Koenig(Figur):\n",
    "    \"\"\"Repräsentiert die Schachfigur des Königs\"\"\"\n",
    "    \n",
    "    def berechne_zuege(self, brett):\n",
    "        \"\"\"Berechnet alle möglichen Züge des Königs\"\"\"\n",
    "        l = []\n",
    "        indices = (self.feld.koordinaten[0], self.feld.koordinaten[1])\n",
    "\n",
    "        if indices[0] > 1:\n",
    "            f = brett.get_feld(indices[0]-1, indices[1])\n",
    "            l.append(f)\n",
    "        if indices[1] > 1:\n",
    "            f = brett.get_feld(indices[0], indices[1]-1)\n",
    "            l.append(f)\n",
    "        if indices[0] > 1 and indices[1] > 1:\n",
    "            f = brett.get_feld(indices[0]-1, indices[1]-1)\n",
    "            l.append(f)\n",
    "        if indices[0] < 8:\n",
    "            f = brett.get_feld(indices[0]+1, indices[1])\n",
    "            l.append(f)\n",
    "        if indices[1] < 8:\n",
    "            f = brett.get_feld(indices[0], indices[1]+1)\n",
    "            l.append(f)\n",
    "        if indices[0] < 8 and indices[1] < 8:\n",
    "            f = brett.get_feld(indices[0]+1, indices[1]+1)\n",
    "            l.append(f)\n",
    "        if indices[0] > 1 and indices[1] < 8:\n",
    "            f = brett.get_feld(indices[0]-1, indices[1]+1)\n",
    "            l.append(f)\n",
    "        if indices[0] < 8 and indices[1] > 1:\n",
    "            f = brett.get_feld(indices[0]+1, indices[1]-1)\n",
    "            l.append(f)\n",
    "        return l\n",
    "### END SOLUTION"
   ]
  },
  {
   "cell_type": "code",
   "execution_count": null,
   "metadata": {
    "collapsed": false,
    "nbgrader": {
     "grade": true,
     "grade_id": "schach_test_2",
     "locked": true,
     "points": 2,
     "solution": false
    }
   },
   "outputs": [],
   "source": [
    "# Diese Zelle bitte unverändert lassen!\n",
    "s = Schachbrett()\n",
    "k = Koenig()\n",
    "s.setze_figur(k, 5, 4)\n",
    "felder = k.berechne_zuege(s)\n",
    "assert(s.get_feld(5, 3) in felder)\n",
    "assert(s.get_feld(5, 5) in felder)\n",
    "assert(s.get_feld(6, 3) in felder)\n",
    "assert(s.get_feld(6, 4) in felder)\n",
    "assert(s.get_feld(6, 5) in felder)\n",
    "assert(s.get_feld(4, 4) in felder)\n",
    "assert(s.get_feld(4, 5) in felder)\n",
    "assert(s.get_feld(4, 3) in felder)\n",
    "assert(len(felder) == 8)\n",
    "\n",
    "### HIDESTART\n",
    "s = Schachbrett()\n",
    "k = Koenig()\n",
    "s.setze_figur(k, 1, 1)\n",
    "felder = k.berechne_zuege(s)\n",
    "assert(s.get_feld(2, 1) in felder)\n",
    "assert(s.get_feld(1, 2) in felder)\n",
    "assert(s.get_feld(2, 2) in felder)\n",
    "assert(len(felder) == 3)\n",
    "### HIDEEND"
   ]
  },
  {
   "cell_type": "markdown",
   "metadata": {
    "nbgrader": {
     "grade": false,
     "grade_id": "schach_desc_3",
     "locked": true,
     "solution": false
    }
   },
   "source": [
    "## c)\n",
    "Schreiben Sie eine weitere Klasse `Koenig_Advanced`, welche von der Klasse `Koenig` erbt und in der Methode `berechne_zuege` nun alle Felder zurückgibt, auf die der Koenig in einem Zug ziehen kann und welche zusätzlich NICHT belegt sind."
   ]
  },
  {
   "cell_type": "code",
   "execution_count": null,
   "metadata": {
    "collapsed": true,
    "nbgrader": {
     "grade": false,
     "grade_id": "schach_sol_3",
     "locked": false,
     "solution": true
    }
   },
   "outputs": [],
   "source": [
    "### BEGIN SOLUTION\n",
    "class Koenig_Advanced(Koenig):\n",
    "    \"\"\"Repräsentiert die Schachfigur des Königs\"\"\"\n",
    "    \n",
    "    def berechne_zuege(self, brett):\n",
    "        \"\"\"Berechnet alle möglichen Züge des Königs und liefert die Felder, welche nicht belegt sind.\"\"\"  \n",
    "        return [f for f in super().berechne_zuege(brett) if f.figur == None]\n",
    "### END SOLUTION"
   ]
  },
  {
   "cell_type": "code",
   "execution_count": null,
   "metadata": {
    "collapsed": false,
    "nbgrader": {
     "grade": true,
     "grade_id": "schach_test_3",
     "locked": true,
     "points": 2,
     "solution": false
    }
   },
   "outputs": [],
   "source": [
    "# Diese Zelle bitte unverändert lassen!\n",
    "s = Schachbrett()\n",
    "k = Koenig_Advanced()\n",
    "s.setze_figur(k, 5, 4)\n",
    "\n",
    "# Belege Felder:\n",
    "s.setze_figur(Figur(), 5, 5)\n",
    "s.setze_figur(Figur(), 6, 4)\n",
    "s.setze_figur(Figur(), 4, 5)\n",
    "s.setze_figur(Figur(), 4, 3)\n",
    "\n",
    "felder = k.berechne_zuege(s)\n",
    "assert(s.get_feld(5, 3) in felder)\n",
    "assert(not s.get_feld(5, 5) in felder)\n",
    "assert(s.get_feld(6, 3) in felder)\n",
    "assert(not s.get_feld(6, 4) in felder)\n",
    "assert(s.get_feld(6, 5) in felder)\n",
    "assert(s.get_feld(4, 4) in felder)\n",
    "assert(not s.get_feld(4, 5) in felder)\n",
    "assert(not s.get_feld(4, 3) in felder)\n",
    "assert(len(felder) == 4)\n",
    "\n",
    "### HIDESTART\n",
    "s = Schachbrett()\n",
    "k = Koenig_Advanced()\n",
    "s.setze_figur(k, 1, 1)\n",
    "\n",
    "# Belege Felder:\n",
    "s.setze_figur(Figur(), 1, 2)\n",
    "\n",
    "felder = k.berechne_zuege(s)\n",
    "assert(s.get_feld(2, 1) in felder)\n",
    "assert(not s.get_feld(1, 2) in felder)\n",
    "assert(s.get_feld(2, 2) in felder)\n",
    "assert(len(felder) == 2)\n",
    "### HIDEEND"
   ]
  },
  {
   "cell_type": "code",
   "execution_count": null,
   "metadata": {
    "collapsed": false,
    "nbgrader": {
     "grade": true,
     "grade_id": "docu_test",
     "locked": true,
     "points": 1,
     "solution": false
    },
    "slideshow": {
     "slide_type": "skip"
    }
   },
   "outputs": [],
   "source": [
    "# Diese Zelle bitte unverändert lassen!\n",
    "# Alle Dokumentationen vorhanden? \n",
    "\n",
    "# Aufgabe 1:\n",
    "assert(f.__doc__ != None)\n",
    "assert(g.__doc__ != None)\n",
    "assert(h.__doc__ != None)\n",
    "\n",
    "assert(verarbeite_eingabe.__doc__ != None)\n",
    "assert(BereichsError.__doc__ != None)\n",
    "\n",
    "# Aufgabe 2:\n",
    "assert(Uhr.__doc__ != None)\n",
    "assert(Uhr.__init__.__doc__ != None)\n",
    "assert(Uhr.get_minuten.__doc__ != None)\n",
    "assert(Uhr.get_stunden.__doc__ != None)\n",
    "assert(Uhr.set_minuten.__doc__ != None)\n",
    "assert(Uhr.set_stunden.__doc__ != None)\n",
    "assert(Uhr.tic.__doc__ != None)\n",
    "\n",
    "# Aufgabe 3:\n",
    "assert(Schachbrett.__doc__ != None)\n",
    "assert(Schachbrett.__init__.__doc__ != None)\n",
    "assert(Schachbrett.get_feld.__doc__ != None)\n",
    "assert(Schachbrett.setze_figur.__doc__ != None)\n",
    "\n",
    "assert(Koenig.__doc__ != None)\n",
    "assert(Koenig.berechne_zuege.__doc__ != None)\n",
    "assert(Koenig_Advanced.berechne_zuege.__doc__ != None)"
   ]
  }
 ],
 "metadata": {
  "anaconda-cloud": {},
  "celltoolbar": "Create Assignment",
  "kernelspec": {
   "display_name": "Python [default]",
   "language": "python",
   "name": "python3"
  },
  "language_info": {
   "codemirror_mode": {
    "name": "ipython",
    "version": 3
   },
   "file_extension": ".py",
   "mimetype": "text/x-python",
   "name": "python",
   "nbconvert_exporter": "python",
   "pygments_lexer": "ipython3",
   "version": "3.5.2"
  }
 },
 "nbformat": 4,
 "nbformat_minor": 1
}
