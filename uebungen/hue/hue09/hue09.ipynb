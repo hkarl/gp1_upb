{
 "cells": [
  {
   "cell_type": "markdown",
   "metadata": {
    "nbgrader": {
     "grade": true,
     "grade_id": "matrikel",
     "locked": false,
     "points": 0,
     "solution": true
    },
    "slideshow": {
     "slide_type": "skip"
    }
   },
   "source": [
    "Bitte hier eintragen (s.u)!"
   ]
  },
  {
   "cell_type": "markdown",
   "metadata": {
    "nbgrader": {
     "grade": false,
     "grade_id": "matrikel_info",
     "locked": true,
     "solution": false
    },
    "slideshow": {
     "slide_type": "skip"
    }
   },
   "source": [
    "# Abgabehinweise \n",
    "\n",
    "Beachten Sie unbedingt diese Hinweise, sonst erhalten Sie keine Punkte aus dieser Abgabe! Für Details siehe z.B. [Folien der nullten Zentralübung](http://groups.uni-paderborn.de/fg-karl/lehre/ws1617/gp1/hue/gp1-zue0.pdf)\n",
    "\n",
    "## Namen und Matrikelnummern \n",
    "\n",
    "Tragen Sie Ihre Matrikelnummern und E-Mail-Adressen *zeilenweise* in die Zelle **oberhalb** dieser Zelle ein.\n",
    "Achten Sie dabei streng auf die Formatierung, denn die Auswertung erfolgt automatisch. \n",
    "Benutzen Sie *keine* Leerzeilen.\n",
    "Zwischen Matrikelnummer und E-Mail-Adresse *muss genau ein* Leerzeichen stehen; sonst keine Leerzeichen, Tabs, Spiegelstriche, oder ähnliches in einer Zeile. Wir empfehlen *dringend* die Benutzung der Uni-Paderborn E-Mail-Adressen! \n",
    "\n",
    "Format:\n",
    "\n",
    "MatrikelNummer E-Mail-Adresse\n",
    "MatrikelNummer2 E-Mail-Adresse2\n",
    "\n",
    "z.B.:\n",
    "\n",
    "123456 testStudent@mail.upb.de\n",
    "234567 testStudent2@mail.upb.de\n",
    "345678 vorname.nachname@mail.upb.de\n",
    "\n",
    "Hinweis: Das sieht nicht nach separaten Zeilen aus, wenn Sie die Markdownzelle anzeigen lassen. Das ist egal; wichtig ist Formatierung der Eingabe.\n",
    "\n",
    "\n",
    "## Abgabe mit Gruppenaccount \n",
    "\n",
    "Die Abgabe muss mit Ihrem *Gruppenaccount* erfolgen (gp1\\_16\\_...), den Sie in der Präsenzübung erhalten haben! Abgaben, die über Ihren Einzelaccount erfolgen, werden ignoriert. \n",
    "\n",
    "## Abgabe: Submit \n",
    "\n",
    "Es reicht nicht, nur das Übungsblatt zu verändern. Sie müssen unter *Assignments* auf *Submit* clicken (oder entsprechend über die Kommandozeile), für das entsprechende Übungsblatt! (Wenn Sie Blatt 9 abgeben wolllen hilft es nicht, bei Blatt 1 auf Submit zu drücken!) Für Details siehe Beschreibung Abgabeprozess. \n",
    "\n",
    "## Dateinamen\n",
    "\n",
    "Geben Sie Ihre Lösung in der vom Server erhaltenen Datei hue09.ipynb ab (nicht umbenennen, keine Kopie erstellen, keine anderen Dateien in das Verzeichnis legen, auch nicht Dateiname hue9.ipynb !). Sonst kann eine Bewertung nicht stattfinden.\n",
    "\n",
    "## Struktur des Notebooks \n",
    "\n",
    "Fügen Sie keine Zellen hinzu und löschen Sie keine Zellen.\n",
    "Ändern Sie nicht den Typ einer Zelle.\n",
    "Geben Sie Lösungen nur in den Lösungszellen ab. Änderungen in den anderen Zellen werden nach Abgabe automatisch rückgängig gemacht.\n",
    "\n",
    "## Code-Zellen \n",
    "\n",
    "Entfernen Sie die Zeilen mit Inhalt \"raise NotImplementedError()\" aus den Zellen, in die Sie Ihre Lösungen schreiben. *Ersetzen* Sie diese Zeilen durch Ihre eigene Lösungen. \n",
    "\n",
    "## Nie ```input```\n",
    "\n",
    "Benutzen Sie *niemals* die Funktion `input()`. Das verhindert die automatische Auswertung Ihrer Abgabe und führt zu 0 Punkten für das gesamte Blatt! \n",
    "\n",
    "## Kommentare \n",
    "\n",
    "Kommentieren Sie Code-Abgaben! Insbesondere *muss* jede Funktion (Klasse, Methode, ...) einen ```docstring``` haben! Bei fehlendem docstring werden automatisch Punkte abgezogen! \n",
    "\n",
    "\n",
    "# Abgabetermin: 15.1.2017 um 23:59 Uhr"
   ]
  },
  {
   "cell_type": "markdown",
   "metadata": {
    "nbgrader": {
     "grade": false,
     "grade_id": "schach_desc",
     "locked": true,
     "solution": false
    },
    "slideshow": {
     "slide_type": "slide"
    }
   },
   "source": [
    "# Aufgabe 2: Schach\n",
    "In dieser Aufgabe sollen Sie eine einfache Version eines Schachspiels implementieren.\n",
    "Die Klassen `Feld` und `Figur` sind Ihnen dazu bereits vorgegeben.\n",
    "\n",
    "## a)\n",
    "Schreiben Sie eine Klasse `Schachbrett`, welche die folgenden Anforderungen erfüllt:\n",
    " - Im Konstruktor soll ein Spielfeld aus 64 Feldern (8x8, 8 Zeilen und 8 Spalten, siehe Bild, siehe Tests) anlegt werden.\n",
    " ![text](schachbrett.gif)\n",
    "\n",
    " - `get_feld(x,y)`: Liefert das Objekt der Klasse `Feld`, welches die übergebenen Koordinaten hat. Falls `x` oder `y` keine korrekten Koordinaten sind (d.h. `not x in range(1,9)` oder `not y in range(1,9)`), dann soll ein `ValueError` geworfen werden.\n",
    " - `setze_figur(figur, x, y)`: Setzt die übergebene Figur auf das Feld mit den übergebenen Koordinaten. Sie können davon ausgehen, dass das Feld nicht besetzt ist und die Figur vorher auf keinem Feld gestanden hat. Beachten Sie, dass die Beziehung zwischen `Feld` und `Figur` bidirektional sein soll (siehe Tests)."
   ]
  },
  {
   "cell_type": "code",
   "execution_count": null,
   "metadata": {
    "collapsed": false,
    "nbgrader": {
     "grade": false,
     "grade_id": "schach_code",
     "locked": true,
     "solution": false
    },
    "slideshow": {
     "slide_type": "fragment"
    }
   },
   "outputs": [],
   "source": [
    "class Feld:\n",
    "    \"\"\"Ein einzelnes Feld eines Schachbretts\"\"\"\n",
    "    \n",
    "    def __init__(self, koordinaten):\n",
    "        \"\"\"Konstruktor\"\"\"\n",
    "        self.koordinaten = koordinaten\n",
    "        self.figur = None\n",
    "    \n",
    "    def __eq__(self, feld):\n",
    "        \"\"\"Zum Vergleich mit anderem Feld\"\"\"\n",
    "        return feld.koordinaten[0] == self.koordinaten[0] and feld.koordinaten[1] == self.koordinaten[1]\n",
    "    \n",
    "class Figur:\n",
    "    \"\"\"Eine Figur, welche auf einem Feld des Schachbrettes stehen kann.\"\"\"\n",
    "    \n",
    "    def __init__(self):\n",
    "        \"\"\"Konstruktor\"\"\"\n",
    "        self.feld = None\n",
    "        \n",
    "    def berechne_zuege(self, brett):\n",
    "        \"\"\"Liefert eine Liste mit Feldern, welche alle Felder enthält, auf die sich die Figur ausgehend von ihrer \n",
    "        aktuellen Position in einem Zug bewegen kann. Muss von erbenden Klassen überschrieben werden!\"\"\"\n",
    "        pass"
   ]
  },
  {
   "cell_type": "code",
   "execution_count": null,
   "metadata": {
    "collapsed": false,
    "nbgrader": {
     "grade": false,
     "grade_id": "schach_sol_1",
     "locked": false,
     "solution": true
    },
    "scrolled": true
   },
   "outputs": [],
   "source": [
    "class Schachbrett:\n",
    "    ### BEGIN SOLUTION\n",
    "    \"\"\"Das Schachbrett, bestehend aus insgesamt 64 Feldern\"\"\"\n",
    "    \n",
    "    def __init__(self):\n",
    "        \"\"\"Konstruktor, in welchem ein 8x8-Schachbrett angelegt wird\"\"\"\n",
    "        self.felder = []\n",
    "        for i in range(1,9):\n",
    "            zeile = []\n",
    "            for j in range(1,9):\n",
    "                zeile.append(Feld((i,j)))\n",
    "            self.felder.append(zeile)\n",
    "        \n",
    "    def get_feld(self, x, y):\n",
    "        \"\"\"Liefert das Objekt der Klasse `Feld`, welches die übergebenen Koordinaten hat. Falls `x` oder `y` keine \n",
    "        korrekten Koordinaten sind (d.h. `not x in range(1,9)` oder `not y in range(1,9)`), dann soll ein `ValueError` \n",
    "        geworfen werden.\n",
    "        \n",
    "        Args:\n",
    "            x: x-Koordinate des gesuchten Feldes (int)\n",
    "            y: y-Koordinate des gesuchten Feldes (int)\n",
    "            \n",
    "        Returns:\n",
    "            Feld Das gesuchte Feld\n",
    "        \"\"\"\n",
    "        for zeile in self.felder:\n",
    "            for feld in zeile:\n",
    "                if feld.koordinaten[0] == x and feld.koordinaten[1] == y:\n",
    "                    return feld\n",
    "        raise ValueError()\n",
    "        \n",
    "    def setze_figur(self, figur, x, y):\n",
    "        \"\"\" Setzt die übergebene Figur auf das Feld mit den übergebenen Koordinaten, indem es eine bidirektionale Beziehung\n",
    "        zwischen der Figur und dem Feld herstellt.\n",
    "        \n",
    "        Args:\n",
    "            figur: Die Figur, welche auf das Feld gesetzt werden soll (Figur)\n",
    "            x: x-Koordinate des gesuchten Feldes (int)\n",
    "            y: y-Koordinate des gesuchten Feldes (int)\n",
    "        \"\"\"\n",
    "        try:\n",
    "            feld = self.get_feld(x,y)\n",
    "            feld.figur = figur\n",
    "            figur.feld = feld\n",
    "        except ValueError:\n",
    "            pass\n",
    "    ### END SOLUTION"
   ]
  },
  {
   "cell_type": "code",
   "execution_count": null,
   "metadata": {
    "collapsed": false,
    "nbgrader": {
     "grade": true,
     "grade_id": "schach_test_1",
     "locked": true,
     "points": 2,
     "solution": false
    }
   },
   "outputs": [],
   "source": [
    "# Diese Zelle bitte unverändert lassen!\n",
    "s = Schachbrett()\n",
    "for i in range(1,9):\n",
    "    for j in range(1,9):\n",
    "        feld = s.get_feld(i,j)\n",
    "        assert(feld.koordinaten[0] == i and feld.koordinaten[1] == j)\n",
    "\n",
    "# Tests falsche Koordinaten in get_feld:\n",
    "try:\n",
    "    s.get_feld(0,1)\n",
    "    assert(False)\n",
    "except ValueError:\n",
    "    assert(True)\n",
    "    \n",
    "k = Figur()\n",
    "s.setze_figur(k, 4, 5)\n",
    "assert(s.get_feld(4, 5).figur == k and k.feld == s.get_feld(4, 5))\n",
    "\n",
    "### HIDESTART\n",
    "s = Schachbrett()\n",
    "for i in range(1,9):\n",
    "    for j in range(1,9):\n",
    "        feld = s.get_feld(i,j)\n",
    "        assert(feld.koordinaten[0] == i and feld.koordinaten[1] == j)\n",
    "\n",
    "# Tests falsche Koordinaten in get_feld:\n",
    "try:\n",
    "    s.get_feld(1,9)\n",
    "    assert(False)\n",
    "except ValueError:\n",
    "    assert(True)\n",
    "    \n",
    "k = Figur()\n",
    "s.setze_figur(k, 2, 7)\n",
    "assert(s.get_feld(2, 7).figur == k and k.feld == s.get_feld(2, 7))\n",
    "### HIDEEND"
   ]
  },
  {
   "cell_type": "markdown",
   "metadata": {
    "nbgrader": {
     "grade": false,
     "grade_id": "schach_desc_2",
     "locked": true,
     "solution": false
    }
   },
   "source": [
    "## b)\n",
    "Schreiben Sie eine Klasse `Koenig`, welche von der Klasse `Figur` erbt.\n",
    "Diese Klassen sollen die Methode `berechne_zuege` der Klasse `Figur` überschreiben.\n",
    "Die Methode `berechne_zuege` soll eine Liste zurückgeben, welche alle Felder enthält, auf die sich der König ausgehend von seiner aktuellen Position in einem Zug bewegen kann.\n",
    "Gehen Sie davon aus, dass alle anderen 63 Felder nicht mit anderen Figuren belegt sind.\n",
    "Der König kann sich im Schach immer nur um ein Feld weiter bewegen, allerdings in jede beliebige Richtung: Nach Oben, Unten Links, Rechts oder in die Diagonalen (wir ignorieren hier die Möglichkeit der Rochade!).   \n",
    "Beispiel: Das nachfolgende Bild gibt die möglichen Züge des Königs an, wenn dieser sich auf dem Feld mit den Koordinaten (5,4) befindet.\n",
    " ![text](koenig.png)\n",
    "Beachten Sie Randfälle."
   ]
  },
  {
   "cell_type": "code",
   "execution_count": null,
   "metadata": {
    "collapsed": true,
    "nbgrader": {
     "grade": false,
     "grade_id": "schach_sol_2",
     "locked": false,
     "solution": true
    }
   },
   "outputs": [],
   "source": [
    "### BEGIN SOLUTION\n",
    "class Koenig(Figur):\n",
    "    \"\"\"Repräsentiert die Schachfigur des Königs\"\"\"\n",
    "    \n",
    "    def berechne_zuege(self, brett):\n",
    "        \"\"\"Berechnet alle möglichen Züge des Königs\"\"\"\n",
    "        l = []\n",
    "        indices = (self.feld.koordinaten[0], self.feld.koordinaten[1])\n",
    "\n",
    "        if indices[0] > 1:\n",
    "            f = brett.get_feld(indices[0]-1, indices[1])\n",
    "            l.append(f)\n",
    "        if indices[1] > 1:\n",
    "            f = brett.get_feld(indices[0], indices[1]-1)\n",
    "            l.append(f)\n",
    "        if indices[0] > 1 and indices[1] > 1:\n",
    "            f = brett.get_feld(indices[0]-1, indices[1]-1)\n",
    "            l.append(f)\n",
    "        if indices[0] < 8:\n",
    "            f = brett.get_feld(indices[0]+1, indices[1])\n",
    "            l.append(f)\n",
    "        if indices[1] < 8:\n",
    "            f = brett.get_feld(indices[0], indices[1]+1)\n",
    "            l.append(f)\n",
    "        if indices[0] < 8 and indices[1] < 8:\n",
    "            f = brett.get_feld(indices[0]+1, indices[1]+1)\n",
    "            l.append(f)\n",
    "        if indices[0] > 1 and indices[1] < 8:\n",
    "            f = brett.get_feld(indices[0]-1, indices[1]+1)\n",
    "            l.append(f)\n",
    "        if indices[0] < 8 and indices[1] > 1:\n",
    "            f = brett.get_feld(indices[0]+1, indices[1]-1)\n",
    "            l.append(f)\n",
    "        return l\n",
    "### END SOLUTION"
   ]
  },
  {
   "cell_type": "code",
   "execution_count": null,
   "metadata": {
    "collapsed": false,
    "nbgrader": {
     "grade": true,
     "grade_id": "schach_test_2",
     "locked": true,
     "points": 2,
     "solution": false
    }
   },
   "outputs": [],
   "source": [
    "# Diese Zelle bitte unverändert lassen!\n",
    "s = Schachbrett()\n",
    "k = Koenig()\n",
    "s.setze_figur(k, 5, 4)\n",
    "felder = k.berechne_zuege(s)\n",
    "assert(s.get_feld(5, 3) in felder)\n",
    "assert(s.get_feld(5, 5) in felder)\n",
    "assert(s.get_feld(6, 3) in felder)\n",
    "assert(s.get_feld(6, 4) in felder)\n",
    "assert(s.get_feld(6, 5) in felder)\n",
    "assert(s.get_feld(4, 4) in felder)\n",
    "assert(s.get_feld(4, 5) in felder)\n",
    "assert(s.get_feld(4, 3) in felder)\n",
    "assert(len(felder) == 8)\n",
    "\n",
    "### HIDESTART\n",
    "s = Schachbrett()\n",
    "k = Koenig()\n",
    "s.setze_figur(k, 1, 1)\n",
    "felder = k.berechne_zuege(s)\n",
    "assert(s.get_feld(2, 1) in felder)\n",
    "assert(s.get_feld(1, 2) in felder)\n",
    "assert(s.get_feld(2, 2) in felder)\n",
    "assert(len(felder) == 3)\n",
    "### HIDEEND"
   ]
  },
  {
   "cell_type": "markdown",
   "metadata": {
    "nbgrader": {
     "grade": false,
     "grade_id": "schach_desc_3",
     "locked": true,
     "solution": false
    }
   },
   "source": [
    "## c)\n",
    "Analog zu Teilaufgabe b: Schreiben Sie nun eine Klasse `Turm`, die von `Figur` erbt und in `berechne_zuege` jeweils alle möglichen Felder, auf die sich der Turm ausgehend von seiner aktuellen Position in einem Zug bewegen kann, zurückgibt.\n",
    "Gehen Sie davon aus, dass alle anderen 63 Felder nicht mit anderen Figuren belegt sind.\n",
    "Ein Turm kann sich im Schach immer nur in waagerechte oder senkrechte Richtung bewegen, allerdings um beliebig viele Felder.   \n",
    "Beispiel: Das nachfolgende Bild gibt die möglichen Züge des Turms an, wenn dieser sich auf dem Feld mit den Koordinaten (5,4) befindet.\n",
    "![text](turm.png)\n",
    "\n",
    "Achten Sie auch hier auf Randfälle."
   ]
  },
  {
   "cell_type": "code",
   "execution_count": null,
   "metadata": {
    "collapsed": true,
    "nbgrader": {
     "grade": false,
     "grade_id": "schach_sol_3",
     "locked": false,
     "solution": true
    }
   },
   "outputs": [],
   "source": [
    "### BEGIN SOLUTION\n",
    "class Turm(Figur):\n",
    "    \"\"\"Repräsentiert die Schachfigur des Turms\"\"\"\n",
    "    \n",
    "    def berechne_zuege(self, brett):\n",
    "        \"\"\"Berechnet alle möglichen Züge des Turms\"\"\"\n",
    "        l = []\n",
    "        indices = (self.feld.koordinaten[0], self.feld.koordinaten[1])\n",
    "        x = indices[0]\n",
    "        y = indices[1]\n",
    "        \n",
    "        while x > 1:\n",
    "            x = x - 1\n",
    "            l.append(brett.get_feld(x,y))\n",
    "        x = indices[0]\n",
    "        \n",
    "        while x < 8:\n",
    "            x = x + 1\n",
    "            l.append(brett.get_feld(x,y))\n",
    "        x = indices[0]\n",
    "        \n",
    "        while y > 1:\n",
    "            y = y - 1\n",
    "            l.append(brett.get_feld(x,y))\n",
    "        y = indices[1]\n",
    "        \n",
    "        while y < 8:\n",
    "            y = y + 1\n",
    "            l.append(brett.get_feld(x,y))\n",
    "        \n",
    "        return l\n",
    "### END SOLUTION"
   ]
  },
  {
   "cell_type": "code",
   "execution_count": null,
   "metadata": {
    "collapsed": false,
    "nbgrader": {
     "grade": true,
     "grade_id": "schach_test_3",
     "locked": true,
     "points": 2,
     "solution": false
    }
   },
   "outputs": [],
   "source": [
    "# Diese Zelle bitte unverändert lassen!\n",
    "s = Schachbrett()\n",
    "t = Turm()\n",
    "s.setze_figur(t, 4, 5)\n",
    "felder = t.berechne_zuege(s)\n",
    "assert(s.get_feld(1, 5) in felder)\n",
    "assert(s.get_feld(2, 5) in felder)\n",
    "assert(s.get_feld(3, 5) in felder)\n",
    "assert(s.get_feld(5, 5) in felder)\n",
    "assert(s.get_feld(6, 5) in felder)\n",
    "assert(s.get_feld(7, 5) in felder)\n",
    "assert(s.get_feld(8, 5) in felder)\n",
    "assert(s.get_feld(4, 1) in felder)\n",
    "assert(s.get_feld(4, 2) in felder)\n",
    "assert(s.get_feld(4, 3) in felder)\n",
    "assert(s.get_feld(4, 4) in felder)\n",
    "assert(s.get_feld(4, 6) in felder)\n",
    "assert(s.get_feld(4, 7) in felder)\n",
    "assert(s.get_feld(4, 8) in felder)\n",
    "assert(len(felder) == 14)\n",
    "\n",
    "### HIDESTART\n",
    "s = Schachbrett()\n",
    "t = Turm()\n",
    "s.setze_figur(t, 1, 1)\n",
    "felder = t.berechne_zuege(s)\n",
    "assert(s.get_feld(2, 1) in felder)\n",
    "assert(s.get_feld(3, 1) in felder)\n",
    "assert(s.get_feld(4, 1) in felder)\n",
    "assert(s.get_feld(5, 1) in felder)\n",
    "assert(s.get_feld(6, 1) in felder)\n",
    "assert(s.get_feld(7, 1) in felder)\n",
    "assert(s.get_feld(8, 1) in felder)\n",
    "assert(s.get_feld(1, 2) in felder)\n",
    "assert(s.get_feld(1, 3) in felder)\n",
    "assert(s.get_feld(1, 4) in felder)\n",
    "assert(s.get_feld(1, 5) in felder)\n",
    "assert(s.get_feld(1, 6) in felder)\n",
    "assert(s.get_feld(1, 7) in felder)\n",
    "assert(s.get_feld(1, 8) in felder)\n",
    "assert(len(felder) == 14)\n",
    "### HIDEEND"
   ]
  },
  {
   "cell_type": "code",
   "execution_count": null,
   "metadata": {
    "collapsed": false,
    "nbgrader": {
     "grade": true,
     "grade_id": "docu_test",
     "locked": true,
     "points": 1,
     "solution": false
    },
    "slideshow": {
     "slide_type": "skip"
    }
   },
   "outputs": [],
   "source": [
    "# Diese Zelle bitte unverändert lassen!\n",
    "# Alle Dokumentationen vorhanden? \n",
    "\n",
    "# Aufgabe 2:\n",
    "assert(Schachbrett.__doc__ != None)\n",
    "assert(Schachbrett.__init__.__doc__ != None)\n",
    "assert(Schachbrett.get_feld.__doc__ != None)\n",
    "assert(Schachbrett.setze_figur.__doc__ != None)\n",
    "\n",
    "assert(Koenig.__doc__ != None)\n",
    "assert(Koenig.berechne_zuege.__doc__ != None)"
   ]
  }
 ],
 "metadata": {
  "anaconda-cloud": {},
  "celltoolbar": "Create Assignment",
  "kernelspec": {
   "display_name": "Python [default]",
   "language": "python",
   "name": "python3"
  },
  "language_info": {
   "codemirror_mode": {
    "name": "ipython",
    "version": 3
   },
   "file_extension": ".py",
   "mimetype": "text/x-python",
   "name": "python",
   "nbconvert_exporter": "python",
   "pygments_lexer": "ipython3",
   "version": "3.5.2"
  }
 },
 "nbformat": 4,
 "nbformat_minor": 1
}
