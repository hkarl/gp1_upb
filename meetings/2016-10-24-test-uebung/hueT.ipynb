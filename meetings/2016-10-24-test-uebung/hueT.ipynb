{
 "cells": [
  {
   "cell_type": "markdown",
   "metadata": {
    "nbgrader": {
     "grade": true,
     "grade_id": "matrikel",
     "locked": false,
     "solution": true
    }
   },
   "source": []
  },
  {
   "cell_type": "markdown",
   "metadata": {
    "nbgrader": {
     "grade": false,
     "grade_id": "matrikel_info",
     "locked": true,
     "solution": false
    }
   },
   "source": [
    "Bitte tragen Sie Ihre Matrikelnummern und E-Mail-Adressen *zeilenweise* in der *obige* Zelle ein. \n",
    "Achten Sie dabei streng auf die Formatierung, denn die Auswertung erfolgt automatisch. \n",
    "Benutzen Sie *keine* Leerzeilen.\n",
    "Nur zwischen Matrikelnummer und E-Mail-Adresse darf ein Leerzeichen stehen.\n",
    "\n",
    "Format:\n",
    "\n",
    "MatrikelNummer E-Mail-Adresse\n",
    "\n",
    "z.B.:\n",
    "\n",
    "123456 testStudent@mail.upb.de"
   ]
  },
  {
   "cell_type": "markdown",
   "metadata": {
    "nbgrader": {
     "grade": false,
     "grade_id": "1",
     "locked": true,
     "points": 6,
     "solution": false
    }
   },
   "source": [
    "## Aufgabe 1: Boolesche Variablen und Vergleiche\n",
    "\n",
    "\n",
    "a) (2 Punkte) Die Variablen $a$, $b$ und $c$ sind boolesche Variablen unbekannter Belegung. Verkürzen Sie folgende boolesche Ausdrücke so weit wie möglich und geben Sie die Zwischenschritte an: \n",
    "  \n",
    "```Python\n",
    "( (True | a ) and ( False | b) )  \n",
    "( (a | b ) | ( False | b) )  \n",
    "(a | b) and (a | c)\n",
    "(a and (a | b)) and True\n",
    "a and b | b and c and (b | c)\n",
    "```\n",
    "\n",
    "\n"
   ]
  },
  {
   "cell_type": "markdown",
   "metadata": {
    "nbgrader": {
     "grade": true,
     "grade_id": "2",
     "locked": false,
     "points": 2,
     "solution": true
    }
   },
   "source": []
  },
  {
   "cell_type": "markdown",
   "metadata": {
    "nbgrader": {
     "grade": false,
     "grade_id": "13",
     "locked": true,
     "solution": false
    }
   },
   "source": [
    "## Aufgabe 2:  Mathematische Operationen\n",
    "\n",
    "Mit Python kann man mathematische Ausdrücke auswerten lassen. Das wird durch die folgenden mathematischen Operatoren: `+, -, *, /,` Potenz (`**`) und Modulo (`%`) unterstützt. \n",
    "\n",
    "a) (2 Punkte) Berechnen sie das Produkt von `a` und `b` und geben sie das Ergebnis aus.\n",
    "```Python \n",
    "a = 20\n",
    "b = 66974\n",
    "```"
   ]
  },
  {
   "cell_type": "code",
   "execution_count": null,
   "metadata": {
    "collapsed": true,
    "nbgrader": {
     "grade": true,
     "grade_id": "14",
     "locked": false,
     "points": 2,
     "solution": true
    }
   },
   "outputs": [],
   "source": []
  },
  {
   "cell_type": "markdown",
   "metadata": {
    "nbgrader": {
     "grade": false,
     "grade_id": "3b",
     "locked": true,
     "solution": false
    }
   },
   "source": [
    "# Aufgabe 3\n",
    "(6 Punkte) Schreiben Sie eine Funktion ```gesamtvermoegen(zinssatz, vermoegen, jahre)```, welches das Gesamtvermögen nach ```jahre``` Jahren bei einem Startkapital von ```vermoegen``` Euro und einem Zinssatz von ```zinssatz``` % berechnet. \n",
    "Das Gesamtvermögen kann man mit folgender Formel ausrechnen: \n",
    "$$K \\left(1 + \\frac{p}{100} \\right)^n, $$ wobei $K$ das Startkapital, $n$ die Anzahl der Jahre und $p$ den Zinssatz in Prozent bezeichnen. "
   ]
  },
  {
   "cell_type": "code",
   "execution_count": 9,
   "metadata": {
    "collapsed": true,
    "nbgrader": {
     "grade": false,
     "grade_id": "15",
     "locked": false,
     "points": 2,
     "solution": true
    }
   },
   "outputs": [],
   "source": [
    "def gesamtvermoegen (p, k, n):\n",
    "    return k * (1 + p / 100)**n"
   ]
  },
  {
   "cell_type": "code",
   "execution_count": 7,
   "metadata": {
    "collapsed": false,
    "nbgrader": {
     "grade": true,
     "grade_id": "15b",
     "locked": true,
     "points": 1,
     "solution": false
    }
   },
   "outputs": [
    {
     "name": "stdout",
     "output_type": "stream",
     "text": [
      "1157.6250000000002\n"
     ]
    }
   ],
   "source": [
    "assert(round(gesamtvermoegen(5, 1000, 3), 3) == 1157.625)"
   ]
  },
  {
   "cell_type": "code",
   "execution_count": 14,
   "metadata": {
    "collapsed": false,
    "nbgrader": {
     "grade": true,
     "grade_id": "15c",
     "locked": true,
     "points": 5,
     "solution": false
    }
   },
   "outputs": [],
   "source": [
    "### HIDESTART\n",
    "for p,k,n in zip([1, 5,10,15],[500,1000,2000,100000],[1,2,5,100]):\n",
    "    assert(round(gesamtvermoegen(p, k, n), 5) == round(k * (1 + p / 100)**n, 5))\n",
    "### HIDEEND"
   ]
  }
 ],
 "metadata": {
  "anaconda-cloud": {},
  "celltoolbar": "Create Assignment",
  "kernelspec": {
   "display_name": "Python [Root]",
   "language": "python",
   "name": "Python [Root]"
  },
  "language_info": {
   "codemirror_mode": {
    "name": "ipython",
    "version": 3
   },
   "file_extension": ".py",
   "mimetype": "text/x-python",
   "name": "python",
   "nbconvert_exporter": "python",
   "pygments_lexer": "ipython3",
   "version": "3.5.2"
  }
 },
 "nbformat": 4,
 "nbformat_minor": 1
}
